{
 "metadata": {
  "name": "multilabel_scene"
 },
 "nbformat": 3,
 "nbformat_minor": 0,
 "worksheets": [
  {
   "cells": [
    {
     "cell_type": "code",
     "collapsed": false,
     "input": [
      "from sklearn.datasets import load_svmlight_file"
     ],
     "language": "python",
     "metadata": {},
     "outputs": [],
     "prompt_number": 1
    },
    {
     "cell_type": "code",
     "collapsed": false,
     "input": [
      "X_train, y_train = load_svmlight_file(\"scene_train\", multilabel=True)\n",
      "X_test, y_test = load_svmlight_file(\"scene_test\", multilabel=True)"
     ],
     "language": "python",
     "metadata": {},
     "outputs": [],
     "prompt_number": 5
    },
    {
     "cell_type": "code",
     "collapsed": false,
     "input": [
      "X_train.shape"
     ],
     "language": "python",
     "metadata": {},
     "outputs": [
      {
       "output_type": "pyout",
       "prompt_number": 6,
       "text": [
        "(1211, 294)"
       ]
      }
     ],
     "prompt_number": 6
    },
    {
     "cell_type": "code",
     "collapsed": false,
     "input": [
      "X_test.shape"
     ],
     "language": "python",
     "metadata": {},
     "outputs": [
      {
       "output_type": "pyout",
       "prompt_number": 7,
       "text": [
        "(1196, 294)"
       ]
      }
     ],
     "prompt_number": 7
    },
    {
     "cell_type": "code",
     "collapsed": false,
     "input": [
      "from sklearn.grid_search import GridSearchCV\n",
      "from sklearn.svm import LinearSVC\n",
      "from sklearn.multiclass import OneVsRestClassifier\n",
      "from sklearn.metrics import hamming_loss"
     ],
     "language": "python",
     "metadata": {},
     "outputs": [],
     "prompt_number": 11
    },
    {
     "cell_type": "code",
     "collapsed": false,
     "input": [
      "clf = OneVsRestClassifier(LinearSVC())"
     ],
     "language": "python",
     "metadata": {},
     "outputs": [],
     "prompt_number": 12
    },
    {
     "cell_type": "code",
     "collapsed": false,
     "input": [
      "from sklearn.preprocessing import LabelBinarizer"
     ],
     "language": "python",
     "metadata": {},
     "outputs": [],
     "prompt_number": 18
    },
    {
     "cell_type": "code",
     "collapsed": false,
     "input": [
      "lb = LabelBinarizer()"
     ],
     "language": "python",
     "metadata": {},
     "outputs": [],
     "prompt_number": 20
    },
    {
     "cell_type": "code",
     "collapsed": false,
     "input": [
      "y_train = lb.fit_transform(y_train)\n",
      "y_test = lb.transform(y_test)"
     ],
     "language": "python",
     "metadata": {},
     "outputs": [],
     "prompt_number": 22
    },
    {
     "cell_type": "code",
     "collapsed": false,
     "input": [
      "y_train.mean(axis=0)"
     ],
     "language": "python",
     "metadata": {},
     "outputs": [
      {
       "output_type": "pyout",
       "prompt_number": 23,
       "text": [
        "array([ 0.18744839,  0.13625103,  0.16267547,  0.16184971,  0.22873658,\n",
        "        0.1849711 ])"
       ]
      }
     ],
     "prompt_number": 23
    },
    {
     "cell_type": "code",
     "collapsed": false,
     "input": [
      "y_test.mean(axis=0)"
     ],
     "language": "python",
     "metadata": {},
     "outputs": [
      {
       "output_type": "pyout",
       "prompt_number": 24,
       "text": [
        "array([ 0.16722408,  0.16638796,  0.16722408,  0.19816054,  0.21404682,\n",
        "        0.17307692])"
       ]
      }
     ],
     "prompt_number": 24
    },
    {
     "cell_type": "code",
     "collapsed": false,
     "input": [
      "X_train = X_train.toarray()"
     ],
     "language": "python",
     "metadata": {},
     "outputs": [],
     "prompt_number": 31
    },
    {
     "cell_type": "code",
     "collapsed": false,
     "input": [
      "clf.fit(X_train, y_train)"
     ],
     "language": "python",
     "metadata": {},
     "outputs": [
      {
       "output_type": "pyout",
       "prompt_number": 38,
       "text": [
        "OneVsRestClassifier(estimator=LinearSVC(C=1.0, class_weight=None, dual=True, fit_intercept=True,\n",
        "     intercept_scaling=1, loss='l2', multi_class='ovr', penalty='l2',\n",
        "     random_state=None, tol=0.0001, verbose=0),\n",
        "          n_jobs=1)"
       ]
      }
     ],
     "prompt_number": 38
    },
    {
     "cell_type": "code",
     "collapsed": false,
     "input": [
      "hamming_loss(y_train, clf.predict(X_train))"
     ],
     "language": "python",
     "metadata": {},
     "outputs": [
      {
       "output_type": "pyout",
       "prompt_number": 39,
       "text": [
        "0.03908615469309111"
       ]
      }
     ],
     "prompt_number": 39
    },
    {
     "cell_type": "code",
     "collapsed": false,
     "input": [
      "hamming_loss(y_test, clf.predict(X_test))"
     ],
     "language": "python",
     "metadata": {},
     "outputs": [
      {
       "output_type": "pyout",
       "prompt_number": 40,
       "text": [
        "0.12346711259754738"
       ]
      }
     ],
     "prompt_number": 40
    },
    {
     "cell_type": "code",
     "collapsed": false,
     "input": [
      "param_grid = {'estimator__C': 10. ** np.arange(-4, 2)}\n",
      "from sklearn.utils import shuffle\n",
      "X_train, y_train = shuffle(X_train, y_train)\n",
      "grid = GridSearchCV(clf, param_grid=param_grid, verbose=3, loss_func=hamming_loss, cv=5)"
     ],
     "language": "python",
     "metadata": {},
     "outputs": [],
     "prompt_number": 50
    },
    {
     "cell_type": "code",
     "collapsed": false,
     "input": [
      "#grid.fit(X_train, y_train)"
     ],
     "language": "python",
     "metadata": {},
     "outputs": [
      {
       "output_type": "stream",
       "stream": "stdout",
       "text": [
        "Fitting 5 folds for each of 6 candidates, totalling 30 fits\n",
        "[GridSearchCV] estimator__C=0.0001 .............................................\n",
        "[GridSearchCV] ................... estimator__C=0.0001, score=-0.166667 -   0.2s"
       ]
      },
      {
       "output_type": "stream",
       "stream": "stderr",
       "text": [
        "/home/local/lamueller/checkout/scikit-learn/sklearn/grid_search.py:466: DeprecationWarning: Passing a loss function is deprecated and will be removed in 0.15. Either use strings or score objects.The relevant new parameter is called ''scoring''. \n",
        "  self.loss_func, self.score_func, self.scoring)\n",
        "[Parallel(n_jobs=1)]: Done   1 jobs       | elapsed:    0.2s\n"
       ]
      },
      {
       "output_type": "stream",
       "stream": "stdout",
       "text": [
        "\n",
        "[GridSearchCV] estimator__C=0.0001 .............................................\n",
        "[GridSearchCV] ................... estimator__C=0.0001, score=-0.166667 -   0.2s"
       ]
      },
      {
       "output_type": "stream",
       "stream": "stdout",
       "text": [
        "\n",
        "[GridSearchCV] estimator__C=0.0001 .............................................\n",
        "[GridSearchCV] ................... estimator__C=0.0001, score=-0.166667 -   0.2s"
       ]
      },
      {
       "output_type": "stream",
       "stream": "stdout",
       "text": [
        "\n",
        "[GridSearchCV] estimator__C=0.0001 .............................................\n",
        "[GridSearchCV] ................... estimator__C=0.0001, score=-0.166667 -   0.2s"
       ]
      },
      {
       "output_type": "stream",
       "stream": "stdout",
       "text": [
        "\n",
        "[GridSearchCV] estimator__C=0.0001 .............................................\n",
        "[GridSearchCV] ................... estimator__C=0.0001, score=-0.166667 -   0.2s"
       ]
      },
      {
       "output_type": "stream",
       "stream": "stdout",
       "text": [
        "\n",
        "[GridSearchCV] estimator__C=0.001 ..............................................\n",
        "[GridSearchCV] .................... estimator__C=0.001, score=-0.138889 -   0.2s"
       ]
      },
      {
       "output_type": "stream",
       "stream": "stdout",
       "text": [
        "\n",
        "[GridSearchCV] estimator__C=0.001 ..............................................\n",
        "[GridSearchCV] .................... estimator__C=0.001, score=-0.138889 -   0.2s"
       ]
      },
      {
       "output_type": "stream",
       "stream": "stdout",
       "text": [
        "\n",
        "[GridSearchCV] estimator__C=0.001 ..............................................\n",
        "[GridSearchCV] .................... estimator__C=0.001, score=-0.138889 -   0.2s"
       ]
      },
      {
       "output_type": "stream",
       "stream": "stdout",
       "text": [
        "\n",
        "[GridSearchCV] estimator__C=0.001 ..............................................\n",
        "[GridSearchCV] .................... estimator__C=0.001, score=-0.138889 -   0.2s"
       ]
      },
      {
       "output_type": "stream",
       "stream": "stdout",
       "text": [
        "\n",
        "[GridSearchCV] estimator__C=0.001 ..............................................\n",
        "[GridSearchCV] .................... estimator__C=0.001, score=-0.138889 -   0.2s"
       ]
      },
      {
       "output_type": "stream",
       "stream": "stdout",
       "text": [
        "\n",
        "[GridSearchCV] estimator__C=0.01 ...............................................\n",
        "[GridSearchCV] ..................... estimator__C=0.01, score=-0.138889 -   0.3s"
       ]
      },
      {
       "output_type": "stream",
       "stream": "stdout",
       "text": [
        "\n",
        "[GridSearchCV] estimator__C=0.01 ...............................................\n",
        "[GridSearchCV] ..................... estimator__C=0.01, score=-0.138889 -   0.2s"
       ]
      },
      {
       "output_type": "stream",
       "stream": "stdout",
       "text": [
        "\n",
        "[GridSearchCV] estimator__C=0.01 ...............................................\n",
        "[GridSearchCV] ..................... estimator__C=0.01, score=-0.138889 -   0.2s"
       ]
      },
      {
       "output_type": "stream",
       "stream": "stdout",
       "text": [
        "\n",
        "[GridSearchCV] estimator__C=0.01 ...............................................\n",
        "[GridSearchCV] ..................... estimator__C=0.01, score=-0.138889 -   0.2s"
       ]
      },
      {
       "output_type": "stream",
       "stream": "stdout",
       "text": [
        "\n",
        "[GridSearchCV] estimator__C=0.01 ...............................................\n",
        "[GridSearchCV] ..................... estimator__C=0.01, score=-0.138889 -   0.3s"
       ]
      },
      {
       "output_type": "stream",
       "stream": "stdout",
       "text": [
        "\n",
        "[GridSearchCV] estimator__C=0.1 ................................................\n",
        "[GridSearchCV] ...................... estimator__C=0.1, score=-0.194444 -   0.8s"
       ]
      },
      {
       "output_type": "stream",
       "stream": "stdout",
       "text": [
        "\n",
        "[GridSearchCV] estimator__C=0.1 ................................................\n",
        "[GridSearchCV] ...................... estimator__C=0.1, score=-0.194444 -   0.9s"
       ]
      },
      {
       "output_type": "stream",
       "stream": "stdout",
       "text": [
        "\n",
        "[GridSearchCV] estimator__C=0.1 ................................................\n",
        "[GridSearchCV] ...................... estimator__C=0.1, score=-0.194444 -   0.8s"
       ]
      },
      {
       "output_type": "stream",
       "stream": "stdout",
       "text": [
        "\n",
        "[GridSearchCV] estimator__C=0.1 ................................................\n",
        "[GridSearchCV] ...................... estimator__C=0.1, score=-0.194444 -   0.8s"
       ]
      },
      {
       "output_type": "stream",
       "stream": "stdout",
       "text": [
        "\n",
        "[GridSearchCV] estimator__C=0.1 ................................................\n",
        "[GridSearchCV] ...................... estimator__C=0.1, score=-0.194444 -   0.8s"
       ]
      },
      {
       "output_type": "stream",
       "stream": "stdout",
       "text": [
        "\n",
        "[GridSearchCV] estimator__C=1.0 ................................................\n",
        "[GridSearchCV] ...................... estimator__C=1.0, score=-0.166667 -   3.4s"
       ]
      },
      {
       "output_type": "stream",
       "stream": "stdout",
       "text": [
        "\n",
        "[GridSearchCV] estimator__C=1.0 ................................................\n",
        "[GridSearchCV] ...................... estimator__C=1.0, score=-0.166667 -   3.4s"
       ]
      },
      {
       "output_type": "stream",
       "stream": "stdout",
       "text": [
        "\n",
        "[GridSearchCV] estimator__C=1.0 ................................................\n",
        "[GridSearchCV] ...................... estimator__C=1.0, score=-0.166667 -   3.3s"
       ]
      },
      {
       "output_type": "stream",
       "stream": "stdout",
       "text": [
        "\n",
        "[GridSearchCV] estimator__C=1.0 ................................................\n",
        "[GridSearchCV] ...................... estimator__C=1.0, score=-0.166667 -   3.5s"
       ]
      },
      {
       "output_type": "stream",
       "stream": "stdout",
       "text": [
        "\n",
        "[GridSearchCV] estimator__C=1.0 ................................................\n",
        "[GridSearchCV] ...................... estimator__C=1.0, score=-0.166667 -   3.6s"
       ]
      },
      {
       "output_type": "stream",
       "stream": "stdout",
       "text": [
        "\n",
        "[GridSearchCV] estimator__C=10.0 ...............................................\n",
        "[GridSearchCV] ..................... estimator__C=10.0, score=-0.194444 -   3.3s"
       ]
      },
      {
       "output_type": "stream",
       "stream": "stdout",
       "text": [
        "\n",
        "[GridSearchCV] estimator__C=10.0 ...............................................\n",
        "[GridSearchCV] ..................... estimator__C=10.0, score=-0.166667 -   3.2s"
       ]
      },
      {
       "output_type": "stream",
       "stream": "stdout",
       "text": [
        "\n",
        "[GridSearchCV] estimator__C=10.0 ...............................................\n",
        "[GridSearchCV] ..................... estimator__C=10.0, score=-0.194444 -   3.3s"
       ]
      },
      {
       "output_type": "stream",
       "stream": "stdout",
       "text": [
        "\n",
        "[GridSearchCV] estimator__C=10.0 ...............................................\n",
        "[GridSearchCV] ..................... estimator__C=10.0, score=-0.194444 -   3.3s"
       ]
      },
      {
       "output_type": "stream",
       "stream": "stdout",
       "text": [
        "\n",
        "[GridSearchCV] estimator__C=10.0 ...............................................\n",
        "[GridSearchCV] ..................... estimator__C=10.0, score=-0.166667 -   3.2s"
       ]
      },
      {
       "output_type": "stream",
       "stream": "stdout",
       "text": [
        "\n"
       ]
      },
      {
       "output_type": "stream",
       "stream": "stderr",
       "text": [
        "[Parallel(n_jobs=1)]: Done  30 out of  30 | elapsed:   40.7s finished\n"
       ]
      },
      {
       "output_type": "pyout",
       "prompt_number": 51,
       "text": [
        "GridSearchCV(cv=5,\n",
        "       estimator=OneVsRestClassifier(estimator=LinearSVC(C=1.0, class_weight=None, dual=True, fit_intercept=True,\n",
        "     intercept_scaling=1, loss='l2', multi_class='ovr', penalty='l2',\n",
        "     random_state=None, tol=0.0001, verbose=0),\n",
        "          n_jobs=1),\n",
        "       fit_params={}, iid=True,\n",
        "       loss_func=<function hamming_loss at 0xa46433c>, n_jobs=1,\n",
        "       param_grid={'estimator__C': array([  1.00000e-04,   1.00000e-03,   1.00000e-02,   1.00000e-01,\n",
        "         1.00000e+00,   1.00000e+01])},\n",
        "       pre_dispatch='2*n_jobs', refit=True, score_func=None, scoring=None,\n",
        "       verbose=3)"
       ]
      }
     ],
     "prompt_number": 51
    },
    {
     "cell_type": "code",
     "collapsed": false,
     "input": [
      "hamming_loss(y_train, grid.predict(X_train))"
     ],
     "language": "python",
     "metadata": {},
     "outputs": [
      {
       "output_type": "pyout",
       "prompt_number": 52,
       "text": [
        "0.1490503715937242"
       ]
      }
     ],
     "prompt_number": 52
    },
    {
     "cell_type": "code",
     "collapsed": false,
     "input": [
      "clf.set_params(estimator__C=0.01)\n",
      "clf.fit(X_train, y_train)"
     ],
     "language": "python",
     "metadata": {},
     "outputs": [
      {
       "output_type": "pyout",
       "prompt_number": 65,
       "text": [
        "OneVsRestClassifier(estimator=LinearSVC(C=0.01, class_weight=None, dual=True, fit_intercept=True,\n",
        "     intercept_scaling=1, loss='l2', multi_class='ovr', penalty='l2',\n",
        "     random_state=None, tol=0.0001, verbose=0),\n",
        "          n_jobs=1)"
       ]
      }
     ],
     "prompt_number": 65
    },
    {
     "cell_type": "code",
     "collapsed": false,
     "input": [
      "hamming_loss(y_train, clf.predict(X_train))"
     ],
     "language": "python",
     "metadata": {},
     "outputs": [
      {
       "output_type": "pyout",
       "prompt_number": 66,
       "text": [
        "0.094412331406551059"
       ]
      }
     ],
     "prompt_number": 66
    },
    {
     "cell_type": "code",
     "collapsed": false,
     "input": [
      "hamming_loss(y_test, clf.predict(X_test))"
     ],
     "language": "python",
     "metadata": {},
     "outputs": [
      {
       "output_type": "pyout",
       "prompt_number": 67,
       "text": [
        "0.11231884057971014"
       ]
      }
     ],
     "prompt_number": 67
    },
    {
     "cell_type": "code",
     "collapsed": false,
     "input": [
      "from pystruct.learners import OneSlackSSVM\n",
      "from pystruct.models import MultiLabelModel"
     ],
     "language": "python",
     "metadata": {},
     "outputs": [],
     "prompt_number": 68
    },
    {
     "cell_type": "code",
     "collapsed": false,
     "input": [
      "ssvm = OneSlackSSVM(MultiLabelModel(), verbose=3, C=0.1)"
     ],
     "language": "python",
     "metadata": {},
     "outputs": [],
     "prompt_number": 72
    },
    {
     "cell_type": "code",
     "collapsed": false,
     "input": [
      "ssvm.fit(X_train, y_train)"
     ],
     "language": "python",
     "metadata": {},
     "outputs": [
      {
       "output_type": "stream",
       "stream": "stdout",
       "text": [
        "Training 1-slack dual structural SVM\n",
        "iteration 0"
       ]
      },
      {
       "output_type": "stream",
       "stream": "stdout",
       "text": [
        "\n",
        "OneSlackSSVM(C=0.1, break_on_bad=False, cache_tol=auto,\n",
        "       check_constraints=False, inactive_threshold=1e-05,\n",
        "       inactive_window=50, inference_cache=0, logger=None, max_iter=10000,\n",
        "       model=MultiLabelModel(n_states: 2, inference_method: ad3), n_jobs=1,\n",
        "       positive_constraint=None, show_loss_every=0, switch_to=None,\n",
        "       tol=1e-05, verbose=3)\n",
        "New violation: 6.000000 difference to last: 7.000000"
       ]
      },
      {
       "output_type": "stream",
       "stream": "stdout",
       "text": [
        "\n",
        "     pcost       dcost       gap    pres   dres\n",
        " 0:  1.7582e+01 -1.4053e+02  2e+02  2e-16  3e+01\n",
        " 1:  2.3453e+00 -4.2901e+00  7e+00  4e-14  3e-01\n",
        " 2:  2.3041e-01 -5.6472e-01  8e-01  2e-15  1e-15\n",
        " 3: -2.2384e-02 -1.3123e-01  1e-01  1e-14  3e-16\n",
        " 4: -4.3243e-02 -5.3624e-02  1e-02  1e-16  4e-17\n",
        " 5: -4.3710e-02 -4.3885e-02  2e-04  1e-14  2e-17\n",
        " 6: -4.3710e-02 -4.3712e-02  2e-06  1e-14  3e-18\n",
        " 7: -4.3710e-02 -4.3710e-02  2e-08  2e-16  5e-17\n",
        "Optimal solution found.\n",
        "2 support vectors out of 2 points\n",
        "cutting plane objective: 0.043710, primal objective 726.600000\n",
        "iteration 1\n",
        "OneSlackSSVM(C=0.1, break_on_bad=False, cache_tol=auto,\n",
        "       check_constraints=False, inactive_threshold=1e-05,\n",
        "       inactive_window=50, inference_cache=0, logger=None, max_iter=10000,\n",
        "       model=MultiLabelModel(n_states: 2, inference_method: ad3), n_jobs=1,\n",
        "       positive_constraint=None, show_loss_every=0, switch_to=None,\n",
        "       tol=1e-05, verbose=3)\n",
        "New violation: 2.640898 difference to last: 2.640898"
       ]
      },
      {
       "output_type": "stream",
       "stream": "stdout",
       "text": [
        "\n",
        "     pcost       dcost       gap    pres   dres\n",
        " 0:  1.0501e+03 -1.2405e+03  2e+03  2e-16  3e+01\n",
        " 1:  1.4870e+02 -2.0863e+02  4e+02  2e-14  7e-14\n",
        " 2:  1.8089e+01 -3.1189e+01  5e+01  1e-14  2e-14\n",
        " 3:  8.3540e-01 -6.1297e+00  7e+00  1e-14  3e-15\n",
        " 4: -9.9030e-01 -1.8439e+00  9e-01  1e-14  9e-16\n",
        " 5: -1.0845e+00 -1.1275e+00  4e-02  1e-14  9e-16\n",
        " 6: -1.0849e+00 -1.0853e+00  4e-04  1e-16  2e-15\n",
        " 7: -1.0849e+00 -1.0849e+00  4e-06  2e-16  7e-16\n",
        " 8: -1.0849e+00 -1.0849e+00  4e-08  1e-16  2e-16\n",
        "Optimal solution found.\n",
        "3 support vectors out of 3 points\n",
        "cutting plane objective: 1.084883, primal objective 319.856445\n",
        "iteration 2\n",
        "OneSlackSSVM(C=0.1, break_on_bad=False, cache_tol=auto,\n",
        "       check_constraints=False, inactive_threshold=1e-05,\n",
        "       inactive_window=50, inference_cache=0, logger=None, max_iter=10000,\n",
        "       model=MultiLabelModel(n_states: 2, inference_method: ad3), n_jobs=1,\n",
        "       positive_constraint=None, show_loss_every=0, switch_to=None,\n",
        "       tol=1e-05, verbose=3)\n",
        "New violation: 7.920303 difference to last: 7.920303"
       ]
      },
      {
       "output_type": "stream",
       "stream": "stdout",
       "text": [
        "\n",
        "     pcost       dcost       gap    pres   dres\n",
        " 0:  1.0868e+03 -1.2868e+03  2e+03  4e-18  2e+01\n",
        " 1:  1.5619e+02 -2.2054e+02  4e+02  2e-14  6e-14\n",
        " 2:  1.8767e+01 -3.3346e+01  5e+01  1e-14  2e-14\n",
        " 3:  6.1484e-01 -6.7607e+00  7e+00  3e-14  9e-15\n",
        " 4: -1.2646e+00 -2.1502e+00  9e-01  1e-14  2e-15\n",
        " 5: -1.3541e+00 -1.3935e+00  4e-02  3e-17  4e-15\n",
        " 6: -1.3544e+00 -1.3548e+00  4e-04  1e-14  1e-15\n",
        " 7: -1.3544e+00 -1.3544e+00  4e-06  1e-14  8e-16\n",
        " 8: -1.3544e+00 -1.3544e+00  4e-08  9e-17  2e-15\n",
        "Optimal solution found.\n",
        "4 support vectors out of 4 points\n",
        "cutting plane objective: 1.354392, primal objective 960.233629\n",
        "iteration 3\n",
        "OneSlackSSVM(C=0.1, break_on_bad=False, cache_tol=auto,\n",
        "       check_constraints=False, inactive_threshold=1e-05,\n",
        "       inactive_window=50, inference_cache=0, logger=None, max_iter=10000,\n",
        "       model=MultiLabelModel(n_states: 2, inference_method: ad3), n_jobs=1,\n",
        "       positive_constraint=None, show_loss_every=0, switch_to=None,\n",
        "       tol=1e-05, verbose=3)\n",
        "New violation: 5.381877 difference to last: 5.381877"
       ]
      },
      {
       "output_type": "stream",
       "stream": "stdout",
       "text": [
        "\n",
        "     pcost       dcost       gap    pres   dres\n",
        " 0:  1.1016e+03 -1.3058e+03  2e+03  2e-17  2e+01\n",
        " 1:  1.6032e+02 -2.2472e+02  4e+02  1e-14  1e-13\n",
        " 2:  1.9214e+01 -3.4373e+01  5e+01  1e-14  3e-14\n",
        " 3:  5.3409e-01 -7.0614e+00  8e+00  1e-14  6e-15\n",
        " 4: -1.3926e+00 -2.2993e+00  9e-01  1e-14  3e-15\n",
        " 5: -1.4840e+00 -1.5239e+00  4e-02  3e-14  3e-15\n",
        " 6: -1.4843e+00 -1.4847e+00  4e-04  1e-14  2e-15\n",
        " 7: -1.4843e+00 -1.4843e+00  4e-06  1e-14  1e-15\n",
        " 8: -1.4843e+00 -1.4843e+00  4e-08  1e-14  9e-16\n",
        "Optimal solution found.\n",
        "5 support vectors out of 5 points\n",
        "cutting plane objective: 1.484298, primal objective 653.099692\n",
        "iteration 4\n",
        "OneSlackSSVM(C=0.1, break_on_bad=False, cache_tol=auto,\n",
        "       check_constraints=False, inactive_threshold=1e-05,\n",
        "       inactive_window=50, inference_cache=0, logger=None, max_iter=10000,\n",
        "       model=MultiLabelModel(n_states: 2, inference_method: ad3), n_jobs=1,\n",
        "       positive_constraint=None, show_loss_every=0, switch_to=None,\n",
        "       tol=1e-05, verbose=3)\n",
        "New violation: 4.034336 difference to last: 4.034336"
       ]
      },
      {
       "output_type": "stream",
       "stream": "stdout",
       "text": [
        "\n",
        "     pcost       dcost       gap    pres   dres\n",
        " 0:  1.1313e+03 -1.3438e+03  2e+03  1e-16  2e+01\n",
        " 1:  1.6891e+02 -2.5094e+02  4e+02  1e-14  6e-14\n",
        " 2:  2.0120e+01 -3.7069e+01  6e+01  1e-14  4e-14\n",
        " 3:  3.0136e-01 -7.8279e+00  8e+00  2e-16  5e-15\n",
        " 4: -1.7038e+00 -2.6497e+00  9e-01  1e-14  2e-15\n",
        " 5: -1.8006e+00 -1.8634e+00  6e-02  1e-14  3e-15\n",
        " 6: -1.8016e+00 -1.8023e+00  7e-04  1e-14  2e-15\n",
        " 7: -1.8016e+00 -1.8016e+00  7e-06  3e-14  4e-15\n",
        " 8: -1.8016e+00 -1.8016e+00  7e-08  4e-14  2e-15\n",
        "Optimal solution found.\n",
        "6 support vectors out of 6 points\n",
        "cutting plane objective: 1.801590, primal objective 490.042368\n",
        "iteration 5\n",
        "OneSlackSSVM(C=0.1, break_on_bad=False, cache_tol=auto,\n",
        "       check_constraints=False, inactive_threshold=1e-05,\n",
        "       inactive_window=50, inference_cache=0, logger=None, max_iter=10000,\n",
        "       model=MultiLabelModel(n_states: 2, inference_method: ad3), n_jobs=1,\n",
        "       positive_constraint=None, show_loss_every=0, switch_to=None,\n",
        "       tol=1e-05, verbose=3)\n",
        "New violation: 9.831150 difference to last: 9.831150"
       ]
      },
      {
       "output_type": "stream",
       "stream": "stdout",
       "text": [
        "\n",
        "     pcost       dcost       gap    pres   dres\n",
        " 0:  5.6748e+02 -7.9567e+02  5e+03  4e+01  2e+01\n",
        " 1:  1.6868e+02 -2.8842e+02  5e+02  8e-15  1e-13\n",
        " 2:  2.0168e+01 -3.9468e+01  6e+01  1e-14  2e-14\n",
        " 3: -2.4992e-01 -8.6911e+00  8e+00  3e-14  1e-14\n",
        " 4: -2.2916e+00 -3.1908e+00  9e-01  4e-14  3e-15\n",
        " 5: -2.4851e+00 -2.5260e+00  4e-02  1e-14  4e-15\n",
        " 6: -2.5082e+00 -2.5087e+00  4e-04  1e-14  3e-15\n",
        " 7: -2.5085e+00 -2.5085e+00  4e-06  1e-14  2e-15\n",
        " 8: -2.5085e+00 -2.5085e+00  4e-08  1e-14  2e-15\n",
        "Optimal solution found.\n",
        "6 support vectors out of 7 points\n",
        "cutting plane objective: 2.508479, primal objective 1192.353846\n",
        "iteration 6\n",
        "OneSlackSSVM(C=0.1, break_on_bad=False, cache_tol=auto,\n",
        "       check_constraints=False, inactive_threshold=1e-05,\n",
        "       inactive_window=50, inference_cache=0, logger=None, max_iter=10000,\n",
        "       model=MultiLabelModel(n_states: 2, inference_method: ad3), n_jobs=1,\n",
        "       positive_constraint=None, show_loss_every=0, switch_to=None,\n",
        "       tol=1e-05, verbose=3)\n",
        "New violation: 2.724599 difference to last: 2.724599"
       ]
      },
      {
       "output_type": "stream",
       "stream": "stdout",
       "text": [
        "\n",
        "     pcost       dcost       gap    pres   dres\n",
        " 0:  5.3146e+02 -7.6211e+02  5e+03  4e+01  1e+01\n",
        " 1:  1.6919e+02 -2.9256e+02  5e+02  3e-14  2e-13\n",
        " 2:  2.0427e+01 -4.0160e+01  6e+01  3e-14  1e-14\n",
        " 3: -3.0702e-01 -8.8580e+00  9e+00  1e-14  8e-15\n",
        " 4: -2.3977e+00 -3.3014e+00  9e-01  1e-14  6e-15\n",
        " 5: -2.6116e+00 -2.6599e+00  5e-02  1e-14  3e-15\n",
        " 6: -2.6322e+00 -2.6327e+00  5e-04  1e-14  4e-15\n",
        " 7: -2.6324e+00 -2.6324e+00  5e-06  4e-16  2e-15\n",
        " 8: -2.6324e+00 -2.6324e+00  5e-08  1e-14  5e-15\n",
        "Optimal solution found.\n",
        "7 support vectors out of 8 points\n",
        "cutting plane objective: 2.632381, primal objective 332.457465\n",
        "iteration 7\n",
        "OneSlackSSVM(C=0.1, break_on_bad=False, cache_tol=auto,\n",
        "       check_constraints=False, inactive_threshold=1e-05,\n",
        "       inactive_window=50, inference_cache=0, logger=None, max_iter=10000,\n",
        "       model=MultiLabelModel(n_states: 2, inference_method: ad3), n_jobs=1,\n",
        "       positive_constraint=None, show_loss_every=0, switch_to=None,\n",
        "       tol=1e-05, verbose=3)\n",
        "New violation: 4.247247 difference to last: 4.247247"
       ]
      },
      {
       "output_type": "stream",
       "stream": "stdout",
       "text": [
        "\n",
        "     pcost       dcost       gap    pres   dres\n",
        " 0:  4.3149e+02 -6.7455e+02  4e+03  4e+01  1e+01\n",
        " 1:  1.1716e+02 -2.5593e+02  5e+02  2e+00  6e-01\n",
        " 2:  2.2913e+01 -4.9133e+01  7e+01  3e-02  1e-02\n",
        " 3: -1.1071e+00 -1.1472e+01  1e+01  2e-15  1e-14\n",
        " 4: -3.5922e+00 -4.5943e+00  1e+00  3e-14  6e-15\n",
        " 5: -3.8588e+00 -3.8897e+00  3e-02  1e-14  5e-15\n",
        " 6: -3.8728e+00 -3.8731e+00  3e-04  1e-14  3e-15\n",
        " 7: -3.8729e+00 -3.8729e+00  3e-06  9e-16  8e-15\n",
        "Optimal solution found.\n",
        "7 support vectors out of 9 points\n",
        "cutting plane objective: 3.872932, primal objective 516.973952\n",
        "iteration 8\n",
        "OneSlackSSVM(C=0.1, break_on_bad=False, cache_tol=auto,\n",
        "       check_constraints=False, inactive_threshold=1e-05,\n",
        "       inactive_window=50, inference_cache=0, logger=None, max_iter=10000,\n",
        "       model=MultiLabelModel(n_states: 2, inference_method: ad3), n_jobs=1,\n",
        "       positive_constraint=None, show_loss_every=0, switch_to=None,\n",
        "       tol=1e-05, verbose=3)\n",
        "New violation: 5.125132 difference to last: 5.125132"
       ]
      },
      {
       "output_type": "stream",
       "stream": "stdout",
       "text": [
        "\n",
        "     pcost       dcost       gap    pres   dres\n",
        " 0:  4.2310e+02 -6.6622e+02  5e+03  4e+01  1e+01\n",
        " 1:  1.2174e+02 -2.6430e+02  5e+02  1e+00  4e-01\n",
        " 2:  2.0209e+01 -4.5908e+01  7e+01  2e-02  7e-03\n",
        " 3: -1.5961e+00 -1.0921e+01  9e+00  4e-14  2e-14\n",
        " 4: -3.8837e+00 -4.7008e+00  8e-01  3e-14  8e-15\n",
        " 5: -4.2005e+00 -4.2246e+00  2e-02  1e-14  6e-15\n",
        " 6: -4.2143e+00 -4.2145e+00  2e-04  3e-14  5e-15\n",
        " 7: -4.2144e+00 -4.2144e+00  2e-06  4e-14  7e-15\n",
        "Optimal solution found.\n",
        "7 support vectors out of 10 points\n",
        "cutting plane objective: 4.214391, primal objective 624.526417\n",
        "iteration 9\n",
        "OneSlackSSVM(C=0.1, break_on_bad=False, cache_tol=auto,\n",
        "       check_constraints=False, inactive_threshold=1e-05,\n",
        "       inactive_window=50, inference_cache=0, logger=None, max_iter=10000,\n",
        "       model=MultiLabelModel(n_states: 2, inference_method: ad3), n_jobs=1,\n",
        "       positive_constraint=None, show_loss_every=0, switch_to=None,\n",
        "       tol=1e-05, verbose=3)\n",
        "New violation: 3.357953 difference to last: 3.357953"
       ]
      },
      {
       "output_type": "stream",
       "stream": "stdout",
       "text": [
        "\n",
        "     pcost       dcost       gap    pres   dres\n",
        " 0:  3.6963e+02 -7.6034e+02  5e+03  5e+01  1e+01\n",
        " 1:  1.3106e+02 -3.0397e+02  6e+02  1e+00  4e-01\n",
        " 2:  2.5020e+01 -5.2352e+01  8e+01  4e-02  1e-02\n",
        " 3: -1.0154e+00 -1.2110e+01  1e+01  3e-14  1e-14\n",
        " 4: -3.9261e+00 -4.9545e+00  1e+00  1e-14  9e-15\n",
        " 5: -4.3567e+00 -4.4473e+00  9e-02  1e-14  9e-15\n",
        " 6: -4.4124e+00 -4.4136e+00  1e-03  3e-14  1e-14\n",
        " 7: -4.4131e+00 -4.4131e+00  1e-05  1e-14  1e-14\n",
        " 8: -4.4131e+00 -4.4131e+00  1e-07  1e-14  8e-15\n",
        "Optimal solution found.\n",
        "8 support vectors out of 11 points\n",
        "cutting plane objective: 4.413107, primal objective 410.862498\n",
        "iteration 10\n",
        "OneSlackSSVM(C=0.1, break_on_bad=False, cache_tol=auto,\n",
        "       check_constraints=False, inactive_threshold=1e-05,\n",
        "       inactive_window=50, inference_cache=0, logger=None, max_iter=10000,\n",
        "       model=MultiLabelModel(n_states: 2, inference_method: ad3), n_jobs=1,\n",
        "       positive_constraint=None, show_loss_every=0, switch_to=None,\n",
        "       tol=1e-05, verbose=3)\n",
        "New violation: 4.258939 difference to last: 4.258939"
       ]
      },
      {
       "output_type": "stream",
       "stream": "stdout",
       "text": [
        "\n",
        "     pcost       dcost       gap    pres   dres\n",
        " 0:  3.1215e+02 -8.1332e+02  5e+03  5e+01  1e+01\n",
        " 1:  1.3755e+02 -2.9929e+02  7e+02  2e+00  6e-01\n",
        " 2:  3.0300e+01 -5.9333e+01  9e+01  6e-02  2e-02\n",
        " 3: -4.6468e-01 -1.3589e+01  1e+01  3e-14  2e-14\n",
        " 4: -4.1581e+00 -5.3864e+00  1e+00  3e-14  7e-15\n",
        " 5: -4.8642e+00 -5.0377e+00  2e-01  1e-14  8e-15\n",
        " 6: -4.9509e+00 -4.9533e+00  2e-03  3e-14  8e-15\n",
        " 7: -4.9522e+00 -4.9522e+00  2e-05  1e-14  1e-14\n",
        " 8: -4.9522e+00 -4.9522e+00  2e-07  1e-14  9e-15\n",
        "Optimal solution found.\n",
        "8 support vectors out of 12 points\n",
        "cutting plane objective: 4.952187, primal objective 520.170578\n",
        "iteration 11\n",
        "OneSlackSSVM(C=0.1, break_on_bad=False, cache_tol=auto,\n",
        "       check_constraints=False, inactive_threshold=1e-05,\n",
        "       inactive_window=50, inference_cache=0, logger=None, max_iter=10000,\n",
        "       model=MultiLabelModel(n_states: 2, inference_method: ad3), n_jobs=1,\n",
        "       positive_constraint=None, show_loss_every=0, switch_to=None,\n",
        "       tol=1e-05, verbose=3)\n",
        "New violation: 2.257846 difference to last: 2.257846"
       ]
      },
      {
       "output_type": "stream",
       "stream": "stdout",
       "text": [
        "\n",
        "     pcost       dcost       gap    pres   dres\n",
        " 0:  3.1045e+02 -9.0661e+02  5e+03  4e+01  1e+01\n",
        " 1:  1.5052e+02 -2.5328e+02  7e+02  3e+00  9e-01\n",
        " 2:  3.2090e+01 -6.8486e+01  1e+02  1e-14  3e-14\n",
        " 3: -1.6773e+00 -1.5736e+01  1e+01  3e-14  2e-14\n",
        " 4: -5.3040e+00 -6.6050e+00  1e+00  1e-15  8e-15\n",
        " 5: -5.7080e+00 -6.0319e+00  3e-01  1e-14  1e-14\n",
        " 6: -5.8547e+00 -5.8891e+00  3e-02  3e-14  6e-15\n",
        " 7: -5.8625e+00 -5.8637e+00  1e-03  1e-14  8e-15\n",
        " 8: -5.8626e+00 -5.8626e+00  1e-05  1e-14  8e-15\n",
        " 9: -5.8626e+00 -5.8626e+00  1e-07  2e-16  9e-15\n",
        "Optimal solution found.\n",
        "9 support vectors out of 13 points\n",
        "cutting plane objective: 5.862636, primal objective 278.377330\n",
        "iteration 12\n",
        "OneSlackSSVM(C=0.1, break_on_bad=False, cache_tol=auto,\n",
        "       check_constraints=False, inactive_threshold=1e-05,\n",
        "       inactive_window=50, inference_cache=0, logger=None, max_iter=10000,\n",
        "       model=MultiLabelModel(n_states: 2, inference_method: ad3), n_jobs=1,\n",
        "       positive_constraint=None, show_loss_every=0, switch_to=None,\n",
        "       tol=1e-05, verbose=3)\n",
        "New violation: 3.571304 difference to last: 3.571304"
       ]
      },
      {
       "output_type": "stream",
       "stream": "stdout",
       "text": [
        "\n",
        "     pcost       dcost       gap    pres   dres\n",
        " 0:  3.0775e+02 -1.0404e+03  5e+03  4e+01  1e+01\n",
        " 1:  1.7027e+02 -2.6304e+02  9e+02  4e+00  1e+00\n",
        " 2:  4.3288e+01 -9.0506e+01  1e+02  4e-15  5e-14\n",
        " 3: -1.3421e+00 -1.9877e+01  2e+01  1e-14  2e-14\n",
        " 4: -6.4384e+00 -8.1689e+00  2e+00  3e-16  1e-14\n",
        " 5: -7.1327e+00 -7.2868e+00  2e-01  1e-14  6e-15\n",
        " 6: -7.2015e+00 -7.2129e+00  1e-02  1e-14  9e-15\n",
        " 7: -7.2066e+00 -7.2070e+00  4e-04  5e-16  1e-14\n",
        " 8: -7.2067e+00 -7.2067e+00  4e-06  1e-14  7e-15\n",
        "Optimal solution found.\n",
        "9 support vectors out of 14 points\n",
        "cutting plane objective: 7.206699, primal objective 438.347559\n",
        "iteration 13\n",
        "OneSlackSSVM(C=0.1, break_on_bad=False, cache_tol=auto,\n",
        "       check_constraints=False, inactive_threshold=1e-05,\n",
        "       inactive_window=50, inference_cache=0, logger=None, max_iter=10000,\n",
        "       model=MultiLabelModel(n_states: 2, inference_method: ad3), n_jobs=1,\n",
        "       positive_constraint=None, show_loss_every=0, switch_to=None,\n",
        "       tol=1e-05, verbose=3)\n",
        "New violation: 3.051493 difference to last: 3.051493"
       ]
      },
      {
       "output_type": "stream",
       "stream": "stdout",
       "text": [
        "\n",
        "     pcost       dcost       gap    pres   dres\n",
        " 0:  2.5899e+02 -1.0396e+03  4e+03  3e+01  1e+01\n",
        " 1:  1.6840e+02 -2.6800e+02  1e+03  6e+00  2e+00\n",
        " 2:  5.2971e+01 -1.0535e+02  2e+02  1e-14  5e-14\n",
        " 3: -2.8444e-01 -2.2324e+01  2e+01  3e-14  3e-14\n",
        " 4: -6.5610e+00 -8.7243e+00  2e+00  1e-14  2e-14\n",
        " 5: -7.6164e+00 -7.7832e+00  2e-01  9e-16  1e-14\n",
        " 6: -7.7328e+00 -7.7351e+00  2e-03  1e-14  2e-14\n",
        " 7: -7.7345e+00 -7.7345e+00  2e-05  3e-14  2e-14\n",
        " 8: -7.7345e+00 -7.7345e+00  2e-07  3e-14  9e-15\n",
        "Optimal solution found.\n",
        "8 support vectors out of 15 points\n",
        "cutting plane objective: 7.734477, primal objective 376.742466\n",
        "iteration 14\n",
        "OneSlackSSVM(C=0.1, break_on_bad=False, cache_tol=auto,\n",
        "       check_constraints=False, inactive_threshold=1e-05,\n",
        "       inactive_window=50, inference_cache=0, logger=None, max_iter=10000,\n",
        "       model=MultiLabelModel(n_states: 2, inference_method: ad3), n_jobs=1,\n",
        "       positive_constraint=None, show_loss_every=0, switch_to=None,\n",
        "       tol=1e-05, verbose=3)\n",
        "New violation: 3.261505 difference to last: 3.261505"
       ]
      },
      {
       "output_type": "stream",
       "stream": "stdout",
       "text": [
        "\n",
        "     pcost       dcost       gap    pres   dres\n",
        " 0:  1.3543e+02 -1.0546e+03  5e+03  4e+01  1e+01\n",
        " 1:  1.5568e+02 -2.6473e+02  1e+03  1e+01  3e+00\n",
        " 2:  6.6532e+01 -1.2774e+02  2e+02  1e-14  5e-14\n",
        " 3:  1.3011e+00 -2.5744e+01  3e+01  3e-14  2e-14\n",
        " 4: -6.5656e+00 -9.4179e+00  3e+00  1e-14  2e-14\n",
        " 5: -7.9135e+00 -8.1813e+00  3e-01  2e-16  9e-15\n",
        " 6: -8.1007e+00 -8.1069e+00  6e-03  3e-14  1e-14\n",
        " 7: -8.1057e+00 -8.1058e+00  6e-05  1e-14  1e-14\n",
        " 8: -8.1058e+00 -8.1058e+00  6e-07  1e-15  9e-15\n",
        "Optimal solution found.\n",
        "8 support vectors out of 16 points\n",
        "cutting plane objective: 8.105764, primal objective 402.702744\n",
        "iteration 15\n",
        "OneSlackSSVM(C=0.1, break_on_bad=False, cache_tol=auto,\n",
        "       check_constraints=False, inactive_threshold=1e-05,\n",
        "       inactive_window=50, inference_cache=0, logger=None, max_iter=10000,\n",
        "       model=MultiLabelModel(n_states: 2, inference_method: ad3), n_jobs=1,\n",
        "       positive_constraint=None, show_loss_every=0, switch_to=None,\n",
        "       tol=1e-05, verbose=3)\n",
        "New violation: 1.882709 difference to last: 1.882709"
       ]
      },
      {
       "output_type": "stream",
       "stream": "stdout",
       "text": [
        "\n",
        "     pcost       dcost       gap    pres   dres\n",
        " 0:  1.0872e+02 -1.0278e+03  4e+03  4e+01  1e+01\n",
        " 1:  1.2784e+02 -2.5470e+02  1e+03  8e+00  2e+00\n",
        " 2:  5.2271e+01 -1.3155e+02  2e+02  1e-14  9e-14\n",
        " 3: -3.0718e+00 -2.7184e+01  2e+01  1e-14  3e-14\n",
        " 4: -1.0173e+01 -1.2787e+01  3e+00  1e-14  2e-14\n",
        " 5: -1.1748e+01 -1.1941e+01  2e-01  9e-16  9e-15\n",
        " 6: -1.1870e+01 -1.1879e+01  9e-03  1e-14  1e-14\n",
        " 7: -1.1876e+01 -1.1877e+01  7e-04  6e-16  1e-14\n",
        " 8: -1.1877e+01 -1.1877e+01  1e-05  1e-14  1e-14\n",
        " 9: -1.1877e+01 -1.1877e+01  1e-07  1e-15  2e-14\n",
        "Optimal solution found.\n",
        "8 support vectors out of 17 points\n",
        "cutting plane objective: 11.877060, primal objective 236.101804\n",
        "iteration 16\n",
        "OneSlackSSVM(C=0.1, break_on_bad=False, cache_tol=auto,\n",
        "       check_constraints=False, inactive_threshold=1e-05,\n",
        "       inactive_window=50, inference_cache=0, logger=None, max_iter=10000,\n",
        "       model=MultiLabelModel(n_states: 2, inference_method: ad3), n_jobs=1,\n",
        "       positive_constraint=None, show_loss_every=0, switch_to=None,\n",
        "       tol=1e-05, verbose=3)\n",
        "New violation: 3.489784 difference to last: 3.489784"
       ]
      },
      {
       "output_type": "stream",
       "stream": "stdout",
       "text": [
        "\n",
        "     pcost       dcost       gap    pres   dres\n",
        " 0:  8.3425e+01 -8.3506e+02  3e+03  3e+01  9e+00\n",
        " 1:  8.2924e+01 -2.1053e+02  9e+02  8e+00  2e+00\n",
        " 2:  3.8030e+01 -1.1899e+02  2e+02  1e-14  4e-14\n",
        " 3: -7.1231e+00 -2.6681e+01  2e+01  4e-14  2e-14\n",
        " 4: -1.3590e+01 -1.6449e+01  3e+00  1e-14  2e-14\n",
        " 5: -1.5197e+01 -1.5424e+01  2e-01  3e-14  2e-14\n",
        " 6: -1.5314e+01 -1.5327e+01  1e-02  2e-15  1e-14\n",
        " 7: -1.5322e+01 -1.5322e+01  1e-04  1e-14  2e-14\n",
        " 8: -1.5322e+01 -1.5322e+01  1e-06  1e-14  2e-14\n",
        "Optimal solution found.\n",
        "9 support vectors out of 18 points\n",
        "cutting plane objective: 15.322346, primal objective 434.489950\n",
        "iteration 17\n",
        "OneSlackSSVM(C=0.1, break_on_bad=False, cache_tol=auto,\n",
        "       check_constraints=False, inactive_threshold=1e-05,\n",
        "       inactive_window=50, inference_cache=0, logger=None, max_iter=10000,\n",
        "       model=MultiLabelModel(n_states: 2, inference_method: ad3), n_jobs=1,\n",
        "       positive_constraint=None, show_loss_every=0, switch_to=None,\n",
        "       tol=1e-05, verbose=3)\n",
        "New violation: 3.883626 difference to last: 3.883626"
       ]
      },
      {
       "output_type": "stream",
       "stream": "stdout",
       "text": [
        "\n",
        "     pcost       dcost       gap    pres   dres\n",
        " 0:  7.3344e+01 -7.7935e+02  3e+03  4e+01  9e+00\n",
        " 1:  7.5030e+01 -2.0359e+02  8e+02  7e+00  2e+00\n",
        " 2:  3.2536e+01 -1.1422e+02  1e+02  7e-15  4e-14\n",
        " 3: -8.7594e+00 -2.6785e+01  2e+01  3e-14  2e-14\n",
        " 4: -1.4654e+01 -1.7469e+01  3e+00  3e-14  1e-14\n",
        " 5: -1.6554e+01 -1.6680e+01  1e-01  1e-14  2e-14\n",
        " 6: -1.6634e+01 -1.6636e+01  2e-03  3e-14  2e-14\n",
        " 7: -1.6635e+01 -1.6635e+01  2e-05  1e-14  2e-14\n",
        " 8: -1.6635e+01 -1.6635e+01  2e-07  1e-15  2e-14\n",
        "Optimal solution found.\n",
        "8 support vectors out of 19 points\n",
        "cutting plane objective: 16.635477, primal objective 485.629497\n",
        "iteration 18\n",
        "OneSlackSSVM(C=0.1, break_on_bad=False, cache_tol=auto,\n",
        "       check_constraints=False, inactive_threshold=1e-05,\n",
        "       inactive_window=50, inference_cache=0, logger=None, max_iter=10000,\n",
        "       model=MultiLabelModel(n_states: 2, inference_method: ad3), n_jobs=1,\n",
        "       positive_constraint=None, show_loss_every=0, switch_to=None,\n",
        "       tol=1e-05, verbose=3)\n",
        "New violation: 1.975828 difference to last: 1.975828"
       ]
      },
      {
       "output_type": "stream",
       "stream": "stdout",
       "text": [
        "\n",
        "     pcost       dcost       gap    pres   dres\n",
        " 0:  5.8228e+01 -7.4470e+02  3e+03  3e+01  8e+00\n",
        " 1:  5.6090e+01 -1.9209e+02  6e+02  5e+00  1e+00\n",
        " 2:  1.6810e+01 -1.0952e+02  1e+02  1e-14  7e-14\n",
        " 3: -1.6355e+01 -2.9899e+01  1e+01  1e-15  3e-14\n",
        " 4: -2.2478e+01 -2.3931e+01  1e+00  2e-15  2e-14\n",
        " 5: -2.3566e+01 -2.3617e+01  5e-02  1e-14  2e-14\n",
        " 6: -2.3608e+01 -2.3609e+01  9e-04  3e-14  1e-14\n",
        " 7: -2.3609e+01 -2.3609e+01  9e-06  1e-14  2e-14\n",
        "Optimal solution found.\n",
        "8 support vectors out of 20 points\n",
        "cutting plane objective: 23.608820, primal objective 255.908269\n",
        "iteration 19\n",
        "OneSlackSSVM(C=0.1, break_on_bad=False, cache_tol=auto,\n",
        "       check_constraints=False, inactive_threshold=1e-05,\n",
        "       inactive_window=50, inference_cache=0, logger=None, max_iter=10000,\n",
        "       model=MultiLabelModel(n_states: 2, inference_method: ad3), n_jobs=1,\n",
        "       positive_constraint=None, show_loss_every=0, switch_to=None,\n",
        "       tol=1e-05, verbose=3)\n",
        "New violation: 2.509039 difference to last: 2.509039"
       ]
      },
      {
       "output_type": "stream",
       "stream": "stdout",
       "text": [
        "\n",
        "     pcost       dcost       gap    pres   dres\n",
        " 0:  1.8652e+01 -7.1015e+02  3e+03  3e+01  8e+00\n",
        " 1:  1.8122e+01 -2.0508e+02  5e+02  5e+00  1e+00\n",
        " 2:  1.0364e+00 -1.0031e+02  1e+02  1e-14  5e-14\n",
        " 3: -2.6452e+01 -3.7828e+01  1e+01  2e-14  3e-14\n",
        " 4: -3.2489e+01 -3.3620e+01  1e+00  1e-14  2e-14\n",
        " 5: -3.3135e+01 -3.3210e+01  8e-02  7e-15  2e-14\n",
        " 6: -3.3193e+01 -3.3196e+01  3e-03  2e-15  2e-14\n",
        " 7: -3.3196e+01 -3.3196e+01  4e-05  3e-14  2e-14\n",
        " 8: -3.3196e+01 -3.3196e+01  4e-07  4e-15  1e-14\n",
        "Optimal solution found.\n",
        "8 support vectors out of 21 points\n",
        "cutting plane objective: 33.196235, primal objective 327.453509\n",
        "iteration 20\n",
        "OneSlackSSVM(C=0.1, break_on_bad=False, cache_tol=auto,\n",
        "       check_constraints=False, inactive_threshold=1e-05,\n",
        "       inactive_window=50, inference_cache=0, logger=None, max_iter=10000,\n",
        "       model=MultiLabelModel(n_states: 2, inference_method: ad3), n_jobs=1,\n",
        "       positive_constraint=None, show_loss_every=0, switch_to=None,\n",
        "       tol=1e-05, verbose=3)\n",
        "New violation: 4.064353 difference to last: 4.064353"
       ]
      },
      {
       "output_type": "stream",
       "stream": "stdout",
       "text": [
        "\n",
        "     pcost       dcost       gap    pres   dres\n",
        " 0:  1.2585e+01 -6.5655e+02  2e+03  3e+01  7e+00\n",
        " 1:  1.3692e+01 -1.8379e+02  4e+02  4e+00  1e+00\n",
        " 2: -2.6376e+00 -1.0216e+02  1e+02  5e-15  5e-14\n",
        " 3: -2.6999e+01 -4.0206e+01  1e+01  3e-14  3e-14\n",
        " 4: -3.3747e+01 -3.4588e+01  8e-01  3e-14  3e-14\n",
        " 5: -3.4269e+01 -3.4281e+01  1e-02  2e-14  2e-14\n",
        " 6: -3.4277e+01 -3.4277e+01  1e-04  2e-14  2e-14\n",
        " 7: -3.4277e+01 -3.4277e+01  1e-06  5e-15  2e-14\n",
        "Optimal solution found.\n",
        "9 support vectors out of 22 points\n",
        "cutting plane objective: 34.277070, primal objective 525.389438\n",
        "iteration 21\n",
        "OneSlackSSVM(C=0.1, break_on_bad=False, cache_tol=auto,\n",
        "       check_constraints=False, inactive_threshold=1e-05,\n",
        "       inactive_window=50, inference_cache=0, logger=None, max_iter=10000,\n",
        "       model=MultiLabelModel(n_states: 2, inference_method: ad3), n_jobs=1,\n",
        "       positive_constraint=None, show_loss_every=0, switch_to=None,\n",
        "       tol=1e-05, verbose=3)\n",
        "New violation: 3.057738 difference to last: 3.057738"
       ]
      },
      {
       "output_type": "stream",
       "stream": "stdout",
       "text": [
        "\n",
        "     pcost       dcost       gap    pres   dres\n",
        " 0:  1.9856e+01 -7.1977e+02  2e+03  2e+01  7e+00\n",
        " 1:  8.9726e+00 -2.4354e+02  5e+02  4e+00  1e+00\n",
        " 2: -1.0629e+01 -1.0513e+02  1e+02  8e-01  2e-01\n",
        " 3: -3.2346e+01 -5.3296e+01  2e+01  2e-14  3e-14\n",
        " 4: -4.0544e+01 -4.3539e+01  3e+00  8e-15  3e-14\n",
        " 5: -4.2529e+01 -4.2610e+01  8e-02  4e-15  3e-14\n",
        " 6: -4.2592e+01 -4.2593e+01  8e-04  1e-14  2e-14\n",
        " 7: -4.2593e+01 -4.2593e+01  8e-06  7e-15  3e-14\n",
        "Optimal solution found.\n",
        "9 support vectors out of 23 points\n",
        "cutting plane objective: 42.593093, primal objective 404.569144\n",
        "iteration 22\n",
        "OneSlackSSVM(C=0.1, break_on_bad=False, cache_tol=auto,\n",
        "       check_constraints=False, inactive_threshold=1e-05,\n",
        "       inactive_window=50, inference_cache=0, logger=None, max_iter=10000,\n",
        "       model=MultiLabelModel(n_states: 2, inference_method: ad3), n_jobs=1,\n",
        "       positive_constraint=None, show_loss_every=0, switch_to=None,\n",
        "       tol=1e-05, verbose=3)\n",
        "New violation: 2.280985 difference to last: 2.280985"
       ]
      },
      {
       "output_type": "stream",
       "stream": "stdout",
       "text": [
        "\n",
        "     pcost       dcost       gap    pres   dres\n",
        " 0:  8.0113e+00 -6.6086e+02  2e+03  3e+01  7e+00\n",
        " 1: -2.1149e+00 -2.2827e+02  4e+02  4e+00  1e+00\n",
        " 2: -1.9914e+01 -1.0121e+02  1e+02  9e-01  2e-01\n",
        " 3: -3.7139e+01 -5.6086e+01  2e+01  1e-14  3e-14\n",
        " 4: -4.5229e+01 -4.6780e+01  2e+00  7e-15  2e-14\n",
        " 5: -4.6212e+01 -4.6274e+01  6e-02  1e-14  2e-14\n",
        " 6: -4.6259e+01 -4.6260e+01  9e-04  7e-15  2e-14\n",
        " 7: -4.6260e+01 -4.6260e+01  9e-06  5e-15  2e-14\n",
        "Optimal solution found.\n",
        "10 support vectors out of 24 points\n",
        "cutting plane objective: 46.259678, primal objective 318.820380\n",
        "iteration 23\n",
        "OneSlackSSVM(C=0.1, break_on_bad=False, cache_tol=auto,\n",
        "       check_constraints=False, inactive_threshold=1e-05,\n",
        "       inactive_window=50, inference_cache=0, logger=None, max_iter=10000,\n",
        "       model=MultiLabelModel(n_states: 2, inference_method: ad3), n_jobs=1,\n",
        "       positive_constraint=None, show_loss_every=0, switch_to=None,\n",
        "       tol=1e-05, verbose=3)\n",
        "New violation: 2.528525 difference to last: 2.528525"
       ]
      },
      {
       "output_type": "stream",
       "stream": "stdout",
       "text": [
        "\n",
        "     pcost       dcost       gap    pres   dres\n",
        " 0:  1.6687e+00 -6.1345e+02  2e+03  2e+01  6e+00\n",
        " 1: -1.0696e+01 -2.1140e+02  4e+02  4e+00  1e+00\n",
        " 2: -2.6351e+01 -9.7318e+01  1e+02  9e-01  2e-01\n",
        " 3: -4.0734e+01 -5.7451e+01  2e+01  5e-15  3e-14\n",
        " 4: -4.8834e+01 -4.9890e+01  1e+00  9e-15  3e-14\n",
        " 5: -4.9626e+01 -4.9639e+01  1e-02  5e-15  3e-14\n",
        " 6: -4.9636e+01 -4.9637e+01  1e-04  1e-14  2e-14\n",
        " 7: -4.9636e+01 -4.9636e+01  1e-06  1e-14  3e-14\n",
        "Optimal solution found.\n",
        "10 support vectors out of 25 points\n",
        "cutting plane objective: 49.636480, primal objective 352.464078\n",
        "iteration 24\n",
        "OneSlackSSVM(C=0.1, break_on_bad=False, cache_tol=auto,\n",
        "       check_constraints=False, inactive_threshold=1e-05,\n",
        "       inactive_window=50, inference_cache=0, logger=None, max_iter=10000,\n",
        "       model=MultiLabelModel(n_states: 2, inference_method: ad3), n_jobs=1,\n",
        "       positive_constraint=None, show_loss_every=0, switch_to=None,\n",
        "       tol=1e-05, verbose=3)\n",
        "New violation: 2.222540 difference to last: 2.222540"
       ]
      },
      {
       "output_type": "stream",
       "stream": "stdout",
       "text": [
        "\n",
        "     pcost       dcost       gap    pres   dres\n",
        " 0: -1.2087e+00 -5.4849e+02  2e+03  2e+01  6e+00\n",
        " 1: -2.0099e+01 -2.0532e+02  3e+02  4e+00  9e-01\n",
        " 2: -4.0653e+01 -8.9876e+01  7e+01  6e-01  1e-01\n",
        " 3: -5.3349e+01 -6.1765e+01  9e+00  6e-03  1e-03\n",
        " 4: -5.7940e+01 -5.8473e+01  5e-01  3e-04  7e-05\n",
        " 5: -5.8310e+01 -5.8316e+01  6e-03  3e-06  7e-07\n",
        " 6: -5.8314e+01 -5.8314e+01  6e-05  3e-08  7e-09\n",
        " 7: -5.8314e+01 -5.8314e+01  6e-07  3e-10  7e-11\n",
        "Optimal solution found.\n",
        "11 support vectors out of 26 points\n",
        "cutting plane objective: 58.314050, primal objective 318.786049\n",
        "iteration 25\n",
        "OneSlackSSVM(C=0.1, break_on_bad=False, cache_tol=auto,\n",
        "       check_constraints=False, inactive_threshold=1e-05,\n",
        "       inactive_window=50, inference_cache=0, logger=None, max_iter=10000,\n",
        "       model=MultiLabelModel(n_states: 2, inference_method: ad3), n_jobs=1,\n",
        "       positive_constraint=None, show_loss_every=0, switch_to=None,\n",
        "       tol=1e-05, verbose=3)\n",
        "New violation: 2.227016 difference to last: 2.227016"
       ]
      },
      {
       "output_type": "stream",
       "stream": "stdout",
       "text": [
        "\n",
        "     pcost       dcost       gap    pres   dres\n",
        " 0: -1.4630e+01 -4.9057e+02  1e+03  2e+01  5e+00\n",
        " 1: -3.3851e+01 -1.9513e+02  3e+02  4e+00  8e-01\n",
        " 2: -5.3652e+01 -8.8297e+01  4e+01  3e-01  7e-02\n",
        " 3: -6.5786e+01 -7.2323e+01  7e+00  4e-02  1e-02\n",
        " 4: -6.9411e+01 -7.0178e+01  8e-01  4e-03  9e-04\n",
        " 5: -6.9922e+01 -6.9953e+01  3e-02  1e-05  2e-06\n",
        " 6: -6.9946e+01 -6.9946e+01  3e-04  1e-07  2e-08\n",
        " 7: -6.9946e+01 -6.9946e+01  3e-06  1e-09  2e-10\n",
        "Optimal solution found.\n",
        "11 support vectors out of 27 points\n",
        "cutting plane objective: 69.945775, primal objective 328.005644\n",
        "iteration 26\n",
        "OneSlackSSVM(C=0.1, break_on_bad=False, cache_tol=auto,\n",
        "       check_constraints=False, inactive_threshold=1e-05,\n",
        "       inactive_window=50, inference_cache=0, logger=None, max_iter=10000,\n",
        "       model=MultiLabelModel(n_states: 2, inference_method: ad3), n_jobs=1,\n",
        "       positive_constraint=None, show_loss_every=0, switch_to=None,\n",
        "       tol=1e-05, verbose=3)\n",
        "New violation: 3.247846 difference to last: 3.247846"
       ]
      },
      {
       "output_type": "stream",
       "stream": "stdout",
       "text": [
        "\n",
        "     pcost       dcost       gap    pres   dres\n",
        " 0: -3.2149e+01 -4.6506e+02  1e+03  3e+01  5e+00\n",
        " 1: -4.3821e+01 -1.8984e+02  3e+02  4e+00  7e-01\n",
        " 2: -5.9308e+01 -9.2694e+01  4e+01  4e-01  7e-02\n",
        " 3: -7.1952e+01 -7.9022e+01  8e+00  6e-02  1e-02\n",
        " 4: -7.4703e+01 -7.6504e+01  2e+00  5e-15  3e-14\n",
        " 5: -7.5645e+01 -7.5826e+01  2e-01  3e-15  3e-14\n",
        " 6: -7.5764e+01 -7.5771e+01  7e-03  6e-15  4e-14\n",
        " 7: -7.5769e+01 -7.5769e+01  4e-04  1e-14  3e-14\n",
        " 8: -7.5769e+01 -7.5769e+01  4e-05  1e-14  2e-14\n",
        "Optimal solution found.\n",
        "11 support vectors out of 28 points\n",
        "cutting plane objective: 75.768806, primal objective 463.259907\n",
        "iteration 27\n",
        "OneSlackSSVM(C=0.1, break_on_bad=False, cache_tol=auto,\n",
        "       check_constraints=False, inactive_threshold=1e-05,\n",
        "       inactive_window=50, inference_cache=0, logger=None, max_iter=10000,\n",
        "       model=MultiLabelModel(n_states: 2, inference_method: ad3), n_jobs=1,\n",
        "       positive_constraint=None, show_loss_every=0, switch_to=None,\n",
        "       tol=1e-05, verbose=3)\n",
        "New violation: 2.464343 difference to last: 2.423929"
       ]
      },
      {
       "output_type": "stream",
       "stream": "stdout",
       "text": [
        "\n",
        "     pcost       dcost       gap    pres   dres\n",
        " 0: -3.4291e+01 -4.5558e+02  1e+03  3e+01  5e+00\n",
        " 1: -4.8091e+01 -1.9067e+02  3e+02  4e+00  7e-01\n",
        " 2: -6.0616e+01 -9.4297e+01  4e+01  4e-01  7e-02\n",
        " 3: -7.3009e+01 -7.9663e+01  8e+00  6e-02  1e-02\n",
        " 4: -7.6075e+01 -7.7890e+01  2e+00  8e-03  2e-03\n",
        " 5: -7.7427e+01 -7.7456e+01  3e-02  1e-04  2e-05\n",
        " 6: -7.7449e+01 -7.7449e+01  3e-04  1e-06  2e-07\n",
        " 7: -7.7449e+01 -7.7449e+01  3e-06  1e-08  2e-09\n",
        "Optimal solution found.\n",
        "10 support vectors out of 29 points\n",
        "cutting plane objective: 77.448925, primal objective 369.306683\n",
        "iteration 28\n",
        "OneSlackSSVM(C=0.1, break_on_bad=False, cache_tol=auto,\n",
        "       check_constraints=False, inactive_threshold=1e-05,\n",
        "       inactive_window=50, inference_cache=0, logger=None, max_iter=10000,\n",
        "       model=MultiLabelModel(n_states: 2, inference_method: ad3), n_jobs=1,\n",
        "       positive_constraint=None, show_loss_every=0, switch_to=None,\n",
        "       tol=1e-05, verbose=3)\n",
        "New violation: 1.920657 difference to last: 1.846081"
       ]
      },
      {
       "output_type": "stream",
       "stream": "stdout",
       "text": [
        "\n",
        "     pcost       dcost       gap    pres   dres\n",
        " 0: -4.1688e+01 -4.3714e+02  1e+03  3e+01  5e+00\n",
        " 1: -5.9944e+01 -1.9108e+02  2e+02  3e+00  5e-01\n",
        " 2: -7.4452e+01 -1.0218e+02  3e+01  2e-01  3e-02\n",
        " 3: -8.1092e+01 -8.9401e+01  9e+00  3e-02  6e-03\n",
        " 4: -8.5336e+01 -8.6117e+01  8e-01  6e-15  3e-14\n",
        " 5: -8.5798e+01 -8.5832e+01  3e-02  9e-15  3e-14\n",
        " 6: -8.5824e+01 -8.5826e+01  2e-03  6e-15  2e-14\n",
        " 7: -8.5826e+01 -8.5826e+01  2e-05  9e-15  4e-14\n",
        "Optimal solution found.\n",
        "12 support vectors out of 30 points\n",
        "cutting plane objective: 85.825877, primal objective 301.009337\n",
        "iteration 29\n",
        "OneSlackSSVM(C=0.1, break_on_bad=False, cache_tol=auto,\n",
        "       check_constraints=False, inactive_threshold=1e-05,\n",
        "       inactive_window=50, inference_cache=0, logger=None, max_iter=10000,\n",
        "       model=MultiLabelModel(n_states: 2, inference_method: ad3), n_jobs=1,\n",
        "       positive_constraint=None, show_loss_every=0, switch_to=None,\n",
        "       tol=1e-05, verbose=3)\n",
        "New violation: 2.783167 difference to last: 2.523622"
       ]
      },
      {
       "output_type": "stream",
       "stream": "stdout",
       "text": [
        "\n",
        "     pcost       dcost       gap    pres   dres\n",
        " 0: -4.8073e+01 -4.4410e+02  1e+03  3e+01  5e+00\n",
        " 1: -6.4734e+01 -2.0204e+02  3e+02  4e+00  6e-01\n",
        " 2: -7.5690e+01 -1.0788e+02  4e+01  2e-01  4e-02\n",
        " 3: -8.1456e+01 -9.2874e+01  1e+01  4e-02  6e-03\n",
        " 4: -8.7211e+01 -8.8237e+01  1e+00  7e-04  1e-04\n",
        " 5: -8.7887e+01 -8.7902e+01  1e-02  7e-06  1e-06\n",
        " 6: -8.7898e+01 -8.7898e+01  1e-04  7e-08  1e-08\n",
        " 7: -8.7898e+01 -8.7898e+01  1e-06  7e-10  1e-10\n",
        "Optimal solution found.\n",
        "12 support vectors out of 31 points\n",
        "cutting plane objective: 87.898215, primal objective 391.436543\n",
        "iteration 30\n",
        "OneSlackSSVM(C=0.1, break_on_bad=False, cache_tol=auto,\n",
        "       check_constraints=False, inactive_threshold=1e-05,\n",
        "       inactive_window=50, inference_cache=0, logger=None, max_iter=10000,\n",
        "       model=MultiLabelModel(n_states: 2, inference_method: ad3), n_jobs=1,\n",
        "       positive_constraint=None, show_loss_every=0, switch_to=None,\n",
        "       tol=1e-05, verbose=3)\n",
        "New violation: 1.904270 difference to last: 1.595410"
       ]
      },
      {
       "output_type": "stream",
       "stream": "stdout",
       "text": [
        "\n",
        "     pcost       dcost       gap    pres   dres\n",
        " 0: -5.1900e+01 -4.7269e+02  1e+03  3e+01  5e+00\n",
        " 1: -6.4561e+01 -2.1331e+02  3e+02  4e+00  6e-01\n",
        " 2: -7.8133e+01 -1.1440e+02  4e+01  2e-01  4e-02\n",
        " 3: -8.7199e+01 -9.6466e+01  1e+01  3e-02  4e-03\n",
        " 4: -9.2498e+01 -9.3327e+01  8e-01  5e-15  3e-14\n",
        " 5: -9.3007e+01 -9.3018e+01  1e-02  8e-15  3e-14\n",
        " 6: -9.3014e+01 -9.3015e+01  1e-04  1e-14  3e-14\n",
        " 7: -9.3015e+01 -9.3015e+01  1e-06  5e-15  4e-14\n",
        "Optimal solution found.\n",
        "12 support vectors out of 32 points\n",
        "cutting plane objective: 93.014574, primal objective 281.102422\n",
        "iteration 31\n",
        "OneSlackSSVM(C=0.1, break_on_bad=False, cache_tol=auto,\n",
        "       check_constraints=False, inactive_threshold=1e-05,\n",
        "       inactive_window=50, inference_cache=0, logger=None, max_iter=10000,\n",
        "       model=MultiLabelModel(n_states: 2, inference_method: ad3), n_jobs=1,\n",
        "       positive_constraint=None, show_loss_every=0, switch_to=None,\n",
        "       tol=1e-05, verbose=3)\n",
        "New violation: 1.946839 difference to last: 1.527082"
       ]
      },
      {
       "output_type": "stream",
       "stream": "stdout",
       "text": [
        "\n",
        "     pcost       dcost       gap    pres   dres\n",
        " 0: -5.0664e+01 -5.0072e+02  2e+03  3e+01  5e+00\n",
        " 1: -6.6420e+01 -2.3655e+02  3e+02  5e+00  7e-01\n",
        " 2: -7.9200e+01 -1.2335e+02  5e+01  3e-01  4e-02\n",
        " 3: -8.9921e+01 -1.0001e+02  1e+01  2e-02  3e-03\n",
        " 4: -9.4509e+01 -9.6184e+01  2e+00  1e-03  2e-04\n",
        " 5: -9.5207e+01 -9.5364e+01  2e-01  8e-05  1e-05\n",
        " 6: -9.5304e+01 -9.5314e+01  1e-02  5e-15  4e-14\n",
        " 7: -9.5309e+01 -9.5309e+01  2e-04  1e-14  2e-14\n",
        " 8: -9.5309e+01 -9.5309e+01  2e-06  8e-15  3e-14\n",
        "Optimal solution found.\n",
        "14 support vectors out of 33 points\n",
        "cutting plane objective: 95.309303, primal objective 277.944229\n",
        "iteration 32\n",
        "OneSlackSSVM(C=0.1, break_on_bad=False, cache_tol=auto,\n",
        "       check_constraints=False, inactive_threshold=1e-05,\n",
        "       inactive_window=50, inference_cache=0, logger=None, max_iter=10000,\n",
        "       model=MultiLabelModel(n_states: 2, inference_method: ad3), n_jobs=1,\n",
        "       positive_constraint=None, show_loss_every=0, switch_to=None,\n",
        "       tol=1e-05, verbose=3)\n",
        "New violation: 1.814463 difference to last: 1.337535"
       ]
      },
      {
       "output_type": "stream",
       "stream": "stdout",
       "text": [
        "\n",
        "     pcost       dcost       gap    pres   dres\n",
        " 0: -5.5230e+01 -5.5490e+02  2e+03  3e+01  5e+00\n",
        " 1: -6.4605e+01 -2.5659e+02  4e+02  5e+00  8e-01\n",
        " 2: -7.7085e+01 -1.2814e+02  6e+01  3e-01  5e-02\n",
        " 3: -8.9800e+01 -1.0418e+02  2e+01  5e-02  9e-03\n",
        " 4: -9.5121e+01 -9.7943e+01  3e+00  8e-03  1e-03\n",
        " 5: -9.6832e+01 -9.7129e+01  3e-01  6e-04  1e-04\n",
        " 6: -9.7028e+01 -9.7036e+01  8e-03  1e-05  2e-06\n",
        " 7: -9.7033e+01 -9.7033e+01  9e-05  1e-07  2e-08\n",
        "Optimal solution found.\n",
        "12 support vectors out of 34 points\n",
        "cutting plane objective: 97.032558, primal objective 257.284815\n",
        "iteration 33\n",
        "OneSlackSSVM(C=0.1, break_on_bad=False, cache_tol=auto,\n",
        "       check_constraints=False, inactive_threshold=1e-05,\n",
        "       inactive_window=50, inference_cache=0, logger=None, max_iter=10000,\n",
        "       model=MultiLabelModel(n_states: 2, inference_method: ad3), n_jobs=1,\n",
        "       positive_constraint=None, show_loss_every=0, switch_to=None,\n",
        "       tol=1e-05, verbose=3)\n",
        "New violation: 1.454778 difference to last: 0.939511"
       ]
      },
      {
       "output_type": "stream",
       "stream": "stdout",
       "text": [
        "\n",
        "     pcost       dcost       gap    pres   dres\n",
        " 0: -5.2124e+01 -5.5584e+02  2e+03  3e+01  5e+00\n",
        " 1: -6.2324e+01 -2.5822e+02  4e+02  4e+00  8e-01\n",
        " 2: -7.9891e+01 -1.2911e+02  5e+01  2e-01  3e-02\n",
        " 3: -9.2385e+01 -1.0574e+02  1e+01  3e-02  6e-03\n",
        " 4: -9.7519e+01 -9.9918e+01  2e+00  4e-03  7e-04\n",
        " 5: -9.8962e+01 -9.9169e+01  2e-01  7e-15  3e-14\n",
        " 6: -9.9084e+01 -9.9094e+01  9e-03  9e-15  5e-14\n",
        " 7: -9.9091e+01 -9.9091e+01  6e-04  6e-15  3e-14\n",
        " 8: -9.9091e+01 -9.9091e+01  7e-05  7e-15  2e-14\n",
        "Optimal solution found.\n",
        "13 support vectors out of 35 points\n",
        "cutting plane objective: 99.090935, primal objective 210.807453\n",
        "iteration 34\n",
        "OneSlackSSVM(C=0.1, break_on_bad=False, cache_tol=auto,\n",
        "       check_constraints=False, inactive_threshold=1e-05,\n",
        "       inactive_window=50, inference_cache=0, logger=None, max_iter=10000,\n",
        "       model=MultiLabelModel(n_states: 2, inference_method: ad3), n_jobs=1,\n",
        "       positive_constraint=None, show_loss_every=0, switch_to=None,\n",
        "       tol=1e-05, verbose=3)\n",
        "New violation: 1.690506 difference to last: 1.137776"
       ]
      },
      {
       "output_type": "stream",
       "stream": "stdout",
       "text": [
        "\n",
        "     pcost       dcost       gap    pres   dres\n",
        " 0: -5.8453e+01 -6.0657e+02  2e+03  3e+01  5e+00\n",
        " 1: -6.4532e+01 -2.8368e+02  4e+02  5e+00  9e-01\n",
        " 2: -7.7674e+01 -1.4149e+02  8e+01  4e-01  7e-02\n",
        " 3: -9.2387e+01 -1.0820e+02  2e+01  7e-02  1e-02\n",
        " 4: -9.8043e+01 -1.0212e+02  4e+00  1e-02  2e-03\n",
        " 5: -1.0053e+02 -1.0082e+02  3e-01  2e-04  3e-05\n",
        " 6: -1.0074e+02 -1.0075e+02  4e-03  2e-06  4e-07\n",
        " 7: -1.0075e+02 -1.0075e+02  4e-05  2e-08  4e-09\n",
        "Optimal solution found.\n",
        "12 support vectors out of 36 points\n",
        "cutting plane objective: 100.746191, primal objective 236.875668\n",
        "iteration 35\n",
        "OneSlackSSVM(C=0.1, break_on_bad=False, cache_tol=auto,\n",
        "       check_constraints=False, inactive_threshold=1e-05,\n",
        "       inactive_window=50, inference_cache=0, logger=None, max_iter=10000,\n",
        "       model=MultiLabelModel(n_states: 2, inference_method: ad3), n_jobs=1,\n",
        "       positive_constraint=None, show_loss_every=0, switch_to=None,\n",
        "       tol=1e-05, verbose=3)\n",
        "New violation: 1.607415 difference to last: 1.027577"
       ]
      },
      {
       "output_type": "stream",
       "stream": "stdout",
       "text": [
        "\n",
        "     pcost       dcost       gap    pres   dres\n",
        " 0: -6.6839e+01 -5.5028e+02  2e+03  3e+01  5e+00\n",
        " 1: -7.2557e+01 -2.6393e+02  4e+02  5e+00  9e-01\n",
        " 2: -8.1233e+01 -1.3888e+02  7e+01  3e-01  6e-02\n",
        " 3: -9.3946e+01 -1.0934e+02  2e+01  5e-02  9e-03\n",
        " 4: -9.9600e+01 -1.0290e+02  3e+00  7e-03  1e-03\n",
        " 5: -1.0128e+02 -1.0166e+02  4e-01  5e-04  9e-05\n",
        " 6: -1.0152e+02 -1.0153e+02  1e-02  9e-06  2e-06\n",
        " 7: -1.0152e+02 -1.0152e+02  1e-04  1e-07  2e-08\n",
        " 8: -1.0152e+02 -1.0152e+02  1e-06  1e-09  2e-10\n",
        "Optimal solution found.\n",
        "14 support vectors out of 37 points\n",
        "cutting plane objective: 101.524152, primal objective 225.185811\n",
        "iteration 36\n",
        "OneSlackSSVM(C=0.1, break_on_bad=False, cache_tol=auto,\n",
        "       check_constraints=False, inactive_threshold=1e-05,\n",
        "       inactive_window=50, inference_cache=0, logger=None, max_iter=10000,\n",
        "       model=MultiLabelModel(n_states: 2, inference_method: ad3), n_jobs=1,\n",
        "       positive_constraint=None, show_loss_every=0, switch_to=None,\n",
        "       tol=1e-05, verbose=3)\n",
        "New violation: 1.458062 difference to last: 0.867482"
       ]
      },
      {
       "output_type": "stream",
       "stream": "stdout",
       "text": [
        "\n",
        "     pcost       dcost       gap    pres   dres\n",
        " 0: -6.5330e+01 -5.2335e+02  2e+03  3e+01  5e+00\n",
        " 1: -7.3626e+01 -2.6160e+02  4e+02  6e+00  9e-01\n",
        " 2: -8.2633e+01 -1.4071e+02  7e+01  4e-01  6e-02\n",
        " 3: -9.4734e+01 -1.1036e+02  2e+01  6e-02  9e-03\n",
        " 4: -1.0076e+02 -1.0435e+02  4e+00  6e-03  9e-04\n",
        " 5: -1.0262e+02 -1.0318e+02  6e-01  6e-04  1e-04\n",
        " 6: -1.0296e+02 -1.0298e+02  2e-02  1e-05  2e-06\n",
        " 7: -1.0298e+02 -1.0298e+02  2e-04  1e-07  2e-08\n",
        " 8: -1.0298e+02 -1.0298e+02  2e-06  1e-09  2e-10\n",
        "Optimal solution found.\n",
        "13 support vectors out of 38 points\n",
        "cutting plane objective: 102.976358, primal objective 206.576266\n",
        "iteration 37\n",
        "OneSlackSSVM(C=0.1, break_on_bad=False, cache_tol=auto,\n",
        "       check_constraints=False, inactive_threshold=1e-05,\n",
        "       inactive_window=50, inference_cache=0, logger=None, max_iter=10000,\n",
        "       model=MultiLabelModel(n_states: 2, inference_method: ad3), n_jobs=1,\n",
        "       positive_constraint=None, show_loss_every=0, switch_to=None,\n",
        "       tol=1e-05, verbose=3)\n",
        "New violation: 1.213712 difference to last: 0.602147"
       ]
      },
      {
       "output_type": "stream",
       "stream": "stdout",
       "text": [
        "\n",
        "     pcost       dcost       gap    pres   dres\n",
        " 0: -6.9494e+01 -5.2400e+02  2e+03  3e+01  5e+00\n",
        " 1: -7.6152e+01 -2.6587e+02  4e+02  6e+00  9e-01\n",
        " 2: -8.4047e+01 -1.4612e+02  8e+01  5e-01  9e-02\n",
        " 3: -9.6771e+01 -1.1226e+02  2e+01  4e-02  7e-03\n",
        " 4: -1.0280e+02 -1.0569e+02  3e+00  2e-03  3e-04\n",
        " 5: -1.0418e+02 -1.0459e+02  4e-01  8e-15  3e-14\n",
        " 6: -1.0442e+02 -1.0444e+02  2e-02  5e-15  4e-14\n",
        " 7: -1.0443e+02 -1.0443e+02  9e-04  5e-15  4e-14\n",
        " 8: -1.0443e+02 -1.0443e+02  4e-05  6e-15  3e-14\n",
        "Optimal solution found.\n",
        "14 support vectors out of 39 points\n",
        "cutting plane objective: 104.434338, primal objective 175.896382\n",
        "iteration 38\n",
        "OneSlackSSVM(C=0.1, break_on_bad=False, cache_tol=auto,\n",
        "       check_constraints=False, inactive_threshold=1e-05,\n",
        "       inactive_window=50, inference_cache=0, logger=None, max_iter=10000,\n",
        "       model=MultiLabelModel(n_states: 2, inference_method: ad3), n_jobs=1,\n",
        "       positive_constraint=None, show_loss_every=0, switch_to=None,\n",
        "       tol=1e-05, verbose=3)\n",
        "New violation: 1.459944 difference to last: 0.826667"
       ]
      },
      {
       "output_type": "stream",
       "stream": "stdout",
       "text": [
        "\n",
        "     pcost       dcost       gap    pres   dres\n",
        " 0: -7.2520e+01 -5.3516e+02  2e+03  3e+01  5e+00\n",
        " 1: -7.7502e+01 -2.7159e+02  4e+02  6e+00  1e+00\n",
        " 2: -8.4154e+01 -1.4899e+02  8e+01  6e-01  9e-02\n",
        " 3: -9.7170e+01 -1.1437e+02  2e+01  6e-02  9e-03\n",
        " 4: -1.0361e+02 -1.0744e+02  4e+00  7e-03  1e-03\n",
        " 5: -1.0554e+02 -1.0616e+02  6e-01  9e-04  1e-04\n",
        " 6: -1.0596e+02 -1.0597e+02  1e-02  1e-05  2e-06\n",
        " 7: -1.0597e+02 -1.0597e+02  1e-04  1e-07  2e-08\n",
        " 8: -1.0597e+02 -1.0597e+02  1e-06  1e-09  2e-10\n",
        "Optimal solution found.\n",
        "14 support vectors out of 40 points\n",
        "cutting plane objective: 105.967571, primal objective 204.543806\n",
        "iteration 39\n",
        "OneSlackSSVM(C=0.1, break_on_bad=False, cache_tol=auto,\n",
        "       check_constraints=False, inactive_threshold=1e-05,\n",
        "       inactive_window=50, inference_cache=0, logger=None, max_iter=10000,\n",
        "       model=MultiLabelModel(n_states: 2, inference_method: ad3), n_jobs=1,\n",
        "       positive_constraint=None, show_loss_every=0, switch_to=None,\n",
        "       tol=1e-05, verbose=3)\n",
        "New violation: 1.287631 difference to last: 0.646686"
       ]
      },
      {
       "output_type": "stream",
       "stream": "stdout",
       "text": [
        "\n",
        "     pcost       dcost       gap    pres   dres\n",
        " 0: -7.2782e+01 -5.2713e+02  2e+03  3e+01  5e+00\n",
        " 1: -7.7695e+01 -2.7165e+02  4e+02  6e+00  9e-01\n",
        " 2: -8.5472e+01 -1.5238e+02  9e+01  6e-01  1e-01\n",
        " 3: -9.8493e+01 -1.1796e+02  2e+01  8e-02  1e-02\n",
        " 4: -1.0439e+02 -1.1141e+02  7e+00  2e-02  4e-03\n",
        " 5: -1.0757e+02 -1.0937e+02  2e+00  4e-03  6e-04\n",
        " 6: -1.0823e+02 -1.0871e+02  5e-01  4e-04  6e-05\n",
        " 7: -1.0853e+02 -1.0856e+02  3e-02  8e-06  1e-06\n",
        " 8: -1.0855e+02 -1.0855e+02  4e-04  1e-07  2e-08\n",
        " 9: -1.0855e+02 -1.0855e+02  4e-06  1e-09  2e-10\n",
        "Optimal solution found.\n",
        "14 support vectors out of 41 points\n",
        "cutting plane objective: 108.551129, primal objective 184.281250\n",
        "iteration 40\n",
        "OneSlackSSVM(C=0.1, break_on_bad=False, cache_tol=auto,\n",
        "       check_constraints=False, inactive_threshold=1e-05,\n",
        "       inactive_window=50, inference_cache=0, logger=None, max_iter=10000,\n",
        "       model=MultiLabelModel(n_states: 2, inference_method: ad3), n_jobs=1,\n",
        "       positive_constraint=None, show_loss_every=0, switch_to=None,\n",
        "       tol=1e-05, verbose=3)\n",
        "New violation: 1.541236 difference to last: 0.855877"
       ]
      },
      {
       "output_type": "stream",
       "stream": "stdout",
       "text": [
        "\n",
        "     pcost       dcost       gap    pres   dres\n",
        " 0: -7.8233e+01 -5.1327e+02  2e+03  3e+01  4e+00\n",
        " 1: -8.1340e+01 -2.7379e+02  4e+02  7e+00  1e+00\n",
        " 2: -8.6030e+01 -1.5517e+02  9e+01  9e-01  1e-01\n",
        " 3: -9.8012e+01 -1.1974e+02  2e+01  1e-01  2e-02\n",
        " 4: -1.0412e+02 -1.1228e+02  9e+00  4e-02  5e-03\n",
        " 5: -1.0823e+02 -1.0975e+02  2e+00  2e-03  2e-04\n",
        " 6: -1.0909e+02 -1.0924e+02  1e-01  2e-05  3e-06\n",
        " 7: -1.0919e+02 -1.0919e+02  6e-03  5e-07  7e-08\n",
        " 8: -1.0919e+02 -1.0919e+02  4e-04  6e-09  8e-10\n",
        " 9: -1.0919e+02 -1.0919e+02  3e-05  2e-11  3e-12\n",
        "Optimal solution found.\n",
        "12 support vectors out of 42 points\n",
        "cutting plane objective: 109.192835, primal objective 212.197885\n",
        "iteration 41\n",
        "OneSlackSSVM(C=0.1, break_on_bad=False, cache_tol=auto,\n",
        "       check_constraints=False, inactive_threshold=1e-05,\n",
        "       inactive_window=50, inference_cache=0, logger=None, max_iter=10000,\n",
        "       model=MultiLabelModel(n_states: 2, inference_method: ad3), n_jobs=1,\n",
        "       positive_constraint=None, show_loss_every=0, switch_to=None,\n",
        "       tol=1e-05, verbose=3)\n",
        "New violation: 1.210580 difference to last: 0.519079"
       ]
      },
      {
       "output_type": "stream",
       "stream": "stdout",
       "text": [
        "\n",
        "     pcost       dcost       gap    pres   dres\n",
        " 0: -8.1473e+01 -5.1241e+02  2e+03  3e+01  4e+00\n",
        " 1: -8.2858e+01 -2.7674e+02  4e+02  7e+00  1e+00\n",
        " 2: -8.6469e+01 -1.5746e+02  1e+02  1e+00  1e-01\n",
        " 3: -9.8159e+01 -1.2062e+02  2e+01  1e-01  2e-02\n",
        " 4: -1.0467e+02 -1.1270e+02  9e+00  4e-02  6e-03\n",
        " 5: -1.0879e+02 -1.1006e+02  1e+00  4e-15  3e-14\n",
        " 6: -1.0949e+02 -1.0970e+02  2e-01  9e-15  3e-14\n",
        " 7: -1.0963e+02 -1.0964e+02  7e-03  9e-15  3e-14\n",
        " 8: -1.0963e+02 -1.0963e+02  2e-04  6e-15  3e-14\n",
        " 9: -1.0963e+02 -1.0963e+02  4e-06  1e-14  3e-14\n",
        "Optimal solution found.\n",
        "12 support vectors out of 43 points\n",
        "cutting plane objective: 109.633228, primal objective 172.053290\n",
        "iteration 42\n",
        "OneSlackSSVM(C=0.1, break_on_bad=False, cache_tol=auto,\n",
        "       check_constraints=False, inactive_threshold=1e-05,\n",
        "       inactive_window=50, inference_cache=0, logger=None, max_iter=10000,\n",
        "       model=MultiLabelModel(n_states: 2, inference_method: ad3), n_jobs=1,\n",
        "       positive_constraint=None, show_loss_every=0, switch_to=None,\n",
        "       tol=1e-05, verbose=3)\n",
        "New violation: 1.296689 difference to last: 0.595862"
       ]
      },
      {
       "output_type": "stream",
       "stream": "stdout",
       "text": [
        "\n",
        "     pcost       dcost       gap    pres   dres\n",
        " 0: -8.1355e+01 -4.8602e+02  1e+03  3e+01  4e+00\n",
        " 1: -8.5351e+01 -2.6598e+02  4e+02  7e+00  9e-01\n",
        " 2: -8.8905e+01 -1.5764e+02  1e+02  1e+00  2e-01\n",
        " 3: -9.9158e+01 -1.2237e+02  3e+01  2e-01  3e-02\n",
        " 4: -1.0601e+02 -1.1316e+02  8e+00  4e-02  5e-03\n",
        " 5: -1.0953e+02 -1.1130e+02  2e+00  9e-15  3e-14\n",
        " 6: -1.1040e+02 -1.1063e+02  2e-01  7e-15  3e-14\n",
        " 7: -1.1053e+02 -1.1054e+02  1e-02  7e-15  3e-14\n",
        " 8: -1.1053e+02 -1.1053e+02  3e-04  6e-15  3e-14\n",
        " 9: -1.1053e+02 -1.1053e+02  3e-06  1e-14  3e-14\n",
        "Optimal solution found.\n",
        "12 support vectors out of 44 points\n",
        "cutting plane objective: 110.534042, primal objective 181.792106\n",
        "iteration 43\n",
        "OneSlackSSVM(C=0.1, break_on_bad=False, cache_tol=auto,\n",
        "       check_constraints=False, inactive_threshold=1e-05,\n",
        "       inactive_window=50, inference_cache=0, logger=None, max_iter=10000,\n",
        "       model=MultiLabelModel(n_states: 2, inference_method: ad3), n_jobs=1,\n",
        "       positive_constraint=None, show_loss_every=0, switch_to=None,\n",
        "       tol=1e-05, verbose=3)\n",
        "New violation: 1.297829 difference to last: 0.587221"
       ]
      },
      {
       "output_type": "stream",
       "stream": "stdout",
       "text": [
        "\n",
        "     pcost       dcost       gap    pres   dres\n",
        " 0: -8.2979e+01 -4.9714e+02  1e+03  3e+01  4e+00\n",
        " 1: -8.6328e+01 -2.7598e+02  4e+02  7e+00  1e+00\n",
        " 2: -8.8877e+01 -1.6259e+02  1e+02  2e+00  2e-01\n",
        " 3: -9.9231e+01 -1.2377e+02  3e+01  2e-01  3e-02\n",
        " 4: -1.0687e+02 -1.1357e+02  7e+00  3e-02  4e-03\n",
        " 5: -1.1036e+02 -1.1169e+02  1e+00  8e-15  3e-14\n",
        " 6: -1.1095e+02 -1.1109e+02  1e-01  6e-15  2e-14\n",
        " 7: -1.1103e+02 -1.1103e+02  4e-03  9e-15  3e-14\n",
        " 8: -1.1103e+02 -1.1103e+02  4e-05  9e-15  4e-14\n",
        "Optimal solution found.\n",
        "13 support vectors out of 45 points\n",
        "cutting plane objective: 111.029468, primal objective 181.646565\n",
        "iteration 44\n",
        "OneSlackSSVM(C=0.1, break_on_bad=False, cache_tol=auto,\n",
        "       check_constraints=False, inactive_threshold=1e-05,\n",
        "       inactive_window=50, inference_cache=0, logger=None, max_iter=10000,\n",
        "       model=MultiLabelModel(n_states: 2, inference_method: ad3), n_jobs=1,\n",
        "       positive_constraint=None, show_loss_every=0, switch_to=None,\n",
        "       tol=1e-05, verbose=3)\n",
        "New violation: 1.478652 difference to last: 0.762343"
       ]
      },
      {
       "output_type": "stream",
       "stream": "stdout",
       "text": [
        "\n",
        "     pcost       dcost       gap    pres   dres\n",
        " 0: -8.3836e+01 -4.5127e+02  1e+03  3e+01  4e+00\n",
        " 1: -8.7898e+01 -2.5375e+02  4e+02  7e+00  9e-01\n",
        " 2: -9.0995e+01 -1.5475e+02  1e+02  1e+00  2e-01\n",
        " 3: -1.0083e+02 -1.2234e+02  2e+01  2e-01  2e-02\n",
        " 4: -1.0754e+02 -1.1373e+02  7e+00  3e-02  4e-03\n",
        " 5: -1.1084e+02 -1.1182e+02  1e+00  9e-15  3e-14\n",
        " 6: -1.1146e+02 -1.1149e+02  3e-02  7e-15  3e-14\n",
        " 7: -1.1149e+02 -1.1149e+02  4e-04  1e-14  3e-14\n",
        " 8: -1.1149e+02 -1.1149e+02  4e-06  5e-15  2e-14\n",
        "Optimal solution found.\n",
        "12 support vectors out of 46 points\n",
        "cutting plane objective: 111.486391, primal objective 203.349205\n",
        "iteration 45\n",
        "OneSlackSSVM(C=0.1, break_on_bad=False, cache_tol=auto,\n",
        "       check_constraints=False, inactive_threshold=1e-05,\n",
        "       inactive_window=50, inference_cache=0, logger=None, max_iter=10000,\n",
        "       model=MultiLabelModel(n_states: 2, inference_method: ad3), n_jobs=1,\n",
        "       positive_constraint=None, show_loss_every=0, switch_to=None,\n",
        "       tol=1e-05, verbose=3)\n",
        "New violation: 1.123961 difference to last: 0.404839"
       ]
      },
      {
       "output_type": "stream",
       "stream": "stdout",
       "text": [
        "\n",
        "     pcost       dcost       gap    pres   dres\n",
        " 0: -8.9221e+01 -4.4609e+02  1e+03  3e+01  4e+00\n",
        " 1: -9.3362e+01 -2.5498e+02  4e+02  7e+00  9e-01\n",
        " 2: -9.4134e+01 -1.5417e+02  1e+02  1e+00  2e-01\n",
        " 3: -1.0241e+02 -1.2319e+02  2e+01  2e-01  2e-02\n",
        " 4: -1.0954e+02 -1.1488e+02  6e+00  3e-02  3e-03\n",
        " 5: -1.1215e+02 -1.1333e+02  1e+00  5e-03  6e-04\n",
        " 6: -1.1280e+02 -1.1295e+02  1e-01  4e-04  5e-05\n",
        " 7: -1.1291e+02 -1.1291e+02  3e-03  6e-06  7e-07\n",
        " 8: -1.1291e+02 -1.1291e+02  3e-05  6e-08  7e-09\n",
        "Optimal solution found.\n",
        "13 support vectors out of 47 points\n",
        "cutting plane objective: 112.909567, primal objective 160.512382\n",
        "iteration 46\n",
        "OneSlackSSVM(C=0.1, break_on_bad=False, cache_tol=auto,\n",
        "       check_constraints=False, inactive_threshold=1e-05,\n",
        "       inactive_window=50, inference_cache=0, logger=None, max_iter=10000,\n",
        "       model=MultiLabelModel(n_states: 2, inference_method: ad3), n_jobs=1,\n",
        "       positive_constraint=None, show_loss_every=0, switch_to=None,\n",
        "       tol=1e-05, verbose=3)\n",
        "New violation: 1.341500 difference to last: 0.614671"
       ]
      },
      {
       "output_type": "stream",
       "stream": "stdout",
       "text": [
        "\n",
        "     pcost       dcost       gap    pres   dres\n",
        " 0: -9.0229e+01 -4.4304e+02  1e+03  3e+01  4e+00\n",
        " 1: -9.4395e+01 -2.5424e+02  4e+02  7e+00  8e-01\n",
        " 2: -9.5009e+01 -1.5361e+02  9e+01  1e+00  2e-01\n",
        " 3: -1.0336e+02 -1.2347e+02  2e+01  2e-01  2e-02\n",
        " 4: -1.1071e+02 -1.1513e+02  5e+00  2e-02  2e-03\n",
        " 5: -1.1345e+02 -1.1389e+02  4e-01  1e-03  1e-04\n",
        " 6: -1.1374e+02 -1.1376e+02  2e-02  3e-05  3e-06\n",
        " 7: -1.1376e+02 -1.1376e+02  7e-04  4e-07  5e-08\n",
        " 8: -1.1376e+02 -1.1376e+02  5e-05  7e-09  9e-10\n",
        "Optimal solution found.\n",
        "14 support vectors out of 48 points\n",
        "cutting plane objective: 113.757294, primal objective 187.346248\n",
        "iteration 47\n",
        "OneSlackSSVM(C=0.1, break_on_bad=False, cache_tol=auto,\n",
        "       check_constraints=False, inactive_threshold=1e-05,\n",
        "       inactive_window=50, inference_cache=0, logger=None, max_iter=10000,\n",
        "       model=MultiLabelModel(n_states: 2, inference_method: ad3), n_jobs=1,\n",
        "       positive_constraint=None, show_loss_every=0, switch_to=None,\n",
        "       tol=1e-05, verbose=3)\n",
        "New violation: 1.333242 difference to last: 0.594921"
       ]
      },
      {
       "output_type": "stream",
       "stream": "stdout",
       "text": [
        "\n",
        "     pcost       dcost       gap    pres   dres\n",
        " 0: -9.1525e+01 -4.2203e+02  1e+03  3e+01  3e+00\n",
        " 1: -9.6062e+01 -2.4560e+02  3e+02  6e+00  8e-01\n",
        " 2: -9.7362e+01 -1.4257e+02  6e+01  7e-01  9e-02\n",
        " 3: -1.0655e+02 -1.2270e+02  2e+01  1e-01  1e-02\n",
        " 4: -1.1359e+02 -1.1623e+02  3e+00  5e-03  6e-04\n",
        " 5: -1.1508e+02 -1.1543e+02  4e-01  6e-04  7e-05\n",
        " 6: -1.1532e+02 -1.1533e+02  9e-03  1e-05  1e-06\n",
        " 7: -1.1533e+02 -1.1533e+02  3e-04  1e-07  2e-08\n",
        " 8: -1.1533e+02 -1.1533e+02  2e-05  1e-09  1e-10\n",
        "Optimal solution found.\n",
        "16 support vectors out of 49 points\n",
        "cutting plane objective: 115.327593, primal objective 185.802323\n",
        "iteration 48\n",
        "OneSlackSSVM(C=0.1, break_on_bad=False, cache_tol=auto,\n",
        "       check_constraints=False, inactive_threshold=1e-05,\n",
        "       inactive_window=50, inference_cache=0, logger=None, max_iter=10000,\n",
        "       model=MultiLabelModel(n_states: 2, inference_method: ad3), n_jobs=1,\n",
        "       positive_constraint=None, show_loss_every=0, switch_to=None,\n",
        "       tol=1e-05, verbose=3)\n",
        "New violation: 1.549642 difference to last: 0.808105"
       ]
      },
      {
       "output_type": "stream",
       "stream": "stdout",
       "text": [
        "\n",
        "     pcost       dcost       gap    pres   dres\n",
        " 0: -9.0657e+01 -4.2299e+02  1e+03  3e+01  3e+00\n",
        " 1: -9.6209e+01 -2.4801e+02  3e+02  6e+00  7e-01\n",
        " 2: -9.8062e+01 -1.4658e+02  7e+01  9e-01  1e-01\n",
        " 3: -1.0673e+02 -1.2399e+02  2e+01  1e-01  2e-02\n",
        " 4: -1.1384e+02 -1.1731e+02  4e+00  1e-02  2e-03\n",
        " 5: -1.1581e+02 -1.1647e+02  7e-01  2e-03  3e-04\n",
        " 6: -1.1625e+02 -1.1628e+02  3e-02  9e-15  2e-14\n",
        " 7: -1.1627e+02 -1.1627e+02  4e-04  7e-15  2e-14\n",
        " 8: -1.1627e+02 -1.1627e+02  4e-06  3e-15  2e-14\n",
        "Optimal solution found.\n",
        "13 support vectors out of 50 points\n",
        "cutting plane objective: 116.274377, primal objective 213.189104\n",
        "iteration 49\n",
        "OneSlackSSVM(C=0.1, break_on_bad=False, cache_tol=auto,\n",
        "       check_constraints=False, inactive_threshold=1e-05,\n",
        "       inactive_window=50, inference_cache=0, logger=None, max_iter=10000,\n",
        "       model=MultiLabelModel(n_states: 2, inference_method: ad3), n_jobs=1,\n",
        "       positive_constraint=None, show_loss_every=0, switch_to=None,\n",
        "       tol=1e-05, verbose=3)\n",
        "New violation: 1.224868 difference to last: 0.478229"
       ]
      },
      {
       "output_type": "stream",
       "stream": "stdout",
       "text": [
        "\n",
        "     pcost       dcost       gap    pres   dres\n",
        " 0: -9.0123e+01 -4.2320e+02  1e+03  3e+01  3e+00\n",
        " 1: -9.6420e+01 -2.4998e+02  3e+02  6e+00  7e-01\n",
        " 2: -1.0102e+02 -1.5715e+02  8e+01  1e+00  1e-01\n",
        " 3: -1.0960e+02 -1.2727e+02  2e+01  1e-01  2e-02\n",
        " 4: -1.1588e+02 -1.2052e+02  5e+00  2e-02  2e-03\n",
        " 5: -1.1796e+02 -1.1891e+02  1e+00  1e-03  1e-04\n",
        " 6: -1.1850e+02 -1.1857e+02  7e-02  7e-05  9e-06\n",
        " 7: -1.1854e+02 -1.1854e+02  3e-03  1e-06  2e-07\n",
        " 8: -1.1854e+02 -1.1854e+02  1e-04  1e-08  2e-09\n",
        " 9: -1.1854e+02 -1.1854e+02  6e-06  1e-10  2e-11\n",
        "Optimal solution found.\n",
        "16 support vectors out of 51 points\n",
        "cutting plane objective: 118.543450, primal objective 174.187880\n",
        "iteration 50\n",
        "OneSlackSSVM(C=0.1, break_on_bad=False, cache_tol=auto,\n",
        "       check_constraints=False, inactive_threshold=1e-05,\n",
        "       inactive_window=50, inference_cache=0, logger=None, max_iter=10000,\n",
        "       model=MultiLabelModel(n_states: 2, inference_method: ad3), n_jobs=1,\n",
        "       positive_constraint=None, show_loss_every=0, switch_to=None,\n",
        "       tol=1e-05, verbose=3)\n",
        "New violation: 1.646966 difference to last: 0.880792"
       ]
      },
      {
       "output_type": "stream",
       "stream": "stdout",
       "text": [
        "\n",
        "     pcost       dcost       gap    pres   dres\n",
        " 0: -9.2056e+01 -4.0622e+02  1e+03  3e+01  3e+00\n",
        " 1: -9.7914e+01 -2.4265e+02  3e+02  6e+00  7e-01\n",
        " 2: -1.0219e+02 -1.5777e+02  8e+01  1e+00  1e-01\n",
        " 3: -1.0999e+02 -1.2768e+02  2e+01  1e-01  2e-02\n",
        " 4: -1.1601e+02 -1.2147e+02  6e+00  3e-02  3e-03\n",
        " 5: -1.1854e+02 -1.1955e+02  1e+00  2e-03  3e-04\n",
        " 6: -1.1912e+02 -1.1921e+02  9e-02  2e-04  2e-05\n",
        " 7: -1.1917e+02 -1.1918e+02  9e-03  1e-05  1e-06\n",
        " 8: -1.1917e+02 -1.1917e+02  5e-04  2e-07  3e-08\n",
        " 9: -1.1917e+02 -1.1917e+02  4e-05  9e-10  1e-10\n",
        "Optimal solution found.\n",
        "18 support vectors out of 52 points\n",
        "cutting plane objective: 119.172589, primal objective 225.207376\n",
        "iteration 51\n",
        "OneSlackSSVM(C=0.1, break_on_bad=False, cache_tol=auto,\n",
        "       check_constraints=False, inactive_threshold=1e-05,\n",
        "       inactive_window=50, inference_cache=0, logger=None, max_iter=10000,\n",
        "       model=MultiLabelModel(n_states: 2, inference_method: ad3), n_jobs=1,\n",
        "       positive_constraint=None, show_loss_every=0, switch_to=None,\n",
        "       tol=1e-05, verbose=3)\n",
        "New violation: 1.351526 difference to last: 0.575946"
       ]
      },
      {
       "output_type": "stream",
       "stream": "stdout",
       "text": [
        "\n",
        "     pcost       dcost       gap    pres   dres\n",
        " 0: -9.1824e+01 -4.0239e+02  1e+03  3e+01  3e+00\n",
        " 1: -9.8591e+01 -2.4220e+02  3e+02  7e+00  7e-01\n",
        " 2: -1.0273e+02 -1.6014e+02  9e+01  1e+00  1e-01\n",
        " 3: -1.1026e+02 -1.2859e+02  2e+01  2e-01  2e-02\n",
        " 4: -1.1670e+02 -1.2219e+02  6e+00  3e-02  3e-03\n",
        " 5: -1.1949e+02 -1.2038e+02  9e-01  9e-15  2e-14\n",
        " 6: -1.1999e+02 -1.2006e+02  7e-02  6e-15  2e-14\n",
        " 7: -1.2003e+02 -1.2004e+02  4e-03  5e-15  1e-14\n",
        " 8: -1.2004e+02 -1.2004e+02  2e-04  7e-15  2e-14\n",
        " 9: -1.2004e+02 -1.2004e+02  7e-06  8e-15  2e-14\n",
        "Optimal solution found.\n",
        "15 support vectors out of 53 points\n",
        "cutting plane objective: 120.036630, primal objective 188.919675\n",
        "iteration 52\n",
        "OneSlackSSVM(C=0.1, break_on_bad=False, cache_tol=auto,\n",
        "       check_constraints=False, inactive_threshold=1e-05,\n",
        "       inactive_window=50, inference_cache=0, logger=None, max_iter=10000,\n",
        "       model=MultiLabelModel(n_states: 2, inference_method: ad3), n_jobs=1,\n",
        "       positive_constraint=None, show_loss_every=0, switch_to=None,\n",
        "       tol=1e-05, verbose=3)\n",
        "New violation: 1.368981 difference to last: 0.583209"
       ]
      },
      {
       "output_type": "stream",
       "stream": "stdout",
       "text": [
        "\n",
        "     pcost       dcost       gap    pres   dres\n",
        " 0: -9.0891e+01 -4.0047e+02  1e+03  3e+01  3e+00\n",
        " 1: -9.8414e+01 -2.4280e+02  3e+02  7e+00  7e-01\n",
        " 2: -1.0305e+02 -1.6204e+02  9e+01  1e+00  1e-01\n",
        " 3: -1.1037e+02 -1.2904e+02  2e+01  2e-01  2e-02\n",
        " 4: -1.1679e+02 -1.2281e+02  6e+00  3e-02  4e-03\n",
        " 5: -1.1950e+02 -1.2103e+02  2e+00  6e-03  6e-04\n",
        " 6: -1.2039e+02 -1.2054e+02  2e-01  4e-04  4e-05\n",
        " 7: -1.2048e+02 -1.2049e+02  1e-02  2e-05  2e-06\n",
        " 8: -1.2049e+02 -1.2049e+02  8e-04  1e-06  1e-07\n",
        " 9: -1.2049e+02 -1.2049e+02  3e-05  2e-08  2e-09\n",
        "Optimal solution found.\n",
        "16 support vectors out of 54 points\n",
        "cutting plane objective: 120.489676, primal objective 190.663246\n",
        "iteration 53\n",
        "OneSlackSSVM(C=0.1, break_on_bad=False, cache_tol=auto,\n",
        "       check_constraints=False, inactive_threshold=1e-05,\n",
        "       inactive_window=50, inference_cache=0, logger=None, max_iter=10000,\n",
        "       model=MultiLabelModel(n_states: 2, inference_method: ad3), n_jobs=1,\n",
        "       positive_constraint=None, show_loss_every=0, switch_to=None,\n",
        "       tol=1e-05, verbose=3)\n",
        "New violation: 1.270031 difference to last: 0.480732"
       ]
      },
      {
       "output_type": "stream",
       "stream": "stdout",
       "text": [
        "\n",
        "     pcost       dcost       gap    pres   dres\n",
        " 0: -9.2455e+01 -3.8371e+02  1e+03  3e+01  3e+00\n",
        " 1: -1.0012e+02 -2.3574e+02  3e+02  7e+00  7e-01\n",
        " 2: -1.0436e+02 -1.6155e+02  9e+01  2e+00  2e-01\n",
        " 3: -1.1094e+02 -1.2866e+02  2e+01  2e-01  2e-02\n",
        " 4: -1.1718e+02 -1.2299e+02  6e+00  4e-02  3e-03\n",
        " 5: -1.2041e+02 -1.2140e+02  1e+00  2e-03  2e-04\n",
        " 6: -1.2097e+02 -1.2109e+02  1e-01  2e-04  2e-05\n",
        " 7: -1.2105e+02 -1.2105e+02  4e-03  8e-15  2e-14\n",
        " 8: -1.2105e+02 -1.2105e+02  4e-05  1e-14  3e-14\n",
        "Optimal solution found.\n",
        "14 support vectors out of 55 points\n",
        "cutting plane objective: 121.053763, primal objective 178.706374\n",
        "iteration 54\n",
        "OneSlackSSVM(C=0.1, break_on_bad=False, cache_tol=auto,\n",
        "       check_constraints=False, inactive_threshold=1e-05,\n",
        "       inactive_window=50, inference_cache=0, logger=None, max_iter=10000,\n",
        "       model=MultiLabelModel(n_states: 2, inference_method: ad3), n_jobs=1,\n",
        "       positive_constraint=None, show_loss_every=0, switch_to=None,\n",
        "       tol=1e-05, verbose=3)\n",
        "New violation: 1.264767 difference to last: 0.470706"
       ]
      },
      {
       "output_type": "stream",
       "stream": "stdout",
       "text": [
        "\n",
        "     pcost       dcost       gap    pres   dres\n",
        " 0: -9.3328e+01 -3.8292e+02  1e+03  3e+01  3e+00\n",
        " 1: -1.0057e+02 -2.3634e+02  3e+02  7e+00  7e-01\n",
        " 2: -1.0497e+02 -1.6430e+02  1e+02  2e+00  2e-01\n",
        " 3: -1.1139e+02 -1.2919e+02  2e+01  1e-01  1e-02\n",
        " 4: -1.1735e+02 -1.2350e+02  6e+00  4e-02  4e-03\n",
        " 5: -1.2055e+02 -1.2185e+02  1e+00  3e-03  3e-04\n",
        " 6: -1.2144e+02 -1.2149e+02  5e-02  7e-05  7e-06\n",
        " 7: -1.2148e+02 -1.2148e+02  2e-03  2e-06  2e-07\n",
        " 8: -1.2148e+02 -1.2148e+02  2e-05  2e-08  2e-09\n",
        "Optimal solution found.\n",
        "14 support vectors out of 56 points\n",
        "cutting plane objective: 121.478441, primal objective 178.056339\n",
        "iteration 55\n",
        "OneSlackSSVM(C=0.1, break_on_bad=False, cache_tol=auto,\n",
        "       check_constraints=False, inactive_threshold=1e-05,\n",
        "       inactive_window=50, inference_cache=0, logger=None, max_iter=10000,\n",
        "       model=MultiLabelModel(n_states: 2, inference_method: ad3), n_jobs=1,\n",
        "       positive_constraint=None, show_loss_every=0, switch_to=None,\n",
        "       tol=1e-05, verbose=3)\n",
        "New violation: 1.140112 difference to last: 0.340214"
       ]
      },
      {
       "output_type": "stream",
       "stream": "stdout",
       "text": [
        "\n",
        "     pcost       dcost       gap    pres   dres\n",
        " 0: -9.3365e+01 -3.7956e+02  1e+03  3e+01  4e+00\n",
        " 1: -9.6486e+01 -2.1461e+02  2e+02  5e+00  7e-01\n",
        " 2: -1.0583e+02 -1.4957e+02  4e+01  5e-02  7e-03\n",
        " 3: -1.1706e+02 -1.2713e+02  1e+01  5e-03  7e-04\n",
        " 4: -1.2036e+02 -1.2332e+02  3e+00  7e-04  1e-04\n",
        " 5: -1.2174e+02 -1.2219e+02  5e-01  2e-05  3e-06\n",
        " 6: -1.2200e+02 -1.2205e+02  5e-02  5e-15  2e-14\n",
        " 7: -1.2203e+02 -1.2203e+02  1e-03  7e-15  2e-14\n",
        " 8: -1.2203e+02 -1.2203e+02  2e-05  7e-15  1e-14\n",
        "Optimal solution found.\n",
        "18 support vectors out of 56 points\n",
        "cutting plane objective: 122.032777, primal objective 162.678386\n",
        "iteration 56\n",
        "OneSlackSSVM(C=0.1, break_on_bad=False, cache_tol=auto,\n",
        "       check_constraints=False, inactive_threshold=1e-05,\n",
        "       inactive_window=50, inference_cache=0, logger=None, max_iter=10000,\n",
        "       model=MultiLabelModel(n_states: 2, inference_method: ad3), n_jobs=1,\n",
        "       positive_constraint=None, show_loss_every=0, switch_to=None,\n",
        "       tol=1e-05, verbose=3)\n",
        "New violation: 1.241857 difference to last: 0.432477"
       ]
      },
      {
       "output_type": "stream",
       "stream": "stdout",
       "text": [
        "\n",
        "     pcost       dcost       gap    pres   dres\n",
        " 0: -9.3244e+01 -3.8005e+02  1e+03  3e+01  4e+00\n",
        " 1: -9.6533e+01 -2.1543e+02  2e+02  5e+00  7e-01\n",
        " 2: -1.0593e+02 -1.4991e+02  4e+01  6e-15  2e-14\n",
        " 3: -1.1698e+02 -1.2849e+02  1e+01  7e-15  2e-14\n",
        " 4: -1.2057e+02 -1.2449e+02  4e+00  1e-14  1e-14\n",
        " 5: -1.2255e+02 -1.2309e+02  5e-01  6e-15  2e-14\n",
        " 6: -1.2287e+02 -1.2293e+02  6e-02  9e-15  2e-14\n",
        " 7: -1.2291e+02 -1.2291e+02  1e-03  5e-15  1e-14\n",
        " 8: -1.2291e+02 -1.2291e+02  1e-05  8e-15  1e-14\n",
        "Optimal solution found.\n",
        "15 support vectors out of 57 points\n",
        "cutting plane objective: 122.912497, primal objective 174.405801\n",
        "iteration 57\n",
        "OneSlackSSVM(C=0.1, break_on_bad=False, cache_tol=auto,\n",
        "       check_constraints=False, inactive_threshold=1e-05,\n",
        "       inactive_window=50, inference_cache=0, logger=None, max_iter=10000,\n",
        "       model=MultiLabelModel(n_states: 2, inference_method: ad3), n_jobs=1,\n",
        "       positive_constraint=None, show_loss_every=0, switch_to=None,\n",
        "       tol=1e-05, verbose=3)\n",
        "New violation: 1.191050 difference to last: 0.373710"
       ]
      },
      {
       "output_type": "stream",
       "stream": "stdout",
       "text": [
        "\n",
        "     pcost       dcost       gap    pres   dres\n",
        " 0: -9.4073e+01 -3.8143e+02  1e+03  3e+01  4e+00\n",
        " 1: -9.7284e+01 -2.1753e+02  2e+02  5e+00  7e-01\n",
        " 2: -1.0625e+02 -1.5180e+02  5e+01  3e-02  4e-03\n",
        " 3: -1.1774e+02 -1.2933e+02  1e+01  2e-03  3e-04\n",
        " 4: -1.2233e+02 -1.2567e+02  3e+00  1e-04  2e-05\n",
        " 5: -1.2389e+02 -1.2422e+02  3e-01  1e-05  1e-06\n",
        " 6: -1.2408e+02 -1.2410e+02  1e-02  2e-07  3e-08\n",
        " 7: -1.2409e+02 -1.2409e+02  5e-04  7e-09  9e-10\n",
        " 8: -1.2409e+02 -1.2409e+02  5e-06  7e-11  1e-11\n",
        "Optimal solution found.\n",
        "16 support vectors out of 58 points\n",
        "cutting plane objective: 124.090938, primal objective 168.168732\n",
        "iteration 58\n",
        "OneSlackSSVM(C=0.1, break_on_bad=False, cache_tol=auto,\n",
        "       check_constraints=False, inactive_threshold=1e-05,\n",
        "       inactive_window=50, inference_cache=0, logger=None, max_iter=10000,\n",
        "       model=MultiLabelModel(n_states: 2, inference_method: ad3), n_jobs=1,\n",
        "       positive_constraint=None, show_loss_every=0, switch_to=None,\n",
        "       tol=1e-05, verbose=3)\n",
        "New violation: 1.312346 difference to last: 0.485288"
       ]
      },
      {
       "output_type": "stream",
       "stream": "stdout",
       "text": [
        "\n",
        "     pcost       dcost       gap    pres   dres\n",
        " 0: -9.5781e+01 -3.8063e+02  1e+03  3e+01  3e+00\n",
        " 1: -9.8594e+01 -2.2032e+02  3e+02  6e+00  7e-01\n",
        " 2: -1.0620e+02 -1.5500e+02  5e+01  8e-02  1e-02\n",
        " 3: -1.1713e+02 -1.3212e+02  2e+01  1e-02  1e-03\n",
        " 4: -1.2079e+02 -1.2698e+02  6e+00  4e-03  5e-04\n",
        " 5: -1.2377e+02 -1.2499e+02  1e+00  1e-14  2e-14\n",
        " 6: -1.2444e+02 -1.2456e+02  1e-01  5e-15  2e-14\n",
        " 7: -1.2451e+02 -1.2452e+02  3e-03  7e-15  1e-14\n",
        " 8: -1.2452e+02 -1.2452e+02  1e-04  9e-15  2e-14\n",
        "Optimal solution found.\n",
        "16 support vectors out of 59 points\n",
        "cutting plane objective: 124.515094, primal objective 182.859291\n",
        "iteration 59\n",
        "OneSlackSSVM(C=0.1, break_on_bad=False, cache_tol=auto,\n",
        "       check_constraints=False, inactive_threshold=1e-05,\n",
        "       inactive_window=50, inference_cache=0, logger=None, max_iter=10000,\n",
        "       model=MultiLabelModel(n_states: 2, inference_method: ad3), n_jobs=1,\n",
        "       positive_constraint=None, show_loss_every=0, switch_to=None,\n",
        "       tol=1e-05, verbose=3)\n",
        "New violation: 1.185560 difference to last: 0.352465"
       ]
      },
      {
       "output_type": "stream",
       "stream": "stdout",
       "text": [
        "\n",
        "     pcost       dcost       gap    pres   dres\n",
        " 0: -9.5873e+01 -3.8300e+02  1e+03  3e+01  3e+00\n",
        " 1: -9.8761e+01 -2.2291e+02  3e+02  6e+00  8e-01\n",
        " 2: -1.0649e+02 -1.5492e+02  5e+01  5e-15  3e-14\n",
        " 3: -1.1796e+02 -1.3153e+02  1e+01  1e-14  2e-14\n",
        " 4: -1.2166e+02 -1.2675e+02  5e+00  8e-15  1e-14\n",
        " 5: -1.2427e+02 -1.2503e+02  8e-01  1e-14  1e-14\n",
        " 6: -1.2470e+02 -1.2478e+02  8e-02  1e-14  2e-14\n",
        " 7: -1.2475e+02 -1.2475e+02  4e-03  5e-15  2e-14\n",
        " 8: -1.2475e+02 -1.2475e+02  4e-05  7e-15  2e-14\n",
        "Optimal solution found.\n",
        "16 support vectors out of 60 points\n",
        "cutting plane objective: 124.748085, primal objective 167.198777\n",
        "iteration 60\n",
        "OneSlackSSVM(C=0.1, break_on_bad=False, cache_tol=auto,\n",
        "       check_constraints=False, inactive_threshold=1e-05,\n",
        "       inactive_window=50, inference_cache=0, logger=None, max_iter=10000,\n",
        "       model=MultiLabelModel(n_states: 2, inference_method: ad3), n_jobs=1,\n",
        "       positive_constraint=None, show_loss_every=0, switch_to=None,\n",
        "       tol=1e-05, verbose=3)\n",
        "New violation: 1.236893 difference to last: 0.404606"
       ]
      },
      {
       "output_type": "stream",
       "stream": "stdout",
       "text": [
        "\n",
        "     pcost       dcost       gap    pres   dres\n",
        " 0: -9.6226e+01 -3.8343e+02  1e+03  3e+01  3e+00\n",
        " 1: -9.8852e+01 -2.2500e+02  3e+02  6e+00  8e-01\n",
        " 2: -1.0629e+02 -1.5662e+02  5e+01  9e-15  3e-14\n",
        " 3: -1.1788e+02 -1.3219e+02  1e+01  5e-15  2e-14\n",
        " 4: -1.2140e+02 -1.2728e+02  6e+00  7e-15  1e-14\n",
        " 5: -1.2425e+02 -1.2534e+02  1e+00  9e-15  2e-14\n",
        " 6: -1.2475e+02 -1.2502e+02  3e-01  9e-15  1e-14\n",
        " 7: -1.2491e+02 -1.2492e+02  2e-02  2e-14  2e-14\n",
        " 8: -1.2492e+02 -1.2492e+02  9e-04  9e-15  2e-14\n",
        " 9: -1.2492e+02 -1.2492e+02  4e-05  9e-15  2e-14\n",
        "Optimal solution found.\n",
        "17 support vectors out of 61 points\n",
        "cutting plane objective: 124.919467, primal objective 173.745870\n",
        "iteration 61\n",
        "OneSlackSSVM(C=0.1, break_on_bad=False, cache_tol=auto,\n",
        "       check_constraints=False, inactive_threshold=1e-05,\n",
        "       inactive_window=50, inference_cache=0, logger=None, max_iter=10000,\n",
        "       model=MultiLabelModel(n_states: 2, inference_method: ad3), n_jobs=1,\n",
        "       positive_constraint=None, show_loss_every=0, switch_to=None,\n",
        "       tol=1e-05, verbose=3)\n",
        "New violation: 1.156544 difference to last: 0.322941"
       ]
      },
      {
       "output_type": "stream",
       "stream": "stdout",
       "text": [
        "\n",
        "     pcost       dcost       gap    pres   dres\n",
        " 0: -9.5400e+01 -3.8860e+02  1e+03  3e+01  4e+00\n",
        " 1: -9.7318e+01 -2.3111e+02  3e+02  6e+00  8e-01\n",
        " 2: -1.0634e+02 -1.5916e+02  6e+01  2e-01  2e-02\n",
        " 3: -1.1790e+02 -1.3292e+02  2e+01  2e-02  3e-03\n",
        " 4: -1.2144e+02 -1.2758e+02  6e+00  7e-03  8e-04\n",
        " 5: -1.2425e+02 -1.2587e+02  2e+00  2e-15  1e-14\n",
        " 6: -1.2504e+02 -1.2528e+02  2e-01  8e-15  2e-14\n",
        " 7: -1.2517e+02 -1.2520e+02  4e-02  9e-15  2e-14\n",
        " 8: -1.2519e+02 -1.2519e+02  7e-04  6e-15  1e-14\n",
        " 9: -1.2519e+02 -1.2519e+02  7e-06  7e-15  2e-14\n",
        "Optimal solution found.\n",
        "16 support vectors out of 60 points\n",
        "cutting plane objective: 125.193336, primal objective 164.027695\n",
        "iteration 62\n",
        "OneSlackSSVM(C=0.1, break_on_bad=False, cache_tol=auto,\n",
        "       check_constraints=False, inactive_threshold=1e-05,\n",
        "       inactive_window=50, inference_cache=0, logger=None, max_iter=10000,\n",
        "       model=MultiLabelModel(n_states: 2, inference_method: ad3), n_jobs=1,\n",
        "       positive_constraint=None, show_loss_every=0, switch_to=None,\n",
        "       tol=1e-05, verbose=3)\n",
        "New violation: 1.082385 difference to last: 0.245141"
       ]
      },
      {
       "output_type": "stream",
       "stream": "stdout",
       "text": [
        "\n",
        "     pcost       dcost       gap    pres   dres\n",
        " 0: -9.4237e+01 -3.9967e+02  1e+03  3e+01  4e+00\n",
        " 1: -9.2931e+01 -2.4951e+02  3e+02  8e+00  9e-01\n",
        " 2: -1.0320e+02 -1.7359e+02  9e+01  1e+00  2e-01\n",
        " 3: -1.1538e+02 -1.3715e+02  2e+01  2e-01  3e-02\n",
        " 4: -1.2162e+02 -1.2798e+02  7e+00  4e-02  5e-03\n",
        " 5: -1.2492e+02 -1.2651e+02  2e+00  8e-04  1e-04\n",
        " 6: -1.2556e+02 -1.2595e+02  4e-01  2e-04  2e-05\n",
        " 7: -1.2571e+02 -1.2579e+02  8e-02  1e-14  2e-14\n",
        " 8: -1.2577e+02 -1.2577e+02  1e-03  4e-15  2e-14\n",
        " 9: -1.2577e+02 -1.2577e+02  1e-05  1e-14  2e-14\n",
        "Optimal solution found.\n",
        "15 support vectors out of 59 points\n",
        "cutting plane objective: 125.767138, primal objective 154.879865\n",
        "iteration 63\n",
        "OneSlackSSVM(C=0.1, break_on_bad=False, cache_tol=auto,\n",
        "       check_constraints=False, inactive_threshold=1e-05,\n",
        "       inactive_window=50, inference_cache=0, logger=None, max_iter=10000,\n",
        "       model=MultiLabelModel(n_states: 2, inference_method: ad3), n_jobs=1,\n",
        "       positive_constraint=None, show_loss_every=0, switch_to=None,\n",
        "       tol=1e-05, verbose=3)\n",
        "New violation: 1.114692 difference to last: 0.268503"
       ]
      },
      {
       "output_type": "stream",
       "stream": "stdout",
       "text": [
        "\n",
        "     pcost       dcost       gap    pres   dres\n",
        " 0: -8.8487e+01 -3.9010e+02  1e+03  4e+01  4e+00\n",
        " 1: -8.6372e+01 -2.4836e+02  3e+02  7e+00  8e-01\n",
        " 2: -1.0596e+02 -1.6263e+02  6e+01  9e-15  2e-14\n",
        " 3: -1.1871e+02 -1.3632e+02  2e+01  7e-15  1e-14\n",
        " 4: -1.2336e+02 -1.2866e+02  5e+00  6e-15  2e-14\n",
        " 5: -1.2569e+02 -1.2676e+02  1e+00  1e-14  1e-14\n",
        " 6: -1.2625e+02 -1.2640e+02  1e-01  1e-14  1e-14\n",
        " 7: -1.2634e+02 -1.2636e+02  1e-02  1e-14  1e-14\n",
        " 8: -1.2635e+02 -1.2635e+02  5e-04  6e-15  2e-14\n",
        " 9: -1.2635e+02 -1.2635e+02  7e-06  1e-14  2e-14\n",
        "Optimal solution found.\n",
        "16 support vectors out of 58 points\n",
        "cutting plane objective: 126.352129, primal objective 158.282812\n",
        "iteration 64\n",
        "OneSlackSSVM(C=0.1, break_on_bad=False, cache_tol=auto,\n",
        "       check_constraints=False, inactive_threshold=1e-05,\n",
        "       inactive_window=50, inference_cache=0, logger=None, max_iter=10000,\n",
        "       model=MultiLabelModel(n_states: 2, inference_method: ad3), n_jobs=1,\n",
        "       positive_constraint=None, show_loss_every=0, switch_to=None,\n",
        "       tol=1e-05, verbose=3)\n",
        "New violation: 1.243605 difference to last: 0.388919"
       ]
      },
      {
       "output_type": "stream",
       "stream": "stdout",
       "text": [
        "\n",
        "     pcost       dcost       gap    pres   dres\n",
        " 0: -8.8978e+01 -3.9107e+02  1e+03  4e+01  4e+00\n",
        " 1: -8.6760e+01 -2.4973e+02  3e+02  7e+00  8e-01\n",
        " 2: -1.0580e+02 -1.6272e+02  6e+01  8e-15  2e-14\n",
        " 3: -1.1850e+02 -1.3675e+02  2e+01  3e-15  1e-14\n",
        " 4: -1.2326e+02 -1.2917e+02  6e+00  8e-15  1e-14\n",
        " 5: -1.2555e+02 -1.2737e+02  2e+00  5e-15  1e-14\n",
        " 6: -1.2639e+02 -1.2685e+02  5e-01  7e-15  1e-14\n",
        " 7: -1.2659e+02 -1.2670e+02  1e-01  1e-14  1e-14\n",
        " 8: -1.2667e+02 -1.2667e+02  3e-03  6e-15  2e-14\n",
        " 9: -1.2667e+02 -1.2667e+02  4e-05  6e-15  1e-14\n",
        "Optimal solution found.\n",
        "14 support vectors out of 59 points\n",
        "cutting plane objective: 126.672623, primal objective 173.450281\n",
        "iteration 65\n",
        "OneSlackSSVM(C=0.1, break_on_bad=False, cache_tol=auto,\n",
        "       check_constraints=False, inactive_threshold=1e-05,\n",
        "       inactive_window=50, inference_cache=0, logger=None, max_iter=10000,\n",
        "       model=MultiLabelModel(n_states: 2, inference_method: ad3), n_jobs=1,\n",
        "       positive_constraint=None, show_loss_every=0, switch_to=None,\n",
        "       tol=1e-05, verbose=3)\n",
        "New violation: 1.134258 difference to last: 0.276344"
       ]
      },
      {
       "output_type": "stream",
       "stream": "stdout",
       "text": [
        "\n",
        "     pcost       dcost       gap    pres   dres\n",
        " 0: -8.7762e+01 -3.9988e+02  1e+03  3e+01  4e+00\n",
        " 1: -8.6354e+01 -2.5395e+02  3e+02  7e+00  8e-01\n",
        " 2: -1.0623e+02 -1.6298e+02  6e+01  5e-15  2e-14\n",
        " 3: -1.1863e+02 -1.3801e+02  2e+01  5e-15  1e-14\n",
        " 4: -1.2328e+02 -1.2948e+02  6e+00  8e-15  9e-15\n",
        " 5: -1.2557e+02 -1.2764e+02  2e+00  1e-14  1e-14\n",
        " 6: -1.2672e+02 -1.2697e+02  2e-01  6e-15  2e-14\n",
        " 7: -1.2686e+02 -1.2689e+02  3e-02  1e-14  1e-14\n",
        " 8: -1.2688e+02 -1.2688e+02  3e-04  7e-15  1e-14\n",
        " 9: -1.2688e+02 -1.2688e+02  3e-06  8e-15  1e-14\n",
        "Optimal solution found.\n",
        "13 support vectors out of 59 points\n",
        "cutting plane objective: 126.880892, primal objective 160.137914\n",
        "iteration 66\n",
        "OneSlackSSVM(C=0.1, break_on_bad=False, cache_tol=auto,\n",
        "       check_constraints=False, inactive_threshold=1e-05,\n",
        "       inactive_window=50, inference_cache=0, logger=None, max_iter=10000,\n",
        "       model=MultiLabelModel(n_states: 2, inference_method: ad3), n_jobs=1,\n",
        "       positive_constraint=None, show_loss_every=0, switch_to=None,\n",
        "       tol=1e-05, verbose=3)\n",
        "New violation: 1.042841 difference to last: 0.181788"
       ]
      },
      {
       "output_type": "stream",
       "stream": "stdout",
       "text": [
        "\n",
        "     pcost       dcost       gap    pres   dres\n",
        " 0: -8.8736e+01 -3.9991e+02  1e+03  3e+01  4e+00\n",
        " 1: -8.8089e+01 -2.5468e+02  3e+02  7e+00  8e-01\n",
        " 2: -1.0735e+02 -1.6291e+02  6e+01  4e-15  2e-14\n",
        " 3: -1.1912e+02 -1.3812e+02  2e+01  6e-15  2e-14\n",
        " 4: -1.2391e+02 -1.3014e+02  6e+00  7e-15  1e-14\n",
        " 5: -1.2666e+02 -1.2774e+02  1e+00  6e-15  1e-14\n",
        " 6: -1.2712e+02 -1.2734e+02  2e-01  4e-15  1e-14\n",
        " 7: -1.2727e+02 -1.2728e+02  7e-03  6e-15  2e-14\n",
        " 8: -1.2728e+02 -1.2728e+02  3e-04  1e-14  2e-14\n",
        " 9: -1.2728e+02 -1.2728e+02  7e-06  9e-15  1e-14\n",
        "Optimal solution found.\n",
        "17 support vectors out of 60 points\n",
        "cutting plane objective: 127.275698, primal objective 148.895404\n",
        "iteration 67\n",
        "OneSlackSSVM(C=0.1, break_on_bad=False, cache_tol=auto,\n",
        "       check_constraints=False, inactive_threshold=1e-05,\n",
        "       inactive_window=50, inference_cache=0, logger=None, max_iter=10000,\n",
        "       model=MultiLabelModel(n_states: 2, inference_method: ad3), n_jobs=1,\n",
        "       positive_constraint=None, show_loss_every=0, switch_to=None,\n",
        "       tol=1e-05, verbose=3)\n",
        "New violation: 1.194346 difference to last: 0.328321"
       ]
      },
      {
       "output_type": "stream",
       "stream": "stdout",
       "text": [
        "\n",
        "     pcost       dcost       gap    pres   dres\n",
        " 0: -8.8193e+01 -4.1708e+02  1e+03  2e+01  4e+00\n",
        " 1: -8.7641e+01 -2.5486e+02  3e+02  5e+00  1e+00\n",
        " 2: -1.0907e+02 -1.5817e+02  5e+01  5e-15  2e-14\n",
        " 3: -1.1970e+02 -1.3769e+02  2e+01  8e-15  1e-14\n",
        " 4: -1.2437e+02 -1.3021e+02  6e+00  6e-15  1e-14\n",
        " 5: -1.2715e+02 -1.2803e+02  9e-01  9e-15  1e-14\n",
        " 6: -1.2761e+02 -1.2774e+02  1e-01  8e-15  1e-14\n",
        " 7: -1.2769e+02 -1.2770e+02  4e-03  6e-15  1e-14\n",
        " 8: -1.2769e+02 -1.2769e+02  5e-05  1e-14  1e-14\n",
        "Optimal solution found.\n",
        "16 support vectors out of 60 points\n",
        "cutting plane objective: 127.694425, primal objective 167.035340\n",
        "iteration 68\n",
        "OneSlackSSVM(C=0.1, break_on_bad=False, cache_tol=auto,\n",
        "       check_constraints=False, inactive_threshold=1e-05,\n",
        "       inactive_window=50, inference_cache=0, logger=None, max_iter=10000,\n",
        "       model=MultiLabelModel(n_states: 2, inference_method: ad3), n_jobs=1,\n",
        "       positive_constraint=None, show_loss_every=0, switch_to=None,\n",
        "       tol=1e-05, verbose=3)\n",
        "New violation: 1.144116 difference to last: 0.274570"
       ]
      },
      {
       "output_type": "stream",
       "stream": "stdout",
       "text": [
        "\n",
        "     pcost       dcost       gap    pres   dres\n",
        " 0: -9.1475e+01 -4.2803e+02  1e+03  2e+01  5e+00\n",
        " 1: -8.9324e+01 -2.6187e+02  3e+02  5e+00  1e+00\n",
        " 2: -1.0898e+02 -1.6200e+02  5e+01  2e-01  3e-02\n",
        " 3: -1.2015e+02 -1.3888e+02  2e+01  2e-02  4e-03\n",
        " 4: -1.2504e+02 -1.3012e+02  5e+00  9e-04  2e-04\n",
        " 5: -1.2728e+02 -1.2862e+02  1e+00  1e-04  2e-05\n",
        " 6: -1.2790e+02 -1.2811e+02  2e-01  8e-06  1e-06\n",
        " 7: -1.2803e+02 -1.2804e+02  1e-02  3e-07  5e-08\n",
        " 8: -1.2804e+02 -1.2804e+02  4e-04  8e-09  1e-09\n",
        " 9: -1.2804e+02 -1.2804e+02  1e-05  1e-10  2e-11\n",
        "Optimal solution found.\n",
        "16 support vectors out of 60 points\n",
        "cutting plane objective: 128.036325, primal objective 160.944865\n",
        "iteration 69\n",
        "OneSlackSSVM(C=0.1, break_on_bad=False, cache_tol=auto,\n",
        "       check_constraints=False, inactive_threshold=1e-05,\n",
        "       inactive_window=50, inference_cache=0, logger=None, max_iter=10000,\n",
        "       model=MultiLabelModel(n_states: 2, inference_method: ad3), n_jobs=1,\n",
        "       positive_constraint=None, show_loss_every=0, switch_to=None,\n",
        "       tol=1e-05, verbose=3)\n",
        "New violation: 1.138608 difference to last: 0.264989"
       ]
      },
      {
       "output_type": "stream",
       "stream": "stdout",
       "text": [
        "\n",
        "     pcost       dcost       gap    pres   dres\n",
        " 0: -9.2254e+01 -4.3186e+02  1e+03  2e+01  5e+00\n",
        " 1: -8.9603e+01 -2.6559e+02  3e+02  6e+00  1e+00\n",
        " 2: -1.0790e+02 -1.6814e+02  7e+01  5e-01  9e-02\n",
        " 3: -1.1950e+02 -1.3766e+02  2e+01  7e-02  1e-02\n",
        " 4: -1.2511e+02 -1.3031e+02  5e+00  3e-04  6e-05\n",
        " 5: -1.2764e+02 -1.2857e+02  9e-01  1e-14  1e-14\n",
        " 6: -1.2817e+02 -1.2823e+02  6e-02  4e-15  1e-14\n",
        " 7: -1.2821e+02 -1.2822e+02  2e-03  1e-14  1e-14\n",
        " 8: -1.2821e+02 -1.2821e+02  6e-05  6e-15  1e-14\n",
        "Optimal solution found.\n",
        "14 support vectors out of 61 points\n",
        "cutting plane objective: 128.214756, primal objective 160.126532\n",
        "iteration 70\n",
        "OneSlackSSVM(C=0.1, break_on_bad=False, cache_tol=auto,\n",
        "       check_constraints=False, inactive_threshold=1e-05,\n",
        "       inactive_window=50, inference_cache=0, logger=None, max_iter=10000,\n",
        "       model=MultiLabelModel(n_states: 2, inference_method: ad3), n_jobs=1,\n",
        "       positive_constraint=None, show_loss_every=0, switch_to=None,\n",
        "       tol=1e-05, verbose=3)\n",
        "New violation: 1.083901 difference to last: 0.210336"
       ]
      },
      {
       "output_type": "stream",
       "stream": "stdout",
       "text": [
        "\n",
        "     pcost       dcost       gap    pres   dres\n",
        " 0: -9.3441e+01 -4.2874e+02  1e+03  2e+01  4e+00\n",
        " 1: -9.0949e+01 -2.6390e+02  3e+02  5e+00  1e+00\n",
        " 2: -1.0879e+02 -1.6734e+02  6e+01  5e-01  9e-02\n",
        " 3: -1.2006e+02 -1.3904e+02  2e+01  7e-02  1e-02\n",
        " 4: -1.2547e+02 -1.3124e+02  6e+00  3e-03  6e-04\n",
        " 5: -1.2774e+02 -1.2957e+02  2e+00  4e-04  8e-05\n",
        " 6: -1.2854e+02 -1.2879e+02  2e-01  3e-05  6e-06\n",
        " 7: -1.2869e+02 -1.2870e+02  1e-02  8e-07  1e-07\n",
        " 8: -1.2869e+02 -1.2869e+02  6e-04  2e-08  3e-09\n",
        " 9: -1.2869e+02 -1.2869e+02  4e-05  3e-10  5e-11\n",
        "Optimal solution found.\n",
        "18 support vectors out of 62 points\n",
        "cutting plane objective: 128.692940, primal objective 153.686558\n",
        "iteration 71\n",
        "OneSlackSSVM(C=0.1, break_on_bad=False, cache_tol=auto,\n",
        "       check_constraints=False, inactive_threshold=1e-05,\n",
        "       inactive_window=50, inference_cache=0, logger=None, max_iter=10000,\n",
        "       model=MultiLabelModel(n_states: 2, inference_method: ad3), n_jobs=1,\n",
        "       positive_constraint=None, show_loss_every=0, switch_to=None,\n",
        "       tol=1e-05, verbose=3)\n",
        "New violation: 1.166351 difference to last: 0.291293"
       ]
      },
      {
       "output_type": "stream",
       "stream": "stdout",
       "text": [
        "\n",
        "     pcost       dcost       gap    pres   dres\n",
        " 0: -9.3547e+01 -4.2924e+02  1e+03  2e+01  4e+00\n",
        " 1: -9.1030e+01 -2.6526e+02  3e+02  6e+00  1e+00\n",
        " 2: -1.0850e+02 -1.6916e+02  7e+01  5e-01  1e-01\n",
        " 3: -1.1998e+02 -1.3911e+02  2e+01  8e-02  2e-02\n",
        " 4: -1.2563e+02 -1.3150e+02  6e+00  3e-03  5e-04\n",
        " 5: -1.2821e+02 -1.2988e+02  2e+00  1e-05  2e-06\n",
        " 6: -1.2892e+02 -1.2916e+02  2e-01  1e-06  2e-07\n",
        " 7: -1.2905e+02 -1.2908e+02  3e-02  1e-07  2e-08\n",
        " 8: -1.2907e+02 -1.2907e+02  6e-04  2e-09  3e-10\n",
        " 9: -1.2907e+02 -1.2907e+02  2e-05  2e-11  4e-12\n",
        "Optimal solution found.\n",
        "15 support vectors out of 63 points\n",
        "cutting plane objective: 129.073850, primal objective 163.968551\n",
        "iteration 72\n",
        "OneSlackSSVM(C=0.1, break_on_bad=False, cache_tol=auto,\n",
        "       check_constraints=False, inactive_threshold=1e-05,\n",
        "       inactive_window=50, inference_cache=0, logger=None, max_iter=10000,\n",
        "       model=MultiLabelModel(n_states: 2, inference_method: ad3), n_jobs=1,\n",
        "       positive_constraint=None, show_loss_every=0, switch_to=None,\n",
        "       tol=1e-05, verbose=3)\n",
        "New violation: 1.132411 difference to last: 0.255199"
       ]
      },
      {
       "output_type": "stream",
       "stream": "stdout",
       "text": [
        "\n",
        "     pcost       dcost       gap    pres   dres\n",
        " 0: -9.5987e+01 -4.2765e+02  1e+03  2e+01  4e+00\n",
        " 1: -9.2183e+01 -2.6698e+02  3e+02  6e+00  1e+00\n",
        " 2: -1.0860e+02 -1.7085e+02  7e+01  6e-01  1e-01\n",
        " 3: -1.2015e+02 -1.3829e+02  2e+01  8e-02  2e-02\n",
        " 4: -1.2583e+02 -1.3185e+02  6e+00  2e-03  4e-04\n",
        " 5: -1.2838e+02 -1.3000e+02  2e+00  6e-15  1e-14\n",
        " 6: -1.2916e+02 -1.2940e+02  2e-01  4e-15  1e-14\n",
        " 7: -1.2930e+02 -1.2931e+02  9e-03  9e-15  1e-14\n",
        " 8: -1.2931e+02 -1.2931e+02  2e-04  9e-15  1e-14\n",
        " 9: -1.2931e+02 -1.2931e+02  2e-06  9e-15  1e-14\n",
        "Optimal solution found.\n",
        "13 support vectors out of 64 points\n",
        "cutting plane objective: 129.309941, primal objective 159.978508\n",
        "iteration 73\n",
        "OneSlackSSVM(C=0.1, break_on_bad=False, cache_tol=auto,\n",
        "       check_constraints=False, inactive_threshold=1e-05,\n",
        "       inactive_window=50, inference_cache=0, logger=None, max_iter=10000,\n",
        "       model=MultiLabelModel(n_states: 2, inference_method: ad3), n_jobs=1,\n",
        "       positive_constraint=None, show_loss_every=0, switch_to=None,\n",
        "       tol=1e-05, verbose=3)\n",
        "New violation: 1.075462 difference to last: 0.193701"
       ]
      },
      {
       "output_type": "stream",
       "stream": "stdout",
       "text": [
        "\n",
        "     pcost       dcost       gap    pres   dres\n",
        " 0: -9.6080e+01 -4.2088e+02  1e+03  3e+01  4e+00\n",
        " 1: -9.3491e+01 -2.6823e+02  3e+02  6e+00  1e+00\n",
        " 2: -1.0899e+02 -1.7302e+02  7e+01  6e-01  1e-01\n",
        " 3: -1.1983e+02 -1.3892e+02  2e+01  1e-01  2e-02\n",
        " 4: -1.2611e+02 -1.3223e+02  6e+00  5e-03  8e-04\n",
        " 5: -1.2858e+02 -1.3020e+02  2e+00  4e-04  6e-05\n",
        " 6: -1.2931e+02 -1.2952e+02  2e-01  4e-05  6e-06\n",
        " 7: -1.2943e+02 -1.2945e+02  2e-02  2e-06  4e-07\n",
        " 8: -1.2944e+02 -1.2944e+02  6e-04  3e-08  5e-09\n",
        " 9: -1.2944e+02 -1.2944e+02  4e-05  3e-10  4e-11\n",
        "Optimal solution found.\n",
        "16 support vectors out of 64 points\n",
        "cutting plane objective: 129.440292, primal objective 152.767178\n",
        "iteration 74\n",
        "OneSlackSSVM(C=0.1, break_on_bad=False, cache_tol=auto,\n",
        "       check_constraints=False, inactive_threshold=1e-05,\n",
        "       inactive_window=50, inference_cache=0, logger=None, max_iter=10000,\n",
        "       model=MultiLabelModel(n_states: 2, inference_method: ad3), n_jobs=1,\n",
        "       positive_constraint=None, show_loss_every=0, switch_to=None,\n",
        "       tol=1e-05, verbose=3)\n",
        "New violation: 1.060824 difference to last: 0.176488"
       ]
      },
      {
       "output_type": "stream",
       "stream": "stdout",
       "text": [
        "\n",
        "     pcost       dcost       gap    pres   dres\n",
        " 0: -9.7069e+01 -4.1893e+02  1e+03  3e+01  4e+00\n",
        " 1: -9.4429e+01 -2.6799e+02  3e+02  6e+00  1e+00\n",
        " 2: -1.0926e+02 -1.7366e+02  7e+01  7e-01  1e-01\n",
        " 3: -1.1978e+02 -1.4030e+02  2e+01  2e-01  2e-02\n",
        " 4: -1.2601e+02 -1.3308e+02  7e+00  2e-02  4e-03\n",
        " 5: -1.2832e+02 -1.3065e+02  2e+00  7e-03  1e-03\n",
        " 6: -1.2958e+02 -1.2991e+02  3e-01  3e-04  5e-05\n",
        " 7: -1.2978e+02 -1.2980e+02  2e-02  7e-06  1e-06\n",
        " 8: -1.2979e+02 -1.2979e+02  4e-04  9e-08  2e-08\n",
        " 9: -1.2979e+02 -1.2979e+02  8e-06  1e-09  2e-10\n",
        "Optimal solution found.\n",
        "16 support vectors out of 65 points\n",
        "cutting plane objective: 129.793166, primal objective 150.812989\n",
        "iteration 75\n",
        "OneSlackSSVM(C=0.1, break_on_bad=False, cache_tol=auto,\n",
        "       check_constraints=False, inactive_threshold=1e-05,\n",
        "       inactive_window=50, inference_cache=0, logger=None, max_iter=10000,\n",
        "       model=MultiLabelModel(n_states: 2, inference_method: ad3), n_jobs=1,\n",
        "       positive_constraint=None, show_loss_every=0, switch_to=None,\n",
        "       tol=1e-05, verbose=3)\n",
        "New violation: 1.168468 difference to last: 0.281086"
       ]
      },
      {
       "output_type": "stream",
       "stream": "stdout",
       "text": [
        "\n",
        "     pcost       dcost       gap    pres   dres\n",
        " 0: -1.0421e+02 -4.1435e+02  1e+03  3e+01  4e+00\n",
        " 1: -1.0173e+02 -2.6522e+02  3e+02  6e+00  9e-01\n",
        " 2: -1.1039e+02 -1.8010e+02  8e+01  1e+00  2e-01\n",
        " 3: -1.1935e+02 -1.4344e+02  3e+01  3e-01  4e-02\n",
        " 4: -1.2549e+02 -1.3398e+02  9e+00  6e-02  1e-02\n",
        " 5: -1.2860e+02 -1.3114e+02  3e+00  1e-02  2e-03\n",
        " 6: -1.2989e+02 -1.3040e+02  5e-01  4e-04  7e-05\n",
        " 7: -1.3022e+02 -1.3024e+02  2e-02  9e-06  2e-06\n",
        " 8: -1.3023e+02 -1.3023e+02  6e-04  1e-07  2e-08\n",
        " 9: -1.3023e+02 -1.3023e+02  7e-06  1e-09  2e-10\n",
        "Optimal solution found.\n",
        "15 support vectors out of 65 points\n",
        "cutting plane objective: 130.234726, primal objective 163.832738\n",
        "iteration 76\n",
        "OneSlackSSVM(C=0.1, break_on_bad=False, cache_tol=auto,\n",
        "       check_constraints=False, inactive_threshold=1e-05,\n",
        "       inactive_window=50, inference_cache=0, logger=None, max_iter=10000,\n",
        "       model=MultiLabelModel(n_states: 2, inference_method: ad3), n_jobs=1,\n",
        "       positive_constraint=None, show_loss_every=0, switch_to=None,\n",
        "       tol=1e-05, verbose=3)\n",
        "New violation: 1.131095 difference to last: 0.241404"
       ]
      },
      {
       "output_type": "stream",
       "stream": "stdout",
       "text": [
        "\n",
        "     pcost       dcost       gap    pres   dres\n",
        " 0: -1.0558e+02 -4.1772e+02  1e+03  3e+01  4e+00\n",
        " 1: -1.0294e+02 -2.7057e+02  3e+02  6e+00  1e+00\n",
        " 2: -1.1098e+02 -1.8371e+02  9e+01  1e+00  2e-01\n",
        " 3: -1.1939e+02 -1.4519e+02  3e+01  3e-01  5e-02\n",
        " 4: -1.2579e+02 -1.3414e+02  9e+00  6e-02  9e-03\n",
        " 5: -1.2844e+02 -1.3216e+02  4e+00  2e-02  3e-03\n",
        " 6: -1.2985e+02 -1.3098e+02  1e+00  4e-03  6e-04\n",
        " 7: -1.3037e+02 -1.3060e+02  2e-01  1e-04  2e-05\n",
        " 8: -1.3050e+02 -1.3054e+02  4e-02  7e-15  8e-15\n",
        " 9: -1.3053e+02 -1.3053e+02  7e-04  5e-15  1e-14\n",
        "10: -1.3053e+02 -1.3053e+02  7e-06  6e-15  1e-14\n",
        "Optimal solution found.\n",
        "15 support vectors out of 64 points\n",
        "cutting plane objective: 130.530879, primal objective 159.468800\n",
        "iteration 77\n",
        "OneSlackSSVM(C=0.1, break_on_bad=False, cache_tol=auto,\n",
        "       check_constraints=False, inactive_threshold=1e-05,\n",
        "       inactive_window=50, inference_cache=0, logger=None, max_iter=10000,\n",
        "       model=MultiLabelModel(n_states: 2, inference_method: ad3), n_jobs=1,\n",
        "       positive_constraint=None, show_loss_every=0, switch_to=None,\n",
        "       tol=1e-05, verbose=3)\n",
        "New violation: 1.071834 difference to last: 0.178470"
       ]
      },
      {
       "output_type": "stream",
       "stream": "stdout",
       "text": [
        "\n",
        "     pcost       dcost       gap    pres   dres\n",
        " 0: -1.0498e+02 -4.3406e+02  1e+03  3e+01  4e+00\n",
        " 1: -1.0220e+02 -2.7633e+02  3e+02  6e+00  9e-01\n",
        " 2: -1.1103e+02 -1.8556e+02  9e+01  1e+00  2e-01\n",
        " 3: -1.1943e+02 -1.4560e+02  3e+01  3e-01  4e-02\n",
        " 4: -1.2577e+02 -1.3457e+02  9e+00  5e-02  8e-03\n",
        " 5: -1.2855e+02 -1.3230e+02  4e+00  2e-02  3e-03\n",
        " 6: -1.3002e+02 -1.3107e+02  1e+00  2e-03  3e-04\n",
        " 7: -1.3050e+02 -1.3080e+02  3e-01  5e-04  7e-05\n",
        " 8: -1.3067e+02 -1.3070e+02  3e-02  7e-15  1e-14\n",
        " 9: -1.3069e+02 -1.3069e+02  7e-04  8e-15  1e-14\n",
        "10: -1.3069e+02 -1.3069e+02  7e-06  8e-15  1e-14\n",
        "Optimal solution found.\n",
        "15 support vectors out of 64 points\n",
        "cutting plane objective: 130.693662, primal objective 152.143608\n",
        "iteration 78\n",
        "OneSlackSSVM(C=0.1, break_on_bad=False, cache_tol=auto,\n",
        "       check_constraints=False, inactive_threshold=1e-05,\n",
        "       inactive_window=50, inference_cache=0, logger=None, max_iter=10000,\n",
        "       model=MultiLabelModel(n_states: 2, inference_method: ad3), n_jobs=1,\n",
        "       positive_constraint=None, show_loss_every=0, switch_to=None,\n",
        "       tol=1e-05, verbose=3)\n",
        "New violation: 1.046947 difference to last: 0.152880"
       ]
      },
      {
       "output_type": "stream",
       "stream": "stdout",
       "text": [
        "\n",
        "     pcost       dcost       gap    pres   dres\n",
        " 0: -1.0641e+02 -4.3046e+02  1e+03  3e+01  4e+00\n",
        " 1: -1.0301e+02 -2.7548e+02  3e+02  6e+00  9e-01\n",
        " 2: -1.1134e+02 -1.8604e+02  9e+01  1e+00  2e-01\n",
        " 3: -1.1974e+02 -1.4561e+02  3e+01  3e-01  4e-02\n",
        " 4: -1.2611e+02 -1.3460e+02  9e+00  5e-02  7e-03\n",
        " 5: -1.2874e+02 -1.3245e+02  4e+00  2e-02  3e-03\n",
        " 6: -1.3055e+02 -1.3118e+02  6e-01  4e-04  7e-05\n",
        " 7: -1.3092e+02 -1.3095e+02  3e-02  1e-05  2e-06\n",
        " 8: -1.3094e+02 -1.3094e+02  5e-04  1e-07  2e-08\n",
        " 9: -1.3094e+02 -1.3094e+02  5e-06  1e-09  2e-10\n",
        "Optimal solution found.\n",
        "17 support vectors out of 65 points\n",
        "cutting plane objective: 130.940456, primal objective 149.207397\n",
        "iteration 79\n",
        "OneSlackSSVM(C=0.1, break_on_bad=False, cache_tol=auto,\n",
        "       check_constraints=False, inactive_threshold=1e-05,\n",
        "       inactive_window=50, inference_cache=0, logger=None, max_iter=10000,\n",
        "       model=MultiLabelModel(n_states: 2, inference_method: ad3), n_jobs=1,\n",
        "       positive_constraint=None, show_loss_every=0, switch_to=None,\n",
        "       tol=1e-05, verbose=3)\n",
        "New violation: 1.087908 difference to last: 0.191542"
       ]
      },
      {
       "output_type": "stream",
       "stream": "stdout",
       "text": [
        "\n",
        "     pcost       dcost       gap    pres   dres\n",
        " 0: -1.0715e+02 -4.4870e+02  1e+03  3e+01  4e+00\n",
        " 1: -1.0342e+02 -2.8123e+02  3e+02  5e+00  8e-01\n",
        " 2: -1.1191e+02 -1.8649e+02  9e+01  9e-01  1e-01\n",
        " 3: -1.2029e+02 -1.4436e+02  3e+01  2e-01  3e-02\n",
        " 4: -1.2669e+02 -1.3499e+02  8e+00  4e-02  6e-03\n",
        " 5: -1.2929e+02 -1.3250e+02  3e+00  1e-02  2e-03\n",
        " 6: -1.3083e+02 -1.3152e+02  7e-01  6e-04  9e-05\n",
        " 7: -1.3102e+02 -1.3125e+02  2e-01  5e-15  9e-15\n",
        " 8: -1.3118e+02 -1.3119e+02  9e-03  9e-15  1e-14\n",
        " 9: -1.3119e+02 -1.3119e+02  2e-04  8e-15  9e-15\n",
        "10: -1.3119e+02 -1.3119e+02  2e-06  1e-14  9e-15\n",
        "Optimal solution found.\n",
        "17 support vectors out of 66 points\n",
        "cutting plane objective: 131.190598, primal objective 154.136174\n",
        "iteration 80\n",
        "OneSlackSSVM(C=0.1, break_on_bad=False, cache_tol=auto,\n",
        "       check_constraints=False, inactive_threshold=1e-05,\n",
        "       inactive_window=50, inference_cache=0, logger=None, max_iter=10000,\n",
        "       model=MultiLabelModel(n_states: 2, inference_method: ad3), n_jobs=1,\n",
        "       positive_constraint=None, show_loss_every=0, switch_to=None,\n",
        "       tol=1e-05, verbose=3)\n",
        "New violation: 1.053600 difference to last: 0.156361"
       ]
      },
      {
       "output_type": "stream",
       "stream": "stdout",
       "text": [
        "\n",
        "     pcost       dcost       gap    pres   dres\n",
        " 0: -1.0868e+02 -4.4164e+02  1e+03  3e+01  4e+00\n",
        " 1: -1.0457e+02 -2.7954e+02  3e+02  5e+00  8e-01\n",
        " 2: -1.1277e+02 -1.8647e+02  8e+01  9e-01  1e-01\n",
        " 3: -1.2094e+02 -1.4459e+02  2e+01  2e-01  3e-02\n",
        " 4: -1.2724e+02 -1.3490e+02  8e+00  4e-02  5e-03\n",
        " 5: -1.2944e+02 -1.3292e+02  4e+00  1e-02  2e-03\n",
        " 6: -1.3085e+02 -1.3203e+02  1e+00  2e-03  3e-04\n",
        " 7: -1.3135e+02 -1.3156e+02  2e-01  3e-04  5e-05\n",
        " 8: -1.3147e+02 -1.3148e+02  5e-03  5e-06  7e-07\n",
        " 9: -1.3147e+02 -1.3147e+02  2e-04  9e-08  1e-08\n",
        "10: -1.3147e+02 -1.3147e+02  4e-06  1e-09  2e-10\n",
        "Optimal solution found.\n",
        "17 support vectors out of 66 points\n",
        "cutting plane objective: 131.474335, primal objective 150.125949\n",
        "iteration 81\n",
        "OneSlackSSVM(C=0.1, break_on_bad=False, cache_tol=auto,\n",
        "       check_constraints=False, inactive_threshold=1e-05,\n",
        "       inactive_window=50, inference_cache=0, logger=None, max_iter=10000,\n",
        "       model=MultiLabelModel(n_states: 2, inference_method: ad3), n_jobs=1,\n",
        "       positive_constraint=None, show_loss_every=0, switch_to=None,\n",
        "       tol=1e-05, verbose=3)\n",
        "New violation: 1.081090 difference to last: 0.179611"
       ]
      },
      {
       "output_type": "stream",
       "stream": "stdout",
       "text": [
        "\n",
        "     pcost       dcost       gap    pres   dres\n",
        " 0: -1.0880e+02 -4.4765e+02  1e+03  3e+01  4e+00\n",
        " 1: -1.0449e+02 -2.7905e+02  3e+02  5e+00  7e-01\n",
        " 2: -1.1324e+02 -1.8386e+02  8e+01  8e-01  1e-01\n",
        " 3: -1.2179e+02 -1.4240e+02  2e+01  1e-01  2e-02\n",
        " 4: -1.2816e+02 -1.3516e+02  7e+00  2e-02  4e-03\n",
        " 5: -1.3027e+02 -1.3301e+02  3e+00  7e-03  1e-03\n",
        " 6: -1.3113e+02 -1.3240e+02  1e+00  1e-03  2e-04\n",
        " 7: -1.3162e+02 -1.3185e+02  2e-01  2e-04  3e-05\n",
        " 8: -1.3176e+02 -1.3177e+02  8e-03  3e-06  4e-07\n",
        " 9: -1.3176e+02 -1.3176e+02  2e-04  3e-08  5e-09\n",
        "10: -1.3176e+02 -1.3176e+02  3e-06  3e-10  5e-11\n",
        "Optimal solution found.\n",
        "16 support vectors out of 67 points\n",
        "cutting plane objective: 131.763552, primal objective 153.225236\n",
        "iteration 82\n",
        "OneSlackSSVM(C=0.1, break_on_bad=False, cache_tol=auto,\n",
        "       check_constraints=False, inactive_threshold=1e-05,\n",
        "       inactive_window=50, inference_cache=0, logger=None, max_iter=10000,\n",
        "       model=MultiLabelModel(n_states: 2, inference_method: ad3), n_jobs=1,\n",
        "       positive_constraint=None, show_loss_every=0, switch_to=None,\n",
        "       tol=1e-05, verbose=3)\n",
        "New violation: 1.078783 difference to last: 0.174802"
       ]
      },
      {
       "output_type": "stream",
       "stream": "stdout",
       "text": [
        "\n",
        "     pcost       dcost       gap    pres   dres\n",
        " 0: -1.0968e+02 -4.5013e+02  1e+03  3e+01  4e+00\n",
        " 1: -1.0510e+02 -2.8007e+02  3e+02  5e+00  7e-01\n",
        " 2: -1.1370e+02 -1.8313e+02  8e+01  7e-01  1e-01\n",
        " 3: -1.2212e+02 -1.4203e+02  2e+01  1e-01  2e-02\n",
        " 4: -1.2837e+02 -1.3518e+02  7e+00  2e-02  3e-03\n",
        " 5: -1.3054e+02 -1.3294e+02  2e+00  5e-03  8e-04\n",
        " 6: -1.3150e+02 -1.3229e+02  8e-01  5e-15  9e-15\n",
        " 7: -1.3192e+02 -1.3196e+02  4e-02  5e-15  7e-15\n",
        " 8: -1.3195e+02 -1.3195e+02  6e-04  5e-15  7e-15\n",
        " 9: -1.3195e+02 -1.3195e+02  6e-06  5e-15  6e-15\n",
        "Optimal solution found.\n",
        "16 support vectors out of 67 points\n",
        "cutting plane objective: 131.951596, primal objective 152.932033\n",
        "iteration 83\n",
        "OneSlackSSVM(C=0.1, break_on_bad=False, cache_tol=auto,\n",
        "       check_constraints=False, inactive_threshold=1e-05,\n",
        "       inactive_window=50, inference_cache=0, logger=None, max_iter=10000,\n",
        "       model=MultiLabelModel(n_states: 2, inference_method: ad3), n_jobs=1,\n",
        "       positive_constraint=None, show_loss_every=0, switch_to=None,\n",
        "       tol=1e-05, verbose=3)\n",
        "New violation: 1.051108 difference to last: 0.146183"
       ]
      },
      {
       "output_type": "stream",
       "stream": "stdout",
       "text": [
        "\n",
        "     pcost       dcost       gap    pres   dres\n",
        " 0: -1.1055e+02 -4.2122e+02  1e+03  3e+01  4e+00\n",
        " 1: -1.0731e+02 -2.7057e+02  3e+02  5e+00  7e-01\n",
        " 2: -1.1517e+02 -1.7787e+02  7e+01  8e-01  1e-01\n",
        " 3: -1.2341e+02 -1.3988e+02  2e+01  1e-01  2e-02\n",
        " 4: -1.2907e+02 -1.3625e+02  7e+00  2e-02  3e-03\n",
        " 5: -1.3085e+02 -1.3351e+02  3e+00  5e-03  8e-04\n",
        " 6: -1.3179e+02 -1.3232e+02  5e-01  1e-14  7e-15\n",
        " 7: -1.3209e+02 -1.3214e+02  5e-02  4e-15  1e-14\n",
        " 8: -1.3212e+02 -1.3213e+02  2e-03  5e-15  1e-14\n",
        " 9: -1.3213e+02 -1.3213e+02  4e-05  6e-15  1e-14\n",
        "Optimal solution found.\n",
        "19 support vectors out of 67 points\n",
        "cutting plane objective: 132.126407, primal objective 149.654353\n",
        "iteration 84\n",
        "OneSlackSSVM(C=0.1, break_on_bad=False, cache_tol=auto,\n",
        "       check_constraints=False, inactive_threshold=1e-05,\n",
        "       inactive_window=50, inference_cache=0, logger=None, max_iter=10000,\n",
        "       model=MultiLabelModel(n_states: 2, inference_method: ad3), n_jobs=1,\n",
        "       positive_constraint=None, show_loss_every=0, switch_to=None,\n",
        "       tol=1e-05, verbose=3)\n",
        "New violation: 1.057110 difference to last: 0.149596"
       ]
      },
      {
       "output_type": "stream",
       "stream": "stdout",
       "text": [
        "\n",
        "     pcost       dcost       gap    pres   dres\n",
        " 0: -1.1260e+02 -4.4719e+02  1e+03  3e+01  4e+00\n",
        " 1: -1.1042e+02 -2.9867e+02  4e+02  7e+00  1e+00\n",
        " 2: -1.1558e+02 -1.8567e+02  8e+01  8e-01  1e-01\n",
        " 3: -1.2321e+02 -1.4098e+02  2e+01  1e-01  1e-02\n",
        " 4: -1.2922e+02 -1.3646e+02  7e+00  2e-02  2e-03\n",
        " 5: -1.3098e+02 -1.3370e+02  3e+00  5e-03  7e-04\n",
        " 6: -1.3186e+02 -1.3263e+02  8e-01  7e-04  9e-05\n",
        " 7: -1.3226e+02 -1.3232e+02  6e-02  7e-15  6e-15\n",
        " 8: -1.3230e+02 -1.3230e+02  2e-03  5e-15  6e-15\n",
        " 9: -1.3230e+02 -1.3230e+02  4e-05  8e-15  8e-15\n",
        "Optimal solution found.\n",
        "19 support vectors out of 66 points\n",
        "cutting plane objective: 132.297673, primal objective 150.242494\n",
        "iteration 85\n",
        "OneSlackSSVM(C=0.1, break_on_bad=False, cache_tol=auto,\n",
        "       check_constraints=False, inactive_threshold=1e-05,\n",
        "       inactive_window=50, inference_cache=0, logger=None, max_iter=10000,\n",
        "       model=MultiLabelModel(n_states: 2, inference_method: ad3), n_jobs=1,\n",
        "       positive_constraint=None, show_loss_every=0, switch_to=None,\n",
        "       tol=1e-05, verbose=3)\n",
        "New violation: 1.099122 difference to last: 0.188512"
       ]
      },
      {
       "output_type": "stream",
       "stream": "stdout",
       "text": [
        "\n",
        "     pcost       dcost       gap    pres   dres\n",
        " 0: -1.1229e+02 -4.2244e+02  1e+03  3e+01  4e+00\n",
        " 1: -1.1074e+02 -2.8635e+02  3e+02  7e+00  1e+00\n",
        " 2: -1.1599e+02 -1.8280e+02  8e+01  9e-01  1e-01\n",
        " 3: -1.2340e+02 -1.4143e+02  2e+01  1e-01  2e-02\n",
        " 4: -1.2928e+02 -1.3631e+02  7e+00  2e-02  3e-03\n",
        " 5: -1.3117e+02 -1.3342e+02  2e+00  4e-03  5e-04\n",
        " 6: -1.3211e+02 -1.3262e+02  5e-01  9e-15  7e-15\n",
        " 7: -1.3236e+02 -1.3246e+02  1e-01  6e-15  6e-15\n",
        " 8: -1.3243e+02 -1.3243e+02  2e-03  7e-15  1e-14\n",
        " 9: -1.3243e+02 -1.3243e+02  2e-05  6e-15  1e-14\n",
        "Optimal solution found.\n",
        "17 support vectors out of 67 points\n",
        "cutting plane objective: 132.427201, primal objective 155.126577\n",
        "iteration 86\n",
        "OneSlackSSVM(C=0.1, break_on_bad=False, cache_tol=auto,\n",
        "       check_constraints=False, inactive_threshold=1e-05,\n",
        "       inactive_window=50, inference_cache=0, logger=None, max_iter=10000,\n",
        "       model=MultiLabelModel(n_states: 2, inference_method: ad3), n_jobs=1,\n",
        "       positive_constraint=None, show_loss_every=0, switch_to=None,\n",
        "       tol=1e-05, verbose=3)\n",
        "New violation: 1.021889 difference to last: 0.109703"
       ]
      },
      {
       "output_type": "stream",
       "stream": "stdout",
       "text": [
        "\n",
        "     pcost       dcost       gap    pres   dres\n",
        " 0: -1.1359e+02 -4.3502e+02  1e+03  3e+01  4e+00\n",
        " 1: -1.1049e+02 -2.9302e+02  3e+02  7e+00  9e-01\n",
        " 2: -1.1629e+02 -1.8408e+02  8e+01  8e-01  1e-01\n",
        " 3: -1.2375e+02 -1.4190e+02  2e+01  1e-01  2e-02\n",
        " 4: -1.3010e+02 -1.3600e+02  6e+00  1e-02  1e-03\n",
        " 5: -1.3126e+02 -1.3385e+02  3e+00  2e-03  3e-04\n",
        " 6: -1.3223e+02 -1.3296e+02  7e-01  4e-04  6e-05\n",
        " 7: -1.3250e+02 -1.3273e+02  2e-01  1e-04  2e-05\n",
        " 8: -1.3263e+02 -1.3265e+02  2e-02  6e-15  6e-15\n",
        " 9: -1.3264e+02 -1.3265e+02  3e-04  7e-15  7e-15\n",
        "10: -1.3265e+02 -1.3265e+02  3e-06  5e-15  8e-15\n",
        "Optimal solution found.\n",
        "17 support vectors out of 67 points\n",
        "cutting plane objective: 132.645000, primal objective 145.712297\n",
        "iteration 87\n",
        "OneSlackSSVM(C=0.1, break_on_bad=False, cache_tol=auto,\n",
        "       check_constraints=False, inactive_threshold=1e-05,\n",
        "       inactive_window=50, inference_cache=0, logger=None, max_iter=10000,\n",
        "       model=MultiLabelModel(n_states: 2, inference_method: ad3), n_jobs=1,\n",
        "       positive_constraint=None, show_loss_every=0, switch_to=None,\n",
        "       tol=1e-05, verbose=3)\n",
        "New violation: 1.057579 difference to last: 0.142010"
       ]
      },
      {
       "output_type": "stream",
       "stream": "stdout",
       "text": [
        "\n",
        "     pcost       dcost       gap    pres   dres\n",
        " 0: -1.1378e+02 -4.4305e+02  1e+03  3e+01  4e+00\n",
        " 1: -1.0995e+02 -2.9356e+02  3e+02  6e+00  8e-01\n",
        " 2: -1.1634e+02 -1.8233e+02  7e+01  7e-01  9e-02\n",
        " 3: -1.2396e+02 -1.4168e+02  2e+01  1e-01  1e-02\n",
        " 4: -1.3039e+02 -1.3599e+02  6e+00  6e-03  8e-04\n",
        " 5: -1.3153e+02 -1.3390e+02  2e+00  2e-03  2e-04\n",
        " 6: -1.3259e+02 -1.3298e+02  4e-01  1e-04  2e-05\n",
        " 7: -1.3278e+02 -1.3286e+02  9e-02  2e-05  3e-06\n",
        " 8: -1.3283e+02 -1.3283e+02  3e-03  4e-15  6e-15\n",
        " 9: -1.3283e+02 -1.3283e+02  4e-05  7e-15  5e-15\n",
        "Optimal solution found.\n",
        "16 support vectors out of 68 points\n",
        "cutting plane objective: 132.834183, primal objective 149.842380\n",
        "iteration 88\n",
        "OneSlackSSVM(C=0.1, break_on_bad=False, cache_tol=auto,\n",
        "       check_constraints=False, inactive_threshold=1e-05,\n",
        "       inactive_window=50, inference_cache=0, logger=None, max_iter=10000,\n",
        "       model=MultiLabelModel(n_states: 2, inference_method: ad3), n_jobs=1,\n",
        "       positive_constraint=None, show_loss_every=0, switch_to=None,\n",
        "       tol=1e-05, verbose=3)\n",
        "New violation: 1.034613 difference to last: 0.117456"
       ]
      },
      {
       "output_type": "stream",
       "stream": "stdout",
       "text": [
        "\n",
        "     pcost       dcost       gap    pres   dres\n",
        " 0: -1.1389e+02 -4.2467e+02  1e+03  3e+01  4e+00\n",
        " 1: -1.1114e+02 -2.8706e+02  3e+02  6e+00  9e-01\n",
        " 2: -1.1715e+02 -1.7994e+02  7e+01  6e-01  9e-02\n",
        " 3: -1.2460e+02 -1.4205e+02  2e+01  1e-01  1e-02\n",
        " 4: -1.2988e+02 -1.3674e+02  7e+00  2e-02  3e-03\n",
        " 5: -1.3157e+02 -1.3430e+02  3e+00  5e-03  6e-04\n",
        " 6: -1.3286e+02 -1.3337e+02  5e-01  5e-15  5e-15\n",
        " 7: -1.3312e+02 -1.3320e+02  9e-02  7e-15  5e-15\n",
        " 8: -1.3317e+02 -1.3318e+02  4e-03  9e-15  6e-15\n",
        " 9: -1.3317e+02 -1.3317e+02  2e-04  4e-15  5e-15\n",
        "10: -1.3317e+02 -1.3317e+02  5e-06  4e-15  5e-15\n",
        "Optimal solution found.\n",
        "16 support vectors out of 68 points\n",
        "cutting plane objective: 133.173731, primal objective 147.058160\n",
        "iteration 89\n",
        "OneSlackSSVM(C=0.1, break_on_bad=False, cache_tol=auto,\n",
        "       check_constraints=False, inactive_threshold=1e-05,\n",
        "       inactive_window=50, inference_cache=0, logger=None, max_iter=10000,\n",
        "       model=MultiLabelModel(n_states: 2, inference_method: ad3), n_jobs=1,\n",
        "       positive_constraint=None, show_loss_every=0, switch_to=None,\n",
        "       tol=1e-05, verbose=3)\n",
        "New violation: 1.044209 difference to last: 0.123248"
       ]
      },
      {
       "output_type": "stream",
       "stream": "stdout",
       "text": [
        "\n",
        "     pcost       dcost       gap    pres   dres\n",
        " 0: -1.1473e+02 -4.2668e+02  1e+03  3e+01  4e+00\n",
        " 1: -1.1125e+02 -2.8535e+02  3e+02  6e+00  8e-01\n",
        " 2: -1.1745e+02 -1.7691e+02  6e+01  6e-01  7e-02\n",
        " 3: -1.2494e+02 -1.4148e+02  2e+01  1e-01  1e-02\n",
        " 4: -1.2987e+02 -1.3692e+02  7e+00  2e-02  3e-03\n",
        " 5: -1.3164e+02 -1.3434e+02  3e+00  4e-03  5e-04\n",
        " 6: -1.3293e+02 -1.3343e+02  5e-01  8e-15  5e-15\n",
        " 7: -1.3318e+02 -1.3324e+02  6e-02  7e-15  5e-15\n",
        " 8: -1.3322e+02 -1.3323e+02  2e-03  5e-15  6e-15\n",
        " 9: -1.3323e+02 -1.3323e+02  3e-05  6e-15  7e-15\n",
        "Optimal solution found.\n",
        "16 support vectors out of 69 points\n",
        "cutting plane objective: 133.226589, primal objective 148.099035\n",
        "iteration 90\n",
        "OneSlackSSVM(C=0.1, break_on_bad=False, cache_tol=auto,\n",
        "       check_constraints=False, inactive_threshold=1e-05,\n",
        "       inactive_window=50, inference_cache=0, logger=None, max_iter=10000,\n",
        "       model=MultiLabelModel(n_states: 2, inference_method: ad3), n_jobs=1,\n",
        "       positive_constraint=None, show_loss_every=0, switch_to=None,\n",
        "       tol=1e-05, verbose=3)\n",
        "New violation: 1.031725 difference to last: 0.110240"
       ]
      },
      {
       "output_type": "stream",
       "stream": "stdout",
       "text": [
        "\n",
        "     pcost       dcost       gap    pres   dres\n",
        " 0: -1.1557e+02 -4.3293e+02  1e+03  3e+01  4e+00\n",
        " 1: -1.1220e+02 -2.8696e+02  3e+02  6e+00  8e-01\n",
        " 2: -1.1814e+02 -1.7605e+02  6e+01  6e-01  8e-02\n",
        " 3: -1.2538e+02 -1.4165e+02  2e+01  1e-01  1e-02\n",
        " 4: -1.3031e+02 -1.3640e+02  6e+00  2e-02  3e-03\n",
        " 5: -1.3174e+02 -1.3447e+02  3e+00  7e-03  1e-03\n",
        " 6: -1.3302e+02 -1.3356e+02  5e-01  8e-15  5e-15\n",
        " 7: -1.3330e+02 -1.3336e+02  7e-02  7e-15  5e-15\n",
        " 8: -1.3334e+02 -1.3335e+02  1e-03  7e-15  5e-15\n",
        " 9: -1.3335e+02 -1.3335e+02  1e-05  5e-15  5e-15\n",
        "Optimal solution found.\n",
        "17 support vectors out of 68 points\n",
        "cutting plane objective: 133.345899, primal objective 146.576650\n",
        "iteration 91\n",
        "OneSlackSSVM(C=0.1, break_on_bad=False, cache_tol=auto,\n",
        "       check_constraints=False, inactive_threshold=1e-05,\n",
        "       inactive_window=50, inference_cache=0, logger=None, max_iter=10000,\n",
        "       model=MultiLabelModel(n_states: 2, inference_method: ad3), n_jobs=1,\n",
        "       positive_constraint=None, show_loss_every=0, switch_to=None,\n",
        "       tol=1e-05, verbose=3)\n",
        "New violation: 1.038071 difference to last: 0.116217"
       ]
      },
      {
       "output_type": "stream",
       "stream": "stdout",
       "text": [
        "\n",
        "     pcost       dcost       gap    pres   dres\n",
        " 0: -1.1616e+02 -4.3750e+02  1e+03  3e+01  4e+00\n",
        " 1: -1.1305e+02 -2.8537e+02  3e+02  5e+00  7e-01\n",
        " 2: -1.1924e+02 -1.7162e+02  6e+01  5e-01  7e-02\n",
        " 3: -1.2646e+02 -1.4073e+02  1e+01  1e-01  1e-02\n",
        " 4: -1.3110e+02 -1.3656e+02  5e+00  2e-02  3e-03\n",
        " 5: -1.3224e+02 -1.3445e+02  2e+00  5e-03  7e-04\n",
        " 6: -1.3332e+02 -1.3365e+02  3e-01  2e-05  2e-06\n",
        " 7: -1.3346e+02 -1.3353e+02  7e-02  7e-15  6e-15\n",
        " 8: -1.3351e+02 -1.3351e+02  2e-03  7e-15  4e-15\n",
        " 9: -1.3351e+02 -1.3351e+02  3e-05  5e-15  4e-15\n",
        "Optimal solution found.\n",
        "19 support vectors out of 68 points\n",
        "cutting plane objective: 133.513071, primal objective 147.419785\n",
        "iteration 92\n",
        "OneSlackSSVM(C=0.1, break_on_bad=False, cache_tol=auto,\n",
        "       check_constraints=False, inactive_threshold=1e-05,\n",
        "       inactive_window=50, inference_cache=0, logger=None, max_iter=10000,\n",
        "       model=MultiLabelModel(n_states: 2, inference_method: ad3), n_jobs=1,\n",
        "       positive_constraint=None, show_loss_every=0, switch_to=None,\n",
        "       tol=1e-05, verbose=3)\n",
        "New violation: 1.046140 difference to last: 0.124573"
       ]
      },
      {
       "output_type": "stream",
       "stream": "stdout",
       "text": [
        "\n",
        "     pcost       dcost       gap    pres   dres\n",
        " 0: -1.1678e+02 -4.4492e+02  1e+03  3e+01  4e+00\n",
        " 1: -1.1296e+02 -2.8641e+02  3e+02  4e+00  6e-01\n",
        " 2: -1.1948e+02 -1.7051e+02  5e+01  5e-01  7e-02\n",
        " 3: -1.2679e+02 -1.4031e+02  1e+01  9e-02  1e-02\n",
        " 4: -1.3141e+02 -1.3647e+02  5e+00  1e-02  2e-03\n",
        " 5: -1.3269e+02 -1.3449e+02  2e+00  3e-03  4e-04\n",
        " 6: -1.3362e+02 -1.3388e+02  3e-01  1e-04  2e-05\n",
        " 7: -1.3376e+02 -1.3379e+02  3e-02  7e-15  4e-15\n",
        " 8: -1.3378e+02 -1.3378e+02  6e-04  1e-14  4e-15\n",
        " 9: -1.3378e+02 -1.3378e+02  3e-05  8e-15  5e-15\n",
        "Optimal solution found.\n",
        "18 support vectors out of 69 points\n",
        "cutting plane objective: 133.782488, primal objective 148.598935\n",
        "iteration 93\n",
        "OneSlackSSVM(C=0.1, break_on_bad=False, cache_tol=auto,\n",
        "       check_constraints=False, inactive_threshold=1e-05,\n",
        "       inactive_window=50, inference_cache=0, logger=None, max_iter=10000,\n",
        "       model=MultiLabelModel(n_states: 2, inference_method: ad3), n_jobs=1,\n",
        "       positive_constraint=None, show_loss_every=0, switch_to=None,\n",
        "       tol=1e-05, verbose=3)\n",
        "New violation: 1.033388 difference to last: 0.112512"
       ]
      },
      {
       "output_type": "stream",
       "stream": "stdout",
       "text": [
        "\n",
        "     pcost       dcost       gap    pres   dres\n",
        " 0: -1.1748e+02 -4.3893e+02  1e+03  3e+01  4e+00\n",
        " 1: -1.1352e+02 -2.8216e+02  2e+02  4e+00  6e-01\n",
        " 2: -1.1997e+02 -1.6831e+02  5e+01  4e-01  6e-02\n",
        " 3: -1.2696e+02 -1.4058e+02  1e+01  9e-02  1e-02\n",
        " 4: -1.3162e+02 -1.3704e+02  5e+00  2e-02  2e-03\n",
        " 5: -1.3289e+02 -1.3478e+02  2e+00  3e-03  4e-04\n",
        " 6: -1.3380e+02 -1.3408e+02  3e-01  6e-15  4e-15\n",
        " 7: -1.3397e+02 -1.3398e+02  2e-02  5e-15  4e-15\n",
        " 8: -1.3398e+02 -1.3398e+02  3e-04  5e-15  4e-15\n",
        " 9: -1.3398e+02 -1.3398e+02  3e-06  4e-15  4e-15\n",
        "Optimal solution found.\n",
        "19 support vectors out of 70 points\n",
        "cutting plane objective: 133.976189, primal objective 147.407738\n",
        "iteration 94\n",
        "OneSlackSSVM(C=0.1, break_on_bad=False, cache_tol=auto,\n",
        "       check_constraints=False, inactive_threshold=1e-05,\n",
        "       inactive_window=50, inference_cache=0, logger=None, max_iter=10000,\n",
        "       model=MultiLabelModel(n_states: 2, inference_method: ad3), n_jobs=1,\n",
        "       positive_constraint=None, show_loss_every=0, switch_to=None,\n",
        "       tol=1e-05, verbose=3)\n",
        "New violation: 1.035368 difference to last: 0.110099"
       ]
      },
      {
       "output_type": "stream",
       "stream": "stdout",
       "text": [
        "\n",
        "     pcost       dcost       gap    pres   dres\n",
        " 0: -1.1780e+02 -4.3721e+02  1e+03  3e+01  4e+00\n",
        " 1: -1.1393e+02 -2.7646e+02  2e+02  3e+00  5e-01\n",
        " 2: -1.2084e+02 -1.6087e+02  4e+01  3e-01  4e-02\n",
        " 3: -1.2784e+02 -1.4078e+02  1e+01  7e-02  9e-03\n",
        " 4: -1.3189e+02 -1.3662e+02  5e+00  1e-02  2e-03\n",
        " 5: -1.3335e+02 -1.3491e+02  2e+00  2e-03  2e-04\n",
        " 6: -1.3378e+02 -1.3439e+02  6e-01  5e-04  7e-05\n",
        " 7: -1.3408e+02 -1.3418e+02  9e-02  9e-15  4e-15\n",
        " 8: -1.3414e+02 -1.3415e+02  4e-03  6e-15  4e-15\n",
        " 9: -1.3415e+02 -1.3415e+02  6e-05  6e-15  5e-15\n",
        "Optimal solution found.\n",
        "19 support vectors out of 71 points\n",
        "cutting plane objective: 134.147640, primal objective 147.309213\n",
        "iteration 95\n",
        "OneSlackSSVM(C=0.1, break_on_bad=False, cache_tol=auto,\n",
        "       check_constraints=False, inactive_threshold=1e-05,\n",
        "       inactive_window=50, inference_cache=0, logger=None, max_iter=10000,\n",
        "       model=MultiLabelModel(n_states: 2, inference_method: ad3), n_jobs=1,\n",
        "       positive_constraint=None, show_loss_every=0, switch_to=None,\n",
        "       tol=1e-05, verbose=3)\n",
        "New violation: 1.039151 difference to last: 0.111002"
       ]
      },
      {
       "output_type": "stream",
       "stream": "stdout",
       "text": [
        "\n",
        "     pcost       dcost       gap    pres   dres\n",
        " 0: -1.1816e+02 -4.3716e+02  1e+03  3e+01  4e+00\n",
        " 1: -1.1382e+02 -2.7516e+02  2e+02  3e+00  4e-01\n",
        " 2: -1.2100e+02 -1.6076e+02  4e+01  3e-01  4e-02\n",
        " 3: -1.2797e+02 -1.4083e+02  1e+01  7e-02  9e-03\n",
        " 4: -1.3189e+02 -1.3660e+02  5e+00  2e-02  2e-03\n",
        " 5: -1.3345e+02 -1.3487e+02  1e+00  1e-03  1e-04\n",
        " 6: -1.3395e+02 -1.3441e+02  5e-01  3e-04  3e-05\n",
        " 7: -1.3414e+02 -1.3425e+02  1e-01  5e-15  4e-15\n",
        " 8: -1.3421e+02 -1.3422e+02  9e-03  7e-15  3e-15\n",
        " 9: -1.3422e+02 -1.3422e+02  2e-04  6e-15  4e-15\n",
        "10: -1.3422e+02 -1.3422e+02  2e-06  6e-15  4e-15\n",
        "Optimal solution found.\n",
        "18 support vectors out of 72 points\n",
        "cutting plane objective: 134.217315, primal objective 147.590093\n",
        "iteration 96\n",
        "OneSlackSSVM(C=0.1, break_on_bad=False, cache_tol=auto,\n",
        "       check_constraints=False, inactive_threshold=1e-05,\n",
        "       inactive_window=50, inference_cache=0, logger=None, max_iter=10000,\n",
        "       model=MultiLabelModel(n_states: 2, inference_method: ad3), n_jobs=1,\n",
        "       positive_constraint=None, show_loss_every=0, switch_to=None,\n",
        "       tol=1e-05, verbose=3)\n",
        "New violation: 1.016850 difference to last: 0.087585"
       ]
      },
      {
       "output_type": "stream",
       "stream": "stdout",
       "text": [
        "\n",
        "     pcost       dcost       gap    pres   dres\n",
        " 0: -1.1850e+02 -4.3601e+02  1e+03  3e+01  4e+00\n",
        " 1: -1.1418e+02 -2.7869e+02  2e+02  3e+00  4e-01\n",
        " 2: -1.2086e+02 -1.6301e+02  4e+01  3e-01  4e-02\n",
        " 3: -1.2773e+02 -1.4100e+02  1e+01  7e-02  1e-02\n",
        " 4: -1.3200e+02 -1.3695e+02  5e+00  2e-02  2e-03\n",
        " 5: -1.3347e+02 -1.3494e+02  1e+00  1e-03  2e-04\n",
        " 6: -1.3415e+02 -1.3443e+02  3e-01  6e-15  4e-15\n",
        " 7: -1.3431e+02 -1.3433e+02  2e-02  5e-15  4e-15\n",
        " 8: -1.3432e+02 -1.3432e+02  4e-04  6e-15  3e-15\n",
        " 9: -1.3432e+02 -1.3432e+02  2e-05  7e-15  4e-15\n",
        "Optimal solution found.\n",
        "20 support vectors out of 73 points\n",
        "cutting plane objective: 134.323765, primal objective 144.823907\n",
        "iteration 97\n",
        "OneSlackSSVM(C=0.1, break_on_bad=False, cache_tol=auto,\n",
        "       check_constraints=False, inactive_threshold=1e-05,\n",
        "       inactive_window=50, inference_cache=0, logger=None, max_iter=10000,\n",
        "       model=MultiLabelModel(n_states: 2, inference_method: ad3), n_jobs=1,\n",
        "       positive_constraint=None, show_loss_every=0, switch_to=None,\n",
        "       tol=1e-05, verbose=3)\n",
        "New violation: 1.034461 difference to last: 0.103381"
       ]
      },
      {
       "output_type": "stream",
       "stream": "stdout",
       "text": [
        "\n",
        "     pcost       dcost       gap    pres   dres\n",
        " 0: -1.1905e+02 -4.2214e+02  1e+03  3e+01  4e+00\n",
        " 1: -1.1439e+02 -2.6938e+02  2e+02  3e+00  4e-01\n",
        " 2: -1.2147e+02 -1.5964e+02  4e+01  3e-01  3e-02\n",
        " 3: -1.2833e+02 -1.4091e+02  1e+01  6e-02  7e-03\n",
        " 4: -1.3207e+02 -1.3662e+02  5e+00  1e-02  2e-03\n",
        " 5: -1.3363e+02 -1.3492e+02  1e+00  1e-03  1e-04\n",
        " 6: -1.3418e+02 -1.3453e+02  3e-01  7e-15  4e-15\n",
        " 7: -1.3438e+02 -1.3442e+02  4e-02  7e-15  4e-15\n",
        " 8: -1.3440e+02 -1.3440e+02  7e-04  6e-15  4e-15\n",
        " 9: -1.3440e+02 -1.3440e+02  1e-05  6e-15  3e-15\n",
        "Optimal solution found.\n",
        "19 support vectors out of 74 points\n",
        "cutting plane objective: 134.402664, primal objective 146.843252\n",
        "iteration 98\n",
        "OneSlackSSVM(C=0.1, break_on_bad=False, cache_tol=auto,\n",
        "       check_constraints=False, inactive_threshold=1e-05,\n",
        "       inactive_window=50, inference_cache=0, logger=None, max_iter=10000,\n",
        "       model=MultiLabelModel(n_states: 2, inference_method: ad3), n_jobs=1,\n",
        "       positive_constraint=None, show_loss_every=0, switch_to=None,\n",
        "       tol=1e-05, verbose=3)\n",
        "New violation: 1.012413 difference to last: 0.081616"
       ]
      },
      {
       "output_type": "stream",
       "stream": "stdout",
       "text": [
        "\n",
        "     pcost       dcost       gap    pres   dres\n",
        " 0: -1.1947e+02 -4.2208e+02  1e+03  3e+01  4e+00\n",
        " 1: -1.1450e+02 -2.7100e+02  2e+02  3e+00  3e-01\n",
        " 2: -1.2248e+02 -1.6077e+02  4e+01  3e-01  3e-02\n",
        " 3: -1.2860e+02 -1.4035e+02  1e+01  6e-02  7e-03\n",
        " 4: -1.3244e+02 -1.3686e+02  4e+00  1e-02  2e-03\n",
        " 5: -1.3372e+02 -1.3520e+02  1e+00  2e-03  3e-04\n",
        " 6: -1.3433e+02 -1.3480e+02  5e-01  4e-05  4e-06\n",
        " 7: -1.3452e+02 -1.3460e+02  8e-02  5e-15  4e-15\n",
        " 8: -1.3458e+02 -1.3458e+02  2e-03  5e-15  3e-15\n",
        " 9: -1.3458e+02 -1.3458e+02  2e-05  6e-15  4e-15\n",
        "Optimal solution found.\n",
        "18 support vectors out of 73 points\n",
        "cutting plane objective: 134.577185, primal objective 144.286319\n",
        "iteration 99\n",
        "OneSlackSSVM(C=0.1, break_on_bad=False, cache_tol=auto,\n",
        "       check_constraints=False, inactive_threshold=1e-05,\n",
        "       inactive_window=50, inference_cache=0, logger=None, max_iter=10000,\n",
        "       model=MultiLabelModel(n_states: 2, inference_method: ad3), n_jobs=1,\n",
        "       positive_constraint=None, show_loss_every=0, switch_to=None,\n",
        "       tol=1e-05, verbose=3)\n",
        "New violation: 1.027207 difference to last: 0.095294"
       ]
      },
      {
       "output_type": "stream",
       "stream": "stdout",
       "text": [
        "\n",
        "     pcost       dcost       gap    pres   dres\n",
        " 0: -1.2014e+02 -4.1419e+02  1e+03  3e+01  4e+00\n",
        " 1: -1.1547e+02 -2.6602e+02  2e+02  3e+00  3e-01\n",
        " 2: -1.2327e+02 -1.5787e+02  4e+01  2e-01  3e-02\n",
        " 3: -1.2920e+02 -1.4057e+02  1e+01  5e-02  6e-03\n",
        " 4: -1.3273e+02 -1.3680e+02  4e+00  1e-02  1e-03\n",
        " 5: -1.3403e+02 -1.3523e+02  1e+00  2e-04  3e-05\n",
        " 6: -1.3455e+02 -1.3491e+02  4e-01  4e-15  3e-15\n",
        " 7: -1.3472e+02 -1.3478e+02  6e-02  5e-15  3e-15\n",
        " 8: -1.3475e+02 -1.3476e+02  3e-03  6e-15  3e-15\n",
        " 9: -1.3476e+02 -1.3476e+02  4e-05  7e-15  3e-15\n",
        "Optimal solution found.\n",
        "19 support vectors out of 74 points\n",
        "cutting plane objective: 134.756565, primal objective 146.117244\n",
        "iteration 100\n",
        "OneSlackSSVM(C=0.1, break_on_bad=False, cache_tol=auto,\n",
        "       check_constraints=False, inactive_threshold=1e-05,\n",
        "       inactive_window=50, inference_cache=0, logger=None, max_iter=10000,\n",
        "       model=MultiLabelModel(n_states: 2, inference_method: ad3), n_jobs=1,\n",
        "       positive_constraint=None, show_loss_every=0, switch_to=None,\n",
        "       tol=1e-05, verbose=3)\n",
        "New violation: 1.025890 difference to last: 0.090525"
       ]
      },
      {
       "output_type": "stream",
       "stream": "stdout",
       "text": [
        "\n",
        "     pcost       dcost       gap    pres   dres\n",
        " 0: -1.2107e+02 -4.0832e+02  1e+03  3e+01  4e+00\n",
        " 1: -1.1687e+02 -2.6249e+02  2e+02  3e+00  4e-01\n",
        " 2: -1.2349e+02 -1.5885e+02  4e+01  3e-01  4e-02\n",
        " 3: -1.2914e+02 -1.4086e+02  1e+01  7e-02  9e-03\n",
        " 4: -1.3283e+02 -1.3696e+02  4e+00  1e-02  2e-03\n",
        " 5: -1.3412e+02 -1.3557e+02  1e+00  1e-03  2e-04\n",
        " 6: -1.3473e+02 -1.3501e+02  3e-01  2e-04  3e-05\n",
        " 7: -1.3487e+02 -1.3490e+02  3e-02  4e-15  3e-15\n",
        " 8: -1.3489e+02 -1.3489e+02  1e-03  8e-15  3e-15\n",
        " 9: -1.3489e+02 -1.3489e+02  3e-05  9e-15  3e-15\n",
        "Optimal solution found.\n",
        "21 support vectors out of 74 points\n",
        "cutting plane objective: 134.892803, primal objective 145.719173\n",
        "iteration 101\n",
        "OneSlackSSVM(C=0.1, break_on_bad=False, cache_tol=auto,\n",
        "       check_constraints=False, inactive_threshold=1e-05,\n",
        "       inactive_window=50, inference_cache=0, logger=None, max_iter=10000,\n",
        "       model=MultiLabelModel(n_states: 2, inference_method: ad3), n_jobs=1,\n",
        "       positive_constraint=None, show_loss_every=0, switch_to=None,\n",
        "       tol=1e-05, verbose=3)\n",
        "New violation: 1.039960 difference to last: 0.103771"
       ]
      },
      {
       "output_type": "stream",
       "stream": "stdout",
       "text": [
        "\n",
        "     pcost       dcost       gap    pres   dres\n",
        " 0: -1.2150e+02 -4.0016e+02  1e+03  3e+01  3e+00\n",
        " 1: -1.1702e+02 -2.5541e+02  2e+02  2e+00  3e-01\n",
        " 2: -1.2409e+02 -1.5553e+02  3e+01  3e-01  3e-02\n",
        " 3: -1.3023e+02 -1.4030e+02  1e+01  4e-02  4e-03\n",
        " 4: -1.3295e+02 -1.3670e+02  4e+00  8e-03  1e-03\n",
        " 5: -1.3440e+02 -1.3533e+02  9e-01  6e-15  3e-15\n",
        " 6: -1.3484e+02 -1.3508e+02  2e-01  5e-15  4e-15\n",
        " 7: -1.3496e+02 -1.3501e+02  6e-02  5e-15  3e-15\n",
        " 8: -1.3499e+02 -1.3499e+02  9e-03  8e-15  3e-15\n",
        " 9: -1.3499e+02 -1.3499e+02  2e-04  9e-15  2e-15\n",
        "10: -1.3499e+02 -1.3499e+02  2e-06  5e-15  3e-15\n",
        "Optimal solution found.\n",
        "19 support vectors out of 74 points\n",
        "cutting plane objective: 134.992267, primal objective 147.459468\n",
        "iteration 102\n",
        "OneSlackSSVM(C=0.1, break_on_bad=False, cache_tol=auto,\n",
        "       check_constraints=False, inactive_threshold=1e-05,\n",
        "       inactive_window=50, inference_cache=0, logger=None, max_iter=10000,\n",
        "       model=MultiLabelModel(n_states: 2, inference_method: ad3), n_jobs=1,\n",
        "       positive_constraint=None, show_loss_every=0, switch_to=None,\n",
        "       tol=1e-05, verbose=3)\n",
        "New violation: 1.018800 difference to last: 0.081669"
       ]
      },
      {
       "output_type": "stream",
       "stream": "stdout",
       "text": [
        "\n",
        "     pcost       dcost       gap    pres   dres\n",
        " 0: -1.2166e+02 -4.0264e+02  1e+03  3e+01  3e+00\n",
        " 1: -1.1743e+02 -2.5505e+02  2e+02  2e+00  3e-01\n",
        " 2: -1.2450e+02 -1.5527e+02  3e+01  2e-01  3e-02\n",
        " 3: -1.3027e+02 -1.4039e+02  1e+01  4e-02  5e-03\n",
        " 4: -1.3315e+02 -1.3660e+02  3e+00  8e-03  1e-03\n",
        " 5: -1.3442e+02 -1.3539e+02  1e+00  3e-04  4e-05\n",
        " 6: -1.3488e+02 -1.3513e+02  2e-01  2e-05  3e-06\n",
        " 7: -1.3503e+02 -1.3505e+02  1e-02  1e-14  4e-15\n",
        " 8: -1.3504e+02 -1.3505e+02  3e-04  4e-15  3e-15\n",
        " 9: -1.3504e+02 -1.3504e+02  3e-06  7e-15  2e-15\n",
        "Optimal solution found.\n",
        "17 support vectors out of 74 points\n",
        "cutting plane objective: 135.044993, primal objective 144.882392\n",
        "iteration 103\n",
        "OneSlackSSVM(C=0.1, break_on_bad=False, cache_tol=auto,\n",
        "       check_constraints=False, inactive_threshold=1e-05,\n",
        "       inactive_window=50, inference_cache=0, logger=None, max_iter=10000,\n",
        "       model=MultiLabelModel(n_states: 2, inference_method: ad3), n_jobs=1,\n",
        "       positive_constraint=None, show_loss_every=0, switch_to=None,\n",
        "       tol=1e-05, verbose=3)\n",
        "New violation: 1.006728 difference to last: 0.068674"
       ]
      },
      {
       "output_type": "stream",
       "stream": "stdout",
       "text": [
        "\n",
        "     pcost       dcost       gap    pres   dres\n",
        " 0: -1.1946e+02 -3.9686e+02  7e+02  2e+01  3e+00\n",
        " 1: -1.1883e+02 -2.4610e+02  2e+02  3e+00  6e-01\n",
        " 2: -1.2535e+02 -1.5522e+02  3e+01  3e-01  6e-02\n",
        " 3: -1.3009e+02 -1.4362e+02  1e+01  9e-02  2e-02\n",
        " 4: -1.3278e+02 -1.3718e+02  4e+00  2e-02  3e-03\n",
        " 5: -1.3426e+02 -1.3591e+02  2e+00  2e-03  3e-04\n",
        " 6: -1.3483e+02 -1.3534e+02  5e-01  4e-04  8e-05\n",
        " 7: -1.3509e+02 -1.3514e+02  5e-02  5e-08  9e-09\n",
        " 8: -1.3512e+02 -1.3512e+02  6e-03  3e-09  5e-10\n",
        " 9: -1.3512e+02 -1.3512e+02  2e-04  2e-11  3e-12\n",
        "10: -1.3512e+02 -1.3512e+02  7e-06  2e-13  3e-14\n",
        "Optimal solution found.\n",
        "20 support vectors out of 74 points\n",
        "cutting plane objective: 135.121402, primal objective 143.361382\n",
        "iteration 104\n",
        "OneSlackSSVM(C=0.1, break_on_bad=False, cache_tol=auto,\n",
        "       check_constraints=False, inactive_threshold=1e-05,\n",
        "       inactive_window=50, inference_cache=0, logger=None, max_iter=10000,\n",
        "       model=MultiLabelModel(n_states: 2, inference_method: ad3), n_jobs=1,\n",
        "       positive_constraint=None, show_loss_every=0, switch_to=None,\n",
        "       tol=1e-05, verbose=3)\n",
        "New violation: 1.013427 difference to last: 0.074601"
       ]
      },
      {
       "output_type": "stream",
       "stream": "stdout",
       "text": [
        "\n",
        "     pcost       dcost       gap    pres   dres\n",
        " 0: -1.2062e+02 -3.9925e+02  8e+02  2e+01  3e+00\n",
        " 1: -1.1953e+02 -2.4476e+02  2e+02  3e+00  5e-01\n",
        " 2: -1.2579e+02 -1.5408e+02  3e+01  3e-01  5e-02\n",
        " 3: -1.3037e+02 -1.4370e+02  1e+01  8e-02  1e-02\n",
        " 4: -1.3296e+02 -1.3710e+02  4e+00  1e-02  2e-03\n",
        " 5: -1.3446e+02 -1.3580e+02  1e+00  6e-05  1e-05\n",
        " 6: -1.3501e+02 -1.3530e+02  3e-01  8e-06  2e-06\n",
        " 7: -1.3517e+02 -1.3520e+02  3e-02  5e-07  9e-08\n",
        " 8: -1.3519e+02 -1.3519e+02  4e-04  5e-09  9e-10\n",
        " 9: -1.3519e+02 -1.3519e+02  4e-06  5e-11  9e-12\n",
        "Optimal solution found.\n",
        "19 support vectors out of 74 points\n",
        "cutting plane objective: 135.191028, primal objective 144.155534\n",
        "iteration 105\n",
        "OneSlackSSVM(C=0.1, break_on_bad=False, cache_tol=auto,\n",
        "       check_constraints=False, inactive_threshold=1e-05,\n",
        "       inactive_window=50, inference_cache=0, logger=None, max_iter=10000,\n",
        "       model=MultiLabelModel(n_states: 2, inference_method: ad3), n_jobs=1,\n",
        "       positive_constraint=None, show_loss_every=0, switch_to=None,\n",
        "       tol=1e-05, verbose=3)\n",
        "New violation: 1.016971 difference to last: 0.078211"
       ]
      },
      {
       "output_type": "stream",
       "stream": "stdout",
       "text": [
        "\n",
        "     pcost       dcost       gap    pres   dres\n",
        " 0: -1.2123e+02 -3.8452e+02  8e+02  2e+01  3e+00\n",
        " 1: -1.2081e+02 -2.5074e+02  2e+02  4e+00  7e-01\n",
        " 2: -1.2608e+02 -1.6099e+02  4e+01  5e-01  8e-02\n",
        " 3: -1.3061e+02 -1.4106e+02  1e+01  8e-02  1e-02\n",
        " 4: -1.3325e+02 -1.3755e+02  4e+00  2e-02  3e-03\n",
        " 5: -1.3467e+02 -1.3604e+02  1e+00  9e-04  1e-04\n",
        " 6: -1.3510e+02 -1.3550e+02  4e-01  2e-04  4e-05\n",
        " 7: -1.3529e+02 -1.3533e+02  4e-02  2e-06  3e-07\n",
        " 8: -1.3532e+02 -1.3532e+02  2e-03  4e-08  6e-09\n",
        " 9: -1.3532e+02 -1.3532e+02  8e-05  1e-09  2e-10\n",
        "Optimal solution found.\n",
        "21 support vectors out of 74 points\n",
        "cutting plane objective: 135.319638, primal objective 144.662363\n",
        "iteration 106\n",
        "OneSlackSSVM(C=0.1, break_on_bad=False, cache_tol=auto,\n",
        "       check_constraints=False, inactive_threshold=1e-05,\n",
        "       inactive_window=50, inference_cache=0, logger=None, max_iter=10000,\n",
        "       model=MultiLabelModel(n_states: 2, inference_method: ad3), n_jobs=1,\n",
        "       positive_constraint=None, show_loss_every=0, switch_to=None,\n",
        "       tol=1e-05, verbose=3)\n",
        "New violation: 1.008503 difference to last: 0.067954"
       ]
      },
      {
       "output_type": "stream",
       "stream": "stdout",
       "text": [
        "\n",
        "     pcost       dcost       gap    pres   dres\n",
        " 0: -1.2190e+02 -3.8075e+02  7e+02  2e+01  3e+00\n",
        " 1: -1.2189e+02 -2.5058e+02  2e+02  4e+00  7e-01\n",
        " 2: -1.2668e+02 -1.6045e+02  4e+01  4e-01  7e-02\n",
        " 3: -1.3082e+02 -1.4105e+02  1e+01  8e-02  1e-02\n",
        " 4: -1.3344e+02 -1.3745e+02  4e+00  1e-02  2e-03\n",
        " 5: -1.3483e+02 -1.3605e+02  1e+00  1e-04  2e-05\n",
        " 6: -1.3529e+02 -1.3552e+02  2e-01  1e-05  2e-06\n",
        " 7: -1.3540e+02 -1.3543e+02  3e-02  1e-06  2e-07\n",
        " 8: -1.3542e+02 -1.3542e+02  8e-04  2e-08  3e-09\n",
        " 9: -1.3542e+02 -1.3542e+02  3e-05  2e-10  4e-11\n",
        "Optimal solution found.\n",
        "22 support vectors out of 72 points\n",
        "cutting plane objective: 135.418833, primal objective 143.548939\n",
        "iteration 107\n",
        "OneSlackSSVM(C=0.1, break_on_bad=False, cache_tol=auto,\n",
        "       check_constraints=False, inactive_threshold=1e-05,\n",
        "       inactive_window=50, inference_cache=0, logger=None, max_iter=10000,\n",
        "       model=MultiLabelModel(n_states: 2, inference_method: ad3), n_jobs=1,\n",
        "       positive_constraint=None, show_loss_every=0, switch_to=None,\n",
        "       tol=1e-05, verbose=3)\n",
        "New violation: 1.019305 difference to last: 0.078492"
       ]
      },
      {
       "output_type": "stream",
       "stream": "stdout",
       "text": [
        "\n",
        "     pcost       dcost       gap    pres   dres\n",
        " 0: -1.2187e+02 -3.8172e+02  7e+02  2e+01  3e+00\n",
        " 1: -1.2204e+02 -2.4973e+02  2e+02  4e+00  7e-01\n",
        " 2: -1.2685e+02 -1.5906e+02  3e+01  4e-01  7e-02\n",
        " 3: -1.3104e+02 -1.4130e+02  1e+01  8e-02  1e-02\n",
        " 4: -1.3361e+02 -1.3721e+02  4e+00  1e-02  2e-03\n",
        " 5: -1.3487e+02 -1.3607e+02  1e+00  3e-04  6e-05\n",
        " 6: -1.3537e+02 -1.3559e+02  2e-01  4e-05  7e-06\n",
        " 7: -1.3550e+02 -1.3551e+02  1e-02  1e-06  2e-07\n",
        " 8: -1.3550e+02 -1.3550e+02  5e-04  5e-08  8e-09\n",
        " 9: -1.3550e+02 -1.3550e+02  2e-05  7e-10  1e-10\n",
        "Optimal solution found.\n",
        "19 support vectors out of 72 points\n",
        "cutting plane objective: 135.504002, primal objective 144.924226\n",
        "iteration 108\n",
        "OneSlackSSVM(C=0.1, break_on_bad=False, cache_tol=auto,\n",
        "       check_constraints=False, inactive_threshold=1e-05,\n",
        "       inactive_window=50, inference_cache=0, logger=None, max_iter=10000,\n",
        "       model=MultiLabelModel(n_states: 2, inference_method: ad3), n_jobs=1,\n",
        "       positive_constraint=None, show_loss_every=0, switch_to=None,\n",
        "       tol=1e-05, verbose=3)\n",
        "New violation: 1.001201 difference to last: 0.060028"
       ]
      },
      {
       "output_type": "stream",
       "stream": "stdout",
       "text": [
        "\n",
        "     pcost       dcost       gap    pres   dres\n",
        " 0: -1.2267e+02 -3.7547e+02  7e+02  2e+01  3e+00\n",
        " 1: -1.2310e+02 -2.4652e+02  2e+02  4e+00  7e-01\n",
        " 2: -1.2766e+02 -1.5881e+02  3e+01  5e-01  8e-02\n",
        " 3: -1.3138e+02 -1.4174e+02  1e+01  9e-02  2e-02\n",
        " 4: -1.3369e+02 -1.3734e+02  4e+00  1e-02  3e-03\n",
        " 5: -1.3498e+02 -1.3613e+02  1e+00  2e-03  3e-04\n",
        " 6: -1.3551e+02 -1.3567e+02  2e-01  1e-04  2e-05\n",
        " 7: -1.3560e+02 -1.3561e+02  1e-02  2e-06  4e-07\n",
        " 8: -1.3561e+02 -1.3561e+02  3e-04  3e-08  6e-09\n",
        " 9: -1.3561e+02 -1.3561e+02  4e-06  3e-10  6e-11\n",
        "Optimal solution found.\n",
        "19 support vectors out of 72 points\n",
        "cutting plane objective: 135.607375, primal objective 142.773349\n",
        "iteration 109\n",
        "OneSlackSSVM(C=0.1, break_on_bad=False, cache_tol=auto,\n",
        "       check_constraints=False, inactive_threshold=1e-05,\n",
        "       inactive_window=50, inference_cache=0, logger=None, max_iter=10000,\n",
        "       model=MultiLabelModel(n_states: 2, inference_method: ad3), n_jobs=1,\n",
        "       positive_constraint=None, show_loss_every=0, switch_to=None,\n",
        "       tol=1e-05, verbose=3)\n",
        "New violation: 1.013143 difference to last: 0.072473"
       ]
      },
      {
       "output_type": "stream",
       "stream": "stdout",
       "text": [
        "\n",
        "     pcost       dcost       gap    pres   dres\n",
        " 0: -1.2412e+02 -3.7953e+02  7e+02  2e+01  3e+00\n",
        " 1: -1.2409e+02 -2.4889e+02  2e+02  4e+00  7e-01\n",
        " 2: -1.2807e+02 -1.6090e+02  4e+01  5e-01  9e-02\n",
        " 3: -1.3152e+02 -1.4297e+02  1e+01  1e-01  2e-02\n",
        " 4: -1.3369e+02 -1.3789e+02  4e+00  2e-02  3e-03\n",
        " 5: -1.3523e+02 -1.3629e+02  1e+00  1e-03  2e-04\n",
        " 6: -1.3551e+02 -1.3581e+02  3e-01  5e-15  2e-15\n",
        " 7: -1.3568e+02 -1.3570e+02  2e-02  4e-15  2e-15\n",
        " 8: -1.3569e+02 -1.3569e+02  8e-04  3e-15  2e-15\n",
        " 9: -1.3569e+02 -1.3569e+02  4e-05  7e-15  2e-15\n",
        "Optimal solution found.\n",
        "23 support vectors out of 72 points\n",
        "cutting plane objective: 135.692846, primal objective 144.383851\n",
        "iteration 110\n",
        "OneSlackSSVM(C=0.1, break_on_bad=False, cache_tol=auto,\n",
        "       check_constraints=False, inactive_threshold=1e-05,\n",
        "       inactive_window=50, inference_cache=0, logger=None, max_iter=10000,\n",
        "       model=MultiLabelModel(n_states: 2, inference_method: ad3), n_jobs=1,\n",
        "       positive_constraint=None, show_loss_every=0, switch_to=None,\n",
        "       tol=1e-05, verbose=3)\n",
        "New violation: 1.021309 difference to last: 0.079911"
       ]
      },
      {
       "output_type": "stream",
       "stream": "stdout",
       "text": [
        "\n",
        "     pcost       dcost       gap    pres   dres\n",
        " 0: -1.2453e+02 -4.2067e+02  8e+02  2e+01  4e+00\n",
        " 1: -1.2413e+02 -2.5356e+02  2e+02  3e+00  5e-01\n",
        " 2: -1.2920e+02 -1.5760e+02  3e+01  2e-01  4e-02\n",
        " 3: -1.3220e+02 -1.4115e+02  9e+00  5e-02  8e-03\n",
        " 4: -1.3417e+02 -1.3695e+02  3e+00  9e-03  2e-03\n",
        " 5: -1.3538e+02 -1.3622e+02  8e-01  4e-04  7e-05\n",
        " 6: -1.3573e+02 -1.3584e+02  1e-01  6e-15  2e-15\n",
        " 7: -1.3579e+02 -1.3580e+02  4e-03  6e-15  2e-15\n",
        " 8: -1.3580e+02 -1.3580e+02  5e-05  4e-15  3e-15\n",
        "Optimal solution found.\n",
        "20 support vectors out of 71 points\n",
        "cutting plane objective: 135.797200, primal objective 145.370057\n",
        "iteration 111\n",
        "OneSlackSSVM(C=0.1, break_on_bad=False, cache_tol=auto,\n",
        "       check_constraints=False, inactive_threshold=1e-05,\n",
        "       inactive_window=50, inference_cache=0, logger=None, max_iter=10000,\n",
        "       model=MultiLabelModel(n_states: 2, inference_method: ad3), n_jobs=1,\n",
        "       positive_constraint=None, show_loss_every=0, switch_to=None,\n",
        "       tol=1e-05, verbose=3)\n",
        "New violation: 1.002485 difference to last: 0.060587"
       ]
      },
      {
       "output_type": "stream",
       "stream": "stdout",
       "text": [
        "\n",
        "     pcost       dcost       gap    pres   dres\n",
        " 0: -1.2571e+02 -4.5083e+02  8e+02  2e+01  4e+00\n",
        " 1: -1.2493e+02 -2.6891e+02  2e+02  3e+00  6e-01\n",
        " 2: -1.2944e+02 -1.6031e+02  3e+01  3e-01  6e-02\n",
        " 3: -1.3225e+02 -1.4174e+02  1e+01  6e-02  1e-02\n",
        " 4: -1.3419e+02 -1.3760e+02  3e+00  1e-02  3e-03\n",
        " 5: -1.3536e+02 -1.3646e+02  1e+00  2e-03  4e-04\n",
        " 6: -1.3574e+02 -1.3605e+02  3e-01  2e-04  5e-05\n",
        " 7: -1.3588e+02 -1.3591e+02  3e-02  8e-06  2e-06\n",
        " 8: -1.3590e+02 -1.3590e+02  2e-03  2e-07  5e-08\n",
        " 9: -1.3590e+02 -1.3590e+02  5e-05  4e-09  9e-10\n",
        "Optimal solution found.\n",
        "21 support vectors out of 70 points\n",
        "cutting plane objective: 135.903025, primal objective 143.134373\n",
        "iteration 112\n",
        "OneSlackSSVM(C=0.1, break_on_bad=False, cache_tol=auto,\n",
        "       check_constraints=False, inactive_threshold=1e-05,\n",
        "       inactive_window=50, inference_cache=0, logger=None, max_iter=10000,\n",
        "       model=MultiLabelModel(n_states: 2, inference_method: ad3), n_jobs=1,\n",
        "       positive_constraint=None, show_loss_every=0, switch_to=None,\n",
        "       tol=1e-05, verbose=3)\n",
        "New violation: 1.015068 difference to last: 0.071889"
       ]
      },
      {
       "output_type": "stream",
       "stream": "stdout",
       "text": [
        "\n",
        "     pcost       dcost       gap    pres   dres\n",
        " 0: -1.2630e+02 -4.4675e+02  8e+02  2e+01  4e+00\n",
        " 1: -1.2532e+02 -2.6356e+02  2e+02  3e+00  5e-01\n",
        " 2: -1.2997e+02 -1.5913e+02  3e+01  3e-01  5e-02\n",
        " 3: -1.3244e+02 -1.4198e+02  1e+01  6e-02  1e-02\n",
        " 4: -1.3432e+02 -1.3775e+02  3e+00  1e-02  3e-03\n",
        " 5: -1.3543e+02 -1.3650e+02  1e+00  2e-03  3e-04\n",
        " 6: -1.3585e+02 -1.3609e+02  2e-01  5e-15  2e-15\n",
        " 7: -1.3597e+02 -1.3601e+02  4e-02  6e-15  2e-15\n",
        " 8: -1.3599e+02 -1.3599e+02  2e-03  5e-15  2e-15\n",
        " 9: -1.3599e+02 -1.3599e+02  4e-05  6e-15  2e-15\n",
        "Optimal solution found.\n",
        "21 support vectors out of 69 points\n",
        "cutting plane objective: 135.990508, primal objective 144.608799\n",
        "iteration 113\n",
        "OneSlackSSVM(C=0.1, break_on_bad=False, cache_tol=auto,\n",
        "       check_constraints=False, inactive_threshold=1e-05,\n",
        "       inactive_window=50, inference_cache=0, logger=None, max_iter=10000,\n",
        "       model=MultiLabelModel(n_states: 2, inference_method: ad3), n_jobs=1,\n",
        "       positive_constraint=None, show_loss_every=0, switch_to=None,\n",
        "       tol=1e-05, verbose=3)\n",
        "New violation: 1.007284 difference to last: 0.063294"
       ]
      },
      {
       "output_type": "stream",
       "stream": "stdout",
       "text": [
        "\n",
        "     pcost       dcost       gap    pres   dres\n",
        " 0: -1.2667e+02 -4.5740e+02  9e+02  2e+01  4e+00\n",
        " 1: -1.2548e+02 -2.6851e+02  2e+02  3e+00  5e-01\n",
        " 2: -1.3001e+02 -1.6101e+02  3e+01  3e-01  6e-02\n",
        " 3: -1.3234e+02 -1.4253e+02  1e+01  8e-02  2e-02\n",
        " 4: -1.3431e+02 -1.3821e+02  4e+00  2e-02  3e-03\n",
        " 5: -1.3543e+02 -1.3654e+02  1e+00  2e-03  5e-04\n",
        " 6: -1.3589e+02 -1.3620e+02  3e-01  6e-15  2e-15\n",
        " 7: -1.3602e+02 -1.3605e+02  3e-02  8e-15  2e-15\n",
        " 8: -1.3604e+02 -1.3604e+02  4e-03  7e-15  2e-15\n",
        " 9: -1.3604e+02 -1.3604e+02  1e-04  7e-15  2e-15\n",
        "Optimal solution found.\n",
        "22 support vectors out of 70 points\n",
        "cutting plane objective: 136.039260, primal objective 143.655509\n",
        "iteration 114\n",
        "OneSlackSSVM(C=0.1, break_on_bad=False, cache_tol=auto,\n",
        "       check_constraints=False, inactive_threshold=1e-05,\n",
        "       inactive_window=50, inference_cache=0, logger=None, max_iter=10000,\n",
        "       model=MultiLabelModel(n_states: 2, inference_method: ad3), n_jobs=1,\n",
        "       positive_constraint=None, show_loss_every=0, switch_to=None,\n",
        "       tol=1e-05, verbose=3)\n",
        "New violation: 1.002080 difference to last: 0.057473"
       ]
      },
      {
       "output_type": "stream",
       "stream": "stdout",
       "text": [
        "\n",
        "     pcost       dcost       gap    pres   dres\n",
        " 0: -1.2616e+02 -4.6886e+02  9e+02  2e+01  4e+00\n",
        " 1: -1.2551e+02 -2.6904e+02  2e+02  2e+00  4e-01\n",
        " 2: -1.3032e+02 -1.5855e+02  3e+01  2e-01  5e-02\n",
        " 3: -1.3275e+02 -1.4161e+02  9e+00  5e-02  1e-02\n",
        " 4: -1.3458e+02 -1.3760e+02  3e+00  1e-02  2e-03\n",
        " 5: -1.3558e+02 -1.3659e+02  1e+00  2e-03  3e-04\n",
        " 6: -1.3598e+02 -1.3623e+02  3e-01  6e-05  1e-05\n",
        " 7: -1.3609e+02 -1.3611e+02  1e-02  2e-06  5e-07\n",
        " 8: -1.3610e+02 -1.3610e+02  3e-04  5e-08  1e-08\n",
        " 9: -1.3610e+02 -1.3610e+02  4e-06  5e-10  1e-10\n",
        "Optimal solution found.\n",
        "21 support vectors out of 69 points\n",
        "cutting plane objective: 136.102418, primal objective 142.999380\n",
        "iteration 115\n",
        "OneSlackSSVM(C=0.1, break_on_bad=False, cache_tol=auto,\n",
        "       check_constraints=False, inactive_threshold=1e-05,\n",
        "       inactive_window=50, inference_cache=0, logger=None, max_iter=10000,\n",
        "       model=MultiLabelModel(n_states: 2, inference_method: ad3), n_jobs=1,\n",
        "       positive_constraint=None, show_loss_every=0, switch_to=None,\n",
        "       tol=1e-05, verbose=3)\n",
        "New violation: 0.992814 difference to last: 0.047774"
       ]
      },
      {
       "output_type": "stream",
       "stream": "stdout",
       "text": [
        "\n",
        "     pcost       dcost       gap    pres   dres\n",
        " 0: -1.2634e+02 -4.6142e+02  9e+02  2e+01  4e+00\n",
        " 1: -1.2573e+02 -2.6770e+02  2e+02  2e+00  4e-01\n",
        " 2: -1.3041e+02 -1.5871e+02  3e+01  2e-01  4e-02\n",
        " 3: -1.3287e+02 -1.4161e+02  9e+00  5e-02  1e-02\n",
        " 4: -1.3468e+02 -1.3763e+02  3e+00  1e-02  2e-03\n",
        " 5: -1.3580e+02 -1.3656e+02  8e-01  7e-04  1e-04\n",
        " 6: -1.3609e+02 -1.3628e+02  2e-01  1e-04  3e-05\n",
        " 7: -1.3618e+02 -1.3620e+02  2e-02  7e-15  2e-15\n",
        " 8: -1.3619e+02 -1.3619e+02  6e-04  6e-15  2e-15\n",
        " 9: -1.3619e+02 -1.3619e+02  2e-05  7e-15  2e-15\n",
        "Optimal solution found.\n",
        "23 support vectors out of 70 points\n",
        "cutting plane objective: 136.190584, primal objective 141.887805\n",
        "iteration 116\n",
        "OneSlackSSVM(C=0.1, break_on_bad=False, cache_tol=auto,\n",
        "       check_constraints=False, inactive_threshold=1e-05,\n",
        "       inactive_window=50, inference_cache=0, logger=None, max_iter=10000,\n",
        "       model=MultiLabelModel(n_states: 2, inference_method: ad3), n_jobs=1,\n",
        "       positive_constraint=None, show_loss_every=0, switch_to=None,\n",
        "       tol=1e-05, verbose=3)\n",
        "New violation: 1.003977 difference to last: 0.057957"
       ]
      },
      {
       "output_type": "stream",
       "stream": "stdout",
       "text": [
        "\n",
        "     pcost       dcost       gap    pres   dres\n",
        " 0: -1.2643e+02 -4.6837e+02  9e+02  2e+01  4e+00\n",
        " 1: -1.2558e+02 -2.7134e+02  2e+02  2e+00  4e-01\n",
        " 2: -1.3039e+02 -1.5951e+02  3e+01  2e-01  4e-02\n",
        " 3: -1.3283e+02 -1.4201e+02  9e+00  5e-02  1e-02\n",
        " 4: -1.3464e+02 -1.3793e+02  3e+00  1e-02  2e-03\n",
        " 5: -1.3574e+02 -1.3668e+02  9e-01  2e-03  3e-04\n",
        " 6: -1.3618e+02 -1.3632e+02  1e-01  8e-05  2e-05\n",
        " 7: -1.3626e+02 -1.3627e+02  2e-02  4e-06  8e-07\n",
        " 8: -1.3627e+02 -1.3627e+02  8e-04  1e-07  3e-08\n",
        " 9: -1.3627e+02 -1.3627e+02  1e-05  2e-09  4e-10\n",
        "Optimal solution found.\n",
        "21 support vectors out of 71 points\n",
        "cutting plane objective: 136.268561, primal objective 143.209239\n",
        "iteration 117\n",
        "OneSlackSSVM(C=0.1, break_on_bad=False, cache_tol=auto,\n",
        "       check_constraints=False, inactive_threshold=1e-05,\n",
        "       inactive_window=50, inference_cache=0, logger=None, max_iter=10000,\n",
        "       model=MultiLabelModel(n_states: 2, inference_method: ad3), n_jobs=1,\n",
        "       positive_constraint=None, show_loss_every=0, switch_to=None,\n",
        "       tol=1e-05, verbose=3)\n",
        "New violation: 1.003839 difference to last: 0.057198"
       ]
      },
      {
       "output_type": "stream",
       "stream": "stdout",
       "text": [
        "\n",
        "     pcost       dcost       gap    pres   dres\n",
        " 0: -1.2590e+02 -4.3717e+02  7e+02  2e+01  4e+00\n",
        " 1: -1.2665e+02 -2.4521e+02  1e+02  2e+00  4e-01\n",
        " 2: -1.3101e+02 -1.5238e+02  2e+01  2e-01  4e-02\n",
        " 3: -1.3405e+02 -1.3972e+02  6e+00  6e-03  1e-03\n",
        " 4: -1.3529e+02 -1.3721e+02  2e+00  1e-03  3e-04\n",
        " 5: -1.3612e+02 -1.3651e+02  4e-01  1e-04  2e-05\n",
        " 6: -1.3627e+02 -1.3636e+02  9e-02  2e-05  4e-06\n",
        " 7: -1.3631e+02 -1.3632e+02  8e-03  5e-15  2e-15\n",
        " 8: -1.3632e+02 -1.3632e+02  4e-04  5e-15  2e-15\n",
        " 9: -1.3632e+02 -1.3632e+02  4e-06  6e-15  2e-15\n",
        "Optimal solution found.\n",
        "21 support vectors out of 69 points\n",
        "cutting plane objective: 136.319359, primal objective 143.195202\n",
        "iteration 118\n",
        "OneSlackSSVM(C=0.1, break_on_bad=False, cache_tol=auto,\n",
        "       check_constraints=False, inactive_threshold=1e-05,\n",
        "       inactive_window=50, inference_cache=0, logger=None, max_iter=10000,\n",
        "       model=MultiLabelModel(n_states: 2, inference_method: ad3), n_jobs=1,\n",
        "       positive_constraint=None, show_loss_every=0, switch_to=None,\n",
        "       tol=1e-05, verbose=3)\n",
        "New violation: 1.003677 difference to last: 0.056978"
       ]
      },
      {
       "output_type": "stream",
       "stream": "stdout",
       "text": [
        "\n",
        "     pcost       dcost       gap    pres   dres\n",
        " 0: -1.2587e+02 -4.3818e+02  7e+02  2e+01  4e+00\n",
        " 1: -1.2650e+02 -2.4928e+02  1e+02  2e+00  4e-01\n",
        " 2: -1.3094e+02 -1.5405e+02  2e+01  2e-01  5e-02\n",
        " 3: -1.3383e+02 -1.3950e+02  6e+00  1e-02  3e-03\n",
        " 4: -1.3523e+02 -1.3722e+02  2e+00  3e-03  7e-04\n",
        " 5: -1.3609e+02 -1.3653e+02  4e-01  3e-04  8e-05\n",
        " 6: -1.3629e+02 -1.3638e+02  9e-02  5e-05  1e-05\n",
        " 7: -1.3633e+02 -1.3634e+02  9e-03  4e-06  9e-07\n",
        " 8: -1.3634e+02 -1.3634e+02  3e-04  5e-08  1e-08\n",
        " 9: -1.3634e+02 -1.3634e+02  3e-06  5e-10  1e-10\n",
        "Optimal solution found.\n",
        "21 support vectors out of 70 points\n",
        "cutting plane objective: 136.339706, primal objective 143.219450\n",
        "iteration 119\n",
        "OneSlackSSVM(C=0.1, break_on_bad=False, cache_tol=auto,\n",
        "       check_constraints=False, inactive_threshold=1e-05,\n",
        "       inactive_window=50, inference_cache=0, logger=None, max_iter=10000,\n",
        "       model=MultiLabelModel(n_states: 2, inference_method: ad3), n_jobs=1,\n",
        "       positive_constraint=None, show_loss_every=0, switch_to=None,\n",
        "       tol=1e-05, verbose=3)\n",
        "New violation: 0.989981 difference to last: 0.043100"
       ]
      },
      {
       "output_type": "stream",
       "stream": "stdout",
       "text": [
        "\n",
        "     pcost       dcost       gap    pres   dres\n",
        " 0: -1.2563e+02 -4.3663e+02  7e+02  2e+01  4e+00\n",
        " 1: -1.2641e+02 -2.4288e+02  1e+02  2e+00  4e-01\n",
        " 2: -1.3118e+02 -1.5078e+02  2e+01  1e-01  3e-02\n",
        " 3: -1.3443e+02 -1.4063e+02  6e+00  2e-03  5e-04\n",
        " 4: -1.3544e+02 -1.3720e+02  2e+00  3e-04  8e-05\n",
        " 5: -1.3623e+02 -1.3656e+02  3e-01  6e-15  2e-15\n",
        " 6: -1.3636e+02 -1.3643e+02  7e-02  6e-15  2e-15\n",
        " 7: -1.3639e+02 -1.3640e+02  4e-03  6e-15  2e-15\n",
        " 8: -1.3639e+02 -1.3639e+02  2e-04  4e-15  2e-15\n",
        " 9: -1.3639e+02 -1.3639e+02  1e-05  8e-15  2e-15\n",
        "Optimal solution found.\n",
        "22 support vectors out of 70 points\n",
        "cutting plane objective: 136.394404, primal objective 141.559167\n",
        "iteration 120\n",
        "OneSlackSSVM(C=0.1, break_on_bad=False, cache_tol=auto,\n",
        "       check_constraints=False, inactive_threshold=1e-05,\n",
        "       inactive_window=50, inference_cache=0, logger=None, max_iter=10000,\n",
        "       model=MultiLabelModel(n_states: 2, inference_method: ad3), n_jobs=1,\n",
        "       positive_constraint=None, show_loss_every=0, switch_to=None,\n",
        "       tol=1e-05, verbose=3)\n",
        "New violation: 1.002101 difference to last: 0.054563"
       ]
      },
      {
       "output_type": "stream",
       "stream": "stdout",
       "text": [
        "\n",
        "     pcost       dcost       gap    pres   dres\n",
        " 0: -1.2606e+02 -4.2731e+02  7e+02  2e+01  4e+00\n",
        " 1: -1.2682e+02 -2.3528e+02  1e+02  1e+00  3e-01\n",
        " 2: -1.3142e+02 -1.4997e+02  2e+01  1e-01  3e-02\n",
        " 3: -1.3436e+02 -1.4177e+02  7e+00  1e-02  3e-03\n",
        " 4: -1.3536e+02 -1.3729e+02  2e+00  3e-03  7e-04\n",
        " 5: -1.3613e+02 -1.3670e+02  6e-01  4e-04  9e-05\n",
        " 6: -1.3638e+02 -1.3646e+02  8e-02  2e-05  6e-06\n",
        " 7: -1.3642e+02 -1.3643e+02  7e-03  1e-06  3e-07\n",
        " 8: -1.3642e+02 -1.3642e+02  3e-04  3e-08  7e-09\n",
        " 9: -1.3642e+02 -1.3642e+02  5e-06  3e-10  8e-11\n",
        "Optimal solution found.\n",
        "23 support vectors out of 71 points\n",
        "cutting plane objective: 136.423701, primal objective 143.002003\n",
        "iteration 121\n",
        "OneSlackSSVM(C=0.1, break_on_bad=False, cache_tol=auto,\n",
        "       check_constraints=False, inactive_threshold=1e-05,\n",
        "       inactive_window=50, inference_cache=0, logger=None, max_iter=10000,\n",
        "       model=MultiLabelModel(n_states: 2, inference_method: ad3), n_jobs=1,\n",
        "       positive_constraint=None, show_loss_every=0, switch_to=None,\n",
        "       tol=1e-05, verbose=3)\n",
        "New violation: 1.003997 difference to last: 0.056088"
       ]
      },
      {
       "output_type": "stream",
       "stream": "stdout",
       "text": [
        "\n",
        "     pcost       dcost       gap    pres   dres\n",
        " 0: -1.2585e+02 -4.2377e+02  7e+02  2e+01  4e+00\n",
        " 1: -1.2711e+02 -2.3252e+02  1e+02  1e+00  3e-01\n",
        " 2: -1.3164e+02 -1.5057e+02  2e+01  1e-01  3e-02\n",
        " 3: -1.3453e+02 -1.4089e+02  6e+00  6e-03  1e-03\n",
        " 4: -1.3559e+02 -1.3706e+02  1e+00  9e-04  2e-04\n",
        " 5: -1.3620e+02 -1.3669e+02  5e-01  1e-04  3e-05\n",
        " 6: -1.3641e+02 -1.3650e+02  9e-02  2e-05  4e-06\n",
        " 7: -1.3645e+02 -1.3646e+02  5e-03  3e-07  7e-08\n",
        " 8: -1.3646e+02 -1.3646e+02  4e-04  2e-08  4e-09\n",
        " 9: -1.3646e+02 -1.3646e+02  5e-06  2e-10  5e-11\n",
        "Optimal solution found.\n",
        "24 support vectors out of 70 points\n",
        "cutting plane objective: 136.457158, primal objective 143.215961\n",
        "iteration 122\n",
        "OneSlackSSVM(C=0.1, break_on_bad=False, cache_tol=auto,\n",
        "       check_constraints=False, inactive_threshold=1e-05,\n",
        "       inactive_window=50, inference_cache=0, logger=None, max_iter=10000,\n",
        "       model=MultiLabelModel(n_states: 2, inference_method: ad3), n_jobs=1,\n",
        "       positive_constraint=None, show_loss_every=0, switch_to=None,\n",
        "       tol=1e-05, verbose=3)\n",
        "New violation: 1.002388 difference to last: 0.054211"
       ]
      },
      {
       "output_type": "stream",
       "stream": "stdout",
       "text": [
        "\n",
        "     pcost       dcost       gap    pres   dres\n",
        " 0: -1.2602e+02 -4.1577e+02  7e+02  2e+01  3e+00\n",
        " 1: -1.2751e+02 -2.2951e+02  1e+02  1e+00  3e-01\n",
        " 2: -1.3191e+02 -1.4950e+02  2e+01  1e-01  3e-02\n",
        " 3: -1.3468e+02 -1.4101e+02  6e+00  3e-03  7e-04\n",
        " 4: -1.3565e+02 -1.3709e+02  1e+00  5e-04  1e-04\n",
        " 5: -1.3626e+02 -1.3671e+02  5e-01  7e-05  2e-05\n",
        " 6: -1.3645e+02 -1.3652e+02  7e-02  8e-06  2e-06\n",
        " 7: -1.3648e+02 -1.3649e+02  7e-03  7e-07  1e-07\n",
        " 8: -1.3648e+02 -1.3649e+02  2e-04  1e-08  3e-09\n",
        " 9: -1.3649e+02 -1.3649e+02  1e-05  3e-10  6e-11\n",
        "Optimal solution found.\n",
        "23 support vectors out of 70 points\n",
        "cutting plane objective: 136.485038, primal objective 143.022127\n",
        "iteration 123\n",
        "OneSlackSSVM(C=0.1, break_on_bad=False, cache_tol=auto,\n",
        "       check_constraints=False, inactive_threshold=1e-05,\n",
        "       inactive_window=50, inference_cache=0, logger=None, max_iter=10000,\n",
        "       model=MultiLabelModel(n_states: 2, inference_method: ad3), n_jobs=1,\n",
        "       positive_constraint=None, show_loss_every=0, switch_to=None,\n",
        "       tol=1e-05, verbose=3)\n",
        "New violation: 0.995568 difference to last: 0.047007"
       ]
      },
      {
       "output_type": "stream",
       "stream": "stdout",
       "text": [
        "\n",
        "     pcost       dcost       gap    pres   dres\n",
        " 0: -1.2650e+02 -4.3168e+02  7e+02  1e+01  4e+00\n",
        " 1: -1.2764e+02 -2.2168e+02  1e+02  6e-01  1e-01\n",
        " 2: -1.3212e+02 -1.4946e+02  2e+01  5e-02  1e-02\n",
        " 3: -1.3474e+02 -1.4061e+02  6e+00  9e-04  2e-04\n",
        " 4: -1.3573e+02 -1.3723e+02  2e+00  1e-04  3e-05\n",
        " 5: -1.3624e+02 -1.3679e+02  5e-01  3e-05  7e-06\n",
        " 6: -1.3650e+02 -1.3657e+02  7e-02  1e-06  4e-07\n",
        " 7: -1.3654e+02 -1.3654e+02  5e-03  7e-08  2e-08\n",
        " 8: -1.3654e+02 -1.3654e+02  1e-04  1e-09  3e-10\n",
        "Optimal solution found.\n",
        "25 support vectors out of 71 points\n",
        "cutting plane objective: 136.537697, primal objective 142.177625\n",
        "iteration 124\n",
        "OneSlackSSVM(C=0.1, break_on_bad=False, cache_tol=auto,\n",
        "       check_constraints=False, inactive_threshold=1e-05,\n",
        "       inactive_window=50, inference_cache=0, logger=None, max_iter=10000,\n",
        "       model=MultiLabelModel(n_states: 2, inference_method: ad3), n_jobs=1,\n",
        "       positive_constraint=None, show_loss_every=0, switch_to=None,\n",
        "       tol=1e-05, verbose=3)\n",
        "New violation: 0.992958 difference to last: 0.044060"
       ]
      },
      {
       "output_type": "stream",
       "stream": "stdout",
       "text": [
        "\n",
        "     pcost       dcost       gap    pres   dres\n",
        " 0: -1.2661e+02 -4.1860e+02  5e+02  1e+01  3e+00\n",
        " 1: -1.2862e+02 -2.0677e+02  8e+01  6e-01  2e-01\n",
        " 2: -1.3250e+02 -1.4865e+02  2e+01  9e-02  3e-02\n",
        " 3: -1.3490e+02 -1.3980e+02  5e+00  3e-03  1e-03\n",
        " 4: -1.3589e+02 -1.3729e+02  1e+00  4e-04  1e-04\n",
        " 5: -1.3634e+02 -1.3680e+02  5e-01  1e-04  3e-05\n",
        " 6: -1.3652e+02 -1.3663e+02  1e-01  1e-05  4e-06\n",
        " 7: -1.3657e+02 -1.3658e+02  6e-03  2e-07  5e-08\n",
        " 8: -1.3658e+02 -1.3658e+02  1e-04  2e-09  7e-10\n",
        "Optimal solution found.\n",
        "24 support vectors out of 69 points\n",
        "cutting plane objective: 136.577646, primal objective 141.873458\n",
        "iteration 125\n",
        "OneSlackSSVM(C=0.1, break_on_bad=False, cache_tol=auto,\n",
        "       check_constraints=False, inactive_threshold=1e-05,\n",
        "       inactive_window=50, inference_cache=0, logger=None, max_iter=10000,\n",
        "       model=MultiLabelModel(n_states: 2, inference_method: ad3), n_jobs=1,\n",
        "       positive_constraint=None, show_loss_every=0, switch_to=None,\n",
        "       tol=1e-05, verbose=3)\n",
        "New violation: 0.992978 difference to last: 0.043454"
       ]
      },
      {
       "output_type": "stream",
       "stream": "stdout",
       "text": [
        "\n",
        "     pcost       dcost       gap    pres   dres\n",
        " 0: -1.2767e+02 -4.2585e+02  5e+02  1e+01  3e+00\n",
        " 1: -1.2942e+02 -2.0775e+02  8e+01  7e-01  2e-01\n",
        " 2: -1.3274e+02 -1.4822e+02  2e+01  9e-02  3e-02\n",
        " 3: -1.3506e+02 -1.3940e+02  4e+00  3e-15  2e-15\n",
        " 4: -1.3600e+02 -1.3736e+02  1e+00  3e-15  1e-15\n",
        " 5: -1.3642e+02 -1.3684e+02  4e-01  5e-15  1e-15\n",
        " 6: -1.3661e+02 -1.3665e+02  4e-02  6e-15  1e-15\n",
        " 7: -1.3663e+02 -1.3664e+02  2e-03  4e-15  2e-15\n",
        " 8: -1.3663e+02 -1.3663e+02  8e-05  6e-15  2e-15\n",
        "Optimal solution found.\n",
        "24 support vectors out of 69 points\n",
        "cutting plane objective: 136.634504, primal objective 141.839989\n",
        "iteration 126\n",
        "OneSlackSSVM(C=0.1, break_on_bad=False, cache_tol=auto,\n",
        "       check_constraints=False, inactive_threshold=1e-05,\n",
        "       inactive_window=50, inference_cache=0, logger=None, max_iter=10000,\n",
        "       model=MultiLabelModel(n_states: 2, inference_method: ad3), n_jobs=1,\n",
        "       positive_constraint=None, show_loss_every=0, switch_to=None,\n",
        "       tol=1e-05, verbose=3)\n",
        "New violation: 0.989521 difference to last: 0.039243"
       ]
      },
      {
       "output_type": "stream",
       "stream": "stdout",
       "text": [
        "\n",
        "     pcost       dcost       gap    pres   dres\n",
        " 0: -1.2783e+02 -4.0528e+02  5e+02  1e+01  3e+00\n",
        " 1: -1.2978e+02 -2.0007e+02  7e+01  7e-01  2e-01\n",
        " 2: -1.3297e+02 -1.4769e+02  1e+01  9e-02  3e-02\n",
        " 3: -1.3512e+02 -1.3927e+02  4e+00  2e-03  7e-04\n",
        " 4: -1.3610e+02 -1.3739e+02  1e+00  2e-04  7e-05\n",
        " 5: -1.3657e+02 -1.3686e+02  3e-01  3e-05  9e-06\n",
        " 6: -1.3670e+02 -1.3674e+02  4e-02  2e-06  6e-07\n",
        " 7: -1.3672e+02 -1.3672e+02  1e-03  4e-08  2e-08\n",
        " 8: -1.3672e+02 -1.3672e+02  1e-05  5e-10  2e-10\n",
        "Optimal solution found.\n",
        "23 support vectors out of 70 points\n",
        "cutting plane objective: 136.719222, primal objective 141.386937\n",
        "iteration 127\n",
        "OneSlackSSVM(C=0.1, break_on_bad=False, cache_tol=auto,\n",
        "       check_constraints=False, inactive_threshold=1e-05,\n",
        "       inactive_window=50, inference_cache=0, logger=None, max_iter=10000,\n",
        "       model=MultiLabelModel(n_states: 2, inference_method: ad3), n_jobs=1,\n",
        "       positive_constraint=None, show_loss_every=0, switch_to=None,\n",
        "       tol=1e-05, verbose=3)\n",
        "New violation: 1.003245 difference to last: 0.052419"
       ]
      },
      {
       "output_type": "stream",
       "stream": "stdout",
       "text": [
        "\n",
        "     pcost       dcost       gap    pres   dres\n",
        " 0: -1.2806e+02 -4.0592e+02  5e+02  1e+01  3e+00\n",
        " 1: -1.2992e+02 -2.0037e+02  7e+01  6e-01  2e-01\n",
        " 2: -1.3307e+02 -1.4748e+02  1e+01  8e-02  3e-02\n",
        " 3: -1.3514e+02 -1.3946e+02  4e+00  4e-03  1e-03\n",
        " 4: -1.3611e+02 -1.3748e+02  1e+00  5e-04  2e-04\n",
        " 5: -1.3666e+02 -1.3693e+02  3e-01  4e-05  1e-05\n",
        " 6: -1.3678e+02 -1.3683e+02  4e-02  5e-06  2e-06\n",
        " 7: -1.3681e+02 -1.3681e+02  2e-03  9e-09  3e-09\n",
        " 8: -1.3681e+02 -1.3681e+02  2e-05  1e-10  3e-11\n",
        "Optimal solution found.\n",
        "22 support vectors out of 71 points\n",
        "cutting plane objective: 136.806186, primal objective 143.067226\n",
        "iteration 128\n",
        "OneSlackSSVM(C=0.1, break_on_bad=False, cache_tol=auto,\n",
        "       check_constraints=False, inactive_threshold=1e-05,\n",
        "       inactive_window=50, inference_cache=0, logger=None, max_iter=10000,\n",
        "       model=MultiLabelModel(n_states: 2, inference_method: ad3), n_jobs=1,\n",
        "       positive_constraint=None, show_loss_every=0, switch_to=None,\n",
        "       tol=1e-05, verbose=3)\n",
        "New violation: 0.994006 difference to last: 0.042291"
       ]
      },
      {
       "output_type": "stream",
       "stream": "stdout",
       "text": [
        "\n",
        "     pcost       dcost       gap    pres   dres\n",
        " 0: -1.2799e+02 -4.0015e+02  5e+02  1e+01  3e+00\n",
        " 1: -1.2992e+02 -1.9952e+02  7e+01  7e-01  2e-01\n",
        " 2: -1.3312e+02 -1.4753e+02  1e+01  7e-02  2e-02\n",
        " 3: -1.3517e+02 -1.3936e+02  4e+00  3e-03  1e-03\n",
        " 4: -1.3614e+02 -1.3749e+02  1e+00  4e-04  1e-04\n",
        " 5: -1.3669e+02 -1.3700e+02  3e-01  5e-05  2e-05\n",
        " 6: -1.3683e+02 -1.3689e+02  7e-02  9e-06  3e-06\n",
        " 7: -1.3686e+02 -1.3687e+02  4e-03  3e-07  9e-08\n",
        " 8: -1.3686e+02 -1.3686e+02  1e-04  5e-09  2e-09\n",
        "Optimal solution found.\n",
        "24 support vectors out of 72 points\n",
        "cutting plane objective: 136.863574, primal objective 141.927684\n",
        "iteration 129\n",
        "OneSlackSSVM(C=0.1, break_on_bad=False, cache_tol=auto,\n",
        "       check_constraints=False, inactive_threshold=1e-05,\n",
        "       inactive_window=50, inference_cache=0, logger=None, max_iter=10000,\n",
        "       model=MultiLabelModel(n_states: 2, inference_method: ad3), n_jobs=1,\n",
        "       positive_constraint=None, show_loss_every=0, switch_to=None,\n",
        "       tol=1e-05, verbose=3)\n",
        "New violation: 0.991965 difference to last: 0.040127"
       ]
      },
      {
       "output_type": "stream",
       "stream": "stdout",
       "text": [
        "\n",
        "     pcost       dcost       gap    pres   dres\n",
        " 0: -1.2820e+02 -3.8376e+02  4e+02  9e+00  3e+00\n",
        " 1: -1.3023e+02 -1.9074e+02  6e+01  6e-01  2e-01\n",
        " 2: -1.3343e+02 -1.4662e+02  1e+01  6e-02  2e-02\n",
        " 3: -1.3529e+02 -1.3909e+02  4e+00  5e-03  2e-03\n",
        " 4: -1.3623e+02 -1.3743e+02  1e+00  1e-03  3e-04\n",
        " 5: -1.3678e+02 -1.3702e+02  2e-01  9e-05  3e-05\n",
        " 6: -1.3688e+02 -1.3694e+02  6e-02  2e-05  6e-06\n",
        " 7: -1.3691e+02 -1.3691e+02  6e-03  1e-06  5e-07\n",
        " 8: -1.3691e+02 -1.3691e+02  2e-04  3e-08  1e-08\n",
        " 9: -1.3691e+02 -1.3691e+02  9e-06  4e-10  1e-10\n",
        "Optimal solution found.\n",
        "23 support vectors out of 72 points\n",
        "cutting plane objective: 136.911830, primal objective 141.723044\n",
        "iteration 130\n",
        "OneSlackSSVM(C=0.1, break_on_bad=False, cache_tol=auto,\n",
        "       check_constraints=False, inactive_threshold=1e-05,\n",
        "       inactive_window=50, inference_cache=0, logger=None, max_iter=10000,\n",
        "       model=MultiLabelModel(n_states: 2, inference_method: ad3), n_jobs=1,\n",
        "       positive_constraint=None, show_loss_every=0, switch_to=None,\n",
        "       tol=1e-05, verbose=3)\n",
        "New violation: 0.990927 difference to last: 0.039087"
       ]
      },
      {
       "output_type": "stream",
       "stream": "stdout",
       "text": [
        "\n",
        "     pcost       dcost       gap    pres   dres\n",
        " 0: -1.2832e+02 -3.8776e+02  4e+02  9e+00  3e+00\n",
        " 1: -1.3022e+02 -1.9065e+02  6e+01  5e-01  2e-01\n",
        " 2: -1.3349e+02 -1.4624e+02  1e+01  5e-02  2e-02\n",
        " 3: -1.3541e+02 -1.3903e+02  4e+00  4e-03  1e-03\n",
        " 4: -1.3625e+02 -1.3746e+02  1e+00  1e-03  3e-04\n",
        " 5: -1.3685e+02 -1.3706e+02  2e-01  5e-05  2e-05\n",
        " 6: -1.3693e+02 -1.3698e+02  5e-02  1e-05  4e-06\n",
        " 7: -1.3696e+02 -1.3696e+02  5e-03  7e-15  1e-15\n",
        " 8: -1.3696e+02 -1.3696e+02  1e-04  1e-14  1e-15\n",
        "Optimal solution found.\n",
        "21 support vectors out of 72 points\n",
        "cutting plane objective: 136.960463, primal objective 141.645216\n",
        "iteration 131\n",
        "OneSlackSSVM(C=0.1, break_on_bad=False, cache_tol=auto,\n",
        "       check_constraints=False, inactive_threshold=1e-05,\n",
        "       inactive_window=50, inference_cache=0, logger=None, max_iter=10000,\n",
        "       model=MultiLabelModel(n_states: 2, inference_method: ad3), n_jobs=1,\n",
        "       positive_constraint=None, show_loss_every=0, switch_to=None,\n",
        "       tol=1e-05, verbose=3)\n",
        "New violation: 0.987967 difference to last: 0.035212"
       ]
      },
      {
       "output_type": "stream",
       "stream": "stdout",
       "text": [
        "\n",
        "     pcost       dcost       gap    pres   dres\n",
        " 0: -1.2853e+02 -4.0581e+02  6e+02  1e+01  3e+00\n",
        " 1: -1.2970e+02 -2.2991e+02  1e+02  1e+00  3e-01\n",
        " 2: -1.3289e+02 -1.5094e+02  2e+01  2e-01  4e-02\n",
        " 3: -1.3513e+02 -1.4008e+02  5e+00  2e-02  3e-03\n",
        " 4: -1.3613e+02 -1.3784e+02  2e+00  2e-03  5e-04\n",
        " 5: -1.3675e+02 -1.3718e+02  4e-01  3e-04  7e-05\n",
        " 6: -1.3696e+02 -1.3704e+02  7e-02  4e-05  1e-05\n",
        " 7: -1.3700e+02 -1.3701e+02  1e-02  4e-15  1e-15\n",
        " 8: -1.3701e+02 -1.3701e+02  4e-04  5e-15  1e-15\n",
        " 9: -1.3701e+02 -1.3701e+02  1e-05  5e-15  1e-15\n",
        "Optimal solution found.\n",
        "22 support vectors out of 72 points\n",
        "cutting plane objective: 137.005699, primal objective 141.224724\n",
        "iteration 132\n",
        "OneSlackSSVM(C=0.1, break_on_bad=False, cache_tol=auto,\n",
        "       check_constraints=False, inactive_threshold=1e-05,\n",
        "       inactive_window=50, inference_cache=0, logger=None, max_iter=10000,\n",
        "       model=MultiLabelModel(n_states: 2, inference_method: ad3), n_jobs=1,\n",
        "       positive_constraint=None, show_loss_every=0, switch_to=None,\n",
        "       tol=1e-05, verbose=3)\n",
        "New violation: 0.990525 difference to last: 0.037002"
       ]
      },
      {
       "output_type": "stream",
       "stream": "stdout",
       "text": [
        "\n",
        "     pcost       dcost       gap    pres   dres\n",
        " 0: -1.2867e+02 -4.0400e+02  6e+02  1e+01  3e+00\n",
        " 1: -1.2978e+02 -2.2796e+02  1e+02  1e+00  3e-01\n",
        " 2: -1.3290e+02 -1.5083e+02  2e+01  2e-01  4e-02\n",
        " 3: -1.3515e+02 -1.4017e+02  5e+00  2e-02  4e-03\n",
        " 4: -1.3615e+02 -1.3787e+02  2e+00  3e-03  6e-04\n",
        " 5: -1.3675e+02 -1.3722e+02  5e-01  5e-04  1e-04\n",
        " 6: -1.3698e+02 -1.3707e+02  8e-02  6e-05  1e-05\n",
        " 7: -1.3703e+02 -1.3704e+02  9e-03  3e-06  7e-07\n",
        " 8: -1.3703e+02 -1.3703e+02  3e-04  8e-08  2e-08\n",
        " 9: -1.3703e+02 -1.3703e+02  3e-06  8e-10  2e-10\n",
        "Optimal solution found.\n",
        "20 support vectors out of 73 points\n",
        "cutting plane objective: 137.032927, primal objective 141.486713\n",
        "iteration 133\n",
        "OneSlackSSVM(C=0.1, break_on_bad=False, cache_tol=auto,\n",
        "       check_constraints=False, inactive_threshold=1e-05,\n",
        "       inactive_window=50, inference_cache=0, logger=None, max_iter=10000,\n",
        "       model=MultiLabelModel(n_states: 2, inference_method: ad3), n_jobs=1,\n",
        "       positive_constraint=None, show_loss_every=0, switch_to=None,\n",
        "       tol=1e-05, verbose=3)\n",
        "New violation: 0.987158 difference to last: 0.033146"
       ]
      },
      {
       "output_type": "stream",
       "stream": "stdout",
       "text": [
        "\n",
        "     pcost       dcost       gap    pres   dres\n",
        " 0: -1.2901e+02 -4.0170e+02  6e+02  2e+01  3e+00\n",
        " 1: -1.2993e+02 -2.3015e+02  1e+02  1e+00  3e-01\n",
        " 2: -1.3301e+02 -1.5109e+02  2e+01  2e-01  4e-02\n",
        " 3: -1.3518e+02 -1.4019e+02  5e+00  2e-02  4e-03\n",
        " 4: -1.3618e+02 -1.3791e+02  2e+00  3e-03  7e-04\n",
        " 5: -1.3679e+02 -1.3727e+02  5e-01  5e-04  1e-04\n",
        " 6: -1.3702e+02 -1.3711e+02  1e-01  8e-05  2e-05\n",
        " 7: -1.3706e+02 -1.3707e+02  2e-02  4e-06  8e-07\n",
        " 8: -1.3707e+02 -1.3707e+02  1e-03  2e-07  4e-08\n",
        " 9: -1.3707e+02 -1.3707e+02  5e-05  2e-09  5e-10\n",
        "Optimal solution found.\n",
        "26 support vectors out of 74 points\n",
        "cutting plane objective: 137.067825, primal objective 141.046895\n",
        "iteration 134\n",
        "OneSlackSSVM(C=0.1, break_on_bad=False, cache_tol=auto,\n",
        "       check_constraints=False, inactive_threshold=1e-05,\n",
        "       inactive_window=50, inference_cache=0, logger=None, max_iter=10000,\n",
        "       model=MultiLabelModel(n_states: 2, inference_method: ad3), n_jobs=1,\n",
        "       positive_constraint=None, show_loss_every=0, switch_to=None,\n",
        "       tol=1e-05, verbose=3)\n",
        "New violation: 0.993217 difference to last: 0.039014"
       ]
      },
      {
       "output_type": "stream",
       "stream": "stdout",
       "text": [
        "\n",
        "     pcost       dcost       gap    pres   dres\n",
        " 0: -1.2923e+02 -3.8755e+02  5e+02  1e+01  3e+00\n",
        " 1: -1.3023e+02 -2.1371e+02  9e+01  9e-01  2e-01\n",
        " 2: -1.3342e+02 -1.4917e+02  2e+01  1e-01  3e-02\n",
        " 3: -1.3526e+02 -1.4002e+02  5e+00  2e-02  4e-03\n",
        " 4: -1.3623e+02 -1.3791e+02  2e+00  3e-03  8e-04\n",
        " 5: -1.3686e+02 -1.3725e+02  4e-01  4e-04  8e-05\n",
        " 6: -1.3705e+02 -1.3714e+02  9e-02  7e-05  2e-05\n",
        " 7: -1.3709e+02 -1.3711e+02  2e-02  4e-06  8e-07\n",
        " 8: -1.3710e+02 -1.3710e+02  8e-04  7e-15  1e-15\n",
        " 9: -1.3710e+02 -1.3710e+02  2e-05  6e-15  1e-15\n",
        "Optimal solution found.\n",
        "23 support vectors out of 74 points\n",
        "cutting plane objective: 137.100125, primal objective 141.792471\n",
        "iteration 135\n",
        "OneSlackSSVM(C=0.1, break_on_bad=False, cache_tol=auto,\n",
        "       check_constraints=False, inactive_threshold=1e-05,\n",
        "       inactive_window=50, inference_cache=0, logger=None, max_iter=10000,\n",
        "       model=MultiLabelModel(n_states: 2, inference_method: ad3), n_jobs=1,\n",
        "       positive_constraint=None, show_loss_every=0, switch_to=None,\n",
        "       tol=1e-05, verbose=3)\n",
        "New violation: 0.990430 difference to last: 0.035977"
       ]
      },
      {
       "output_type": "stream",
       "stream": "stdout",
       "text": [
        "\n",
        "     pcost       dcost       gap    pres   dres\n",
        " 0: -1.3005e+02 -3.9976e+02  5e+02  1e+01  3e+00\n",
        " 1: -1.3092e+02 -2.0791e+02  8e+01  7e-01  2e-01\n",
        " 2: -1.3370e+02 -1.5045e+02  2e+01  1e-01  3e-02\n",
        " 3: -1.3532e+02 -1.4014e+02  5e+00  2e-02  5e-03\n",
        " 4: -1.3631e+02 -1.3785e+02  2e+00  3e-03  7e-04\n",
        " 5: -1.3694e+02 -1.3729e+02  3e-01  2e-04  5e-05\n",
        " 6: -1.3709e+02 -1.3716e+02  7e-02  3e-05  8e-06\n",
        " 7: -1.3712e+02 -1.3713e+02  8e-03  2e-06  4e-07\n",
        " 8: -1.3713e+02 -1.3713e+02  2e-04  1e-08  3e-09\n",
        " 9: -1.3713e+02 -1.3713e+02  1e-05  4e-10  1e-10\n",
        "Optimal solution found.\n",
        "24 support vectors out of 74 points\n",
        "cutting plane objective: 137.126821, primal objective 141.457016\n",
        "iteration 136\n",
        "OneSlackSSVM(C=0.1, break_on_bad=False, cache_tol=auto,\n",
        "       check_constraints=False, inactive_threshold=1e-05,\n",
        "       inactive_window=50, inference_cache=0, logger=None, max_iter=10000,\n",
        "       model=MultiLabelModel(n_states: 2, inference_method: ad3), n_jobs=1,\n",
        "       positive_constraint=None, show_loss_every=0, switch_to=None,\n",
        "       tol=1e-05, verbose=3)\n",
        "New violation: 0.988194 difference to last: 0.033473"
       ]
      },
      {
       "output_type": "stream",
       "stream": "stdout",
       "text": [
        "\n",
        "     pcost       dcost       gap    pres   dres\n",
        " 0: -1.3041e+02 -4.1180e+02  6e+02  1e+01  3e+00\n",
        " 1: -1.3095e+02 -2.1754e+02  9e+01  8e-01  2e-01\n",
        " 2: -1.3368e+02 -1.5177e+02  2e+01  1e-01  4e-02\n",
        " 3: -1.3533e+02 -1.4042e+02  5e+00  2e-02  5e-03\n",
        " 4: -1.3635e+02 -1.3784e+02  1e+00  2e-03  6e-04\n",
        " 5: -1.3699e+02 -1.3732e+02  3e-01  1e-04  3e-05\n",
        " 6: -1.3715e+02 -1.3718e+02  3e-02  9e-06  2e-06\n",
        " 7: -1.3717e+02 -1.3717e+02  3e-03  3e-07  9e-08\n",
        " 8: -1.3717e+02 -1.3717e+02  1e-04  7e-09  2e-09\n",
        "Optimal solution found.\n",
        "24 support vectors out of 74 points\n",
        "cutting plane objective: 137.167601, primal objective 141.180427\n",
        "iteration 137\n",
        "OneSlackSSVM(C=0.1, break_on_bad=False, cache_tol=auto,\n",
        "       check_constraints=False, inactive_threshold=1e-05,\n",
        "       inactive_window=50, inference_cache=0, logger=None, max_iter=10000,\n",
        "       model=MultiLabelModel(n_states: 2, inference_method: ad3), n_jobs=1,\n",
        "       positive_constraint=None, show_loss_every=0, switch_to=None,\n",
        "       tol=1e-05, verbose=3)\n",
        "New violation: 0.985717 difference to last: 0.030676"
       ]
      },
      {
       "output_type": "stream",
       "stream": "stdout",
       "text": [
        "\n",
        "     pcost       dcost       gap    pres   dres\n",
        " 0: -1.3070e+02 -4.1259e+02  6e+02  1e+01  3e+00\n",
        " 1: -1.3124e+02 -2.1311e+02  9e+01  7e-01  2e-01\n",
        " 2: -1.3383e+02 -1.5146e+02  2e+01  1e-01  3e-02\n",
        " 3: -1.3537e+02 -1.4049e+02  5e+00  2e-02  5e-03\n",
        " 4: -1.3642e+02 -1.3779e+02  1e+00  2e-03  4e-04\n",
        " 5: -1.3704e+02 -1.3738e+02  3e-01  5e-05  1e-05\n",
        " 6: -1.3717e+02 -1.3722e+02  5e-02  7e-06  2e-06\n",
        " 7: -1.3720e+02 -1.3720e+02  3e-03  5e-15  1e-15\n",
        " 8: -1.3720e+02 -1.3720e+02  5e-05  4e-15  1e-15\n",
        "Optimal solution found.\n",
        "25 support vectors out of 75 points\n",
        "cutting plane objective: 137.197794, primal objective 140.882596\n",
        "iteration 138\n",
        "OneSlackSSVM(C=0.1, break_on_bad=False, cache_tol=auto,\n",
        "       check_constraints=False, inactive_threshold=1e-05,\n",
        "       inactive_window=50, inference_cache=0, logger=None, max_iter=10000,\n",
        "       model=MultiLabelModel(n_states: 2, inference_method: ad3), n_jobs=1,\n",
        "       positive_constraint=None, show_loss_every=0, switch_to=None,\n",
        "       tol=1e-05, verbose=3)\n",
        "New violation: 0.986268 difference to last: 0.030359"
       ]
      },
      {
       "output_type": "stream",
       "stream": "stdout",
       "text": [
        "\n",
        "     pcost       dcost       gap    pres   dres\n",
        " 0: -1.3081e+02 -4.1475e+02  6e+02  1e+01  3e+00\n",
        " 1: -1.3130e+02 -2.2848e+02  1e+02  1e+00  3e-01\n",
        " 2: -1.3377e+02 -1.5259e+02  2e+01  2e-01  5e-02\n",
        " 3: -1.3542e+02 -1.4092e+02  6e+00  3e-02  8e-03\n",
        " 4: -1.3643e+02 -1.3779e+02  1e+00  2e-03  5e-04\n",
        " 5: -1.3709e+02 -1.3745e+02  4e-01  5e-15  1e-15\n",
        " 6: -1.3719e+02 -1.3731e+02  1e-01  7e-15  1e-15\n",
        " 7: -1.3722e+02 -1.3724e+02  2e-02  5e-15  1e-15\n",
        " 8: -1.3723e+02 -1.3724e+02  1e-03  5e-15  1e-15\n",
        " 9: -1.3724e+02 -1.3724e+02  6e-05  8e-15  1e-15\n",
        "Optimal solution found.\n",
        "26 support vectors out of 74 points\n",
        "cutting plane objective: 137.235320, primal objective 140.874342\n",
        "iteration 139\n",
        "OneSlackSSVM(C=0.1, break_on_bad=False, cache_tol=auto,\n",
        "       check_constraints=False, inactive_threshold=1e-05,\n",
        "       inactive_window=50, inference_cache=0, logger=None, max_iter=10000,\n",
        "       model=MultiLabelModel(n_states: 2, inference_method: ad3), n_jobs=1,\n",
        "       positive_constraint=None, show_loss_every=0, switch_to=None,\n",
        "       tol=1e-05, verbose=3)\n",
        "New violation: 0.985524 difference to last: 0.029234"
       ]
      },
      {
       "output_type": "stream",
       "stream": "stdout",
       "text": [
        "\n",
        "     pcost       dcost       gap    pres   dres\n",
        " 0: -1.3079e+02 -4.1419e+02  6e+02  1e+01  3e+00\n",
        " 1: -1.3122e+02 -2.2664e+02  1e+02  1e+00  3e-01\n",
        " 2: -1.3380e+02 -1.5282e+02  2e+01  2e-01  5e-02\n",
        " 3: -1.3545e+02 -1.4098e+02  6e+00  3e-02  7e-03\n",
        " 4: -1.3646e+02 -1.3778e+02  1e+00  2e-03  4e-04\n",
        " 5: -1.3710e+02 -1.3747e+02  4e-01  5e-05  1e-05\n",
        " 6: -1.3722e+02 -1.3731e+02  8e-02  1e-05  2e-06\n",
        " 7: -1.3726e+02 -1.3726e+02  7e-03  4e-15  1e-15\n",
        " 8: -1.3726e+02 -1.3726e+02  3e-04  5e-15  1e-15\n",
        " 9: -1.3726e+02 -1.3726e+02  1e-05  7e-15  1e-15\n",
        "Optimal solution found.\n",
        "24 support vectors out of 75 points\n",
        "cutting plane objective: 137.262166, primal objective 140.775620\n",
        "iteration 140\n",
        "OneSlackSSVM(C=0.1, break_on_bad=False, cache_tol=auto,\n",
        "       check_constraints=False, inactive_threshold=1e-05,\n",
        "       inactive_window=50, inference_cache=0, logger=None, max_iter=10000,\n",
        "       model=MultiLabelModel(n_states: 2, inference_method: ad3), n_jobs=1,\n",
        "       positive_constraint=None, show_loss_every=0, switch_to=None,\n",
        "       tol=1e-05, verbose=3)\n",
        "New violation: 0.988640 difference to last: 0.031853"
       ]
      },
      {
       "output_type": "stream",
       "stream": "stdout",
       "text": [
        "\n",
        "     pcost       dcost       gap    pres   dres\n",
        " 0: -1.3061e+02 -3.9852e+02  5e+02  1e+01  3e+00\n",
        " 1: -1.3120e+02 -2.1090e+02  9e+01  8e-01  2e-01\n",
        " 2: -1.3408e+02 -1.5013e+02  2e+01  1e-01  3e-02\n",
        " 3: -1.3584e+02 -1.3915e+02  3e+00  1e-02  3e-03\n",
        " 4: -1.3663e+02 -1.3771e+02  1e+00  2e-03  6e-04\n",
        " 5: -1.3717e+02 -1.3740e+02  2e-01  2e-05  5e-06\n",
        " 6: -1.3724e+02 -1.3733e+02  9e-02  6e-06  2e-06\n",
        " 7: -1.3726e+02 -1.3729e+02  2e-02  7e-15  1e-15\n",
        " 8: -1.3728e+02 -1.3728e+02  9e-04  7e-15  1e-15\n",
        " 9: -1.3728e+02 -1.3728e+02  2e-05  4e-15  1e-15\n",
        "Optimal solution found.\n",
        "24 support vectors out of 75 points\n",
        "cutting plane objective: 137.279700, primal objective 141.119555\n",
        "iteration 141\n",
        "OneSlackSSVM(C=0.1, break_on_bad=False, cache_tol=auto,\n",
        "       check_constraints=False, inactive_threshold=1e-05,\n",
        "       inactive_window=50, inference_cache=0, logger=None, max_iter=10000,\n",
        "       model=MultiLabelModel(n_states: 2, inference_method: ad3), n_jobs=1,\n",
        "       positive_constraint=None, show_loss_every=0, switch_to=None,\n",
        "       tol=1e-05, verbose=3)\n",
        "New violation: 0.982161 difference to last: 0.025229"
       ]
      },
      {
       "output_type": "stream",
       "stream": "stdout",
       "text": [
        "\n",
        "     pcost       dcost       gap    pres   dres\n",
        " 0: -1.3072e+02 -4.0378e+02  6e+02  1e+01  3e+00\n",
        " 1: -1.3118e+02 -2.1811e+02  9e+01  1e+00  2e-01\n",
        " 2: -1.3399e+02 -1.5120e+02  2e+01  2e-01  4e-02\n",
        " 3: -1.3579e+02 -1.3957e+02  4e+00  2e-02  4e-03\n",
        " 4: -1.3661e+02 -1.3775e+02  1e+00  3e-03  8e-04\n",
        " 5: -1.3717e+02 -1.3745e+02  3e-01  2e-04  5e-05\n",
        " 6: -1.3728e+02 -1.3733e+02  5e-02  3e-05  6e-06\n",
        " 7: -1.3731e+02 -1.3731e+02  4e-03  5e-15  9e-16\n",
        " 8: -1.3731e+02 -1.3731e+02  1e-04  6e-15  1e-15\n",
        "Optimal solution found.\n",
        "24 support vectors out of 76 points\n",
        "cutting plane objective: 137.308167, primal objective 140.334974\n",
        "iteration 142\n",
        "OneSlackSSVM(C=0.1, break_on_bad=False, cache_tol=auto,\n",
        "       check_constraints=False, inactive_threshold=1e-05,\n",
        "       inactive_window=50, inference_cache=0, logger=None, max_iter=10000,\n",
        "       model=MultiLabelModel(n_states: 2, inference_method: ad3), n_jobs=1,\n",
        "       positive_constraint=None, show_loss_every=0, switch_to=None,\n",
        "       tol=1e-05, verbose=3)\n",
        "New violation: 0.984273 difference to last: 0.027269"
       ]
      },
      {
       "output_type": "stream",
       "stream": "stdout",
       "text": [
        "\n",
        "     pcost       dcost       gap    pres   dres\n",
        " 0: -1.3105e+02 -3.9251e+02  5e+02  1e+01  3e+00\n",
        " 1: -1.3168e+02 -2.0544e+02  8e+01  6e-01  2e-01\n",
        " 2: -1.3434e+02 -1.4921e+02  2e+01  1e-01  3e-02\n",
        " 3: -1.3599e+02 -1.3899e+02  3e+00  6e-03  2e-03\n",
        " 4: -1.3673e+02 -1.3775e+02  1e+00  1e-03  4e-04\n",
        " 5: -1.3721e+02 -1.3747e+02  3e-01  2e-04  5e-05\n",
        " 6: -1.3733e+02 -1.3735e+02  2e-02  1e-06  3e-07\n",
        " 7: -1.3734e+02 -1.3734e+02  2e-03  9e-08  2e-08\n",
        " 8: -1.3734e+02 -1.3734e+02  7e-05  2e-09  4e-10\n",
        "Optimal solution found.\n",
        "27 support vectors out of 77 points\n",
        "cutting plane objective: 137.340642, primal objective 140.610608\n",
        "iteration 143\n",
        "OneSlackSSVM(C=0.1, break_on_bad=False, cache_tol=auto,\n",
        "       check_constraints=False, inactive_threshold=1e-05,\n",
        "       inactive_window=50, inference_cache=0, logger=None, max_iter=10000,\n",
        "       model=MultiLabelModel(n_states: 2, inference_method: ad3), n_jobs=1,\n",
        "       positive_constraint=None, show_loss_every=0, switch_to=None,\n",
        "       tol=1e-05, verbose=3)\n",
        "New violation: 0.986817 difference to last: 0.030025"
       ]
      },
      {
       "output_type": "stream",
       "stream": "stdout",
       "text": [
        "\n",
        "     pcost       dcost       gap    pres   dres\n",
        " 0: -1.3109e+02 -3.9863e+02  5e+02  1e+01  3e+00\n",
        " 1: -1.3169e+02 -2.0394e+02  8e+01  5e-01  1e-01\n",
        " 2: -1.3439e+02 -1.4883e+02  1e+01  8e-02  2e-02\n",
        " 3: -1.3604e+02 -1.3891e+02  3e+00  4e-03  1e-03\n",
        " 4: -1.3677e+02 -1.3774e+02  1e+00  9e-04  2e-04\n",
        " 5: -1.3723e+02 -1.3747e+02  2e-01  1e-04  3e-05\n",
        " 6: -1.3733e+02 -1.3739e+02  6e-02  3e-05  7e-06\n",
        " 7: -1.3736e+02 -1.3736e+02  7e-03  4e-15  1e-15\n",
        " 8: -1.3736e+02 -1.3736e+02  1e-04  5e-15  1e-15\n",
        "Optimal solution found.\n",
        "23 support vectors out of 78 points\n",
        "cutting plane objective: 137.361591, primal objective 140.976773\n",
        "iteration 144\n",
        "OneSlackSSVM(C=0.1, break_on_bad=False, cache_tol=auto,\n",
        "       check_constraints=False, inactive_threshold=1e-05,\n",
        "       inactive_window=50, inference_cache=0, logger=None, max_iter=10000,\n",
        "       model=MultiLabelModel(n_states: 2, inference_method: ad3), n_jobs=1,\n",
        "       positive_constraint=None, show_loss_every=0, switch_to=None,\n",
        "       tol=1e-05, verbose=3)\n",
        "New violation: 0.978814 difference to last: 0.022269"
       ]
      },
      {
       "output_type": "stream",
       "stream": "stdout",
       "text": [
        "\n",
        "     pcost       dcost       gap    pres   dres\n",
        " 0: -1.3152e+02 -3.9364e+02  5e+02  1e+01  3e+00\n",
        " 1: -1.3203e+02 -2.0662e+02  8e+01  6e-01  1e-01\n",
        " 2: -1.3450e+02 -1.4945e+02  2e+01  1e-01  2e-02\n",
        " 3: -1.3601e+02 -1.3933e+02  3e+00  1e-02  3e-03\n",
        " 4: -1.3673e+02 -1.3782e+02  1e+00  3e-03  6e-04\n",
        " 5: -1.3727e+02 -1.3754e+02  3e-01  2e-04  5e-05\n",
        " 6: -1.3739e+02 -1.3742e+02  3e-02  2e-05  5e-06\n",
        " 7: -1.3740e+02 -1.3741e+02  2e-03  6e-07  1e-07\n",
        " 8: -1.3740e+02 -1.3740e+02  8e-05  2e-08  6e-09\n",
        "Optimal solution found.\n",
        "23 support vectors out of 78 points\n",
        "cutting plane objective: 137.404826, primal objective 140.058508\n",
        "iteration 145\n",
        "OneSlackSSVM(C=0.1, break_on_bad=False, cache_tol=auto,\n",
        "       check_constraints=False, inactive_threshold=1e-05,\n",
        "       inactive_window=50, inference_cache=0, logger=None, max_iter=10000,\n",
        "       model=MultiLabelModel(n_states: 2, inference_method: ad3), n_jobs=1,\n",
        "       positive_constraint=None, show_loss_every=0, switch_to=None,\n",
        "       tol=1e-05, verbose=3)\n",
        "New violation: 0.984461 difference to last: 0.027605"
       ]
      },
      {
       "output_type": "stream",
       "stream": "stdout",
       "text": [
        "\n",
        "     pcost       dcost       gap    pres   dres\n",
        " 0: -1.3185e+02 -3.8458e+02  5e+02  1e+01  3e+00\n",
        " 1: -1.3244e+02 -2.0220e+02  7e+01  6e-01  1e-01\n",
        " 2: -1.3474e+02 -1.4803e+02  1e+01  9e-02  2e-02\n",
        " 3: -1.3618e+02 -1.3886e+02  3e+00  4e-03  1e-03\n",
        " 4: -1.3695e+02 -1.3777e+02  8e-01  7e-04  2e-04\n",
        " 5: -1.3734e+02 -1.3750e+02  2e-01  6e-05  1e-05\n",
        " 6: -1.3741e+02 -1.3744e+02  2e-02  6e-06  2e-06\n",
        " 7: -1.3743e+02 -1.3743e+02  7e-04  8e-09  2e-09\n",
        " 8: -1.3743e+02 -1.3743e+02  3e-05  1e-10  3e-11\n",
        "Optimal solution found.\n",
        "26 support vectors out of 78 points\n",
        "cutting plane objective: 137.426008, primal objective 140.747915\n",
        "iteration 146\n",
        "OneSlackSSVM(C=0.1, break_on_bad=False, cache_tol=auto,\n",
        "       check_constraints=False, inactive_threshold=1e-05,\n",
        "       inactive_window=50, inference_cache=0, logger=None, max_iter=10000,\n",
        "       model=MultiLabelModel(n_states: 2, inference_method: ad3), n_jobs=1,\n",
        "       positive_constraint=None, show_loss_every=0, switch_to=None,\n",
        "       tol=1e-05, verbose=3)\n",
        "New violation: 0.982880 difference to last: 0.025940"
       ]
      },
      {
       "output_type": "stream",
       "stream": "stdout",
       "text": [
        "\n",
        "     pcost       dcost       gap    pres   dres\n",
        " 0: -1.3195e+02 -3.8284e+02  5e+02  1e+01  3e+00\n",
        " 1: -1.3261e+02 -1.9802e+02  7e+01  5e-01  1e-01\n",
        " 2: -1.3487e+02 -1.4718e+02  1e+01  7e-02  2e-02\n",
        " 3: -1.3630e+02 -1.3865e+02  2e+00  2e-04  5e-05\n",
        " 4: -1.3710e+02 -1.3792e+02  8e-01  1e-05  4e-06\n",
        " 5: -1.3739e+02 -1.3754e+02  1e-01  1e-06  4e-07\n",
        " 6: -1.3745e+02 -1.3747e+02  3e-02  9e-15  1e-15\n",
        " 7: -1.3746e+02 -1.3747e+02  3e-03  6e-15  1e-15\n",
        " 8: -1.3746e+02 -1.3746e+02  9e-05  4e-15  1e-15\n",
        "Optimal solution found.\n",
        "27 support vectors out of 79 points\n",
        "cutting plane objective: 137.464672, primal objective 140.567376\n",
        "iteration 147\n",
        "OneSlackSSVM(C=0.1, break_on_bad=False, cache_tol=auto,\n",
        "       check_constraints=False, inactive_threshold=1e-05,\n",
        "       inactive_window=50, inference_cache=0, logger=None, max_iter=10000,\n",
        "       model=MultiLabelModel(n_states: 2, inference_method: ad3), n_jobs=1,\n",
        "       positive_constraint=None, show_loss_every=0, switch_to=None,\n",
        "       tol=1e-05, verbose=3)\n",
        "New violation: 0.987907 difference to last: 0.030953"
       ]
      },
      {
       "output_type": "stream",
       "stream": "stdout",
       "text": [
        "\n",
        "     pcost       dcost       gap    pres   dres\n",
        " 0: -1.3212e+02 -3.7967e+02  5e+02  1e+01  3e+00\n",
        " 1: -1.3281e+02 -1.9303e+02  6e+01  4e-01  1e-01\n",
        " 2: -1.3500e+02 -1.4704e+02  1e+01  6e-02  2e-02\n",
        " 3: -1.3633e+02 -1.3899e+02  3e+00  2e-03  7e-04\n",
        " 4: -1.3710e+02 -1.3783e+02  7e-01  1e-04  4e-05\n",
        " 5: -1.3742e+02 -1.3754e+02  1e-01  7e-06  2e-06\n",
        " 6: -1.3748e+02 -1.3749e+02  2e-02  5e-07  1e-07\n",
        " 7: -1.3749e+02 -1.3749e+02  6e-04  9e-09  3e-09\n",
        " 8: -1.3749e+02 -1.3749e+02  1e-05  1e-10  3e-11\n",
        "Optimal solution found.\n",
        "26 support vectors out of 78 points\n",
        "cutting plane objective: 137.486479, primal objective 141.213195\n",
        "iteration 148\n",
        "OneSlackSSVM(C=0.1, break_on_bad=False, cache_tol=auto,\n",
        "       check_constraints=False, inactive_threshold=1e-05,\n",
        "       inactive_window=50, inference_cache=0, logger=None, max_iter=10000,\n",
        "       model=MultiLabelModel(n_states: 2, inference_method: ad3), n_jobs=1,\n",
        "       positive_constraint=None, show_loss_every=0, switch_to=None,\n",
        "       tol=1e-05, verbose=3)\n",
        "New violation: 0.981726 difference to last: 0.024580"
       ]
      },
      {
       "output_type": "stream",
       "stream": "stdout",
       "text": [
        "\n",
        "     pcost       dcost       gap    pres   dres\n",
        " 0: -1.3233e+02 -3.9275e+02  5e+02  1e+01  3e+00\n",
        " 1: -1.3300e+02 -1.9320e+02  6e+01  4e-01  1e-01\n",
        " 2: -1.3507e+02 -1.4692e+02  1e+01  7e-02  2e-02\n",
        " 3: -1.3641e+02 -1.3888e+02  2e+00  2e-03  5e-04\n",
        " 4: -1.3718e+02 -1.3797e+02  8e-01  3e-15  8e-16\n",
        " 5: -1.3745e+02 -1.3758e+02  1e-01  5e-15  1e-15\n",
        " 6: -1.3751e+02 -1.3754e+02  3e-02  5e-15  9e-16\n",
        " 7: -1.3752e+02 -1.3752e+02  1e-03  7e-15  1e-15\n",
        " 8: -1.3752e+02 -1.3752e+02  2e-05  4e-15  1e-15\n",
        "Optimal solution found.\n",
        "25 support vectors out of 78 points\n",
        "cutting plane objective: 137.523087, primal objective 140.463161\n",
        "iteration 149\n",
        "OneSlackSSVM(C=0.1, break_on_bad=False, cache_tol=auto,\n",
        "       check_constraints=False, inactive_threshold=1e-05,\n",
        "       inactive_window=50, inference_cache=0, logger=None, max_iter=10000,\n",
        "       model=MultiLabelModel(n_states: 2, inference_method: ad3), n_jobs=1,\n",
        "       positive_constraint=None, show_loss_every=0, switch_to=None,\n",
        "       tol=1e-05, verbose=3)\n",
        "New violation: 0.980167 difference to last: 0.022556"
       ]
      },
      {
       "output_type": "stream",
       "stream": "stdout",
       "text": [
        "\n",
        "     pcost       dcost       gap    pres   dres\n",
        " 0: -1.3242e+02 -3.8391e+02  3e+02  2e-16  3e+00\n",
        " 1: -1.3414e+02 -1.5451e+02  2e+01  3e-15  2e-01\n",
        " 2: -1.3602e+02 -1.4036e+02  4e+00  3e-15  2e-02\n",
        " 3: -1.3688e+02 -1.3800e+02  1e+00  4e-15  3e-03\n",
        " 4: -1.3735e+02 -1.3773e+02  4e-01  5e-15  5e-04\n",
        " 5: -1.3752e+02 -1.3758e+02  6e-02  4e-15  5e-05\n",
        " 6: -1.3755e+02 -1.3756e+02  1e-02  4e-15  1e-05\n",
        " 7: -1.3755e+02 -1.3756e+02  5e-03  4e-15  1e-15\n",
        " 8: -1.3755e+02 -1.3755e+02  1e-04  5e-15  9e-16\n",
        "Optimal solution found.\n",
        "25 support vectors out of 79 points\n",
        "cutting plane objective: 137.554188, primal objective 140.254687\n",
        "iteration 150\n",
        "OneSlackSSVM(C=0.1, break_on_bad=False, cache_tol=auto,\n",
        "       check_constraints=False, inactive_threshold=1e-05,\n",
        "       inactive_window=50, inference_cache=0, logger=None, max_iter=10000,\n",
        "       model=MultiLabelModel(n_states: 2, inference_method: ad3), n_jobs=1,\n",
        "       positive_constraint=None, show_loss_every=0, switch_to=None,\n",
        "       tol=1e-05, verbose=3)\n",
        "New violation: 0.981855 difference to last: 0.023775"
       ]
      },
      {
       "output_type": "stream",
       "stream": "stdout",
       "text": [
        "\n",
        "     pcost       dcost       gap    pres   dres\n",
        " 0: -1.3208e+02 -4.1210e+02  5e+02  1e+01  3e+00\n",
        " 1: -1.3268e+02 -2.1203e+02  8e+01  7e-01  2e-01\n",
        " 2: -1.3498e+02 -1.4960e+02  1e+01  1e-01  3e-02\n",
        " 3: -1.3633e+02 -1.3940e+02  3e+00  6e-03  2e-03\n",
        " 4: -1.3715e+02 -1.3804e+02  9e-01  1e-05  4e-06\n",
        " 5: -1.3748e+02 -1.3767e+02  2e-01  1e-06  3e-07\n",
        " 6: -1.3755e+02 -1.3760e+02  5e-02  2e-07  5e-08\n",
        " 7: -1.3758e+02 -1.3758e+02  8e-03  1e-09  4e-10\n",
        " 8: -1.3758e+02 -1.3758e+02  1e-03  9e-15  1e-15\n",
        " 9: -1.3758e+02 -1.3758e+02  4e-05  7e-15  9e-16\n",
        "Optimal solution found.\n",
        "27 support vectors out of 79 points\n",
        "cutting plane objective: 137.580277, primal objective 140.433450\n",
        "iteration 151\n",
        "OneSlackSSVM(C=0.1, break_on_bad=False, cache_tol=auto,\n",
        "       check_constraints=False, inactive_threshold=1e-05,\n",
        "       inactive_window=50, inference_cache=0, logger=None, max_iter=10000,\n",
        "       model=MultiLabelModel(n_states: 2, inference_method: ad3), n_jobs=1,\n",
        "       positive_constraint=None, show_loss_every=0, switch_to=None,\n",
        "       tol=1e-05, verbose=3)\n",
        "New violation: 0.980407 difference to last: 0.021539"
       ]
      },
      {
       "output_type": "stream",
       "stream": "stdout",
       "text": [
        "\n",
        "     pcost       dcost       gap    pres   dres\n",
        " 0: -1.3203e+02 -4.2620e+02  5e+02  1e+01  3e+00\n",
        " 1: -1.3265e+02 -2.1332e+02  9e+01  7e-01  2e-01\n",
        " 2: -1.3503e+02 -1.4919e+02  1e+01  1e-01  3e-02\n",
        " 3: -1.3646e+02 -1.3924e+02  3e+00  8e-04  2e-04\n",
        " 4: -1.3720e+02 -1.3819e+02  1e+00  4e-15  8e-16\n",
        " 5: -1.3750e+02 -1.3766e+02  2e-01  3e-15  9e-16\n",
        " 6: -1.3759e+02 -1.3760e+02  1e-02  4e-15  1e-15\n",
        " 7: -1.3760e+02 -1.3760e+02  7e-04  5e-15  1e-15\n",
        " 8: -1.3760e+02 -1.3760e+02  2e-05  3e-15  1e-15\n",
        "Optimal solution found.\n",
        "23 support vectors out of 78 points\n",
        "cutting plane objective: 137.597557, primal objective 140.188683\n",
        "iteration 152\n",
        "OneSlackSSVM(C=0.1, break_on_bad=False, cache_tol=auto,\n",
        "       check_constraints=False, inactive_threshold=1e-05,\n",
        "       inactive_window=50, inference_cache=0, logger=None, max_iter=10000,\n",
        "       model=MultiLabelModel(n_states: 2, inference_method: ad3), n_jobs=1,\n",
        "       positive_constraint=None, show_loss_every=0, switch_to=None,\n",
        "       tol=1e-05, verbose=3)\n",
        "New violation: 0.979473 difference to last: 0.020350"
       ]
      },
      {
       "output_type": "stream",
       "stream": "stdout",
       "text": [
        "\n",
        "     pcost       dcost       gap    pres   dres\n",
        " 0: -1.3231e+02 -4.1346e+02  5e+02  1e+01  3e+00\n",
        " 1: -1.3290e+02 -2.0767e+02  8e+01  6e-01  2e-01\n",
        " 2: -1.3511e+02 -1.4882e+02  1e+01  1e-01  3e-02\n",
        " 3: -1.3645e+02 -1.3938e+02  3e+00  4e-03  1e-03\n",
        " 4: -1.3720e+02 -1.3819e+02  1e+00  4e-15  9e-16\n",
        " 5: -1.3749e+02 -1.3773e+02  2e-01  4e-15  9e-16\n",
        " 6: -1.3760e+02 -1.3764e+02  4e-02  7e-15  9e-16\n",
        " 7: -1.3761e+02 -1.3762e+02  8e-03  6e-15  9e-16\n",
        " 8: -1.3762e+02 -1.3762e+02  3e-04  6e-15  1e-15\n",
        " 9: -1.3762e+02 -1.3762e+02  1e-05  4e-15  8e-16\n",
        "Optimal solution found.\n",
        "27 support vectors out of 79 points\n",
        "cutting plane objective: 137.618329, primal objective 140.061947\n",
        "iteration 153\n",
        "OneSlackSSVM(C=0.1, break_on_bad=False, cache_tol=auto,\n",
        "       check_constraints=False, inactive_threshold=1e-05,\n",
        "       inactive_window=50, inference_cache=0, logger=None, max_iter=10000,\n",
        "       model=MultiLabelModel(n_states: 2, inference_method: ad3), n_jobs=1,\n",
        "       positive_constraint=None, show_loss_every=0, switch_to=None,\n",
        "       tol=1e-05, verbose=3)\n",
        "New violation: 0.980731 difference to last: 0.021450"
       ]
      },
      {
       "output_type": "stream",
       "stream": "stdout",
       "text": [
        "\n",
        "     pcost       dcost       gap    pres   dres\n",
        " 0: -1.3242e+02 -4.1541e+02  5e+02  1e+01  3e+00\n",
        " 1: -1.3293e+02 -2.1046e+02  8e+01  6e-01  2e-01\n",
        " 2: -1.3515e+02 -1.4884e+02  1e+01  9e-02  3e-02\n",
        " 3: -1.3644e+02 -1.3946e+02  3e+00  6e-03  2e-03\n",
        " 4: -1.3719e+02 -1.3824e+02  1e+00  5e-15  1e-15\n",
        " 5: -1.3752e+02 -1.3772e+02  2e-01  6e-15  1e-15\n",
        " 6: -1.3762e+02 -1.3766e+02  4e-02  5e-15  8e-16\n",
        " 7: -1.3764e+02 -1.3764e+02  4e-03  7e-15  9e-16\n",
        " 8: -1.3764e+02 -1.3764e+02  2e-04  4e-15  1e-15\n",
        " 9: -1.3764e+02 -1.3764e+02  6e-06  6e-15  9e-16\n",
        "Optimal solution found.\n",
        "23 support vectors out of 80 points\n",
        "cutting plane objective: 137.640866, primal objective 140.215958\n",
        "iteration 154\n",
        "OneSlackSSVM(C=0.1, break_on_bad=False, cache_tol=auto,\n",
        "       check_constraints=False, inactive_threshold=1e-05,\n",
        "       inactive_window=50, inference_cache=0, logger=None, max_iter=10000,\n",
        "       model=MultiLabelModel(n_states: 2, inference_method: ad3), n_jobs=1,\n",
        "       positive_constraint=None, show_loss_every=0, switch_to=None,\n",
        "       tol=1e-05, verbose=3)\n",
        "New violation: 0.977654 difference to last: 0.018717"
       ]
      },
      {
       "output_type": "stream",
       "stream": "stdout",
       "text": [
        "\n",
        "     pcost       dcost       gap    pres   dres\n",
        " 0: -1.3247e+02 -4.0451e+02  5e+02  1e+01  3e+00\n",
        " 1: -1.3309e+02 -2.0000e+02  7e+01  4e-01  1e-01\n",
        " 2: -1.3537e+02 -1.4752e+02  1e+01  5e-02  1e-02\n",
        " 3: -1.3651e+02 -1.3955e+02  3e+00  5e-03  2e-03\n",
        " 4: -1.3722e+02 -1.3813e+02  9e-01  8e-15  1e-15\n",
        " 5: -1.3757e+02 -1.3774e+02  2e-01  5e-15  6e-16\n",
        " 6: -1.3764e+02 -1.3768e+02  4e-02  4e-15  8e-16\n",
        " 7: -1.3766e+02 -1.3767e+02  4e-03  6e-15  9e-16\n",
        " 8: -1.3767e+02 -1.3767e+02  2e-04  4e-15  1e-15\n",
        " 9: -1.3767e+02 -1.3767e+02  3e-06  8e-15  1e-15\n",
        "Optimal solution found.\n",
        "25 support vectors out of 80 points\n",
        "cutting plane objective: 137.665350, primal objective 139.907523\n",
        "iteration 155\n",
        "OneSlackSSVM(C=0.1, break_on_bad=False, cache_tol=auto,\n",
        "       check_constraints=False, inactive_threshold=1e-05,\n",
        "       inactive_window=50, inference_cache=0, logger=None, max_iter=10000,\n",
        "       model=MultiLabelModel(n_states: 2, inference_method: ad3), n_jobs=1,\n",
        "       positive_constraint=None, show_loss_every=0, switch_to=None,\n",
        "       tol=1e-05, verbose=3)\n",
        "New violation: 0.982949 difference to last: 0.024036"
       ]
      },
      {
       "output_type": "stream",
       "stream": "stdout",
       "text": [
        "\n",
        "     pcost       dcost       gap    pres   dres\n",
        " 0: -1.3247e+02 -3.9004e+02  5e+02  1e+01  3e+00\n",
        " 1: -1.3315e+02 -1.9856e+02  7e+01  5e-01  1e-01\n",
        " 2: -1.3537e+02 -1.4721e+02  1e+01  7e-02  2e-02\n",
        " 3: -1.3653e+02 -1.3954e+02  3e+00  7e-03  2e-03\n",
        " 4: -1.3724e+02 -1.3814e+02  9e-01  4e-15  8e-16\n",
        " 5: -1.3758e+02 -1.3775e+02  2e-01  5e-15  9e-16\n",
        " 6: -1.3767e+02 -1.3769e+02  2e-02  4e-15  1e-15\n",
        " 7: -1.3768e+02 -1.3768e+02  2e-03  4e-15  9e-16\n",
        " 8: -1.3768e+02 -1.3768e+02  5e-05  7e-15  9e-16\n",
        "Optimal solution found.\n",
        "26 support vectors out of 81 points\n",
        "cutting plane objective: 137.681224, primal objective 140.576090\n",
        "iteration 156\n",
        "OneSlackSSVM(C=0.1, break_on_bad=False, cache_tol=auto,\n",
        "       check_constraints=False, inactive_threshold=1e-05,\n",
        "       inactive_window=50, inference_cache=0, logger=None, max_iter=10000,\n",
        "       model=MultiLabelModel(n_states: 2, inference_method: ad3), n_jobs=1,\n",
        "       positive_constraint=None, show_loss_every=0, switch_to=None,\n",
        "       tol=1e-05, verbose=3)\n",
        "New violation: 0.979875 difference to last: 0.021047"
       ]
      },
      {
       "output_type": "stream",
       "stream": "stdout",
       "text": [
        "\n",
        "     pcost       dcost       gap    pres   dres\n",
        " 0: -1.3265e+02 -3.8936e+02  3e+02  4e-16  3e+00\n",
        " 1: -1.3461e+02 -1.5777e+02  2e+01  3e-15  2e-01\n",
        " 2: -1.3625e+02 -1.4041e+02  4e+00  3e-15  2e-02\n",
        " 3: -1.3711e+02 -1.3854e+02  1e+00  3e-15  2e-03\n",
        " 4: -1.3747e+02 -1.3788e+02  4e-01  4e-15  4e-04\n",
        " 5: -1.3765e+02 -1.3775e+02  1e-01  4e-15  3e-05\n",
        " 6: -1.3769e+02 -1.3770e+02  1e-02  5e-15  8e-16\n",
        " 7: -1.3770e+02 -1.3770e+02  5e-04  5e-15  8e-16\n",
        " 8: -1.3770e+02 -1.3770e+02  2e-05  5e-15  8e-16\n",
        "Optimal solution found.\n",
        "26 support vectors out of 81 points\n",
        "cutting plane objective: 137.699935, primal objective 140.230087\n",
        "iteration 157\n",
        "OneSlackSSVM(C=0.1, break_on_bad=False, cache_tol=auto,\n",
        "       check_constraints=False, inactive_threshold=1e-05,\n",
        "       inactive_window=50, inference_cache=0, logger=None, max_iter=10000,\n",
        "       model=MultiLabelModel(n_states: 2, inference_method: ad3), n_jobs=1,\n",
        "       positive_constraint=None, show_loss_every=0, switch_to=None,\n",
        "       tol=1e-05, verbose=3)\n",
        "New violation: 0.975992 difference to last: 0.016750"
       ]
      },
      {
       "output_type": "stream",
       "stream": "stdout",
       "text": [
        "\n",
        "     pcost       dcost       gap    pres   dres\n",
        " 0: -1.3267e+02 -4.0216e+02  3e+02  1e-16  3e+00\n",
        " 1: -1.3482e+02 -1.5170e+02  2e+01  3e-15  2e-01\n",
        " 2: -1.3655e+02 -1.4035e+02  4e+00  3e-15  7e-16\n",
        " 3: -1.3717e+02 -1.3829e+02  1e+00  4e-15  8e-16\n",
        " 4: -1.3751e+02 -1.3786e+02  4e-01  4e-15  8e-16\n",
        " 5: -1.3766e+02 -1.3776e+02  1e-01  6e-15  8e-16\n",
        " 6: -1.3770e+02 -1.3772e+02  3e-02  5e-15  8e-16\n",
        " 7: -1.3771e+02 -1.3772e+02  2e-03  6e-15  9e-16\n",
        " 8: -1.3772e+02 -1.3772e+02  8e-05  6e-15  9e-16\n",
        "Optimal solution found.\n",
        "28 support vectors out of 81 points\n",
        "cutting plane objective: 137.715178, primal objective 139.728417\n",
        "iteration 158\n",
        "OneSlackSSVM(C=0.1, break_on_bad=False, cache_tol=auto,\n",
        "       check_constraints=False, inactive_threshold=1e-05,\n",
        "       inactive_window=50, inference_cache=0, logger=None, max_iter=10000,\n",
        "       model=MultiLabelModel(n_states: 2, inference_method: ad3), n_jobs=1,\n",
        "       positive_constraint=None, show_loss_every=0, switch_to=None,\n",
        "       tol=1e-05, verbose=3)\n",
        "New violation: 0.979789 difference to last: 0.020668"
       ]
      },
      {
       "output_type": "stream",
       "stream": "stdout",
       "text": [
        "\n",
        "     pcost       dcost       gap    pres   dres\n",
        " 0: -1.3262e+02 -4.0312e+02  3e+02  4e-16  3e+00\n",
        " 1: -1.3481e+02 -1.5278e+02  2e+01  3e-15  2e-01\n",
        " 2: -1.3654e+02 -1.4012e+02  4e+00  3e-15  9e-16\n",
        " 3: -1.3722e+02 -1.3837e+02  1e+00  3e-15  8e-16\n",
        " 4: -1.3753e+02 -1.3788e+02  4e-01  6e-15  7e-16\n",
        " 5: -1.3770e+02 -1.3775e+02  6e-02  5e-15  9e-16\n",
        " 6: -1.3773e+02 -1.3773e+02  5e-03  5e-15  8e-16\n",
        " 7: -1.3773e+02 -1.3773e+02  4e-04  4e-15  8e-16\n",
        " 8: -1.3773e+02 -1.3773e+02  7e-06  7e-15  8e-16\n",
        "Optimal solution found.\n",
        "25 support vectors out of 82 points\n",
        "cutting plane objective: 137.728570, primal objective 140.218171\n",
        "iteration 159\n",
        "OneSlackSSVM(C=0.1, break_on_bad=False, cache_tol=auto,\n",
        "       check_constraints=False, inactive_threshold=1e-05,\n",
        "       inactive_window=50, inference_cache=0, logger=None, max_iter=10000,\n",
        "       model=MultiLabelModel(n_states: 2, inference_method: ad3), n_jobs=1,\n",
        "       positive_constraint=None, show_loss_every=0, switch_to=None,\n",
        "       tol=1e-05, verbose=3)\n",
        "New violation: 0.977530 difference to last: 0.018699"
       ]
      },
      {
       "output_type": "stream",
       "stream": "stdout",
       "text": [
        "\n",
        "     pcost       dcost       gap    pres   dres\n",
        " 0: -1.3239e+02 -3.8331e+02  3e+02  2e-16  3e+00\n",
        " 1: -1.3480e+02 -1.5674e+02  2e+01  3e-15  2e-01\n",
        " 2: -1.3650e+02 -1.4029e+02  4e+00  3e-15  1e-02\n",
        " 3: -1.3724e+02 -1.3849e+02  1e+00  3e-15  8e-16\n",
        " 4: -1.3753e+02 -1.3792e+02  4e-01  3e-15  8e-16\n",
        " 5: -1.3771e+02 -1.3777e+02  6e-02  5e-15  9e-16\n",
        " 6: -1.3774e+02 -1.3775e+02  8e-03  5e-15  6e-16\n",
        " 7: -1.3774e+02 -1.3774e+02  3e-04  4e-15  7e-16\n",
        " 8: -1.3774e+02 -1.3774e+02  6e-06  6e-15  1e-15\n",
        "Optimal solution found.\n",
        "25 support vectors out of 82 points\n",
        "cutting plane objective: 137.742053, primal objective 139.993016\n",
        "iteration 160\n",
        "OneSlackSSVM(C=0.1, break_on_bad=False, cache_tol=auto,\n",
        "       check_constraints=False, inactive_threshold=1e-05,\n",
        "       inactive_window=50, inference_cache=0, logger=None, max_iter=10000,\n",
        "       model=MultiLabelModel(n_states: 2, inference_method: ad3), n_jobs=1,\n",
        "       positive_constraint=None, show_loss_every=0, switch_to=None,\n",
        "       tol=1e-05, verbose=3)\n",
        "New violation: 0.973866 difference to last: 0.015014"
       ]
      },
      {
       "output_type": "stream",
       "stream": "stdout",
       "text": [
        "\n",
        "     pcost       dcost       gap    pres   dres\n",
        " 0: -1.3269e+02 -3.8246e+02  2e+02  3e-16  3e+00\n",
        " 1: -1.3489e+02 -1.5431e+02  2e+01  3e-15  2e-01\n",
        " 2: -1.3657e+02 -1.4027e+02  4e+00  3e-15  6e-03\n",
        " 3: -1.3727e+02 -1.3847e+02  1e+00  3e-15  7e-16\n",
        " 4: -1.3754e+02 -1.3793e+02  4e-01  4e-15  6e-16\n",
        " 5: -1.3771e+02 -1.3779e+02  8e-02  4e-15  9e-16\n",
        " 6: -1.3775e+02 -1.3775e+02  5e-03  6e-15  9e-16\n",
        " 7: -1.3775e+02 -1.3775e+02  6e-04  5e-15  6e-16\n",
        " 8: -1.3775e+02 -1.3775e+02  9e-06  6e-15  8e-16\n",
        "Optimal solution found.\n",
        "25 support vectors out of 83 points\n",
        "cutting plane objective: 137.752434, primal objective 139.560282\n",
        "iteration 161\n",
        "OneSlackSSVM(C=0.1, break_on_bad=False, cache_tol=auto,\n",
        "       check_constraints=False, inactive_threshold=1e-05,\n",
        "       inactive_window=50, inference_cache=0, logger=None, max_iter=10000,\n",
        "       model=MultiLabelModel(n_states: 2, inference_method: ad3), n_jobs=1,\n",
        "       positive_constraint=None, show_loss_every=0, switch_to=None,\n",
        "       tol=1e-05, verbose=3)\n",
        "New violation: 0.975007 difference to last: 0.015886"
       ]
      },
      {
       "output_type": "stream",
       "stream": "stdout",
       "text": [
        "\n",
        "     pcost       dcost       gap    pres   dres\n",
        " 0: -1.3263e+02 -3.8111e+02  2e+02  1e-16  3e+00\n",
        " 1: -1.3488e+02 -1.5500e+02  2e+01  3e-15  2e-01\n",
        " 2: -1.3655e+02 -1.4035e+02  4e+00  3e-15  9e-03\n",
        " 3: -1.3727e+02 -1.3850e+02  1e+00  3e-15  8e-16\n",
        " 4: -1.3755e+02 -1.3794e+02  4e-01  5e-15  7e-16\n",
        " 5: -1.3772e+02 -1.3780e+02  8e-02  4e-15  8e-16\n",
        " 6: -1.3776e+02 -1.3777e+02  8e-03  5e-15  8e-16\n",
        " 7: -1.3777e+02 -1.3777e+02  3e-04  5e-15  8e-16\n",
        " 8: -1.3777e+02 -1.3777e+02  1e-05  5e-15  8e-16\n",
        "Optimal solution found.\n",
        "29 support vectors out of 84 points\n",
        "cutting plane objective: 137.766018, primal objective 139.676296\n",
        "iteration 162\n",
        "OneSlackSSVM(C=0.1, break_on_bad=False, cache_tol=auto,\n",
        "       check_constraints=False, inactive_threshold=1e-05,\n",
        "       inactive_window=50, inference_cache=0, logger=None, max_iter=10000,\n",
        "       model=MultiLabelModel(n_states: 2, inference_method: ad3), n_jobs=1,\n",
        "       positive_constraint=None, show_loss_every=0, switch_to=None,\n",
        "       tol=1e-05, verbose=3)\n",
        "New violation: 0.977990 difference to last: 0.018543"
       ]
      },
      {
       "output_type": "stream",
       "stream": "stdout",
       "text": [
        "\n",
        "     pcost       dcost       gap    pres   dres\n",
        " 0: -1.3282e+02 -3.7178e+02  2e+02  8e-17  3e+00\n",
        " 1: -1.3499e+02 -1.5650e+02  2e+01  3e-15  2e-01\n",
        " 2: -1.3655e+02 -1.4053e+02  4e+00  3e-15  1e-02\n",
        " 3: -1.3728e+02 -1.3859e+02  1e+00  2e-15  7e-16\n",
        " 4: -1.3757e+02 -1.3795e+02  4e-01  5e-15  6e-16\n",
        " 5: -1.3774e+02 -1.3782e+02  8e-02  7e-15  7e-16\n",
        " 6: -1.3778e+02 -1.3779e+02  9e-03  5e-15  7e-16\n",
        " 7: -1.3778e+02 -1.3778e+02  7e-04  4e-15  8e-16\n",
        " 8: -1.3778e+02 -1.3778e+02  2e-05  5e-15  6e-16\n",
        "Optimal solution found.\n",
        "27 support vectors out of 83 points\n",
        "cutting plane objective: 137.783029, primal objective 140.011543\n",
        "iteration 163\n",
        "OneSlackSSVM(C=0.1, break_on_bad=False, cache_tol=auto,\n",
        "       check_constraints=False, inactive_threshold=1e-05,\n",
        "       inactive_window=50, inference_cache=0, logger=None, max_iter=10000,\n",
        "       model=MultiLabelModel(n_states: 2, inference_method: ad3), n_jobs=1,\n",
        "       positive_constraint=None, show_loss_every=0, switch_to=None,\n",
        "       tol=1e-05, verbose=3)\n",
        "New violation: 0.977091 difference to last: 0.017162"
       ]
      },
      {
       "output_type": "stream",
       "stream": "stdout",
       "text": [
        "\n",
        "     pcost       dcost       gap    pres   dres\n",
        " 0: -1.3284e+02 -3.6843e+02  2e+02  1e-16  3e+00\n",
        " 1: -1.3499e+02 -1.5532e+02  2e+01  2e-15  2e-01\n",
        " 2: -1.3661e+02 -1.4043e+02  4e+00  3e-15  1e-02\n",
        " 3: -1.3731e+02 -1.3857e+02  1e+00  4e-15  7e-16\n",
        " 4: -1.3761e+02 -1.3793e+02  3e-01  3e-15  8e-16\n",
        " 5: -1.3775e+02 -1.3783e+02  8e-02  4e-15  7e-16\n",
        " 6: -1.3779e+02 -1.3780e+02  2e-02  5e-15  6e-16\n",
        " 7: -1.3779e+02 -1.3780e+02  6e-04  7e-15  7e-16\n",
        " 8: -1.3780e+02 -1.3780e+02  3e-05  4e-15  9e-16\n",
        "Optimal solution found.\n",
        "30 support vectors out of 83 points\n",
        "cutting plane objective: 137.795012, primal objective 139.861402\n",
        "iteration 164\n",
        "OneSlackSSVM(C=0.1, break_on_bad=False, cache_tol=auto,\n",
        "       check_constraints=False, inactive_threshold=1e-05,\n",
        "       inactive_window=50, inference_cache=0, logger=None, max_iter=10000,\n",
        "       model=MultiLabelModel(n_states: 2, inference_method: ad3), n_jobs=1,\n",
        "       positive_constraint=None, show_loss_every=0, switch_to=None,\n",
        "       tol=1e-05, verbose=3)\n",
        "New violation: 0.978024 difference to last: 0.017946"
       ]
      },
      {
       "output_type": "stream",
       "stream": "stdout",
       "text": [
        "\n",
        "     pcost       dcost       gap    pres   dres\n",
        " 0: -1.3315e+02 -3.7617e+02  2e+02  2e-16  3e+00\n",
        " 1: -1.3521e+02 -1.5509e+02  2e+01  3e-15  2e-01\n",
        " 2: -1.3670e+02 -1.4050e+02  4e+00  3e-15  1e-03\n",
        " 3: -1.3733e+02 -1.3855e+02  1e+00  3e-15  6e-16\n",
        " 4: -1.3762e+02 -1.3794e+02  3e-01  4e-15  7e-16\n",
        " 5: -1.3778e+02 -1.3783e+02  5e-02  7e-15  7e-16\n",
        " 6: -1.3780e+02 -1.3781e+02  8e-03  6e-15  7e-16\n",
        " 7: -1.3781e+02 -1.3781e+02  2e-04  4e-15  7e-16\n",
        " 8: -1.3781e+02 -1.3781e+02  2e-06  6e-15  8e-16\n",
        "Optimal solution found.\n",
        "25 support vectors out of 81 points\n",
        "cutting plane objective: 137.806655, primal objective 139.968289\n",
        "iteration 165\n",
        "OneSlackSSVM(C=0.1, break_on_bad=False, cache_tol=auto,\n",
        "       check_constraints=False, inactive_threshold=1e-05,\n",
        "       inactive_window=50, inference_cache=0, logger=None, max_iter=10000,\n",
        "       model=MultiLabelModel(n_states: 2, inference_method: ad3), n_jobs=1,\n",
        "       positive_constraint=None, show_loss_every=0, switch_to=None,\n",
        "       tol=1e-05, verbose=3)\n",
        "New violation: 0.975142 difference to last: 0.015097"
       ]
      },
      {
       "output_type": "stream",
       "stream": "stdout",
       "text": [
        "\n",
        "     pcost       dcost       gap    pres   dres\n",
        " 0: -1.3338e+02 -3.7590e+02  2e+02  3e-16  3e+00\n",
        " 1: -1.3537e+02 -1.5550e+02  2e+01  2e-15  2e-01\n",
        " 2: -1.3670e+02 -1.4064e+02  4e+00  3e-15  8e-03\n",
        " 3: -1.3733e+02 -1.3855e+02  1e+00  8e-15  6e-16\n",
        " 4: -1.3763e+02 -1.3794e+02  3e-01  4e-15  7e-16\n",
        " 5: -1.3780e+02 -1.3784e+02  4e-02  4e-15  8e-16\n",
        " 6: -1.3782e+02 -1.3782e+02  4e-03  6e-15  8e-16\n",
        " 7: -1.3782e+02 -1.3782e+02  1e-04  6e-15  7e-16\n",
        "Optimal solution found.\n",
        "29 support vectors out of 82 points\n",
        "cutting plane objective: 137.817637, primal objective 139.634948\n",
        "iteration 166\n",
        "OneSlackSSVM(C=0.1, break_on_bad=False, cache_tol=auto,\n",
        "       check_constraints=False, inactive_threshold=1e-05,\n",
        "       inactive_window=50, inference_cache=0, logger=None, max_iter=10000,\n",
        "       model=MultiLabelModel(n_states: 2, inference_method: ad3), n_jobs=1,\n",
        "       positive_constraint=None, show_loss_every=0, switch_to=None,\n",
        "       tol=1e-05, verbose=3)\n",
        "New violation: 0.975797 difference to last: 0.015756"
       ]
      },
      {
       "output_type": "stream",
       "stream": "stdout",
       "text": [
        "\n",
        "     pcost       dcost       gap    pres   dres\n",
        " 0: -1.3352e+02 -3.7169e+02  2e+02  2e-16  3e+00\n",
        " 1: -1.3544e+02 -1.5615e+02  2e+01  3e-15  2e-01\n",
        " 2: -1.3669e+02 -1.4079e+02  4e+00  3e-15  2e-02\n",
        " 3: -1.3732e+02 -1.3859e+02  1e+00  3e-15  6e-16\n",
        " 4: -1.3762e+02 -1.3799e+02  4e-01  4e-15  7e-16\n",
        " 5: -1.3780e+02 -1.3785e+02  5e-02  5e-15  7e-16\n",
        " 6: -1.3782e+02 -1.3784e+02  1e-02  6e-15  6e-16\n",
        " 7: -1.3783e+02 -1.3783e+02  2e-03  6e-15  8e-16\n",
        " 8: -1.3783e+02 -1.3783e+02  9e-05  5e-15  7e-16\n",
        "Optimal solution found.\n",
        "28 support vectors out of 83 points\n",
        "cutting plane objective: 137.829293, primal objective 139.725726\n",
        "iteration 167\n",
        "OneSlackSSVM(C=0.1, break_on_bad=False, cache_tol=auto,\n",
        "       check_constraints=False, inactive_threshold=1e-05,\n",
        "       inactive_window=50, inference_cache=0, logger=None, max_iter=10000,\n",
        "       model=MultiLabelModel(n_states: 2, inference_method: ad3), n_jobs=1,\n",
        "       positive_constraint=None, show_loss_every=0, switch_to=None,\n",
        "       tol=1e-05, verbose=3)\n",
        "New violation: 0.973380 difference to last: 0.013059"
       ]
      },
      {
       "output_type": "stream",
       "stream": "stdout",
       "text": [
        "\n",
        "     pcost       dcost       gap    pres   dres\n",
        " 0: -1.3342e+02 -3.7868e+02  2e+02  2e-16  3e+00\n",
        " 1: -1.3538e+02 -1.5631e+02  2e+01  3e-15  2e-01\n",
        " 2: -1.3670e+02 -1.4086e+02  4e+00  2e-15  1e-02\n",
        " 3: -1.3732e+02 -1.3860e+02  1e+00  4e-15  7e-16\n",
        " 4: -1.3763e+02 -1.3799e+02  4e-01  5e-15  6e-16\n",
        " 5: -1.3781e+02 -1.3786e+02  5e-02  4e-15  7e-16\n",
        " 6: -1.3783e+02 -1.3784e+02  1e-02  6e-15  7e-16\n",
        " 7: -1.3784e+02 -1.3784e+02  1e-03  7e-15  7e-16\n",
        " 8: -1.3784e+02 -1.3784e+02  4e-05  5e-15  7e-16\n",
        "Optimal solution found.\n",
        "28 support vectors out of 84 points\n",
        "cutting plane objective: 137.837097, primal objective 139.410807\n",
        "iteration 168\n",
        "OneSlackSSVM(C=0.1, break_on_bad=False, cache_tol=auto,\n",
        "       check_constraints=False, inactive_threshold=1e-05,\n",
        "       inactive_window=50, inference_cache=0, logger=None, max_iter=10000,\n",
        "       model=MultiLabelModel(n_states: 2, inference_method: ad3), n_jobs=1,\n",
        "       positive_constraint=None, show_loss_every=0, switch_to=None,\n",
        "       tol=1e-05, verbose=3)\n",
        "New violation: 0.973383 difference to last: 0.012884"
       ]
      },
      {
       "output_type": "stream",
       "stream": "stdout",
       "text": [
        "\n",
        "     pcost       dcost       gap    pres   dres\n",
        " 0: -1.3362e+02 -3.7249e+02  2e+02  2e-16  3e+00\n",
        " 1: -1.3550e+02 -1.5611e+02  2e+01  2e-15  2e-01\n",
        " 2: -1.3671e+02 -1.4107e+02  4e+00  2e-15  2e-02\n",
        " 3: -1.3732e+02 -1.3868e+02  1e+00  3e-15  6e-16\n",
        " 4: -1.3762e+02 -1.3802e+02  4e-01  3e-15  6e-16\n",
        " 5: -1.3782e+02 -1.3786e+02  5e-02  5e-15  8e-16\n",
        " 6: -1.3784e+02 -1.3785e+02  7e-03  5e-15  8e-16\n",
        " 7: -1.3784e+02 -1.3784e+02  8e-04  6e-15  7e-16\n",
        " 8: -1.3784e+02 -1.3784e+02  3e-05  7e-15  8e-16\n",
        "Optimal solution found.\n",
        "28 support vectors out of 85 points\n",
        "cutting plane objective: 137.843676, primal objective 139.397368\n",
        "iteration 169\n",
        "OneSlackSSVM(C=0.1, break_on_bad=False, cache_tol=auto,\n",
        "       check_constraints=False, inactive_threshold=1e-05,\n",
        "       inactive_window=50, inference_cache=0, logger=None, max_iter=10000,\n",
        "       model=MultiLabelModel(n_states: 2, inference_method: ad3), n_jobs=1,\n",
        "       positive_constraint=None, show_loss_every=0, switch_to=None,\n",
        "       tol=1e-05, verbose=3)\n",
        "New violation: 0.974646 difference to last: 0.013904"
       ]
      },
      {
       "output_type": "stream",
       "stream": "stdout",
       "text": [
        "\n",
        "     pcost       dcost       gap    pres   dres\n",
        " 0: -1.3343e+02 -3.6923e+02  2e+02  4e-17  3e+00\n",
        " 1: -1.3541e+02 -1.5787e+02  2e+01  3e-15  2e-01\n",
        " 2: -1.3674e+02 -1.4134e+02  5e+00  3e-15  2e-02\n",
        " 3: -1.3732e+02 -1.3853e+02  1e+00  3e-15  5e-16\n",
        " 4: -1.3768e+02 -1.3797e+02  3e-01  5e-15  6e-16\n",
        " 5: -1.3783e+02 -1.3787e+02  5e-02  5e-15  8e-16\n",
        " 6: -1.3785e+02 -1.3785e+02  6e-03  7e-15  7e-16\n",
        " 7: -1.3785e+02 -1.3785e+02  2e-04  5e-15  7e-16\n",
        " 8: -1.3785e+02 -1.3785e+02  2e-06  6e-15  7e-16\n",
        "Optimal solution found.\n",
        "25 support vectors out of 85 points\n",
        "cutting plane objective: 137.851659, primal objective 139.527527\n",
        "iteration 170\n",
        "OneSlackSSVM(C=0.1, break_on_bad=False, cache_tol=auto,\n",
        "       check_constraints=False, inactive_threshold=1e-05,\n",
        "       inactive_window=50, inference_cache=0, logger=None, max_iter=10000,\n",
        "       model=MultiLabelModel(n_states: 2, inference_method: ad3), n_jobs=1,\n",
        "       positive_constraint=None, show_loss_every=0, switch_to=None,\n",
        "       tol=1e-05, verbose=3)\n",
        "New violation: 0.973133 difference to last: 0.012128"
       ]
      },
      {
       "output_type": "stream",
       "stream": "stdout",
       "text": [
        "\n",
        "     pcost       dcost       gap    pres   dres\n",
        " 0: -1.3351e+02 -3.7181e+02  2e+02  1e-16  3e+00\n",
        " 1: -1.3542e+02 -1.5750e+02  2e+01  2e-15  2e-01\n",
        " 2: -1.3676e+02 -1.4133e+02  5e+00  3e-15  1e-02\n",
        " 3: -1.3733e+02 -1.3854e+02  1e+00  5e-15  7e-16\n",
        " 4: -1.3770e+02 -1.3797e+02  3e-01  3e-15  7e-16\n",
        " 5: -1.3783e+02 -1.3788e+02  5e-02  4e-15  6e-16\n",
        " 6: -1.3785e+02 -1.3787e+02  1e-02  6e-15  7e-16\n",
        " 7: -1.3786e+02 -1.3786e+02  8e-04  5e-15  7e-16\n",
        " 8: -1.3786e+02 -1.3786e+02  1e-05  4e-15  7e-16\n",
        "Optimal solution found.\n",
        "27 support vectors out of 86 points\n",
        "cutting plane objective: 137.861110, primal objective 139.320310\n",
        "iteration 171\n",
        "OneSlackSSVM(C=0.1, break_on_bad=False, cache_tol=auto,\n",
        "       check_constraints=False, inactive_threshold=1e-05,\n",
        "       inactive_window=50, inference_cache=0, logger=None, max_iter=10000,\n",
        "       model=MultiLabelModel(n_states: 2, inference_method: ad3), n_jobs=1,\n",
        "       positive_constraint=None, show_loss_every=0, switch_to=None,\n",
        "       tol=1e-05, verbose=3)\n",
        "New violation: 0.974510 difference to last: 0.013648"
       ]
      },
      {
       "output_type": "stream",
       "stream": "stdout",
       "text": [
        "\n",
        "     pcost       dcost       gap    pres   dres\n",
        " 0: -1.3353e+02 -3.7183e+02  2e+02  9e-17  3e+00\n",
        " 1: -1.3545e+02 -1.5798e+02  2e+01  3e-15  2e-01\n",
        " 2: -1.3676e+02 -1.4142e+02  5e+00  3e-15  2e-02\n",
        " 3: -1.3734e+02 -1.3857e+02  1e+00  6e-15  6e-16\n",
        " 4: -1.3770e+02 -1.3799e+02  3e-01  4e-15  6e-16\n",
        " 5: -1.3785e+02 -1.3789e+02  5e-02  4e-15  7e-16\n",
        " 6: -1.3787e+02 -1.3788e+02  4e-03  3e-15  9e-16\n",
        " 7: -1.3787e+02 -1.3787e+02  2e-04  5e-15  9e-16\n",
        " 8: -1.3787e+02 -1.3787e+02  7e-06  5e-15  7e-16\n",
        "Optimal solution found.\n",
        "29 support vectors out of 87 points\n",
        "cutting plane objective: 137.873397, primal objective 139.513940\n",
        "iteration 172\n",
        "OneSlackSSVM(C=0.1, break_on_bad=False, cache_tol=auto,\n",
        "       check_constraints=False, inactive_threshold=1e-05,\n",
        "       inactive_window=50, inference_cache=0, logger=None, max_iter=10000,\n",
        "       model=MultiLabelModel(n_states: 2, inference_method: ad3), n_jobs=1,\n",
        "       positive_constraint=None, show_loss_every=0, switch_to=None,\n",
        "       tol=1e-05, verbose=3)\n",
        "New violation: 0.973445 difference to last: 0.012617"
       ]
      },
      {
       "output_type": "stream",
       "stream": "stdout",
       "text": [
        "\n",
        "     pcost       dcost       gap    pres   dres\n",
        " 0: -1.3359e+02 -3.7362e+02  2e+02  4e-16  3e+00\n",
        " 1: -1.3546e+02 -1.5821e+02  2e+01  3e-15  2e-01\n",
        " 2: -1.3684e+02 -1.4126e+02  4e+00  3e-15  1e-03\n",
        " 3: -1.3737e+02 -1.3859e+02  1e+00  3e-15  7e-16\n",
        " 4: -1.3771e+02 -1.3801e+02  3e-01  5e-15  6e-16\n",
        " 5: -1.3786e+02 -1.3791e+02  5e-02  4e-15  7e-16\n",
        " 6: -1.3788e+02 -1.3789e+02  1e-02  4e-15  6e-16\n",
        " 7: -1.3788e+02 -1.3788e+02  5e-04  3e-15  6e-16\n",
        " 8: -1.3788e+02 -1.3788e+02  2e-05  6e-15  8e-16\n",
        "Optimal solution found.\n",
        "30 support vectors out of 87 points\n",
        "cutting plane objective: 137.884158, primal objective 139.401354\n",
        "iteration 173\n",
        "OneSlackSSVM(C=0.1, break_on_bad=False, cache_tol=auto,\n",
        "       check_constraints=False, inactive_threshold=1e-05,\n",
        "       inactive_window=50, inference_cache=0, logger=None, max_iter=10000,\n",
        "       model=MultiLabelModel(n_states: 2, inference_method: ad3), n_jobs=1,\n",
        "       positive_constraint=None, show_loss_every=0, switch_to=None,\n",
        "       tol=1e-05, verbose=3)\n",
        "New violation: 0.972882 difference to last: 0.011918"
       ]
      },
      {
       "output_type": "stream",
       "stream": "stdout",
       "text": [
        "\n",
        "     pcost       dcost       gap    pres   dres\n",
        " 0: -1.3366e+02 -3.7053e+02  2e+02  1e-16  3e+00\n",
        " 1: -1.3552e+02 -1.5808e+02  2e+01  2e-15  2e-01\n",
        " 2: -1.3684e+02 -1.4130e+02  4e+00  2e-15  7e-03\n",
        " 3: -1.3738e+02 -1.3858e+02  1e+00  3e-15  6e-16\n",
        " 4: -1.3771e+02 -1.3803e+02  3e-01  5e-15  6e-16\n",
        " 5: -1.3786e+02 -1.3792e+02  5e-02  7e-15  8e-16\n",
        " 6: -1.3789e+02 -1.3790e+02  7e-03  4e-15  7e-16\n",
        " 7: -1.3789e+02 -1.3789e+02  2e-04  4e-15  7e-16\n",
        " 8: -1.3789e+02 -1.3789e+02  3e-06  5e-15  8e-16\n",
        "Optimal solution found.\n",
        "30 support vectors out of 88 points\n",
        "cutting plane objective: 137.891936, primal objective 139.327497\n",
        "iteration 174\n",
        "OneSlackSSVM(C=0.1, break_on_bad=False, cache_tol=auto,\n",
        "       check_constraints=False, inactive_threshold=1e-05,\n",
        "       inactive_window=50, inference_cache=0, logger=None, max_iter=10000,\n",
        "       model=MultiLabelModel(n_states: 2, inference_method: ad3), n_jobs=1,\n",
        "       positive_constraint=None, show_loss_every=0, switch_to=None,\n",
        "       tol=1e-05, verbose=3)\n",
        "New violation: 0.973607 difference to last: 0.012702"
       ]
      },
      {
       "output_type": "stream",
       "stream": "stdout",
       "text": [
        "\n",
        "     pcost       dcost       gap    pres   dres\n",
        " 0: -1.3386e+02 -3.6782e+02  2e+02  2e-17  3e+00\n",
        " 1: -1.3551e+02 -1.5773e+02  2e+01  2e-15  2e-01\n",
        " 2: -1.3690e+02 -1.4122e+02  4e+00  2e-15  6e-03\n",
        " 3: -1.3743e+02 -1.3871e+02  1e+00  3e-15  1e-04\n",
        " 4: -1.3771e+02 -1.3807e+02  4e-01  3e-15  1e-05\n",
        " 5: -1.3787e+02 -1.3793e+02  7e-02  5e-15  7e-07\n",
        " 6: -1.3790e+02 -1.3791e+02  9e-03  5e-15  8e-08\n",
        " 7: -1.3790e+02 -1.3790e+02  8e-04  5e-15  3e-09\n",
        " 8: -1.3790e+02 -1.3790e+02  2e-05  6e-15  4e-11\n",
        "Optimal solution found.\n",
        "29 support vectors out of 86 points\n",
        "cutting plane objective: 137.902135, primal objective 139.430109\n",
        "iteration 175\n",
        "OneSlackSSVM(C=0.1, break_on_bad=False, cache_tol=auto,\n",
        "       check_constraints=False, inactive_threshold=1e-05,\n",
        "       inactive_window=50, inference_cache=0, logger=None, max_iter=10000,\n",
        "       model=MultiLabelModel(n_states: 2, inference_method: ad3), n_jobs=1,\n",
        "       positive_constraint=None, show_loss_every=0, switch_to=None,\n",
        "       tol=1e-05, verbose=3)\n",
        "New violation: 0.972399 difference to last: 0.011474"
       ]
      },
      {
       "output_type": "stream",
       "stream": "stdout",
       "text": [
        "\n",
        "     pcost       dcost       gap    pres   dres\n",
        " 0: -1.3374e+02 -3.5640e+02  2e+02  1e-16  3e+00\n",
        " 1: -1.3550e+02 -1.5826e+02  2e+01  2e-15  2e-01\n",
        " 2: -1.3686e+02 -1.4171e+02  5e+00  3e-15  2e-02\n",
        " 3: -1.3741e+02 -1.3870e+02  1e+00  3e-15  5e-04\n",
        " 4: -1.3772e+02 -1.3807e+02  3e-01  3e-15  5e-05\n",
        " 5: -1.3788e+02 -1.3794e+02  6e-02  5e-15  6e-16\n",
        " 6: -1.3791e+02 -1.3792e+02  1e-02  6e-15  6e-16\n",
        " 7: -1.3791e+02 -1.3791e+02  9e-04  5e-15  7e-16\n",
        " 8: -1.3791e+02 -1.3791e+02  3e-05  4e-15  7e-16\n",
        "Optimal solution found.\n",
        "31 support vectors out of 86 points\n",
        "cutting plane objective: 137.910734, primal objective 139.291678\n",
        "iteration 176\n",
        "OneSlackSSVM(C=0.1, break_on_bad=False, cache_tol=auto,\n",
        "       check_constraints=False, inactive_threshold=1e-05,\n",
        "       inactive_window=50, inference_cache=0, logger=None, max_iter=10000,\n",
        "       model=MultiLabelModel(n_states: 2, inference_method: ad3), n_jobs=1,\n",
        "       positive_constraint=None, show_loss_every=0, switch_to=None,\n",
        "       tol=1e-05, verbose=3)\n",
        "New violation: 0.972420 difference to last: 0.011314"
       ]
      },
      {
       "output_type": "stream",
       "stream": "stdout",
       "text": [
        "\n",
        "     pcost       dcost       gap    pres   dres\n",
        " 0: -1.3376e+02 -3.6117e+02  2e+02  2e-16  3e+00\n",
        " 1: -1.3554e+02 -1.5866e+02  2e+01  2e-15  2e-01\n",
        " 2: -1.3687e+02 -1.4175e+02  5e+00  3e-15  2e-02\n",
        " 3: -1.3742e+02 -1.3869e+02  1e+00  4e-15  2e-04\n",
        " 4: -1.3774e+02 -1.3807e+02  3e-01  4e-15  2e-05\n",
        " 5: -1.3789e+02 -1.3795e+02  6e-02  4e-15  7e-16\n",
        " 6: -1.3791e+02 -1.3792e+02  1e-02  4e-15  7e-16\n",
        " 7: -1.3792e+02 -1.3792e+02  7e-04  6e-15  7e-16\n",
        " 8: -1.3792e+02 -1.3792e+02  2e-05  5e-15  7e-16\n",
        "Optimal solution found.\n",
        "29 support vectors out of 87 points\n",
        "cutting plane objective: 137.919252, primal objective 139.280868\n",
        "iteration 177\n",
        "OneSlackSSVM(C=0.1, break_on_bad=False, cache_tol=auto,\n",
        "       check_constraints=False, inactive_threshold=1e-05,\n",
        "       inactive_window=50, inference_cache=0, logger=None, max_iter=10000,\n",
        "       model=MultiLabelModel(n_states: 2, inference_method: ad3), n_jobs=1,\n",
        "       positive_constraint=None, show_loss_every=0, switch_to=None,\n",
        "       tol=1e-05, verbose=3)\n",
        "New violation: 0.971088 difference to last: 0.010018"
       ]
      },
      {
       "output_type": "stream",
       "stream": "stdout",
       "text": [
        "\n",
        "     pcost       dcost       gap    pres   dres\n",
        " 0: -1.3392e+02 -3.5602e+02  2e+02  4e-16  3e+00\n",
        " 1: -1.3563e+02 -1.5831e+02  2e+01  3e-15  2e-01\n",
        " 2: -1.3689e+02 -1.4168e+02  5e+00  2e-15  3e-02\n",
        " 3: -1.3743e+02 -1.3877e+02  1e+00  5e-15  8e-04\n",
        " 4: -1.3772e+02 -1.3812e+02  4e-01  3e-15  1e-04\n",
        " 5: -1.3790e+02 -1.3796e+02  6e-02  5e-15  6e-16\n",
        " 6: -1.3792e+02 -1.3793e+02  1e-02  4e-15  7e-16\n",
        " 7: -1.3793e+02 -1.3793e+02  7e-04  4e-15  7e-16\n",
        " 8: -1.3793e+02 -1.3793e+02  2e-05  5e-15  7e-16\n",
        "Optimal solution found.\n",
        "32 support vectors out of 88 points\n",
        "cutting plane objective: 137.925615, primal objective 139.132438\n",
        "iteration 178\n",
        "OneSlackSSVM(C=0.1, break_on_bad=False, cache_tol=auto,\n",
        "       check_constraints=False, inactive_threshold=1e-05,\n",
        "       inactive_window=50, inference_cache=0, logger=None, max_iter=10000,\n",
        "       model=MultiLabelModel(n_states: 2, inference_method: ad3), n_jobs=1,\n",
        "       positive_constraint=None, show_loss_every=0, switch_to=None,\n",
        "       tol=1e-05, verbose=3)\n",
        "New violation: 0.972864 difference to last: 0.011872"
       ]
      },
      {
       "output_type": "stream",
       "stream": "stdout",
       "text": [
        "\n",
        "     pcost       dcost       gap    pres   dres\n",
        " 0: -1.3381e+02 -3.5677e+02  2e+02  3e-16  3e+00\n",
        " 1: -1.3559e+02 -1.5850e+02  2e+01  3e-15  2e-01\n",
        " 2: -1.3689e+02 -1.4173e+02  5e+00  2e-15  3e-02\n",
        " 3: -1.3743e+02 -1.3876e+02  1e+00  3e-15  6e-04\n",
        " 4: -1.3772e+02 -1.3812e+02  4e-01  3e-15  9e-05\n",
        " 5: -1.3790e+02 -1.3796e+02  6e-02  3e-15  6e-16\n",
        " 6: -1.3793e+02 -1.3794e+02  8e-03  5e-15  6e-16\n",
        " 7: -1.3793e+02 -1.3793e+02  4e-04  4e-15  7e-16\n",
        " 8: -1.3793e+02 -1.3793e+02  1e-05  5e-15  7e-16\n",
        "Optimal solution found.\n",
        "31 support vectors out of 89 points\n",
        "cutting plane objective: 137.931718, primal objective 139.363322\n",
        "iteration 179\n",
        "OneSlackSSVM(C=0.1, break_on_bad=False, cache_tol=auto,\n",
        "       check_constraints=False, inactive_threshold=1e-05,\n",
        "       inactive_window=50, inference_cache=0, logger=None, max_iter=10000,\n",
        "       model=MultiLabelModel(n_states: 2, inference_method: ad3), n_jobs=1,\n",
        "       positive_constraint=None, show_loss_every=0, switch_to=None,\n",
        "       tol=1e-05, verbose=3)\n",
        "New violation: 0.970930 difference to last: 0.009947"
       ]
      },
      {
       "output_type": "stream",
       "stream": "stdout",
       "text": [
        "\n",
        "     pcost       dcost       gap    pres   dres\n",
        " 0: -1.3413e+02 -3.6148e+02  2e+02  1e-16  3e+00\n",
        " 1: -1.3576e+02 -1.5712e+02  2e+01  3e-15  2e-01\n",
        " 2: -1.3696e+02 -1.4157e+02  5e+00  3e-15  3e-02\n",
        " 3: -1.3747e+02 -1.3872e+02  1e+00  3e-15  2e-03\n",
        " 4: -1.3776e+02 -1.3809e+02  3e-01  4e-15  2e-04\n",
        " 5: -1.3789e+02 -1.3798e+02  9e-02  4e-15  2e-05\n",
        " 6: -1.3793e+02 -1.3795e+02  2e-02  5e-15  5e-06\n",
        " 7: -1.3794e+02 -1.3794e+02  2e-03  5e-15  3e-07\n",
        " 8: -1.3794e+02 -1.3794e+02  5e-05  4e-15  4e-09\n",
        "Optimal solution found.\n",
        "34 support vectors out of 88 points\n",
        "cutting plane objective: 137.938413, primal objective 139.136323\n",
        "iteration 180\n",
        "OneSlackSSVM(C=0.1, break_on_bad=False, cache_tol=auto,\n",
        "       check_constraints=False, inactive_threshold=1e-05,\n",
        "       inactive_window=50, inference_cache=0, logger=None, max_iter=10000,\n",
        "       model=MultiLabelModel(n_states: 2, inference_method: ad3), n_jobs=1,\n",
        "       positive_constraint=None, show_loss_every=0, switch_to=None,\n",
        "       tol=1e-05, verbose=3)\n",
        "New violation: 0.971299 difference to last: 0.010103"
       ]
      },
      {
       "output_type": "stream",
       "stream": "stdout",
       "text": [
        "\n",
        "     pcost       dcost       gap    pres   dres\n",
        " 0: -1.3417e+02 -3.5756e+02  2e+02  2e-16  3e+00\n",
        " 1: -1.3576e+02 -1.5755e+02  2e+01  2e-15  2e-01\n",
        " 2: -1.3693e+02 -1.4174e+02  5e+00  3e-15  3e-02\n",
        " 3: -1.3747e+02 -1.3877e+02  1e+00  3e-15  2e-03\n",
        " 4: -1.3775e+02 -1.3812e+02  4e-01  3e-15  2e-04\n",
        " 5: -1.3789e+02 -1.3799e+02  1e-01  5e-15  3e-05\n",
        " 6: -1.3794e+02 -1.3795e+02  2e-02  4e-15  3e-06\n",
        " 7: -1.3794e+02 -1.3795e+02  2e-03  6e-15  7e-16\n",
        " 8: -1.3795e+02 -1.3795e+02  1e-04  4e-15  7e-16\n",
        "Optimal solution found.\n",
        "36 support vectors out of 89 points\n",
        "cutting plane objective: 137.945880, primal objective 139.161891\n",
        "iteration 181\n",
        "OneSlackSSVM(C=0.1, break_on_bad=False, cache_tol=auto,\n",
        "       check_constraints=False, inactive_threshold=1e-05,\n",
        "       inactive_window=50, inference_cache=0, logger=None, max_iter=10000,\n",
        "       model=MultiLabelModel(n_states: 2, inference_method: ad3), n_jobs=1,\n",
        "       positive_constraint=None, show_loss_every=0, switch_to=None,\n",
        "       tol=1e-05, verbose=3)\n",
        "New violation: 0.972094 difference to last: 0.010732"
       ]
      },
      {
       "output_type": "stream",
       "stream": "stdout",
       "text": [
        "\n",
        "     pcost       dcost       gap    pres   dres\n",
        " 0: -1.3371e+02 -3.5284e+02  2e+02  1e-16  3e+00\n",
        " 1: -1.3571e+02 -1.5943e+02  2e+01  3e-15  3e-01\n",
        " 2: -1.3704e+02 -1.4161e+02  5e+00  3e-15  2e-02\n",
        " 3: -1.3753e+02 -1.3891e+02  1e+00  4e-15  5e-04\n",
        " 4: -1.3776e+02 -1.3810e+02  3e-01  3e-15  8e-05\n",
        " 5: -1.3790e+02 -1.3800e+02  1e-01  5e-15  1e-05\n",
        " 6: -1.3795e+02 -1.3795e+02  8e-03  4e-15  8e-08\n",
        " 7: -1.3795e+02 -1.3795e+02  6e-04  4e-15  5e-09\n",
        " 8: -1.3795e+02 -1.3795e+02  2e-05  5e-15  1e-10\n",
        "Optimal solution found.\n",
        "29 support vectors out of 86 points\n",
        "cutting plane objective: 137.951409, primal objective 139.245574\n",
        "iteration 182\n",
        "OneSlackSSVM(C=0.1, break_on_bad=False, cache_tol=auto,\n",
        "       check_constraints=False, inactive_threshold=1e-05,\n",
        "       inactive_window=50, inference_cache=0, logger=None, max_iter=10000,\n",
        "       model=MultiLabelModel(n_states: 2, inference_method: ad3), n_jobs=1,\n",
        "       positive_constraint=None, show_loss_every=0, switch_to=None,\n",
        "       tol=1e-05, verbose=3)\n",
        "New violation: 0.970221 difference to last: 0.008920"
       ]
      },
      {
       "output_type": "stream",
       "stream": "stdout",
       "text": [
        "\n",
        "     pcost       dcost       gap    pres   dres\n",
        " 0: -1.3392e+02 -3.5155e+02  2e+02  3e-17  3e+00\n",
        " 1: -1.3582e+02 -1.5849e+02  2e+01  2e-15  2e-01\n",
        " 2: -1.3706e+02 -1.4164e+02  5e+00  3e-15  2e-02\n",
        " 3: -1.3754e+02 -1.3887e+02  1e+00  3e-15  4e-04\n",
        " 4: -1.3777e+02 -1.3811e+02  3e-01  3e-15  7e-05\n",
        " 5: -1.3790e+02 -1.3801e+02  1e-01  3e-15  1e-05\n",
        " 6: -1.3794e+02 -1.3797e+02  2e-02  4e-15  2e-06\n",
        " 7: -1.3796e+02 -1.3796e+02  2e-03  5e-15  6e-16\n",
        " 8: -1.3796e+02 -1.3796e+02  1e-04  6e-15  6e-16\n",
        "Optimal solution found.\n",
        "36 support vectors out of 87 points\n",
        "cutting plane objective: 137.956566, primal objective 139.031678\n",
        "iteration 183\n",
        "OneSlackSSVM(C=0.1, break_on_bad=False, cache_tol=auto,\n",
        "       check_constraints=False, inactive_threshold=1e-05,\n",
        "       inactive_window=50, inference_cache=0, logger=None, max_iter=10000,\n",
        "       model=MultiLabelModel(n_states: 2, inference_method: ad3), n_jobs=1,\n",
        "       positive_constraint=None, show_loss_every=0, switch_to=None,\n",
        "       tol=1e-05, verbose=3)\n",
        "New violation: 0.970243 difference to last: 0.008995"
       ]
      },
      {
       "output_type": "stream",
       "stream": "stdout",
       "text": [
        "\n",
        "     pcost       dcost       gap    pres   dres\n",
        " 0: -1.3391e+02 -3.5239e+02  2e+02  7e-17  2e+00\n",
        " 1: -1.3584e+02 -1.5860e+02  2e+01  3e-15  2e-01\n",
        " 2: -1.3708e+02 -1.4164e+02  5e+00  3e-15  2e-02\n",
        " 3: -1.3755e+02 -1.3884e+02  1e+00  3e-15  3e-04\n",
        " 4: -1.3778e+02 -1.3810e+02  3e-01  3e-15  4e-05\n",
        " 5: -1.3791e+02 -1.3801e+02  1e-01  4e-15  9e-06\n",
        " 6: -1.3795e+02 -1.3797e+02  2e-02  4e-15  1e-06\n",
        " 7: -1.3796e+02 -1.3796e+02  1e-03  4e-15  4e-08\n",
        " 8: -1.3796e+02 -1.3796e+02  4e-05  8e-15  1e-09\n",
        "Optimal solution found.\n",
        "32 support vectors out of 88 points\n",
        "cutting plane objective: 137.963584, primal objective 139.046009\n",
        "iteration 184\n",
        "OneSlackSSVM(C=0.1, break_on_bad=False, cache_tol=auto,\n",
        "       check_constraints=False, inactive_threshold=1e-05,\n",
        "       inactive_window=50, inference_cache=0, logger=None, max_iter=10000,\n",
        "       model=MultiLabelModel(n_states: 2, inference_method: ad3), n_jobs=1,\n",
        "       positive_constraint=None, show_loss_every=0, switch_to=None,\n",
        "       tol=1e-05, verbose=3)\n",
        "New violation: 0.969967 difference to last: 0.008878"
       ]
      },
      {
       "output_type": "stream",
       "stream": "stdout",
       "text": [
        "\n",
        "     pcost       dcost       gap    pres   dres\n",
        " 0: -1.3421e+02 -3.4485e+02  2e+02  1e-16  2e+00\n",
        " 1: -1.3600e+02 -1.5766e+02  2e+01  3e-15  2e-01\n",
        " 2: -1.3710e+02 -1.4165e+02  5e+00  3e-15  3e-02\n",
        " 3: -1.3757e+02 -1.3878e+02  1e+00  3e-15  5e-04\n",
        " 4: -1.3780e+02 -1.3810e+02  3e-01  3e-15  7e-05\n",
        " 5: -1.3792e+02 -1.3801e+02  1e-01  4e-15  2e-05\n",
        " 6: -1.3796e+02 -1.3798e+02  2e-02  4e-15  2e-06\n",
        " 7: -1.3797e+02 -1.3797e+02  1e-03  6e-15  7e-16\n",
        " 8: -1.3797e+02 -1.3797e+02  4e-05  4e-15  7e-16\n",
        "Optimal solution found.\n",
        "32 support vectors out of 88 points\n",
        "cutting plane objective: 137.970225, primal objective 139.038786\n",
        "iteration 185\n",
        "OneSlackSSVM(C=0.1, break_on_bad=False, cache_tol=auto,\n",
        "       check_constraints=False, inactive_threshold=1e-05,\n",
        "       inactive_window=50, inference_cache=0, logger=None, max_iter=10000,\n",
        "       model=MultiLabelModel(n_states: 2, inference_method: ad3), n_jobs=1,\n",
        "       positive_constraint=None, show_loss_every=0, switch_to=None,\n",
        "       tol=1e-05, verbose=3)\n",
        "New violation: 0.970211 difference to last: 0.009143"
       ]
      },
      {
       "output_type": "stream",
       "stream": "stdout",
       "text": [
        "\n",
        "     pcost       dcost       gap    pres   dres\n",
        " 0: -1.3443e+02 -3.4284e+02  2e+02  3e-16  2e+00\n",
        " 1: -1.3611e+02 -1.5673e+02  2e+01  3e-15  2e-01\n",
        " 2: -1.3714e+02 -1.4162e+02  4e+00  3e-15  3e-02\n",
        " 3: -1.3758e+02 -1.3872e+02  1e+00  3e-15  8e-04\n",
        " 4: -1.3782e+02 -1.3811e+02  3e-01  4e-15  1e-04\n",
        " 5: -1.3792e+02 -1.3802e+02  1e-01  4e-15  3e-05\n",
        " 6: -1.3796e+02 -1.3799e+02  2e-02  4e-15  4e-06\n",
        " 7: -1.3798e+02 -1.3798e+02  1e-03  5e-15  8e-08\n",
        " 8: -1.3798e+02 -1.3798e+02  2e-05  3e-15  1e-09\n",
        "Optimal solution found.\n",
        "32 support vectors out of 88 points\n",
        "cutting plane objective: 137.976676, primal objective 139.077523\n",
        "iteration 186\n",
        "OneSlackSSVM(C=0.1, break_on_bad=False, cache_tol=auto,\n",
        "       check_constraints=False, inactive_threshold=1e-05,\n",
        "       inactive_window=50, inference_cache=0, logger=None, max_iter=10000,\n",
        "       model=MultiLabelModel(n_states: 2, inference_method: ad3), n_jobs=1,\n",
        "       positive_constraint=None, show_loss_every=0, switch_to=None,\n",
        "       tol=1e-05, verbose=3)\n",
        "New violation: 0.970368 difference to last: 0.009298"
       ]
      },
      {
       "output_type": "stream",
       "stream": "stdout",
       "text": [
        "\n",
        "     pcost       dcost       gap    pres   dres"
       ]
      },
      {
       "output_type": "stream",
       "stream": "stdout",
       "text": [
        "\n",
        " 0: -1.3448e+02 -3.4369e+02  2e+02  3e-16  2e+00\n",
        " 1: -1.3610e+02 -1.5732e+02  2e+01  2e-15  2e-01\n",
        " 2: -1.3714e+02 -1.4171e+02  5e+00  2e-15  3e-02\n",
        " 3: -1.3759e+02 -1.3873e+02  1e+00  3e-15  5e-05\n",
        " 4: -1.3783e+02 -1.3811e+02  3e-01  3e-15  6e-06\n",
        " 5: -1.3794e+02 -1.3802e+02  8e-02  4e-15  1e-06\n",
        " 6: -1.3797e+02 -1.3799e+02  2e-02  5e-15  2e-07\n",
        " 7: -1.3798e+02 -1.3798e+02  1e-03  6e-15  7e-09\n",
        " 8: -1.3798e+02 -1.3798e+02  3e-05  7e-15  1e-10\n",
        "Optimal solution found.\n",
        "35 support vectors out of 89 points\n",
        "cutting plane objective: 137.983274, primal objective 139.102737\n",
        "iteration 187\n",
        "OneSlackSSVM(C=0.1, break_on_bad=False, cache_tol=auto,\n",
        "       check_constraints=False, inactive_threshold=1e-05,\n",
        "       inactive_window=50, inference_cache=0, logger=None, max_iter=10000,\n",
        "       model=MultiLabelModel(n_states: 2, inference_method: ad3), n_jobs=1,\n",
        "       positive_constraint=None, show_loss_every=0, switch_to=None,\n",
        "       tol=1e-05, verbose=3)\n",
        "New violation: 0.969988 difference to last: 0.008800"
       ]
      },
      {
       "output_type": "stream",
       "stream": "stdout",
       "text": [
        "\n",
        "     pcost       dcost       gap    pres   dres\n",
        " 0: -1.3449e+02 -3.4558e+02  2e+02  3e-16  2e+00\n",
        " 1: -1.3611e+02 -1.5763e+02  2e+01  3e-15  2e-01\n",
        " 2: -1.3715e+02 -1.4170e+02  5e+00  2e-15  3e-02\n",
        " 3: -1.3760e+02 -1.3874e+02  1e+00  3e-15  6e-16\n",
        " 4: -1.3783e+02 -1.3812e+02  3e-01  4e-15  4e-16\n",
        " 5: -1.3795e+02 -1.3802e+02  7e-02  4e-15  5e-16\n",
        " 6: -1.3799e+02 -1.3800e+02  1e-02  3e-15  6e-16\n",
        " 7: -1.3799e+02 -1.3799e+02  1e-03  4e-15  6e-16\n",
        " 8: -1.3799e+02 -1.3799e+02  3e-05  4e-15  6e-16\n",
        "Optimal solution found.\n",
        "33 support vectors out of 90 points\n",
        "cutting plane objective: 137.992230, primal objective 139.048987\n",
        "iteration 188\n",
        "OneSlackSSVM(C=0.1, break_on_bad=False, cache_tol=auto,\n",
        "       check_constraints=False, inactive_threshold=1e-05,\n",
        "       inactive_window=50, inference_cache=0, logger=None, max_iter=10000,\n",
        "       model=MultiLabelModel(n_states: 2, inference_method: ad3), n_jobs=1,\n",
        "       positive_constraint=None, show_loss_every=0, switch_to=None,\n",
        "       tol=1e-05, verbose=3)\n",
        "New violation: 0.969803 difference to last: 0.008505"
       ]
      },
      {
       "output_type": "stream",
       "stream": "stdout",
       "text": [
        "\n",
        "     pcost       dcost       gap    pres   dres\n",
        " 0: -1.3452e+02 -3.4247e+02  2e+02  4e-18  2e+00\n",
        " 1: -1.3616e+02 -1.5781e+02  2e+01  3e-15  2e-01\n",
        " 2: -1.3722e+02 -1.4148e+02  4e+00  2e-15  2e-02\n",
        " 3: -1.3762e+02 -1.3863e+02  1e+00  3e-15  5e-05\n",
        " 4: -1.3786e+02 -1.3810e+02  2e-01  3e-15  7e-06\n",
        " 5: -1.3797e+02 -1.3802e+02  5e-02  4e-15  8e-07\n",
        " 6: -1.3799e+02 -1.3800e+02  1e-02  6e-15  2e-07\n",
        " 7: -1.3800e+02 -1.3800e+02  2e-03  6e-15  6e-16\n",
        " 8: -1.3800e+02 -1.3800e+02  9e-05  6e-15  6e-16\n",
        "Optimal solution found.\n",
        "36 support vectors out of 90 points\n",
        "cutting plane objective: 137.998323, primal objective 139.022195\n",
        "iteration 189\n",
        "OneSlackSSVM(C=0.1, break_on_bad=False, cache_tol=auto,\n",
        "       check_constraints=False, inactive_threshold=1e-05,\n",
        "       inactive_window=50, inference_cache=0, logger=None, max_iter=10000,\n",
        "       model=MultiLabelModel(n_states: 2, inference_method: ad3), n_jobs=1,\n",
        "       positive_constraint=None, show_loss_every=0, switch_to=None,\n",
        "       tol=1e-05, verbose=3)\n",
        "New violation: 0.969283 difference to last: 0.008302"
       ]
      },
      {
       "output_type": "stream",
       "stream": "stdout",
       "text": [
        "\n",
        "     pcost       dcost       gap    pres   dres\n",
        " 0: -1.3467e+02 -3.4640e+02  2e+02  2e-16  2e+00\n",
        " 1: -1.3626e+02 -1.5763e+02  2e+01  3e-15  2e-01\n",
        " 2: -1.3725e+02 -1.4129e+02  4e+00  2e-15  2e-02\n",
        " 3: -1.3764e+02 -1.3864e+02  1e+00  3e-15  6e-16\n",
        " 4: -1.3786e+02 -1.3810e+02  2e-01  4e-15  6e-16\n",
        " 5: -1.3798e+02 -1.3802e+02  5e-02  3e-15  5e-16\n",
        " 6: -1.3800e+02 -1.3801e+02  1e-02  5e-15  5e-16\n",
        " 7: -1.3800e+02 -1.3800e+02  7e-04  4e-15  5e-16\n",
        " 8: -1.3800e+02 -1.3800e+02  2e-05  5e-15  6e-16\n",
        "Optimal solution found.\n",
        "32 support vectors out of 90 points\n",
        "cutting plane objective: 138.004277, primal objective 139.003737\n",
        "iteration 190\n",
        "OneSlackSSVM(C=0.1, break_on_bad=False, cache_tol=auto,\n",
        "       check_constraints=False, inactive_threshold=1e-05,\n",
        "       inactive_window=50, inference_cache=0, logger=None, max_iter=10000,\n",
        "       model=MultiLabelModel(n_states: 2, inference_method: ad3), n_jobs=1,\n",
        "       positive_constraint=None, show_loss_every=0, switch_to=None,\n",
        "       tol=1e-05, verbose=3)\n",
        "New violation: 0.969116 difference to last: 0.008009"
       ]
      },
      {
       "output_type": "stream",
       "stream": "stdout",
       "text": [
        "\n",
        "     pcost       dcost       gap    pres   dres\n",
        " 0: -1.3469e+02 -3.4706e+02  2e+02  2e-17  2e+00\n",
        " 1: -1.3630e+02 -1.5749e+02  2e+01  3e-15  2e-01\n",
        " 2: -1.3727e+02 -1.4135e+02  4e+00  3e-15  2e-02\n",
        " 3: -1.3765e+02 -1.3863e+02  1e+00  4e-15  9e-05\n",
        " 4: -1.3787e+02 -1.3810e+02  2e-01  3e-15  1e-05\n",
        " 5: -1.3798e+02 -1.3803e+02  5e-02  3e-15  1e-06\n",
        " 6: -1.3800e+02 -1.3801e+02  1e-02  3e-15  3e-07\n",
        " 7: -1.3801e+02 -1.3801e+02  1e-03  4e-15  5e-16\n",
        " 8: -1.3801e+02 -1.3801e+02  2e-05  3e-15  5e-16\n",
        "Optimal solution found.\n",
        "32 support vectors out of 91 points\n",
        "cutting plane objective: 138.009018, primal objective 138.974204\n",
        "iteration 191\n",
        "OneSlackSSVM(C=0.1, break_on_bad=False, cache_tol=auto,\n",
        "       check_constraints=False, inactive_threshold=1e-05,\n",
        "       inactive_window=50, inference_cache=0, logger=None, max_iter=10000,\n",
        "       model=MultiLabelModel(n_states: 2, inference_method: ad3), n_jobs=1,\n",
        "       positive_constraint=None, show_loss_every=0, switch_to=None,\n",
        "       tol=1e-05, verbose=3)\n",
        "New violation: 0.968127 difference to last: 0.007170"
       ]
      },
      {
       "output_type": "stream",
       "stream": "stdout",
       "text": [
        "\n",
        "     pcost       dcost       gap    pres   dres\n",
        " 0: -1.3473e+02 -3.4342e+02  2e+02  2e-16  2e+00\n",
        " 1: -1.3628e+02 -1.5796e+02  2e+01  2e-15  2e-01\n",
        " 2: -1.3727e+02 -1.4125e+02  4e+00  2e-15  2e-02\n",
        " 3: -1.3766e+02 -1.3866e+02  1e+00  3e-15  8e-05\n",
        " 4: -1.3787e+02 -1.3810e+02  2e-01  4e-15  1e-05\n",
        " 5: -1.3799e+02 -1.3803e+02  4e-02  3e-15  8e-07\n",
        " 6: -1.3801e+02 -1.3802e+02  8e-03  3e-15  1e-07\n",
        " 7: -1.3801e+02 -1.3801e+02  5e-04  5e-15  4e-09\n",
        " 8: -1.3801e+02 -1.3801e+02  2e-05  4e-15  6e-11\n",
        "Optimal solution found.\n",
        "34 support vectors out of 92 points\n",
        "cutting plane objective: 138.013933, primal objective 138.877299\n",
        "iteration 192\n",
        "OneSlackSSVM(C=0.1, break_on_bad=False, cache_tol=auto,\n",
        "       check_constraints=False, inactive_threshold=1e-05,\n",
        "       inactive_window=50, inference_cache=0, logger=None, max_iter=10000,\n",
        "       model=MultiLabelModel(n_states: 2, inference_method: ad3), n_jobs=1,\n",
        "       positive_constraint=None, show_loss_every=0, switch_to=None,\n",
        "       tol=1e-05, verbose=3)\n",
        "New violation: 0.968282 difference to last: 0.007366"
       ]
      },
      {
       "output_type": "stream",
       "stream": "stdout",
       "text": [
        "\n",
        "     pcost       dcost       gap    pres   dres\n",
        " 0: -1.3480e+02 -3.4431e+02  2e+02  7e-17  2e+00\n",
        " 1: -1.3633e+02 -1.5739e+02  2e+01  3e-15  2e-01\n",
        " 2: -1.3729e+02 -1.4123e+02  4e+00  3e-15  1e-02\n",
        " 3: -1.3767e+02 -1.3865e+02  1e+00  3e-15  1e-04\n",
        " 4: -1.3788e+02 -1.3811e+02  2e-01  3e-15  2e-05\n",
        " 5: -1.3800e+02 -1.3804e+02  4e-02  4e-15  1e-06\n",
        " 6: -1.3802e+02 -1.3802e+02  4e-03  4e-15  9e-08\n",
        " 7: -1.3802e+02 -1.3802e+02  2e-04  5e-15  9e-10\n",
        " 8: -1.3802e+02 -1.3802e+02  2e-06  5e-15  1e-11\n",
        "Optimal solution found.\n",
        "31 support vectors out of 93 points\n",
        "cutting plane objective: 138.018831, primal objective 138.906021\n",
        "iteration 193\n",
        "OneSlackSSVM(C=0.1, break_on_bad=False, cache_tol=auto,\n",
        "       check_constraints=False, inactive_threshold=1e-05,\n",
        "       inactive_window=50, inference_cache=0, logger=None, max_iter=10000,\n",
        "       model=MultiLabelModel(n_states: 2, inference_method: ad3), n_jobs=1,\n",
        "       positive_constraint=None, show_loss_every=0, switch_to=None,\n",
        "       tol=1e-05, verbose=3)\n",
        "New violation: 0.968262 difference to last: 0.007286"
       ]
      },
      {
       "output_type": "stream",
       "stream": "stdout",
       "text": [
        "\n",
        "     pcost       dcost       gap    pres   dres\n",
        " 0: -1.3514e+02 -3.3938e+02  2e+02  8e-17  2e+00\n",
        " 1: -1.3648e+02 -1.5843e+02  2e+01  2e-15  2e-01\n",
        " 2: -1.3733e+02 -1.4104e+02  4e+00  2e-15  2e-02\n",
        " 3: -1.3770e+02 -1.3867e+02  1e+00  3e-15  5e-16\n",
        " 4: -1.3788e+02 -1.3811e+02  2e-01  4e-15  5e-16\n",
        " 5: -1.3800e+02 -1.3804e+02  4e-02  3e-15  5e-16\n",
        " 6: -1.3802e+02 -1.3803e+02  6e-03  5e-15  6e-16\n",
        " 7: -1.3802e+02 -1.3802e+02  2e-04  4e-15  5e-16\n",
        " 8: -1.3802e+02 -1.3802e+02  6e-06  5e-15  5e-16\n",
        "Optimal solution found.\n",
        "34 support vectors out of 92 points\n",
        "cutting plane objective: 138.023746, primal objective 138.901189\n",
        "iteration 194\n",
        "OneSlackSSVM(C=0.1, break_on_bad=False, cache_tol=auto,\n",
        "       check_constraints=False, inactive_threshold=1e-05,\n",
        "       inactive_window=50, inference_cache=0, logger=None, max_iter=10000,\n",
        "       model=MultiLabelModel(n_states: 2, inference_method: ad3), n_jobs=1,\n",
        "       positive_constraint=None, show_loss_every=0, switch_to=None,\n",
        "       tol=1e-05, verbose=3)\n",
        "New violation: 0.968142 difference to last: 0.007023"
       ]
      },
      {
       "output_type": "stream",
       "stream": "stdout",
       "text": [
        "\n",
        "     pcost       dcost       gap    pres   dres\n",
        " 0: -1.3520e+02 -3.2445e+02  2e+02  2e-16  2e+00\n",
        " 1: -1.3650e+02 -1.5606e+02  2e+01  2e-15  2e-01\n",
        " 2: -1.3735e+02 -1.4152e+02  4e+00  2e-15  3e-02\n",
        " 3: -1.3771e+02 -1.3864e+02  9e-01  2e-15  2e-03\n",
        " 4: -1.3789e+02 -1.3813e+02  2e-01  3e-15  3e-04\n",
        " 5: -1.3801e+02 -1.3805e+02  4e-02  4e-15  1e-05\n",
        " 6: -1.3802e+02 -1.3803e+02  9e-03  5e-15  2e-06\n",
        " 7: -1.3803e+02 -1.3803e+02  9e-04  3e-15  5e-08\n",
        " 8: -1.3803e+02 -1.3803e+02  4e-05  5e-15  1e-09\n",
        "Optimal solution found.\n",
        "37 support vectors out of 89 points\n",
        "cutting plane objective: 138.029503, primal objective 138.874239\n",
        "iteration 195\n",
        "OneSlackSSVM(C=0.1, break_on_bad=False, cache_tol=auto,\n",
        "       check_constraints=False, inactive_threshold=1e-05,\n",
        "       inactive_window=50, inference_cache=0, logger=None, max_iter=10000,\n",
        "       model=MultiLabelModel(n_states: 2, inference_method: ad3), n_jobs=1,\n",
        "       positive_constraint=None, show_loss_every=0, switch_to=None,\n",
        "       tol=1e-05, verbose=3)\n",
        "New violation: 0.968818 difference to last: 0.007796"
       ]
      },
      {
       "output_type": "stream",
       "stream": "stdout",
       "text": [
        "\n",
        "     pcost       dcost       gap    pres   dres\n",
        " 0: -1.3510e+02 -3.2689e+02  2e+02  2e-16  2e+00\n",
        " 1: -1.3645e+02 -1.5672e+02  2e+01  3e-15  2e-01\n",
        " 2: -1.3736e+02 -1.4160e+02  4e+00  3e-15  3e-02\n",
        " 3: -1.3772e+02 -1.3865e+02  9e-01  3e-15  1e-03\n",
        " 4: -1.3790e+02 -1.3814e+02  2e-01  3e-15  2e-04\n",
        " 5: -1.3801e+02 -1.3806e+02  5e-02  4e-15  1e-05\n",
        " 6: -1.3803e+02 -1.3804e+02  1e-02  6e-15  2e-06\n",
        " 7: -1.3803e+02 -1.3804e+02  1e-03  4e-15  6e-16\n",
        " 8: -1.3803e+02 -1.3803e+02  4e-05  4e-15  5e-16\n",
        "Optimal solution found.\n",
        "35 support vectors out of 89 points\n",
        "cutting plane objective: 138.034799, primal objective 138.973679\n",
        "iteration 196\n",
        "OneSlackSSVM(C=0.1, break_on_bad=False, cache_tol=auto,\n",
        "       check_constraints=False, inactive_threshold=1e-05,\n",
        "       inactive_window=50, inference_cache=0, logger=None, max_iter=10000,\n",
        "       model=MultiLabelModel(n_states: 2, inference_method: ad3), n_jobs=1,\n",
        "       positive_constraint=None, show_loss_every=0, switch_to=None,\n",
        "       tol=1e-05, verbose=3)\n",
        "New violation: 0.967889 difference to last: 0.006768"
       ]
      },
      {
       "output_type": "stream",
       "stream": "stdout",
       "text": [
        "\n",
        "     pcost       dcost       gap    pres   dres\n",
        " 0: -1.3517e+02 -3.2618e+02  2e+02  2e-17  2e+00\n",
        " 1: -1.3648e+02 -1.5614e+02  2e+01  2e-15  2e-01\n",
        " 2: -1.3737e+02 -1.4155e+02  4e+00  2e-15  3e-02\n",
        " 3: -1.3772e+02 -1.3865e+02  9e-01  3e-15  1e-03\n",
        " 4: -1.3790e+02 -1.3815e+02  2e-01  3e-15  2e-04\n",
        " 5: -1.3802e+02 -1.3806e+02  5e-02  3e-15  6e-06\n",
        " 6: -1.3804e+02 -1.3804e+02  9e-03  4e-15  1e-06\n",
        " 7: -1.3804e+02 -1.3804e+02  1e-03  6e-15  1e-07\n",
        " 8: -1.3804e+02 -1.3804e+02  4e-05  5e-15  3e-09\n",
        "Optimal solution found.\n",
        "35 support vectors out of 90 points\n",
        "cutting plane objective: 138.039750, primal objective 138.854482\n",
        "iteration 197\n",
        "OneSlackSSVM(C=0.1, break_on_bad=False, cache_tol=auto,\n",
        "       check_constraints=False, inactive_threshold=1e-05,\n",
        "       inactive_window=50, inference_cache=0, logger=None, max_iter=10000,\n",
        "       model=MultiLabelModel(n_states: 2, inference_method: ad3), n_jobs=1,\n",
        "       positive_constraint=None, show_loss_every=0, switch_to=None,\n",
        "       tol=1e-05, verbose=3)\n",
        "New violation: 0.967951 difference to last: 0.006807"
       ]
      },
      {
       "output_type": "stream",
       "stream": "stdout",
       "text": [
        "\n",
        "     pcost       dcost       gap    pres   dres\n",
        " 0: -1.3543e+02 -3.2757e+02  2e+02  1e-16  2e+00\n",
        " 1: -1.3661e+02 -1.5539e+02  2e+01  3e-15  2e-01\n",
        " 2: -1.3741e+02 -1.4137e+02  4e+00  3e-15  3e-02\n",
        " 3: -1.3774e+02 -1.3861e+02  9e-01  3e-15  1e-03\n",
        " 4: -1.3791e+02 -1.3815e+02  2e-01  3e-15  3e-04\n",
        " 5: -1.3802e+02 -1.3807e+02  5e-02  4e-15  2e-05\n",
        " 6: -1.3804e+02 -1.3805e+02  1e-02  4e-15  3e-06\n",
        " 7: -1.3804e+02 -1.3804e+02  9e-04  5e-15  4e-08\n",
        " 8: -1.3804e+02 -1.3804e+02  3e-05  4e-15  9e-10\n",
        "Optimal solution found.\n",
        "38 support vectors out of 90 points\n",
        "cutting plane objective: 138.044465, primal objective 138.864067\n",
        "iteration 198\n",
        "OneSlackSSVM(C=0.1, break_on_bad=False, cache_tol=auto,\n",
        "       check_constraints=False, inactive_threshold=1e-05,\n",
        "       inactive_window=50, inference_cache=0, logger=None, max_iter=10000,\n",
        "       model=MultiLabelModel(n_states: 2, inference_method: ad3), n_jobs=1,\n",
        "       positive_constraint=None, show_loss_every=0, switch_to=None,\n",
        "       tol=1e-05, verbose=3)\n",
        "New violation: 0.968911 difference to last: 0.007535"
       ]
      },
      {
       "output_type": "stream",
       "stream": "stdout",
       "text": [
        "\n",
        "     pcost       dcost       gap    pres   dres\n",
        " 0: -1.3545e+02 -3.3189e+02  2e+02  8e-17  2e+00\n",
        " 1: -1.3663e+02 -1.5597e+02  2e+01  2e-15  2e-01\n",
        " 2: -1.3742e+02 -1.4138e+02  4e+00  2e-15  3e-02\n",
        " 3: -1.3775e+02 -1.3861e+02  9e-01  2e-15  8e-04\n",
        " 4: -1.3792e+02 -1.3815e+02  2e-01  3e-15  1e-04\n",
        " 5: -1.3803e+02 -1.3807e+02  4e-02  3e-15  5e-16\n",
        " 6: -1.3804e+02 -1.3805e+02  1e-02  4e-15  5e-16\n",
        " 7: -1.3805e+02 -1.3805e+02  2e-03  6e-15  5e-16\n",
        " 8: -1.3805e+02 -1.3805e+02  7e-05  6e-15  6e-16\n",
        "Optimal solution found.\n",
        "41 support vectors out of 91 points\n",
        "cutting plane objective: 138.048590, primal objective 138.957024\n",
        "iteration 199\n",
        "OneSlackSSVM(C=0.1, break_on_bad=False, cache_tol=auto,\n",
        "       check_constraints=False, inactive_threshold=1e-05,\n",
        "       inactive_window=50, inference_cache=0, logger=None, max_iter=10000,\n",
        "       model=MultiLabelModel(n_states: 2, inference_method: ad3), n_jobs=1,\n",
        "       positive_constraint=None, show_loss_every=0, switch_to=None,\n",
        "       tol=1e-05, verbose=3)\n",
        "New violation: 0.969871 difference to last: 0.008495"
       ]
      },
      {
       "output_type": "stream",
       "stream": "stdout",
       "text": [
        "\n",
        "     pcost       dcost       gap    pres   dres\n",
        " 0: -1.3548e+02 -3.2441e+02  2e+02  2e-16  2e+00\n",
        " 1: -1.3664e+02 -1.5500e+02  2e+01  2e-15  2e-01\n",
        " 2: -1.3744e+02 -1.4122e+02  4e+00  2e-15  2e-02\n",
        " 3: -1.3776e+02 -1.3859e+02  8e-01  3e-15  1e-03\n",
        " 4: -1.3792e+02 -1.3816e+02  2e-01  4e-15  2e-04\n",
        " 5: -1.3803e+02 -1.3807e+02  4e-02  4e-15  5e-06\n",
        " 6: -1.3805e+02 -1.3806e+02  1e-02  4e-15  1e-06\n",
        " 7: -1.3805e+02 -1.3805e+02  1e-03  6e-15  6e-08\n",
        " 8: -1.3805e+02 -1.3805e+02  5e-05  4e-15  2e-09\n",
        "Optimal solution found.\n",
        "40 support vectors out of 92 points\n",
        "cutting plane objective: 138.051475, primal objective 139.077342\n",
        "iteration 200\n",
        "OneSlackSSVM(C=0.1, break_on_bad=False, cache_tol=auto,\n",
        "       check_constraints=False, inactive_threshold=1e-05,\n",
        "       inactive_window=50, inference_cache=0, logger=None, max_iter=10000,\n",
        "       model=MultiLabelModel(n_states: 2, inference_method: ad3), n_jobs=1,\n",
        "       positive_constraint=None, show_loss_every=0, switch_to=None,\n",
        "       tol=1e-05, verbose=3)\n",
        "New violation: 0.967740 difference to last: 0.006432"
       ]
      },
      {
       "output_type": "stream",
       "stream": "stdout",
       "text": [
        "\n",
        "     pcost       dcost       gap    pres   dres\n",
        " 0: -1.3546e+02 -3.3000e+02  2e+02  7e-17  2e+00\n",
        " 1: -1.3668e+02 -1.5436e+02  2e+01  3e-15  2e-01\n",
        " 2: -1.3747e+02 -1.4137e+02  4e+00  3e-15  3e-02\n",
        " 3: -1.3779e+02 -1.3854e+02  7e-01  3e-15  7e-04\n",
        " 4: -1.3794e+02 -1.3816e+02  2e-01  3e-15  1e-04\n",
        " 5: -1.3804e+02 -1.3808e+02  4e-02  4e-15  6e-16\n",
        " 6: -1.3805e+02 -1.3806e+02  7e-03  6e-15  5e-16\n",
        " 7: -1.3805e+02 -1.3806e+02  1e-03  4e-15  6e-16\n",
        " 8: -1.3806e+02 -1.3806e+02  4e-05  4e-15  5e-16\n",
        "Optimal solution found.\n",
        "40 support vectors out of 88 points\n",
        "cutting plane objective: 138.055232, primal objective 138.830471\n",
        "iteration 201\n",
        "OneSlackSSVM(C=0.1, break_on_bad=False, cache_tol=auto,\n",
        "       check_constraints=False, inactive_threshold=1e-05,\n",
        "       inactive_window=50, inference_cache=0, logger=None, max_iter=10000,\n",
        "       model=MultiLabelModel(n_states: 2, inference_method: ad3), n_jobs=1,\n",
        "       positive_constraint=None, show_loss_every=0, switch_to=None,\n",
        "       tol=1e-05, verbose=3)\n",
        "New violation: 0.968318 difference to last: 0.007127"
       ]
      },
      {
       "output_type": "stream",
       "stream": "stdout",
       "text": [
        "\n",
        "     pcost       dcost       gap    pres   dres\n",
        " 0: -1.3547e+02 -3.3270e+02  2e+02  1e-16  2e+00\n",
        " 1: -1.3670e+02 -1.5411e+02  2e+01  3e-15  2e-01\n",
        " 2: -1.3748e+02 -1.4142e+02  4e+00  3e-15  3e-02\n",
        " 3: -1.3780e+02 -1.3854e+02  7e-01  2e-15  4e-04\n",
        " 4: -1.3794e+02 -1.3816e+02  2e-01  2e-15  7e-05\n",
        " 5: -1.3804e+02 -1.3808e+02  4e-02  4e-15  4e-07\n",
        " 6: -1.3805e+02 -1.3806e+02  1e-02  5e-15  8e-08\n",
        " 7: -1.3806e+02 -1.3806e+02  2e-03  5e-15  5e-16\n",
        " 8: -1.3806e+02 -1.3806e+02  8e-05  6e-15  5e-16\n",
        "Optimal solution found.\n",
        "40 support vectors out of 89 points\n",
        "cutting plane objective: 138.058033, primal objective 138.918387\n",
        "iteration 202\n",
        "OneSlackSSVM(C=0.1, break_on_bad=False, cache_tol=auto,\n",
        "       check_constraints=False, inactive_threshold=1e-05,\n",
        "       inactive_window=50, inference_cache=0, logger=None, max_iter=10000,\n",
        "       model=MultiLabelModel(n_states: 2, inference_method: ad3), n_jobs=1,\n",
        "       positive_constraint=None, show_loss_every=0, switch_to=None,\n",
        "       tol=1e-05, verbose=3)\n",
        "New violation: 0.968029 difference to last: 0.006696"
       ]
      },
      {
       "output_type": "stream",
       "stream": "stdout",
       "text": [
        "\n",
        "     pcost       dcost       gap    pres   dres\n",
        " 0: -1.3559e+02 -3.3007e+02  2e+02  2e-16  2e+00\n",
        " 1: -1.3678e+02 -1.5332e+02  2e+01  2e-15  2e-01\n",
        " 2: -1.3752e+02 -1.4109e+02  4e+00  3e-15  2e-02\n",
        " 3: -1.3781e+02 -1.3853e+02  7e-01  2e-15  8e-04\n",
        " 4: -1.3795e+02 -1.3816e+02  2e-01  4e-15  1e-04\n",
        " 5: -1.3804e+02 -1.3808e+02  4e-02  5e-15  2e-06\n",
        " 6: -1.3806e+02 -1.3806e+02  7e-03  3e-15  3e-07\n",
        " 7: -1.3806e+02 -1.3806e+02  1e-03  5e-15  5e-16\n",
        " 8: -1.3806e+02 -1.3806e+02  3e-05  4e-15  5e-16\n",
        "Optimal solution found.\n",
        "37 support vectors out of 90 points\n",
        "cutting plane objective: 138.060211, primal objective 138.869007\n",
        "iteration 203\n",
        "OneSlackSSVM(C=0.1, break_on_bad=False, cache_tol=auto,\n",
        "       check_constraints=False, inactive_threshold=1e-05,\n",
        "       inactive_window=50, inference_cache=0, logger=None, max_iter=10000,\n",
        "       model=MultiLabelModel(n_states: 2, inference_method: ad3), n_jobs=1,\n",
        "       positive_constraint=None, show_loss_every=0, switch_to=None,\n",
        "       tol=1e-05, verbose=3)\n",
        "New violation: 0.967097 difference to last: 0.005719"
       ]
      },
      {
       "output_type": "stream",
       "stream": "stdout",
       "text": [
        "\n",
        "     pcost       dcost       gap    pres   dres\n",
        " 0: -1.3569e+02 -3.2864e+02  2e+02  4e-17  2e+00\n",
        " 1: -1.3682e+02 -1.5285e+02  2e+01  3e-15  2e-01\n",
        " 2: -1.3753e+02 -1.4094e+02  3e+00  2e-15  2e-02\n",
        " 3: -1.3781e+02 -1.3851e+02  7e-01  4e-15  9e-04\n",
        " 4: -1.3796e+02 -1.3817e+02  2e-01  3e-15  1e-04\n",
        " 5: -1.3804e+02 -1.3808e+02  4e-02  4e-15  7e-06\n",
        " 6: -1.3806e+02 -1.3807e+02  8e-03  5e-15  1e-06\n",
        " 7: -1.3806e+02 -1.3806e+02  7e-04  5e-15  4e-09\n",
        " 8: -1.3806e+02 -1.3806e+02  2e-05  6e-15  7e-11\n",
        "Optimal solution found.\n",
        "38 support vectors out of 91 points\n",
        "cutting plane objective: 138.063953, primal objective 138.752814\n",
        "iteration 204\n",
        "OneSlackSSVM(C=0.1, break_on_bad=False, cache_tol=auto,\n",
        "       check_constraints=False, inactive_threshold=1e-05,\n",
        "       inactive_window=50, inference_cache=0, logger=None, max_iter=10000,\n",
        "       model=MultiLabelModel(n_states: 2, inference_method: ad3), n_jobs=1,\n",
        "       positive_constraint=None, show_loss_every=0, switch_to=None,\n",
        "       tol=1e-05, verbose=3)\n",
        "New violation: 0.966962 difference to last: 0.005525"
       ]
      },
      {
       "output_type": "stream",
       "stream": "stdout",
       "text": [
        "\n",
        "     pcost       dcost       gap    pres   dres\n",
        " 0: -1.3566e+02 -3.2855e+02  2e+02  4e-17  2e+00\n",
        " 1: -1.3682e+02 -1.5288e+02  2e+01  2e-15  2e-01\n",
        " 2: -1.3754e+02 -1.4096e+02  3e+00  3e-15  2e-02\n",
        " 3: -1.3782e+02 -1.3849e+02  7e-01  3e-15  5e-04\n",
        " 4: -1.3796e+02 -1.3817e+02  2e-01  3e-15  9e-05\n",
        " 5: -1.3804e+02 -1.3809e+02  4e-02  3e-15  8e-06\n",
        " 6: -1.3806e+02 -1.3807e+02  7e-03  4e-15  1e-06\n",
        " 7: -1.3807e+02 -1.3807e+02  8e-04  4e-15  5e-16\n",
        " 8: -1.3807e+02 -1.3807e+02  2e-05  5e-15  5e-16\n",
        "Optimal solution found.\n",
        "37 support vectors out of 92 points\n",
        "cutting plane objective: 138.067905, primal objective 138.733033\n",
        "iteration 205\n",
        "OneSlackSSVM(C=0.1, break_on_bad=False, cache_tol=auto,\n",
        "       check_constraints=False, inactive_threshold=1e-05,\n",
        "       inactive_window=50, inference_cache=0, logger=None, max_iter=10000,\n",
        "       model=MultiLabelModel(n_states: 2, inference_method: ad3), n_jobs=1,\n",
        "       positive_constraint=None, show_loss_every=0, switch_to=None,\n",
        "       tol=1e-05, verbose=3)\n",
        "New violation: 0.967945 difference to last: 0.006487"
       ]
      },
      {
       "output_type": "stream",
       "stream": "stdout",
       "text": [
        "\n",
        "     pcost       dcost       gap    pres   dres\n",
        " 0: -1.3577e+02 -3.2660e+02  2e+02  2e-16  2e+00\n",
        " 1: -1.3688e+02 -1.5207e+02  2e+01  2e-15  2e-01\n",
        " 2: -1.3756e+02 -1.4083e+02  3e+00  3e-15  2e-02\n",
        " 3: -1.3783e+02 -1.3849e+02  7e-01  3e-15  9e-04\n",
        " 4: -1.3797e+02 -1.3818e+02  2e-01  3e-15  1e-04\n",
        " 5: -1.3805e+02 -1.3809e+02  4e-02  4e-15  8e-06\n",
        " 6: -1.3807e+02 -1.3807e+02  8e-03  5e-15  1e-06\n",
        " 7: -1.3807e+02 -1.3807e+02  1e-03  4e-15  1e-07\n",
        " 8: -1.3807e+02 -1.3807e+02  8e-05  4e-15  5e-16\n",
        "Optimal solution found.\n",
        "42 support vectors out of 93 points\n",
        "cutting plane objective: 138.071038, primal objective 138.853509\n",
        "iteration 206\n",
        "OneSlackSSVM(C=0.1, break_on_bad=False, cache_tol=auto,\n",
        "       check_constraints=False, inactive_threshold=1e-05,\n",
        "       inactive_window=50, inference_cache=0, logger=None, max_iter=10000,\n",
        "       model=MultiLabelModel(n_states: 2, inference_method: ad3), n_jobs=1,\n",
        "       positive_constraint=None, show_loss_every=0, switch_to=None,\n",
        "       tol=1e-05, verbose=3)\n",
        "New violation: 0.967262 difference to last: 0.005883"
       ]
      },
      {
       "output_type": "stream",
       "stream": "stdout",
       "text": [
        "\n",
        "     pcost       dcost       gap    pres   dres\n",
        " 0: -1.3578e+02 -3.2643e+02  2e+02  2e-16  2e+00\n",
        " 1: -1.3687e+02 -1.5171e+02  1e+01  2e-15  2e-01\n",
        " 2: -1.3756e+02 -1.4076e+02  3e+00  2e-15  2e-02\n",
        " 3: -1.3783e+02 -1.3848e+02  7e-01  2e-15  8e-04\n",
        " 4: -1.3797e+02 -1.3817e+02  2e-01  3e-15  1e-04\n",
        " 5: -1.3805e+02 -1.3809e+02  4e-02  4e-15  6e-06\n",
        " 6: -1.3807e+02 -1.3808e+02  8e-03  4e-15  1e-06\n",
        " 7: -1.3807e+02 -1.3807e+02  1e-03  4e-15  7e-08\n",
        " 8: -1.3807e+02 -1.3807e+02  1e-04  4e-15  3e-09\n",
        "Optimal solution found.\n",
        "40 support vectors out of 94 points\n",
        "cutting plane objective: 138.073461, primal objective 138.783579\n",
        "iteration 207\n",
        "OneSlackSSVM(C=0.1, break_on_bad=False, cache_tol=auto,\n",
        "       check_constraints=False, inactive_threshold=1e-05,\n",
        "       inactive_window=50, inference_cache=0, logger=None, max_iter=10000,\n",
        "       model=MultiLabelModel(n_states: 2, inference_method: ad3), n_jobs=1,\n",
        "       positive_constraint=None, show_loss_every=0, switch_to=None,\n",
        "       tol=1e-05, verbose=3)\n",
        "New violation: 0.966658 difference to last: 0.005360"
       ]
      },
      {
       "output_type": "stream",
       "stream": "stdout",
       "text": [
        "\n",
        "     pcost       dcost       gap    pres   dres\n",
        " 0: -1.3577e+02 -3.2652e+02  2e+02  1e-16  2e+00\n",
        " 1: -1.3687e+02 -1.5179e+02  1e+01  2e-15  2e-01\n",
        " 2: -1.3756e+02 -1.4077e+02  3e+00  3e-15  2e-02\n",
        " 3: -1.3783e+02 -1.3848e+02  7e-01  2e-15  6e-04\n",
        " 4: -1.3798e+02 -1.3818e+02  2e-01  3e-15  1e-04\n",
        " 5: -1.3805e+02 -1.3809e+02  4e-02  4e-15  5e-06\n",
        " 6: -1.3807e+02 -1.3808e+02  6e-03  4e-15  6e-07\n",
        " 7: -1.3808e+02 -1.3808e+02  1e-03  5e-15  1e-07\n",
        " 8: -1.3808e+02 -1.3808e+02  1e-04  3e-15  4e-09\n",
        "Optimal solution found.\n",
        "39 support vectors out of 95 points\n",
        "cutting plane objective: 138.075864, primal objective 138.722628\n",
        "iteration 208\n",
        "OneSlackSSVM(C=0.1, break_on_bad=False, cache_tol=auto,\n",
        "       check_constraints=False, inactive_threshold=1e-05,\n",
        "       inactive_window=50, inference_cache=0, logger=None, max_iter=10000,\n",
        "       model=MultiLabelModel(n_states: 2, inference_method: ad3), n_jobs=1,\n",
        "       positive_constraint=None, show_loss_every=0, switch_to=None,\n",
        "       tol=1e-05, verbose=3)\n",
        "New violation: 0.966084 difference to last: 0.004606"
       ]
      },
      {
       "output_type": "stream",
       "stream": "stdout",
       "text": [
        "\n",
        "     pcost       dcost       gap    pres   dres\n",
        " 0: -1.3595e+02 -3.2120e+02  2e+02  2e-16  2e+00\n",
        " 1: -1.3693e+02 -1.5106e+02  1e+01  2e-15  2e-01\n",
        " 2: -1.3761e+02 -1.4054e+02  3e+00  2e-15  2e-02\n",
        " 3: -1.3785e+02 -1.3844e+02  6e-01  3e-15  7e-04\n",
        " 4: -1.3799e+02 -1.3817e+02  2e-01  3e-15  8e-05\n",
        " 5: -1.3806e+02 -1.3809e+02  3e-02  5e-15  2e-06\n",
        " 6: -1.3808e+02 -1.3808e+02  6e-03  4e-15  4e-07\n",
        " 7: -1.3808e+02 -1.3808e+02  9e-04  4e-15  5e-08\n",
        " 8: -1.3808e+02 -1.3808e+02  1e-04  3e-15  1e-09\n",
        "Optimal solution found.\n",
        "45 support vectors out of 95 points\n",
        "cutting plane objective: 138.078512, primal objective 138.633704\n",
        "iteration 209\n",
        "OneSlackSSVM(C=0.1, break_on_bad=False, cache_tol=auto,\n",
        "       check_constraints=False, inactive_threshold=1e-05,\n",
        "       inactive_window=50, inference_cache=0, logger=None, max_iter=10000,\n",
        "       model=MultiLabelModel(n_states: 2, inference_method: ad3), n_jobs=1,\n",
        "       positive_constraint=None, show_loss_every=0, switch_to=None,\n",
        "       tol=1e-05, verbose=3)\n",
        "New violation: 0.966945 difference to last: 0.005298"
       ]
      },
      {
       "output_type": "stream",
       "stream": "stdout",
       "text": [
        "\n",
        "     pcost       dcost       gap    pres   dres\n",
        " 0: -1.3590e+02 -3.2099e+02  2e+02  4e-16  2e+00\n",
        " 1: -1.3691e+02 -1.5122e+02  1e+01  2e-15  2e-01\n",
        " 2: -1.3761e+02 -1.4058e+02  3e+00  3e-15  2e-02\n",
        " 3: -1.3785e+02 -1.3845e+02  6e-01  3e-15  6e-04\n",
        " 4: -1.3799e+02 -1.3818e+02  2e-01  3e-15  8e-05\n",
        " 5: -1.3807e+02 -1.3809e+02  3e-02  3e-15  3e-06\n",
        " 6: -1.3808e+02 -1.3808e+02  4e-03  4e-15  3e-07\n",
        " 7: -1.3808e+02 -1.3808e+02  1e-03  4e-15  5e-16\n",
        " 8: -1.3808e+02 -1.3808e+02  6e-05  4e-15  6e-16\n",
        "Optimal solution found.\n",
        "41 support vectors out of 96 points\n",
        "cutting plane objective: 138.081349, primal objective 138.720182\n",
        "iteration 210\n",
        "OneSlackSSVM(C=0.1, break_on_bad=False, cache_tol=auto,\n",
        "       check_constraints=False, inactive_threshold=1e-05,\n",
        "       inactive_window=50, inference_cache=0, logger=None, max_iter=10000,\n",
        "       model=MultiLabelModel(n_states: 2, inference_method: ad3), n_jobs=1,\n",
        "       positive_constraint=None, show_loss_every=0, switch_to=None,\n",
        "       tol=1e-05, verbose=3)\n",
        "New violation: 0.966750 difference to last: 0.005114"
       ]
      },
      {
       "output_type": "stream",
       "stream": "stdout",
       "text": [
        "\n",
        "     pcost       dcost       gap    pres   dres\n",
        " 0: -1.3591e+02 -3.2432e+02  2e+02  2e-16  2e+00\n",
        " 1: -1.3692e+02 -1.5173e+02  1e+01  2e-15  2e-01\n",
        " 2: -1.3759e+02 -1.4076e+02  3e+00  2e-15  2e-02\n",
        " 3: -1.3784e+02 -1.3850e+02  7e-01  3e-15  1e-03\n",
        " 4: -1.3799e+02 -1.3818e+02  2e-01  3e-15  2e-04\n",
        " 5: -1.3806e+02 -1.3810e+02  4e-02  5e-15  9e-06\n",
        " 6: -1.3808e+02 -1.3809e+02  5e-03  5e-15  9e-07\n",
        " 7: -1.3808e+02 -1.3808e+02  5e-04  5e-15  5e-08\n",
        " 8: -1.3808e+02 -1.3808e+02  2e-05  4e-15  1e-09\n",
        "Optimal solution found.\n",
        "38 support vectors out of 97 points\n",
        "cutting plane objective: 138.083206, primal objective 138.700761\n",
        "iteration 211\n",
        "OneSlackSSVM(C=0.1, break_on_bad=False, cache_tol=auto,\n",
        "       check_constraints=False, inactive_threshold=1e-05,\n",
        "       inactive_window=50, inference_cache=0, logger=None, max_iter=10000,\n",
        "       model=MultiLabelModel(n_states: 2, inference_method: ad3), n_jobs=1,\n",
        "       positive_constraint=None, show_loss_every=0, switch_to=None,\n",
        "       tol=1e-05, verbose=3)\n",
        "New violation: 0.966487 difference to last: 0.004905"
       ]
      },
      {
       "output_type": "stream",
       "stream": "stdout",
       "text": [
        "\n",
        "     pcost       dcost       gap    pres   dres\n",
        " 0: -1.3591e+02 -3.2262e+02  2e+02  3e-16  2e+00\n",
        " 1: -1.3691e+02 -1.5119e+02  1e+01  3e-15  2e-01\n",
        " 2: -1.3761e+02 -1.4062e+02  3e+00  2e-15  2e-02\n",
        " 3: -1.3785e+02 -1.3848e+02  6e-01  3e-15  6e-04\n",
        " 4: -1.3799e+02 -1.3818e+02  2e-01  4e-15  9e-05\n",
        " 5: -1.3807e+02 -1.3810e+02  3e-02  4e-15  6e-06\n",
        " 6: -1.3808e+02 -1.3809e+02  7e-03  4e-15  1e-06\n",
        " 7: -1.3808e+02 -1.3809e+02  8e-04  4e-15  2e-08\n",
        " 8: -1.3808e+02 -1.3808e+02  3e-05  3e-15  4e-10\n",
        "Optimal solution found.\n",
        "39 support vectors out of 98 points\n",
        "cutting plane objective: 138.084948, primal objective 138.677230\n",
        "iteration 212\n",
        "OneSlackSSVM(C=0.1, break_on_bad=False, cache_tol=auto,\n",
        "       check_constraints=False, inactive_threshold=1e-05,\n",
        "       inactive_window=50, inference_cache=0, logger=None, max_iter=10000,\n",
        "       model=MultiLabelModel(n_states: 2, inference_method: ad3), n_jobs=1,\n",
        "       positive_constraint=None, show_loss_every=0, switch_to=None,\n",
        "       tol=1e-05, verbose=3)\n",
        "New violation: 0.966461 difference to last: 0.005098"
       ]
      },
      {
       "output_type": "stream",
       "stream": "stdout",
       "text": [
        "\n",
        "     pcost       dcost       gap    pres   dres\n",
        " 0: -1.3607e+02 -3.2263e+02  2e+02  7e-17  2e+00\n",
        " 1: -1.3698e+02 -1.5112e+02  1e+01  3e-15  2e-01\n",
        " 2: -1.3761e+02 -1.4081e+02  3e+00  3e-15  2e-02\n",
        " 3: -1.3786e+02 -1.3848e+02  6e-01  2e-15  1e-03\n",
        " 4: -1.3800e+02 -1.3818e+02  2e-01  3e-15  2e-04\n",
        " 5: -1.3807e+02 -1.3810e+02  3e-02  3e-15  1e-05\n",
        " 6: -1.3808e+02 -1.3809e+02  7e-03  4e-15  2e-06\n",
        " 7: -1.3809e+02 -1.3809e+02  1e-03  4e-15  6e-16\n",
        " 8: -1.3809e+02 -1.3809e+02  5e-05  4e-15  6e-16\n",
        "Optimal solution found.\n",
        "40 support vectors out of 98 points\n",
        "cutting plane objective: 138.087460, primal objective 138.702375\n",
        "iteration 213\n",
        "OneSlackSSVM(C=0.1, break_on_bad=False, cache_tol=auto,\n",
        "       check_constraints=False, inactive_threshold=1e-05,\n",
        "       inactive_window=50, inference_cache=0, logger=None, max_iter=10000,\n",
        "       model=MultiLabelModel(n_states: 2, inference_method: ad3), n_jobs=1,\n",
        "       positive_constraint=None, show_loss_every=0, switch_to=None,\n",
        "       tol=1e-05, verbose=3)\n",
        "New violation: 0.965941 difference to last: 0.004664"
       ]
      },
      {
       "output_type": "stream",
       "stream": "stdout",
       "text": [
        "\n",
        "     pcost       dcost       gap    pres   dres\n",
        " 0: -1.3608e+02 -3.2191e+02  2e+02  2e-16  2e+00\n",
        " 1: -1.3701e+02 -1.5118e+02  1e+01  2e-15  2e-01\n",
        " 2: -1.3763e+02 -1.4070e+02  3e+00  3e-15  2e-02\n",
        " 3: -1.3786e+02 -1.3848e+02  6e-01  3e-15  1e-03\n",
        " 4: -1.3800e+02 -1.3817e+02  2e-01  3e-15  2e-04\n",
        " 5: -1.3807e+02 -1.3810e+02  3e-02  3e-15  1e-05\n",
        " 6: -1.3809e+02 -1.3809e+02  5e-03  4e-15  2e-06\n",
        " 7: -1.3809e+02 -1.3809e+02  7e-04  5e-15  2e-07\n",
        " 8: -1.3809e+02 -1.3809e+02  2e-05  3e-15  4e-09\n",
        "Optimal solution found.\n",
        "39 support vectors out of 99 points\n",
        "cutting plane objective: 138.089049, primal objective 138.652363\n",
        "iteration 214\n",
        "OneSlackSSVM(C=0.1, break_on_bad=False, cache_tol=auto,\n",
        "       check_constraints=False, inactive_threshold=1e-05,\n",
        "       inactive_window=50, inference_cache=0, logger=None, max_iter=10000,\n",
        "       model=MultiLabelModel(n_states: 2, inference_method: ad3), n_jobs=1,\n",
        "       positive_constraint=None, show_loss_every=0, switch_to=None,\n",
        "       tol=1e-05, verbose=3)\n",
        "New violation: 0.965283 difference to last: 0.003973"
       ]
      },
      {
       "output_type": "stream",
       "stream": "stdout",
       "text": [
        "\n",
        "     pcost       dcost       gap    pres   dres\n",
        " 0: -1.3615e+02 -3.2153e+02  2e+02  6e-17  2e+00\n",
        " 1: -1.3702e+02 -1.5106e+02  1e+01  3e-15  2e-01\n",
        " 2: -1.3764e+02 -1.4065e+02  3e+00  3e-15  2e-02\n",
        " 3: -1.3787e+02 -1.3846e+02  6e-01  3e-15  1e-03\n",
        " 4: -1.3800e+02 -1.3818e+02  2e-01  3e-15  1e-04\n",
        " 5: -1.3807e+02 -1.3811e+02  3e-02  3e-15  1e-05\n",
        " 6: -1.3809e+02 -1.3809e+02  6e-03  4e-15  2e-06\n",
        " 7: -1.3809e+02 -1.3809e+02  1e-03  4e-15  4e-07\n",
        " 8: -1.3809e+02 -1.3809e+02  1e-04  3e-15  6e-09\n",
        "Optimal solution found.\n",
        "45 support vectors out of 100 points\n",
        "cutting plane objective: 138.091544, primal objective 138.570250\n",
        "iteration 215\n",
        "OneSlackSSVM(C=0.1, break_on_bad=False, cache_tol=auto,\n",
        "       check_constraints=False, inactive_threshold=1e-05,\n",
        "       inactive_window=50, inference_cache=0, logger=None, max_iter=10000,\n",
        "       model=MultiLabelModel(n_states: 2, inference_method: ad3), n_jobs=1,\n",
        "       positive_constraint=None, show_loss_every=0, switch_to=None,\n",
        "       tol=1e-05, verbose=3)\n",
        "New violation: 0.965453 difference to last: 0.004260"
       ]
      },
      {
       "output_type": "stream",
       "stream": "stdout",
       "text": [
        "\n",
        "     pcost       dcost       gap    pres   dres\n",
        " 0: -1.3614e+02 -3.2129e+02  2e+02  5e-16  2e+00\n",
        " 1: -1.3704e+02 -1.5115e+02  1e+01  2e-15  2e-01\n",
        " 2: -1.3764e+02 -1.4065e+02  3e+00  2e-15  2e-02\n",
        " 3: -1.3787e+02 -1.3847e+02  6e-01  2e-15  1e-03\n",
        " 4: -1.3801e+02 -1.3818e+02  2e-01  3e-15  1e-04\n",
        " 5: -1.3808e+02 -1.3811e+02  3e-02  3e-15  1e-05\n",
        " 6: -1.3809e+02 -1.3810e+02  5e-03  4e-15  2e-06\n",
        " 7: -1.3809e+02 -1.3809e+02  1e-03  3e-15  5e-16\n",
        " 8: -1.3809e+02 -1.3809e+02  7e-05  3e-15  5e-16\n",
        "Optimal solution found.\n",
        "43 support vectors out of 101 points\n",
        "cutting plane objective: 138.093530, primal objective 138.607565\n",
        "iteration 216\n",
        "OneSlackSSVM(C=0.1, break_on_bad=False, cache_tol=auto,\n",
        "       check_constraints=False, inactive_threshold=1e-05,\n",
        "       inactive_window=50, inference_cache=0, logger=None, max_iter=10000,\n",
        "       model=MultiLabelModel(n_states: 2, inference_method: ad3), n_jobs=1,\n",
        "       positive_constraint=None, show_loss_every=0, switch_to=None,\n",
        "       tol=1e-05, verbose=3)\n",
        "New violation: 0.965754 difference to last: 0.004503"
       ]
      },
      {
       "output_type": "stream",
       "stream": "stdout",
       "text": [
        "\n",
        "     pcost       dcost       gap    pres   dres\n",
        " 0: -1.3634e+02 -3.1186e+02  2e+02  2e-17  2e+00\n",
        " 1: -1.3711e+02 -1.5017e+02  1e+01  3e-15  1e-01\n",
        " 2: -1.3767e+02 -1.4050e+02  3e+00  3e-15  2e-02\n",
        " 3: -1.3789e+02 -1.3840e+02  5e-01  3e-15  1e-03\n",
        " 4: -1.3803e+02 -1.3817e+02  1e-01  4e-15  7e-05\n",
        " 5: -1.3808e+02 -1.3811e+02  2e-02  4e-15  4e-06\n",
        " 6: -1.3809e+02 -1.3810e+02  3e-03  4e-15  3e-07\n",
        " 7: -1.3809e+02 -1.3810e+02  5e-04  5e-15  3e-08\n",
        " 8: -1.3810e+02 -1.3810e+02  2e-05  4e-15  1e-09\n",
        "Optimal solution found.\n",
        "39 support vectors out of 100 points\n",
        "cutting plane objective: 138.095164, primal objective 138.638954\n",
        "iteration 217\n",
        "OneSlackSSVM(C=0.1, break_on_bad=False, cache_tol=auto,\n",
        "       check_constraints=False, inactive_threshold=1e-05,\n",
        "       inactive_window=50, inference_cache=0, logger=None, max_iter=10000,\n",
        "       model=MultiLabelModel(n_states: 2, inference_method: ad3), n_jobs=1,\n",
        "       positive_constraint=None, show_loss_every=0, switch_to=None,\n",
        "       tol=1e-05, verbose=3)\n",
        "New violation: 0.965752 difference to last: 0.004394"
       ]
      },
      {
       "output_type": "stream",
       "stream": "stdout",
       "text": [
        "\n",
        "     pcost       dcost       gap    pres   dres\n",
        " 0: -1.3660e+02 -3.1961e+02  2e+02  2e-16  2e+00\n",
        " 1: -1.3720e+02 -1.4797e+02  1e+01  3e-15  1e-01\n",
        " 2: -1.3773e+02 -1.4007e+02  2e+00  2e-15  2e-02\n",
        " 3: -1.3791e+02 -1.3834e+02  4e-01  2e-15  2e-03\n",
        " 4: -1.3805e+02 -1.3817e+02  1e-01  3e-15  6e-05\n",
        " 5: -1.3809e+02 -1.3811e+02  2e-02  3e-15  1e-06\n",
        " 6: -1.3809e+02 -1.3810e+02  5e-03  4e-15  2e-07\n",
        " 7: -1.3810e+02 -1.3810e+02  4e-04  4e-15  5e-16\n",
        " 8: -1.3810e+02 -1.3810e+02  1e-05  4e-15  6e-16\n",
        "Optimal solution found.\n",
        "41 support vectors out of 98 points\n",
        "cutting plane objective: 138.096978, primal objective 138.627300\n",
        "iteration 218\n",
        "OneSlackSSVM(C=0.1, break_on_bad=False, cache_tol=auto,\n",
        "       check_constraints=False, inactive_threshold=1e-05,\n",
        "       inactive_window=50, inference_cache=0, logger=None, max_iter=10000,\n",
        "       model=MultiLabelModel(n_states: 2, inference_method: ad3), n_jobs=1,\n",
        "       positive_constraint=None, show_loss_every=0, switch_to=None,\n",
        "       tol=1e-05, verbose=3)\n",
        "New violation: 0.965708 difference to last: 0.004283"
       ]
      },
      {
       "output_type": "stream",
       "stream": "stdout",
       "text": [
        "\n",
        "     pcost       dcost       gap    pres   dres\n",
        " 0: -1.3660e+02 -3.1921e+02  2e+02  2e-16  2e+00\n",
        " 1: -1.3722e+02 -1.4809e+02  1e+01  3e-15  1e-01\n",
        " 2: -1.3773e+02 -1.4008e+02  2e+00  3e-15  2e-02\n",
        " 3: -1.3791e+02 -1.3835e+02  4e-01  3e-15  2e-03\n",
        " 4: -1.3805e+02 -1.3817e+02  1e-01  3e-15  4e-05\n",
        " 5: -1.3809e+02 -1.3811e+02  2e-02  5e-15  9e-07\n",
        " 6: -1.3810e+02 -1.3810e+02  3e-03  5e-15  1e-07\n",
        " 7: -1.3810e+02 -1.3810e+02  4e-04  5e-15  5e-16\n",
        " 8: -1.3810e+02 -1.3810e+02  9e-06  4e-15  5e-16\n",
        "Optimal solution found.\n",
        "39 support vectors out of 99 points\n",
        "cutting plane objective: 138.099093, primal objective 138.615684\n",
        "iteration 219\n",
        "OneSlackSSVM(C=0.1, break_on_bad=False, cache_tol=auto,\n",
        "       check_constraints=False, inactive_threshold=1e-05,\n",
        "       inactive_window=50, inference_cache=0, logger=None, max_iter=10000,\n",
        "       model=MultiLabelModel(n_states: 2, inference_method: ad3), n_jobs=1,\n",
        "       positive_constraint=None, show_loss_every=0, switch_to=None,\n",
        "       tol=1e-05, verbose=3)\n",
        "New violation: 0.965629 difference to last: 0.004080"
       ]
      },
      {
       "output_type": "stream",
       "stream": "stdout",
       "text": [
        "\n",
        "     pcost       dcost       gap    pres   dres\n",
        " 0: -1.3666e+02 -3.1660e+02  2e+02  1e-16  2e+00\n",
        " 1: -1.3723e+02 -1.4833e+02  1e+01  3e-15  1e-01\n",
        " 2: -1.3773e+02 -1.4009e+02  2e+00  2e-15  2e-02\n",
        " 3: -1.3791e+02 -1.3837e+02  5e-01  3e-15  2e-03\n",
        " 4: -1.3805e+02 -1.3818e+02  1e-01  3e-15  6e-05\n",
        " 5: -1.3809e+02 -1.3811e+02  3e-02  5e-15  4e-06\n",
        " 6: -1.3810e+02 -1.3810e+02  7e-03  5e-15  9e-07\n",
        " 7: -1.3810e+02 -1.3810e+02  5e-04  5e-15  1e-08\n",
        " 8: -1.3810e+02 -1.3810e+02  3e-05  4e-15  6e-10\n",
        "Optimal solution found.\n",
        "45 support vectors out of 100 points\n",
        "cutting plane objective: 138.101071, primal objective 138.593229\n",
        "iteration 220\n",
        "OneSlackSSVM(C=0.1, break_on_bad=False, cache_tol=auto,\n",
        "       check_constraints=False, inactive_threshold=1e-05,\n",
        "       inactive_window=50, inference_cache=0, logger=None, max_iter=10000,\n",
        "       model=MultiLabelModel(n_states: 2, inference_method: ad3), n_jobs=1,\n",
        "       positive_constraint=None, show_loss_every=0, switch_to=None,\n",
        "       tol=1e-05, verbose=3)\n",
        "New violation: 0.966332 difference to last: 0.004690"
       ]
      },
      {
       "output_type": "stream",
       "stream": "stdout",
       "text": [
        "\n",
        "     pcost       dcost       gap    pres   dres\n",
        " 0: -1.3662e+02 -3.1837e+02  2e+02  4e-16  2e+00\n",
        " 1: -1.3724e+02 -1.4834e+02  1e+01  3e-15  1e-01\n",
        " 2: -1.3774e+02 -1.4007e+02  2e+00  2e-15  2e-02\n",
        " 3: -1.3792e+02 -1.3838e+02  5e-01  3e-15  2e-03\n",
        " 4: -1.3805e+02 -1.3818e+02  1e-01  3e-15  9e-05\n",
        " 5: -1.3809e+02 -1.3811e+02  3e-02  3e-15  4e-06\n",
        " 6: -1.3810e+02 -1.3811e+02  5e-03  3e-15  8e-07\n",
        " 7: -1.3810e+02 -1.3810e+02  1e-03  4e-15  9e-08\n",
        " 8: -1.3810e+02 -1.3810e+02  1e-04  4e-15  6e-09\n",
        "Optimal solution found.\n",
        "46 support vectors out of 101 points\n",
        "cutting plane objective: 138.102714, primal objective 138.669031\n",
        "iteration 221\n",
        "OneSlackSSVM(C=0.1, break_on_bad=False, cache_tol=auto,\n",
        "       check_constraints=False, inactive_threshold=1e-05,\n",
        "       inactive_window=50, inference_cache=0, logger=None, max_iter=10000,\n",
        "       model=MultiLabelModel(n_states: 2, inference_method: ad3), n_jobs=1,\n",
        "       positive_constraint=None, show_loss_every=0, switch_to=None,\n",
        "       tol=1e-05, verbose=3)\n",
        "New violation: 0.965706 difference to last: 0.004130"
       ]
      },
      {
       "output_type": "stream",
       "stream": "stdout",
       "text": [
        "\n",
        "     pcost       dcost       gap    pres   dres\n",
        " 0: -1.3663e+02 -3.1579e+02  2e+02  3e-17  2e+00\n",
        " 1: -1.3725e+02 -1.4800e+02  1e+01  3e-15  1e-01\n",
        " 2: -1.3775e+02 -1.4003e+02  2e+00  2e-15  2e-02\n",
        " 3: -1.3792e+02 -1.3837e+02  5e-01  2e-15  2e-03\n",
        " 4: -1.3805e+02 -1.3819e+02  1e-01  3e-15  1e-04\n",
        " 5: -1.3809e+02 -1.3811e+02  2e-02  2e-15  5e-06\n",
        " 6: -1.3810e+02 -1.3811e+02  4e-03  4e-15  8e-07\n",
        " 7: -1.3810e+02 -1.3810e+02  4e-04  5e-15  3e-08\n",
        " 8: -1.3810e+02 -1.3810e+02  1e-05  4e-15  7e-10\n",
        "Optimal solution found.\n",
        "41 support vectors out of 102 points\n",
        "cutting plane objective: 138.104035, primal objective 138.602913\n",
        "iteration 222\n",
        "OneSlackSSVM(C=0.1, break_on_bad=False, cache_tol=auto,\n",
        "       check_constraints=False, inactive_threshold=1e-05,\n",
        "       inactive_window=50, inference_cache=0, logger=None, max_iter=10000,\n",
        "       model=MultiLabelModel(n_states: 2, inference_method: ad3), n_jobs=1,\n",
        "       positive_constraint=None, show_loss_every=0, switch_to=None,\n",
        "       tol=1e-05, verbose=3)\n",
        "New violation: 0.965232 difference to last: 0.003637"
       ]
      },
      {
       "output_type": "stream",
       "stream": "stdout",
       "text": [
        "\n",
        "     pcost       dcost       gap    pres   dres\n",
        " 0: -1.3667e+02 -3.1632e+02  2e+02  1e-16  2e+00\n",
        " 1: -1.3727e+02 -1.4815e+02  1e+01  2e-15  1e-01\n",
        " 2: -1.3775e+02 -1.4004e+02  2e+00  3e-15  2e-02\n",
        " 3: -1.3792e+02 -1.3840e+02  5e-01  2e-15  2e-03\n",
        " 4: -1.3805e+02 -1.3819e+02  1e-01  4e-15  8e-05\n",
        " 5: -1.3809e+02 -1.3812e+02  4e-02  4e-15  1e-05\n",
        " 6: -1.3810e+02 -1.3811e+02  9e-03  4e-15  3e-06\n",
        " 7: -1.3810e+02 -1.3811e+02  2e-03  5e-15  5e-16\n",
        " 8: -1.3811e+02 -1.3811e+02  9e-05  5e-15  5e-16\n",
        "Optimal solution found.\n",
        "46 support vectors out of 103 points\n",
        "cutting plane objective: 138.105353, primal objective 138.544532\n",
        "iteration 223\n",
        "OneSlackSSVM(C=0.1, break_on_bad=False, cache_tol=auto,\n",
        "       check_constraints=False, inactive_threshold=1e-05,\n",
        "       inactive_window=50, inference_cache=0, logger=None, max_iter=10000,\n",
        "       model=MultiLabelModel(n_states: 2, inference_method: ad3), n_jobs=1,\n",
        "       positive_constraint=None, show_loss_every=0, switch_to=None,\n",
        "       tol=1e-05, verbose=3)\n",
        "New violation: 0.965417 difference to last: 0.003866"
       ]
      },
      {
       "output_type": "stream",
       "stream": "stdout",
       "text": [
        "\n",
        "     pcost       dcost       gap    pres   dres\n",
        " 0: -1.3667e+02 -3.1395e+02  2e+02  1e-16  2e+00\n",
        " 1: -1.3725e+02 -1.4830e+02  1e+01  2e-15  1e-01\n",
        " 2: -1.3775e+02 -1.4012e+02  2e+00  2e-15  2e-02\n",
        " 3: -1.3792e+02 -1.3840e+02  5e-01  2e-15  2e-03\n",
        " 4: -1.3805e+02 -1.3820e+02  1e-01  3e-15  7e-05\n",
        " 5: -1.3809e+02 -1.3813e+02  4e-02  4e-15  2e-05\n",
        " 6: -1.3810e+02 -1.3811e+02  6e-03  4e-15  1e-06\n",
        " 7: -1.3811e+02 -1.3811e+02  1e-03  5e-15  5e-16\n",
        " 8: -1.3811e+02 -1.3811e+02  4e-05  5e-15  6e-16\n",
        "Optimal solution found.\n",
        "44 support vectors out of 104 points\n",
        "cutting plane objective: 138.107299, primal objective 138.573547\n",
        "iteration 224\n",
        "OneSlackSSVM(C=0.1, break_on_bad=False, cache_tol=auto,\n",
        "       check_constraints=False, inactive_threshold=1e-05,\n",
        "       inactive_window=50, inference_cache=0, logger=None, max_iter=10000,\n",
        "       model=MultiLabelModel(n_states: 2, inference_method: ad3), n_jobs=1,\n",
        "       positive_constraint=None, show_loss_every=0, switch_to=None,\n",
        "       tol=1e-05, verbose=3)\n",
        "New violation: 0.965353 difference to last: 0.003902"
       ]
      },
      {
       "output_type": "stream",
       "stream": "stdout",
       "text": [
        "\n",
        "     pcost       dcost       gap    pres   dres\n",
        " 0: -1.3667e+02 -3.1475e+02  2e+02  1e-16  2e+00\n",
        " 1: -1.3726e+02 -1.4820e+02  1e+01  3e-15  1e-01\n",
        " 2: -1.3775e+02 -1.4012e+02  2e+00  2e-15  2e-02\n",
        " 3: -1.3793e+02 -1.3838e+02  5e-01  2e-15  2e-03\n",
        " 4: -1.3805e+02 -1.3820e+02  1e-01  4e-15  4e-05\n",
        " 5: -1.3809e+02 -1.3813e+02  4e-02  4e-15  1e-05"
       ]
      },
      {
       "output_type": "stream",
       "stream": "stdout",
       "text": [
        "\n",
        " 6: -1.3811e+02 -1.3811e+02  6e-03  4e-15  6e-07\n",
        " 7: -1.3811e+02 -1.3811e+02  7e-04  5e-15  6e-08\n",
        " 8: -1.3811e+02 -1.3811e+02  3e-05  5e-15  6e-10\n",
        "Optimal solution found.\n",
        "43 support vectors out of 105 points\n",
        "cutting plane objective: 138.109043, primal objective 138.579820\n",
        "iteration 225\n",
        "OneSlackSSVM(C=0.1, break_on_bad=False, cache_tol=auto,\n",
        "       check_constraints=False, inactive_threshold=1e-05,\n",
        "       inactive_window=50, inference_cache=0, logger=None, max_iter=10000,\n",
        "       model=MultiLabelModel(n_states: 2, inference_method: ad3), n_jobs=1,\n",
        "       positive_constraint=None, show_loss_every=0, switch_to=None,\n",
        "       tol=1e-05, verbose=3)\n",
        "New violation: 0.964890 difference to last: 0.003435"
       ]
      },
      {
       "output_type": "stream",
       "stream": "stdout",
       "text": [
        "\n",
        "     pcost       dcost       gap    pres   dres\n",
        " 0: -1.3671e+02 -3.1254e+02  2e+02  4e-16  2e+00\n",
        " 1: -1.3729e+02 -1.4810e+02  1e+01  3e-15  1e-01\n",
        " 2: -1.3776e+02 -1.4009e+02  2e+00  2e-15  2e-02\n",
        " 3: -1.3793e+02 -1.3839e+02  5e-01  3e-15  2e-03\n",
        " 4: -1.3805e+02 -1.3820e+02  1e-01  3e-15  5e-05\n",
        " 5: -1.3809e+02 -1.3813e+02  4e-02  4e-15  1e-05\n",
        " 6: -1.3811e+02 -1.3811e+02  5e-03  4e-15  3e-07\n",
        " 7: -1.3811e+02 -1.3811e+02  8e-04  5e-15  4e-08\n",
        " 8: -1.3811e+02 -1.3811e+02  5e-05  4e-15  2e-09\n",
        "Optimal solution found.\n",
        "48 support vectors out of 106 points\n",
        "cutting plane objective: 138.110613, primal objective 138.525009\n",
        "iteration 226\n",
        "OneSlackSSVM(C=0.1, break_on_bad=False, cache_tol=auto,\n",
        "       check_constraints=False, inactive_threshold=1e-05,\n",
        "       inactive_window=50, inference_cache=0, logger=None, max_iter=10000,\n",
        "       model=MultiLabelModel(n_states: 2, inference_method: ad3), n_jobs=1,\n",
        "       positive_constraint=None, show_loss_every=0, switch_to=None,\n",
        "       tol=1e-05, verbose=3)\n",
        "New violation: 0.965418 difference to last: 0.003981"
       ]
      },
      {
       "output_type": "stream",
       "stream": "stdout",
       "text": [
        "\n",
        "     pcost       dcost       gap    pres   dres\n",
        " 0: -1.3669e+02 -3.1873e+02  2e+02  1e-16  2e+00\n",
        " 1: -1.3728e+02 -1.4772e+02  1e+01  3e-15  1e-01\n",
        " 2: -1.3776e+02 -1.3999e+02  2e+00  2e-15  2e-02\n",
        " 3: -1.3793e+02 -1.3838e+02  5e-01  3e-15  2e-03\n",
        " 4: -1.3806e+02 -1.3820e+02  1e-01  3e-15  6e-05\n",
        " 5: -1.3809e+02 -1.3813e+02  4e-02  3e-15  1e-05\n",
        " 6: -1.3811e+02 -1.3811e+02  5e-03  4e-15  5e-07\n",
        " 7: -1.3811e+02 -1.3811e+02  4e-04  3e-15  2e-09\n",
        " 8: -1.3811e+02 -1.3811e+02  4e-05  4e-15  2e-10\n",
        "Optimal solution found.\n",
        "45 support vectors out of 107 points\n",
        "cutting plane objective: 138.111633, primal objective 138.592771\n",
        "iteration 227\n",
        "OneSlackSSVM(C=0.1, break_on_bad=False, cache_tol=auto,\n",
        "       check_constraints=False, inactive_threshold=1e-05,\n",
        "       inactive_window=50, inference_cache=0, logger=None, max_iter=10000,\n",
        "       model=MultiLabelModel(n_states: 2, inference_method: ad3), n_jobs=1,\n",
        "       positive_constraint=None, show_loss_every=0, switch_to=None,\n",
        "       tol=1e-05, verbose=3)\n",
        "New violation: 0.964620 difference to last: 0.003248"
       ]
      },
      {
       "output_type": "stream",
       "stream": "stdout",
       "text": [
        "\n",
        "     pcost       dcost       gap    pres   dres\n",
        " 0: -1.3675e+02 -3.1401e+02  2e+02  9e-18  2e+00\n",
        " 1: -1.3729e+02 -1.4764e+02  1e+01  2e-15  1e-01\n",
        " 2: -1.3777e+02 -1.3998e+02  2e+00  2e-15  2e-02\n",
        " 3: -1.3793e+02 -1.3838e+02  5e-01  2e-15  2e-03\n",
        " 4: -1.3806e+02 -1.3820e+02  1e-01  3e-15  2e-05\n",
        " 5: -1.3809e+02 -1.3813e+02  4e-02  3e-15  5e-06\n",
        " 6: -1.3811e+02 -1.3812e+02  8e-03  4e-15  5e-07\n",
        " 7: -1.3811e+02 -1.3811e+02  1e-03  5e-15  7e-08\n",
        " 8: -1.3811e+02 -1.3811e+02  1e-04  5e-15  2e-09\n",
        "Optimal solution found.\n",
        "48 support vectors out of 108 points\n",
        "cutting plane objective: 138.112785, primal objective 138.505014\n",
        "iteration 228\n",
        "OneSlackSSVM(C=0.1, break_on_bad=False, cache_tol=auto,\n",
        "       check_constraints=False, inactive_threshold=1e-05,\n",
        "       inactive_window=50, inference_cache=0, logger=None, max_iter=10000,\n",
        "       model=MultiLabelModel(n_states: 2, inference_method: ad3), n_jobs=1,\n",
        "       positive_constraint=None, show_loss_every=0, switch_to=None,\n",
        "       tol=1e-05, verbose=3)\n",
        "New violation: 0.964695 difference to last: 0.003247"
       ]
      },
      {
       "output_type": "stream",
       "stream": "stdout",
       "text": [
        "\n",
        "     pcost       dcost       gap    pres   dres\n",
        " 0: -1.3674e+02 -3.1544e+02  2e+02  3e-16  2e+00\n",
        " 1: -1.3732e+02 -1.4799e+02  1e+01  2e-15  1e-01\n",
        " 2: -1.3777e+02 -1.4006e+02  2e+00  2e-15  2e-02\n",
        " 3: -1.3793e+02 -1.3840e+02  5e-01  2e-15  2e-03\n",
        " 4: -1.3805e+02 -1.3821e+02  2e-01  3e-15  1e-04\n",
        " 5: -1.3809e+02 -1.3813e+02  4e-02  3e-15  2e-05\n",
        " 6: -1.3811e+02 -1.3812e+02  5e-03  4e-15  7e-07\n",
        " 7: -1.3811e+02 -1.3811e+02  1e-03  3e-15  6e-16\n",
        " 8: -1.3811e+02 -1.3811e+02  5e-05  4e-15  5e-16\n",
        "Optimal solution found.\n",
        "47 support vectors out of 109 points\n",
        "cutting plane objective: 138.114336, primal objective 138.506147\n",
        "iteration 229\n",
        "OneSlackSSVM(C=0.1, break_on_bad=False, cache_tol=auto,\n",
        "       check_constraints=False, inactive_threshold=1e-05,\n",
        "       inactive_window=50, inference_cache=0, logger=None, max_iter=10000,\n",
        "       model=MultiLabelModel(n_states: 2, inference_method: ad3), n_jobs=1,\n",
        "       positive_constraint=None, show_loss_every=0, switch_to=None,\n",
        "       tol=1e-05, verbose=3)\n",
        "New violation: 0.964885 difference to last: 0.003474"
       ]
      },
      {
       "output_type": "stream",
       "stream": "stdout",
       "text": [
        "\n",
        "     pcost       dcost       gap    pres   dres\n",
        " 0: -1.3676e+02 -3.1655e+02  2e+02  7e-16  2e+00\n",
        " 1: -1.3732e+02 -1.4806e+02  1e+01  2e-15  1e-01\n",
        " 2: -1.3777e+02 -1.4004e+02  2e+00  3e-15  2e-02\n",
        " 3: -1.3794e+02 -1.3840e+02  5e-01  2e-15  2e-03\n",
        " 4: -1.3806e+02 -1.3821e+02  1e-01  3e-15  1e-04\n",
        " 5: -1.3810e+02 -1.3813e+02  3e-02  3e-15  2e-05\n",
        " 6: -1.3811e+02 -1.3812e+02  7e-03  4e-15  2e-06\n",
        " 7: -1.3812e+02 -1.3812e+02  9e-04  4e-15  1e-07\n",
        " 8: -1.3812e+02 -1.3812e+02  1e-04  4e-15  2e-08\n",
        "Optimal solution found.\n",
        "57 support vectors out of 110 points\n",
        "cutting plane objective: 138.115644, primal objective 138.535032\n",
        "iteration 230\n",
        "OneSlackSSVM(C=0.1, break_on_bad=False, cache_tol=auto,\n",
        "       check_constraints=False, inactive_threshold=1e-05,\n",
        "       inactive_window=50, inference_cache=0, logger=None, max_iter=10000,\n",
        "       model=MultiLabelModel(n_states: 2, inference_method: ad3), n_jobs=1,\n",
        "       positive_constraint=None, show_loss_every=0, switch_to=None,\n",
        "       tol=1e-05, verbose=3)\n",
        "New violation: 0.964695 difference to last: 0.003281"
       ]
      },
      {
       "output_type": "stream",
       "stream": "stdout",
       "text": [
        "\n",
        "     pcost       dcost       gap    pres   dres\n",
        " 0: -1.3676e+02 -3.1640e+02  2e+02  3e-16  2e+00\n",
        " 1: -1.3731e+02 -1.4797e+02  1e+01  3e-15  1e-01\n",
        " 2: -1.3778e+02 -1.4001e+02  2e+00  2e-15  2e-02\n",
        " 3: -1.3794e+02 -1.3839e+02  5e-01  2e-15  2e-03\n",
        " 4: -1.3806e+02 -1.3821e+02  1e-01  3e-15  9e-05\n",
        " 5: -1.3810e+02 -1.3813e+02  3e-02  3e-15  1e-05\n",
        " 6: -1.3811e+02 -1.3812e+02  6e-03  3e-15  2e-06\n",
        " 7: -1.3812e+02 -1.3812e+02  6e-04  5e-15  3e-09\n",
        " 8: -1.3812e+02 -1.3812e+02  5e-05  4e-15  5e-16\n",
        "Optimal solution found.\n",
        "46 support vectors out of 111 points\n",
        "cutting plane objective: 138.117028, primal objective 138.513093\n",
        "iteration 231\n",
        "OneSlackSSVM(C=0.1, break_on_bad=False, cache_tol=auto,\n",
        "       check_constraints=False, inactive_threshold=1e-05,\n",
        "       inactive_window=50, inference_cache=0, logger=None, max_iter=10000,\n",
        "       model=MultiLabelModel(n_states: 2, inference_method: ad3), n_jobs=1,\n",
        "       positive_constraint=None, show_loss_every=0, switch_to=None,\n",
        "       tol=1e-05, verbose=3)\n",
        "New violation: 0.964237 difference to last: 0.002829"
       ]
      },
      {
       "output_type": "stream",
       "stream": "stdout",
       "text": [
        "\n",
        "     pcost       dcost       gap    pres   dres\n",
        " 0: -1.3679e+02 -3.1723e+02  2e+02  1e-16  2e+00\n",
        " 1: -1.3733e+02 -1.4767e+02  1e+01  3e-15  1e-01\n",
        " 2: -1.3778e+02 -1.3995e+02  2e+00  3e-15  1e-02\n",
        " 3: -1.3794e+02 -1.3840e+02  5e-01  2e-15  2e-03\n",
        " 4: -1.3806e+02 -1.3821e+02  1e-01  3e-15  8e-05\n",
        " 5: -1.3810e+02 -1.3813e+02  3e-02  4e-15  1e-05\n",
        " 6: -1.3812e+02 -1.3812e+02  5e-03  4e-15  2e-06\n",
        " 7: -1.3812e+02 -1.3812e+02  1e-03  3e-15  5e-16\n",
        " 8: -1.3812e+02 -1.3812e+02  7e-05  6e-15  5e-16\n",
        "Optimal solution found.\n",
        "54 support vectors out of 112 points\n",
        "cutting plane objective: 138.118195, primal objective 138.459719\n",
        "iteration 232\n",
        "OneSlackSSVM(C=0.1, break_on_bad=False, cache_tol=auto,\n",
        "       check_constraints=False, inactive_threshold=1e-05,\n",
        "       inactive_window=50, inference_cache=0, logger=None, max_iter=10000,\n",
        "       model=MultiLabelModel(n_states: 2, inference_method: ad3), n_jobs=1,\n",
        "       positive_constraint=None, show_loss_every=0, switch_to=None,\n",
        "       tol=1e-05, verbose=3)\n",
        "New violation: 0.964522 difference to last: 0.003181"
       ]
      },
      {
       "output_type": "stream",
       "stream": "stdout",
       "text": [
        "\n",
        "     pcost       dcost       gap    pres   dres\n",
        " 0: -1.3681e+02 -3.1435e+02  2e+02  7e-17  2e+00\n",
        " 1: -1.3733e+02 -1.4744e+02  1e+01  2e-15  1e-01\n",
        " 2: -1.3779e+02 -1.3989e+02  2e+00  2e-15  1e-02\n",
        " 3: -1.3795e+02 -1.3840e+02  5e-01  2e-15  2e-03\n",
        " 4: -1.3806e+02 -1.3820e+02  1e-01  3e-15  6e-05\n",
        " 5: -1.3810e+02 -1.3813e+02  3e-02  2e-15  1e-05\n",
        " 6: -1.3812e+02 -1.3812e+02  5e-03  4e-15  1e-06\n",
        " 7: -1.3812e+02 -1.3812e+02  6e-04  4e-15  8e-08\n",
        " 8: -1.3812e+02 -1.3812e+02  6e-05  4e-15  7e-09\n",
        "Optimal solution found.\n",
        "49 support vectors out of 113 points\n",
        "cutting plane objective: 138.119309, primal objective 138.503418\n",
        "iteration 233\n",
        "OneSlackSSVM(C=0.1, break_on_bad=False, cache_tol=auto,\n",
        "       check_constraints=False, inactive_threshold=1e-05,\n",
        "       inactive_window=50, inference_cache=0, logger=None, max_iter=10000,\n",
        "       model=MultiLabelModel(n_states: 2, inference_method: ad3), n_jobs=1,\n",
        "       positive_constraint=None, show_loss_every=0, switch_to=None,\n",
        "       tol=1e-05, verbose=3)"
       ]
      },
      {
       "output_type": "stream",
       "stream": "stdout",
       "text": [
        "\n",
        "New violation: 0.964298 difference to last: 0.002975"
       ]
      },
      {
       "output_type": "stream",
       "stream": "stdout",
       "text": [
        "\n",
        "     pcost       dcost       gap    pres   dres\n",
        " 0: -1.3685e+02 -3.1499e+02  2e+02  2e-16  2e+00\n",
        " 1: -1.3735e+02 -1.4728e+02  1e+01  2e-15  1e-01\n",
        " 2: -1.3780e+02 -1.3980e+02  2e+00  2e-15  1e-02\n",
        " 3: -1.3795e+02 -1.3841e+02  5e-01  2e-15  2e-03\n",
        " 4: -1.3806e+02 -1.3820e+02  1e-01  3e-15  6e-05\n",
        " 5: -1.3810e+02 -1.3813e+02  3e-02  4e-15  1e-05\n",
        " 6: -1.3812e+02 -1.3812e+02  7e-03  5e-15  2e-06\n",
        " 7: -1.3812e+02 -1.3812e+02  2e-03  5e-15  2e-07\n",
        " 8: -1.3812e+02 -1.3812e+02  2e-04  5e-15  2e-08\n",
        " 9: -1.3812e+02 -1.3812e+02  7e-06  5e-15  2e-10\n",
        "Optimal solution found.\n",
        "43 support vectors out of 114 points\n",
        "cutting plane objective: 138.120708, primal objective 138.479664\n",
        "iteration 234\n",
        "OneSlackSSVM(C=0.1, break_on_bad=False, cache_tol=auto,\n",
        "       check_constraints=False, inactive_threshold=1e-05,\n",
        "       inactive_window=50, inference_cache=0, logger=None, max_iter=10000,\n",
        "       model=MultiLabelModel(n_states: 2, inference_method: ad3), n_jobs=1,\n",
        "       positive_constraint=None, show_loss_every=0, switch_to=None,\n",
        "       tol=1e-05, verbose=3)\n",
        "New violation: 0.964486 difference to last: 0.003154"
       ]
      },
      {
       "output_type": "stream",
       "stream": "stdout",
       "text": [
        "\n",
        "     pcost       dcost       gap    pres   dres\n",
        " 0: -1.3687e+02 -3.1264e+02  2e+02  5e-17  2e+00\n",
        " 1: -1.3737e+02 -1.4723e+02  1e+01  3e-15  1e-01\n",
        " 2: -1.3780e+02 -1.3979e+02  2e+00  2e-15  1e-02\n",
        " 3: -1.3795e+02 -1.3841e+02  5e-01  3e-15  2e-03\n",
        " 4: -1.3807e+02 -1.3820e+02  1e-01  3e-15  5e-05\n",
        " 5: -1.3811e+02 -1.3813e+02  3e-02  4e-15  7e-06\n",
        " 6: -1.3812e+02 -1.3812e+02  5e-03  4e-15  9e-07\n",
        " 7: -1.3812e+02 -1.3812e+02  1e-03  4e-15  2e-08\n",
        " 8: -1.3812e+02 -1.3812e+02  9e-05  5e-15  6e-10\n",
        "Optimal solution found.\n",
        "55 support vectors out of 115 points\n",
        "cutting plane objective: 138.121724, primal objective 138.502622\n",
        "iteration 235\n",
        "OneSlackSSVM(C=0.1, break_on_bad=False, cache_tol=auto,\n",
        "       check_constraints=False, inactive_threshold=1e-05,\n",
        "       inactive_window=50, inference_cache=0, logger=None, max_iter=10000,\n",
        "       model=MultiLabelModel(n_states: 2, inference_method: ad3), n_jobs=1,\n",
        "       positive_constraint=None, show_loss_every=0, switch_to=None,\n",
        "       tol=1e-05, verbose=3)\n",
        "New violation: 0.964264 difference to last: 0.002962"
       ]
      },
      {
       "output_type": "stream",
       "stream": "stdout",
       "text": [
        "\n",
        "     pcost       dcost       gap    pres   dres"
       ]
      },
      {
       "output_type": "stream",
       "stream": "stdout",
       "text": [
        "\n",
        " 0: -1.3686e+02 -3.1412e+02  2e+02  4e-16  2e+00\n",
        " 1: -1.3734e+02 -1.4738e+02  1e+01  2e-15  1e-01\n",
        " 2: -1.3780e+02 -1.3986e+02  2e+00  2e-15  1e-02\n",
        " 3: -1.3795e+02 -1.3842e+02  5e-01  2e-15  2e-03\n",
        " 4: -1.3807e+02 -1.3820e+02  1e-01  3e-15  2e-05\n",
        " 5: -1.3811e+02 -1.3813e+02  3e-02  2e-15  3e-06\n",
        " 6: -1.3812e+02 -1.3813e+02  5e-03  5e-15  4e-07\n",
        " 7: -1.3812e+02 -1.3812e+02  1e-03  4e-15  6e-08\n",
        " 8: -1.3812e+02 -1.3812e+02  2e-04  3e-15  2e-09\n",
        " 9: -1.3812e+02 -1.3812e+02  7e-06  5e-15  5e-11\n",
        "Optimal solution found.\n",
        "47 support vectors out of 116 points\n",
        "cutting plane objective: 138.122828, primal objective 138.480488\n",
        "iteration 236\n",
        "OneSlackSSVM(C=0.1, break_on_bad=False, cache_tol=auto,\n",
        "       check_constraints=False, inactive_threshold=1e-05,\n",
        "       inactive_window=50, inference_cache=0, logger=None, max_iter=10000,\n",
        "       model=MultiLabelModel(n_states: 2, inference_method: ad3), n_jobs=1,\n",
        "       positive_constraint=None, show_loss_every=0, switch_to=None,\n",
        "       tol=1e-05, verbose=3)\n",
        "New violation: 0.964069 difference to last: 0.002860"
       ]
      },
      {
       "output_type": "stream",
       "stream": "stdout",
       "text": [
        "\n",
        "     pcost       dcost       gap    pres   dres\n",
        " 0: -1.3684e+02 -3.1491e+02  2e+02  3e-18  2e+00\n",
        " 1: -1.3735e+02 -1.4713e+02  1e+01  2e-15  1e-01\n",
        " 2: -1.3781e+02 -1.3980e+02  2e+00  2e-15  1e-02\n",
        " 3: -1.3795e+02 -1.3842e+02  5e-01  2e-15  2e-03\n",
        " 4: -1.3807e+02 -1.3820e+02  1e-01  3e-15  3e-05\n",
        " 5: -1.3811e+02 -1.3814e+02  3e-02  3e-15  4e-06\n",
        " 6: -1.3812e+02 -1.3813e+02  4e-03  4e-15  4e-07\n",
        " 7: -1.3812e+02 -1.3812e+02  4e-04  3e-15  7e-09\n",
        " 8: -1.3812e+02 -1.3812e+02  3e-05  3e-15  4e-10\n",
        "Optimal solution found.\n",
        "49 support vectors out of 117 points"
       ]
      },
      {
       "output_type": "stream",
       "stream": "stdout",
       "text": [
        "\n",
        "cutting plane objective: 138.123541, primal objective 138.469185\n",
        "iteration 237\n",
        "OneSlackSSVM(C=0.1, break_on_bad=False, cache_tol=auto,\n",
        "       check_constraints=False, inactive_threshold=1e-05,\n",
        "       inactive_window=50, inference_cache=0, logger=None, max_iter=10000,\n",
        "       model=MultiLabelModel(n_states: 2, inference_method: ad3), n_jobs=1,\n",
        "       positive_constraint=None, show_loss_every=0, switch_to=None,\n",
        "       tol=1e-05, verbose=3)\n",
        "New violation: 0.964002 difference to last: 0.002775"
       ]
      },
      {
       "output_type": "stream",
       "stream": "stdout",
       "text": [
        "\n",
        "     pcost       dcost       gap    pres   dres\n",
        " 0: -1.3693e+02 -3.1124e+02  2e+02  4e-16  2e+00\n",
        " 1: -1.3739e+02 -1.4718e+02  1e+01  3e-15  1e-01\n",
        " 2: -1.3781e+02 -1.3972e+02  2e+00  2e-15  1e-02\n",
        " 3: -1.3796e+02 -1.3842e+02  5e-01  3e-15  2e-03\n",
        " 4: -1.3807e+02 -1.3820e+02  1e-01  3e-15  3e-05\n",
        " 5: -1.3811e+02 -1.3814e+02  3e-02  3e-15  5e-06\n",
        " 6: -1.3812e+02 -1.3813e+02  8e-03  3e-15  1e-06\n",
        " 7: -1.3812e+02 -1.3813e+02  2e-03  3e-15  2e-07\n",
        " 8: -1.3812e+02 -1.3812e+02  2e-04  4e-15  6e-09\n",
        " 9: -1.3812e+02 -1.3812e+02  8e-06  6e-15  2e-10"
       ]
      },
      {
       "output_type": "stream",
       "stream": "stdout",
       "text": [
        "\n",
        "Optimal solution found.\n",
        "47 support vectors out of 118 points\n",
        "cutting plane objective: 138.124566, primal objective 138.459629\n",
        "iteration 238\n",
        "OneSlackSSVM(C=0.1, break_on_bad=False, cache_tol=auto,\n",
        "       check_constraints=False, inactive_threshold=1e-05,\n",
        "       inactive_window=50, inference_cache=0, logger=None, max_iter=10000,\n",
        "       model=MultiLabelModel(n_states: 2, inference_method: ad3), n_jobs=1,\n",
        "       positive_constraint=None, show_loss_every=0, switch_to=None,\n",
        "       tol=1e-05, verbose=3)\n",
        "New violation: 0.964192 difference to last: 0.002865"
       ]
      },
      {
       "output_type": "stream",
       "stream": "stdout",
       "text": [
        "\n",
        "     pcost       dcost       gap    pres   dres\n",
        " 0: -1.3688e+02 -3.1268e+02  2e+02  1e-16  2e+00\n",
        " 1: -1.3737e+02 -1.4753e+02  1e+01  2e-15  1e-01\n",
        " 2: -1.3780e+02 -1.3983e+02  2e+00  3e-15  1e-02\n",
        " 3: -1.3796e+02 -1.3843e+02  5e-01  2e-15  2e-03\n",
        " 4: -1.3807e+02 -1.3820e+02  1e-01  3e-15  5e-16\n",
        " 5: -1.3811e+02 -1.3814e+02  3e-02  2e-15  5e-16\n",
        " 6: -1.3812e+02 -1.3813e+02  6e-03  4e-15  4e-16\n",
        " 7: -1.3812e+02 -1.3813e+02  1e-03  3e-15  5e-16\n",
        " 8: -1.3813e+02 -1.3813e+02  6e-05  6e-15  6e-16\n",
        "Optimal solution found.\n",
        "51 support vectors out of 119 points\n",
        "cutting plane objective: 138.125506, primal objective 138.471473"
       ]
      },
      {
       "output_type": "stream",
       "stream": "stdout",
       "text": [
        "\n",
        "iteration 239\n",
        "OneSlackSSVM(C=0.1, break_on_bad=False, cache_tol=auto,\n",
        "       check_constraints=False, inactive_threshold=1e-05,\n",
        "       inactive_window=50, inference_cache=0, logger=None, max_iter=10000,\n",
        "       model=MultiLabelModel(n_states: 2, inference_method: ad3), n_jobs=1,\n",
        "       positive_constraint=None, show_loss_every=0, switch_to=None,\n",
        "       tol=1e-05, verbose=3)\n",
        "New violation: 0.964295 difference to last: 0.002962"
       ]
      },
      {
       "output_type": "stream",
       "stream": "stdout",
       "text": [
        "\n",
        "     pcost       dcost       gap    pres   dres\n",
        " 0: -1.3692e+02 -3.1264e+02  2e+02  2e-16  2e+00\n",
        " 1: -1.3740e+02 -1.4667e+02  9e+00  2e-15  9e-02\n",
        " 2: -1.3783e+02 -1.3958e+02  2e+00  2e-15  7e-03\n",
        " 3: -1.3796e+02 -1.3843e+02  5e-01  2e-15  1e-03\n",
        " 4: -1.3807e+02 -1.3820e+02  1e-01  3e-15  1e-05\n",
        " 5: -1.3811e+02 -1.3814e+02  3e-02  3e-15  2e-06"
       ]
      },
      {
       "output_type": "stream",
       "stream": "stdout",
       "text": [
        "\n",
        " 6: -1.3812e+02 -1.3813e+02  6e-03  4e-15  4e-07\n",
        " 7: -1.3813e+02 -1.3813e+02  1e-03  4e-15  4e-08\n",
        " 8: -1.3813e+02 -1.3813e+02  9e-05  4e-15  2e-09\n",
        "Optimal solution found.\n",
        "54 support vectors out of 120 points\n",
        "cutting plane objective: 138.126368, primal objective 138.484276\n",
        "iteration 240\n",
        "OneSlackSSVM(C=0.1, break_on_bad=False, cache_tol=auto,\n",
        "       check_constraints=False, inactive_threshold=1e-05,\n",
        "       inactive_window=50, inference_cache=0, logger=None, max_iter=10000,\n",
        "       model=MultiLabelModel(n_states: 2, inference_method: ad3), n_jobs=1,\n",
        "       positive_constraint=None, show_loss_every=0, switch_to=None,\n",
        "       tol=1e-05, verbose=3)\n",
        "New violation: 0.963790 difference to last: 0.002388"
       ]
      },
      {
       "output_type": "stream",
       "stream": "stdout",
       "text": [
        "\n",
        "     pcost       dcost       gap    pres   dres\n",
        " 0: -1.3693e+02 -3.1490e+02  2e+02  4e-16  2e+00\n",
        " 1: -1.3741e+02 -1.4692e+02  1e+01  3e-15  1e-01\n",
        " 2: -1.3783e+02 -1.3962e+02  2e+00  2e-15  8e-03\n",
        " 3: -1.3797e+02 -1.3843e+02  5e-01  2e-15  2e-03\n",
        " 4: -1.3807e+02 -1.3820e+02  1e-01  3e-15  6e-16\n",
        " 5: -1.3811e+02 -1.3814e+02  3e-02  4e-15  6e-16\n",
        " 6: -1.3812e+02 -1.3813e+02  4e-03  4e-15  5e-16\n",
        " 7: -1.3813e+02 -1.3813e+02  7e-04  4e-15  5e-16\n",
        " 8: -1.3813e+02 -1.3813e+02  4e-05  3e-15  6e-16\n",
        "Optimal solution found.\n",
        "52 support vectors out of 121 points\n",
        "cutting plane objective: 138.127235, primal objective 138.415593"
       ]
      },
      {
       "output_type": "stream",
       "stream": "stdout",
       "text": [
        "\n",
        "iteration 241\n",
        "OneSlackSSVM(C=0.1, break_on_bad=False, cache_tol=auto,\n",
        "       check_constraints=False, inactive_threshold=1e-05,\n",
        "       inactive_window=50, inference_cache=0, logger=None, max_iter=10000,\n",
        "       model=MultiLabelModel(n_states: 2, inference_method: ad3), n_jobs=1,\n",
        "       positive_constraint=None, show_loss_every=0, switch_to=None,\n",
        "       tol=1e-05, verbose=3)\n",
        "New violation: 0.964242 difference to last: 0.002820"
       ]
      },
      {
       "output_type": "stream",
       "stream": "stdout",
       "text": [
        "\n",
        "     pcost       dcost       gap    pres   dres\n",
        " 0: -1.3693e+02 -3.1507e+02  2e+02  2e-16  2e+00\n",
        " 1: -1.3741e+02 -1.4731e+02  1e+01  2e-15  1e-01\n",
        " 2: -1.3782e+02 -1.3979e+02  2e+00  2e-15  1e-02\n",
        " 3: -1.3796e+02 -1.3842e+02  5e-01  2e-15  2e-03\n",
        " 4: -1.3808e+02 -1.3821e+02  1e-01  4e-15  6e-16\n",
        " 5: -1.3811e+02 -1.3814e+02  3e-02  3e-15  6e-16\n",
        " 6: -1.3813e+02 -1.3813e+02  4e-03  4e-15  6e-16\n",
        " 7: -1.3813e+02 -1.3813e+02  6e-04  4e-15  6e-16\n",
        " 8: -1.3813e+02 -1.3813e+02  4e-05  4e-15  5e-16"
       ]
      },
      {
       "output_type": "stream",
       "stream": "stdout",
       "text": [
        "\n",
        "Optimal solution found.\n",
        "50 support vectors out of 122 points\n",
        "cutting plane objective: 138.128194, primal objective 138.468803\n",
        "iteration 242\n",
        "OneSlackSSVM(C=0.1, break_on_bad=False, cache_tol=auto,\n",
        "       check_constraints=False, inactive_threshold=1e-05,\n",
        "       inactive_window=50, inference_cache=0, logger=None, max_iter=10000,\n",
        "       model=MultiLabelModel(n_states: 2, inference_method: ad3), n_jobs=1,\n",
        "       positive_constraint=None, show_loss_every=0, switch_to=None,\n",
        "       tol=1e-05, verbose=3)\n",
        "New violation: 0.964020 difference to last: 0.002569"
       ]
      },
      {
       "output_type": "stream",
       "stream": "stdout",
       "text": [
        "\n",
        "     pcost       dcost       gap    pres   dres\n",
        " 0: -1.3693e+02 -3.1531e+02  2e+02  3e-16  2e+00\n",
        " 1: -1.3740e+02 -1.4781e+02  1e+01  3e-15  1e-01\n",
        " 2: -1.3781e+02 -1.3990e+02  2e+00  2e-15  1e-02\n",
        " 3: -1.3796e+02 -1.3843e+02  5e-01  2e-15  2e-03\n",
        " 4: -1.3808e+02 -1.3821e+02  1e-01  3e-15  6e-16\n",
        " 5: -1.3811e+02 -1.3814e+02  3e-02  3e-15  5e-16\n",
        " 6: -1.3813e+02 -1.3813e+02  4e-03  4e-15  5e-16\n",
        " 7: -1.3813e+02 -1.3813e+02  6e-04  4e-15  6e-16\n",
        " 8: -1.3813e+02 -1.3813e+02  3e-05  4e-15  6e-16\n",
        "Optimal solution found.\n",
        "50 support vectors out of 123 points"
       ]
      },
      {
       "output_type": "stream",
       "stream": "stdout",
       "text": [
        "\n",
        "cutting plane objective: 138.128966, primal objective 138.439382\n",
        "iteration 243\n",
        "OneSlackSSVM(C=0.1, break_on_bad=False, cache_tol=auto,\n",
        "       check_constraints=False, inactive_threshold=1e-05,\n",
        "       inactive_window=50, inference_cache=0, logger=None, max_iter=10000,\n",
        "       model=MultiLabelModel(n_states: 2, inference_method: ad3), n_jobs=1,\n",
        "       positive_constraint=None, show_loss_every=0, switch_to=None,\n",
        "       tol=1e-05, verbose=3)\n",
        "New violation: 0.963881 difference to last: 0.002441"
       ]
      },
      {
       "output_type": "stream",
       "stream": "stdout",
       "text": [
        "\n",
        "     pcost       dcost       gap    pres   dres\n",
        " 0: -1.3697e+02 -3.1430e+02  2e+02  4e-16  2e+00\n",
        " 1: -1.3741e+02 -1.4739e+02  1e+01  3e-15  1e-01\n",
        " 2: -1.3783e+02 -1.3976e+02  2e+00  2e-15  9e-03\n",
        " 3: -1.3797e+02 -1.3841e+02  4e-01  2e-15  2e-03\n",
        " 4: -1.3808e+02 -1.3821e+02  1e-01  4e-15  5e-16\n",
        " 5: -1.3811e+02 -1.3814e+02  3e-02  3e-15  5e-16\n",
        " 6: -1.3813e+02 -1.3813e+02  5e-03  4e-15  5e-16\n",
        " 7: -1.3813e+02 -1.3813e+02  1e-03  4e-15  6e-16\n",
        " 8: -1.3813e+02 -1.3813e+02  1e-04  4e-15  5e-16\n",
        "Optimal solution found.\n",
        "65 support vectors out of 124 points"
       ]
      },
      {
       "output_type": "stream",
       "stream": "stdout",
       "text": [
        "\n",
        "cutting plane objective: 138.129610, primal objective 138.424581\n",
        "iteration 244\n",
        "OneSlackSSVM(C=0.1, break_on_bad=False, cache_tol=auto,\n",
        "       check_constraints=False, inactive_threshold=1e-05,\n",
        "       inactive_window=50, inference_cache=0, logger=None, max_iter=10000,\n",
        "       model=MultiLabelModel(n_states: 2, inference_method: ad3), n_jobs=1,\n",
        "       positive_constraint=None, show_loss_every=0, switch_to=None,\n",
        "       tol=1e-05, verbose=3)\n",
        "New violation: 0.963716 difference to last: 0.002269"
       ]
      },
      {
       "output_type": "stream",
       "stream": "stdout",
       "text": [
        "\n",
        "     pcost       dcost       gap    pres   dres\n",
        " 0: -1.3694e+02 -3.1340e+02  2e+02  4e-16  2e+00\n",
        " 1: -1.3740e+02 -1.4768e+02  1e+01  2e-15  1e-01\n",
        " 2: -1.3782e+02 -1.3986e+02  2e+00  2e-15  1e-02\n",
        " 3: -1.3797e+02 -1.3842e+02  4e-01  2e-15  2e-03\n",
        " 4: -1.3808e+02 -1.3821e+02  1e-01  2e-15  5e-16\n",
        " 5: -1.3811e+02 -1.3814e+02  3e-02  5e-15  6e-16\n",
        " 6: -1.3813e+02 -1.3813e+02  5e-03  5e-15  6e-16\n",
        " 7: -1.3813e+02 -1.3813e+02  7e-04  4e-15  5e-16\n",
        " 8: -1.3813e+02 -1.3813e+02  3e-05  3e-15  6e-16\n",
        "Optimal solution found.\n",
        "50 support vectors out of 125 points"
       ]
      },
      {
       "output_type": "stream",
       "stream": "stdout",
       "text": [
        "\n",
        "cutting plane objective: 138.130559, primal objective 138.404548\n",
        "iteration 245\n",
        "OneSlackSSVM(C=0.1, break_on_bad=False, cache_tol=auto,\n",
        "       check_constraints=False, inactive_threshold=1e-05,\n",
        "       inactive_window=50, inference_cache=0, logger=None, max_iter=10000,\n",
        "       model=MultiLabelModel(n_states: 2, inference_method: ad3), n_jobs=1,\n",
        "       positive_constraint=None, show_loss_every=0, switch_to=None,\n",
        "       tol=1e-05, verbose=3)\n",
        "New violation: 0.963831 difference to last: 0.002382"
       ]
      },
      {
       "output_type": "stream",
       "stream": "stdout",
       "text": [
        "\n",
        "     pcost       dcost       gap    pres   dres\n",
        " 0: -1.3697e+02 -3.1344e+02  2e+02  1e-16  2e+00\n",
        " 1: -1.3741e+02 -1.4734e+02  1e+01  3e-15  1e-01\n",
        " 2: -1.3784e+02 -1.3968e+02  2e+00  2e-15  7e-03\n",
        " 3: -1.3798e+02 -1.3841e+02  4e-01  2e-15  1e-03\n",
        " 4: -1.3808e+02 -1.3821e+02  1e-01  4e-15  5e-16\n",
        " 5: -1.3812e+02 -1.3815e+02  3e-02  3e-15  6e-16\n",
        " 6: -1.3813e+02 -1.3813e+02  5e-03  5e-15  5e-16\n",
        " 7: -1.3813e+02 -1.3813e+02  5e-04  4e-15  6e-16\n",
        " 8: -1.3813e+02 -1.3813e+02  3e-05  4e-15  5e-16\n",
        "Optimal solution found.\n",
        "50 support vectors out of 126 points"
       ]
      },
      {
       "output_type": "stream",
       "stream": "stdout",
       "text": [
        "\n",
        "cutting plane objective: 138.131249, primal objective 138.419108\n",
        "iteration 246\n",
        "OneSlackSSVM(C=0.1, break_on_bad=False, cache_tol=auto,\n",
        "       check_constraints=False, inactive_threshold=1e-05,\n",
        "       inactive_window=50, inference_cache=0, logger=None, max_iter=10000,\n",
        "       model=MultiLabelModel(n_states: 2, inference_method: ad3), n_jobs=1,\n",
        "       positive_constraint=None, show_loss_every=0, switch_to=None,\n",
        "       tol=1e-05, verbose=3)\n",
        "New violation: 0.963566 difference to last: 0.002139"
       ]
      },
      {
       "output_type": "stream",
       "stream": "stdout",
       "text": [
        "\n",
        "     pcost       dcost       gap    pres   dres\n",
        " 0: -1.3694e+02 -3.1380e+02  2e+02  2e-16  2e+00\n",
        " 1: -1.3740e+02 -1.4801e+02  1e+01  3e-15  1e-01\n",
        " 2: -1.3782e+02 -1.3988e+02  2e+00  2e-15  1e-02\n",
        " 3: -1.3797e+02 -1.3844e+02  5e-01  2e-15  2e-03\n",
        " 4: -1.3808e+02 -1.3821e+02  1e-01  2e-15  6e-16\n",
        " 5: -1.3812e+02 -1.3815e+02  3e-02  3e-15  5e-16\n",
        " 6: -1.3813e+02 -1.3813e+02  5e-03  4e-15  6e-16\n",
        " 7: -1.3813e+02 -1.3813e+02  9e-04  4e-15  5e-16\n",
        " 8: -1.3813e+02 -1.3813e+02  6e-05  4e-15  5e-16\n",
        "Optimal solution found.\n",
        "56 support vectors out of 127 points"
       ]
      },
      {
       "output_type": "stream",
       "stream": "stdout",
       "text": [
        "\n",
        "cutting plane objective: 138.132084, primal objective 138.390245\n",
        "iteration 247\n",
        "OneSlackSSVM(C=0.1, break_on_bad=False, cache_tol=auto,\n",
        "       check_constraints=False, inactive_threshold=1e-05,\n",
        "       inactive_window=50, inference_cache=0, logger=None, max_iter=10000,\n",
        "       model=MultiLabelModel(n_states: 2, inference_method: ad3), n_jobs=1,\n",
        "       positive_constraint=None, show_loss_every=0, switch_to=None,\n",
        "       tol=1e-05, verbose=3)\n",
        "New violation: 0.963661 difference to last: 0.002318"
       ]
      },
      {
       "output_type": "stream",
       "stream": "stdout",
       "text": [
        "\n",
        "     pcost       dcost       gap    pres   dres\n",
        " 0: -1.3694e+02 -3.1312e+02  2e+02  1e-16  2e+00\n",
        " 1: -1.3740e+02 -1.4797e+02  1e+01  2e-15  1e-01\n",
        " 2: -1.3782e+02 -1.3989e+02  2e+00  2e-15  1e-02\n",
        " 3: -1.3797e+02 -1.3844e+02  5e-01  2e-15  2e-03\n",
        " 4: -1.3808e+02 -1.3821e+02  1e-01  4e-15  6e-16\n",
        " 5: -1.3812e+02 -1.3815e+02  3e-02  3e-15  5e-16\n",
        " 6: -1.3813e+02 -1.3813e+02  5e-03  4e-15  6e-16\n",
        " 7: -1.3813e+02 -1.3813e+02  5e-04  6e-15  5e-16"
       ]
      },
      {
       "output_type": "stream",
       "stream": "stdout",
       "text": [
        "\n",
        " 8: -1.3813e+02 -1.3813e+02  3e-05  4e-15  5e-16\n",
        "Optimal solution found.\n",
        "51 support vectors out of 128 points\n",
        "cutting plane objective: 138.132715, primal objective 138.412853\n",
        "iteration 248\n",
        "OneSlackSSVM(C=0.1, break_on_bad=False, cache_tol=auto,\n",
        "       check_constraints=False, inactive_threshold=1e-05,\n",
        "       inactive_window=50, inference_cache=0, logger=None, max_iter=10000,\n",
        "       model=MultiLabelModel(n_states: 2, inference_method: ad3), n_jobs=1,\n",
        "       positive_constraint=None, show_loss_every=0, switch_to=None,\n",
        "       tol=1e-05, verbose=3)\n",
        "New violation: 0.963468 difference to last: 0.002130"
       ]
      },
      {
       "output_type": "stream",
       "stream": "stdout",
       "text": [
        "\n",
        "     pcost       dcost       gap    pres   dres\n",
        " 0: -1.3697e+02 -3.1399e+02  2e+02  1e-17  2e+00\n",
        " 1: -1.3742e+02 -1.4831e+02  1e+01  2e-15  1e-01\n",
        " 2: -1.3781e+02 -1.4003e+02  2e+00  2e-15  1e-02\n",
        " 3: -1.3797e+02 -1.3847e+02  5e-01  2e-15  2e-03\n",
        " 4: -1.3808e+02 -1.3821e+02  1e-01  3e-15  8e-06\n",
        " 5: -1.3812e+02 -1.3815e+02  3e-02  2e-15  1e-06"
       ]
      },
      {
       "output_type": "stream",
       "stream": "stdout",
       "text": [
        "\n",
        " 6: -1.3813e+02 -1.3814e+02  5e-03  4e-15  9e-08\n",
        " 7: -1.3813e+02 -1.3813e+02  8e-04  4e-15  4e-09\n",
        " 8: -1.3813e+02 -1.3813e+02  5e-05  5e-15  2e-10\n",
        "Optimal solution found.\n",
        "56 support vectors out of 129 points\n",
        "cutting plane objective: 138.133259, primal objective 138.390688\n",
        "iteration 249\n",
        "OneSlackSSVM(C=0.1, break_on_bad=False, cache_tol=auto,\n",
        "       check_constraints=False, inactive_threshold=1e-05,\n",
        "       inactive_window=50, inference_cache=0, logger=None, max_iter=10000,\n",
        "       model=MultiLabelModel(n_states: 2, inference_method: ad3), n_jobs=1,\n",
        "       positive_constraint=None, show_loss_every=0, switch_to=None,\n",
        "       tol=1e-05, verbose=3)\n",
        "New violation: 0.963286 difference to last: 0.001948"
       ]
      },
      {
       "output_type": "stream",
       "stream": "stdout",
       "text": [
        "\n",
        "     pcost       dcost       gap    pres   dres\n",
        " 0: -1.3696e+02 -3.1143e+02  2e+02  7e-16  2e+00\n",
        " 1: -1.3741e+02 -1.4831e+02  1e+01  2e-15  1e-01\n",
        " 2: -1.3781e+02 -1.4000e+02  2e+00  2e-15  1e-02\n",
        " 3: -1.3797e+02 -1.3847e+02  5e-01  2e-15  2e-03\n",
        " 4: -1.3808e+02 -1.3821e+02  1e-01  3e-15  2e-05\n",
        " 5: -1.3812e+02 -1.3815e+02  3e-02  3e-15  3e-06\n",
        " 6: -1.3813e+02 -1.3814e+02  4e-03  5e-15  3e-07"
       ]
      },
      {
       "output_type": "stream",
       "stream": "stdout",
       "text": [
        "\n",
        " 7: -1.3813e+02 -1.3813e+02  8e-04  3e-15  4e-08\n",
        " 8: -1.3813e+02 -1.3813e+02  9e-05  3e-15  3e-09\n",
        "Optimal solution found.\n",
        "61 support vectors out of 130 points\n",
        "cutting plane objective: 138.133706, primal objective 138.369236\n",
        "iteration 250\n",
        "OneSlackSSVM(C=0.1, break_on_bad=False, cache_tol=auto,\n",
        "       check_constraints=False, inactive_threshold=1e-05,\n",
        "       inactive_window=50, inference_cache=0, logger=None, max_iter=10000,\n",
        "       model=MultiLabelModel(n_states: 2, inference_method: ad3), n_jobs=1,\n",
        "       positive_constraint=None, show_loss_every=0, switch_to=None,\n",
        "       tol=1e-05, verbose=3)\n",
        "New violation: 0.963183 difference to last: 0.001875"
       ]
      },
      {
       "output_type": "stream",
       "stream": "stdout",
       "text": [
        "\n",
        "     pcost       dcost       gap    pres   dres\n",
        " 0: -1.3699e+02 -3.1060e+02  2e+02  1e-16  2e+00\n",
        " 1: -1.3742e+02 -1.4793e+02  1e+01  2e-15  1e-01\n",
        " 2: -1.3783e+02 -1.3994e+02  2e+00  2e-15  1e-02\n",
        " 3: -1.3798e+02 -1.3847e+02  5e-01  2e-15  2e-03"
       ]
      },
      {
       "output_type": "stream",
       "stream": "stdout",
       "text": [
        "\n",
        " 4: -1.3808e+02 -1.3820e+02  1e-01  3e-15  7e-05\n",
        " 5: -1.3812e+02 -1.3814e+02  3e-02  3e-15  9e-06\n",
        " 6: -1.3813e+02 -1.3814e+02  4e-03  3e-15  7e-07\n",
        " 7: -1.3813e+02 -1.3813e+02  6e-04  4e-15  6e-08\n",
        " 8: -1.3813e+02 -1.3813e+02  4e-05  4e-15  7e-10\n",
        "Optimal solution found.\n",
        "56 support vectors out of 131 points\n",
        "cutting plane objective: 138.134332, primal objective 138.360826\n",
        "iteration 251\n",
        "OneSlackSSVM(C=0.1, break_on_bad=False, cache_tol=auto,\n",
        "       check_constraints=False, inactive_threshold=1e-05,\n",
        "       inactive_window=50, inference_cache=0, logger=None, max_iter=10000,\n",
        "       model=MultiLabelModel(n_states: 2, inference_method: ad3), n_jobs=1,\n",
        "       positive_constraint=None, show_loss_every=0, switch_to=None,\n",
        "       tol=1e-05, verbose=3)\n",
        "New violation: 0.963215 difference to last: 0.001862"
       ]
      },
      {
       "output_type": "stream",
       "stream": "stdout",
       "text": [
        "\n",
        "     pcost       dcost       gap    pres   dres\n",
        " 0: -1.3700e+02 -3.1085e+02  2e+02  2e-16  2e+00\n",
        " 1: -1.3743e+02 -1.4794e+02  1e+01  2e-15  1e-01\n",
        " 2: -1.3783e+02 -1.3989e+02  2e+00  2e-15  1e-02\n",
        " 3: -1.3798e+02 -1.3846e+02  5e-01  2e-15  2e-03\n",
        " 4: -1.3808e+02 -1.3820e+02  1e-01  4e-15  7e-05\n",
        " 5: -1.3812e+02 -1.3815e+02  3e-02  2e-15  7e-06\n",
        " 6: -1.3813e+02 -1.3814e+02  3e-03  4e-15  1e-07"
       ]
      },
      {
       "output_type": "stream",
       "stream": "stdout",
       "text": [
        "\n",
        " 7: -1.3813e+02 -1.3813e+02  4e-04  5e-15  1e-08\n",
        " 8: -1.3813e+02 -1.3813e+02  2e-05  4e-15  3e-10\n",
        "Optimal solution found.\n",
        "50 support vectors out of 132 points\n",
        "cutting plane objective: 138.134817, primal objective 138.359908\n",
        "iteration 252\n",
        "OneSlackSSVM(C=0.1, break_on_bad=False, cache_tol=auto,\n",
        "       check_constraints=False, inactive_threshold=1e-05,\n",
        "       inactive_window=50, inference_cache=0, logger=None, max_iter=10000,\n",
        "       model=MultiLabelModel(n_states: 2, inference_method: ad3), n_jobs=1,\n",
        "       positive_constraint=None, show_loss_every=0, switch_to=None,\n",
        "       tol=1e-05, verbose=3)\n",
        "New violation: 0.963353 difference to last: 0.002074"
       ]
      },
      {
       "output_type": "stream",
       "stream": "stdout",
       "text": [
        "\n",
        "     pcost       dcost       gap    pres   dres\n",
        " 0: -1.3700e+02 -3.0792e+02  2e+02  1e-16  2e+00\n",
        " 1: -1.3741e+02 -1.4770e+02  1e+01  2e-15  1e-01\n",
        " 2: -1.3783e+02 -1.3991e+02  2e+00  2e-15  1e-02\n",
        " 3: -1.3798e+02 -1.3846e+02  5e-01  2e-15  2e-03\n",
        " 4: -1.3808e+02 -1.3820e+02  1e-01  2e-15  7e-05\n",
        " 5: -1.3812e+02 -1.3815e+02  3e-02  3e-15  7e-06"
       ]
      },
      {
       "output_type": "stream",
       "stream": "stdout",
       "text": [
        "\n",
        " 6: -1.3813e+02 -1.3814e+02  4e-03  4e-15  4e-07\n",
        " 7: -1.3814e+02 -1.3814e+02  4e-04  4e-15  3e-08\n",
        " 8: -1.3814e+02 -1.3814e+02  3e-05  4e-15  5e-10\n",
        "Optimal solution found.\n",
        "51 support vectors out of 133 points\n",
        "cutting plane objective: 138.135239, primal objective 138.385971\n",
        "iteration 253\n",
        "OneSlackSSVM(C=0.1, break_on_bad=False, cache_tol=auto,\n",
        "       check_constraints=False, inactive_threshold=1e-05,\n",
        "       inactive_window=50, inference_cache=0, logger=None, max_iter=10000,\n",
        "       model=MultiLabelModel(n_states: 2, inference_method: ad3), n_jobs=1,\n",
        "       positive_constraint=None, show_loss_every=0, switch_to=None,\n",
        "       tol=1e-05, verbose=3)\n",
        "New violation: 0.962938 difference to last: 0.001669"
       ]
      },
      {
       "output_type": "stream",
       "stream": "stdout",
       "text": [
        "\n",
        "     pcost       dcost       gap    pres   dres\n",
        " 0: -1.3703e+02 -3.0641e+02  2e+02  6e-17  2e+00\n",
        " 1: -1.3743e+02 -1.4749e+02  1e+01  2e-15  1e-01\n",
        " 2: -1.3784e+02 -1.3984e+02  2e+00  2e-15  1e-02\n",
        " 3: -1.3799e+02 -1.3845e+02  5e-01  2e-15  1e-03\n",
        " 4: -1.3808e+02 -1.3820e+02  1e-01  3e-15  6e-05\n",
        " 5: -1.3812e+02 -1.3815e+02  3e-02  3e-15  6e-06"
       ]
      },
      {
       "output_type": "stream",
       "stream": "stdout",
       "text": [
        "\n",
        " 6: -1.3813e+02 -1.3814e+02  3e-03  4e-15  2e-07\n",
        " 7: -1.3814e+02 -1.3814e+02  8e-04  6e-15  4e-08\n",
        " 8: -1.3814e+02 -1.3814e+02  4e-05  4e-15  3e-11\n",
        "Optimal solution found.\n",
        "58 support vectors out of 134 points\n",
        "cutting plane objective: 138.135640, primal objective 138.337359\n",
        "iteration 254\n",
        "OneSlackSSVM(C=0.1, break_on_bad=False, cache_tol=auto,\n",
        "       check_constraints=False, inactive_threshold=1e-05,\n",
        "       inactive_window=50, inference_cache=0, logger=None, max_iter=10000,\n",
        "       model=MultiLabelModel(n_states: 2, inference_method: ad3), n_jobs=1,\n",
        "       positive_constraint=None, show_loss_every=0, switch_to=None,\n",
        "       tol=1e-05, verbose=3)\n",
        "New violation: 0.963095 difference to last: 0.001718"
       ]
      },
      {
       "output_type": "stream",
       "stream": "stdout",
       "text": [
        "\n",
        "     pcost       dcost       gap    pres   dres\n",
        " 0: -1.3703e+02 -3.0591e+02  2e+02  8e-17  2e+00\n",
        " 1: -1.3742e+02 -1.4774e+02  1e+01  2e-15  1e-01\n",
        " 2: -1.3784e+02 -1.3990e+02  2e+00  2e-15  1e-02\n",
        " 3: -1.3799e+02 -1.3847e+02  5e-01  2e-15  1e-03\n",
        " 4: -1.3808e+02 -1.3820e+02  1e-01  3e-15  8e-05\n",
        " 5: -1.3812e+02 -1.3815e+02  2e-02  3e-15  4e-06\n",
        " 6: -1.3813e+02 -1.3814e+02  3e-03  4e-15  2e-07\n",
        " 7: -1.3814e+02 -1.3814e+02  3e-04  4e-15  1e-09\n",
        " 8: -1.3814e+02 -1.3814e+02  1e-05  3e-15  5e-11"
       ]
      },
      {
       "output_type": "stream",
       "stream": "stdout",
       "text": [
        "\n",
        "Optimal solution found.\n",
        "50 support vectors out of 135 points\n",
        "cutting plane objective: 138.136085, primal objective 138.343713\n",
        "iteration 255\n",
        "OneSlackSSVM(C=0.1, break_on_bad=False, cache_tol=auto,\n",
        "       check_constraints=False, inactive_threshold=1e-05,\n",
        "       inactive_window=50, inference_cache=0, logger=None, max_iter=10000,\n",
        "       model=MultiLabelModel(n_states: 2, inference_method: ad3), n_jobs=1,\n",
        "       positive_constraint=None, show_loss_every=0, switch_to=None,\n",
        "       tol=1e-05, verbose=3)\n",
        "New violation: 0.963346 difference to last: 0.001945"
       ]
      },
      {
       "output_type": "stream",
       "stream": "stdout",
       "text": [
        "\n",
        "     pcost       dcost       gap    pres   dres\n",
        " 0: -1.3702e+02 -3.0588e+02  2e+02  1e-16  2e+00\n",
        " 1: -1.3741e+02 -1.4758e+02  1e+01  2e-15  1e-01\n",
        " 2: -1.3784e+02 -1.3985e+02  2e+00  2e-15  1e-02\n",
        " 3: -1.3799e+02 -1.3846e+02  5e-01  2e-15  1e-03\n",
        " 4: -1.3809e+02 -1.3819e+02  1e-01  3e-15  6e-05\n",
        " 5: -1.3812e+02 -1.3815e+02  2e-02  2e-15  2e-06\n",
        " 6: -1.3814e+02 -1.3814e+02  3e-03  4e-15  9e-08\n",
        " 7: -1.3814e+02 -1.3814e+02  6e-04  3e-15  5e-16"
       ]
      },
      {
       "output_type": "stream",
       "stream": "stdout",
       "text": [
        "\n",
        " 8: -1.3814e+02 -1.3814e+02  4e-05  3e-15  5e-16\n",
        "Optimal solution found.\n",
        "57 support vectors out of 136 points\n",
        "cutting plane objective: 138.136533, primal objective 138.371675\n",
        "iteration 256\n",
        "OneSlackSSVM(C=0.1, break_on_bad=False, cache_tol=auto,\n",
        "       check_constraints=False, inactive_threshold=1e-05,\n",
        "       inactive_window=50, inference_cache=0, logger=None, max_iter=10000,\n",
        "       model=MultiLabelModel(n_states: 2, inference_method: ad3), n_jobs=1,\n",
        "       positive_constraint=None, show_loss_every=0, switch_to=None,\n",
        "       tol=1e-05, verbose=3)\n",
        "New violation: 0.962975 difference to last: 0.001600"
       ]
      },
      {
       "output_type": "stream",
       "stream": "stdout",
       "text": [
        "\n",
        "     pcost       dcost       gap    pres   dres\n",
        " 0: -1.3703e+02 -3.0606e+02  2e+02  9e-16  2e+00\n",
        " 1: -1.3743e+02 -1.4748e+02  1e+01  2e-15  1e-01\n",
        " 2: -1.3785e+02 -1.3983e+02  2e+00  2e-15  9e-03\n",
        " 3: -1.3799e+02 -1.3845e+02  5e-01  2e-15  1e-03"
       ]
      },
      {
       "output_type": "stream",
       "stream": "stdout",
       "text": [
        "\n",
        " 4: -1.3809e+02 -1.3819e+02  1e-01  3e-15  7e-05\n",
        " 5: -1.3812e+02 -1.3815e+02  3e-02  3e-15  5e-06\n",
        " 6: -1.3813e+02 -1.3814e+02  4e-03  4e-15  4e-07\n",
        " 7: -1.3814e+02 -1.3814e+02  8e-04  3e-15  8e-08\n",
        " 8: -1.3814e+02 -1.3814e+02  8e-05  3e-15  4e-09\n",
        "Optimal solution found.\n",
        "69 support vectors out of 137 points\n",
        "cutting plane objective: 138.137045, primal objective 138.330327\n",
        "iteration 257\n",
        "OneSlackSSVM(C=0.1, break_on_bad=False, cache_tol=auto,\n",
        "       check_constraints=False, inactive_threshold=1e-05,\n",
        "       inactive_window=50, inference_cache=0, logger=None, max_iter=10000,\n",
        "       model=MultiLabelModel(n_states: 2, inference_method: ad3), n_jobs=1,\n",
        "       positive_constraint=None, show_loss_every=0, switch_to=None,\n",
        "       tol=1e-05, verbose=3)\n",
        "New violation: 0.962976 difference to last: 0.001640"
       ]
      },
      {
       "output_type": "stream",
       "stream": "stdout",
       "text": [
        "\n",
        "     pcost       dcost       gap    pres   dres\n",
        " 0: -1.3702e+02 -3.0698e+02  2e+02  3e-16  2e+00\n",
        " 1: -1.3742e+02 -1.4758e+02  1e+01  2e-15  1e-01\n",
        " 2: -1.3784e+02 -1.3990e+02  2e+00  2e-15  1e-02\n",
        " 3: -1.3799e+02 -1.3847e+02  5e-01  2e-15  1e-03\n",
        " 4: -1.3809e+02 -1.3819e+02  1e-01  3e-15  8e-05\n",
        " 5: -1.3812e+02 -1.3815e+02  3e-02  3e-15  6e-06"
       ]
      },
      {
       "output_type": "stream",
       "stream": "stdout",
       "text": [
        "\n",
        " 6: -1.3814e+02 -1.3814e+02  3e-03  3e-15  4e-07\n",
        " 7: -1.3814e+02 -1.3814e+02  7e-04  4e-15  7e-08\n",
        " 8: -1.3814e+02 -1.3814e+02  5e-05  4e-15  3e-09\n",
        "Optimal solution found.\n",
        "58 support vectors out of 138 points\n",
        "cutting plane objective: 138.137553, primal objective 138.335728\n",
        "iteration 258\n",
        "OneSlackSSVM(C=0.1, break_on_bad=False, cache_tol=auto,\n",
        "       check_constraints=False, inactive_threshold=1e-05,\n",
        "       inactive_window=50, inference_cache=0, logger=None, max_iter=10000,\n",
        "       model=MultiLabelModel(n_states: 2, inference_method: ad3), n_jobs=1,\n",
        "       positive_constraint=None, show_loss_every=0, switch_to=None,\n",
        "       tol=1e-05, verbose=3)\n",
        "New violation: 0.962991 difference to last: 0.001634"
       ]
      },
      {
       "output_type": "stream",
       "stream": "stdout",
       "text": [
        "\n",
        "     pcost       dcost       gap    pres   dres\n",
        " 0: -1.3702e+02 -3.0527e+02  2e+02  5e-16  2e+00\n",
        " 1: -1.3741e+02 -1.4762e+02  1e+01  2e-15  1e-01\n",
        " 2: -1.3784e+02 -1.3993e+02  2e+00  2e-15  1e-02"
       ]
      },
      {
       "output_type": "stream",
       "stream": "stdout",
       "text": [
        "\n",
        " 3: -1.3799e+02 -1.3847e+02  5e-01  2e-15  1e-03\n",
        " 4: -1.3809e+02 -1.3819e+02  1e-01  3e-15  1e-04\n",
        " 5: -1.3812e+02 -1.3815e+02  3e-02  4e-15  8e-06\n",
        " 6: -1.3814e+02 -1.3814e+02  3e-03  4e-15  3e-07\n",
        " 7: -1.3814e+02 -1.3814e+02  8e-04  4e-15  6e-08\n",
        " 8: -1.3814e+02 -1.3814e+02  9e-05  3e-15  3e-09\n",
        "Optimal solution found.\n",
        "72 support vectors out of 139 points\n",
        "cutting plane objective: 138.137964, primal objective 138.335495\n",
        "iteration 259\n",
        "OneSlackSSVM(C=0.1, break_on_bad=False, cache_tol=auto,\n",
        "       check_constraints=False, inactive_threshold=1e-05,\n",
        "       inactive_window=50, inference_cache=0, logger=None, max_iter=10000,\n",
        "       model=MultiLabelModel(n_states: 2, inference_method: ad3), n_jobs=1,\n",
        "       positive_constraint=None, show_loss_every=0, switch_to=None,\n",
        "       tol=1e-05, verbose=3)\n",
        "New violation: 0.962900 difference to last: 0.001561"
       ]
      },
      {
       "output_type": "stream",
       "stream": "stdout",
       "text": [
        "\n",
        "     pcost       dcost       gap    pres   dres\n",
        " 0: -1.3710e+02 -2.9888e+02  2e+02  3e-16  2e+00\n",
        " 1: -1.3746e+02 -1.4698e+02  1e+01  2e-15  1e-01\n",
        " 2: -1.3786e+02 -1.3980e+02  2e+00  2e-15  9e-03\n",
        " 3: -1.3800e+02 -1.3840e+02  4e-01  3e-15  9e-04"
       ]
      },
      {
       "output_type": "stream",
       "stream": "stdout",
       "text": [
        "\n",
        " 4: -1.3809e+02 -1.3820e+02  1e-01  2e-15  4e-05\n",
        " 5: -1.3813e+02 -1.3815e+02  2e-02  3e-15  3e-06\n",
        " 6: -1.3814e+02 -1.3814e+02  3e-03  4e-15  2e-07\n",
        " 7: -1.3814e+02 -1.3814e+02  9e-04  4e-15  5e-08\n",
        " 8: -1.3814e+02 -1.3814e+02  1e-04  4e-15  2e-10\n",
        "Optimal solution found.\n",
        "73 support vectors out of 139 points\n",
        "cutting plane objective: 138.138356, primal objective 138.327036\n",
        "iteration 260\n",
        "OneSlackSSVM(C=0.1, break_on_bad=False, cache_tol=auto,\n",
        "       check_constraints=False, inactive_threshold=1e-05,\n",
        "       inactive_window=50, inference_cache=0, logger=None, max_iter=10000,\n",
        "       model=MultiLabelModel(n_states: 2, inference_method: ad3), n_jobs=1,\n",
        "       positive_constraint=None, show_loss_every=0, switch_to=None,\n",
        "       tol=1e-05, verbose=3)\n",
        "New violation: 0.962797 difference to last: 0.001474"
       ]
      },
      {
       "output_type": "stream",
       "stream": "stdout",
       "text": [
        "\n",
        "     pcost       dcost       gap    pres   dres\n",
        " 0: -1.3710e+02 -3.0049e+02  2e+02  1e-16  2e+00\n",
        " 1: -1.3746e+02 -1.4729e+02  1e+01  2e-15  1e-01\n",
        " 2: -1.3785e+02 -1.3987e+02  2e+00  2e-15  1e-02\n",
        " 3: -1.3800e+02 -1.3843e+02  4e-01  2e-15  1e-03"
       ]
      },
      {
       "output_type": "stream",
       "stream": "stdout",
       "text": [
        "\n",
        " 4: -1.3809e+02 -1.3820e+02  1e-01  2e-15  7e-05\n",
        " 5: -1.3812e+02 -1.3815e+02  3e-02  3e-15  5e-06\n",
        " 6: -1.3814e+02 -1.3814e+02  4e-03  3e-15  5e-07\n",
        " 7: -1.3814e+02 -1.3814e+02  1e-03  5e-15  1e-07\n",
        " 8: -1.3814e+02 -1.3814e+02  9e-05  3e-15  2e-09\n",
        "Optimal solution found.\n",
        "73 support vectors out of 140 points\n",
        "cutting plane objective: 138.138708, primal objective 138.316957\n",
        "iteration 261\n",
        "OneSlackSSVM(C=0.1, break_on_bad=False, cache_tol=auto,\n",
        "       check_constraints=False, inactive_threshold=1e-05,\n",
        "       inactive_window=50, inference_cache=0, logger=None, max_iter=10000,\n",
        "       model=MultiLabelModel(n_states: 2, inference_method: ad3), n_jobs=1,\n",
        "       positive_constraint=None, show_loss_every=0, switch_to=None,\n",
        "       tol=1e-05, verbose=3)\n",
        "New violation: 0.962790 difference to last: 0.001472"
       ]
      },
      {
       "output_type": "stream",
       "stream": "stdout",
       "text": [
        "\n",
        "     pcost       dcost       gap    pres   dres\n",
        " 0: -1.3711e+02 -2.9944e+02  2e+02  7e-16  2e+00\n",
        " 1: -1.3747e+02 -1.4754e+02  1e+01  2e-15  1e-01"
       ]
      },
      {
       "output_type": "stream",
       "stream": "stdout",
       "text": [
        "\n",
        " 2: -1.3784e+02 -1.3998e+02  2e+00  2e-15  1e-02\n",
        " 3: -1.3800e+02 -1.3845e+02  5e-01  2e-15  1e-03\n",
        " 4: -1.3809e+02 -1.3820e+02  1e-01  2e-15  8e-05\n",
        " 5: -1.3812e+02 -1.3815e+02  3e-02  4e-15  6e-06\n",
        " 6: -1.3814e+02 -1.3814e+02  3e-03  4e-15  3e-07\n",
        " 7: -1.3814e+02 -1.3814e+02  5e-04  4e-15  3e-08\n",
        " 8: -1.3814e+02 -1.3814e+02  7e-05  4e-15  3e-09\n",
        "Optimal solution found.\n",
        "64 support vectors out of 141 points\n",
        "cutting plane objective: 138.139024, primal objective 138.317053\n",
        "iteration 262\n",
        "OneSlackSSVM(C=0.1, break_on_bad=False, cache_tol=auto,\n",
        "       check_constraints=False, inactive_threshold=1e-05,\n",
        "       inactive_window=50, inference_cache=0, logger=None, max_iter=10000,\n",
        "       model=MultiLabelModel(n_states: 2, inference_method: ad3), n_jobs=1,\n",
        "       positive_constraint=None, show_loss_every=0, switch_to=None,\n",
        "       tol=1e-05, verbose=3)\n",
        "New violation: 0.962710 difference to last: 0.001431"
       ]
      },
      {
       "output_type": "stream",
       "stream": "stdout",
       "text": [
        "\n",
        "     pcost       dcost       gap    pres   dres\n",
        " 0: -1.3713e+02 -3.0050e+02  2e+02  1e-17  2e+00\n",
        " 1: -1.3748e+02 -1.4758e+02  1e+01  2e-15  1e-01"
       ]
      },
      {
       "output_type": "stream",
       "stream": "stdout",
       "text": [
        "\n",
        " 2: -1.3785e+02 -1.3996e+02  2e+00  2e-15  1e-02\n",
        " 3: -1.3800e+02 -1.3845e+02  5e-01  2e-15  1e-03\n",
        " 4: -1.3809e+02 -1.3820e+02  1e-01  2e-15  1e-04\n",
        " 5: -1.3813e+02 -1.3815e+02  3e-02  4e-15  8e-06\n",
        " 6: -1.3814e+02 -1.3814e+02  3e-03  4e-15  4e-07\n",
        " 7: -1.3814e+02 -1.3814e+02  5e-04  4e-15  5e-08\n",
        " 8: -1.3814e+02 -1.3814e+02  8e-05  4e-15  5e-09\n",
        "Optimal solution found.\n",
        "72 support vectors out of 142 points\n",
        "cutting plane objective: 138.139323, primal objective 138.312373\n",
        "iteration 263\n",
        "OneSlackSSVM(C=0.1, break_on_bad=False, cache_tol=auto,\n",
        "       check_constraints=False, inactive_threshold=1e-05,\n",
        "       inactive_window=50, inference_cache=0, logger=None, max_iter=10000,\n",
        "       model=MultiLabelModel(n_states: 2, inference_method: ad3), n_jobs=1,\n",
        "       positive_constraint=None, show_loss_every=0, switch_to=None,\n",
        "       tol=1e-05, verbose=3)\n",
        "New violation: 0.962553 difference to last: 0.001282"
       ]
      },
      {
       "output_type": "stream",
       "stream": "stdout",
       "text": [
        "\n",
        "     pcost       dcost       gap    pres   dres\n",
        " 0: -1.3712e+02 -3.0060e+02  2e+02  5e-16  2e+00\n",
        " 1: -1.3747e+02 -1.4793e+02  1e+01  2e-15  1e-01"
       ]
      },
      {
       "output_type": "stream",
       "stream": "stdout",
       "text": [
        "\n",
        " 2: -1.3784e+02 -1.4004e+02  2e+00  2e-15  1e-02\n",
        " 3: -1.3800e+02 -1.3846e+02  5e-01  2e-15  1e-03\n",
        " 4: -1.3809e+02 -1.3820e+02  1e-01  3e-15  1e-04\n",
        " 5: -1.3812e+02 -1.3815e+02  3e-02  3e-15  1e-05\n",
        " 6: -1.3814e+02 -1.3814e+02  4e-03  3e-15  9e-07\n",
        " 7: -1.3814e+02 -1.3814e+02  6e-04  4e-15  1e-07\n",
        " 8: -1.3814e+02 -1.3814e+02  9e-05  4e-15  9e-09\n",
        "Optimal solution found.\n",
        "76 support vectors out of 143 points\n",
        "cutting plane objective: 138.139592, primal objective 138.294638\n",
        "iteration 264\n",
        "OneSlackSSVM(C=0.1, break_on_bad=False, cache_tol=auto,\n",
        "       check_constraints=False, inactive_threshold=1e-05,\n",
        "       inactive_window=50, inference_cache=0, logger=None, max_iter=10000,\n",
        "       model=MultiLabelModel(n_states: 2, inference_method: ad3), n_jobs=1,\n",
        "       positive_constraint=None, show_loss_every=0, switch_to=None,\n",
        "       tol=1e-05, verbose=3)\n",
        "New violation: 0.962640 difference to last: 0.001332"
       ]
      },
      {
       "output_type": "stream",
       "stream": "stdout",
       "text": [
        "\n",
        "     pcost       dcost       gap    pres   dres\n",
        " 0: -1.3713e+02 -2.9972e+02  2e+02  6e-16  2e+00\n",
        " 1: -1.3748e+02 -1.4772e+02  1e+01  2e-15  1e-01"
       ]
      },
      {
       "output_type": "stream",
       "stream": "stdout",
       "text": [
        "\n",
        " 2: -1.3784e+02 -1.4003e+02  2e+00  2e-15  1e-02\n",
        " 3: -1.3800e+02 -1.3846e+02  5e-01  2e-15  1e-03\n",
        " 4: -1.3809e+02 -1.3820e+02  1e-01  4e-15  1e-04\n",
        " 5: -1.3812e+02 -1.3815e+02  3e-02  3e-15  1e-05\n",
        " 6: -1.3814e+02 -1.3814e+02  4e-03  5e-15  8e-07\n",
        " 7: -1.3814e+02 -1.3814e+02  7e-04  4e-15  1e-07\n",
        " 8: -1.3814e+02 -1.3814e+02  1e-04  4e-15  2e-08\n",
        "Optimal solution found.\n",
        "84 support vectors out of 144 points\n",
        "cutting plane objective: 138.139815, primal objective 138.300939\n",
        "iteration 265\n",
        "OneSlackSSVM(C=0.1, break_on_bad=False, cache_tol=auto,\n",
        "       check_constraints=False, inactive_threshold=1e-05,\n",
        "       inactive_window=50, inference_cache=0, logger=None, max_iter=10000,\n",
        "       model=MultiLabelModel(n_states: 2, inference_method: ad3), n_jobs=1,\n",
        "       positive_constraint=None, show_loss_every=0, switch_to=None,\n",
        "       tol=1e-05, verbose=3)\n",
        "New violation: 0.962548 difference to last: 0.001252"
       ]
      },
      {
       "output_type": "stream",
       "stream": "stdout",
       "text": [
        "\n",
        "     pcost       dcost       gap    pres   dres\n",
        " 0: -1.3713e+02 -3.0026e+02  2e+02  6e-17  2e+00\n",
        " 1: -1.3748e+02 -1.4775e+02  1e+01  2e-15  1e-01"
       ]
      },
      {
       "output_type": "stream",
       "stream": "stdout",
       "text": [
        "\n",
        " 2: -1.3784e+02 -1.4005e+02  2e+00  2e-15  1e-02\n",
        " 3: -1.3800e+02 -1.3848e+02  5e-01  2e-15  2e-03\n",
        " 4: -1.3809e+02 -1.3821e+02  1e-01  3e-15  2e-04\n",
        " 5: -1.3812e+02 -1.3815e+02  3e-02  4e-15  2e-05\n",
        " 6: -1.3814e+02 -1.3814e+02  5e-03  4e-15  2e-06\n",
        " 7: -1.3814e+02 -1.3814e+02  9e-04  3e-15  3e-07\n",
        " 8: -1.3814e+02 -1.3814e+02  3e-04  3e-15  7e-16\n",
        " 9: -1.3814e+02 -1.3814e+02  1e-05  4e-15  6e-16\n",
        "Optimal solution found.\n",
        "59 support vectors out of 145 points\n",
        "cutting plane objective: 138.140124, primal objective 138.291606\n",
        "iteration 266\n",
        "OneSlackSSVM(C=0.1, break_on_bad=False, cache_tol=auto,\n",
        "       check_constraints=False, inactive_threshold=1e-05,\n",
        "       inactive_window=50, inference_cache=0, logger=None, max_iter=10000,\n",
        "       model=MultiLabelModel(n_states: 2, inference_method: ad3), n_jobs=1,\n",
        "       positive_constraint=None, show_loss_every=0, switch_to=None,\n",
        "       tol=1e-05, verbose=3)\n",
        "New violation: 0.962587 difference to last: 0.001335"
       ]
      },
      {
       "output_type": "stream",
       "stream": "stdout",
       "text": [
        "\n",
        "     pcost       dcost       gap    pres   dres"
       ]
      },
      {
       "output_type": "stream",
       "stream": "stdout",
       "text": [
        "\n",
        " 0: -1.3713e+02 -3.0181e+02  2e+02  5e-16  2e+00\n",
        " 1: -1.3748e+02 -1.4788e+02  1e+01  2e-15  1e-01\n",
        " 2: -1.3784e+02 -1.4009e+02  2e+00  2e-15  1e-02\n",
        " 3: -1.3800e+02 -1.3848e+02  5e-01  2e-15  1e-03\n",
        " 4: -1.3809e+02 -1.3821e+02  1e-01  3e-15  2e-04\n",
        " 5: -1.3812e+02 -1.3815e+02  3e-02  3e-15  2e-05\n",
        " 6: -1.3814e+02 -1.3814e+02  6e-03  3e-15  2e-06\n",
        " 7: -1.3814e+02 -1.3814e+02  8e-04  4e-15  3e-07\n",
        " 8: -1.3814e+02 -1.3814e+02  7e-05  3e-15  6e-16\n",
        "Optimal solution found.\n",
        "74 support vectors out of 146 points\n",
        "cutting plane objective: 138.140299, primal objective 138.301780\n",
        "iteration 267\n",
        "OneSlackSSVM(C=0.1, break_on_bad=False, cache_tol=auto,\n",
        "       check_constraints=False, inactive_threshold=1e-05,\n",
        "       inactive_window=50, inference_cache=0, logger=None, max_iter=10000,\n",
        "       model=MultiLabelModel(n_states: 2, inference_method: ad3), n_jobs=1,\n",
        "       positive_constraint=None, show_loss_every=0, switch_to=None,\n",
        "       tol=1e-05, verbose=3)\n",
        "New violation: 0.962408 difference to last: 0.001158"
       ]
      },
      {
       "output_type": "stream",
       "stream": "stdout",
       "text": [
        "\n",
        "     pcost       dcost       gap    pres   dres"
       ]
      },
      {
       "output_type": "stream",
       "stream": "stdout",
       "text": [
        "\n",
        " 0: -1.3713e+02 -3.0179e+02  2e+02  3e-16  2e+00\n",
        " 1: -1.3749e+02 -1.4820e+02  1e+01  2e-15  1e-01\n",
        " 2: -1.3783e+02 -1.4021e+02  2e+00  2e-15  2e-02\n",
        " 3: -1.3800e+02 -1.3850e+02  5e-01  2e-15  2e-03\n",
        " 4: -1.3808e+02 -1.3822e+02  1e-01  3e-15  2e-04\n",
        " 5: -1.3812e+02 -1.3816e+02  4e-02  3e-15  4e-05\n",
        " 6: -1.3814e+02 -1.3814e+02  8e-03  4e-15  5e-06\n",
        " 7: -1.3814e+02 -1.3814e+02  1e-03  4e-15  7e-07\n",
        " 8: -1.3814e+02 -1.3814e+02  2e-04  4e-15  2e-10\n",
        " 9: -1.3814e+02 -1.3814e+02  1e-05  4e-15  5e-12\n",
        "Optimal solution found.\n",
        "61 support vectors out of 147 points\n",
        "cutting plane objective: 138.140601, primal objective 138.280622\n",
        "iteration 268\n",
        "OneSlackSSVM(C=0.1, break_on_bad=False, cache_tol=auto,\n",
        "       check_constraints=False, inactive_threshold=1e-05,\n",
        "       inactive_window=50, inference_cache=0, logger=None, max_iter=10000,\n",
        "       model=MultiLabelModel(n_states: 2, inference_method: ad3), n_jobs=1,\n",
        "       positive_constraint=None, show_loss_every=0, switch_to=None,\n",
        "       tol=1e-05, verbose=3)\n",
        "New violation: 0.962463 difference to last: 0.001236"
       ]
      },
      {
       "output_type": "stream",
       "stream": "stdout",
       "text": [
        "\n",
        "     pcost       dcost       gap    pres   dres"
       ]
      },
      {
       "output_type": "stream",
       "stream": "stdout",
       "text": [
        "\n",
        " 0: -1.3714e+02 -3.0131e+02  2e+02  3e-16  2e+00\n",
        " 1: -1.3749e+02 -1.4787e+02  1e+01  2e-15  1e-01\n",
        " 2: -1.3784e+02 -1.4011e+02  2e+00  2e-15  2e-02\n",
        " 3: -1.3800e+02 -1.3850e+02  5e-01  2e-15  2e-03\n",
        " 4: -1.3809e+02 -1.3821e+02  1e-01  3e-15  2e-04\n",
        " 5: -1.3812e+02 -1.3815e+02  3e-02  3e-15  2e-05\n",
        " 6: -1.3814e+02 -1.3814e+02  6e-03  4e-15  3e-06\n",
        " 7: -1.3814e+02 -1.3814e+02  8e-04  4e-15  3e-07\n",
        " 8: -1.3814e+02 -1.3814e+02  7e-05  4e-15  4e-09\n",
        "Optimal solution found.\n",
        "72 support vectors out of 148 points\n",
        "cutting plane objective: 138.140802, primal objective 138.290296\n",
        "iteration 269\n",
        "OneSlackSSVM(C=0.1, break_on_bad=False, cache_tol=auto,\n",
        "       check_constraints=False, inactive_threshold=1e-05,\n",
        "       inactive_window=50, inference_cache=0, logger=None, max_iter=10000,\n",
        "       model=MultiLabelModel(n_states: 2, inference_method: ad3), n_jobs=1,\n",
        "       positive_constraint=None, show_loss_every=0, switch_to=None,\n",
        "       tol=1e-05, verbose=3)\n",
        "New violation: 0.962480 difference to last: 0.001212"
       ]
      },
      {
       "output_type": "stream",
       "stream": "stdout",
       "text": [
        "\n",
        "     pcost       dcost       gap    pres   dres"
       ]
      },
      {
       "output_type": "stream",
       "stream": "stdout",
       "text": [
        "\n",
        " 0: -1.3714e+02 -3.0161e+02  2e+02  1e-16  2e+00\n",
        " 1: -1.3749e+02 -1.4791e+02  1e+01  2e-15  1e-01\n",
        " 2: -1.3784e+02 -1.4014e+02  2e+00  2e-15  2e-02\n",
        " 3: -1.3800e+02 -1.3851e+02  5e-01  2e-15  2e-03\n",
        " 4: -1.3808e+02 -1.3822e+02  1e-01  3e-15  2e-04\n",
        " 5: -1.3812e+02 -1.3816e+02  4e-02  3e-15  3e-05\n",
        " 6: -1.3814e+02 -1.3814e+02  7e-03  3e-15  4e-06\n",
        " 7: -1.3814e+02 -1.3814e+02  1e-03  4e-15  5e-07\n",
        " 8: -1.3814e+02 -1.3814e+02  2e-04  3e-15  5e-08\n",
        " 9: -1.3814e+02 -1.3814e+02  1e-05  5e-15  6e-10\n",
        "Optimal solution found.\n",
        "57 support vectors out of 149 points\n",
        "cutting plane objective: 138.141077, primal objective 138.287668\n",
        "iteration 270\n",
        "OneSlackSSVM(C=0.1, break_on_bad=False, cache_tol=auto,\n",
        "       check_constraints=False, inactive_threshold=1e-05,\n",
        "       inactive_window=50, inference_cache=0, logger=None, max_iter=10000,\n",
        "       model=MultiLabelModel(n_states: 2, inference_method: ad3), n_jobs=1,\n",
        "       positive_constraint=None, show_loss_every=0, switch_to=None,\n",
        "       tol=1e-05, verbose=3)\n",
        "New violation: 0.962498 difference to last: 0.001219"
       ]
      },
      {
       "output_type": "stream",
       "stream": "stdout",
       "text": [
        "\n",
        "     pcost       dcost       gap    pres   dres"
       ]
      },
      {
       "output_type": "stream",
       "stream": "stdout",
       "text": [
        "\n",
        " 0: -1.3716e+02 -2.9969e+02  2e+02  2e-16  2e+00\n",
        " 1: -1.3750e+02 -1.4788e+02  1e+01  2e-15  1e-01\n",
        " 2: -1.3784e+02 -1.4019e+02  2e+00  2e-15  2e-02\n",
        " 3: -1.3800e+02 -1.3851e+02  5e-01  2e-15  2e-03\n",
        " 4: -1.3808e+02 -1.3822e+02  1e-01  2e-15  2e-04\n",
        " 5: -1.3812e+02 -1.3816e+02  4e-02  2e-15  3e-05\n",
        " 6: -1.3814e+02 -1.3814e+02  8e-03  3e-15  5e-06\n",
        " 7: -1.3814e+02 -1.3814e+02  1e-03  4e-15  6e-07\n",
        " 8: -1.3814e+02 -1.3814e+02  1e-04  4e-15  2e-08\n",
        " 9: -1.3814e+02 -1.3814e+02  1e-05  5e-15  6e-16\n",
        "Optimal solution found.\n",
        "58 support vectors out of 150 points\n",
        "cutting plane objective: 138.141363, primal objective 138.288714\n",
        "iteration 271\n",
        "OneSlackSSVM(C=0.1, break_on_bad=False, cache_tol=auto,\n",
        "       check_constraints=False, inactive_threshold=1e-05,\n",
        "       inactive_window=50, inference_cache=0, logger=None, max_iter=10000,\n",
        "       model=MultiLabelModel(n_states: 2, inference_method: ad3), n_jobs=1,\n",
        "       positive_constraint=None, show_loss_every=0, switch_to=None,\n",
        "       tol=1e-05, verbose=3)\n",
        "New violation: 0.962625 difference to last: 0.001337"
       ]
      },
      {
       "output_type": "stream",
       "stream": "stdout",
       "text": [
        "\n",
        "     pcost       dcost       gap    pres   dres"
       ]
      },
      {
       "output_type": "stream",
       "stream": "stdout",
       "text": [
        "\n",
        " 0: -1.3713e+02 -3.0079e+02  2e+02  5e-17  2e+00\n",
        " 1: -1.3749e+02 -1.4805e+02  1e+01  2e-15  1e-01\n",
        " 2: -1.3783e+02 -1.4023e+02  2e+00  2e-15  2e-02\n",
        " 3: -1.3800e+02 -1.3851e+02  5e-01  2e-15  1e-03\n",
        " 4: -1.3808e+02 -1.3822e+02  1e-01  3e-15  2e-04\n",
        " 5: -1.3812e+02 -1.3816e+02  4e-02  3e-15  4e-05\n",
        " 6: -1.3814e+02 -1.3815e+02  9e-03  4e-15  7e-06\n",
        " 7: -1.3814e+02 -1.3814e+02  1e-03  4e-15  7e-07\n",
        " 8: -1.3814e+02 -1.3814e+02  2e-04  3e-15  1e-07\n",
        " 9: -1.3814e+02 -1.3814e+02  1e-05  5e-15  2e-09\n",
        "Optimal solution found.\n",
        "55 support vectors out of 151 points\n",
        "cutting plane objective: 138.141565, primal objective 138.303236\n",
        "iteration 272\n",
        "OneSlackSSVM(C=0.1, break_on_bad=False, cache_tol=auto,\n",
        "       check_constraints=False, inactive_threshold=1e-05,\n",
        "       inactive_window=50, inference_cache=0, logger=None, max_iter=10000,\n",
        "       model=MultiLabelModel(n_states: 2, inference_method: ad3), n_jobs=1,\n",
        "       positive_constraint=None, show_loss_every=0, switch_to=None,\n",
        "       tol=1e-05, verbose=3)\n",
        "New violation: 0.962423 difference to last: 0.001128"
       ]
      },
      {
       "output_type": "stream",
       "stream": "stdout",
       "text": [
        "\n",
        "     pcost       dcost       gap    pres   dres"
       ]
      },
      {
       "output_type": "stream",
       "stream": "stdout",
       "text": [
        "\n",
        " 0: -1.3715e+02 -2.9977e+02  2e+02  2e-16  2e+00\n",
        " 1: -1.3750e+02 -1.4774e+02  1e+01  2e-15  1e-01\n",
        " 2: -1.3784e+02 -1.4014e+02  2e+00  2e-15  2e-02\n",
        " 3: -1.3801e+02 -1.3849e+02  5e-01  2e-15  1e-03\n",
        " 4: -1.3809e+02 -1.3821e+02  1e-01  2e-15  2e-04\n",
        " 5: -1.3813e+02 -1.3815e+02  3e-02  3e-15  1e-05\n",
        " 6: -1.3814e+02 -1.3814e+02  6e-03  4e-15  2e-06\n",
        " 7: -1.3814e+02 -1.3814e+02  8e-04  4e-15  2e-07\n",
        " 8: -1.3814e+02 -1.3814e+02  1e-04  3e-15  6e-16\n",
        "Optimal solution found.\n",
        "88 support vectors out of 152 points\n",
        "cutting plane objective: 138.141729, primal objective 138.278205\n",
        "iteration 273\n",
        "OneSlackSSVM(C=0.1, break_on_bad=False, cache_tol=auto,\n",
        "       check_constraints=False, inactive_threshold=1e-05,\n",
        "       inactive_window=50, inference_cache=0, logger=None, max_iter=10000,\n",
        "       model=MultiLabelModel(n_states: 2, inference_method: ad3), n_jobs=1,\n",
        "       positive_constraint=None, show_loss_every=0, switch_to=None,\n",
        "       tol=1e-05, verbose=3)\n",
        "New violation: 0.962390 difference to last: 0.001095"
       ]
      },
      {
       "output_type": "stream",
       "stream": "stdout",
       "text": [
        "\n",
        "     pcost       dcost       gap    pres   dres"
       ]
      },
      {
       "output_type": "stream",
       "stream": "stdout",
       "text": [
        "\n",
        " 0: -1.3714e+02 -2.9964e+02  2e+02  5e-16  2e+00\n",
        " 1: -1.3749e+02 -1.4768e+02  1e+01  2e-15  1e-01\n",
        " 2: -1.3784e+02 -1.4011e+02  2e+00  2e-15  2e-02\n",
        " 3: -1.3801e+02 -1.3849e+02  5e-01  2e-15  1e-03\n",
        " 4: -1.3809e+02 -1.3821e+02  1e-01  3e-15  2e-04\n",
        " 5: -1.3813e+02 -1.3816e+02  3e-02  3e-15  1e-05\n",
        " 6: -1.3814e+02 -1.3814e+02  7e-03  4e-15  2e-06\n",
        " 7: -1.3814e+02 -1.3814e+02  9e-04  3e-15  2e-07\n",
        " 8: -1.3814e+02 -1.3814e+02  1e-04  3e-15  1e-08\n",
        " 9: -1.3814e+02 -1.3814e+02  6e-06  5e-15  2e-10\n",
        "Optimal solution found.\n",
        "55 support vectors out of 153 points\n",
        "cutting plane objective: 138.141988, primal objective 138.274392\n",
        "iteration 274\n",
        "OneSlackSSVM(C=0.1, break_on_bad=False, cache_tol=auto,\n",
        "       check_constraints=False, inactive_threshold=1e-05,\n",
        "       inactive_window=50, inference_cache=0, logger=None, max_iter=10000,\n",
        "       model=MultiLabelModel(n_states: 2, inference_method: ad3), n_jobs=1,\n",
        "       positive_constraint=None, show_loss_every=0, switch_to=None,\n",
        "       tol=1e-05, verbose=3)\n",
        "New violation: 0.962264 difference to last: 0.001023"
       ]
      },
      {
       "output_type": "stream",
       "stream": "stdout",
       "text": [
        "\n",
        "     pcost       dcost       gap    pres   dres"
       ]
      },
      {
       "output_type": "stream",
       "stream": "stdout",
       "text": [
        "\n",
        " 0: -1.3714e+02 -3.0082e+02  2e+02  4e-16  2e+00\n",
        " 1: -1.3750e+02 -1.4770e+02  1e+01  2e-15  1e-01\n",
        " 2: -1.3784e+02 -1.4012e+02  2e+00  2e-15  2e-02\n",
        " 3: -1.3801e+02 -1.3850e+02  5e-01  2e-15  1e-03\n",
        " 4: -1.3809e+02 -1.3821e+02  1e-01  3e-15  2e-04\n",
        " 5: -1.3813e+02 -1.3816e+02  3e-02  4e-15  2e-05\n",
        " 6: -1.3814e+02 -1.3815e+02  7e-03  4e-15  3e-06\n",
        " 7: -1.3814e+02 -1.3814e+02  1e-03  3e-15  3e-07\n",
        " 8: -1.3814e+02 -1.3814e+02  2e-04  3e-15  4e-08\n",
        " 9: -1.3814e+02 -1.3814e+02  9e-06  6e-15  1e-10\n",
        "Optimal solution found.\n",
        "58 support vectors out of 154 points\n",
        "cutting plane objective: 138.142186, primal objective 138.265885\n",
        "iteration 275\n",
        "OneSlackSSVM(C=0.1, break_on_bad=False, cache_tol=auto,\n",
        "       check_constraints=False, inactive_threshold=1e-05,\n",
        "       inactive_window=50, inference_cache=0, logger=None, max_iter=10000,\n",
        "       model=MultiLabelModel(n_states: 2, inference_method: ad3), n_jobs=1,\n",
        "       positive_constraint=None, show_loss_every=0, switch_to=None,\n",
        "       tol=1e-05, verbose=3)\n",
        "New violation: 0.962342 difference to last: 0.001130"
       ]
      },
      {
       "output_type": "stream",
       "stream": "stdout",
       "text": [
        "\n",
        "     pcost       dcost       gap    pres   dres"
       ]
      },
      {
       "output_type": "stream",
       "stream": "stdout",
       "text": [
        "\n",
        " 0: -1.3714e+02 -2.9974e+02  2e+02  3e-16  2e+00\n",
        " 1: -1.3750e+02 -1.4789e+02  1e+01  2e-15  1e-01\n",
        " 2: -1.3784e+02 -1.4020e+02  2e+00  2e-15  2e-02\n",
        " 3: -1.3801e+02 -1.3851e+02  5e-01  2e-15  1e-03\n",
        " 4: -1.3809e+02 -1.3821e+02  1e-01  3e-15  2e-04\n",
        " 5: -1.3813e+02 -1.3816e+02  3e-02  3e-15  2e-05\n",
        " 6: -1.3814e+02 -1.3815e+02  7e-03  4e-15  3e-06\n",
        " 7: -1.3814e+02 -1.3814e+02  1e-03  3e-15  5e-07\n",
        " 8: -1.3814e+02 -1.3814e+02  3e-04  3e-15  6e-08\n",
        " 9: -1.3814e+02 -1.3814e+02  2e-05  4e-15  3e-10\n",
        "Optimal solution found.\n",
        "66 support vectors out of 155 points\n",
        "cutting plane objective: 138.142339, primal objective 138.279079\n",
        "iteration 276\n",
        "OneSlackSSVM(C=0.1, break_on_bad=False, cache_tol=auto,\n",
        "       check_constraints=False, inactive_threshold=1e-05,\n",
        "       inactive_window=50, inference_cache=0, logger=None, max_iter=10000,\n",
        "       model=MultiLabelModel(n_states: 2, inference_method: ad3), n_jobs=1,\n",
        "       positive_constraint=None, show_loss_every=0, switch_to=None,\n",
        "       tol=1e-05, verbose=3)\n",
        "New violation: 0.962248 difference to last: 0.001029"
       ]
      },
      {
       "output_type": "stream",
       "stream": "stdout",
       "text": [
        "\n",
        "     pcost       dcost       gap    pres   dres"
       ]
      },
      {
       "output_type": "stream",
       "stream": "stdout",
       "text": [
        "\n",
        " 0: -1.3714e+02 -3.0101e+02  2e+02  2e-16  2e+00\n",
        " 1: -1.3750e+02 -1.4771e+02  1e+01  2e-15  1e-01\n",
        " 2: -1.3785e+02 -1.4013e+02  2e+00  2e-15  2e-02\n",
        " 3: -1.3801e+02 -1.3849e+02  5e-01  2e-15  1e-03\n",
        " 4: -1.3809e+02 -1.3821e+02  1e-01  2e-15  2e-04\n",
        " 5: -1.3813e+02 -1.3816e+02  3e-02  4e-15  2e-05\n",
        " 6: -1.3814e+02 -1.3815e+02  7e-03  3e-15  2e-06\n",
        " 7: -1.3814e+02 -1.3814e+02  8e-04  3e-15  2e-07\n",
        " 8: -1.3814e+02 -1.3814e+02  1e-04  3e-15  6e-16\n",
        "Optimal solution found.\n",
        "96 support vectors out of 156 points\n",
        "cutting plane objective: 138.142461, primal objective 138.267011\n",
        "iteration 277\n",
        "OneSlackSSVM(C=0.1, break_on_bad=False, cache_tol=auto,\n",
        "       check_constraints=False, inactive_threshold=1e-05,\n",
        "       inactive_window=50, inference_cache=0, logger=None, max_iter=10000,\n",
        "       model=MultiLabelModel(n_states: 2, inference_method: ad3), n_jobs=1,\n",
        "       positive_constraint=None, show_loss_every=0, switch_to=None,\n",
        "       tol=1e-05, verbose=3)\n",
        "New violation: 0.962194 difference to last: 0.000981"
       ]
      },
      {
       "output_type": "stream",
       "stream": "stdout",
       "text": [
        "\n",
        "     pcost       dcost       gap    pres   dres"
       ]
      },
      {
       "output_type": "stream",
       "stream": "stdout",
       "text": [
        "\n",
        " 0: -1.3714e+02 -3.0175e+02  2e+02  1e-16  2e+00\n",
        " 1: -1.3751e+02 -1.4778e+02  1e+01  2e-15  1e-01\n",
        " 2: -1.3785e+02 -1.4018e+02  2e+00  2e-15  2e-02\n",
        " 3: -1.3801e+02 -1.3850e+02  5e-01  2e-15  1e-03\n",
        " 4: -1.3809e+02 -1.3821e+02  1e-01  3e-15  2e-04\n",
        " 5: -1.3813e+02 -1.3816e+02  3e-02  3e-15  2e-05\n",
        " 6: -1.3814e+02 -1.3815e+02  6e-03  4e-15  2e-06\n",
        " 7: -1.3814e+02 -1.3814e+02  8e-04  4e-15  2e-07\n",
        " 8: -1.3814e+02 -1.3814e+02  1e-04  3e-15  9e-10\n",
        "Optimal solution found.\n",
        "88 support vectors out of 157 points\n",
        "cutting plane objective: 138.142685, primal objective 138.261336\n",
        "iteration 278\n",
        "OneSlackSSVM(C=0.1, break_on_bad=False, cache_tol=auto,\n",
        "       check_constraints=False, inactive_threshold=1e-05,\n",
        "       inactive_window=50, inference_cache=0, logger=None, max_iter=10000,\n",
        "       model=MultiLabelModel(n_states: 2, inference_method: ad3), n_jobs=1,\n",
        "       positive_constraint=None, show_loss_every=0, switch_to=None,\n",
        "       tol=1e-05, verbose=3)\n",
        "New violation: 0.962178 difference to last: 0.000997"
       ]
      },
      {
       "output_type": "stream",
       "stream": "stdout",
       "text": [
        "\n",
        "     pcost       dcost       gap    pres   dres"
       ]
      },
      {
       "output_type": "stream",
       "stream": "stdout",
       "text": [
        "\n",
        " 0: -1.3716e+02 -3.0071e+02  2e+02  3e-16  2e+00\n",
        " 1: -1.3751e+02 -1.4737e+02  1e+01  2e-15  9e-02\n",
        " 2: -1.3786e+02 -1.4002e+02  2e+00  2e-15  1e-02\n",
        " 3: -1.3802e+02 -1.3844e+02  4e-01  2e-15  9e-04\n",
        " 4: -1.3810e+02 -1.3821e+02  1e-01  2e-15  1e-04\n",
        " 5: -1.3813e+02 -1.3815e+02  3e-02  3e-15  9e-06\n",
        " 6: -1.3814e+02 -1.3814e+02  4e-03  4e-15  8e-07\n",
        " 7: -1.3814e+02 -1.3814e+02  8e-04  4e-15  1e-07\n",
        " 8: -1.3814e+02 -1.3814e+02  2e-04  3e-15  6e-16\n",
        " 9: -1.3814e+02 -1.3814e+02  1e-05  4e-15  6e-16\n",
        "Optimal solution found.\n",
        "61 support vectors out of 158 points\n",
        "cutting plane objective: 138.142927, primal objective 138.263486\n",
        "iteration 279\n",
        "OneSlackSSVM(C=0.1, break_on_bad=False, cache_tol=auto,\n",
        "       check_constraints=False, inactive_threshold=1e-05,\n",
        "       inactive_window=50, inference_cache=0, logger=None, max_iter=10000,\n",
        "       model=MultiLabelModel(n_states: 2, inference_method: ad3), n_jobs=1,\n",
        "       positive_constraint=None, show_loss_every=0, switch_to=None,\n",
        "       tol=1e-05, verbose=3)\n",
        "New violation: 0.962184 difference to last: 0.000999"
       ]
      },
      {
       "output_type": "stream",
       "stream": "stdout",
       "text": [
        "\n",
        "     pcost       dcost       gap    pres   dres"
       ]
      },
      {
       "output_type": "stream",
       "stream": "stdout",
       "text": [
        "\n",
        " 0: -1.3715e+02 -3.0171e+02  2e+02  2e-16  2e+00\n",
        " 1: -1.3752e+02 -1.4747e+02  1e+01  2e-15  9e-02\n",
        " 2: -1.3785e+02 -1.4007e+02  2e+00  2e-15  1e-02\n",
        " 3: -1.3802e+02 -1.3845e+02  4e-01  3e-15  9e-04\n",
        " 4: -1.3810e+02 -1.3821e+02  1e-01  3e-15  9e-05\n",
        " 5: -1.3813e+02 -1.3815e+02  3e-02  3e-15  9e-06\n",
        " 6: -1.3814e+02 -1.3814e+02  3e-03  4e-15  3e-07\n",
        " 7: -1.3814e+02 -1.3814e+02  6e-04  3e-15  5e-08\n",
        " 8: -1.3814e+02 -1.3814e+02  1e-04  3e-15  6e-16\n",
        "Optimal solution found.\n",
        "98 support vectors out of 159 points\n",
        "cutting plane objective: 138.142995, primal objective 138.263864\n",
        "iteration 280\n",
        "OneSlackSSVM(C=0.1, break_on_bad=False, cache_tol=auto,\n",
        "       check_constraints=False, inactive_threshold=1e-05,\n",
        "       inactive_window=50, inference_cache=0, logger=None, max_iter=10000,\n",
        "       model=MultiLabelModel(n_states: 2, inference_method: ad3), n_jobs=1,\n",
        "       positive_constraint=None, show_loss_every=0, switch_to=None,\n",
        "       tol=1e-05, verbose=3)\n",
        "New violation: 0.962113 difference to last: 0.000908"
       ]
      },
      {
       "output_type": "stream",
       "stream": "stdout",
       "text": [
        "\n",
        "     pcost       dcost       gap    pres   dres"
       ]
      },
      {
       "output_type": "stream",
       "stream": "stdout",
       "text": [
        "\n",
        " 0: -1.3721e+02 -3.0066e+02  2e+02  1e-16  2e+00\n",
        " 1: -1.3753e+02 -1.4647e+02  9e+00  2e-15  9e-02\n",
        " 2: -1.3788e+02 -1.3983e+02  2e+00  2e-15  1e-02\n",
        " 3: -1.3803e+02 -1.3841e+02  4e-01  2e-15  8e-04\n",
        " 4: -1.3810e+02 -1.3820e+02  1e-01  2e-15  7e-05\n",
        " 5: -1.3813e+02 -1.3815e+02  2e-02  2e-15  7e-06\n",
        " 6: -1.3814e+02 -1.3814e+02  3e-03  4e-15  2e-07\n",
        " 7: -1.3814e+02 -1.3814e+02  4e-04  4e-15  3e-08\n",
        " 8: -1.3814e+02 -1.3814e+02  4e-05  5e-15  5e-10\n",
        "Optimal solution found.\n",
        "78 support vectors out of 159 points\n",
        "cutting plane objective: 138.143166, primal objective 138.253112\n",
        "iteration 281\n",
        "OneSlackSSVM(C=0.1, break_on_bad=False, cache_tol=auto,\n",
        "       check_constraints=False, inactive_threshold=1e-05,\n",
        "       inactive_window=50, inference_cache=0, logger=None, max_iter=10000,\n",
        "       model=MultiLabelModel(n_states: 2, inference_method: ad3), n_jobs=1,\n",
        "       positive_constraint=None, show_loss_every=0, switch_to=None,\n",
        "       tol=1e-05, verbose=3)\n",
        "New violation: 0.962023 difference to last: 0.000823"
       ]
      },
      {
       "output_type": "stream",
       "stream": "stdout",
       "text": [
        "\n",
        "     pcost       dcost       gap    pres   dres"
       ]
      },
      {
       "output_type": "stream",
       "stream": "stdout",
       "text": [
        "\n",
        " 0: -1.3721e+02 -3.0217e+02  2e+02  4e-16  2e+00\n",
        " 1: -1.3754e+02 -1.4673e+02  9e+00  2e-15  9e-02\n",
        " 2: -1.3787e+02 -1.3987e+02  2e+00  2e-15  1e-02\n",
        " 3: -1.3803e+02 -1.3842e+02  4e-01  2e-15  8e-04\n",
        " 4: -1.3810e+02 -1.3820e+02  1e-01  3e-15  7e-05\n",
        " 5: -1.3813e+02 -1.3815e+02  2e-02  3e-15  6e-06\n",
        " 6: -1.3814e+02 -1.3814e+02  3e-03  3e-15  1e-07\n",
        " 7: -1.3814e+02 -1.3814e+02  4e-04  4e-15  2e-08\n",
        " 8: -1.3814e+02 -1.3814e+02  5e-05  4e-15  1e-09\n",
        "Optimal solution found.\n",
        "74 support vectors out of 160 points\n",
        "cutting plane objective: 138.143286, primal objective 138.242819\n",
        "iteration 282\n",
        "OneSlackSSVM(C=0.1, break_on_bad=False, cache_tol=auto,\n",
        "       check_constraints=False, inactive_threshold=1e-05,\n",
        "       inactive_window=50, inference_cache=0, logger=None, max_iter=10000,\n",
        "       model=MultiLabelModel(n_states: 2, inference_method: ad3), n_jobs=1,\n",
        "       positive_constraint=None, show_loss_every=0, switch_to=None,\n",
        "       tol=1e-05, verbose=3)\n",
        "New violation: 0.961996 difference to last: 0.000841"
       ]
      },
      {
       "output_type": "stream",
       "stream": "stdout",
       "text": [
        "\n",
        "     pcost       dcost       gap    pres   dres"
       ]
      },
      {
       "output_type": "stream",
       "stream": "stdout",
       "text": [
        "\n",
        " 0: -1.3722e+02 -3.0068e+02  2e+02  2e-16  2e+00\n",
        " 1: -1.3754e+02 -1.4653e+02  9e+00  2e-15  9e-02\n",
        " 2: -1.3788e+02 -1.3982e+02  2e+00  2e-15  1e-02\n",
        " 3: -1.3803e+02 -1.3842e+02  4e-01  2e-15  8e-04\n",
        " 4: -1.3810e+02 -1.3820e+02  1e-01  2e-15  7e-05\n",
        " 5: -1.3813e+02 -1.3815e+02  2e-02  4e-15  7e-06\n",
        " 6: -1.3814e+02 -1.3814e+02  3e-03  3e-15  2e-07\n",
        " 7: -1.3814e+02 -1.3814e+02  7e-04  3e-15  5e-08\n",
        " 8: -1.3814e+02 -1.3814e+02  1e-04  3e-15  4e-09\n",
        "Optimal solution found.\n",
        "101 support vectors out of 161 points\n",
        "cutting plane objective: 138.143379, primal objective 138.245173\n",
        "iteration 283\n",
        "OneSlackSSVM(C=0.1, break_on_bad=False, cache_tol=auto,\n",
        "       check_constraints=False, inactive_threshold=1e-05,\n",
        "       inactive_window=50, inference_cache=0, logger=None, max_iter=10000,\n",
        "       model=MultiLabelModel(n_states: 2, inference_method: ad3), n_jobs=1,\n",
        "       positive_constraint=None, show_loss_every=0, switch_to=None,\n",
        "       tol=1e-05, verbose=3)\n",
        "New violation: 0.962047 difference to last: 0.000868"
       ]
      },
      {
       "output_type": "stream",
       "stream": "stdout",
       "text": [
        "\n",
        "     pcost       dcost       gap    pres   dres"
       ]
      },
      {
       "output_type": "stream",
       "stream": "stdout",
       "text": [
        "\n",
        " 0: -1.3722e+02 -3.0084e+02  2e+02  5e-16  2e+00\n",
        " 1: -1.3754e+02 -1.4622e+02  9e+00  2e-15  8e-02\n",
        " 2: -1.3789e+02 -1.3976e+02  2e+00  2e-15  1e-02\n",
        " 3: -1.3803e+02 -1.3842e+02  4e-01  2e-15  8e-04\n",
        " 4: -1.3810e+02 -1.3820e+02  9e-02  3e-15  7e-05\n",
        " 5: -1.3813e+02 -1.3815e+02  2e-02  3e-15  7e-06\n",
        " 6: -1.3814e+02 -1.3814e+02  3e-03  4e-15  3e-07\n",
        " 7: -1.3814e+02 -1.3814e+02  5e-04  4e-15  5e-08\n",
        " 8: -1.3814e+02 -1.3814e+02  8e-05  3e-15  3e-09\n",
        "Optimal solution found.\n",
        "95 support vectors out of 162 points\n",
        "cutting plane objective: 138.143576, primal objective 138.248602\n",
        "iteration 284\n",
        "OneSlackSSVM(C=0.1, break_on_bad=False, cache_tol=auto,\n",
        "       check_constraints=False, inactive_threshold=1e-05,\n",
        "       inactive_window=50, inference_cache=0, logger=None, max_iter=10000,\n",
        "       model=MultiLabelModel(n_states: 2, inference_method: ad3), n_jobs=1,\n",
        "       positive_constraint=None, show_loss_every=0, switch_to=None,\n",
        "       tol=1e-05, verbose=3)\n",
        "New violation: 0.962007 difference to last: 0.000819"
       ]
      },
      {
       "output_type": "stream",
       "stream": "stdout",
       "text": [
        "\n",
        "     pcost       dcost       gap    pres   dres"
       ]
      },
      {
       "output_type": "stream",
       "stream": "stdout",
       "text": [
        "\n",
        " 0: -1.3722e+02 -3.0170e+02  2e+02  1e-16  2e+00\n",
        " 1: -1.3755e+02 -1.4625e+02  9e+00  2e-15  8e-02\n",
        " 2: -1.3789e+02 -1.3975e+02  2e+00  2e-15  1e-02\n",
        " 3: -1.3803e+02 -1.3843e+02  4e-01  2e-15  9e-04\n",
        " 4: -1.3810e+02 -1.3820e+02  1e-01  3e-15  9e-05\n",
        " 5: -1.3813e+02 -1.3815e+02  2e-02  3e-15  8e-06\n",
        " 6: -1.3814e+02 -1.3814e+02  3e-03  3e-15  3e-07\n",
        " 7: -1.3814e+02 -1.3814e+02  4e-04  4e-15  4e-08\n",
        " 8: -1.3814e+02 -1.3814e+02  3e-05  4e-15  3e-10\n",
        "Optimal solution found.\n",
        "79 support vectors out of 163 points\n",
        "cutting plane objective: 138.143747, primal objective 138.242836\n",
        "iteration 285\n",
        "OneSlackSSVM(C=0.1, break_on_bad=False, cache_tol=auto,\n",
        "       check_constraints=False, inactive_threshold=1e-05,\n",
        "       inactive_window=50, inference_cache=0, logger=None, max_iter=10000,\n",
        "       model=MultiLabelModel(n_states: 2, inference_method: ad3), n_jobs=1,\n",
        "       positive_constraint=None, show_loss_every=0, switch_to=None,\n",
        "       tol=1e-05, verbose=3)\n",
        "New violation: 0.962044 difference to last: 0.000837"
       ]
      },
      {
       "output_type": "stream",
       "stream": "stdout",
       "text": [
        "\n",
        "     pcost       dcost       gap    pres   dres"
       ]
      },
      {
       "output_type": "stream",
       "stream": "stdout",
       "text": [
        "\n",
        " 0: -1.3723e+02 -3.0022e+02  2e+02  2e-16  2e+00\n",
        " 1: -1.3755e+02 -1.4624e+02  9e+00  2e-15  8e-02\n",
        " 2: -1.3788e+02 -1.3978e+02  2e+00  2e-15  1e-02\n",
        " 3: -1.3803e+02 -1.3843e+02  4e-01  2e-15  9e-04\n",
        " 4: -1.3810e+02 -1.3820e+02  1e-01  3e-15  8e-05\n",
        " 5: -1.3813e+02 -1.3815e+02  2e-02  3e-15  6e-06\n",
        " 6: -1.3814e+02 -1.3814e+02  3e-03  3e-15  3e-07\n",
        " 7: -1.3814e+02 -1.3814e+02  6e-04  3e-15  6e-08\n",
        " 8: -1.3814e+02 -1.3814e+02  9e-05  4e-15  6e-09\n",
        "Optimal solution found.\n",
        "92 support vectors out of 164 points\n",
        "cutting plane objective: 138.143802, primal objective 138.245126\n",
        "iteration 286\n",
        "OneSlackSSVM(C=0.1, break_on_bad=False, cache_tol=auto,\n",
        "       check_constraints=False, inactive_threshold=1e-05,\n",
        "       inactive_window=50, inference_cache=0, logger=None, max_iter=10000,\n",
        "       model=MultiLabelModel(n_states: 2, inference_method: ad3), n_jobs=1,\n",
        "       positive_constraint=None, show_loss_every=0, switch_to=None,\n",
        "       tol=1e-05, verbose=3)\n",
        "New violation: 0.961981 difference to last: 0.000759"
       ]
      },
      {
       "output_type": "stream",
       "stream": "stdout",
       "text": [
        "\n",
        "     pcost       dcost       gap    pres   dres"
       ]
      },
      {
       "output_type": "stream",
       "stream": "stdout",
       "text": [
        "\n",
        " 0: -1.3724e+02 -3.0055e+02  2e+02  7e-16  2e+00\n",
        " 1: -1.3755e+02 -1.4612e+02  9e+00  2e-15  8e-02\n",
        " 2: -1.3789e+02 -1.3979e+02  2e+00  1e-15  1e-02\n",
        " 3: -1.3803e+02 -1.3842e+02  4e-01  2e-15  8e-04\n",
        " 4: -1.3810e+02 -1.3820e+02  1e-01  3e-15  8e-05\n",
        " 5: -1.3813e+02 -1.3815e+02  2e-02  2e-15  7e-06\n",
        " 6: -1.3814e+02 -1.3815e+02  4e-03  3e-15  7e-07\n",
        " 7: -1.3814e+02 -1.3814e+02  8e-04  5e-15  1e-07\n",
        " 8: -1.3814e+02 -1.3814e+02  1e-04  3e-15  1e-08\n",
        "Optimal solution found.\n",
        "103 support vectors out of 165 points\n",
        "cutting plane objective: 138.143910, primal objective 138.235853\n",
        "iteration 287\n",
        "OneSlackSSVM(C=0.1, break_on_bad=False, cache_tol=auto,\n",
        "       check_constraints=False, inactive_threshold=1e-05,\n",
        "       inactive_window=50, inference_cache=0, logger=None, max_iter=10000,\n",
        "       model=MultiLabelModel(n_states: 2, inference_method: ad3), n_jobs=1,\n",
        "       positive_constraint=None, show_loss_every=0, switch_to=None,\n",
        "       tol=1e-05, verbose=3)\n",
        "New violation: 0.961980 difference to last: 0.000733"
       ]
      },
      {
       "output_type": "stream",
       "stream": "stdout",
       "text": [
        "\n",
        "     pcost       dcost       gap    pres   dres"
       ]
      },
      {
       "output_type": "stream",
       "stream": "stdout",
       "text": [
        "\n",
        " 0: -1.3724e+02 -3.0040e+02  2e+02  5e-18  2e+00\n",
        " 1: -1.3756e+02 -1.4632e+02  9e+00  2e-15  8e-02\n",
        " 2: -1.3789e+02 -1.3978e+02  2e+00  2e-15  1e-02\n",
        " 3: -1.3803e+02 -1.3842e+02  4e-01  2e-15  8e-04\n",
        " 4: -1.3810e+02 -1.3820e+02  1e-01  3e-15  8e-05\n",
        " 5: -1.3813e+02 -1.3815e+02  2e-02  3e-15  8e-06\n",
        " 6: -1.3814e+02 -1.3815e+02  5e-03  2e-15  1e-06\n",
        " 7: -1.3814e+02 -1.3814e+02  9e-04  3e-15  2e-07\n",
        " 8: -1.3814e+02 -1.3814e+02  1e-04  4e-15  6e-16\n",
        "Optimal solution found.\n",
        "97 support vectors out of 166 points\n",
        "cutting plane objective: 138.144027, primal objective 138.232754\n",
        "iteration 288\n",
        "OneSlackSSVM(C=0.1, break_on_bad=False, cache_tol=auto,\n",
        "       check_constraints=False, inactive_threshold=1e-05,\n",
        "       inactive_window=50, inference_cache=0, logger=None, max_iter=10000,\n",
        "       model=MultiLabelModel(n_states: 2, inference_method: ad3), n_jobs=1,\n",
        "       positive_constraint=None, show_loss_every=0, switch_to=None,\n",
        "       tol=1e-05, verbose=3)\n",
        "New violation: 0.962039 difference to last: 0.000779"
       ]
      },
      {
       "output_type": "stream",
       "stream": "stdout",
       "text": [
        "\n",
        "     pcost       dcost       gap    pres   dres"
       ]
      },
      {
       "output_type": "stream",
       "stream": "stdout",
       "text": [
        "\n",
        " 0: -1.3726e+02 -2.9835e+02  2e+02  5e-16  2e+00\n",
        " 1: -1.3756e+02 -1.4591e+02  8e+00  2e-15  8e-02\n",
        " 2: -1.3789e+02 -1.3971e+02  2e+00  2e-15  1e-02\n",
        " 3: -1.3803e+02 -1.3842e+02  4e-01  2e-15  9e-04\n",
        " 4: -1.3811e+02 -1.3820e+02  9e-02  2e-15  9e-05\n",
        " 5: -1.3813e+02 -1.3815e+02  2e-02  2e-15  1e-05\n",
        " 6: -1.3814e+02 -1.3815e+02  6e-03  3e-15  2e-06\n",
        " 7: -1.3814e+02 -1.3814e+02  9e-04  3e-15  2e-07\n",
        " 8: -1.3814e+02 -1.3814e+02  2e-04  4e-15  4e-08\n",
        " 9: -1.3814e+02 -1.3814e+02  1e-05  4e-15  6e-16\n",
        "Optimal solution found.\n",
        "67 support vectors out of 167 points\n",
        "cutting plane objective: 138.144201, primal objective 138.238438\n",
        "iteration 289\n",
        "OneSlackSSVM(C=0.1, break_on_bad=False, cache_tol=auto,\n",
        "       check_constraints=False, inactive_threshold=1e-05,\n",
        "       inactive_window=50, inference_cache=0, logger=None, max_iter=10000,\n",
        "       model=MultiLabelModel(n_states: 2, inference_method: ad3), n_jobs=1,\n",
        "       positive_constraint=None, show_loss_every=0, switch_to=None,\n",
        "       tol=1e-05, verbose=3)\n",
        "New violation: 0.961943 difference to last: 0.000678"
       ]
      },
      {
       "output_type": "stream",
       "stream": "stdout",
       "text": [
        "\n",
        "     pcost       dcost       gap    pres   dres"
       ]
      },
      {
       "output_type": "stream",
       "stream": "stdout",
       "text": [
        "\n",
        " 0: -1.3727e+02 -2.9881e+02  2e+02  2e-16  2e+00\n",
        " 1: -1.3757e+02 -1.4620e+02  9e+00  2e-15  8e-02\n",
        " 2: -1.3789e+02 -1.3978e+02  2e+00  2e-15  1e-02\n",
        " 3: -1.3803e+02 -1.3842e+02  4e-01  2e-15  8e-04\n",
        " 4: -1.3811e+02 -1.3820e+02  1e-01  3e-15  8e-05\n",
        " 5: -1.3813e+02 -1.3816e+02  2e-02  2e-15  1e-05\n",
        " 6: -1.3814e+02 -1.3815e+02  7e-03  4e-15  2e-06\n",
        " 7: -1.3814e+02 -1.3814e+02  9e-04  3e-15  2e-07\n",
        " 8: -1.3814e+02 -1.3814e+02  2e-04  3e-15  3e-08\n",
        " 9: -1.3814e+02 -1.3814e+02  1e-05  4e-15  2e-10\n",
        "Optimal solution found.\n",
        "71 support vectors out of 168 points\n",
        "cutting plane objective: 138.144282, primal objective 138.226323\n",
        "iteration 290\n",
        "OneSlackSSVM(C=0.1, break_on_bad=False, cache_tol=auto,\n",
        "       check_constraints=False, inactive_threshold=1e-05,\n",
        "       inactive_window=50, inference_cache=0, logger=None, max_iter=10000,\n",
        "       model=MultiLabelModel(n_states: 2, inference_method: ad3), n_jobs=1,\n",
        "       positive_constraint=None, show_loss_every=0, switch_to=None,\n",
        "       tol=1e-05, verbose=3)\n",
        "New violation: 0.961970 difference to last: 0.000682"
       ]
      },
      {
       "output_type": "stream",
       "stream": "stdout",
       "text": [
        "\n",
        "     pcost       dcost       gap    pres   dres"
       ]
      },
      {
       "output_type": "stream",
       "stream": "stdout",
       "text": [
        "\n",
        " 0: -1.3727e+02 -2.9758e+02  2e+02  3e-16  2e+00\n",
        " 1: -1.3756e+02 -1.4607e+02  9e+00  2e-15  8e-02\n",
        " 2: -1.3789e+02 -1.3977e+02  2e+00  2e-15  1e-02\n",
        " 3: -1.3803e+02 -1.3842e+02  4e-01  2e-15  8e-04\n",
        " 4: -1.3811e+02 -1.3820e+02  9e-02  2e-15  7e-05\n",
        " 5: -1.3813e+02 -1.3816e+02  2e-02  2e-15  1e-05\n",
        " 6: -1.3814e+02 -1.3815e+02  6e-03  3e-15  2e-06\n",
        " 7: -1.3814e+02 -1.3814e+02  9e-04  3e-15  2e-07\n",
        " 8: -1.3814e+02 -1.3814e+02  2e-04  3e-15  2e-08\n",
        " 9: -1.3814e+02 -1.3814e+02  1e-05  5e-15  5e-10\n",
        "Optimal solution found.\n",
        "71 support vectors out of 169 points\n",
        "cutting plane objective: 138.144359, primal objective 138.226864\n",
        "iteration 291\n",
        "OneSlackSSVM(C=0.1, break_on_bad=False, cache_tol=auto,\n",
        "       check_constraints=False, inactive_threshold=1e-05,\n",
        "       inactive_window=50, inference_cache=0, logger=None, max_iter=10000,\n",
        "       model=MultiLabelModel(n_states: 2, inference_method: ad3), n_jobs=1,\n",
        "       positive_constraint=None, show_loss_every=0, switch_to=None,\n",
        "       tol=1e-05, verbose=3)\n",
        "New violation: 0.961942 difference to last: 0.000678"
       ]
      },
      {
       "output_type": "stream",
       "stream": "stdout",
       "text": [
        "\n",
        "     pcost       dcost       gap    pres   dres"
       ]
      },
      {
       "output_type": "stream",
       "stream": "stdout",
       "text": [
        "\n",
        " 0: -1.3728e+02 -2.9800e+02  2e+02  8e-16  2e+00\n",
        " 1: -1.3757e+02 -1.4586e+02  8e+00  2e-15  8e-02\n",
        " 2: -1.3789e+02 -1.3973e+02  2e+00  2e-15  1e-02\n",
        " 3: -1.3804e+02 -1.3842e+02  4e-01  2e-15  8e-04\n",
        " 4: -1.3811e+02 -1.3820e+02  9e-02  2e-15  6e-05\n",
        " 5: -1.3813e+02 -1.3815e+02  2e-02  3e-15  7e-06\n",
        " 6: -1.3814e+02 -1.3815e+02  6e-03  3e-15  1e-06\n",
        " 7: -1.3814e+02 -1.3814e+02  1e-03  4e-15  2e-07\n",
        " 8: -1.3814e+02 -1.3814e+02  2e-04  3e-15  2e-08\n",
        " 9: -1.3814e+02 -1.3814e+02  2e-05  4e-15  1e-09\n",
        "Optimal solution found.\n",
        "71 support vectors out of 170 points\n",
        "cutting plane objective: 138.144442, primal objective 138.226465\n",
        "iteration 292\n",
        "OneSlackSSVM(C=0.1, break_on_bad=False, cache_tol=auto,\n",
        "       check_constraints=False, inactive_threshold=1e-05,\n",
        "       inactive_window=50, inference_cache=0, logger=None, max_iter=10000,\n",
        "       model=MultiLabelModel(n_states: 2, inference_method: ad3), n_jobs=1,\n",
        "       positive_constraint=None, show_loss_every=0, switch_to=None,\n",
        "       tol=1e-05, verbose=3)\n",
        "New violation: 0.961894 difference to last: 0.000641"
       ]
      },
      {
       "output_type": "stream",
       "stream": "stdout",
       "text": [
        "\n",
        "     pcost       dcost       gap    pres   dres"
       ]
      },
      {
       "output_type": "stream",
       "stream": "stdout",
       "text": [
        "\n",
        " 0: -1.3728e+02 -2.9774e+02  2e+02  3e-16  2e+00\n",
        " 1: -1.3757e+02 -1.4608e+02  9e+00  2e-15  8e-02\n",
        " 2: -1.3789e+02 -1.3977e+02  2e+00  2e-15  1e-02\n",
        " 3: -1.3804e+02 -1.3842e+02  4e-01  2e-15  7e-04\n",
        " 4: -1.3811e+02 -1.3820e+02  9e-02  2e-15  5e-05\n",
        " 5: -1.3813e+02 -1.3816e+02  2e-02  2e-15  7e-06\n",
        " 6: -1.3814e+02 -1.3815e+02  6e-03  3e-15  1e-06\n",
        " 7: -1.3814e+02 -1.3814e+02  8e-04  3e-15  1e-07\n",
        " 8: -1.3814e+02 -1.3814e+02  1e-04  3e-15  4e-09\n",
        "Optimal solution found.\n",
        "103 support vectors out of 171 points\n",
        "cutting plane objective: 138.144487, primal objective 138.222082\n",
        "iteration 293\n",
        "OneSlackSSVM(C=0.1, break_on_bad=False, cache_tol=auto,\n",
        "       check_constraints=False, inactive_threshold=1e-05,\n",
        "       inactive_window=50, inference_cache=0, logger=None, max_iter=10000,\n",
        "       model=MultiLabelModel(n_states: 2, inference_method: ad3), n_jobs=1,\n",
        "       positive_constraint=None, show_loss_every=0, switch_to=None,\n",
        "       tol=1e-05, verbose=3)\n",
        "New violation: 0.961910 difference to last: 0.000689"
       ]
      },
      {
       "output_type": "stream",
       "stream": "stdout",
       "text": [
        "\n",
        "     pcost       dcost       gap    pres   dres"
       ]
      },
      {
       "output_type": "stream",
       "stream": "stdout",
       "text": [
        "\n",
        " 0: -1.3728e+02 -2.9819e+02  2e+02  3e-16  2e+00\n",
        " 1: -1.3758e+02 -1.4603e+02  8e+00  2e-15  8e-02\n",
        " 2: -1.3789e+02 -1.3970e+02  2e+00  1e-15  1e-02\n",
        " 3: -1.3804e+02 -1.3842e+02  4e-01  2e-15  7e-04\n",
        " 4: -1.3811e+02 -1.3820e+02  9e-02  2e-15  6e-05\n",
        " 5: -1.3813e+02 -1.3815e+02  2e-02  3e-15  4e-06\n",
        " 6: -1.3814e+02 -1.3815e+02  5e-03  3e-15  9e-07\n",
        " 7: -1.3814e+02 -1.3815e+02  1e-03  4e-15  1e-07\n",
        " 8: -1.3814e+02 -1.3814e+02  2e-04  4e-15  1e-08\n",
        " 9: -1.3814e+02 -1.3814e+02  1e-05  4e-15  5e-10\n",
        "Optimal solution found.\n",
        "71 support vectors out of 172 points\n",
        "cutting plane objective: 138.144627, primal objective 138.227977\n",
        "iteration 294\n",
        "OneSlackSSVM(C=0.1, break_on_bad=False, cache_tol=auto,\n",
        "       check_constraints=False, inactive_threshold=1e-05,\n",
        "       inactive_window=50, inference_cache=0, logger=None, max_iter=10000,\n",
        "       model=MultiLabelModel(n_states: 2, inference_method: ad3), n_jobs=1,\n",
        "       positive_constraint=None, show_loss_every=0, switch_to=None,\n",
        "       tol=1e-05, verbose=3)\n",
        "New violation: 0.961967 difference to last: 0.000744"
       ]
      },
      {
       "output_type": "stream",
       "stream": "stdout",
       "text": [
        "\n",
        "     pcost       dcost       gap    pres   dres"
       ]
      },
      {
       "output_type": "stream",
       "stream": "stdout",
       "text": [
        "\n",
        " 0: -1.3729e+02 -2.9793e+02  2e+02  2e-16  2e+00\n",
        " 1: -1.3758e+02 -1.4585e+02  8e+00  2e-15  8e-02\n",
        " 2: -1.3789e+02 -1.3974e+02  2e+00  2e-15  1e-02\n",
        " 3: -1.3804e+02 -1.3842e+02  4e-01  2e-15  7e-04\n",
        " 4: -1.3811e+02 -1.3820e+02  9e-02  3e-15  5e-05\n",
        " 5: -1.3813e+02 -1.3816e+02  2e-02  3e-15  6e-06\n",
        " 6: -1.3814e+02 -1.3815e+02  5e-03  3e-15  1e-06\n",
        " 7: -1.3814e+02 -1.3815e+02  8e-04  4e-15  1e-07\n",
        " 8: -1.3814e+02 -1.3814e+02  1e-04  4e-15  5e-09\n",
        "Optimal solution found.\n",
        "111 support vectors out of 173 points\n",
        "cutting plane objective: 138.144660, primal objective 138.234787\n",
        "iteration 295\n",
        "OneSlackSSVM(C=0.1, break_on_bad=False, cache_tol=auto,\n",
        "       check_constraints=False, inactive_threshold=1e-05,\n",
        "       inactive_window=50, inference_cache=0, logger=None, max_iter=10000,\n",
        "       model=MultiLabelModel(n_states: 2, inference_method: ad3), n_jobs=1,\n",
        "       positive_constraint=None, show_loss_every=0, switch_to=None,\n",
        "       tol=1e-05, verbose=3)\n",
        "New violation: 0.961892 difference to last: 0.000690"
       ]
      },
      {
       "output_type": "stream",
       "stream": "stdout",
       "text": [
        "\n",
        "     pcost       dcost       gap    pres   dres"
       ]
      },
      {
       "output_type": "stream",
       "stream": "stdout",
       "text": [
        "\n",
        " 0: -1.3729e+02 -2.9788e+02  2e+02  1e-16  2e+00\n",
        " 1: -1.3759e+02 -1.4585e+02  8e+00  2e-15  8e-02\n",
        " 2: -1.3789e+02 -1.3967e+02  2e+00  2e-15  1e-02\n",
        " 3: -1.3804e+02 -1.3842e+02  4e-01  2e-15  8e-04\n",
        " 4: -1.3811e+02 -1.3820e+02  9e-02  2e-15  6e-05\n",
        " 5: -1.3813e+02 -1.3816e+02  2e-02  3e-15  7e-06\n",
        " 6: -1.3814e+02 -1.3815e+02  5e-03  3e-15  1e-06\n",
        " 7: -1.3814e+02 -1.3815e+02  8e-04  3e-15  1e-07\n",
        " 8: -1.3814e+02 -1.3814e+02  1e-04  3e-15  7e-16\n",
        "Optimal solution found.\n",
        "108 support vectors out of 174 points\n",
        "cutting plane objective: 138.144754, primal objective 138.228294\n",
        "iteration 296\n",
        "OneSlackSSVM(C=0.1, break_on_bad=False, cache_tol=auto,\n",
        "       check_constraints=False, inactive_threshold=1e-05,\n",
        "       inactive_window=50, inference_cache=0, logger=None, max_iter=10000,\n",
        "       model=MultiLabelModel(n_states: 2, inference_method: ad3), n_jobs=1,\n",
        "       positive_constraint=None, show_loss_every=0, switch_to=None,\n",
        "       tol=1e-05, verbose=3)\n",
        "New violation: 0.961877 difference to last: 0.000649"
       ]
      },
      {
       "output_type": "stream",
       "stream": "stdout",
       "text": [
        "\n",
        "     pcost       dcost       gap    pres   dres"
       ]
      },
      {
       "output_type": "stream",
       "stream": "stdout",
       "text": [
        "\n",
        " 0: -1.3730e+02 -2.9737e+02  2e+02  4e-16  2e+00\n",
        " 1: -1.3759e+02 -1.4606e+02  8e+00  2e-15  8e-02\n",
        " 2: -1.3789e+02 -1.3972e+02  2e+00  1e-15  1e-02\n",
        " 3: -1.3804e+02 -1.3842e+02  4e-01  2e-15  7e-04\n",
        " 4: -1.3811e+02 -1.3820e+02  9e-02  2e-15  6e-05\n",
        " 5: -1.3813e+02 -1.3816e+02  2e-02  2e-15  8e-06\n",
        " 6: -1.3814e+02 -1.3815e+02  5e-03  2e-15  1e-06\n",
        " 7: -1.3814e+02 -1.3815e+02  8e-04  3e-15  1e-07\n",
        " 8: -1.3814e+02 -1.3814e+02  1e-04  3e-15  7e-09\n",
        "Optimal solution found.\n",
        "108 support vectors out of 175 points\n",
        "cutting plane objective: 138.144858, primal objective 138.223464\n",
        "iteration 297\n",
        "OneSlackSSVM(C=0.1, break_on_bad=False, cache_tol=auto,\n",
        "       check_constraints=False, inactive_threshold=1e-05,\n",
        "       inactive_window=50, inference_cache=0, logger=None, max_iter=10000,\n",
        "       model=MultiLabelModel(n_states: 2, inference_method: ad3), n_jobs=1,\n",
        "       positive_constraint=None, show_loss_every=0, switch_to=None,\n",
        "       tol=1e-05, verbose=3)\n",
        "New violation: 0.961850 difference to last: 0.000604"
       ]
      },
      {
       "output_type": "stream",
       "stream": "stdout",
       "text": [
        "\n",
        "     pcost       dcost       gap    pres   dres"
       ]
      },
      {
       "output_type": "stream",
       "stream": "stdout",
       "text": [
        "\n",
        " 0: -1.3731e+02 -2.9730e+02  2e+02  2e-16  2e+00\n",
        " 1: -1.3760e+02 -1.4603e+02  8e+00  2e-15  8e-02\n",
        " 2: -1.3789e+02 -1.3973e+02  2e+00  2e-15  1e-02\n",
        " 3: -1.3804e+02 -1.3843e+02  4e-01  2e-15  7e-04\n",
        " 4: -1.3811e+02 -1.3820e+02  9e-02  2e-15  6e-05\n",
        " 5: -1.3813e+02 -1.3816e+02  2e-02  3e-15  9e-06\n",
        " 6: -1.3814e+02 -1.3815e+02  5e-03  2e-15  2e-06\n",
        " 7: -1.3814e+02 -1.3815e+02  8e-04  4e-15  2e-07\n",
        " 8: -1.3814e+02 -1.3815e+02  1e-04  3e-15  2e-09\n",
        "Optimal solution found.\n",
        "108 support vectors out of 176 points\n",
        "cutting plane objective: 138.144930, primal objective 138.218057\n",
        "iteration 298\n",
        "OneSlackSSVM(C=0.1, break_on_bad=False, cache_tol=auto,\n",
        "       check_constraints=False, inactive_threshold=1e-05,\n",
        "       inactive_window=50, inference_cache=0, logger=None, max_iter=10000,\n",
        "       model=MultiLabelModel(n_states: 2, inference_method: ad3), n_jobs=1,\n",
        "       positive_constraint=None, show_loss_every=0, switch_to=None,\n",
        "       tol=1e-05, verbose=3)\n",
        "New violation: 0.961878 difference to last: 0.000655"
       ]
      },
      {
       "output_type": "stream",
       "stream": "stdout",
       "text": [
        "\n",
        "     pcost       dcost       gap    pres   dres"
       ]
      },
      {
       "output_type": "stream",
       "stream": "stdout",
       "text": [
        "\n",
        " 0: -1.3731e+02 -2.9661e+02  2e+02  2e-16  2e+00\n",
        " 1: -1.3760e+02 -1.4635e+02  9e+00  2e-15  8e-02\n",
        " 2: -1.3789e+02 -1.3982e+02  2e+00  2e-15  1e-02\n",
        " 3: -1.3804e+02 -1.3843e+02  4e-01  2e-15  6e-04\n",
        " 4: -1.3811e+02 -1.3821e+02  1e-01  2e-15  5e-05\n",
        " 5: -1.3813e+02 -1.3816e+02  2e-02  3e-15  8e-06\n",
        " 6: -1.3814e+02 -1.3815e+02  6e-03  3e-15  1e-06\n",
        " 7: -1.3814e+02 -1.3815e+02  1e-03  3e-15  2e-07\n",
        " 8: -1.3814e+02 -1.3815e+02  2e-04  3e-15  2e-08\n",
        " 9: -1.3815e+02 -1.3815e+02  2e-05  4e-15  2e-09\n",
        "Optimal solution found.\n",
        "79 support vectors out of 177 points\n",
        "cutting plane objective: 138.145080, primal objective 138.224316\n",
        "iteration 299\n",
        "OneSlackSSVM(C=0.1, break_on_bad=False, cache_tol=auto,\n",
        "       check_constraints=False, inactive_threshold=1e-05,\n",
        "       inactive_window=50, inference_cache=0, logger=None, max_iter=10000,\n",
        "       model=MultiLabelModel(n_states: 2, inference_method: ad3), n_jobs=1,\n",
        "       positive_constraint=None, show_loss_every=0, switch_to=None,\n",
        "       tol=1e-05, verbose=3)\n",
        "New violation: 0.961838 difference to last: 0.000627"
       ]
      },
      {
       "output_type": "stream",
       "stream": "stdout",
       "text": [
        "\n",
        "     pcost       dcost       gap    pres   dres"
       ]
      },
      {
       "output_type": "stream",
       "stream": "stdout",
       "text": [
        "\n",
        " 0: -1.3732e+02 -2.9761e+02  2e+02  5e-16  2e+00\n",
        " 1: -1.3760e+02 -1.4591e+02  8e+00  1e-15  8e-02\n",
        " 2: -1.3789e+02 -1.3975e+02  2e+00  2e-15  1e-02\n",
        " 3: -1.3804e+02 -1.3843e+02  4e-01  2e-15  6e-04\n",
        " 4: -1.3811e+02 -1.3820e+02  9e-02  2e-15  6e-05\n",
        " 5: -1.3813e+02 -1.3816e+02  2e-02  2e-15  9e-06\n",
        " 6: -1.3814e+02 -1.3815e+02  5e-03  3e-15  1e-06\n",
        " 7: -1.3814e+02 -1.3815e+02  7e-04  4e-15  2e-07\n",
        " 8: -1.3815e+02 -1.3815e+02  9e-05  3e-15  5e-10\n",
        "Optimal solution found.\n",
        "108 support vectors out of 178 points\n",
        "cutting plane objective: 138.145119, primal objective 138.220987\n",
        "iteration 300\n",
        "OneSlackSSVM(C=0.1, break_on_bad=False, cache_tol=auto,\n",
        "       check_constraints=False, inactive_threshold=1e-05,\n",
        "       inactive_window=50, inference_cache=0, logger=None, max_iter=10000,\n",
        "       model=MultiLabelModel(n_states: 2, inference_method: ad3), n_jobs=1,\n",
        "       positive_constraint=None, show_loss_every=0, switch_to=None,\n",
        "       tol=1e-05, verbose=3)\n",
        "New violation: 0.961795 difference to last: 0.000609"
       ]
      },
      {
       "output_type": "stream",
       "stream": "stdout",
       "text": [
        "\n",
        "     pcost       dcost       gap    pres   dres"
       ]
      },
      {
       "output_type": "stream",
       "stream": "stdout",
       "text": [
        "\n",
        " 0: -1.3733e+02 -2.9648e+02  2e+02  1e-16  2e+00\n",
        " 1: -1.3761e+02 -1.4610e+02  8e+00  2e-15  8e-02\n",
        " 2: -1.3789e+02 -1.3978e+02  2e+00  2e-15  1e-02\n",
        " 3: -1.3804e+02 -1.3844e+02  4e-01  2e-15  8e-04\n",
        " 4: -1.3811e+02 -1.3820e+02  1e-01  2e-15  7e-05\n",
        " 5: -1.3813e+02 -1.3816e+02  3e-02  2e-15  1e-05\n",
        " 6: -1.3814e+02 -1.3815e+02  5e-03  3e-15  1e-06\n",
        " 7: -1.3814e+02 -1.3815e+02  1e-03  3e-15  2e-07\n",
        " 8: -1.3815e+02 -1.3815e+02  2e-04  5e-15  3e-08\n",
        " 9: -1.3815e+02 -1.3815e+02  1e-05  3e-15  6e-10\n",
        "Optimal solution found.\n",
        "82 support vectors out of 179 points\n",
        "cutting plane objective: 138.145265, primal objective 138.219012\n",
        "iteration 301\n",
        "OneSlackSSVM(C=0.1, break_on_bad=False, cache_tol=auto,\n",
        "       check_constraints=False, inactive_threshold=1e-05,\n",
        "       inactive_window=50, inference_cache=0, logger=None, max_iter=10000,\n",
        "       model=MultiLabelModel(n_states: 2, inference_method: ad3), n_jobs=1,\n",
        "       positive_constraint=None, show_loss_every=0, switch_to=None,\n",
        "       tol=1e-05, verbose=3)\n",
        "New violation: 0.961861 difference to last: 0.000691"
       ]
      },
      {
       "output_type": "stream",
       "stream": "stdout",
       "text": [
        "\n",
        "     pcost       dcost       gap    pres   dres"
       ]
      },
      {
       "output_type": "stream",
       "stream": "stdout",
       "text": [
        "\n",
        " 0: -1.3734e+02 -2.9642e+02  2e+02  2e-16  2e+00\n",
        " 1: -1.3762e+02 -1.4568e+02  8e+00  1e-15  7e-02\n",
        " 2: -1.3790e+02 -1.3973e+02  2e+00  2e-15  1e-02\n",
        " 3: -1.3804e+02 -1.3844e+02  4e-01  2e-15  8e-04\n",
        " 4: -1.3811e+02 -1.3821e+02  1e-01  2e-15  9e-05\n",
        " 5: -1.3813e+02 -1.3816e+02  3e-02  2e-15  1e-05\n",
        " 6: -1.3814e+02 -1.3815e+02  4e-03  3e-15  1e-06\n",
        " 7: -1.3814e+02 -1.3815e+02  6e-04  3e-15  2e-07\n",
        " 8: -1.3815e+02 -1.3815e+02  1e-04  3e-15  2e-08\n",
        "Optimal solution found.\n",
        "116 support vectors out of 180 points\n",
        "cutting plane objective: 138.145287, primal objective 138.228962\n",
        "iteration 302\n",
        "OneSlackSSVM(C=0.1, break_on_bad=False, cache_tol=auto,\n",
        "       check_constraints=False, inactive_threshold=1e-05,\n",
        "       inactive_window=50, inference_cache=0, logger=None, max_iter=10000,\n",
        "       model=MultiLabelModel(n_states: 2, inference_method: ad3), n_jobs=1,\n",
        "       positive_constraint=None, show_loss_every=0, switch_to=None,\n",
        "       tol=1e-05, verbose=3)\n",
        "New violation: 0.961816 difference to last: 0.000602"
       ]
      },
      {
       "output_type": "stream",
       "stream": "stdout",
       "text": [
        "\n",
        "     pcost       dcost       gap    pres   dres"
       ]
      },
      {
       "output_type": "stream",
       "stream": "stdout",
       "text": [
        "\n",
        " 0: -1.3735e+02 -2.9558e+02  2e+02  2e-17  2e+00\n",
        " 1: -1.3762e+02 -1.4585e+02  8e+00  2e-15  8e-02\n",
        " 2: -1.3790e+02 -1.3977e+02  2e+00  2e-15  1e-02\n",
        " 3: -1.3804e+02 -1.3844e+02  4e-01  2e-15  7e-04\n",
        " 4: -1.3811e+02 -1.3820e+02  1e-01  2e-15  7e-05\n",
        " 5: -1.3813e+02 -1.3816e+02  2e-02  3e-15  1e-05\n",
        " 6: -1.3814e+02 -1.3815e+02  4e-03  3e-15  1e-06\n",
        " 7: -1.3814e+02 -1.3815e+02  9e-04  3e-15  2e-07\n",
        " 8: -1.3815e+02 -1.3815e+02  2e-04  3e-15  5e-08\n",
        " 9: -1.3815e+02 -1.3815e+02  2e-05  4e-15  1e-09"
       ]
      },
      {
       "output_type": "stream",
       "stream": "stdout",
       "text": [
        "\n",
        "Optimal solution found.\n",
        "82 support vectors out of 181 points\n",
        "cutting plane objective: 138.145416, primal objective 138.218340\n",
        "iteration 303\n",
        "OneSlackSSVM(C=0.1, break_on_bad=False, cache_tol=auto,\n",
        "       check_constraints=False, inactive_threshold=1e-05,\n",
        "       inactive_window=50, inference_cache=0, logger=None, max_iter=10000,\n",
        "       model=MultiLabelModel(n_states: 2, inference_method: ad3), n_jobs=1,\n",
        "       positive_constraint=None, show_loss_every=0, switch_to=None,\n",
        "       tol=1e-05, verbose=3)\n",
        "New violation: 0.961785 difference to last: 0.000561"
       ]
      },
      {
       "output_type": "stream",
       "stream": "stdout",
       "text": [
        "\n",
        "     pcost       dcost       gap    pres   dres"
       ]
      },
      {
       "output_type": "stream",
       "stream": "stdout",
       "text": [
        "\n",
        " 0: -1.3734e+02 -2.9652e+02  2e+02  3e-16  2e+00\n",
        " 1: -1.3761e+02 -1.4583e+02  8e+00  2e-15  8e-02\n",
        " 2: -1.3790e+02 -1.3976e+02  2e+00  1e-15  1e-02\n",
        " 3: -1.3804e+02 -1.3844e+02  4e-01  2e-15  7e-04\n",
        " 4: -1.3811e+02 -1.3820e+02  1e-01  3e-15  6e-05\n",
        " 5: -1.3813e+02 -1.3816e+02  2e-02  2e-15  1e-05\n",
        " 6: -1.3814e+02 -1.3815e+02  4e-03  3e-15  9e-07\n",
        " 7: -1.3815e+02 -1.3815e+02  6e-04  3e-15  1e-07\n",
        " 8: -1.3815e+02 -1.3815e+02  1e-04  3e-15  2e-08\n",
        " 9: -1.3815e+02 -1.3815e+02  1e-05  3e-15  7e-16\n",
        "Optimal solution found.\n",
        "76 support vectors out of 182 points\n",
        "cutting plane objective: 138.145485, primal objective 138.213422\n",
        "iteration 304\n",
        "OneSlackSSVM(C=0.1, break_on_bad=False, cache_tol=auto,\n",
        "       check_constraints=False, inactive_threshold=1e-05,\n",
        "       inactive_window=50, inference_cache=0, logger=None, max_iter=10000,\n",
        "       model=MultiLabelModel(n_states: 2, inference_method: ad3), n_jobs=1,\n",
        "       positive_constraint=None, show_loss_every=0, switch_to=None,\n",
        "       tol=1e-05, verbose=3)\n",
        "New violation: 0.961764 difference to last: 0.000523"
       ]
      },
      {
       "output_type": "stream",
       "stream": "stdout",
       "text": [
        "\n",
        "     pcost       dcost       gap    pres   dres"
       ]
      },
      {
       "output_type": "stream",
       "stream": "stdout",
       "text": [
        "\n",
        " 0: -1.3737e+02 -2.9534e+02  2e+02  6e-16  1e+00\n",
        " 1: -1.3763e+02 -1.4532e+02  8e+00  2e-15  7e-02\n",
        " 2: -1.3790e+02 -1.3966e+02  2e+00  2e-15  1e-02\n",
        " 3: -1.3804e+02 -1.3843e+02  4e-01  2e-15  9e-04\n",
        " 4: -1.3811e+02 -1.3820e+02  9e-02  2e-15  9e-05\n",
        " 5: -1.3813e+02 -1.3816e+02  2e-02  2e-15  1e-05\n",
        " 6: -1.3814e+02 -1.3815e+02  4e-03  3e-15  2e-06\n",
        " 7: -1.3815e+02 -1.3815e+02  8e-04  3e-15  2e-07\n",
        " 8: -1.3815e+02 -1.3815e+02  2e-04  3e-15  5e-08\n",
        " 9: -1.3815e+02 -1.3815e+02  2e-05  3e-15  6e-16\n",
        "Optimal solution found.\n",
        "82 support vectors out of 183 points\n",
        "cutting plane objective: 138.145538, primal objective 138.208798\n",
        "iteration 305\n",
        "OneSlackSSVM(C=0.1, break_on_bad=False, cache_tol=auto,\n",
        "       check_constraints=False, inactive_threshold=1e-05,\n",
        "       inactive_window=50, inference_cache=0, logger=None, max_iter=10000,\n",
        "       model=MultiLabelModel(n_states: 2, inference_method: ad3), n_jobs=1,\n",
        "       positive_constraint=None, show_loss_every=0, switch_to=None,\n",
        "       tol=1e-05, verbose=3)\n",
        "New violation: 0.961742 difference to last: 0.000502"
       ]
      },
      {
       "output_type": "stream",
       "stream": "stdout",
       "text": [
        "\n",
        "     pcost       dcost       gap    pres   dres"
       ]
      },
      {
       "output_type": "stream",
       "stream": "stdout",
       "text": [
        "\n",
        " 0: -1.3737e+02 -2.9608e+02  2e+02  2e-16  2e+00\n",
        " 1: -1.3763e+02 -1.4522e+02  8e+00  2e-15  7e-02\n",
        " 2: -1.3790e+02 -1.3968e+02  2e+00  2e-15  1e-02\n",
        " 3: -1.3804e+02 -1.3844e+02  4e-01  2e-15  8e-04\n",
        " 4: -1.3811e+02 -1.3820e+02  9e-02  3e-15  8e-05\n",
        " 5: -1.3813e+02 -1.3816e+02  2e-02  2e-15  1e-05\n",
        " 6: -1.3814e+02 -1.3815e+02  4e-03  3e-15  1e-06\n",
        " 7: -1.3815e+02 -1.3815e+02  9e-04  4e-15  2e-07\n",
        " 8: -1.3815e+02 -1.3815e+02  2e-04  3e-15  4e-08\n",
        " 9: -1.3815e+02 -1.3815e+02  1e-05  3e-15  7e-16\n",
        "Optimal solution found.\n",
        "79 support vectors out of 184 points\n",
        "cutting plane objective: 138.145594, primal objective 138.206405\n",
        "iteration 306\n",
        "OneSlackSSVM(C=0.1, break_on_bad=False, cache_tol=auto,\n",
        "       check_constraints=False, inactive_threshold=1e-05,\n",
        "       inactive_window=50, inference_cache=0, logger=None, max_iter=10000,\n",
        "       model=MultiLabelModel(n_states: 2, inference_method: ad3), n_jobs=1,\n",
        "       positive_constraint=None, show_loss_every=0, switch_to=None,\n",
        "       tol=1e-05, verbose=3)\n",
        "New violation: 0.961719 difference to last: 0.000498"
       ]
      },
      {
       "output_type": "stream",
       "stream": "stdout",
       "text": [
        "\n",
        "     pcost       dcost       gap    pres   dres"
       ]
      },
      {
       "output_type": "stream",
       "stream": "stdout",
       "text": [
        "\n",
        " 0: -1.3739e+02 -2.9544e+02  2e+02  4e-17  1e+00\n",
        " 1: -1.3764e+02 -1.4496e+02  7e+00  2e-15  7e-02\n",
        " 2: -1.3791e+02 -1.3964e+02  2e+00  2e-15  1e-02\n",
        " 3: -1.3804e+02 -1.3844e+02  4e-01  2e-15  9e-04\n",
        " 4: -1.3811e+02 -1.3820e+02  9e-02  3e-15  9e-05\n",
        " 5: -1.3813e+02 -1.3816e+02  2e-02  3e-15  1e-05\n",
        " 6: -1.3814e+02 -1.3815e+02  4e-03  3e-15  1e-06\n",
        " 7: -1.3815e+02 -1.3815e+02  7e-04  3e-15  2e-07\n",
        " 8: -1.3815e+02 -1.3815e+02  1e-04  4e-15  3e-08\n",
        "Optimal solution found.\n",
        "120 support vectors out of 185 points\n",
        "cutting plane objective: 138.145583, primal objective 138.205944\n",
        "iteration 307\n",
        "OneSlackSSVM(C=0.1, break_on_bad=False, cache_tol=auto,\n",
        "       check_constraints=False, inactive_threshold=1e-05,\n",
        "       inactive_window=50, inference_cache=0, logger=None, max_iter=10000,\n",
        "       model=MultiLabelModel(n_states: 2, inference_method: ad3), n_jobs=1,\n",
        "       positive_constraint=None, show_loss_every=0, switch_to=None,\n",
        "       tol=1e-05, verbose=3)\n",
        "New violation: 0.961712 difference to last: 0.000512"
       ]
      },
      {
       "output_type": "stream",
       "stream": "stdout",
       "text": [
        "\n",
        "     pcost       dcost       gap    pres   dres"
       ]
      },
      {
       "output_type": "stream",
       "stream": "stdout",
       "text": [
        "\n",
        " 0: -1.3741e+02 -2.9556e+02  2e+02  1e-16  1e+00\n",
        " 1: -1.3765e+02 -1.4476e+02  7e+00  2e-15  7e-02\n",
        " 2: -1.3792e+02 -1.3957e+02  2e+00  1e-15  1e-02\n",
        " 3: -1.3805e+02 -1.3843e+02  4e-01  2e-15  1e-03\n",
        " 4: -1.3811e+02 -1.3820e+02  9e-02  3e-15  9e-05\n",
        " 5: -1.3813e+02 -1.3816e+02  2e-02  3e-15  1e-05\n",
        " 6: -1.3814e+02 -1.3815e+02  4e-03  3e-15  1e-06\n",
        " 7: -1.3815e+02 -1.3815e+02  8e-04  3e-15  2e-07\n",
        " 8: -1.3815e+02 -1.3815e+02  2e-04  4e-15  4e-08\n",
        " 9: -1.3815e+02 -1.3815e+02  1e-05  3e-15  1e-09\n",
        "Optimal solution found.\n",
        "80 support vectors out of 186 points\n",
        "cutting plane objective: 138.145720, primal objective 138.207662\n",
        "iteration 308\n",
        "OneSlackSSVM(C=0.1, break_on_bad=False, cache_tol=auto,\n",
        "       check_constraints=False, inactive_threshold=1e-05,\n",
        "       inactive_window=50, inference_cache=0, logger=None, max_iter=10000,\n",
        "       model=MultiLabelModel(n_states: 2, inference_method: ad3), n_jobs=1,\n",
        "       positive_constraint=None, show_loss_every=0, switch_to=None,\n",
        "       tol=1e-05, verbose=3)\n",
        "New violation: 0.961739 difference to last: 0.000517"
       ]
      },
      {
       "output_type": "stream",
       "stream": "stdout",
       "text": [
        "\n",
        "     pcost       dcost       gap    pres   dres"
       ]
      },
      {
       "output_type": "stream",
       "stream": "stdout",
       "text": [
        "\n",
        " 0: -1.3741e+02 -2.9540e+02  2e+02  1e-15  1e+00\n",
        " 1: -1.3765e+02 -1.4503e+02  7e+00  2e-15  7e-02\n",
        " 2: -1.3791e+02 -1.3963e+02  2e+00  2e-15  1e-02\n",
        " 3: -1.3805e+02 -1.3843e+02  4e-01  2e-15  9e-04\n",
        " 4: -1.3811e+02 -1.3820e+02  9e-02  2e-15  8e-05\n",
        " 5: -1.3813e+02 -1.3816e+02  2e-02  3e-15  1e-05\n",
        " 6: -1.3814e+02 -1.3815e+02  4e-03  3e-15  1e-06\n",
        " 7: -1.3815e+02 -1.3815e+02  8e-04  3e-15  2e-07\n",
        " 8: -1.3815e+02 -1.3815e+02  1e-04  3e-15  3e-08\n",
        "Optimal solution found.\n",
        "124 support vectors out of 187 points\n",
        "cutting plane objective: 138.145709, primal objective 138.208344\n",
        "iteration 309\n",
        "OneSlackSSVM(C=0.1, break_on_bad=False, cache_tol=auto,\n",
        "       check_constraints=False, inactive_threshold=1e-05,\n",
        "       inactive_window=50, inference_cache=0, logger=None, max_iter=10000,\n",
        "       model=MultiLabelModel(n_states: 2, inference_method: ad3), n_jobs=1,\n",
        "       positive_constraint=None, show_loss_every=0, switch_to=None,\n",
        "       tol=1e-05, verbose=3)\n",
        "New violation: 0.961705 difference to last: 0.000480"
       ]
      },
      {
       "output_type": "stream",
       "stream": "stdout",
       "text": [
        "\n",
        "     pcost       dcost       gap    pres   dres"
       ]
      },
      {
       "output_type": "stream",
       "stream": "stdout",
       "text": [
        "\n",
        " 0: -1.3742e+02 -2.9520e+02  2e+02  4e-16  1e+00\n",
        " 1: -1.3766e+02 -1.4482e+02  7e+00  2e-15  7e-02\n",
        " 2: -1.3792e+02 -1.3959e+02  2e+00  2e-15  1e-02\n",
        " 3: -1.3805e+02 -1.3843e+02  4e-01  2e-15  1e-03\n",
        " 4: -1.3811e+02 -1.3820e+02  9e-02  2e-15  9e-05\n",
        " 5: -1.3814e+02 -1.3816e+02  2e-02  2e-15  1e-05\n",
        " 6: -1.3814e+02 -1.3815e+02  4e-03  2e-15  1e-06\n",
        " 7: -1.3815e+02 -1.3815e+02  7e-04  3e-15  2e-07\n",
        " 8: -1.3815e+02 -1.3815e+02  1e-04  3e-15  3e-08\n",
        " 9: -1.3815e+02 -1.3815e+02  1e-05  3e-15  7e-16\n",
        "Optimal solution found.\n",
        "86 support vectors out of 188 points\n",
        "cutting plane objective: 138.145839, primal objective 138.203952\n",
        "iteration 310\n",
        "OneSlackSSVM(C=0.1, break_on_bad=False, cache_tol=auto,\n",
        "       check_constraints=False, inactive_threshold=1e-05,\n",
        "       inactive_window=50, inference_cache=0, logger=None, max_iter=10000,\n",
        "       model=MultiLabelModel(n_states: 2, inference_method: ad3), n_jobs=1,\n",
        "       positive_constraint=None, show_loss_every=0, switch_to=None,\n",
        "       tol=1e-05, verbose=3)\n",
        "New violation: 0.961776 difference to last: 0.000535"
       ]
      },
      {
       "output_type": "stream",
       "stream": "stdout",
       "text": [
        "\n",
        "     pcost       dcost       gap    pres   dres"
       ]
      },
      {
       "output_type": "stream",
       "stream": "stdout",
       "text": [
        "\n",
        " 0: -1.3741e+02 -2.9587e+02  2e+02  3e-16  1e+00\n",
        " 1: -1.3765e+02 -1.4506e+02  7e+00  2e-15  7e-02\n",
        " 2: -1.3791e+02 -1.3962e+02  2e+00  2e-15  1e-02\n",
        " 3: -1.3805e+02 -1.3843e+02  4e-01  2e-15  9e-04\n",
        " 4: -1.3811e+02 -1.3820e+02  9e-02  2e-15  7e-05\n",
        " 5: -1.3814e+02 -1.3816e+02  2e-02  3e-15  1e-05\n",
        " 6: -1.3814e+02 -1.3815e+02  4e-03  3e-15  1e-06\n",
        " 7: -1.3815e+02 -1.3815e+02  7e-04  3e-15  1e-07\n",
        " 8: -1.3815e+02 -1.3815e+02  9e-05  3e-15  1e-08\n",
        "Optimal solution found.\n",
        "119 support vectors out of 189 points\n",
        "cutting plane objective: 138.145844, primal objective 138.210636\n",
        "iteration 311\n",
        "OneSlackSSVM(C=0.1, break_on_bad=False, cache_tol=auto,\n",
        "       check_constraints=False, inactive_threshold=1e-05,\n",
        "       inactive_window=50, inference_cache=0, logger=None, max_iter=10000,\n",
        "       model=MultiLabelModel(n_states: 2, inference_method: ad3), n_jobs=1,\n",
        "       positive_constraint=None, show_loss_every=0, switch_to=None,\n",
        "       tol=1e-05, verbose=3)\n",
        "New violation: 0.961712 difference to last: 0.000462"
       ]
      },
      {
       "output_type": "stream",
       "stream": "stdout",
       "text": [
        "\n",
        "     pcost       dcost       gap    pres   dres"
       ]
      },
      {
       "output_type": "stream",
       "stream": "stdout",
       "text": [
        "\n",
        " 0: -1.3743e+02 -2.9480e+02  2e+02  2e-16  1e+00\n",
        " 1: -1.3766e+02 -1.4500e+02  7e+00  2e-15  7e-02\n",
        " 2: -1.3792e+02 -1.3963e+02  2e+00  2e-15  1e-02\n",
        " 3: -1.3805e+02 -1.3844e+02  4e-01  2e-15  1e-03\n",
        " 4: -1.3811e+02 -1.3820e+02  9e-02  2e-15  9e-05\n",
        " 5: -1.3814e+02 -1.3816e+02  2e-02  2e-15  1e-05\n",
        " 6: -1.3814e+02 -1.3815e+02  4e-03  3e-15  1e-06\n",
        " 7: -1.3815e+02 -1.3815e+02  8e-04  4e-15  2e-07\n",
        " 8: -1.3815e+02 -1.3815e+02  2e-04  4e-15  5e-08\n",
        " 9: -1.3815e+02 -1.3815e+02  2e-05  3e-15  6e-16\n",
        "Optimal solution found.\n",
        "88 support vectors out of 190 points\n",
        "cutting plane objective: 138.145946, primal objective 138.201827\n",
        "iteration 312\n",
        "OneSlackSSVM(C=0.1, break_on_bad=False, cache_tol=auto,\n",
        "       check_constraints=False, inactive_threshold=1e-05,\n",
        "       inactive_window=50, inference_cache=0, logger=None, max_iter=10000,\n",
        "       model=MultiLabelModel(n_states: 2, inference_method: ad3), n_jobs=1,\n",
        "       positive_constraint=None, show_loss_every=0, switch_to=None,\n",
        "       tol=1e-05, verbose=3)\n",
        "New violation: 0.961740 difference to last: 0.000474"
       ]
      },
      {
       "output_type": "stream",
       "stream": "stdout",
       "text": [
        "\n",
        "     pcost       dcost       gap    pres   dres"
       ]
      },
      {
       "output_type": "stream",
       "stream": "stdout",
       "text": [
        "\n",
        " 0: -1.3744e+02 -2.9446e+02  2e+02  1e-17  1e+00\n",
        " 1: -1.3766e+02 -1.4494e+02  7e+00  1e-15  7e-02\n",
        " 2: -1.3791e+02 -1.3967e+02  2e+00  1e-15  1e-02\n",
        " 3: -1.3805e+02 -1.3845e+02  4e-01  2e-15  9e-04\n",
        " 4: -1.3811e+02 -1.3820e+02  9e-02  2e-15  8e-05\n",
        " 5: -1.3814e+02 -1.3816e+02  2e-02  3e-15  9e-06\n",
        " 6: -1.3814e+02 -1.3815e+02  5e-03  2e-15  2e-06\n",
        " 7: -1.3815e+02 -1.3815e+02  9e-04  3e-15  2e-07\n",
        " 8: -1.3815e+02 -1.3815e+02  2e-04  4e-15  4e-08\n",
        " 9: -1.3815e+02 -1.3815e+02  1e-05  3e-15  2e-10\n",
        "Optimal solution found.\n",
        "83 support vectors out of 191 points\n",
        "cutting plane objective: 138.145996, primal objective 138.203376\n",
        "iteration 313\n",
        "OneSlackSSVM(C=0.1, break_on_bad=False, cache_tol=auto,\n",
        "       check_constraints=False, inactive_threshold=1e-05,\n",
        "       inactive_window=50, inference_cache=0, logger=None, max_iter=10000,\n",
        "       model=MultiLabelModel(n_states: 2, inference_method: ad3), n_jobs=1,\n",
        "       positive_constraint=None, show_loss_every=0, switch_to=None,\n",
        "       tol=1e-05, verbose=3)\n",
        "New violation: 0.961746 difference to last: 0.000485"
       ]
      },
      {
       "output_type": "stream",
       "stream": "stdout",
       "text": [
        "\n",
        "     pcost       dcost       gap    pres   dres"
       ]
      },
      {
       "output_type": "stream",
       "stream": "stdout",
       "text": [
        "\n",
        " 0: -1.3744e+02 -2.9502e+02  2e+02  4e-16  1e+00\n",
        " 1: -1.3767e+02 -1.4497e+02  7e+00  2e-15  7e-02\n",
        " 2: -1.3792e+02 -1.3963e+02  2e+00  2e-15  1e-02\n",
        " 3: -1.3805e+02 -1.3844e+02  4e-01  2e-15  9e-04\n",
        " 4: -1.3811e+02 -1.3820e+02  9e-02  2e-15  7e-05\n",
        " 5: -1.3814e+02 -1.3816e+02  2e-02  2e-15  9e-06\n",
        " 6: -1.3814e+02 -1.3815e+02  5e-03  2e-15  2e-06\n",
        " 7: -1.3815e+02 -1.3815e+02  9e-04  3e-15  2e-07\n",
        " 8: -1.3815e+02 -1.3815e+02  2e-04  3e-15  5e-08\n",
        " 9: -1.3815e+02 -1.3815e+02  2e-05  3e-15  1e-09\n",
        "Optimal solution found.\n",
        "93 support vectors out of 192 points\n",
        "cutting plane objective: 138.146046, primal objective 138.204720\n",
        "iteration 314\n",
        "OneSlackSSVM(C=0.1, break_on_bad=False, cache_tol=auto,\n",
        "       check_constraints=False, inactive_threshold=1e-05,\n",
        "       inactive_window=50, inference_cache=0, logger=None, max_iter=10000,\n",
        "       model=MultiLabelModel(n_states: 2, inference_method: ad3), n_jobs=1,\n",
        "       positive_constraint=None, show_loss_every=0, switch_to=None,\n",
        "       tol=1e-05, verbose=3)\n",
        "New violation: 0.961677 difference to last: 0.000457"
       ]
      },
      {
       "output_type": "stream",
       "stream": "stdout",
       "text": [
        "\n",
        "     pcost       dcost       gap    pres   dres"
       ]
      },
      {
       "output_type": "stream",
       "stream": "stdout",
       "text": [
        "\n",
        " 0: -1.3745e+02 -2.9515e+02  2e+02  1e-16  1e+00\n",
        " 1: -1.3767e+02 -1.4504e+02  7e+00  2e-15  7e-02\n",
        " 2: -1.3792e+02 -1.3964e+02  2e+00  2e-15  1e-02\n",
        " 3: -1.3805e+02 -1.3844e+02  4e-01  2e-15  9e-04\n",
        " 4: -1.3811e+02 -1.3820e+02  9e-02  3e-15  8e-05\n",
        " 5: -1.3814e+02 -1.3816e+02  2e-02  2e-15  1e-05\n",
        " 6: -1.3814e+02 -1.3815e+02  6e-03  2e-15  2e-06\n",
        " 7: -1.3815e+02 -1.3815e+02  1e-03  3e-15  3e-07\n",
        " 8: -1.3815e+02 -1.3815e+02  3e-04  3e-15  6e-08\n",
        " 9: -1.3815e+02 -1.3815e+02  2e-05  3e-15  1e-09\n",
        "Optimal solution found.\n",
        "91 support vectors out of 193 points\n",
        "cutting plane objective: 138.146089, primal objective 138.201391\n",
        "iteration 315\n",
        "OneSlackSSVM(C=0.1, break_on_bad=False, cache_tol=auto,\n",
        "       check_constraints=False, inactive_threshold=1e-05,\n",
        "       inactive_window=50, inference_cache=0, logger=None, max_iter=10000,\n",
        "       model=MultiLabelModel(n_states: 2, inference_method: ad3), n_jobs=1,\n",
        "       positive_constraint=None, show_loss_every=0, switch_to=None,\n",
        "       tol=1e-05, verbose=3)\n",
        "New violation: 0.961721 difference to last: 0.000484"
       ]
      },
      {
       "output_type": "stream",
       "stream": "stdout",
       "text": [
        "\n",
        "     pcost       dcost       gap    pres   dres"
       ]
      },
      {
       "output_type": "stream",
       "stream": "stdout",
       "text": [
        "\n",
        " 0: -1.3745e+02 -2.9508e+02  2e+02  3e-16  1e+00\n",
        " 1: -1.3767e+02 -1.4515e+02  7e+00  2e-15  7e-02\n",
        " 2: -1.3792e+02 -1.3966e+02  2e+00  2e-15  1e-02\n",
        " 3: -1.3805e+02 -1.3844e+02  4e-01  2e-15  9e-04\n",
        " 4: -1.3811e+02 -1.3820e+02  9e-02  2e-15  7e-05\n",
        " 5: -1.3814e+02 -1.3816e+02  2e-02  3e-15  9e-06\n",
        " 6: -1.3814e+02 -1.3815e+02  6e-03  3e-15  2e-06\n",
        " 7: -1.3815e+02 -1.3815e+02  1e-03  3e-15  2e-07\n",
        " 8: -1.3815e+02 -1.3815e+02  2e-04  4e-15  2e-08\n",
        " 9: -1.3815e+02 -1.3815e+02  2e-05  3e-15  1e-10\n",
        "Optimal solution found.\n",
        "86 support vectors out of 194 points\n",
        "cutting plane objective: 138.146149, primal objective 138.204779\n",
        "iteration 316\n",
        "OneSlackSSVM(C=0.1, break_on_bad=False, cache_tol=auto,\n",
        "       check_constraints=False, inactive_threshold=1e-05,\n",
        "       inactive_window=50, inference_cache=0, logger=None, max_iter=10000,\n",
        "       model=MultiLabelModel(n_states: 2, inference_method: ad3), n_jobs=1,\n",
        "       positive_constraint=None, show_loss_every=0, switch_to=None,\n",
        "       tol=1e-05, verbose=3)\n",
        "New violation: 0.961695 difference to last: 0.000452"
       ]
      },
      {
       "output_type": "stream",
       "stream": "stdout",
       "text": [
        "\n",
        "     pcost       dcost       gap    pres   dres"
       ]
      },
      {
       "output_type": "stream",
       "stream": "stdout",
       "text": [
        "\n",
        " 0: -1.3746e+02 -2.9498e+02  2e+02  3e-16  1e+00\n",
        " 1: -1.3768e+02 -1.4514e+02  7e+00  2e-15  7e-02\n",
        " 2: -1.3792e+02 -1.3967e+02  2e+00  2e-15  1e-02\n",
        " 3: -1.3805e+02 -1.3845e+02  4e-01  2e-15  9e-04\n",
        " 4: -1.3811e+02 -1.3820e+02  9e-02  2e-15  7e-05\n",
        " 5: -1.3814e+02 -1.3816e+02  2e-02  2e-15  9e-06\n",
        " 6: -1.3814e+02 -1.3815e+02  6e-03  3e-15  2e-06\n",
        " 7: -1.3815e+02 -1.3815e+02  9e-04  5e-15  2e-07\n",
        " 8: -1.3815e+02 -1.3815e+02  2e-04  3e-15  3e-08\n",
        " 9: -1.3815e+02 -1.3815e+02  4e-05  3e-15  7e-16\n",
        "Optimal solution found.\n",
        "107 support vectors out of 195 points\n",
        "cutting plane objective: 138.146181, primal objective 138.200956\n",
        "iteration 317\n",
        "OneSlackSSVM(C=0.1, break_on_bad=False, cache_tol=auto,\n",
        "       check_constraints=False, inactive_threshold=1e-05,\n",
        "       inactive_window=50, inference_cache=0, logger=None, max_iter=10000,\n",
        "       model=MultiLabelModel(n_states: 2, inference_method: ad3), n_jobs=1,\n",
        "       positive_constraint=None, show_loss_every=0, switch_to=None,\n",
        "       tol=1e-05, verbose=3)\n",
        "New violation: 0.961682 difference to last: 0.000463"
       ]
      },
      {
       "output_type": "stream",
       "stream": "stdout",
       "text": [
        "\n",
        "     pcost       dcost       gap    pres   dres"
       ]
      },
      {
       "output_type": "stream",
       "stream": "stdout",
       "text": [
        "\n",
        " 0: -1.3746e+02 -2.9505e+02  2e+02  3e-16  1e+00\n",
        " 1: -1.3768e+02 -1.4513e+02  7e+00  1e-15  7e-02\n",
        " 2: -1.3792e+02 -1.3964e+02  2e+00  2e-15  1e-02\n",
        " 3: -1.3805e+02 -1.3846e+02  4e-01  2e-15  1e-03\n",
        " 4: -1.3811e+02 -1.3820e+02  9e-02  2e-15  6e-05\n",
        " 5: -1.3814e+02 -1.3816e+02  2e-02  2e-15  9e-06\n",
        " 6: -1.3814e+02 -1.3815e+02  6e-03  2e-15  2e-06\n",
        " 7: -1.3815e+02 -1.3815e+02  1e-03  3e-15  2e-07\n",
        " 8: -1.3815e+02 -1.3815e+02  3e-04  3e-15  4e-08\n",
        " 9: -1.3815e+02 -1.3815e+02  5e-05  4e-15  7e-16\n",
        "Optimal solution found.\n",
        "113 support vectors out of 196 points\n",
        "cutting plane objective: 138.146232, primal objective 138.202342\n",
        "iteration 318\n",
        "OneSlackSSVM(C=0.1, break_on_bad=False, cache_tol=auto,\n",
        "       check_constraints=False, inactive_threshold=1e-05,\n",
        "       inactive_window=50, inference_cache=0, logger=None, max_iter=10000,\n",
        "       model=MultiLabelModel(n_states: 2, inference_method: ad3), n_jobs=1,\n",
        "       positive_constraint=None, show_loss_every=0, switch_to=None,\n",
        "       tol=1e-05, verbose=3)\n",
        "New violation: 0.961644 difference to last: 0.000437"
       ]
      },
      {
       "output_type": "stream",
       "stream": "stdout",
       "text": [
        "\n",
        "     pcost       dcost       gap    pres   dres"
       ]
      },
      {
       "output_type": "stream",
       "stream": "stdout",
       "text": [
        "\n",
        " 0: -1.3746e+02 -2.9549e+02  2e+02  9e-16  1e+00\n",
        " 1: -1.3768e+02 -1.4517e+02  7e+00  2e-15  7e-02\n",
        " 2: -1.3792e+02 -1.3967e+02  2e+00  1e-15  1e-02\n",
        " 3: -1.3805e+02 -1.3846e+02  4e-01  2e-15  1e-03\n",
        " 4: -1.3811e+02 -1.3820e+02  9e-02  2e-15  6e-05\n",
        " 5: -1.3814e+02 -1.3816e+02  2e-02  2e-15  9e-06\n",
        " 6: -1.3814e+02 -1.3815e+02  6e-03  3e-15  2e-06\n",
        " 7: -1.3815e+02 -1.3815e+02  1e-03  3e-15  3e-07\n",
        " 8: -1.3815e+02 -1.3815e+02  3e-04  3e-15  5e-08\n",
        " 9: -1.3815e+02 -1.3815e+02  5e-05  3e-15  7e-16\n",
        "Optimal solution found.\n",
        "114 support vectors out of 197 points\n",
        "cutting plane objective: 138.146286, primal objective 138.199200\n",
        "iteration 319\n",
        "OneSlackSSVM(C=0.1, break_on_bad=False, cache_tol=auto,\n",
        "       check_constraints=False, inactive_threshold=1e-05,\n",
        "       inactive_window=50, inference_cache=0, logger=None, max_iter=10000,\n",
        "       model=MultiLabelModel(n_states: 2, inference_method: ad3), n_jobs=1,\n",
        "       positive_constraint=None, show_loss_every=0, switch_to=None,\n",
        "       tol=1e-05, verbose=3)\n",
        "New violation: 0.961706 difference to last: 0.000504"
       ]
      },
      {
       "output_type": "stream",
       "stream": "stdout",
       "text": [
        "\n",
        "     pcost       dcost       gap    pres   dres"
       ]
      },
      {
       "output_type": "stream",
       "stream": "stdout",
       "text": [
        "\n",
        " 0: -1.3747e+02 -2.9494e+02  2e+02  2e-16  1e+00\n",
        " 1: -1.3768e+02 -1.4508e+02  7e+00  2e-15  7e-02\n",
        " 2: -1.3792e+02 -1.3967e+02  2e+00  2e-15  1e-02\n",
        " 3: -1.3805e+02 -1.3846e+02  4e-01  2e-15  1e-03\n",
        " 4: -1.3811e+02 -1.3820e+02  9e-02  2e-15  7e-05\n",
        " 5: -1.3814e+02 -1.3816e+02  2e-02  2e-15  1e-05\n",
        " 6: -1.3814e+02 -1.3815e+02  5e-03  2e-15  2e-06\n",
        " 7: -1.3815e+02 -1.3815e+02  1e-03  3e-15  3e-07\n",
        " 8: -1.3815e+02 -1.3815e+02  3e-04  3e-15  7e-08\n",
        " 9: -1.3815e+02 -1.3815e+02  9e-05  3e-15  7e-16\n",
        "Optimal solution found.\n",
        "130 support vectors out of 198 points\n",
        "cutting plane objective: 138.146319, primal objective 138.207354\n",
        "iteration 320\n",
        "OneSlackSSVM(C=0.1, break_on_bad=False, cache_tol=auto,\n",
        "       check_constraints=False, inactive_threshold=1e-05,\n",
        "       inactive_window=50, inference_cache=0, logger=None, max_iter=10000,\n",
        "       model=MultiLabelModel(n_states: 2, inference_method: ad3), n_jobs=1,\n",
        "       positive_constraint=None, show_loss_every=0, switch_to=None,\n",
        "       tol=1e-05, verbose=3)\n",
        "New violation: 0.961722 difference to last: 0.000500"
       ]
      },
      {
       "output_type": "stream",
       "stream": "stdout",
       "text": [
        "\n",
        "     pcost       dcost       gap    pres   dres"
       ]
      },
      {
       "output_type": "stream",
       "stream": "stdout",
       "text": [
        "\n",
        " 0: -1.3747e+02 -2.9528e+02  2e+02  7e-17  1e+00\n",
        " 1: -1.3769e+02 -1.4524e+02  8e+00  2e-15  7e-02\n",
        " 2: -1.3792e+02 -1.3965e+02  2e+00  1e-15  1e-02\n",
        " 3: -1.3805e+02 -1.3846e+02  4e-01  2e-15  9e-04\n",
        " 4: -1.3811e+02 -1.3820e+02  9e-02  2e-15  6e-05\n",
        " 5: -1.3814e+02 -1.3816e+02  2e-02  3e-15  1e-05\n",
        " 6: -1.3814e+02 -1.3815e+02  5e-03  2e-15  2e-06\n",
        " 7: -1.3815e+02 -1.3815e+02  1e-03  3e-15  3e-07\n",
        " 8: -1.3815e+02 -1.3815e+02  2e-04  2e-15  3e-08\n",
        " 9: -1.3815e+02 -1.3815e+02  5e-05  3e-15  2e-09\n",
        "Optimal solution found.\n",
        "117 support vectors out of 199 points\n",
        "cutting plane objective: 138.146397, primal objective 138.206895\n",
        "iteration 321\n",
        "OneSlackSSVM(C=0.1, break_on_bad=False, cache_tol=auto,\n",
        "       check_constraints=False, inactive_threshold=1e-05,\n",
        "       inactive_window=50, inference_cache=0, logger=None, max_iter=10000,\n",
        "       model=MultiLabelModel(n_states: 2, inference_method: ad3), n_jobs=1,\n",
        "       positive_constraint=None, show_loss_every=0, switch_to=None,\n",
        "       tol=1e-05, verbose=3)\n",
        "New violation: 0.961648 difference to last: 0.000442"
       ]
      },
      {
       "output_type": "stream",
       "stream": "stdout",
       "text": [
        "\n",
        "     pcost       dcost       gap    pres   dres"
       ]
      },
      {
       "output_type": "stream",
       "stream": "stdout",
       "text": [
        "\n",
        " 0: -1.3747e+02 -2.9489e+02  2e+02  1e-16  1e+00\n",
        " 1: -1.3769e+02 -1.4520e+02  8e+00  1e-15  7e-02\n",
        " 2: -1.3792e+02 -1.3968e+02  2e+00  1e-15  1e-02\n",
        " 3: -1.3805e+02 -1.3847e+02  4e-01  2e-15  1e-03\n",
        " 4: -1.3811e+02 -1.3820e+02  9e-02  2e-15  6e-05\n",
        " 5: -1.3814e+02 -1.3816e+02  2e-02  2e-15  1e-05\n",
        " 6: -1.3814e+02 -1.3815e+02  5e-03  2e-15  2e-06\n",
        " 7: -1.3815e+02 -1.3815e+02  9e-04  5e-15  1e-07\n",
        " 8: -1.3815e+02 -1.3815e+02  3e-04  4e-15  4e-08\n",
        " 9: -1.3815e+02 -1.3815e+02  8e-05  3e-15  2e-09\n",
        "Optimal solution found.\n",
        "131 support vectors out of 200 points\n",
        "cutting plane objective: 138.146421, primal objective 138.199931\n",
        "iteration 322\n",
        "OneSlackSSVM(C=0.1, break_on_bad=False, cache_tol=auto,\n",
        "       check_constraints=False, inactive_threshold=1e-05,\n",
        "       inactive_window=50, inference_cache=0, logger=None, max_iter=10000,\n",
        "       model=MultiLabelModel(n_states: 2, inference_method: ad3), n_jobs=1,\n",
        "       positive_constraint=None, show_loss_every=0, switch_to=None,\n",
        "       tol=1e-05, verbose=3)\n",
        "New violation: 0.961624 difference to last: 0.000414"
       ]
      },
      {
       "output_type": "stream",
       "stream": "stdout",
       "text": [
        "\n",
        "     pcost       dcost       gap    pres   dres"
       ]
      },
      {
       "output_type": "stream",
       "stream": "stdout",
       "text": [
        "\n",
        " 0: -1.3747e+02 -2.9478e+02  2e+02  2e-16  1e+00\n",
        " 1: -1.3768e+02 -1.4517e+02  7e+00  2e-15  7e-02\n",
        " 2: -1.3792e+02 -1.3966e+02  2e+00  1e-15  1e-02\n",
        " 3: -1.3805e+02 -1.3847e+02  4e-01  2e-15  1e-03\n",
        " 4: -1.3811e+02 -1.3820e+02  9e-02  2e-15  6e-05\n",
        " 5: -1.3814e+02 -1.3816e+02  2e-02  2e-15  1e-05\n",
        " 6: -1.3814e+02 -1.3815e+02  5e-03  3e-15  1e-06\n",
        " 7: -1.3815e+02 -1.3815e+02  1e-03  3e-15  2e-07\n",
        " 8: -1.3815e+02 -1.3815e+02  2e-04  4e-15  2e-08\n",
        " 9: -1.3815e+02 -1.3815e+02  3e-05  3e-15  7e-16\n",
        "Optimal solution found.\n",
        "105 support vectors out of 201 points\n",
        "cutting plane objective: 138.146494, primal objective 138.196578\n",
        "iteration 323\n",
        "OneSlackSSVM(C=0.1, break_on_bad=False, cache_tol=auto,\n",
        "       check_constraints=False, inactive_threshold=1e-05,\n",
        "       inactive_window=50, inference_cache=0, logger=None, max_iter=10000,\n",
        "       model=MultiLabelModel(n_states: 2, inference_method: ad3), n_jobs=1,\n",
        "       positive_constraint=None, show_loss_every=0, switch_to=None,\n",
        "       tol=1e-05, verbose=3)\n",
        "New violation: 0.961597 difference to last: 0.000399"
       ]
      },
      {
       "output_type": "stream",
       "stream": "stdout",
       "text": [
        "\n",
        "     pcost       dcost       gap    pres   dres"
       ]
      },
      {
       "output_type": "stream",
       "stream": "stdout",
       "text": [
        "\n",
        " 0: -1.3747e+02 -2.9433e+02  2e+02  3e-16  1e+00\n",
        " 1: -1.3768e+02 -1.4513e+02  7e+00  1e-15  7e-02\n",
        " 2: -1.3792e+02 -1.3966e+02  2e+00  2e-15  1e-02\n",
        " 3: -1.3805e+02 -1.3847e+02  4e-01  2e-15  1e-03\n",
        " 4: -1.3811e+02 -1.3820e+02  9e-02  2e-15  5e-05\n",
        " 5: -1.3814e+02 -1.3816e+02  2e-02  2e-15  9e-06\n",
        " 6: -1.3814e+02 -1.3815e+02  5e-03  2e-15  1e-06\n",
        " 7: -1.3815e+02 -1.3815e+02  8e-04  4e-15  1e-07\n",
        " 8: -1.3815e+02 -1.3815e+02  3e-04  3e-15  2e-08\n",
        " 9: -1.3815e+02 -1.3815e+02  6e-05  3e-15  4e-09\n",
        "Optimal solution found.\n",
        "127 support vectors out of 202 points\n",
        "cutting plane objective: 138.146515, primal objective 138.194783\n",
        "iteration 324\n",
        "OneSlackSSVM(C=0.1, break_on_bad=False, cache_tol=auto,\n",
        "       check_constraints=False, inactive_threshold=1e-05,\n",
        "       inactive_window=50, inference_cache=0, logger=None, max_iter=10000,\n",
        "       model=MultiLabelModel(n_states: 2, inference_method: ad3), n_jobs=1,\n",
        "       positive_constraint=None, show_loss_every=0, switch_to=None,\n",
        "       tol=1e-05, verbose=3)\n",
        "New violation: 0.961586 difference to last: 0.000393"
       ]
      },
      {
       "output_type": "stream",
       "stream": "stdout",
       "text": [
        "\n",
        "     pcost       dcost       gap    pres   dres"
       ]
      },
      {
       "output_type": "stream",
       "stream": "stdout",
       "text": [
        "\n",
        " 0: -1.3748e+02 -2.9350e+02  2e+02  7e-18  1e+00\n",
        " 1: -1.3768e+02 -1.4523e+02  8e+00  2e-15  7e-02\n",
        " 2: -1.3792e+02 -1.3967e+02  2e+00  2e-15  1e-02\n",
        " 3: -1.3805e+02 -1.3847e+02  4e-01  2e-15  9e-04\n",
        " 4: -1.3811e+02 -1.3820e+02  9e-02  2e-15  4e-05\n",
        " 5: -1.3814e+02 -1.3816e+02  2e-02  2e-15  7e-06\n",
        " 6: -1.3814e+02 -1.3815e+02  5e-03  3e-15  8e-07\n",
        " 7: -1.3815e+02 -1.3815e+02  8e-04  3e-15  9e-08\n",
        " 8: -1.3815e+02 -1.3815e+02  3e-04  4e-15  2e-08\n",
        " 9: -1.3815e+02 -1.3815e+02  5e-05  3e-15  7e-16\n",
        "Optimal solution found.\n",
        "124 support vectors out of 203 points\n",
        "cutting plane objective: 138.146555, primal objective 138.194186\n",
        "iteration 325\n",
        "OneSlackSSVM(C=0.1, break_on_bad=False, cache_tol=auto,\n",
        "       check_constraints=False, inactive_threshold=1e-05,\n",
        "       inactive_window=50, inference_cache=0, logger=None, max_iter=10000,\n",
        "       model=MultiLabelModel(n_states: 2, inference_method: ad3), n_jobs=1,\n",
        "       positive_constraint=None, show_loss_every=0, switch_to=None,\n",
        "       tol=1e-05, verbose=3)\n",
        "New violation: 0.961612 difference to last: 0.000428"
       ]
      },
      {
       "output_type": "stream",
       "stream": "stdout",
       "text": [
        "\n",
        "     pcost       dcost       gap    pres   dres"
       ]
      },
      {
       "output_type": "stream",
       "stream": "stdout",
       "text": [
        "\n",
        " 0: -1.3748e+02 -2.9374e+02  2e+02  2e-16  1e+00\n",
        " 1: -1.3768e+02 -1.4515e+02  7e+00  2e-15  7e-02\n",
        " 2: -1.3792e+02 -1.3966e+02  2e+00  1e-15  1e-02\n",
        " 3: -1.3805e+02 -1.3847e+02  4e-01  2e-15  1e-03\n",
        " 4: -1.3811e+02 -1.3820e+02  9e-02  2e-15  4e-05\n",
        " 5: -1.3814e+02 -1.3816e+02  2e-02  3e-15  7e-06\n",
        " 6: -1.3814e+02 -1.3815e+02  5e-03  3e-15  9e-07\n",
        " 7: -1.3815e+02 -1.3815e+02  8e-04  3e-15  9e-08\n",
        " 8: -1.3815e+02 -1.3815e+02  2e-04  3e-15  2e-08\n",
        " 9: -1.3815e+02 -1.3815e+02  4e-05  3e-15  7e-16\n",
        "Optimal solution found.\n",
        "115 support vectors out of 204 points\n",
        "cutting plane objective: 138.146608, primal objective 138.198384\n",
        "iteration 326\n",
        "OneSlackSSVM(C=0.1, break_on_bad=False, cache_tol=auto,\n",
        "       check_constraints=False, inactive_threshold=1e-05,\n",
        "       inactive_window=50, inference_cache=0, logger=None, max_iter=10000,\n",
        "       model=MultiLabelModel(n_states: 2, inference_method: ad3), n_jobs=1,\n",
        "       positive_constraint=None, show_loss_every=0, switch_to=None,\n",
        "       tol=1e-05, verbose=3)\n",
        "New violation: 0.961589 difference to last: 0.000399"
       ]
      },
      {
       "output_type": "stream",
       "stream": "stdout",
       "text": [
        "\n",
        "     pcost       dcost       gap    pres   dres"
       ]
      },
      {
       "output_type": "stream",
       "stream": "stdout",
       "text": [
        "\n",
        " 0: -1.3748e+02 -2.9299e+02  2e+02  4e-16  1e+00\n",
        " 1: -1.3768e+02 -1.4513e+02  7e+00  1e-15  7e-02\n",
        " 2: -1.3792e+02 -1.3966e+02  2e+00  1e-15  1e-02\n",
        " 3: -1.3805e+02 -1.3847e+02  4e-01  2e-15  1e-03\n",
        " 4: -1.3811e+02 -1.3820e+02  9e-02  2e-15  4e-05\n",
        " 5: -1.3814e+02 -1.3816e+02  2e-02  2e-15  7e-06\n",
        " 6: -1.3814e+02 -1.3815e+02  5e-03  2e-15  8e-07\n",
        " 7: -1.3815e+02 -1.3815e+02  8e-04  3e-15  7e-08\n",
        " 8: -1.3815e+02 -1.3815e+02  2e-04  4e-15  2e-08\n",
        " 9: -1.3815e+02 -1.3815e+02  7e-05  4e-15  7e-16\n",
        "Optimal solution found.\n",
        "132 support vectors out of 205 points\n",
        "cutting plane objective: 138.146630, primal objective 138.194996\n",
        "iteration 327\n",
        "OneSlackSSVM(C=0.1, break_on_bad=False, cache_tol=auto,\n",
        "       check_constraints=False, inactive_threshold=1e-05,\n",
        "       inactive_window=50, inference_cache=0, logger=None, max_iter=10000,\n",
        "       model=MultiLabelModel(n_states: 2, inference_method: ad3), n_jobs=1,\n",
        "       positive_constraint=None, show_loss_every=0, switch_to=None,\n",
        "       tol=1e-05, verbose=3)\n",
        "New violation: 0.961536 difference to last: 0.000339"
       ]
      },
      {
       "output_type": "stream",
       "stream": "stdout",
       "text": [
        "\n",
        "     pcost       dcost       gap    pres   dres"
       ]
      },
      {
       "output_type": "stream",
       "stream": "stdout",
       "text": [
        "\n",
        " 0: -1.3748e+02 -2.9375e+02  2e+02  2e-16  1e+00\n",
        " 1: -1.3768e+02 -1.4522e+02  8e+00  2e-15  7e-02\n",
        " 2: -1.3792e+02 -1.3969e+02  2e+00  1e-15  1e-02\n",
        " 3: -1.3805e+02 -1.3847e+02  4e-01  2e-15  9e-04\n",
        " 4: -1.3811e+02 -1.3820e+02  9e-02  2e-15  3e-05\n",
        " 5: -1.3814e+02 -1.3816e+02  2e-02  3e-15  6e-06\n",
        " 6: -1.3814e+02 -1.3815e+02  5e-03  3e-15  6e-07\n",
        " 7: -1.3815e+02 -1.3815e+02  8e-04  3e-15  6e-08\n",
        " 8: -1.3815e+02 -1.3815e+02  2e-04  4e-15  1e-08\n",
        " 9: -1.3815e+02 -1.3815e+02  4e-05  3e-15  7e-16\n",
        "Optimal solution found.\n",
        "119 support vectors out of 206 points\n",
        "cutting plane objective: 138.146677, primal objective 138.187734\n",
        "iteration 328\n",
        "OneSlackSSVM(C=0.1, break_on_bad=False, cache_tol=auto,\n",
        "       check_constraints=False, inactive_threshold=1e-05,\n",
        "       inactive_window=50, inference_cache=0, logger=None, max_iter=10000,\n",
        "       model=MultiLabelModel(n_states: 2, inference_method: ad3), n_jobs=1,\n",
        "       positive_constraint=None, show_loss_every=0, switch_to=None,\n",
        "       tol=1e-05, verbose=3)\n",
        "New violation: 0.961558 difference to last: 0.000356"
       ]
      },
      {
       "output_type": "stream",
       "stream": "stdout",
       "text": [
        "\n",
        "     pcost       dcost       gap    pres   dres"
       ]
      },
      {
       "output_type": "stream",
       "stream": "stdout",
       "text": [
        "\n",
        " 0: -1.3748e+02 -2.9325e+02  2e+02  3e-16  1e+00\n",
        " 1: -1.3769e+02 -1.4521e+02  8e+00  2e-15  7e-02\n",
        " 2: -1.3792e+02 -1.3966e+02  2e+00  2e-15  1e-02\n",
        " 3: -1.3805e+02 -1.3847e+02  4e-01  2e-15  1e-03\n",
        " 4: -1.3811e+02 -1.3820e+02  9e-02  2e-15  3e-05\n",
        " 5: -1.3814e+02 -1.3816e+02  2e-02  2e-15  5e-06\n",
        " 6: -1.3814e+02 -1.3815e+02  4e-03  3e-15  5e-07\n",
        " 7: -1.3815e+02 -1.3815e+02  7e-04  4e-15  3e-08\n",
        " 8: -1.3815e+02 -1.3815e+02  1e-04  3e-15  4e-09\n",
        "Optimal solution found.\n",
        "141 support vectors out of 207 points\n",
        "cutting plane objective: 138.146663, primal objective 138.189870\n",
        "iteration 329\n",
        "OneSlackSSVM(C=0.1, break_on_bad=False, cache_tol=auto,\n",
        "       check_constraints=False, inactive_threshold=1e-05,\n",
        "       inactive_window=50, inference_cache=0, logger=None, max_iter=10000,\n",
        "       model=MultiLabelModel(n_states: 2, inference_method: ad3), n_jobs=1,\n",
        "       positive_constraint=None, show_loss_every=0, switch_to=None,\n",
        "       tol=1e-05, verbose=3)\n",
        "New violation: 0.961552 difference to last: 0.000350"
       ]
      },
      {
       "output_type": "stream",
       "stream": "stdout",
       "text": [
        "\n",
        "     pcost       dcost       gap    pres   dres"
       ]
      },
      {
       "output_type": "stream",
       "stream": "stdout",
       "text": [
        "\n",
        " 0: -1.3750e+02 -2.9291e+02  2e+02  6e-16  1e+00\n",
        " 1: -1.3770e+02 -1.4514e+02  7e+00  2e-15  7e-02\n",
        " 2: -1.3793e+02 -1.3965e+02  2e+00  2e-15  1e-02\n",
        " 3: -1.3805e+02 -1.3847e+02  4e-01  2e-15  1e-03\n",
        " 4: -1.3811e+02 -1.3820e+02  9e-02  2e-15  5e-05\n",
        " 5: -1.3814e+02 -1.3816e+02  3e-02  3e-15  1e-05\n",
        " 6: -1.3814e+02 -1.3815e+02  4e-03  3e-15  5e-07\n",
        " 7: -1.3815e+02 -1.3815e+02  8e-04  3e-15  4e-08\n",
        " 8: -1.3815e+02 -1.3815e+02  2e-04  3e-15  9e-09\n",
        " 9: -1.3815e+02 -1.3815e+02  4e-05  3e-15  6e-16\n",
        "Optimal solution found.\n",
        "119 support vectors out of 208 points\n",
        "cutting plane objective: 138.146742, primal objective 138.189155\n",
        "iteration 330\n",
        "OneSlackSSVM(C=0.1, break_on_bad=False, cache_tol=auto,\n",
        "       check_constraints=False, inactive_threshold=1e-05,\n",
        "       inactive_window=50, inference_cache=0, logger=None, max_iter=10000,\n",
        "       model=MultiLabelModel(n_states: 2, inference_method: ad3), n_jobs=1,\n",
        "       positive_constraint=None, show_loss_every=0, switch_to=None,\n",
        "       tol=1e-05, verbose=3)\n",
        "New violation: 0.961551 difference to last: 0.000348"
       ]
      },
      {
       "output_type": "stream",
       "stream": "stdout",
       "text": [
        "\n",
        "     pcost       dcost       gap    pres   dres"
       ]
      },
      {
       "output_type": "stream",
       "stream": "stdout",
       "text": [
        "\n",
        " 0: -1.3751e+02 -2.9200e+02  2e+02  3e-16  1e+00\n",
        " 1: -1.3770e+02 -1.4498e+02  7e+00  2e-15  7e-02\n",
        " 2: -1.3793e+02 -1.3960e+02  2e+00  1e-15  1e-02\n",
        " 3: -1.3805e+02 -1.3847e+02  4e-01  2e-15  1e-03\n",
        " 4: -1.3811e+02 -1.3821e+02  9e-02  2e-15  5e-05\n",
        " 5: -1.3814e+02 -1.3816e+02  3e-02  3e-15  1e-05\n",
        " 6: -1.3814e+02 -1.3815e+02  4e-03  3e-15  5e-07\n",
        " 7: -1.3815e+02 -1.3815e+02  7e-04  3e-15  3e-08\n",
        " 8: -1.3815e+02 -1.3815e+02  2e-04  3e-15  5e-09\n",
        " 9: -1.3815e+02 -1.3815e+02  1e-05  3e-15  7e-16\n",
        "Optimal solution found.\n",
        "104 support vectors out of 209 points\n",
        "cutting plane objective: 138.146792, primal objective 138.188917\n",
        "iteration 331\n",
        "OneSlackSSVM(C=0.1, break_on_bad=False, cache_tol=auto,\n",
        "       check_constraints=False, inactive_threshold=1e-05,\n",
        "       inactive_window=50, inference_cache=0, logger=None, max_iter=10000,\n",
        "       model=MultiLabelModel(n_states: 2, inference_method: ad3), n_jobs=1,\n",
        "       positive_constraint=None, show_loss_every=0, switch_to=None,\n",
        "       tol=1e-05, verbose=3)\n",
        "New violation: 0.961609 difference to last: 0.000376"
       ]
      },
      {
       "output_type": "stream",
       "stream": "stdout",
       "text": [
        "\n",
        "     pcost       dcost       gap    pres   dres"
       ]
      },
      {
       "output_type": "stream",
       "stream": "stdout",
       "text": [
        "\n",
        " 0: -1.3751e+02 -2.9169e+02  2e+02  3e-16  1e+00\n",
        " 1: -1.3770e+02 -1.4506e+02  7e+00  2e-15  7e-02\n",
        " 2: -1.3793e+02 -1.3967e+02  2e+00  1e-15  1e-02\n",
        " 3: -1.3805e+02 -1.3847e+02  4e-01  2e-15  9e-04\n",
        " 4: -1.3811e+02 -1.3821e+02  9e-02  2e-15  4e-05\n",
        " 5: -1.3814e+02 -1.3816e+02  3e-02  2e-15  8e-06\n",
        " 6: -1.3814e+02 -1.3815e+02  4e-03  3e-15  4e-07\n",
        " 7: -1.3815e+02 -1.3815e+02  8e-04  3e-15  3e-08\n",
        " 8: -1.3815e+02 -1.3815e+02  2e-04  4e-15  6e-09\n",
        " 9: -1.3815e+02 -1.3815e+02  4e-05  3e-15  7e-16\n",
        "Optimal solution found.\n",
        "122 support vectors out of 210 points\n",
        "cutting plane objective: 138.146800, primal objective 138.192360\n",
        "iteration 332\n",
        "OneSlackSSVM(C=0.1, break_on_bad=False, cache_tol=auto,\n",
        "       check_constraints=False, inactive_threshold=1e-05,\n",
        "       inactive_window=50, inference_cache=0, logger=None, max_iter=10000,\n",
        "       model=MultiLabelModel(n_states: 2, inference_method: ad3), n_jobs=1,\n",
        "       positive_constraint=None, show_loss_every=0, switch_to=None,\n",
        "       tol=1e-05, verbose=3)\n",
        "New violation: 0.961577 difference to last: 0.000337"
       ]
      },
      {
       "output_type": "stream",
       "stream": "stdout",
       "text": [
        "\n",
        "     pcost       dcost       gap    pres   dres"
       ]
      },
      {
       "output_type": "stream",
       "stream": "stdout",
       "text": [
        "\n",
        " 0: -1.3751e+02 -2.9220e+02  2e+02  2e-16  1e+00\n",
        " 1: -1.3771e+02 -1.4510e+02  7e+00  2e-15  7e-02\n",
        " 2: -1.3793e+02 -1.3961e+02  2e+00  1e-15  1e-02\n",
        " 3: -1.3805e+02 -1.3847e+02  4e-01  2e-15  1e-03\n",
        " 4: -1.3812e+02 -1.3821e+02  9e-02  2e-15  4e-05\n",
        " 5: -1.3814e+02 -1.3816e+02  3e-02  3e-15  8e-06\n",
        " 6: -1.3814e+02 -1.3815e+02  4e-03  2e-15  4e-07\n",
        " 7: -1.3815e+02 -1.3815e+02  7e-04  3e-15  2e-08\n",
        " 8: -1.3815e+02 -1.3815e+02  2e-04  3e-15  5e-09\n",
        " 9: -1.3815e+02 -1.3815e+02  2e-05  3e-15  7e-16\n",
        "Optimal solution found.\n",
        "114 support vectors out of 211 points\n",
        "cutting plane objective: 138.146843, primal objective 138.187673\n",
        "iteration 333\n",
        "OneSlackSSVM(C=0.1, break_on_bad=False, cache_tol=auto,\n",
        "       check_constraints=False, inactive_threshold=1e-05,\n",
        "       inactive_window=50, inference_cache=0, logger=None, max_iter=10000,\n",
        "       model=MultiLabelModel(n_states: 2, inference_method: ad3), n_jobs=1,\n",
        "       positive_constraint=None, show_loss_every=0, switch_to=None,\n",
        "       tol=1e-05, verbose=3)\n",
        "New violation: 0.961567 difference to last: 0.000324"
       ]
      },
      {
       "output_type": "stream",
       "stream": "stdout",
       "text": [
        "\n",
        "     pcost       dcost       gap    pres   dres"
       ]
      },
      {
       "output_type": "stream",
       "stream": "stdout",
       "text": [
        "\n",
        " 0: -1.3751e+02 -2.9298e+02  2e+02  9e-16  1e+00\n",
        " 1: -1.3771e+02 -1.4513e+02  7e+00  2e-15  7e-02\n",
        " 2: -1.3793e+02 -1.3963e+02  2e+00  1e-15  1e-02\n",
        " 3: -1.3805e+02 -1.3847e+02  4e-01  2e-15  9e-04\n",
        " 4: -1.3812e+02 -1.3821e+02  9e-02  2e-15  3e-05\n",
        " 5: -1.3814e+02 -1.3816e+02  3e-02  2e-15  7e-06\n",
        " 6: -1.3814e+02 -1.3815e+02  4e-03  3e-15  3e-07\n",
        " 7: -1.3815e+02 -1.3815e+02  7e-04  3e-15  2e-08\n",
        " 8: -1.3815e+02 -1.3815e+02  1e-04  3e-15  3e-09\n",
        " 9: -1.3815e+02 -1.3815e+02  2e-05  2e-15  7e-16\n",
        "Optimal solution found.\n",
        "111 support vectors out of 212 points\n",
        "cutting plane objective: 138.146873, primal objective 138.186104\n",
        "iteration 334\n",
        "OneSlackSSVM(C=0.1, break_on_bad=False, cache_tol=auto,\n",
        "       check_constraints=False, inactive_threshold=1e-05,\n",
        "       inactive_window=50, inference_cache=0, logger=None, max_iter=10000,\n",
        "       model=MultiLabelModel(n_states: 2, inference_method: ad3), n_jobs=1,\n",
        "       positive_constraint=None, show_loss_every=0, switch_to=None,\n",
        "       tol=1e-05, verbose=3)\n",
        "New violation: 0.961535 difference to last: 0.000294"
       ]
      },
      {
       "output_type": "stream",
       "stream": "stdout",
       "text": [
        "\n",
        "     pcost       dcost       gap    pres   dres"
       ]
      },
      {
       "output_type": "stream",
       "stream": "stdout",
       "text": [
        "\n",
        " 0: -1.3751e+02 -2.9292e+02  2e+02  5e-16  1e+00\n",
        " 1: -1.3771e+02 -1.4508e+02  7e+00  2e-15  7e-02\n",
        " 2: -1.3793e+02 -1.3962e+02  2e+00  1e-15  1e-02\n",
        " 3: -1.3805e+02 -1.3847e+02  4e-01  2e-15  1e-03\n",
        " 4: -1.3812e+02 -1.3821e+02  9e-02  2e-15  4e-05\n",
        " 5: -1.3814e+02 -1.3816e+02  3e-02  2e-15  8e-06\n",
        " 6: -1.3814e+02 -1.3815e+02  4e-03  2e-15  3e-07\n",
        " 7: -1.3815e+02 -1.3815e+02  7e-04  3e-15  2e-08\n",
        " 8: -1.3815e+02 -1.3815e+02  2e-04  3e-15  4e-09\n",
        " 9: -1.3815e+02 -1.3815e+02  2e-05  3e-15  2e-10\n",
        "Optimal solution found.\n",
        "110 support vectors out of 213 points\n",
        "cutting plane objective: 138.146901, primal objective 138.182456\n",
        "iteration 335\n",
        "OneSlackSSVM(C=0.1, break_on_bad=False, cache_tol=auto,\n",
        "       check_constraints=False, inactive_threshold=1e-05,\n",
        "       inactive_window=50, inference_cache=0, logger=None, max_iter=10000,\n",
        "       model=MultiLabelModel(n_states: 2, inference_method: ad3), n_jobs=1,\n",
        "       positive_constraint=None, show_loss_every=0, switch_to=None,\n",
        "       tol=1e-05, verbose=3)\n",
        "New violation: 0.961537 difference to last: 0.000292"
       ]
      },
      {
       "output_type": "stream",
       "stream": "stdout",
       "text": [
        "\n",
        "     pcost       dcost       gap    pres   dres"
       ]
      },
      {
       "output_type": "stream",
       "stream": "stdout",
       "text": [
        "\n",
        " 0: -1.3752e+02 -2.9350e+02  2e+02  2e-16  1e+00\n",
        " 1: -1.3771e+02 -1.4512e+02  7e+00  2e-15  7e-02\n",
        " 2: -1.3794e+02 -1.3956e+02  2e+00  2e-15  1e-02\n",
        " 3: -1.3806e+02 -1.3847e+02  4e-01  2e-15  8e-04\n",
        " 4: -1.3812e+02 -1.3821e+02  9e-02  2e-15  4e-05\n",
        " 5: -1.3814e+02 -1.3816e+02  2e-02  2e-15  7e-06\n",
        " 6: -1.3814e+02 -1.3815e+02  4e-03  3e-15  4e-07\n",
        " 7: -1.3815e+02 -1.3815e+02  7e-04  2e-15  3e-08\n",
        " 8: -1.3815e+02 -1.3815e+02  2e-04  2e-15  6e-09\n",
        " 9: -1.3815e+02 -1.3815e+02  3e-05  2e-15  5e-10\n",
        "Optimal solution found.\n",
        "116 support vectors out of 214 points\n",
        "cutting plane objective: 138.146921, primal objective 138.182290"
       ]
      },
      {
       "output_type": "stream",
       "stream": "stdout",
       "text": [
        "\n",
        "iteration 336\n",
        "OneSlackSSVM(C=0.1, break_on_bad=False, cache_tol=auto,\n",
        "       check_constraints=False, inactive_threshold=1e-05,\n",
        "       inactive_window=50, inference_cache=0, logger=None, max_iter=10000,\n",
        "       model=MultiLabelModel(n_states: 2, inference_method: ad3), n_jobs=1,\n",
        "       positive_constraint=None, show_loss_every=0, switch_to=None,\n",
        "       tol=1e-05, verbose=3)\n",
        "New violation: 0.961537 difference to last: 0.000293"
       ]
      },
      {
       "output_type": "stream",
       "stream": "stdout",
       "text": [
        "\n",
        "     pcost       dcost       gap    pres   dres"
       ]
      },
      {
       "output_type": "stream",
       "stream": "stdout",
       "text": [
        "\n",
        " 0: -1.3753e+02 -2.9229e+02  2e+02  2e-16  1e+00\n",
        " 1: -1.3772e+02 -1.4490e+02  7e+00  2e-15  6e-02\n",
        " 2: -1.3794e+02 -1.3954e+02  2e+00  1e-15  1e-02\n",
        " 3: -1.3806e+02 -1.3847e+02  4e-01  2e-15  8e-04\n",
        " 4: -1.3812e+02 -1.3821e+02  9e-02  2e-15  3e-05\n",
        " 5: -1.3814e+02 -1.3816e+02  2e-02  3e-15  6e-06\n",
        " 6: -1.3814e+02 -1.3815e+02  4e-03  2e-15  5e-07\n",
        " 7: -1.3815e+02 -1.3815e+02  7e-04  3e-15  5e-08\n",
        " 8: -1.3815e+02 -1.3815e+02  2e-04  3e-15  1e-08\n",
        " 9: -1.3815e+02 -1.3815e+02  4e-05  3e-15  2e-10\n",
        "Optimal solution found.\n",
        "127 support vectors out of 215 points\n",
        "cutting plane objective: 138.146932, primal objective 138.182374\n",
        "iteration 337\n",
        "OneSlackSSVM(C=0.1, break_on_bad=False, cache_tol=auto,\n",
        "       check_constraints=False, inactive_threshold=1e-05,\n",
        "       inactive_window=50, inference_cache=0, logger=None, max_iter=10000,\n",
        "       model=MultiLabelModel(n_states: 2, inference_method: ad3), n_jobs=1,\n",
        "       positive_constraint=None, show_loss_every=0, switch_to=None,\n",
        "       tol=1e-05, verbose=3)\n",
        "New violation: 0.961543 difference to last: 0.000297"
       ]
      },
      {
       "output_type": "stream",
       "stream": "stdout",
       "text": [
        "\n",
        "     pcost       dcost       gap    pres   dres"
       ]
      },
      {
       "output_type": "stream",
       "stream": "stdout",
       "text": [
        "\n",
        " 0: -1.3753e+02 -2.9274e+02  2e+02  6e-16  1e+00\n",
        " 1: -1.3772e+02 -1.4494e+02  7e+00  1e-15  6e-02\n",
        " 2: -1.3794e+02 -1.3952e+02  2e+00  2e-15  9e-03\n",
        " 3: -1.3806e+02 -1.3847e+02  4e-01  2e-15  8e-04\n",
        " 4: -1.3812e+02 -1.3821e+02  9e-02  3e-15  4e-05\n",
        " 5: -1.3814e+02 -1.3816e+02  2e-02  2e-15  6e-06\n",
        " 6: -1.3814e+02 -1.3815e+02  4e-03  3e-15  6e-07\n",
        " 7: -1.3815e+02 -1.3815e+02  7e-04  3e-15  5e-08\n",
        " 8: -1.3815e+02 -1.3815e+02  2e-04  3e-15  1e-08\n",
        " 9: -1.3815e+02 -1.3815e+02  2e-05  2e-15  6e-10\n",
        "Optimal solution found.\n",
        "115 support vectors out of 216 points\n",
        "cutting plane objective: 138.146969, primal objective 138.182928"
       ]
      },
      {
       "output_type": "stream",
       "stream": "stdout",
       "text": [
        "\n",
        "iteration 338\n",
        "OneSlackSSVM(C=0.1, break_on_bad=False, cache_tol=auto,\n",
        "       check_constraints=False, inactive_threshold=1e-05,\n",
        "       inactive_window=50, inference_cache=0, logger=None, max_iter=10000,\n",
        "       model=MultiLabelModel(n_states: 2, inference_method: ad3), n_jobs=1,\n",
        "       positive_constraint=None, show_loss_every=0, switch_to=None,\n",
        "       tol=1e-05, verbose=3)\n",
        "New violation: 0.961519 difference to last: 0.000274"
       ]
      },
      {
       "output_type": "stream",
       "stream": "stdout",
       "text": [
        "\n",
        "     pcost       dcost       gap    pres   dres"
       ]
      },
      {
       "output_type": "stream",
       "stream": "stdout",
       "text": [
        "\n",
        " 0: -1.3753e+02 -2.9251e+02  2e+02  2e-16  1e+00\n",
        " 1: -1.3772e+02 -1.4497e+02  7e+00  1e-15  6e-02\n",
        " 2: -1.3794e+02 -1.3954e+02  2e+00  1e-15  9e-03\n",
        " 3: -1.3806e+02 -1.3847e+02  4e-01  2e-15  8e-04\n",
        " 4: -1.3812e+02 -1.3821e+02  9e-02  2e-15  3e-05\n",
        " 5: -1.3814e+02 -1.3816e+02  2e-02  3e-15  6e-06\n",
        " 6: -1.3814e+02 -1.3815e+02  4e-03  2e-15  4e-07\n",
        " 7: -1.3815e+02 -1.3815e+02  7e-04  3e-15  4e-08\n",
        " 8: -1.3815e+02 -1.3815e+02  1e-04  3e-15  7e-09\n",
        "Optimal solution found.\n",
        "151 support vectors out of 217 points\n",
        "cutting plane objective: 138.146930, primal objective 138.180186\n",
        "iteration 339\n",
        "OneSlackSSVM(C=0.1, break_on_bad=False, cache_tol=auto,\n",
        "       check_constraints=False, inactive_threshold=1e-05,\n",
        "       inactive_window=50, inference_cache=0, logger=None, max_iter=10000,\n",
        "       model=MultiLabelModel(n_states: 2, inference_method: ad3), n_jobs=1,\n",
        "       positive_constraint=None, show_loss_every=0, switch_to=None,\n",
        "       tol=1e-05, verbose=3)\n",
        "New violation: 0.961531 difference to last: 0.000279"
       ]
      },
      {
       "output_type": "stream",
       "stream": "stdout",
       "text": [
        "\n",
        "     pcost       dcost       gap    pres   dres"
       ]
      },
      {
       "output_type": "stream",
       "stream": "stdout",
       "text": [
        "\n",
        " 0: -1.3754e+02 -2.9203e+02  2e+02  2e-16  1e+00\n",
        " 1: -1.3773e+02 -1.4503e+02  7e+00  1e-15  6e-02\n",
        " 2: -1.3795e+02 -1.3951e+02  2e+00  2e-15  9e-03\n",
        " 3: -1.3806e+02 -1.3848e+02  4e-01  2e-15  7e-04\n",
        " 4: -1.3812e+02 -1.3820e+02  8e-02  2e-15  2e-05\n",
        " 5: -1.3814e+02 -1.3816e+02  2e-02  3e-15  4e-06\n",
        " 6: -1.3814e+02 -1.3815e+02  4e-03  2e-15  4e-07\n",
        " 7: -1.3815e+02 -1.3815e+02  8e-04  3e-15  4e-08\n",
        " 8: -1.3815e+02 -1.3815e+02  2e-04  3e-15  8e-09\n",
        " 9: -1.3815e+02 -1.3815e+02  4e-05  3e-15  5e-10\n",
        "Optimal solution found.\n",
        "127 support vectors out of 218 points"
       ]
      },
      {
       "output_type": "stream",
       "stream": "stdout",
       "text": [
        "\n",
        "cutting plane objective: 138.147002, primal objective 138.180781\n",
        "iteration 340\n",
        "OneSlackSSVM(C=0.1, break_on_bad=False, cache_tol=auto,\n",
        "       check_constraints=False, inactive_threshold=1e-05,\n",
        "       inactive_window=50, inference_cache=0, logger=None, max_iter=10000,\n",
        "       model=MultiLabelModel(n_states: 2, inference_method: ad3), n_jobs=1,\n",
        "       positive_constraint=None, show_loss_every=0, switch_to=None,\n",
        "       tol=1e-05, verbose=3)\n",
        "New violation: 0.961549 difference to last: 0.000298"
       ]
      },
      {
       "output_type": "stream",
       "stream": "stdout",
       "text": [
        "\n",
        "     pcost       dcost       gap    pres   dres"
       ]
      },
      {
       "output_type": "stream",
       "stream": "stdout",
       "text": [
        "\n",
        " 0: -1.3754e+02 -2.9271e+02  2e+02  6e-16  1e+00\n",
        " 1: -1.3772e+02 -1.4515e+02  7e+00  1e-15  7e-02\n",
        " 2: -1.3795e+02 -1.3955e+02  2e+00  1e-15  9e-03\n",
        " 3: -1.3806e+02 -1.3848e+02  4e-01  2e-15  8e-04\n",
        " 4: -1.3812e+02 -1.3820e+02  8e-02  2e-15  2e-05\n",
        " 5: -1.3814e+02 -1.3816e+02  2e-02  2e-15  2e-06\n",
        " 6: -1.3814e+02 -1.3815e+02  4e-03  2e-15  3e-07\n",
        " 7: -1.3815e+02 -1.3815e+02  8e-04  3e-15  3e-08\n",
        " 8: -1.3815e+02 -1.3815e+02  2e-04  3e-15  5e-09\n",
        " 9: -1.3815e+02 -1.3815e+02  2e-05  3e-15  8e-16\n",
        "Optimal solution found.\n",
        "118 support vectors out of 219 points\n",
        "cutting plane objective: 138.147034, primal objective 138.183112\n",
        "iteration 341\n",
        "OneSlackSSVM(C=0.1, break_on_bad=False, cache_tol=auto,\n",
        "       check_constraints=False, inactive_threshold=1e-05,\n",
        "       inactive_window=50, inference_cache=0, logger=None, max_iter=10000,\n",
        "       model=MultiLabelModel(n_states: 2, inference_method: ad3), n_jobs=1,\n",
        "       positive_constraint=None, show_loss_every=0, switch_to=None,\n",
        "       tol=1e-05, verbose=3)\n",
        "New violation: 0.961536 difference to last: 0.000277"
       ]
      },
      {
       "output_type": "stream",
       "stream": "stdout",
       "text": [
        "\n",
        "     pcost       dcost       gap    pres   dres"
       ]
      },
      {
       "output_type": "stream",
       "stream": "stdout",
       "text": [
        "\n",
        " 0: -1.3755e+02 -2.9220e+02  2e+02  8e-16  1e+00\n",
        " 1: -1.3773e+02 -1.4484e+02  7e+00  1e-15  6e-02\n",
        " 2: -1.3795e+02 -1.3945e+02  2e+00  2e-15  8e-03\n",
        " 3: -1.3806e+02 -1.3847e+02  4e-01  2e-15  6e-04\n",
        " 4: -1.3812e+02 -1.3820e+02  8e-02  2e-15  2e-05\n",
        " 5: -1.3814e+02 -1.3816e+02  2e-02  2e-15  3e-06\n",
        " 6: -1.3814e+02 -1.3815e+02  4e-03  3e-15  3e-07\n",
        " 7: -1.3815e+02 -1.3815e+02  8e-04  3e-15  3e-08\n",
        " 8: -1.3815e+02 -1.3815e+02  1e-04  3e-15  5e-09\n",
        " 9: -1.3815e+02 -1.3815e+02  2e-05  2e-15  7e-16\n",
        "Optimal solution found.\n",
        "124 support vectors out of 220 points\n",
        "cutting plane objective: 138.147056, primal objective 138.180624\n",
        "iteration 342\n",
        "OneSlackSSVM(C=0.1, break_on_bad=False, cache_tol=auto,\n",
        "       check_constraints=False, inactive_threshold=1e-05,\n",
        "       inactive_window=50, inference_cache=0, logger=None, max_iter=10000,\n",
        "       model=MultiLabelModel(n_states: 2, inference_method: ad3), n_jobs=1,\n",
        "       positive_constraint=None, show_loss_every=0, switch_to=None,\n",
        "       tol=1e-05, verbose=3)\n",
        "New violation: 0.961515 difference to last: 0.000261"
       ]
      },
      {
       "output_type": "stream",
       "stream": "stdout",
       "text": [
        "\n",
        "     pcost       dcost       gap    pres   dres"
       ]
      },
      {
       "output_type": "stream",
       "stream": "stdout",
       "text": [
        "\n",
        " 0: -1.3754e+02 -2.9255e+02  2e+02  2e-17  1e+00\n",
        " 1: -1.3773e+02 -1.4498e+02  7e+00  1e-15  6e-02\n",
        " 2: -1.3795e+02 -1.3950e+02  2e+00  1e-15  8e-03\n",
        " 3: -1.3806e+02 -1.3848e+02  4e-01  2e-15  7e-04\n",
        " 4: -1.3812e+02 -1.3820e+02  8e-02  3e-15  2e-05\n",
        " 5: -1.3814e+02 -1.3816e+02  2e-02  2e-15  3e-06\n",
        " 6: -1.3815e+02 -1.3815e+02  4e-03  2e-15  3e-07\n",
        " 7: -1.3815e+02 -1.3815e+02  7e-04  3e-15  2e-08\n",
        " 8: -1.3815e+02 -1.3815e+02  2e-04  3e-15  4e-09\n",
        " 9: -1.3815e+02 -1.3815e+02  3e-05  3e-15  8e-16\n",
        "Optimal solution found.\n",
        "127 support vectors out of 221 points\n",
        "cutting plane objective: 138.147078, primal objective 138.178667\n",
        "iteration 343\n",
        "OneSlackSSVM(C=0.1, break_on_bad=False, cache_tol=auto,\n",
        "       check_constraints=False, inactive_threshold=1e-05,\n",
        "       inactive_window=50, inference_cache=0, logger=None, max_iter=10000,\n",
        "       model=MultiLabelModel(n_states: 2, inference_method: ad3), n_jobs=1,\n",
        "       positive_constraint=None, show_loss_every=0, switch_to=None,\n",
        "       tol=1e-05, verbose=3)"
       ]
      },
      {
       "output_type": "stream",
       "stream": "stdout",
       "text": [
        "\n",
        "New violation: 0.961554 difference to last: 0.000304"
       ]
      },
      {
       "output_type": "stream",
       "stream": "stdout",
       "text": [
        "\n",
        "     pcost       dcost       gap    pres   dres"
       ]
      },
      {
       "output_type": "stream",
       "stream": "stdout",
       "text": [
        "\n",
        " 0: -1.3754e+02 -2.9262e+02  2e+02  5e-16  1e+00\n",
        " 1: -1.3772e+02 -1.4499e+02  7e+00  2e-15  6e-02\n",
        " 2: -1.3795e+02 -1.3950e+02  2e+00  1e-15  8e-03\n",
        " 3: -1.3806e+02 -1.3848e+02  4e-01  2e-15  6e-04\n",
        " 4: -1.3812e+02 -1.3820e+02  8e-02  2e-15  2e-05\n",
        " 5: -1.3814e+02 -1.3816e+02  2e-02  3e-15  3e-06\n",
        " 6: -1.3815e+02 -1.3815e+02  3e-03  3e-15  2e-07\n",
        " 7: -1.3815e+02 -1.3815e+02  5e-04  3e-15  7e-09\n",
        " 8: -1.3815e+02 -1.3815e+02  1e-04  3e-15  1e-09\n",
        "Optimal solution found.\n",
        "152 support vectors out of 222 points\n",
        "cutting plane objective: 138.147056, primal objective 138.183881\n",
        "iteration 344\n",
        "OneSlackSSVM(C=0.1, break_on_bad=False, cache_tol=auto,\n",
        "       check_constraints=False, inactive_threshold=1e-05,\n",
        "       inactive_window=50, inference_cache=0, logger=None, max_iter=10000,\n",
        "       model=MultiLabelModel(n_states: 2, inference_method: ad3), n_jobs=1,\n",
        "       positive_constraint=None, show_loss_every=0, switch_to=None,\n",
        "       tol=1e-05, verbose=3)\n",
        "New violation: 0.961520 difference to last: 0.000281"
       ]
      },
      {
       "output_type": "stream",
       "stream": "stdout",
       "text": [
        "\n",
        "     pcost       dcost       gap    pres   dres"
       ]
      },
      {
       "output_type": "stream",
       "stream": "stdout",
       "text": [
        "\n",
        " 0: -1.3755e+02 -2.9234e+02  2e+02  3e-16  1e+00\n",
        " 1: -1.3773e+02 -1.4488e+02  7e+00  1e-15  6e-02\n",
        " 2: -1.3795e+02 -1.3944e+02  1e+00  1e-15  7e-03\n",
        " 3: -1.3807e+02 -1.3848e+02  4e-01  2e-15  5e-04\n",
        " 4: -1.3812e+02 -1.3820e+02  8e-02  2e-15  2e-05\n",
        " 5: -1.3814e+02 -1.3816e+02  2e-02  2e-15  3e-06\n",
        " 6: -1.3815e+02 -1.3815e+02  4e-03  3e-15  3e-07\n",
        " 7: -1.3815e+02 -1.3815e+02  1e-03  3e-15  5e-08\n",
        " 8: -1.3815e+02 -1.3815e+02  2e-04  2e-15  1e-08\n",
        " 9: -1.3815e+02 -1.3815e+02  7e-05  3e-15  2e-09\n",
        "Optimal solution found.\n",
        "151 support vectors out of 223 points\n",
        "cutting plane objective: 138.147094, primal objective 138.181163"
       ]
      },
      {
       "output_type": "stream",
       "stream": "stdout",
       "text": [
        "\n",
        "iteration 345\n",
        "OneSlackSSVM(C=0.1, break_on_bad=False, cache_tol=auto,\n",
        "       check_constraints=False, inactive_threshold=1e-05,\n",
        "       inactive_window=50, inference_cache=0, logger=None, max_iter=10000,\n",
        "       model=MultiLabelModel(n_states: 2, inference_method: ad3), n_jobs=1,\n",
        "       positive_constraint=None, show_loss_every=0, switch_to=None,\n",
        "       tol=1e-05, verbose=3)\n",
        "New violation: 0.961501 difference to last: 0.000254"
       ]
      },
      {
       "output_type": "stream",
       "stream": "stdout",
       "text": [
        "\n",
        "     pcost       dcost       gap    pres   dres"
       ]
      },
      {
       "output_type": "stream",
       "stream": "stdout",
       "text": [
        "\n",
        " 0: -1.3755e+02 -2.9243e+02  2e+02  2e-16  1e+00\n",
        " 1: -1.3773e+02 -1.4488e+02  7e+00  1e-15  6e-02\n",
        " 2: -1.3795e+02 -1.3945e+02  1e+00  1e-15  7e-03\n",
        " 3: -1.3807e+02 -1.3848e+02  4e-01  2e-15  5e-04\n",
        " 4: -1.3812e+02 -1.3820e+02  8e-02  2e-15  2e-05\n",
        " 5: -1.3814e+02 -1.3816e+02  2e-02  2e-15  3e-06\n",
        " 6: -1.3815e+02 -1.3815e+02  4e-03  3e-15  3e-07\n",
        " 7: -1.3815e+02 -1.3815e+02  1e-03  3e-15  6e-08\n",
        " 8: -1.3815e+02 -1.3815e+02  3e-04  3e-15  1e-08\n",
        " 9: -1.3815e+02 -1.3815e+02  7e-05  3e-15  1e-09\n",
        "Optimal solution found.\n",
        "151 support vectors out of 224 points"
       ]
      },
      {
       "output_type": "stream",
       "stream": "stdout",
       "text": [
        "\n",
        "cutting plane objective: 138.147111, primal objective 138.177962\n",
        "iteration 346\n",
        "OneSlackSSVM(C=0.1, break_on_bad=False, cache_tol=auto,\n",
        "       check_constraints=False, inactive_threshold=1e-05,\n",
        "       inactive_window=50, inference_cache=0, logger=None, max_iter=10000,\n",
        "       model=MultiLabelModel(n_states: 2, inference_method: ad3), n_jobs=1,\n",
        "       positive_constraint=None, show_loss_every=0, switch_to=None,\n",
        "       tol=1e-05, verbose=3)\n",
        "New violation: 0.961470 difference to last: 0.000229"
       ]
      },
      {
       "output_type": "stream",
       "stream": "stdout",
       "text": [
        "\n",
        "     pcost       dcost       gap    pres   dres"
       ]
      },
      {
       "output_type": "stream",
       "stream": "stdout",
       "text": [
        "\n",
        " 0: -1.3755e+02 -2.9197e+02  2e+02  5e-16  1e+00\n",
        " 1: -1.3773e+02 -1.4491e+02  7e+00  1e-15  6e-02\n",
        " 2: -1.3795e+02 -1.3943e+02  1e+00  1e-15  7e-03\n",
        " 3: -1.3807e+02 -1.3849e+02  4e-01  2e-15  4e-04\n",
        " 4: -1.3812e+02 -1.3820e+02  8e-02  3e-15  2e-05\n",
        " 5: -1.3814e+02 -1.3816e+02  2e-02  2e-15  3e-06\n",
        " 6: -1.3815e+02 -1.3815e+02  4e-03  2e-15  2e-07\n",
        " 7: -1.3815e+02 -1.3815e+02  1e-03  3e-15  6e-08\n",
        " 8: -1.3815e+02 -1.3815e+02  3e-04  3e-15  9e-09\n",
        " 9: -1.3815e+02 -1.3815e+02  1e-04  3e-15  1e-09\n",
        "Optimal solution found.\n",
        "161 support vectors out of 225 points"
       ]
      },
      {
       "output_type": "stream",
       "stream": "stdout",
       "text": [
        "\n",
        "cutting plane objective: 138.147100, primal objective 138.174876\n",
        "iteration 347\n",
        "OneSlackSSVM(C=0.1, break_on_bad=False, cache_tol=auto,\n",
        "       check_constraints=False, inactive_threshold=1e-05,\n",
        "       inactive_window=50, inference_cache=0, logger=None, max_iter=10000,\n",
        "       model=MultiLabelModel(n_states: 2, inference_method: ad3), n_jobs=1,\n",
        "       positive_constraint=None, show_loss_every=0, switch_to=None,\n",
        "       tol=1e-05, verbose=3)\n",
        "New violation: 0.961463 difference to last: 0.000227"
       ]
      },
      {
       "output_type": "stream",
       "stream": "stdout",
       "text": [
        "\n",
        "     pcost       dcost       gap    pres   dres"
       ]
      },
      {
       "output_type": "stream",
       "stream": "stdout",
       "text": [
        "\n",
        " 0: -1.3755e+02 -2.9199e+02  2e+02  3e-16  1e+00\n",
        " 1: -1.3773e+02 -1.4489e+02  7e+00  1e-15  6e-02\n",
        " 2: -1.3795e+02 -1.3942e+02  1e+00  1e-15  7e-03\n",
        " 3: -1.3807e+02 -1.3848e+02  4e-01  2e-15  4e-04\n",
        " 4: -1.3812e+02 -1.3820e+02  8e-02  2e-15  2e-05\n",
        " 5: -1.3814e+02 -1.3816e+02  2e-02  2e-15  3e-06\n",
        " 6: -1.3815e+02 -1.3815e+02  4e-03  3e-15  2e-07\n",
        " 7: -1.3815e+02 -1.3815e+02  1e-03  4e-15  5e-08\n",
        " 8: -1.3815e+02 -1.3815e+02  3e-04  3e-15  7e-09\n",
        " 9: -1.3815e+02 -1.3815e+02  5e-05  4e-15  8e-16\n",
        "Optimal solution found.\n",
        "137 support vectors out of 226 points"
       ]
      },
      {
       "output_type": "stream",
       "stream": "stdout",
       "text": [
        "\n",
        "cutting plane objective: 138.147156, primal objective 138.174728\n",
        "iteration 348\n",
        "OneSlackSSVM(C=0.1, break_on_bad=False, cache_tol=auto,\n",
        "       check_constraints=False, inactive_threshold=1e-05,\n",
        "       inactive_window=50, inference_cache=0, logger=None, max_iter=10000,\n",
        "       model=MultiLabelModel(n_states: 2, inference_method: ad3), n_jobs=1,\n",
        "       positive_constraint=None, show_loss_every=0, switch_to=None,\n",
        "       tol=1e-05, verbose=3)\n",
        "New violation: 0.961444 difference to last: 0.000215"
       ]
      },
      {
       "output_type": "stream",
       "stream": "stdout",
       "text": [
        "\n",
        "     pcost       dcost       gap    pres   dres"
       ]
      },
      {
       "output_type": "stream",
       "stream": "stdout",
       "text": [
        "\n",
        " 0: -1.3755e+02 -2.9186e+02  2e+02  6e-17  1e+00\n",
        " 1: -1.3773e+02 -1.4491e+02  7e+00  1e-15  6e-02\n",
        " 2: -1.3795e+02 -1.3941e+02  1e+00  1e-15  7e-03\n",
        " 3: -1.3807e+02 -1.3849e+02  4e-01  2e-15  3e-04\n",
        " 4: -1.3812e+02 -1.3820e+02  8e-02  2e-15  2e-05\n",
        " 5: -1.3814e+02 -1.3816e+02  2e-02  3e-15  2e-06\n",
        " 6: -1.3815e+02 -1.3815e+02  4e-03  2e-15  2e-07\n",
        " 7: -1.3815e+02 -1.3815e+02  1e-03  3e-15  4e-08\n",
        " 8: -1.3815e+02 -1.3815e+02  2e-04  3e-15  4e-09\n",
        " 9: -1.3815e+02 -1.3815e+02  7e-05  3e-15  7e-16\n",
        "Optimal solution found.\n",
        "155 support vectors out of 227 points\n",
        "cutting plane objective: 138.147153, primal objective 138.173236"
       ]
      },
      {
       "output_type": "stream",
       "stream": "stdout",
       "text": [
        "\n",
        "iteration 349\n",
        "OneSlackSSVM(C=0.1, break_on_bad=False, cache_tol=auto,\n",
        "       check_constraints=False, inactive_threshold=1e-05,\n",
        "       inactive_window=50, inference_cache=0, logger=None, max_iter=10000,\n",
        "       model=MultiLabelModel(n_states: 2, inference_method: ad3), n_jobs=1,\n",
        "       positive_constraint=None, show_loss_every=0, switch_to=None,\n",
        "       tol=1e-05, verbose=3)\n",
        "New violation: 0.961437 difference to last: 0.000209"
       ]
      },
      {
       "output_type": "stream",
       "stream": "stdout",
       "text": [
        "\n",
        "     pcost       dcost       gap    pres   dres"
       ]
      },
      {
       "output_type": "stream",
       "stream": "stdout",
       "text": [
        "\n",
        " 0: -1.3756e+02 -2.9134e+02  2e+02  2e-16  1e+00\n",
        " 1: -1.3773e+02 -1.4490e+02  7e+00  2e-15  6e-02\n",
        " 2: -1.3795e+02 -1.3942e+02  1e+00  1e-15  7e-03\n",
        " 3: -1.3807e+02 -1.3849e+02  4e-01  2e-15  3e-04\n",
        " 4: -1.3812e+02 -1.3820e+02  8e-02  2e-15  2e-05\n",
        " 5: -1.3814e+02 -1.3816e+02  2e-02  3e-15  2e-06\n",
        " 6: -1.3815e+02 -1.3815e+02  4e-03  2e-15  2e-07\n",
        " 7: -1.3815e+02 -1.3815e+02  1e-03  3e-15  3e-08\n",
        " 8: -1.3815e+02 -1.3815e+02  2e-04  3e-15  2e-09\n",
        " 9: -1.3815e+02 -1.3815e+02  2e-05  3e-15  7e-16\n",
        "Optimal solution found.\n",
        "127 support vectors out of 228 points\n",
        "cutting plane objective: 138.147198, primal objective 138.172575"
       ]
      },
      {
       "output_type": "stream",
       "stream": "stdout",
       "text": [
        "\n",
        "iteration 350\n",
        "OneSlackSSVM(C=0.1, break_on_bad=False, cache_tol=auto,\n",
        "       check_constraints=False, inactive_threshold=1e-05,\n",
        "       inactive_window=50, inference_cache=0, logger=None, max_iter=10000,\n",
        "       model=MultiLabelModel(n_states: 2, inference_method: ad3), n_jobs=1,\n",
        "       positive_constraint=None, show_loss_every=0, switch_to=None,\n",
        "       tol=1e-05, verbose=3)\n",
        "New violation: 0.961422 difference to last: 0.000202"
       ]
      },
      {
       "output_type": "stream",
       "stream": "stdout",
       "text": [
        "\n",
        "     pcost       dcost       gap    pres   dres"
       ]
      },
      {
       "output_type": "stream",
       "stream": "stdout",
       "text": [
        "\n",
        " 0: -1.3756e+02 -2.9124e+02  2e+02  1e-16  1e+00\n",
        " 1: -1.3773e+02 -1.4499e+02  7e+00  2e-15  6e-02\n",
        " 2: -1.3795e+02 -1.3946e+02  2e+00  1e-15  8e-03\n",
        " 3: -1.3807e+02 -1.3849e+02  4e-01  2e-15  4e-04\n",
        " 4: -1.3812e+02 -1.3820e+02  8e-02  2e-15  2e-05\n",
        " 5: -1.3814e+02 -1.3816e+02  2e-02  2e-15  2e-06\n",
        " 6: -1.3815e+02 -1.3815e+02  4e-03  3e-15  2e-07\n",
        " 7: -1.3815e+02 -1.3815e+02  9e-04  3e-15  3e-08\n",
        " 8: -1.3815e+02 -1.3815e+02  2e-04  3e-15  4e-09\n",
        " 9: -1.3815e+02 -1.3815e+02  5e-05  3e-15  8e-16\n",
        "Optimal solution found.\n",
        "140 support vectors out of 229 points\n",
        "cutting plane objective: 138.147197, primal objective 138.171695"
       ]
      },
      {
       "output_type": "stream",
       "stream": "stdout",
       "text": [
        "\n",
        "iteration 351\n",
        "OneSlackSSVM(C=0.1, break_on_bad=False, cache_tol=auto,\n",
        "       check_constraints=False, inactive_threshold=1e-05,\n",
        "       inactive_window=50, inference_cache=0, logger=None, max_iter=10000,\n",
        "       model=MultiLabelModel(n_states: 2, inference_method: ad3), n_jobs=1,\n",
        "       positive_constraint=None, show_loss_every=0, switch_to=None,\n",
        "       tol=1e-05, verbose=3)\n",
        "New violation: 0.961409 difference to last: 0.000199"
       ]
      },
      {
       "output_type": "stream",
       "stream": "stdout",
       "text": [
        "\n",
        "     pcost       dcost       gap    pres   dres"
       ]
      },
      {
       "output_type": "stream",
       "stream": "stdout",
       "text": [
        "\n",
        " 0: -1.3756e+02 -2.9085e+02  2e+02  2e-16  1e+00\n",
        " 1: -1.3773e+02 -1.4485e+02  7e+00  2e-15  6e-02\n",
        " 2: -1.3795e+02 -1.3941e+02  1e+00  1e-15  7e-03\n",
        " 3: -1.3807e+02 -1.3849e+02  4e-01  2e-15  3e-04\n",
        " 4: -1.3812e+02 -1.3820e+02  8e-02  2e-15  2e-05\n",
        " 5: -1.3814e+02 -1.3816e+02  2e-02  2e-15  2e-06\n",
        " 6: -1.3815e+02 -1.3815e+02  4e-03  2e-15  1e-07\n",
        " 7: -1.3815e+02 -1.3815e+02  8e-04  3e-15  2e-08\n",
        " 8: -1.3815e+02 -1.3815e+02  2e-04  3e-15  3e-09\n",
        " 9: -1.3815e+02 -1.3815e+02  3e-05  3e-15  3e-11\n",
        "Optimal solution found.\n",
        "138 support vectors out of 230 points\n",
        "cutting plane objective: 138.147215, primal objective 138.171371"
       ]
      },
      {
       "output_type": "stream",
       "stream": "stdout",
       "text": [
        "\n",
        "iteration 352\n",
        "OneSlackSSVM(C=0.1, break_on_bad=False, cache_tol=auto,\n",
        "       check_constraints=False, inactive_threshold=1e-05,\n",
        "       inactive_window=50, inference_cache=0, logger=None, max_iter=10000,\n",
        "       model=MultiLabelModel(n_states: 2, inference_method: ad3), n_jobs=1,\n",
        "       positive_constraint=None, show_loss_every=0, switch_to=None,\n",
        "       tol=1e-05, verbose=3)\n",
        "New violation: 0.961398 difference to last: 0.000190"
       ]
      },
      {
       "output_type": "stream",
       "stream": "stdout",
       "text": [
        "\n",
        "     pcost       dcost       gap    pres   dres"
       ]
      },
      {
       "output_type": "stream",
       "stream": "stdout",
       "text": [
        "\n",
        " 0: -1.3757e+02 -2.9053e+02  2e+02  3e-16  1e+00\n",
        " 1: -1.3773e+02 -1.4490e+02  7e+00  1e-15  6e-02\n",
        " 2: -1.3796e+02 -1.3942e+02  1e+00  2e-15  7e-03\n",
        " 3: -1.3807e+02 -1.3849e+02  4e-01  2e-15  3e-04\n",
        " 4: -1.3812e+02 -1.3820e+02  8e-02  2e-15  2e-05\n",
        " 5: -1.3814e+02 -1.3816e+02  2e-02  2e-15  2e-06\n",
        " 6: -1.3815e+02 -1.3815e+02  4e-03  2e-15  2e-07\n",
        " 7: -1.3815e+02 -1.3815e+02  9e-04  3e-15  3e-08\n",
        " 8: -1.3815e+02 -1.3815e+02  2e-04  3e-15  4e-09\n",
        " 9: -1.3815e+02 -1.3815e+02  7e-05  3e-15  8e-16\n",
        "Optimal solution found.\n",
        "157 support vectors out of 231 points"
       ]
      },
      {
       "output_type": "stream",
       "stream": "stdout",
       "text": [
        "\n",
        "cutting plane objective: 138.147208, primal objective 138.170291\n",
        "iteration 353\n",
        "OneSlackSSVM(C=0.1, break_on_bad=False, cache_tol=auto,\n",
        "       check_constraints=False, inactive_threshold=1e-05,\n",
        "       inactive_window=50, inference_cache=0, logger=None, max_iter=10000,\n",
        "       model=MultiLabelModel(n_states: 2, inference_method: ad3), n_jobs=1,\n",
        "       positive_constraint=None, show_loss_every=0, switch_to=None,\n",
        "       tol=1e-05, verbose=3)\n",
        "New violation: 0.961407 difference to last: 0.000199"
       ]
      },
      {
       "output_type": "stream",
       "stream": "stdout",
       "text": [
        "\n",
        "     pcost       dcost       gap    pres   dres"
       ]
      },
      {
       "output_type": "stream",
       "stream": "stdout",
       "text": [
        "\n",
        " 0: -1.3757e+02 -2.9013e+02  2e+02  5e-17  1e+00\n",
        " 1: -1.3774e+02 -1.4490e+02  7e+00  1e-15  6e-02\n",
        " 2: -1.3795e+02 -1.3943e+02  1e+00  1e-15  7e-03\n",
        " 3: -1.3807e+02 -1.3849e+02  4e-01  2e-15  4e-04\n",
        " 4: -1.3812e+02 -1.3820e+02  8e-02  1e-15  2e-05\n",
        " 5: -1.3814e+02 -1.3816e+02  2e-02  2e-15  3e-06\n",
        " 6: -1.3815e+02 -1.3815e+02  4e-03  2e-15  2e-07\n",
        " 7: -1.3815e+02 -1.3815e+02  8e-04  3e-15  3e-08\n",
        " 8: -1.3815e+02 -1.3815e+02  2e-04  3e-15  7e-09\n",
        " 9: -1.3815e+02 -1.3815e+02  6e-05  3e-15  7e-16\n",
        "Optimal solution found.\n",
        "150 support vectors out of 232 points\n",
        "cutting plane objective: 138.147227, primal objective 138.171352"
       ]
      },
      {
       "output_type": "stream",
       "stream": "stdout",
       "text": [
        "\n",
        "iteration 354\n",
        "OneSlackSSVM(C=0.1, break_on_bad=False, cache_tol=auto,\n",
        "       check_constraints=False, inactive_threshold=1e-05,\n",
        "       inactive_window=50, inference_cache=0, logger=None, max_iter=10000,\n",
        "       model=MultiLabelModel(n_states: 2, inference_method: ad3), n_jobs=1,\n",
        "       positive_constraint=None, show_loss_every=0, switch_to=None,\n",
        "       tol=1e-05, verbose=3)\n",
        "New violation: 0.961403 difference to last: 0.000196"
       ]
      },
      {
       "output_type": "stream",
       "stream": "stdout",
       "text": [
        "\n",
        "     pcost       dcost       gap    pres   dres"
       ]
      },
      {
       "output_type": "stream",
       "stream": "stdout",
       "text": [
        "\n",
        " 0: -1.3757e+02 -2.9003e+02  2e+02  4e-16  1e+00\n",
        " 1: -1.3774e+02 -1.4505e+02  7e+00  2e-15  6e-02\n",
        " 2: -1.3795e+02 -1.3946e+02  2e+00  1e-15  8e-03\n",
        " 3: -1.3807e+02 -1.3850e+02  4e-01  2e-15  3e-04\n",
        " 4: -1.3812e+02 -1.3820e+02  8e-02  3e-15  2e-05\n",
        " 5: -1.3814e+02 -1.3816e+02  2e-02  3e-15  2e-06\n",
        " 6: -1.3815e+02 -1.3815e+02  4e-03  2e-15  1e-07\n",
        " 7: -1.3815e+02 -1.3815e+02  7e-04  3e-15  2e-08\n",
        " 8: -1.3815e+02 -1.3815e+02  2e-04  3e-15  4e-09\n",
        " 9: -1.3815e+02 -1.3815e+02  7e-05  3e-15  7e-16\n",
        "Optimal solution found.\n",
        "159 support vectors out of 233 points"
       ]
      },
      {
       "output_type": "stream",
       "stream": "stdout",
       "text": [
        "\n",
        "cutting plane objective: 138.147228, primal objective 138.171028\n",
        "iteration 355\n",
        "OneSlackSSVM(C=0.1, break_on_bad=False, cache_tol=auto,\n",
        "       check_constraints=False, inactive_threshold=1e-05,\n",
        "       inactive_window=50, inference_cache=0, logger=None, max_iter=10000,\n",
        "       model=MultiLabelModel(n_states: 2, inference_method: ad3), n_jobs=1,\n",
        "       positive_constraint=None, show_loss_every=0, switch_to=None,\n",
        "       tol=1e-05, verbose=3)\n",
        "New violation: 0.961413 difference to last: 0.000208"
       ]
      },
      {
       "output_type": "stream",
       "stream": "stdout",
       "text": [
        "\n",
        "     pcost       dcost       gap    pres   dres"
       ]
      },
      {
       "output_type": "stream",
       "stream": "stdout",
       "text": [
        "\n",
        " 0: -1.3758e+02 -2.8946e+02  2e+02  1e-16  1e+00\n",
        " 1: -1.3774e+02 -1.4501e+02  7e+00  2e-15  6e-02\n",
        " 2: -1.3795e+02 -1.3945e+02  2e+00  1e-15  8e-03\n",
        " 3: -1.3807e+02 -1.3850e+02  4e-01  2e-15  2e-04\n",
        " 4: -1.3812e+02 -1.3820e+02  9e-02  2e-15  1e-05\n",
        " 5: -1.3814e+02 -1.3816e+02  2e-02  2e-15  2e-06\n",
        " 6: -1.3815e+02 -1.3815e+02  4e-03  2e-15  7e-08\n",
        " 7: -1.3815e+02 -1.3815e+02  6e-04  3e-15  5e-09\n",
        " 8: -1.3815e+02 -1.3815e+02  1e-04  3e-15  1e-09\n",
        "Optimal solution found.\n",
        "168 support vectors out of 234 points"
       ]
      },
      {
       "output_type": "stream",
       "stream": "stdout",
       "text": [
        "\n",
        "cutting plane objective: 138.147210, primal objective 138.172463\n",
        "iteration 356\n",
        "OneSlackSSVM(C=0.1, break_on_bad=False, cache_tol=auto,\n",
        "       check_constraints=False, inactive_threshold=1e-05,\n",
        "       inactive_window=50, inference_cache=0, logger=None, max_iter=10000,\n",
        "       model=MultiLabelModel(n_states: 2, inference_method: ad3), n_jobs=1,\n",
        "       positive_constraint=None, show_loss_every=0, switch_to=None,\n",
        "       tol=1e-05, verbose=3)\n",
        "New violation: 0.961417 difference to last: 0.000211"
       ]
      },
      {
       "output_type": "stream",
       "stream": "stdout",
       "text": [
        "\n",
        "     pcost       dcost       gap    pres   dres"
       ]
      },
      {
       "output_type": "stream",
       "stream": "stdout",
       "text": [
        "\n",
        " 0: -1.3759e+02 -2.8921e+02  2e+02  4e-16  1e+00\n",
        " 1: -1.3775e+02 -1.4488e+02  7e+00  2e-15  6e-02\n",
        " 2: -1.3795e+02 -1.3943e+02  1e+00  1e-15  8e-03\n",
        " 3: -1.3807e+02 -1.3849e+02  4e-01  2e-15  2e-04\n",
        " 4: -1.3812e+02 -1.3820e+02  8e-02  2e-15  1e-05\n",
        " 5: -1.3814e+02 -1.3816e+02  2e-02  2e-15  2e-06\n",
        " 6: -1.3815e+02 -1.3815e+02  4e-03  2e-15  7e-08\n",
        " 7: -1.3815e+02 -1.3815e+02  5e-04  4e-15  4e-09\n",
        " 8: -1.3815e+02 -1.3815e+02  2e-04  3e-15  1e-09\n",
        " 9: -1.3815e+02 -1.3815e+02  6e-05  3e-15  8e-16\n",
        "Optimal solution found.\n",
        "154 support vectors out of 235 points"
       ]
      },
      {
       "output_type": "stream",
       "stream": "stdout",
       "text": [
        "\n",
        "cutting plane objective: 138.147256, primal objective 138.172937\n",
        "iteration 357\n",
        "OneSlackSSVM(C=0.1, break_on_bad=False, cache_tol=auto,\n",
        "       check_constraints=False, inactive_threshold=1e-05,\n",
        "       inactive_window=50, inference_cache=0, logger=None, max_iter=10000,\n",
        "       model=MultiLabelModel(n_states: 2, inference_method: ad3), n_jobs=1,\n",
        "       positive_constraint=None, show_loss_every=0, switch_to=None,\n",
        "       tol=1e-05, verbose=3)\n",
        "New violation: 0.961399 difference to last: 0.000200"
       ]
      },
      {
       "output_type": "stream",
       "stream": "stdout",
       "text": [
        "\n",
        "     pcost       dcost       gap    pres   dres"
       ]
      },
      {
       "output_type": "stream",
       "stream": "stdout",
       "text": [
        "\n",
        " 0: -1.3758e+02 -2.8966e+02  2e+02  3e-16  1e+00\n",
        " 1: -1.3774e+02 -1.4485e+02  7e+00  1e-15  6e-02\n",
        " 2: -1.3796e+02 -1.3941e+02  1e+00  1e-15  7e-03\n",
        " 3: -1.3807e+02 -1.3849e+02  4e-01  2e-15  2e-04\n",
        " 4: -1.3812e+02 -1.3820e+02  8e-02  2e-15  1e-05\n",
        " 5: -1.3814e+02 -1.3816e+02  2e-02  2e-15  2e-06\n",
        " 6: -1.3815e+02 -1.3815e+02  3e-03  3e-15  8e-08\n",
        " 7: -1.3815e+02 -1.3815e+02  6e-04  4e-15  6e-09\n",
        " 8: -1.3815e+02 -1.3815e+02  2e-04  3e-15  2e-09\n",
        " 9: -1.3815e+02 -1.3815e+02  6e-05  3e-15  8e-16\n",
        "Optimal solution found.\n",
        "160 support vectors out of 236 points"
       ]
      },
      {
       "output_type": "stream",
       "stream": "stdout",
       "text": [
        "\n",
        "cutting plane objective: 138.147265, primal objective 138.171530\n",
        "iteration 358\n",
        "OneSlackSSVM(C=0.1, break_on_bad=False, cache_tol=auto,\n",
        "       check_constraints=False, inactive_threshold=1e-05,\n",
        "       inactive_window=50, inference_cache=0, logger=None, max_iter=10000,\n",
        "       model=MultiLabelModel(n_states: 2, inference_method: ad3), n_jobs=1,\n",
        "       positive_constraint=None, show_loss_every=0, switch_to=None,\n",
        "       tol=1e-05, verbose=3)\n",
        "New violation: 0.961375 difference to last: 0.000176"
       ]
      },
      {
       "output_type": "stream",
       "stream": "stdout",
       "text": [
        "\n",
        "     pcost       dcost       gap    pres   dres"
       ]
      },
      {
       "output_type": "stream",
       "stream": "stdout",
       "text": [
        "\n",
        " 0: -1.3758e+02 -2.8927e+02  2e+02  1e-16  1e+00\n",
        " 1: -1.3774e+02 -1.4490e+02  7e+00  1e-15  6e-02\n",
        " 2: -1.3795e+02 -1.3941e+02  1e+00  1e-15  8e-03\n",
        " 3: -1.3807e+02 -1.3849e+02  4e-01  2e-15  1e-04\n",
        " 4: -1.3812e+02 -1.3820e+02  8e-02  1e-15  1e-05\n",
        " 5: -1.3814e+02 -1.3816e+02  2e-02  3e-15  1e-06\n",
        " 6: -1.3815e+02 -1.3815e+02  4e-03  2e-15  7e-08\n",
        " 7: -1.3815e+02 -1.3815e+02  6e-04  4e-15  5e-09\n",
        " 8: -1.3815e+02 -1.3815e+02  1e-04  3e-15  1e-09\n",
        " 9: -1.3815e+02 -1.3815e+02  3e-05  4e-15  8e-16\n",
        "Optimal solution found.\n",
        "145 support vectors out of 237 points"
       ]
      },
      {
       "output_type": "stream",
       "stream": "stdout",
       "text": [
        "\n",
        "cutting plane objective: 138.147289, primal objective 138.168638\n",
        "iteration 359\n",
        "OneSlackSSVM(C=0.1, break_on_bad=False, cache_tol=auto,\n",
        "       check_constraints=False, inactive_threshold=1e-05,\n",
        "       inactive_window=50, inference_cache=0, logger=None, max_iter=10000,\n",
        "       model=MultiLabelModel(n_states: 2, inference_method: ad3), n_jobs=1,\n",
        "       positive_constraint=None, show_loss_every=0, switch_to=None,\n",
        "       tol=1e-05, verbose=3)\n",
        "New violation: 0.961387 difference to last: 0.000181"
       ]
      },
      {
       "output_type": "stream",
       "stream": "stdout",
       "text": [
        "\n",
        "     pcost       dcost       gap    pres   dres"
       ]
      },
      {
       "output_type": "stream",
       "stream": "stdout",
       "text": [
        "\n",
        " 0: -1.3759e+02 -2.9094e+02  2e+02  1e-16  1e+00\n",
        " 1: -1.3776e+02 -1.4511e+02  7e+00  1e-15  6e-02\n",
        " 2: -1.3796e+02 -1.3939e+02  1e+00  1e-15  7e-03\n",
        " 3: -1.3808e+02 -1.3853e+02  5e-01  2e-15  7e-16\n",
        " 4: -1.3812e+02 -1.3820e+02  8e-02  2e-15  8e-16\n",
        " 5: -1.3814e+02 -1.3816e+02  2e-02  2e-15  7e-16\n",
        " 6: -1.3815e+02 -1.3815e+02  4e-03  2e-15  7e-16\n",
        " 7: -1.3815e+02 -1.3815e+02  6e-04  3e-15  7e-16\n",
        " 8: -1.3815e+02 -1.3815e+02  2e-04  3e-15  7e-16\n",
        " 9: -1.3815e+02 -1.3815e+02  5e-05  3e-15  7e-16\n",
        "Optimal solution found.\n",
        "155 support vectors out of 236 points"
       ]
      },
      {
       "output_type": "stream",
       "stream": "stdout",
       "text": [
        "\n",
        "cutting plane objective: 138.147290, primal objective 138.169273\n",
        "iteration 360\n",
        "OneSlackSSVM(C=0.1, break_on_bad=False, cache_tol=auto,\n",
        "       check_constraints=False, inactive_threshold=1e-05,\n",
        "       inactive_window=50, inference_cache=0, logger=None, max_iter=10000,\n",
        "       model=MultiLabelModel(n_states: 2, inference_method: ad3), n_jobs=1,\n",
        "       positive_constraint=None, show_loss_every=0, switch_to=None,\n",
        "       tol=1e-05, verbose=3)\n",
        "New violation: 0.961386 difference to last: 0.000180"
       ]
      },
      {
       "output_type": "stream",
       "stream": "stdout",
       "text": [
        "\n",
        "     pcost       dcost       gap    pres   dres"
       ]
      },
      {
       "output_type": "stream",
       "stream": "stdout",
       "text": [
        "\n",
        " 0: -1.3759e+02 -2.9080e+02  2e+02  1e-17  1e+00\n",
        " 1: -1.3776e+02 -1.4484e+02  7e+00  2e-15  6e-02\n",
        " 2: -1.3796e+02 -1.3936e+02  1e+00  2e-15  7e-03\n",
        " 3: -1.3808e+02 -1.3852e+02  4e-01  2e-15  8e-16\n",
        " 4: -1.3812e+02 -1.3820e+02  8e-02  2e-15  7e-16\n",
        " 5: -1.3814e+02 -1.3816e+02  2e-02  2e-15  7e-16\n",
        " 6: -1.3815e+02 -1.3815e+02  4e-03  2e-15  7e-16\n",
        " 7: -1.3815e+02 -1.3815e+02  6e-04  3e-15  7e-16\n",
        " 8: -1.3815e+02 -1.3815e+02  1e-04  3e-15  6e-16\n",
        " 9: -1.3815e+02 -1.3815e+02  4e-05  2e-15  7e-16\n",
        "Optimal solution found.\n",
        "150 support vectors out of 237 points"
       ]
      },
      {
       "output_type": "stream",
       "stream": "stdout",
       "text": [
        "\n",
        "cutting plane objective: 138.147308, primal objective 138.169113\n",
        "iteration 361\n",
        "OneSlackSSVM(C=0.1, break_on_bad=False, cache_tol=auto,\n",
        "       check_constraints=False, inactive_threshold=1e-05,\n",
        "       inactive_window=50, inference_cache=0, logger=None, max_iter=10000,\n",
        "       model=MultiLabelModel(n_states: 2, inference_method: ad3), n_jobs=1,\n",
        "       positive_constraint=None, show_loss_every=0, switch_to=None,\n",
        "       tol=1e-05, verbose=3)\n",
        "New violation: 0.961389 difference to last: 0.000173"
       ]
      },
      {
       "output_type": "stream",
       "stream": "stdout",
       "text": [
        "\n",
        "     pcost       dcost       gap    pres   dres"
       ]
      },
      {
       "output_type": "stream",
       "stream": "stdout",
       "text": [
        "\n",
        " 0: -1.3759e+02 -2.9097e+02  2e+02  6e-16  1e+00\n",
        " 1: -1.3776e+02 -1.4489e+02  7e+00  1e-15  6e-02\n",
        " 2: -1.3796e+02 -1.3937e+02  1e+00  2e-15  7e-03\n",
        " 3: -1.3808e+02 -1.3853e+02  5e-01  2e-15  7e-16\n",
        " 4: -1.3812e+02 -1.3820e+02  8e-02  2e-15  8e-16\n",
        " 5: -1.3814e+02 -1.3816e+02  2e-02  3e-15  7e-16\n",
        " 6: -1.3815e+02 -1.3815e+02  4e-03  2e-15  7e-16\n",
        " 7: -1.3815e+02 -1.3815e+02  6e-04  2e-15  7e-16\n",
        " 8: -1.3815e+02 -1.3815e+02  1e-04  3e-15  7e-16\n",
        "Optimal solution found.\n",
        "171 support vectors out of 238 points\n",
        "cutting plane objective: 138.147270, primal objective 138.168235"
       ]
      },
      {
       "output_type": "stream",
       "stream": "stdout",
       "text": [
        "\n",
        "iteration 362\n",
        "OneSlackSSVM(C=0.1, break_on_bad=False, cache_tol=auto,\n",
        "       check_constraints=False, inactive_threshold=1e-05,\n",
        "       inactive_window=50, inference_cache=0, logger=None, max_iter=10000,\n",
        "       model=MultiLabelModel(n_states: 2, inference_method: ad3), n_jobs=1,\n",
        "       positive_constraint=None, show_loss_every=0, switch_to=None,\n",
        "       tol=1e-05, verbose=3)\n",
        "New violation: 0.961388 difference to last: 0.000177"
       ]
      },
      {
       "output_type": "stream",
       "stream": "stdout",
       "text": [
        "\n",
        "     pcost       dcost       gap    pres   dres"
       ]
      },
      {
       "output_type": "stream",
       "stream": "stdout",
       "text": [
        "\n",
        " 0: -1.3761e+02 -2.9034e+02  2e+02  2e-16  1e+00\n",
        " 1: -1.3777e+02 -1.4470e+02  7e+00  1e-15  6e-02\n",
        " 2: -1.3797e+02 -1.3937e+02  1e+00  1e-15  8e-03\n",
        " 3: -1.3808e+02 -1.3853e+02  5e-01  1e-15  7e-16\n",
        " 4: -1.3812e+02 -1.3820e+02  8e-02  2e-15  8e-16\n",
        " 5: -1.3814e+02 -1.3816e+02  2e-02  2e-15  7e-16\n",
        " 6: -1.3815e+02 -1.3815e+02  4e-03  3e-15  7e-16\n",
        " 7: -1.3815e+02 -1.3815e+02  5e-04  3e-15  7e-16\n",
        " 8: -1.3815e+02 -1.3815e+02  1e-04  3e-15  7e-16\n",
        " 9: -1.3815e+02 -1.3815e+02  5e-05  2e-15  7e-16\n",
        "Optimal solution found.\n",
        "155 support vectors out of 239 points"
       ]
      },
      {
       "output_type": "stream",
       "stream": "stdout",
       "text": [
        "\n",
        "cutting plane objective: 138.147319, primal objective 138.168773\n",
        "iteration 363\n",
        "OneSlackSSVM(C=0.1, break_on_bad=False, cache_tol=auto,\n",
        "       check_constraints=False, inactive_threshold=1e-05,\n",
        "       inactive_window=50, inference_cache=0, logger=None, max_iter=10000,\n",
        "       model=MultiLabelModel(n_states: 2, inference_method: ad3), n_jobs=1,\n",
        "       positive_constraint=None, show_loss_every=0, switch_to=None,\n",
        "       tol=1e-05, verbose=3)\n",
        "New violation: 0.961395 difference to last: 0.000178"
       ]
      },
      {
       "output_type": "stream",
       "stream": "stdout",
       "text": [
        "\n",
        "     pcost       dcost       gap    pres   dres"
       ]
      },
      {
       "output_type": "stream",
       "stream": "stdout",
       "text": [
        "\n",
        " 0: -1.3761e+02 -2.9030e+02  2e+02  7e-16  1e+00\n",
        " 1: -1.3776e+02 -1.4463e+02  7e+00  1e-15  6e-02\n",
        " 2: -1.3797e+02 -1.3935e+02  1e+00  2e-15  8e-03\n",
        " 3: -1.3808e+02 -1.3853e+02  5e-01  2e-15  7e-16\n",
        " 4: -1.3812e+02 -1.3820e+02  8e-02  2e-15  7e-16\n",
        " 5: -1.3814e+02 -1.3816e+02  2e-02  2e-15  7e-16\n",
        " 6: -1.3815e+02 -1.3815e+02  3e-03  2e-15  7e-16\n",
        " 7: -1.3815e+02 -1.3815e+02  5e-04  3e-15  7e-16\n",
        " 8: -1.3815e+02 -1.3815e+02  1e-04  2e-15  7e-16\n",
        "Optimal solution found.\n",
        "171 support vectors out of 240 points"
       ]
      },
      {
       "output_type": "stream",
       "stream": "stdout",
       "text": [
        "\n",
        "cutting plane objective: 138.147295, primal objective 138.168900\n",
        "iteration 364\n",
        "OneSlackSSVM(C=0.1, break_on_bad=False, cache_tol=auto,\n",
        "       check_constraints=False, inactive_threshold=1e-05,\n",
        "       inactive_window=50, inference_cache=0, logger=None, max_iter=10000,\n",
        "       model=MultiLabelModel(n_states: 2, inference_method: ad3), n_jobs=1,\n",
        "       positive_constraint=None, show_loss_every=0, switch_to=None,\n",
        "       tol=1e-05, verbose=3)\n",
        "New violation: 0.961399 difference to last: 0.000177"
       ]
      },
      {
       "output_type": "stream",
       "stream": "stdout",
       "text": [
        "\n",
        "     pcost       dcost       gap    pres   dres"
       ]
      },
      {
       "output_type": "stream",
       "stream": "stdout",
       "text": [
        "\n",
        " 0: -1.3761e+02 -2.8965e+02  2e+02  3e-16  1e+00\n",
        " 1: -1.3777e+02 -1.4454e+02  7e+00  1e-15  6e-02\n",
        " 2: -1.3797e+02 -1.3933e+02  1e+00  1e-15  7e-03\n",
        " 3: -1.3808e+02 -1.3852e+02  4e-01  2e-15  7e-16\n",
        " 4: -1.3812e+02 -1.3820e+02  8e-02  2e-15  7e-16\n",
        " 5: -1.3814e+02 -1.3816e+02  2e-02  3e-15  8e-16\n",
        " 6: -1.3815e+02 -1.3815e+02  3e-03  2e-15  7e-16\n",
        " 7: -1.3815e+02 -1.3815e+02  5e-04  3e-15  7e-16\n",
        " 8: -1.3815e+02 -1.3815e+02  1e-04  4e-15  7e-16\n",
        " 9: -1.3815e+02 -1.3815e+02  3e-05  3e-15  8e-16\n",
        "Optimal solution found.\n",
        "145 support vectors out of 241 points"
       ]
      },
      {
       "output_type": "stream",
       "stream": "stdout",
       "text": [
        "\n",
        "cutting plane objective: 138.147352, primal objective 138.168884\n",
        "iteration 365\n",
        "OneSlackSSVM(C=0.1, break_on_bad=False, cache_tol=auto,\n",
        "       check_constraints=False, inactive_threshold=1e-05,\n",
        "       inactive_window=50, inference_cache=0, logger=None, max_iter=10000,\n",
        "       model=MultiLabelModel(n_states: 2, inference_method: ad3), n_jobs=1,\n",
        "       positive_constraint=None, show_loss_every=0, switch_to=None,\n",
        "       tol=1e-05, verbose=3)\n",
        "New violation: 0.961431 difference to last: 0.000196"
       ]
      },
      {
       "output_type": "stream",
       "stream": "stdout",
       "text": [
        "\n",
        "     pcost       dcost       gap    pres   dres"
       ]
      },
      {
       "output_type": "stream",
       "stream": "stdout",
       "text": [
        "\n",
        " 0: -1.3761e+02 -2.8986e+02  2e+02  3e-16  1e+00\n",
        " 1: -1.3777e+02 -1.4446e+02  7e+00  1e-15  6e-02\n",
        " 2: -1.3797e+02 -1.3933e+02  1e+00  1e-15  7e-03\n",
        " 3: -1.3808e+02 -1.3852e+02  4e-01  2e-15  8e-16\n",
        " 4: -1.3812e+02 -1.3820e+02  8e-02  3e-15  7e-16\n",
        " 5: -1.3814e+02 -1.3816e+02  2e-02  2e-15  7e-16\n",
        " 6: -1.3815e+02 -1.3815e+02  3e-03  2e-15  7e-16\n",
        " 7: -1.3815e+02 -1.3815e+02  5e-04  2e-15  7e-16\n",
        " 8: -1.3815e+02 -1.3815e+02  1e-04  3e-15  7e-16\n",
        "Optimal solution found.\n",
        "175 support vectors out of 242 points"
       ]
      },
      {
       "output_type": "stream",
       "stream": "stdout",
       "text": [
        "\n",
        "cutting plane objective: 138.147317, primal objective 138.171175\n",
        "iteration 366\n",
        "OneSlackSSVM(C=0.1, break_on_bad=False, cache_tol=auto,\n",
        "       check_constraints=False, inactive_threshold=1e-05,\n",
        "       inactive_window=50, inference_cache=0, logger=None, max_iter=10000,\n",
        "       model=MultiLabelModel(n_states: 2, inference_method: ad3), n_jobs=1,\n",
        "       positive_constraint=None, show_loss_every=0, switch_to=None,\n",
        "       tol=1e-05, verbose=3)\n",
        "New violation: 0.961438 difference to last: 0.000192"
       ]
      },
      {
       "output_type": "stream",
       "stream": "stdout",
       "text": [
        "\n",
        "     pcost       dcost       gap    pres   dres"
       ]
      },
      {
       "output_type": "stream",
       "stream": "stdout",
       "text": [
        "\n",
        " 0: -1.3762e+02 -2.8893e+02  2e+02  4e-16  1e+00\n",
        " 1: -1.3777e+02 -1.4432e+02  7e+00  1e-15  6e-02\n",
        " 2: -1.3797e+02 -1.3933e+02  1e+00  1e-15  8e-03\n",
        " 3: -1.3808e+02 -1.3852e+02  4e-01  2e-15  8e-16\n",
        " 4: -1.3812e+02 -1.3820e+02  8e-02  2e-15  8e-16\n",
        " 5: -1.3814e+02 -1.3816e+02  2e-02  2e-15  8e-16\n",
        " 6: -1.3815e+02 -1.3815e+02  3e-03  2e-15  7e-16\n",
        " 7: -1.3815e+02 -1.3815e+02  6e-04  2e-15  7e-16\n",
        " 8: -1.3815e+02 -1.3815e+02  2e-04  3e-15  6e-16\n",
        " 9: -1.3815e+02 -1.3815e+02  3e-05  3e-15  7e-16\n",
        "Optimal solution found.\n",
        "152 support vectors out of 243 points"
       ]
      },
      {
       "output_type": "stream",
       "stream": "stdout",
       "text": [
        "\n",
        "cutting plane objective: 138.147369, primal objective 138.170632\n",
        "iteration 367\n",
        "OneSlackSSVM(C=0.1, break_on_bad=False, cache_tol=auto,\n",
        "       check_constraints=False, inactive_threshold=1e-05,\n",
        "       inactive_window=50, inference_cache=0, logger=None, max_iter=10000,\n",
        "       model=MultiLabelModel(n_states: 2, inference_method: ad3), n_jobs=1,\n",
        "       positive_constraint=None, show_loss_every=0, switch_to=None,\n",
        "       tol=1e-05, verbose=3)\n",
        "New violation: 0.961435 difference to last: 0.000188"
       ]
      },
      {
       "output_type": "stream",
       "stream": "stdout",
       "text": [
        "\n",
        "     pcost       dcost       gap    pres   dres"
       ]
      },
      {
       "output_type": "stream",
       "stream": "stdout",
       "text": [
        "\n",
        " 0: -1.3762e+02 -2.8895e+02  2e+02  2e-16  1e+00\n",
        " 1: -1.3777e+02 -1.4434e+02  7e+00  1e-15  6e-02\n",
        " 2: -1.3797e+02 -1.3931e+02  1e+00  1e-15  7e-03\n",
        " 3: -1.3808e+02 -1.3852e+02  4e-01  2e-15  7e-16\n",
        " 4: -1.3812e+02 -1.3820e+02  8e-02  2e-15  7e-16\n",
        " 5: -1.3814e+02 -1.3816e+02  2e-02  3e-15  7e-16\n",
        " 6: -1.3815e+02 -1.3815e+02  3e-03  3e-15  7e-16\n",
        " 7: -1.3815e+02 -1.3815e+02  6e-04  3e-15  7e-16\n",
        " 8: -1.3815e+02 -1.3815e+02  1e-04  3e-15  7e-16"
       ]
      },
      {
       "output_type": "stream",
       "stream": "stdout",
       "text": [
        "\n",
        " 9: -1.3815e+02 -1.3815e+02  3e-05  3e-15  7e-16\n",
        "Optimal solution found.\n",
        "153 support vectors out of 244 points\n",
        "cutting plane objective: 138.147382, primal objective 138.170211\n",
        "iteration 368\n",
        "OneSlackSSVM(C=0.1, break_on_bad=False, cache_tol=auto,\n",
        "       check_constraints=False, inactive_threshold=1e-05,\n",
        "       inactive_window=50, inference_cache=0, logger=None, max_iter=10000,\n",
        "       model=MultiLabelModel(n_states: 2, inference_method: ad3), n_jobs=1,\n",
        "       positive_constraint=None, show_loss_every=0, switch_to=None,\n",
        "       tol=1e-05, verbose=3)\n",
        "New violation: 0.961413 difference to last: 0.000174"
       ]
      },
      {
       "output_type": "stream",
       "stream": "stdout",
       "text": [
        "\n",
        "     pcost       dcost       gap    pres   dres"
       ]
      },
      {
       "output_type": "stream",
       "stream": "stdout",
       "text": [
        "\n",
        " 0: -1.3762e+02 -2.8929e+02  2e+02  3e-16  1e+00\n",
        " 1: -1.3777e+02 -1.4434e+02  7e+00  1e-15  6e-02\n",
        " 2: -1.3797e+02 -1.3931e+02  1e+00  1e-15  7e-03\n",
        " 3: -1.3808e+02 -1.3852e+02  4e-01  2e-15  7e-16\n",
        " 4: -1.3812e+02 -1.3820e+02  8e-02  2e-15  7e-16\n",
        " 5: -1.3814e+02 -1.3816e+02  2e-02  2e-15  7e-16\n",
        " 6: -1.3815e+02 -1.3815e+02  3e-03  2e-15  6e-16\n",
        " 7: -1.3815e+02 -1.3815e+02  7e-04  3e-15  8e-16\n",
        " 8: -1.3815e+02 -1.3815e+02  2e-04  2e-15  7e-16\n",
        " 9: -1.3815e+02 -1.3815e+02  4e-05  2e-15  8e-16\n",
        "Optimal solution found.\n",
        "157 support vectors out of 245 points"
       ]
      },
      {
       "output_type": "stream",
       "stream": "stdout",
       "text": [
        "\n",
        "cutting plane objective: 138.147386, primal objective 138.168428\n",
        "iteration 369\n",
        "OneSlackSSVM(C=0.1, break_on_bad=False, cache_tol=auto,\n",
        "       check_constraints=False, inactive_threshold=1e-05,\n",
        "       inactive_window=50, inference_cache=0, logger=None, max_iter=10000,\n",
        "       model=MultiLabelModel(n_states: 2, inference_method: ad3), n_jobs=1,\n",
        "       positive_constraint=None, show_loss_every=0, switch_to=None,\n",
        "       tol=1e-05, verbose=3)\n",
        "New violation: 0.961407 difference to last: 0.000165"
       ]
      },
      {
       "output_type": "stream",
       "stream": "stdout",
       "text": [
        "\n",
        "     pcost       dcost       gap    pres   dres"
       ]
      },
      {
       "output_type": "stream",
       "stream": "stdout",
       "text": [
        "\n",
        " 0: -1.3763e+02 -2.8933e+02  2e+02  9e-17  1e+00\n",
        " 1: -1.3777e+02 -1.4420e+02  6e+00  2e-15  5e-02\n",
        " 2: -1.3797e+02 -1.3930e+02  1e+00  1e-15  7e-03\n",
        " 3: -1.3808e+02 -1.3852e+02  4e-01  2e-15  7e-16\n",
        " 4: -1.3812e+02 -1.3820e+02  8e-02  2e-15  8e-16\n",
        " 5: -1.3814e+02 -1.3816e+02  2e-02  2e-15  8e-16\n",
        " 6: -1.3815e+02 -1.3815e+02  4e-03  2e-15  7e-16\n",
        " 7: -1.3815e+02 -1.3815e+02  8e-04  2e-15  7e-16\n",
        " 8: -1.3815e+02 -1.3815e+02  2e-04  3e-15  7e-16\n",
        " 9: -1.3815e+02 -1.3815e+02  5e-05  2e-15  8e-16"
       ]
      },
      {
       "output_type": "stream",
       "stream": "stdout",
       "text": [
        "\n",
        "Optimal solution found.\n",
        "164 support vectors out of 246 points\n",
        "cutting plane objective: 138.147390, primal objective 138.167362\n",
        "iteration 370\n",
        "OneSlackSSVM(C=0.1, break_on_bad=False, cache_tol=auto,\n",
        "       check_constraints=False, inactive_threshold=1e-05,\n",
        "       inactive_window=50, inference_cache=0, logger=None, max_iter=10000,\n",
        "       model=MultiLabelModel(n_states: 2, inference_method: ad3), n_jobs=1,\n",
        "       positive_constraint=None, show_loss_every=0, switch_to=None,\n",
        "       tol=1e-05, verbose=3)\n",
        "New violation: 0.961380 difference to last: 0.000152"
       ]
      },
      {
       "output_type": "stream",
       "stream": "stdout",
       "text": [
        "\n",
        "     pcost       dcost       gap    pres   dres"
       ]
      },
      {
       "output_type": "stream",
       "stream": "stdout",
       "text": [
        "\n",
        " 0: -1.3763e+02 -2.8875e+02  2e+02  9e-16  1e+00\n",
        " 1: -1.3777e+02 -1.4421e+02  6e+00  1e-15  6e-02\n",
        " 2: -1.3797e+02 -1.3930e+02  1e+00  1e-15  7e-03\n",
        " 3: -1.3808e+02 -1.3852e+02  4e-01  2e-15  8e-16\n",
        " 4: -1.3812e+02 -1.3820e+02  8e-02  2e-15  8e-16\n",
        " 5: -1.3814e+02 -1.3816e+02  2e-02  2e-15  7e-16\n",
        " 6: -1.3815e+02 -1.3815e+02  3e-03  2e-15  7e-16\n",
        " 7: -1.3815e+02 -1.3815e+02  8e-04  2e-15  7e-16\n",
        " 8: -1.3815e+02 -1.3815e+02  2e-04  2e-15  7e-16\n",
        " 9: -1.3815e+02 -1.3815e+02  6e-05  3e-15  7e-16\n",
        "Optimal solution found.\n",
        "166 support vectors out of 247 points"
       ]
      },
      {
       "output_type": "stream",
       "stream": "stdout",
       "text": [
        "\n",
        "cutting plane objective: 138.147394, primal objective 138.165799\n",
        "iteration 371\n",
        "OneSlackSSVM(C=0.1, break_on_bad=False, cache_tol=auto,\n",
        "       check_constraints=False, inactive_threshold=1e-05,\n",
        "       inactive_window=50, inference_cache=0, logger=None, max_iter=10000,\n",
        "       model=MultiLabelModel(n_states: 2, inference_method: ad3), n_jobs=1,\n",
        "       positive_constraint=None, show_loss_every=0, switch_to=None,\n",
        "       tol=1e-05, verbose=3)\n",
        "New violation: 0.961384 difference to last: 0.000154"
       ]
      },
      {
       "output_type": "stream",
       "stream": "stdout",
       "text": [
        "\n",
        "     pcost       dcost       gap    pres   dres"
       ]
      },
      {
       "output_type": "stream",
       "stream": "stdout",
       "text": [
        "\n",
        " 0: -1.3763e+02 -2.8862e+02  2e+02  5e-16  1e+00\n",
        " 1: -1.3778e+02 -1.4414e+02  6e+00  2e-15  5e-02\n",
        " 2: -1.3797e+02 -1.3928e+02  1e+00  1e-15  7e-03\n",
        " 3: -1.3808e+02 -1.3851e+02  4e-01  3e-15  8e-16\n",
        " 4: -1.3812e+02 -1.3820e+02  8e-02  2e-15  7e-16\n",
        " 5: -1.3814e+02 -1.3816e+02  2e-02  2e-15  7e-16\n",
        " 6: -1.3815e+02 -1.3815e+02  3e-03  2e-15  8e-16\n",
        " 7: -1.3815e+02 -1.3815e+02  9e-04  3e-15  7e-16\n",
        " 8: -1.3815e+02 -1.3815e+02  2e-04  3e-15  7e-16"
       ]
      },
      {
       "output_type": "stream",
       "stream": "stdout",
       "text": [
        "\n",
        " 9: -1.3815e+02 -1.3815e+02  5e-05  3e-15  7e-16\n",
        "Optimal solution found.\n",
        "167 support vectors out of 248 points\n",
        "cutting plane objective: 138.147403, primal objective 138.166131\n",
        "iteration 372\n",
        "OneSlackSSVM(C=0.1, break_on_bad=False, cache_tol=auto,\n",
        "       check_constraints=False, inactive_threshold=1e-05,\n",
        "       inactive_window=50, inference_cache=0, logger=None, max_iter=10000,\n",
        "       model=MultiLabelModel(n_states: 2, inference_method: ad3), n_jobs=1,\n",
        "       positive_constraint=None, show_loss_every=0, switch_to=None,\n",
        "       tol=1e-05, verbose=3)\n",
        "New violation: 0.961388 difference to last: 0.000155"
       ]
      },
      {
       "output_type": "stream",
       "stream": "stdout",
       "text": [
        "\n",
        "     pcost       dcost       gap    pres   dres"
       ]
      },
      {
       "output_type": "stream",
       "stream": "stdout",
       "text": [
        "\n",
        " 0: -1.3763e+02 -2.8866e+02  2e+02  2e-16  1e+00\n",
        " 1: -1.3778e+02 -1.4410e+02  6e+00  1e-15  5e-02\n",
        " 2: -1.3797e+02 -1.3928e+02  1e+00  1e-15  7e-03\n",
        " 3: -1.3808e+02 -1.3851e+02  4e-01  2e-15  8e-16\n",
        " 4: -1.3812e+02 -1.3820e+02  8e-02  2e-15  8e-16\n",
        " 5: -1.3814e+02 -1.3816e+02  2e-02  3e-15  7e-16\n",
        " 6: -1.3815e+02 -1.3815e+02  3e-03  3e-15  7e-16\n",
        " 7: -1.3815e+02 -1.3815e+02  9e-04  3e-15  7e-16\n",
        " 8: -1.3815e+02 -1.3815e+02  2e-04  3e-15  7e-16\n",
        " 9: -1.3815e+02 -1.3815e+02  5e-05  3e-15  8e-16"
       ]
      },
      {
       "output_type": "stream",
       "stream": "stdout",
       "text": [
        "\n",
        "Optimal solution found.\n",
        "163 support vectors out of 249 points\n",
        "cutting plane objective: 138.147417, primal objective 138.166194\n",
        "iteration 373\n",
        "OneSlackSSVM(C=0.1, break_on_bad=False, cache_tol=auto,\n",
        "       check_constraints=False, inactive_threshold=1e-05,\n",
        "       inactive_window=50, inference_cache=0, logger=None, max_iter=10000,\n",
        "       model=MultiLabelModel(n_states: 2, inference_method: ad3), n_jobs=1,\n",
        "       positive_constraint=None, show_loss_every=0, switch_to=None,\n",
        "       tol=1e-05, verbose=3)\n",
        "New violation: 0.961370 difference to last: 0.000153"
       ]
      },
      {
       "output_type": "stream",
       "stream": "stdout",
       "text": [
        "\n",
        "     pcost       dcost       gap    pres   dres"
       ]
      },
      {
       "output_type": "stream",
       "stream": "stdout",
       "text": [
        "\n",
        " 0: -1.3763e+02 -2.8841e+02  2e+02  5e-16  1e+00\n",
        " 1: -1.3778e+02 -1.4415e+02  6e+00  1e-15  5e-02\n",
        " 2: -1.3797e+02 -1.3929e+02  1e+00  1e-15  7e-03\n",
        " 3: -1.3808e+02 -1.3851e+02  4e-01  2e-15  8e-16\n",
        " 4: -1.3812e+02 -1.3820e+02  8e-02  2e-15  7e-16\n",
        " 5: -1.3814e+02 -1.3816e+02  2e-02  3e-15  7e-16\n",
        " 6: -1.3815e+02 -1.3815e+02  3e-03  2e-15  8e-16\n",
        " 7: -1.3815e+02 -1.3815e+02  9e-04  3e-15  7e-16\n",
        " 8: -1.3815e+02 -1.3815e+02  2e-04  3e-15  7e-16\n",
        " 9: -1.3815e+02 -1.3815e+02  5e-05  2e-15  7e-16"
       ]
      },
      {
       "output_type": "stream",
       "stream": "stdout",
       "text": [
        "\n",
        "Optimal solution found.\n",
        "165 support vectors out of 250 points\n",
        "cutting plane objective: 138.147424, primal objective 138.166024\n",
        "iteration 374\n",
        "OneSlackSSVM(C=0.1, break_on_bad=False, cache_tol=auto,\n",
        "       check_constraints=False, inactive_threshold=1e-05,\n",
        "       inactive_window=50, inference_cache=0, logger=None, max_iter=10000,\n",
        "       model=MultiLabelModel(n_states: 2, inference_method: ad3), n_jobs=1,\n",
        "       positive_constraint=None, show_loss_every=0, switch_to=None,\n",
        "       tol=1e-05, verbose=3)\n",
        "New violation: 0.961378 difference to last: 0.000153"
       ]
      },
      {
       "output_type": "stream",
       "stream": "stdout",
       "text": [
        "\n",
        "     pcost       dcost       gap    pres   dres"
       ]
      },
      {
       "output_type": "stream",
       "stream": "stdout",
       "text": [
        "\n",
        " 0: -1.3764e+02 -2.8836e+02  2e+02  6e-16  1e+00\n",
        " 1: -1.3778e+02 -1.4403e+02  6e+00  1e-15  5e-02\n",
        " 2: -1.3797e+02 -1.3927e+02  1e+00  1e-15  7e-03\n",
        " 3: -1.3809e+02 -1.3851e+02  4e-01  2e-15  7e-16\n",
        " 4: -1.3812e+02 -1.3820e+02  8e-02  1e-15  8e-16\n",
        " 5: -1.3814e+02 -1.3816e+02  2e-02  2e-15  8e-16\n",
        " 6: -1.3815e+02 -1.3815e+02  4e-03  2e-15  7e-16\n",
        " 7: -1.3815e+02 -1.3815e+02  9e-04  3e-15  8e-16\n",
        " 8: -1.3815e+02 -1.3815e+02  2e-04  3e-15  7e-16\n",
        " 9: -1.3815e+02 -1.3815e+02  4e-05  3e-15  7e-16"
       ]
      },
      {
       "output_type": "stream",
       "stream": "stdout",
       "text": [
        "\n",
        "Optimal solution found.\n",
        "165 support vectors out of 251 points\n",
        "cutting plane objective: 138.147436, primal objective 138.166056\n",
        "iteration 375\n",
        "OneSlackSSVM(C=0.1, break_on_bad=False, cache_tol=auto,\n",
        "       check_constraints=False, inactive_threshold=1e-05,\n",
        "       inactive_window=50, inference_cache=0, logger=None, max_iter=10000,\n",
        "       model=MultiLabelModel(n_states: 2, inference_method: ad3), n_jobs=1,\n",
        "       positive_constraint=None, show_loss_every=0, switch_to=None,\n",
        "       tol=1e-05, verbose=3)\n",
        "New violation: 0.961385 difference to last: 0.000156"
       ]
      },
      {
       "output_type": "stream",
       "stream": "stdout",
       "text": [
        "\n",
        "     pcost       dcost       gap    pres   dres"
       ]
      },
      {
       "output_type": "stream",
       "stream": "stdout",
       "text": [
        "\n",
        " 0: -1.3763e+02 -2.8864e+02  2e+02  7e-16  1e+00\n",
        " 1: -1.3778e+02 -1.4413e+02  6e+00  1e-15  5e-02\n",
        " 2: -1.3797e+02 -1.3928e+02  1e+00  1e-15  8e-03\n",
        " 3: -1.3809e+02 -1.3852e+02  4e-01  2e-15  7e-16\n",
        " 4: -1.3812e+02 -1.3820e+02  8e-02  2e-15  7e-16\n",
        " 5: -1.3814e+02 -1.3816e+02  2e-02  2e-15  8e-16\n",
        " 6: -1.3815e+02 -1.3815e+02  4e-03  3e-15  7e-16\n",
        " 7: -1.3815e+02 -1.3815e+02  8e-04  3e-15  7e-16\n",
        " 8: -1.3815e+02 -1.3815e+02  2e-04  3e-15  7e-16\n",
        " 9: -1.3815e+02 -1.3815e+02  5e-05  2e-15  7e-16"
       ]
      },
      {
       "output_type": "stream",
       "stream": "stdout",
       "text": [
        "\n",
        "Optimal solution found.\n",
        "171 support vectors out of 252 points\n",
        "cutting plane objective: 138.147436, primal objective 138.166362\n",
        "iteration 376\n",
        "OneSlackSSVM(C=0.1, break_on_bad=False, cache_tol=auto,\n",
        "       check_constraints=False, inactive_threshold=1e-05,\n",
        "       inactive_window=50, inference_cache=0, logger=None, max_iter=10000,\n",
        "       model=MultiLabelModel(n_states: 2, inference_method: ad3), n_jobs=1,\n",
        "       positive_constraint=None, show_loss_every=0, switch_to=None,\n",
        "       tol=1e-05, verbose=3)\n",
        "New violation: 0.961350 difference to last: 0.000132"
       ]
      },
      {
       "output_type": "stream",
       "stream": "stdout",
       "text": [
        "\n",
        "     pcost       dcost       gap    pres   dres"
       ]
      },
      {
       "output_type": "stream",
       "stream": "stdout",
       "text": [
        "\n",
        " 0: -1.3764e+02 -2.8834e+02  2e+02  5e-16  1e+00\n",
        " 1: -1.3778e+02 -1.4405e+02  6e+00  1e-15  5e-02\n",
        " 2: -1.3797e+02 -1.3927e+02  1e+00  2e-15  8e-03\n",
        " 3: -1.3809e+02 -1.3854e+02  5e-01  2e-15  8e-16\n",
        " 4: -1.3812e+02 -1.3820e+02  8e-02  2e-15  8e-16\n",
        " 5: -1.3814e+02 -1.3816e+02  2e-02  3e-15  7e-16\n",
        " 6: -1.3815e+02 -1.3815e+02  4e-03  2e-15  7e-16\n",
        " 7: -1.3815e+02 -1.3815e+02  9e-04  3e-15  7e-16\n",
        " 8: -1.3815e+02 -1.3815e+02  2e-04  3e-15  7e-16"
       ]
      },
      {
       "output_type": "stream",
       "stream": "stdout",
       "text": [
        "\n",
        " 9: -1.3815e+02 -1.3815e+02  9e-05  3e-15  6e-16\n",
        "Optimal solution found.\n",
        "185 support vectors out of 253 points\n",
        "cutting plane objective: 138.147423, primal objective 138.163411\n",
        "iteration 377\n",
        "OneSlackSSVM(C=0.1, break_on_bad=False, cache_tol=auto,\n",
        "       check_constraints=False, inactive_threshold=1e-05,\n",
        "       inactive_window=50, inference_cache=0, logger=None, max_iter=10000,\n",
        "       model=MultiLabelModel(n_states: 2, inference_method: ad3), n_jobs=1,\n",
        "       positive_constraint=None, show_loss_every=0, switch_to=None,\n",
        "       tol=1e-05, verbose=3)\n",
        "New violation: 0.961353 difference to last: 0.000136"
       ]
      },
      {
       "output_type": "stream",
       "stream": "stdout",
       "text": [
        "\n",
        "     pcost       dcost       gap    pres   dres"
       ]
      },
      {
       "output_type": "stream",
       "stream": "stdout",
       "text": [
        "\n",
        " 0: -1.3764e+02 -2.8799e+02  2e+02  2e-16  1e+00\n",
        " 1: -1.3778e+02 -1.4406e+02  6e+00  1e-15  5e-02\n",
        " 2: -1.3797e+02 -1.3929e+02  1e+00  1e-15  8e-03\n",
        " 3: -1.3808e+02 -1.3852e+02  4e-01  2e-15  8e-16\n",
        " 4: -1.3812e+02 -1.3820e+02  8e-02  2e-15  7e-16\n",
        " 5: -1.3814e+02 -1.3816e+02  2e-02  2e-15  8e-16\n",
        " 6: -1.3815e+02 -1.3815e+02  4e-03  3e-15  8e-16\n",
        " 7: -1.3815e+02 -1.3815e+02  9e-04  3e-15  6e-16\n",
        " 8: -1.3815e+02 -1.3815e+02  2e-04  3e-15  7e-16\n",
        " 9: -1.3815e+02 -1.3815e+02  8e-05  3e-15  7e-16"
       ]
      },
      {
       "output_type": "stream",
       "stream": "stdout",
       "text": [
        "\n",
        "Optimal solution found.\n",
        "184 support vectors out of 254 points\n",
        "cutting plane objective: 138.147435, primal objective 138.163998\n",
        "iteration 378\n",
        "OneSlackSSVM(C=0.1, break_on_bad=False, cache_tol=auto,\n",
        "       check_constraints=False, inactive_threshold=1e-05,\n",
        "       inactive_window=50, inference_cache=0, logger=None, max_iter=10000,\n",
        "       model=MultiLabelModel(n_states: 2, inference_method: ad3), n_jobs=1,\n",
        "       positive_constraint=None, show_loss_every=0, switch_to=None,\n",
        "       tol=1e-05, verbose=3)\n",
        "New violation: 0.961359 difference to last: 0.000142"
       ]
      },
      {
       "output_type": "stream",
       "stream": "stdout",
       "text": [
        "\n",
        "     pcost       dcost       gap    pres   dres"
       ]
      },
      {
       "output_type": "stream",
       "stream": "stdout",
       "text": [
        "\n",
        " 0: -1.3764e+02 -2.8780e+02  2e+02  3e-16  1e+00\n",
        " 1: -1.3778e+02 -1.4400e+02  6e+00  1e-15  5e-02\n",
        " 2: -1.3797e+02 -1.3927e+02  1e+00  1e-15  8e-03\n",
        " 3: -1.3809e+02 -1.3852e+02  4e-01  2e-15  7e-16\n",
        " 4: -1.3812e+02 -1.3820e+02  8e-02  2e-15  8e-16\n",
        " 5: -1.3814e+02 -1.3816e+02  2e-02  3e-15  7e-16\n",
        " 6: -1.3815e+02 -1.3815e+02  4e-03  2e-15  8e-16\n",
        " 7: -1.3815e+02 -1.3815e+02  9e-04  2e-15  8e-16\n",
        " 8: -1.3815e+02 -1.3815e+02  2e-04  4e-15  7e-16\n",
        " 9: -1.3815e+02 -1.3815e+02  8e-05  3e-15  7e-16"
       ]
      },
      {
       "output_type": "stream",
       "stream": "stdout",
       "text": [
        "\n",
        "Optimal solution found.\n",
        "185 support vectors out of 255 points\n",
        "cutting plane objective: 138.147441, primal objective 138.164760\n",
        "iteration 379\n",
        "OneSlackSSVM(C=0.1, break_on_bad=False, cache_tol=auto,\n",
        "       check_constraints=False, inactive_threshold=1e-05,\n",
        "       inactive_window=50, inference_cache=0, logger=None, max_iter=10000,\n",
        "       model=MultiLabelModel(n_states: 2, inference_method: ad3), n_jobs=1,\n",
        "       positive_constraint=None, show_loss_every=0, switch_to=None,\n",
        "       tol=1e-05, verbose=3)\n",
        "New violation: 0.961362 difference to last: 0.000143"
       ]
      },
      {
       "output_type": "stream",
       "stream": "stdout",
       "text": [
        "\n",
        "     pcost       dcost       gap    pres   dres"
       ]
      },
      {
       "output_type": "stream",
       "stream": "stdout",
       "text": [
        "\n",
        " 0: -1.3765e+02 -2.8778e+02  2e+02  2e-16  1e+00\n",
        " 1: -1.3778e+02 -1.4396e+02  6e+00  1e-15  5e-02\n",
        " 2: -1.3797e+02 -1.3927e+02  1e+00  1e-15  8e-03\n",
        " 3: -1.3809e+02 -1.3852e+02  4e-01  2e-15  7e-16\n",
        " 4: -1.3812e+02 -1.3820e+02  8e-02  2e-15  7e-16\n",
        " 5: -1.3814e+02 -1.3816e+02  2e-02  2e-15  8e-16\n",
        " 6: -1.3815e+02 -1.3815e+02  4e-03  2e-15  7e-16\n",
        " 7: -1.3815e+02 -1.3815e+02  9e-04  2e-15  6e-16\n",
        " 8: -1.3815e+02 -1.3815e+02  2e-04  2e-15  7e-16"
       ]
      },
      {
       "output_type": "stream",
       "stream": "stdout",
       "text": [
        "\n",
        " 9: -1.3815e+02 -1.3815e+02  9e-05  2e-15  7e-16\n",
        "Optimal solution found.\n",
        "187 support vectors out of 256 points\n",
        "cutting plane objective: 138.147444, primal objective 138.164806\n",
        "iteration 380\n",
        "OneSlackSSVM(C=0.1, break_on_bad=False, cache_tol=auto,\n",
        "       check_constraints=False, inactive_threshold=1e-05,\n",
        "       inactive_window=50, inference_cache=0, logger=None, max_iter=10000,\n",
        "       model=MultiLabelModel(n_states: 2, inference_method: ad3), n_jobs=1,\n",
        "       positive_constraint=None, show_loss_every=0, switch_to=None,\n",
        "       tol=1e-05, verbose=3)\n",
        "New violation: 0.961343 difference to last: 0.000126"
       ]
      },
      {
       "output_type": "stream",
       "stream": "stdout",
       "text": [
        "\n",
        "     pcost       dcost       gap    pres   dres"
       ]
      },
      {
       "output_type": "stream",
       "stream": "stdout",
       "text": [
        "\n",
        " 0: -1.3765e+02 -2.8724e+02  1e+02  2e-16  1e+00\n",
        " 1: -1.3779e+02 -1.4394e+02  6e+00  1e-15  5e-02\n",
        " 2: -1.3797e+02 -1.3926e+02  1e+00  1e-15  8e-03\n",
        " 3: -1.3809e+02 -1.3854e+02  5e-01  2e-15  8e-16\n",
        " 4: -1.3812e+02 -1.3820e+02  8e-02  2e-15  7e-16\n",
        " 5: -1.3814e+02 -1.3816e+02  2e-02  2e-15  7e-16\n",
        " 6: -1.3815e+02 -1.3815e+02  4e-03  2e-15  8e-16\n",
        " 7: -1.3815e+02 -1.3815e+02  1e-03  3e-15  8e-16\n",
        " 8: -1.3815e+02 -1.3815e+02  2e-04  3e-15  7e-16"
       ]
      },
      {
       "output_type": "stream",
       "stream": "stdout",
       "text": [
        "\n",
        " 9: -1.3815e+02 -1.3815e+02  8e-05  3e-15  7e-16\n",
        "Optimal solution found.\n",
        "186 support vectors out of 257 points\n",
        "cutting plane objective: 138.147459, primal objective 138.162820\n",
        "iteration 381\n",
        "OneSlackSSVM(C=0.1, break_on_bad=False, cache_tol=auto,\n",
        "       check_constraints=False, inactive_threshold=1e-05,\n",
        "       inactive_window=50, inference_cache=0, logger=None, max_iter=10000,\n",
        "       model=MultiLabelModel(n_states: 2, inference_method: ad3), n_jobs=1,\n",
        "       positive_constraint=None, show_loss_every=0, switch_to=None,\n",
        "       tol=1e-05, verbose=3)\n",
        "New violation: 0.961332 difference to last: 0.000124"
       ]
      },
      {
       "output_type": "stream",
       "stream": "stdout",
       "text": [
        "\n",
        "     pcost       dcost       gap    pres   dres"
       ]
      },
      {
       "output_type": "stream",
       "stream": "stdout",
       "text": [
        "\n",
        " 0: -1.3766e+02 -2.8700e+02  1e+02  4e-16  1e+00\n",
        " 1: -1.3779e+02 -1.4386e+02  6e+00  1e-15  5e-02\n",
        " 2: -1.3798e+02 -1.3925e+02  1e+00  1e-15  8e-03\n",
        " 3: -1.3809e+02 -1.3854e+02  5e-01  2e-15  8e-16\n",
        " 4: -1.3812e+02 -1.3821e+02  8e-02  2e-15  8e-16\n",
        " 5: -1.3814e+02 -1.3816e+02  2e-02  2e-15  7e-16\n",
        " 6: -1.3815e+02 -1.3815e+02  4e-03  2e-15  7e-16\n",
        " 7: -1.3815e+02 -1.3815e+02  1e-03  2e-15  8e-16\n",
        " 8: -1.3815e+02 -1.3815e+02  2e-04  2e-15  8e-16"
       ]
      },
      {
       "output_type": "stream",
       "stream": "stdout",
       "text": [
        "\n",
        " 9: -1.3815e+02 -1.3815e+02  6e-05  2e-15  8e-16\n",
        "Optimal solution found.\n",
        "176 support vectors out of 258 points\n",
        "cutting plane objective: 138.147474, primal objective 138.162492\n",
        "iteration 382\n",
        "OneSlackSSVM(C=0.1, break_on_bad=False, cache_tol=auto,\n",
        "       check_constraints=False, inactive_threshold=1e-05,\n",
        "       inactive_window=50, inference_cache=0, logger=None, max_iter=10000,\n",
        "       model=MultiLabelModel(n_states: 2, inference_method: ad3), n_jobs=1,\n",
        "       positive_constraint=None, show_loss_every=0, switch_to=None,\n",
        "       tol=1e-05, verbose=3)\n",
        "New violation: 0.961338 difference to last: 0.000126"
       ]
      },
      {
       "output_type": "stream",
       "stream": "stdout",
       "text": [
        "\n",
        "     pcost       dcost       gap    pres   dres"
       ]
      },
      {
       "output_type": "stream",
       "stream": "stdout",
       "text": [
        "\n",
        " 0: -1.3766e+02 -2.8689e+02  1e+02  2e-17  1e+00\n",
        " 1: -1.3779e+02 -1.4398e+02  6e+00  1e-15  5e-02\n",
        " 2: -1.3797e+02 -1.3928e+02  1e+00  1e-15  8e-03\n",
        " 3: -1.3809e+02 -1.3853e+02  4e-01  2e-15  7e-16\n",
        " 4: -1.3812e+02 -1.3820e+02  8e-02  2e-15  7e-16\n",
        " 5: -1.3814e+02 -1.3816e+02  2e-02  2e-15  7e-16\n",
        " 6: -1.3815e+02 -1.3815e+02  4e-03  2e-15  7e-16\n",
        " 7: -1.3815e+02 -1.3815e+02  1e-03  3e-15  7e-16\n",
        " 8: -1.3815e+02 -1.3815e+02  2e-04  2e-15  8e-16\n",
        " 9: -1.3815e+02 -1.3815e+02  7e-05  2e-15  6e-16"
       ]
      },
      {
       "output_type": "stream",
       "stream": "stdout",
       "text": [
        "\n",
        "Optimal solution found.\n",
        "186 support vectors out of 259 points\n",
        "cutting plane objective: 138.147474, primal objective 138.162819\n",
        "iteration 383\n",
        "OneSlackSSVM(C=0.1, break_on_bad=False, cache_tol=auto,\n",
        "       check_constraints=False, inactive_threshold=1e-05,\n",
        "       inactive_window=50, inference_cache=0, logger=None, max_iter=10000,\n",
        "       model=MultiLabelModel(n_states: 2, inference_method: ad3), n_jobs=1,\n",
        "       positive_constraint=None, show_loss_every=0, switch_to=None,\n",
        "       tol=1e-05, verbose=3)\n",
        "New violation: 0.961338 difference to last: 0.000130"
       ]
      },
      {
       "output_type": "stream",
       "stream": "stdout",
       "text": [
        "\n",
        "     pcost       dcost       gap    pres   dres"
       ]
      },
      {
       "output_type": "stream",
       "stream": "stdout",
       "text": [
        "\n",
        " 0: -1.3766e+02 -2.8687e+02  1e+02  2e-16  1e+00\n",
        " 1: -1.3779e+02 -1.4395e+02  6e+00  1e-15  5e-02\n",
        " 2: -1.3797e+02 -1.3927e+02  1e+00  1e-15  8e-03\n",
        " 3: -1.3809e+02 -1.3853e+02  4e-01  2e-15  8e-16\n",
        " 4: -1.3812e+02 -1.3820e+02  8e-02  2e-15  8e-16\n",
        " 5: -1.3814e+02 -1.3816e+02  2e-02  2e-15  8e-16\n",
        " 6: -1.3815e+02 -1.3815e+02  4e-03  3e-15  8e-16\n",
        " 7: -1.3815e+02 -1.3815e+02  1e-03  3e-15  7e-16\n",
        " 8: -1.3815e+02 -1.3815e+02  2e-04  2e-15  7e-16\n",
        " 9: -1.3815e+02 -1.3815e+02  6e-05  3e-15  8e-16"
       ]
      },
      {
       "output_type": "stream",
       "stream": "stdout",
       "text": [
        "\n",
        "Optimal solution found.\n",
        "182 support vectors out of 260 points\n",
        "cutting plane objective: 138.147484, primal objective 138.163302\n",
        "iteration 384\n",
        "OneSlackSSVM(C=0.1, break_on_bad=False, cache_tol=auto,\n",
        "       check_constraints=False, inactive_threshold=1e-05,\n",
        "       inactive_window=50, inference_cache=0, logger=None, max_iter=10000,\n",
        "       model=MultiLabelModel(n_states: 2, inference_method: ad3), n_jobs=1,\n",
        "       positive_constraint=None, show_loss_every=0, switch_to=None,\n",
        "       tol=1e-05, verbose=3)\n",
        "New violation: 0.961338 difference to last: 0.000127"
       ]
      },
      {
       "output_type": "stream",
       "stream": "stdout",
       "text": [
        "\n",
        "     pcost       dcost       gap    pres   dres"
       ]
      },
      {
       "output_type": "stream",
       "stream": "stdout",
       "text": [
        "\n",
        " 0: -1.3766e+02 -2.8654e+02  1e+02  1e-16  1e+00\n",
        " 1: -1.3779e+02 -1.4402e+02  6e+00  1e-15  5e-02\n",
        " 2: -1.3797e+02 -1.3931e+02  1e+00  1e-15  8e-03\n",
        " 3: -1.3809e+02 -1.3851e+02  4e-01  2e-15  8e-16\n",
        " 4: -1.3812e+02 -1.3820e+02  8e-02  2e-15  7e-16\n",
        " 5: -1.3814e+02 -1.3816e+02  2e-02  2e-15  7e-16\n",
        " 6: -1.3815e+02 -1.3815e+02  3e-03  2e-15  7e-16\n",
        " 7: -1.3815e+02 -1.3815e+02  9e-04  2e-15  7e-16\n",
        " 8: -1.3815e+02 -1.3815e+02  2e-04  3e-15  8e-16\n",
        " 9: -1.3815e+02 -1.3815e+02  8e-05  2e-15  7e-16"
       ]
      },
      {
       "output_type": "stream",
       "stream": "stdout",
       "text": [
        "\n",
        "Optimal solution found.\n",
        "190 support vectors out of 261 points\n",
        "cutting plane objective: 138.147481, primal objective 138.162909\n",
        "iteration 385\n",
        "OneSlackSSVM(C=0.1, break_on_bad=False, cache_tol=auto,\n",
        "       check_constraints=False, inactive_threshold=1e-05,\n",
        "       inactive_window=50, inference_cache=0, logger=None, max_iter=10000,\n",
        "       model=MultiLabelModel(n_states: 2, inference_method: ad3), n_jobs=1,\n",
        "       positive_constraint=None, show_loss_every=0, switch_to=None,\n",
        "       tol=1e-05, verbose=3)\n",
        "New violation: 0.961328 difference to last: 0.000125"
       ]
      },
      {
       "output_type": "stream",
       "stream": "stdout",
       "text": [
        "\n",
        "     pcost       dcost       gap    pres   dres"
       ]
      },
      {
       "output_type": "stream",
       "stream": "stdout",
       "text": [
        "\n",
        " 0: -1.3766e+02 -2.8707e+02  1e+02  3e-16  1e+00\n",
        " 1: -1.3779e+02 -1.4407e+02  6e+00  1e-15  5e-02\n",
        " 2: -1.3797e+02 -1.3933e+02  1e+00  1e-15  9e-03\n",
        " 3: -1.3809e+02 -1.3850e+02  4e-01  2e-15  8e-16\n",
        " 4: -1.3812e+02 -1.3820e+02  8e-02  2e-15  8e-16\n",
        " 5: -1.3814e+02 -1.3816e+02  2e-02  2e-15  7e-16\n",
        " 6: -1.3815e+02 -1.3815e+02  3e-03  3e-15  8e-16\n",
        " 7: -1.3815e+02 -1.3815e+02  9e-04  2e-15  7e-16\n",
        " 8: -1.3815e+02 -1.3815e+02  2e-04  3e-15  8e-16"
       ]
      },
      {
       "output_type": "stream",
       "stream": "stdout",
       "text": [
        "\n",
        " 9: -1.3815e+02 -1.3815e+02  7e-05  3e-15  7e-16\n",
        "Optimal solution found.\n",
        "191 support vectors out of 262 points\n",
        "cutting plane objective: 138.147492, primal objective 138.162656\n",
        "iteration 386\n",
        "OneSlackSSVM(C=0.1, break_on_bad=False, cache_tol=auto,\n",
        "       check_constraints=False, inactive_threshold=1e-05,\n",
        "       inactive_window=50, inference_cache=0, logger=None, max_iter=10000,\n",
        "       model=MultiLabelModel(n_states: 2, inference_method: ad3), n_jobs=1,\n",
        "       positive_constraint=None, show_loss_every=0, switch_to=None,\n",
        "       tol=1e-05, verbose=3)\n",
        "New violation: 0.961331 difference to last: 0.000127"
       ]
      },
      {
       "output_type": "stream",
       "stream": "stdout",
       "text": [
        "\n",
        "     pcost       dcost       gap    pres   dres"
       ]
      },
      {
       "output_type": "stream",
       "stream": "stdout",
       "text": [
        "\n",
        " 0: -1.3766e+02 -2.8663e+02  1e+02  4e-16  1e+00\n",
        " 1: -1.3779e+02 -1.4406e+02  6e+00  1e-15  5e-02\n",
        " 2: -1.3797e+02 -1.3932e+02  1e+00  1e-15  8e-03\n",
        " 3: -1.3809e+02 -1.3852e+02  4e-01  1e-15  7e-16\n",
        " 4: -1.3812e+02 -1.3820e+02  8e-02  2e-15  7e-16\n",
        " 5: -1.3814e+02 -1.3816e+02  2e-02  2e-15  7e-16\n",
        " 6: -1.3815e+02 -1.3815e+02  3e-03  2e-15  7e-16\n",
        " 7: -1.3815e+02 -1.3815e+02  9e-04  3e-15  7e-16\n",
        " 8: -1.3815e+02 -1.3815e+02  2e-04  3e-15  7e-16"
       ]
      },
      {
       "output_type": "stream",
       "stream": "stdout",
       "text": [
        "\n",
        " 9: -1.3815e+02 -1.3815e+02  7e-05  3e-15  7e-16\n",
        "Optimal solution found.\n",
        "189 support vectors out of 263 points\n",
        "cutting plane objective: 138.147502, primal objective 138.162978\n",
        "iteration 387\n",
        "OneSlackSSVM(C=0.1, break_on_bad=False, cache_tol=auto,\n",
        "       check_constraints=False, inactive_threshold=1e-05,\n",
        "       inactive_window=50, inference_cache=0, logger=None, max_iter=10000,\n",
        "       model=MultiLabelModel(n_states: 2, inference_method: ad3), n_jobs=1,\n",
        "       positive_constraint=None, show_loss_every=0, switch_to=None,\n",
        "       tol=1e-05, verbose=3)\n",
        "New violation: 0.961316 difference to last: 0.000115"
       ]
      },
      {
       "output_type": "stream",
       "stream": "stdout",
       "text": [
        "\n",
        "     pcost       dcost       gap    pres   dres"
       ]
      },
      {
       "output_type": "stream",
       "stream": "stdout",
       "text": [
        "\n",
        " 0: -1.3767e+02 -2.8645e+02  1e+02  2e-16  1e+00\n",
        " 1: -1.3779e+02 -1.4402e+02  6e+00  1e-15  5e-02\n",
        " 2: -1.3797e+02 -1.3930e+02  1e+00  1e-15  8e-03\n",
        " 3: -1.3809e+02 -1.3852e+02  4e-01  2e-15  8e-16\n",
        " 4: -1.3812e+02 -1.3820e+02  8e-02  2e-15  8e-16\n",
        " 5: -1.3814e+02 -1.3816e+02  2e-02  3e-15  8e-16\n",
        " 6: -1.3815e+02 -1.3815e+02  4e-03  2e-15  7e-16\n",
        " 7: -1.3815e+02 -1.3815e+02  8e-04  2e-15  8e-16\n",
        " 8: -1.3815e+02 -1.3815e+02  2e-04  2e-15  7e-16"
       ]
      },
      {
       "output_type": "stream",
       "stream": "stdout",
       "text": [
        "\n",
        " 9: -1.3815e+02 -1.3815e+02  6e-05  2e-15  7e-16\n",
        "Optimal solution found.\n",
        "186 support vectors out of 264 points\n",
        "cutting plane objective: 138.147510, primal objective 138.161505\n",
        "iteration 388\n",
        "OneSlackSSVM(C=0.1, break_on_bad=False, cache_tol=auto,\n",
        "       check_constraints=False, inactive_threshold=1e-05,\n",
        "       inactive_window=50, inference_cache=0, logger=None, max_iter=10000,\n",
        "       model=MultiLabelModel(n_states: 2, inference_method: ad3), n_jobs=1,\n",
        "       positive_constraint=None, show_loss_every=0, switch_to=None,\n",
        "       tol=1e-05, verbose=3)\n",
        "New violation: 0.961314 difference to last: 0.000117"
       ]
      },
      {
       "output_type": "stream",
       "stream": "stdout",
       "text": [
        "\n",
        "     pcost       dcost       gap    pres   dres"
       ]
      },
      {
       "output_type": "stream",
       "stream": "stdout",
       "text": [
        "\n",
        " 0: -1.3767e+02 -2.8695e+02  1e+02  2e-16  1e+00\n",
        " 1: -1.3780e+02 -1.4394e+02  6e+00  1e-15  5e-02\n",
        " 2: -1.3798e+02 -1.3929e+02  1e+00  1e-15  8e-03\n",
        " 3: -1.3809e+02 -1.3852e+02  4e-01  2e-15  8e-16\n",
        " 4: -1.3812e+02 -1.3820e+02  8e-02  2e-15  7e-16\n",
        " 5: -1.3814e+02 -1.3816e+02  2e-02  2e-15  7e-16\n",
        " 6: -1.3815e+02 -1.3815e+02  3e-03  2e-15  7e-16\n",
        " 7: -1.3815e+02 -1.3815e+02  8e-04  2e-15  8e-16\n",
        " 8: -1.3815e+02 -1.3815e+02  2e-04  2e-15  7e-16"
       ]
      },
      {
       "output_type": "stream",
       "stream": "stdout",
       "text": [
        "\n",
        " 9: -1.3815e+02 -1.3815e+02  5e-05  2e-15  7e-16\n",
        "Optimal solution found.\n",
        "182 support vectors out of 265 points\n",
        "cutting plane objective: 138.147521, primal objective 138.161720\n",
        "iteration 389\n",
        "OneSlackSSVM(C=0.1, break_on_bad=False, cache_tol=auto,\n",
        "       check_constraints=False, inactive_threshold=1e-05,\n",
        "       inactive_window=50, inference_cache=0, logger=None, max_iter=10000,\n",
        "       model=MultiLabelModel(n_states: 2, inference_method: ad3), n_jobs=1,\n",
        "       positive_constraint=None, show_loss_every=0, switch_to=None,\n",
        "       tol=1e-05, verbose=3)\n",
        "New violation: 0.961310 difference to last: 0.000119"
       ]
      },
      {
       "output_type": "stream",
       "stream": "stdout",
       "text": [
        "\n",
        "     pcost       dcost       gap    pres   dres"
       ]
      },
      {
       "output_type": "stream",
       "stream": "stdout",
       "text": [
        "\n",
        " 0: -1.3767e+02 -2.8651e+02  1e+02  5e-16  1e+00\n",
        " 1: -1.3780e+02 -1.4392e+02  6e+00  1e-15  5e-02\n",
        " 2: -1.3798e+02 -1.3930e+02  1e+00  1e-15  8e-03\n",
        " 3: -1.3809e+02 -1.3852e+02  4e-01  2e-15  8e-16\n",
        " 4: -1.3812e+02 -1.3820e+02  8e-02  2e-15  8e-16\n",
        " 5: -1.3814e+02 -1.3816e+02  2e-02  2e-15  8e-16\n",
        " 6: -1.3815e+02 -1.3815e+02  4e-03  2e-15  8e-16\n",
        " 7: -1.3815e+02 -1.3815e+02  7e-04  2e-15  8e-16\n",
        " 8: -1.3815e+02 -1.3815e+02  2e-04  2e-15  7e-16"
       ]
      },
      {
       "output_type": "stream",
       "stream": "stdout",
       "text": [
        "\n",
        " 9: -1.3815e+02 -1.3815e+02  6e-05  2e-15  7e-16\n",
        "Optimal solution found.\n",
        "187 support vectors out of 266 points\n",
        "cutting plane objective: 138.147521, primal objective 138.162025\n",
        "iteration 390\n",
        "OneSlackSSVM(C=0.1, break_on_bad=False, cache_tol=auto,\n",
        "       check_constraints=False, inactive_threshold=1e-05,\n",
        "       inactive_window=50, inference_cache=0, logger=None, max_iter=10000,\n",
        "       model=MultiLabelModel(n_states: 2, inference_method: ad3), n_jobs=1,\n",
        "       positive_constraint=None, show_loss_every=0, switch_to=None,\n",
        "       tol=1e-05, verbose=3)\n",
        "New violation: 0.961292 difference to last: 0.000108"
       ]
      },
      {
       "output_type": "stream",
       "stream": "stdout",
       "text": [
        "\n",
        "     pcost       dcost       gap    pres   dres"
       ]
      },
      {
       "output_type": "stream",
       "stream": "stdout",
       "text": [
        "\n",
        " 0: -1.3767e+02 -2.8660e+02  1e+02  2e-16  1e+00\n",
        " 1: -1.3780e+02 -1.4382e+02  6e+00  1e-15  5e-02\n",
        " 2: -1.3798e+02 -1.3926e+02  1e+00  1e-15  7e-03\n",
        " 3: -1.3809e+02 -1.3855e+02  5e-01  2e-15  8e-16\n",
        " 4: -1.3812e+02 -1.3821e+02  8e-02  2e-15  8e-16\n",
        " 5: -1.3814e+02 -1.3816e+02  2e-02  2e-15  8e-16\n",
        " 6: -1.3815e+02 -1.3815e+02  3e-03  2e-15  8e-16\n",
        " 7: -1.3815e+02 -1.3815e+02  7e-04  2e-15  8e-16\n",
        " 8: -1.3815e+02 -1.3815e+02  2e-04  2e-15  8e-16"
       ]
      },
      {
       "output_type": "stream",
       "stream": "stdout",
       "text": [
        "\n",
        " 9: -1.3815e+02 -1.3815e+02  6e-05  2e-15  7e-16\n",
        "Optimal solution found.\n",
        "188 support vectors out of 267 points\n",
        "cutting plane objective: 138.147525, primal objective 138.160623\n",
        "iteration 391\n",
        "OneSlackSSVM(C=0.1, break_on_bad=False, cache_tol=auto,\n",
        "       check_constraints=False, inactive_threshold=1e-05,\n",
        "       inactive_window=50, inference_cache=0, logger=None, max_iter=10000,\n",
        "       model=MultiLabelModel(n_states: 2, inference_method: ad3), n_jobs=1,\n",
        "       positive_constraint=None, show_loss_every=0, switch_to=None,\n",
        "       tol=1e-05, verbose=3)\n",
        "New violation: 0.961281 difference to last: 0.000096"
       ]
      },
      {
       "output_type": "stream",
       "stream": "stdout",
       "text": [
        "\n",
        "     pcost       dcost       gap    pres   dres"
       ]
      },
      {
       "output_type": "stream",
       "stream": "stdout",
       "text": [
        "\n",
        " 0: -1.3768e+02 -2.8644e+02  1e+02  6e-16  1e+00\n",
        " 1: -1.3780e+02 -1.4378e+02  6e+00  1e-15  5e-02\n",
        " 2: -1.3798e+02 -1.3924e+02  1e+00  1e-15  7e-03\n",
        " 3: -1.3809e+02 -1.3855e+02  5e-01  2e-15  8e-16\n",
        " 4: -1.3812e+02 -1.3821e+02  9e-02  2e-15  8e-16\n",
        " 5: -1.3814e+02 -1.3816e+02  2e-02  2e-15  8e-16\n",
        " 6: -1.3815e+02 -1.3815e+02  4e-03  2e-15  8e-16\n",
        " 7: -1.3815e+02 -1.3815e+02  6e-04  2e-15  7e-16\n",
        " 8: -1.3815e+02 -1.3815e+02  1e-04  3e-15  7e-16"
       ]
      },
      {
       "output_type": "stream",
       "stream": "stdout",
       "text": [
        "\n",
        " 9: -1.3815e+02 -1.3815e+02  5e-05  2e-15  7e-16\n",
        "Optimal solution found.\n",
        "183 support vectors out of 268 points\n",
        "cutting plane objective: 138.147535, primal objective 138.159208\n",
        "iteration 392\n",
        "OneSlackSSVM(C=0.1, break_on_bad=False, cache_tol=auto,\n",
        "       check_constraints=False, inactive_threshold=1e-05,\n",
        "       inactive_window=50, inference_cache=0, logger=None, max_iter=10000,\n",
        "       model=MultiLabelModel(n_states: 2, inference_method: ad3), n_jobs=1,\n",
        "       positive_constraint=None, show_loss_every=0, switch_to=None,\n",
        "       tol=1e-05, verbose=3)\n",
        "New violation: 0.961290 difference to last: 0.000107"
       ]
      },
      {
       "output_type": "stream",
       "stream": "stdout",
       "text": [
        "\n",
        "     pcost       dcost       gap    pres   dres"
       ]
      },
      {
       "output_type": "stream",
       "stream": "stdout",
       "text": [
        "\n",
        " 0: -1.3767e+02 -2.8675e+02  1e+02  3e-16  1e+00\n",
        " 1: -1.3780e+02 -1.4377e+02  6e+00  1e-15  5e-02\n",
        " 2: -1.3798e+02 -1.3922e+02  1e+00  1e-15  7e-03\n",
        " 3: -1.3809e+02 -1.3858e+02  5e-01  2e-15  8e-16\n",
        " 4: -1.3812e+02 -1.3821e+02  9e-02  2e-15  8e-16\n",
        " 5: -1.3814e+02 -1.3816e+02  2e-02  2e-15  8e-16\n",
        " 6: -1.3815e+02 -1.3815e+02  4e-03  3e-15  8e-16\n",
        " 7: -1.3815e+02 -1.3815e+02  6e-04  3e-15  8e-16"
       ]
      },
      {
       "output_type": "stream",
       "stream": "stdout",
       "text": [
        "\n",
        " 8: -1.3815e+02 -1.3815e+02  1e-04  3e-15  7e-16\n",
        "Optimal solution found.\n",
        "204 support vectors out of 269 points\n",
        "cutting plane objective: 138.147498, primal objective 138.160545\n",
        "iteration 393\n",
        "OneSlackSSVM(C=0.1, break_on_bad=False, cache_tol=auto,\n",
        "       check_constraints=False, inactive_threshold=1e-05,\n",
        "       inactive_window=50, inference_cache=0, logger=None, max_iter=10000,\n",
        "       model=MultiLabelModel(n_states: 2, inference_method: ad3), n_jobs=1,\n",
        "       positive_constraint=None, show_loss_every=0, switch_to=None,\n",
        "       tol=1e-05, verbose=3)\n",
        "New violation: 0.961294 difference to last: 0.000114"
       ]
      },
      {
       "output_type": "stream",
       "stream": "stdout",
       "text": [
        "\n",
        "     pcost       dcost       gap    pres   dres"
       ]
      },
      {
       "output_type": "stream",
       "stream": "stdout",
       "text": [
        "\n",
        " 0: -1.3768e+02 -2.8653e+02  1e+02  5e-16  1e+00\n",
        " 1: -1.3780e+02 -1.4373e+02  6e+00  1e-15  5e-02\n",
        " 2: -1.3798e+02 -1.3921e+02  1e+00  1e-15  7e-03\n",
        " 3: -1.3809e+02 -1.3858e+02  5e-01  2e-15  8e-16\n",
        " 4: -1.3812e+02 -1.3822e+02  9e-02  2e-15  8e-16\n",
        " 5: -1.3814e+02 -1.3816e+02  2e-02  3e-15  7e-16\n",
        " 6: -1.3815e+02 -1.3815e+02  4e-03  2e-15  8e-16\n",
        " 7: -1.3815e+02 -1.3815e+02  6e-04  3e-15  9e-16"
       ]
      },
      {
       "output_type": "stream",
       "stream": "stdout",
       "text": [
        "\n",
        " 8: -1.3815e+02 -1.3815e+02  2e-04  3e-15  7e-16\n",
        " 9: -1.3815e+02 -1.3815e+02  4e-05  3e-15  8e-16\n",
        "Optimal solution found.\n",
        "184 support vectors out of 270 points\n",
        "cutting plane objective: 138.147544, primal objective 138.161417\n",
        "iteration 394\n",
        "OneSlackSSVM(C=0.1, break_on_bad=False, cache_tol=auto,\n",
        "       check_constraints=False, inactive_threshold=1e-05,\n",
        "       inactive_window=50, inference_cache=0, logger=None, max_iter=10000,\n",
        "       model=MultiLabelModel(n_states: 2, inference_method: ad3), n_jobs=1,\n",
        "       positive_constraint=None, show_loss_every=0, switch_to=None,\n",
        "       tol=1e-05, verbose=3)\n",
        "New violation: 0.961295 difference to last: 0.000111"
       ]
      },
      {
       "output_type": "stream",
       "stream": "stdout",
       "text": [
        "\n",
        "     pcost       dcost       gap    pres   dres"
       ]
      },
      {
       "output_type": "stream",
       "stream": "stdout",
       "text": [
        "\n",
        " 0: -1.3768e+02 -2.8651e+02  1e+02  5e-18  1e+00\n",
        " 1: -1.3780e+02 -1.4381e+02  6e+00  1e-15  5e-02\n",
        " 2: -1.3798e+02 -1.3924e+02  1e+00  1e-15  8e-03\n",
        " 3: -1.3809e+02 -1.3858e+02  5e-01  2e-15  8e-16\n",
        " 4: -1.3812e+02 -1.3822e+02  9e-02  2e-15  8e-16\n",
        " 5: -1.3814e+02 -1.3816e+02  2e-02  2e-15  8e-16\n",
        " 6: -1.3815e+02 -1.3815e+02  4e-03  2e-15  7e-16\n",
        " 7: -1.3815e+02 -1.3815e+02  7e-04  2e-15  8e-16"
       ]
      },
      {
       "output_type": "stream",
       "stream": "stdout",
       "text": [
        "\n",
        " 8: -1.3815e+02 -1.3815e+02  2e-04  2e-15  8e-16\n",
        " 9: -1.3815e+02 -1.3815e+02  5e-05  2e-15  7e-16\n",
        "Optimal solution found.\n",
        "187 support vectors out of 271 points\n",
        "cutting plane objective: 138.147545, primal objective 138.160987\n",
        "iteration 395\n",
        "OneSlackSSVM(C=0.1, break_on_bad=False, cache_tol=auto,\n",
        "       check_constraints=False, inactive_threshold=1e-05,\n",
        "       inactive_window=50, inference_cache=0, logger=None, max_iter=10000,\n",
        "       model=MultiLabelModel(n_states: 2, inference_method: ad3), n_jobs=1,\n",
        "       positive_constraint=None, show_loss_every=0, switch_to=None,\n",
        "       tol=1e-05, verbose=3)\n",
        "New violation: 0.961290 difference to last: 0.000101"
       ]
      },
      {
       "output_type": "stream",
       "stream": "stdout",
       "text": [
        "\n",
        "     pcost       dcost       gap    pres   dres"
       ]
      },
      {
       "output_type": "stream",
       "stream": "stdout",
       "text": [
        "\n",
        " 0: -1.3768e+02 -2.8618e+02  1e+02  4e-16  1e+00\n",
        " 1: -1.3780e+02 -1.4374e+02  6e+00  1e-15  5e-02\n",
        " 2: -1.3798e+02 -1.3920e+02  1e+00  1e-15  7e-03\n",
        " 3: -1.3809e+02 -1.3860e+02  5e-01  1e-15  8e-16\n",
        " 4: -1.3812e+02 -1.3822e+02  1e-01  2e-15  8e-16\n",
        " 5: -1.3814e+02 -1.3816e+02  2e-02  2e-15  8e-16\n",
        " 6: -1.3815e+02 -1.3815e+02  4e-03  2e-15  8e-16\n",
        " 7: -1.3815e+02 -1.3815e+02  7e-04  3e-15  8e-16\n",
        " 8: -1.3815e+02 -1.3815e+02  2e-04  3e-15  7e-16"
       ]
      },
      {
       "output_type": "stream",
       "stream": "stdout",
       "text": [
        "\n",
        " 9: -1.3815e+02 -1.3815e+02  6e-05  3e-15  8e-16\n",
        "Optimal solution found.\n",
        "191 support vectors out of 272 points\n",
        "cutting plane objective: 138.147545, primal objective 138.159835\n",
        "iteration 396\n",
        "OneSlackSSVM(C=0.1, break_on_bad=False, cache_tol=auto,\n",
        "       check_constraints=False, inactive_threshold=1e-05,\n",
        "       inactive_window=50, inference_cache=0, logger=None, max_iter=10000,\n",
        "       model=MultiLabelModel(n_states: 2, inference_method: ad3), n_jobs=1,\n",
        "       positive_constraint=None, show_loss_every=0, switch_to=None,\n",
        "       tol=1e-05, verbose=3)\n",
        "New violation: 0.961286 difference to last: 0.000091"
       ]
      },
      {
       "output_type": "stream",
       "stream": "stdout",
       "text": [
        "\n",
        "     pcost       dcost       gap    pres   dres"
       ]
      },
      {
       "output_type": "stream",
       "stream": "stdout",
       "text": [
        "\n",
        " 0: -1.3768e+02 -2.8619e+02  1e+02  5e-16  1e+00\n",
        " 1: -1.3780e+02 -1.4365e+02  6e+00  1e-15  5e-02\n",
        " 2: -1.3798e+02 -1.3918e+02  1e+00  1e-15  7e-03\n",
        " 3: -1.3809e+02 -1.3860e+02  5e-01  3e-15  8e-16\n",
        " 4: -1.3812e+02 -1.3822e+02  1e-01  2e-15  8e-16\n",
        " 5: -1.3814e+02 -1.3816e+02  2e-02  2e-15  8e-16\n",
        " 6: -1.3815e+02 -1.3815e+02  4e-03  3e-15  8e-16\n",
        " 7: -1.3815e+02 -1.3815e+02  9e-04  3e-15  8e-16"
       ]
      },
      {
       "output_type": "stream",
       "stream": "stdout",
       "text": [
        "\n",
        " 8: -1.3815e+02 -1.3815e+02  2e-04  2e-15  7e-16\n",
        " 9: -1.3815e+02 -1.3815e+02  7e-05  2e-15  7e-16\n",
        "Optimal solution found.\n",
        "200 support vectors out of 273 points\n",
        "cutting plane objective: 138.147541, primal objective 138.158670\n",
        "iteration 397\n",
        "OneSlackSSVM(C=0.1, break_on_bad=False, cache_tol=auto,\n",
        "       check_constraints=False, inactive_threshold=1e-05,\n",
        "       inactive_window=50, inference_cache=0, logger=None, max_iter=10000,\n",
        "       model=MultiLabelModel(n_states: 2, inference_method: ad3), n_jobs=1,\n",
        "       positive_constraint=None, show_loss_every=0, switch_to=None,\n",
        "       tol=1e-05, verbose=3)\n",
        "New violation: 0.961298 difference to last: 0.000104"
       ]
      },
      {
       "output_type": "stream",
       "stream": "stdout",
       "text": [
        "\n",
        "     pcost       dcost       gap    pres   dres"
       ]
      },
      {
       "output_type": "stream",
       "stream": "stdout",
       "text": [
        "\n",
        " 0: -1.3768e+02 -2.8617e+02  1e+02  2e-16  1e+00\n",
        " 1: -1.3781e+02 -1.4359e+02  6e+00  1e-15  5e-02\n",
        " 2: -1.3799e+02 -1.3917e+02  1e+00  1e-15  7e-03\n",
        " 3: -1.3809e+02 -1.3861e+02  5e-01  2e-15  8e-16\n",
        " 4: -1.3812e+02 -1.3822e+02  1e-01  2e-15  8e-16\n",
        " 5: -1.3814e+02 -1.3816e+02  2e-02  2e-15  8e-16\n",
        " 6: -1.3815e+02 -1.3815e+02  5e-03  2e-15  8e-16\n",
        " 7: -1.3815e+02 -1.3815e+02  1e-03  3e-15  8e-16\n",
        " 8: -1.3815e+02 -1.3815e+02  2e-04  2e-15  7e-16"
       ]
      },
      {
       "output_type": "stream",
       "stream": "stdout",
       "text": [
        "\n",
        " 9: -1.3815e+02 -1.3815e+02  8e-05  3e-15  7e-16\n",
        "Optimal solution found.\n",
        "203 support vectors out of 274 points\n",
        "cutting plane objective: 138.147541, primal objective 138.160154\n",
        "iteration 398\n",
        "OneSlackSSVM(C=0.1, break_on_bad=False, cache_tol=auto,\n",
        "       check_constraints=False, inactive_threshold=1e-05,\n",
        "       inactive_window=50, inference_cache=0, logger=None, max_iter=10000,\n",
        "       model=MultiLabelModel(n_states: 2, inference_method: ad3), n_jobs=1,\n",
        "       positive_constraint=None, show_loss_every=0, switch_to=None,\n",
        "       tol=1e-05, verbose=3)\n",
        "New violation: 0.961292 difference to last: 0.000098"
       ]
      },
      {
       "output_type": "stream",
       "stream": "stdout",
       "text": [
        "\n",
        "     pcost       dcost       gap    pres   dres"
       ]
      },
      {
       "output_type": "stream",
       "stream": "stdout",
       "text": [
        "\n",
        " 0: -1.3769e+02 -2.8568e+02  1e+02  4e-17  1e+00\n",
        " 1: -1.3781e+02 -1.4357e+02  6e+00  1e-15  5e-02\n",
        " 2: -1.3799e+02 -1.3916e+02  1e+00  1e-15  7e-03\n",
        " 3: -1.3809e+02 -1.3861e+02  5e-01  2e-15  9e-16\n",
        " 4: -1.3812e+02 -1.3822e+02  1e-01  3e-15  8e-16\n",
        " 5: -1.3814e+02 -1.3816e+02  2e-02  2e-15  7e-16\n",
        " 6: -1.3815e+02 -1.3815e+02  5e-03  3e-15  8e-16\n",
        " 7: -1.3815e+02 -1.3815e+02  1e-03  2e-15  8e-16"
       ]
      },
      {
       "output_type": "stream",
       "stream": "stdout",
       "text": [
        "\n",
        " 8: -1.3815e+02 -1.3815e+02  2e-04  2e-15  8e-16\n",
        " 9: -1.3815e+02 -1.3815e+02  8e-05  2e-15  7e-16\n",
        "Optimal solution found.\n",
        "204 support vectors out of 275 points\n",
        "cutting plane objective: 138.147543, primal objective 138.159454\n",
        "iteration 399\n",
        "OneSlackSSVM(C=0.1, break_on_bad=False, cache_tol=auto,\n",
        "       check_constraints=False, inactive_threshold=1e-05,\n",
        "       inactive_window=50, inference_cache=0, logger=None, max_iter=10000,\n",
        "       model=MultiLabelModel(n_states: 2, inference_method: ad3), n_jobs=1,\n",
        "       positive_constraint=None, show_loss_every=0, switch_to=None,\n",
        "       tol=1e-05, verbose=3)\n",
        "New violation: 0.961285 difference to last: 0.000094"
       ]
      },
      {
       "output_type": "stream",
       "stream": "stdout",
       "text": [
        "\n",
        "     pcost       dcost       gap    pres   dres"
       ]
      },
      {
       "output_type": "stream",
       "stream": "stdout",
       "text": [
        "\n",
        " 0: -1.3769e+02 -2.8583e+02  1e+02  9e-17  1e+00\n",
        " 1: -1.3781e+02 -1.4362e+02  6e+00  1e-15  5e-02\n",
        " 2: -1.3799e+02 -1.3916e+02  1e+00  1e-15  7e-03\n",
        " 3: -1.3809e+02 -1.3861e+02  5e-01  2e-15  8e-16\n",
        " 4: -1.3812e+02 -1.3822e+02  1e-01  2e-15  8e-16\n",
        " 5: -1.3814e+02 -1.3816e+02  2e-02  2e-15  8e-16\n",
        " 6: -1.3815e+02 -1.3815e+02  4e-03  3e-15  8e-16\n",
        " 7: -1.3815e+02 -1.3815e+02  9e-04  2e-15  9e-16"
       ]
      },
      {
       "output_type": "stream",
       "stream": "stdout",
       "text": [
        "\n",
        " 8: -1.3815e+02 -1.3815e+02  2e-04  3e-15  8e-16\n",
        " 9: -1.3815e+02 -1.3815e+02  9e-05  2e-15  7e-16\n",
        "Optimal solution found.\n",
        "206 support vectors out of 276 points\n",
        "cutting plane objective: 138.147544, primal objective 138.158971\n",
        "iteration 400\n",
        "OneSlackSSVM(C=0.1, break_on_bad=False, cache_tol=auto,\n",
        "       check_constraints=False, inactive_threshold=1e-05,\n",
        "       inactive_window=50, inference_cache=0, logger=None, max_iter=10000,\n",
        "       model=MultiLabelModel(n_states: 2, inference_method: ad3), n_jobs=1,\n",
        "       positive_constraint=None, show_loss_every=0, switch_to=None,\n",
        "       tol=1e-05, verbose=3)\n",
        "New violation: 0.961288 difference to last: 0.000097"
       ]
      },
      {
       "output_type": "stream",
       "stream": "stdout",
       "text": [
        "\n",
        "     pcost       dcost       gap    pres   dres"
       ]
      },
      {
       "output_type": "stream",
       "stream": "stdout",
       "text": [
        "\n",
        " 0: -1.3769e+02 -2.8544e+02  1e+02  3e-17  1e+00\n",
        " 1: -1.3781e+02 -1.4354e+02  6e+00  1e-15  5e-02\n",
        " 2: -1.3799e+02 -1.3916e+02  1e+00  2e-15  7e-03\n",
        " 3: -1.3809e+02 -1.3861e+02  5e-01  2e-15  8e-16\n",
        " 4: -1.3812e+02 -1.3822e+02  1e-01  2e-15  7e-16\n",
        " 5: -1.3814e+02 -1.3816e+02  2e-02  2e-15  8e-16\n",
        " 6: -1.3815e+02 -1.3815e+02  4e-03  2e-15  8e-16\n",
        " 7: -1.3815e+02 -1.3815e+02  1e-03  3e-15  7e-16"
       ]
      },
      {
       "output_type": "stream",
       "stream": "stdout",
       "text": [
        "\n",
        " 8: -1.3815e+02 -1.3815e+02  2e-04  3e-15  7e-16\n",
        " 9: -1.3815e+02 -1.3815e+02  1e-04  3e-15  7e-16\n",
        "Optimal solution found.\n",
        "209 support vectors out of 277 points\n",
        "cutting plane objective: 138.147542, primal objective 138.159350\n",
        "iteration 401\n",
        "OneSlackSSVM(C=0.1, break_on_bad=False, cache_tol=auto,\n",
        "       check_constraints=False, inactive_threshold=1e-05,\n",
        "       inactive_window=50, inference_cache=0, logger=None, max_iter=10000,\n",
        "       model=MultiLabelModel(n_states: 2, inference_method: ad3), n_jobs=1,\n",
        "       positive_constraint=None, show_loss_every=0, switch_to=None,\n",
        "       tol=1e-05, verbose=3)\n",
        "New violation: 0.961278 difference to last: 0.000092"
       ]
      },
      {
       "output_type": "stream",
       "stream": "stdout",
       "text": [
        "\n",
        "     pcost       dcost       gap    pres   dres"
       ]
      },
      {
       "output_type": "stream",
       "stream": "stdout",
       "text": [
        "\n",
        " 0: -1.3769e+02 -2.8497e+02  1e+02  1e-15  1e+00\n",
        " 1: -1.3781e+02 -1.4356e+02  6e+00  1e-15  5e-02\n",
        " 2: -1.3799e+02 -1.3917e+02  1e+00  1e-15  7e-03\n",
        " 3: -1.3809e+02 -1.3861e+02  5e-01  3e-15  8e-16\n",
        " 4: -1.3812e+02 -1.3822e+02  1e-01  2e-15  7e-16\n",
        " 5: -1.3814e+02 -1.3816e+02  2e-02  2e-15  7e-16\n",
        " 6: -1.3815e+02 -1.3815e+02  4e-03  2e-15  8e-16\n",
        " 7: -1.3815e+02 -1.3815e+02  1e-03  3e-15  7e-16"
       ]
      },
      {
       "output_type": "stream",
       "stream": "stdout",
       "text": [
        "\n",
        " 8: -1.3815e+02 -1.3815e+02  2e-04  3e-15  7e-16\n",
        " 9: -1.3815e+02 -1.3815e+02  1e-04  2e-15  7e-16\n",
        "Optimal solution found.\n",
        "211 support vectors out of 278 points\n",
        "cutting plane objective: 138.147547, primal objective 138.158822\n",
        "iteration 402\n",
        "OneSlackSSVM(C=0.1, break_on_bad=False, cache_tol=auto,\n",
        "       check_constraints=False, inactive_threshold=1e-05,\n",
        "       inactive_window=50, inference_cache=0, logger=None, max_iter=10000,\n",
        "       model=MultiLabelModel(n_states: 2, inference_method: ad3), n_jobs=1,\n",
        "       positive_constraint=None, show_loss_every=0, switch_to=None,\n",
        "       tol=1e-05, verbose=3)\n",
        "New violation: 0.961271 difference to last: 0.000092"
       ]
      },
      {
       "output_type": "stream",
       "stream": "stdout",
       "text": [
        "\n",
        "     pcost       dcost       gap    pres   dres"
       ]
      },
      {
       "output_type": "stream",
       "stream": "stdout",
       "text": [
        "\n",
        " 0: -1.3769e+02 -2.8487e+02  1e+02  1e-16  1e+00\n",
        " 1: -1.3781e+02 -1.4357e+02  6e+00  1e-15  5e-02\n",
        " 2: -1.3799e+02 -1.3916e+02  1e+00  1e-15  7e-03\n",
        " 3: -1.3809e+02 -1.3861e+02  5e-01  1e-15  8e-16\n",
        " 4: -1.3812e+02 -1.3822e+02  1e-01  2e-15  7e-16\n",
        " 5: -1.3814e+02 -1.3816e+02  2e-02  2e-15  7e-16\n",
        " 6: -1.3815e+02 -1.3815e+02  4e-03  2e-15  8e-16\n",
        " 7: -1.3815e+02 -1.3815e+02  1e-03  3e-15  8e-16"
       ]
      },
      {
       "output_type": "stream",
       "stream": "stdout",
       "text": [
        "\n",
        " 8: -1.3815e+02 -1.3815e+02  2e-04  2e-15  8e-16\n",
        " 9: -1.3815e+02 -1.3815e+02  9e-05  2e-15  7e-16\n",
        "Optimal solution found.\n",
        "210 support vectors out of 279 points\n",
        "cutting plane objective: 138.147553, primal objective 138.158772\n",
        "iteration 403\n",
        "OneSlackSSVM(C=0.1, break_on_bad=False, cache_tol=auto,\n",
        "       check_constraints=False, inactive_threshold=1e-05,\n",
        "       inactive_window=50, inference_cache=0, logger=None, max_iter=10000,\n",
        "       model=MultiLabelModel(n_states: 2, inference_method: ad3), n_jobs=1,\n",
        "       positive_constraint=None, show_loss_every=0, switch_to=None,\n",
        "       tol=1e-05, verbose=3)\n",
        "New violation: 0.961267 difference to last: 0.000087"
       ]
      },
      {
       "output_type": "stream",
       "stream": "stdout",
       "text": [
        "\n",
        "     pcost       dcost       gap    pres   dres"
       ]
      },
      {
       "output_type": "stream",
       "stream": "stdout",
       "text": [
        "\n",
        " 0: -1.3769e+02 -2.8486e+02  1e+02  3e-16  1e+00\n",
        " 1: -1.3781e+02 -1.4354e+02  6e+00  1e-15  5e-02\n",
        " 2: -1.3799e+02 -1.3916e+02  1e+00  1e-15  7e-03\n",
        " 3: -1.3809e+02 -1.3861e+02  5e-01  2e-15  8e-16\n",
        " 4: -1.3812e+02 -1.3822e+02  1e-01  2e-15  7e-16\n",
        " 5: -1.3814e+02 -1.3816e+02  2e-02  2e-15  8e-16\n",
        " 6: -1.3815e+02 -1.3815e+02  4e-03  2e-15  7e-16\n",
        " 7: -1.3815e+02 -1.3815e+02  1e-03  3e-15  7e-16\n",
        " 8: -1.3815e+02 -1.3815e+02  2e-04  2e-15  7e-16"
       ]
      },
      {
       "output_type": "stream",
       "stream": "stdout",
       "text": [
        "\n",
        " 9: -1.3815e+02 -1.3815e+02  9e-05  2e-15  7e-16\n",
        "Optimal solution found.\n",
        "210 support vectors out of 280 points\n",
        "cutting plane objective: 138.147555, primal objective 138.158181\n",
        "iteration 404\n",
        "OneSlackSSVM(C=0.1, break_on_bad=False, cache_tol=auto,\n",
        "       check_constraints=False, inactive_threshold=1e-05,\n",
        "       inactive_window=50, inference_cache=0, logger=None, max_iter=10000,\n",
        "       model=MultiLabelModel(n_states: 2, inference_method: ad3), n_jobs=1,\n",
        "       positive_constraint=None, show_loss_every=0, switch_to=None,\n",
        "       tol=1e-05, verbose=3)\n",
        "New violation: 0.961267 difference to last: 0.000085"
       ]
      },
      {
       "output_type": "stream",
       "stream": "stdout",
       "text": [
        "\n",
        "     pcost       dcost       gap    pres   dres"
       ]
      },
      {
       "output_type": "stream",
       "stream": "stdout",
       "text": [
        "\n",
        " 0: -1.3769e+02 -2.8496e+02  1e+02  4e-16  1e+00\n",
        " 1: -1.3781e+02 -1.4357e+02  6e+00  1e-15  5e-02\n",
        " 2: -1.3799e+02 -1.3916e+02  1e+00  1e-15  7e-03\n",
        " 3: -1.3809e+02 -1.3862e+02  5e-01  1e-15  8e-16\n",
        " 4: -1.3812e+02 -1.3823e+02  1e-01  2e-15  7e-16\n",
        " 5: -1.3814e+02 -1.3816e+02  2e-02  2e-15  8e-16\n",
        " 6: -1.3815e+02 -1.3815e+02  4e-03  2e-15  8e-16\n",
        " 7: -1.3815e+02 -1.3815e+02  1e-03  3e-15  7e-16"
       ]
      },
      {
       "output_type": "stream",
       "stream": "stdout",
       "text": [
        "\n",
        " 8: -1.3815e+02 -1.3815e+02  3e-04  2e-15  8e-16\n",
        " 9: -1.3815e+02 -1.3815e+02  1e-04  3e-15  7e-16\n",
        "Optimal solution found.\n",
        "211 support vectors out of 281 points\n",
        "cutting plane objective: 138.147557, primal objective 138.157958\n",
        "iteration 405\n",
        "OneSlackSSVM(C=0.1, break_on_bad=False, cache_tol=auto,\n",
        "       check_constraints=False, inactive_threshold=1e-05,\n",
        "       inactive_window=50, inference_cache=0, logger=None, max_iter=10000,\n",
        "       model=MultiLabelModel(n_states: 2, inference_method: ad3), n_jobs=1,\n",
        "       positive_constraint=None, show_loss_every=0, switch_to=None,\n",
        "       tol=1e-05, verbose=3)\n",
        "New violation: 0.961272 difference to last: 0.000087"
       ]
      },
      {
       "output_type": "stream",
       "stream": "stdout",
       "text": [
        "\n",
        "     pcost       dcost       gap    pres   dres"
       ]
      },
      {
       "output_type": "stream",
       "stream": "stdout",
       "text": [
        "\n",
        " 0: -1.3769e+02 -2.8494e+02  1e+02  3e-16  1e+00\n",
        " 1: -1.3781e+02 -1.4364e+02  6e+00  1e-15  5e-02\n",
        " 2: -1.3799e+02 -1.3918e+02  1e+00  1e-15  7e-03\n",
        " 3: -1.3809e+02 -1.3862e+02  5e-01  2e-15  8e-16\n",
        " 4: -1.3812e+02 -1.3823e+02  1e-01  2e-15  8e-16\n",
        " 5: -1.3814e+02 -1.3816e+02  2e-02  2e-15  9e-16\n",
        " 6: -1.3815e+02 -1.3815e+02  4e-03  2e-15  8e-16\n",
        " 7: -1.3815e+02 -1.3815e+02  1e-03  3e-15  8e-16"
       ]
      },
      {
       "output_type": "stream",
       "stream": "stdout",
       "text": [
        "\n",
        " 8: -1.3815e+02 -1.3815e+02  2e-04  2e-15  8e-16\n",
        " 9: -1.3815e+02 -1.3815e+02  9e-05  2e-15  7e-16\n",
        "Optimal solution found.\n",
        "212 support vectors out of 282 points\n",
        "cutting plane objective: 138.147562, primal objective 138.158156\n",
        "iteration 406\n",
        "OneSlackSSVM(C=0.1, break_on_bad=False, cache_tol=auto,\n",
        "       check_constraints=False, inactive_threshold=1e-05,\n",
        "       inactive_window=50, inference_cache=0, logger=None, max_iter=10000,\n",
        "       model=MultiLabelModel(n_states: 2, inference_method: ad3), n_jobs=1,\n",
        "       positive_constraint=None, show_loss_every=0, switch_to=None,\n",
        "       tol=1e-05, verbose=3)\n",
        "New violation: 0.961254 difference to last: 0.000065"
       ]
      },
      {
       "output_type": "stream",
       "stream": "stdout",
       "text": [
        "\n",
        "     pcost       dcost       gap    pres   dres"
       ]
      },
      {
       "output_type": "stream",
       "stream": "stdout",
       "text": [
        "\n",
        " 0: -1.3771e+02 -2.8336e+02  1e+02  2e-16  1e+00\n",
        " 1: -1.3782e+02 -1.4363e+02  6e+00  1e-15  5e-02\n",
        " 2: -1.3799e+02 -1.3924e+02  1e+00  1e-15  8e-03\n",
        " 3: -1.3809e+02 -1.3859e+02  5e-01  2e-15  8e-16\n",
        " 4: -1.3812e+02 -1.3823e+02  1e-01  2e-15  8e-16\n",
        " 5: -1.3814e+02 -1.3816e+02  2e-02  2e-15  8e-16\n",
        " 6: -1.3815e+02 -1.3815e+02  4e-03  3e-15  8e-16"
       ]
      },
      {
       "output_type": "stream",
       "stream": "stdout",
       "text": [
        "\n",
        " 7: -1.3815e+02 -1.3815e+02  1e-03  2e-15  7e-16\n",
        " 8: -1.3815e+02 -1.3815e+02  2e-04  3e-15  7e-16\n",
        " 9: -1.3815e+02 -1.3815e+02  8e-05  2e-15  7e-16\n",
        "Optimal solution found.\n",
        "212 support vectors out of 281 points\n",
        "cutting plane objective: 138.147568, primal objective 138.155512\n",
        "iteration 407\n",
        "OneSlackSSVM(C=0.1, break_on_bad=False, cache_tol=auto,\n",
        "       check_constraints=False, inactive_threshold=1e-05,\n",
        "       inactive_window=50, inference_cache=0, logger=None, max_iter=10000,\n",
        "       model=MultiLabelModel(n_states: 2, inference_method: ad3), n_jobs=1,\n",
        "       positive_constraint=None, show_loss_every=0, switch_to=None,\n",
        "       tol=1e-05, verbose=3)\n",
        "New violation: 0.961266 difference to last: 0.000079"
       ]
      },
      {
       "output_type": "stream",
       "stream": "stdout",
       "text": [
        "\n",
        "     pcost       dcost       gap    pres   dres"
       ]
      },
      {
       "output_type": "stream",
       "stream": "stdout",
       "text": [
        "\n",
        " 0: -1.3771e+02 -2.8329e+02  1e+02  6e-16  1e+00\n",
        " 1: -1.3783e+02 -1.4366e+02  6e+00  1e-15  5e-02\n",
        " 2: -1.3799e+02 -1.3925e+02  1e+00  1e-15  8e-03\n",
        " 3: -1.3809e+02 -1.3858e+02  5e-01  2e-15  8e-16\n",
        " 4: -1.3812e+02 -1.3822e+02  1e-01  2e-15  8e-16\n",
        " 5: -1.3814e+02 -1.3816e+02  2e-02  2e-15  8e-16\n",
        " 6: -1.3815e+02 -1.3815e+02  4e-03  2e-15  7e-16\n",
        " 7: -1.3815e+02 -1.3815e+02  9e-04  3e-15  8e-16"
       ]
      },
      {
       "output_type": "stream",
       "stream": "stdout",
       "text": [
        "\n",
        " 8: -1.3815e+02 -1.3815e+02  2e-04  2e-15  8e-16\n",
        " 9: -1.3815e+02 -1.3815e+02  7e-05  3e-15  8e-16\n",
        "Optimal solution found.\n",
        "212 support vectors out of 282 points\n",
        "cutting plane objective: 138.147576, primal objective 138.157265\n",
        "iteration 408\n",
        "OneSlackSSVM(C=0.1, break_on_bad=False, cache_tol=auto,\n",
        "       check_constraints=False, inactive_threshold=1e-05,\n",
        "       inactive_window=50, inference_cache=0, logger=None, max_iter=10000,\n",
        "       model=MultiLabelModel(n_states: 2, inference_method: ad3), n_jobs=1,\n",
        "       positive_constraint=None, show_loss_every=0, switch_to=None,\n",
        "       tol=1e-05, verbose=3)\n",
        "New violation: 0.961273 difference to last: 0.000089"
       ]
      },
      {
       "output_type": "stream",
       "stream": "stdout",
       "text": [
        "\n",
        "     pcost       dcost       gap    pres   dres"
       ]
      },
      {
       "output_type": "stream",
       "stream": "stdout",
       "text": [
        "\n",
        " 0: -1.3771e+02 -2.8258e+02  1e+02  6e-16  1e+00\n",
        " 1: -1.3782e+02 -1.4365e+02  6e+00  1e-15  5e-02\n",
        " 2: -1.3799e+02 -1.3927e+02  1e+00  1e-15  8e-03\n",
        " 3: -1.3809e+02 -1.3857e+02  5e-01  2e-15  9e-16\n",
        " 4: -1.3812e+02 -1.3822e+02  1e-01  1e-15  8e-16\n",
        " 5: -1.3814e+02 -1.3816e+02  2e-02  3e-15  8e-16\n",
        " 6: -1.3815e+02 -1.3815e+02  4e-03  2e-15  9e-16\n",
        " 7: -1.3815e+02 -1.3815e+02  9e-04  3e-15  8e-16"
       ]
      },
      {
       "output_type": "stream",
       "stream": "stdout",
       "text": [
        "\n",
        " 8: -1.3815e+02 -1.3815e+02  2e-04  3e-15  8e-16\n",
        " 9: -1.3815e+02 -1.3815e+02  7e-05  2e-15  7e-16\n",
        "Optimal solution found.\n",
        "210 support vectors out of 283 points\n",
        "cutting plane objective: 138.147581, primal objective 138.158365\n",
        "iteration 409\n",
        "OneSlackSSVM(C=0.1, break_on_bad=False, cache_tol=auto,\n",
        "       check_constraints=False, inactive_threshold=1e-05,\n",
        "       inactive_window=50, inference_cache=0, logger=None, max_iter=10000,\n",
        "       model=MultiLabelModel(n_states: 2, inference_method: ad3), n_jobs=1,\n",
        "       positive_constraint=None, show_loss_every=0, switch_to=None,\n",
        "       tol=1e-05, verbose=3)\n",
        "New violation: 0.961264 difference to last: 0.000080"
       ]
      },
      {
       "output_type": "stream",
       "stream": "stdout",
       "text": [
        "\n",
        "     pcost       dcost       gap    pres   dres"
       ]
      },
      {
       "output_type": "stream",
       "stream": "stdout",
       "text": [
        "\n",
        " 0: -1.3771e+02 -2.8255e+02  1e+02  2e-16  1e+00\n",
        " 1: -1.3782e+02 -1.4373e+02  6e+00  1e-15  5e-02\n",
        " 2: -1.3799e+02 -1.3929e+02  1e+00  1e-15  8e-03\n",
        " 3: -1.3809e+02 -1.3857e+02  5e-01  2e-15  8e-16\n",
        " 4: -1.3812e+02 -1.3822e+02  1e-01  2e-15  7e-16\n",
        " 5: -1.3814e+02 -1.3816e+02  2e-02  2e-15  8e-16\n",
        " 6: -1.3815e+02 -1.3815e+02  4e-03  3e-15  8e-16\n",
        " 7: -1.3815e+02 -1.3815e+02  9e-04  2e-15  7e-16"
       ]
      },
      {
       "output_type": "stream",
       "stream": "stdout",
       "text": [
        "\n",
        " 8: -1.3815e+02 -1.3815e+02  2e-04  3e-15  7e-16\n",
        " 9: -1.3815e+02 -1.3815e+02  7e-05  2e-15  7e-16\n",
        "Optimal solution found.\n",
        "212 support vectors out of 284 points\n",
        "cutting plane objective: 138.147581, primal objective 138.157387\n",
        "iteration 410\n",
        "OneSlackSSVM(C=0.1, break_on_bad=False, cache_tol=auto,\n",
        "       check_constraints=False, inactive_threshold=1e-05,\n",
        "       inactive_window=50, inference_cache=0, logger=None, max_iter=10000,\n",
        "       model=MultiLabelModel(n_states: 2, inference_method: ad3), n_jobs=1,\n",
        "       positive_constraint=None, show_loss_every=0, switch_to=None,\n",
        "       tol=1e-05, verbose=3)\n",
        "New violation: 0.961261 difference to last: 0.000082"
       ]
      },
      {
       "output_type": "stream",
       "stream": "stdout",
       "text": [
        "\n",
        "     pcost       dcost       gap    pres   dres"
       ]
      },
      {
       "output_type": "stream",
       "stream": "stdout",
       "text": [
        "\n",
        " 0: -1.3770e+02 -2.8271e+02  1e+02  2e-16  1e+00\n",
        " 1: -1.3782e+02 -1.4376e+02  6e+00  1e-15  5e-02\n",
        " 2: -1.3798e+02 -1.3931e+02  1e+00  1e-15  9e-03\n",
        " 3: -1.3809e+02 -1.3856e+02  5e-01  2e-15  8e-16\n",
        " 4: -1.3812e+02 -1.3822e+02  1e-01  2e-15  8e-16\n",
        " 5: -1.3814e+02 -1.3816e+02  2e-02  2e-15  8e-16\n",
        " 6: -1.3815e+02 -1.3815e+02  4e-03  2e-15  7e-16\n",
        " 7: -1.3815e+02 -1.3815e+02  9e-04  2e-15  7e-16"
       ]
      },
      {
       "output_type": "stream",
       "stream": "stdout",
       "text": [
        "\n",
        " 8: -1.3815e+02 -1.3815e+02  2e-04  2e-15  7e-16\n",
        " 9: -1.3815e+02 -1.3815e+02  8e-05  2e-15  7e-16\n",
        "Optimal solution found.\n",
        "217 support vectors out of 285 points\n",
        "cutting plane objective: 138.147580, primal objective 138.157519\n",
        "iteration 411\n",
        "OneSlackSSVM(C=0.1, break_on_bad=False, cache_tol=auto,\n",
        "       check_constraints=False, inactive_threshold=1e-05,\n",
        "       inactive_window=50, inference_cache=0, logger=None, max_iter=10000,\n",
        "       model=MultiLabelModel(n_states: 2, inference_method: ad3), n_jobs=1,\n",
        "       positive_constraint=None, show_loss_every=0, switch_to=None,\n",
        "       tol=1e-05, verbose=3)\n",
        "New violation: 0.961262 difference to last: 0.000075"
       ]
      },
      {
       "output_type": "stream",
       "stream": "stdout",
       "text": [
        "\n",
        "     pcost       dcost       gap    pres   dres"
       ]
      },
      {
       "output_type": "stream",
       "stream": "stdout",
       "text": [
        "\n",
        " 0: -1.3770e+02 -2.8275e+02  1e+02  2e-16  1e+00\n",
        " 1: -1.3782e+02 -1.4379e+02  6e+00  1e-15  5e-02\n",
        " 2: -1.3798e+02 -1.3931e+02  1e+00  1e-15  9e-03\n",
        " 3: -1.3809e+02 -1.3856e+02  5e-01  2e-15  8e-16\n",
        " 4: -1.3812e+02 -1.3822e+02  1e-01  2e-15  9e-16\n",
        " 5: -1.3814e+02 -1.3816e+02  2e-02  2e-15  8e-16\n",
        " 6: -1.3815e+02 -1.3815e+02  4e-03  2e-15  8e-16\n",
        " 7: -1.3815e+02 -1.3815e+02  1e-03  2e-15  8e-16"
       ]
      },
      {
       "output_type": "stream",
       "stream": "stdout",
       "text": [
        "\n",
        " 8: -1.3815e+02 -1.3815e+02  2e-04  3e-15  8e-16\n",
        " 9: -1.3815e+02 -1.3815e+02  8e-05  3e-15  7e-16\n",
        "Optimal solution found.\n",
        "218 support vectors out of 286 points\n",
        "cutting plane objective: 138.147584, primal objective 138.156733\n",
        "iteration 412\n",
        "OneSlackSSVM(C=0.1, break_on_bad=False, cache_tol=auto,\n",
        "       check_constraints=False, inactive_threshold=1e-05,\n",
        "       inactive_window=50, inference_cache=0, logger=None, max_iter=10000,\n",
        "       model=MultiLabelModel(n_states: 2, inference_method: ad3), n_jobs=1,\n",
        "       positive_constraint=None, show_loss_every=0, switch_to=None,\n",
        "       tol=1e-05, verbose=3)\n",
        "New violation: 0.961259 difference to last: 0.000070"
       ]
      },
      {
       "output_type": "stream",
       "stream": "stdout",
       "text": [
        "\n",
        "     pcost       dcost       gap    pres   dres"
       ]
      },
      {
       "output_type": "stream",
       "stream": "stdout",
       "text": [
        "\n",
        " 0: -1.3768e+02 -2.8395e+02  1e+02  1e-17  1e+00\n",
        " 1: -1.3781e+02 -1.4422e+02  6e+00  1e-15  5e-02\n",
        " 2: -1.3798e+02 -1.3936e+02  1e+00  1e-15  9e-03\n",
        " 3: -1.3809e+02 -1.3852e+02  4e-01  2e-15  8e-16\n",
        " 4: -1.3812e+02 -1.3822e+02  9e-02  2e-15  8e-16\n",
        " 5: -1.3814e+02 -1.3816e+02  2e-02  2e-15  7e-16\n",
        " 6: -1.3815e+02 -1.3815e+02  4e-03  2e-15  8e-16\n",
        " 7: -1.3815e+02 -1.3815e+02  9e-04  3e-15  7e-16"
       ]
      },
      {
       "output_type": "stream",
       "stream": "stdout",
       "text": [
        "\n",
        " 8: -1.3815e+02 -1.3815e+02  2e-04  2e-15  7e-16\n",
        " 9: -1.3815e+02 -1.3815e+02  9e-05  2e-15  7e-16\n",
        "Optimal solution found.\n",
        "218 support vectors out of 286 points\n",
        "cutting plane objective: 138.147584, primal objective 138.156091\n",
        "iteration 413\n",
        "OneSlackSSVM(C=0.1, break_on_bad=False, cache_tol=auto,\n",
        "       check_constraints=False, inactive_threshold=1e-05,\n",
        "       inactive_window=50, inference_cache=0, logger=None, max_iter=10000,\n",
        "       model=MultiLabelModel(n_states: 2, inference_method: ad3), n_jobs=1,\n",
        "       positive_constraint=None, show_loss_every=0, switch_to=None,\n",
        "       tol=1e-05, verbose=3)\n",
        "New violation: 0.961264 difference to last: 0.000078"
       ]
      },
      {
       "output_type": "stream",
       "stream": "stdout",
       "text": [
        "\n",
        "     pcost       dcost       gap    pres   dres"
       ]
      },
      {
       "output_type": "stream",
       "stream": "stdout",
       "text": [
        "\n",
        " 0: -1.3769e+02 -2.8338e+02  1e+02  3e-16  1e+00\n",
        " 1: -1.3781e+02 -1.4412e+02  6e+00  1e-15  5e-02\n",
        " 2: -1.3798e+02 -1.3936e+02  1e+00  1e-15  9e-03\n",
        " 3: -1.3809e+02 -1.3851e+02  4e-01  2e-15  8e-16\n",
        " 4: -1.3812e+02 -1.3822e+02  9e-02  2e-15  8e-16\n",
        " 5: -1.3814e+02 -1.3816e+02  2e-02  2e-15  8e-16\n",
        " 6: -1.3815e+02 -1.3815e+02  4e-03  2e-15  8e-16\n",
        " 7: -1.3815e+02 -1.3815e+02  9e-04  3e-15  8e-16"
       ]
      },
      {
       "output_type": "stream",
       "stream": "stdout",
       "text": [
        "\n",
        " 8: -1.3815e+02 -1.3815e+02  2e-04  3e-15  8e-16\n",
        " 9: -1.3815e+02 -1.3815e+02  9e-05  3e-15  7e-16\n",
        "Optimal solution found.\n",
        "220 support vectors out of 287 points\n",
        "cutting plane objective: 138.147585, primal objective 138.157131\n",
        "iteration 414\n",
        "OneSlackSSVM(C=0.1, break_on_bad=False, cache_tol=auto,\n",
        "       check_constraints=False, inactive_threshold=1e-05,\n",
        "       inactive_window=50, inference_cache=0, logger=None, max_iter=10000,\n",
        "       model=MultiLabelModel(n_states: 2, inference_method: ad3), n_jobs=1,\n",
        "       positive_constraint=None, show_loss_every=0, switch_to=None,\n",
        "       tol=1e-05, verbose=3)\n",
        "New violation: 0.961263 difference to last: 0.000080"
       ]
      },
      {
       "output_type": "stream",
       "stream": "stdout",
       "text": [
        "\n",
        "     pcost       dcost       gap    pres   dres"
       ]
      },
      {
       "output_type": "stream",
       "stream": "stdout",
       "text": [
        "\n",
        " 0: -1.3769e+02 -2.8331e+02  1e+02  8e-17  1e+00\n",
        " 1: -1.3781e+02 -1.4419e+02  6e+00  1e-15  5e-02\n",
        " 2: -1.3798e+02 -1.3938e+02  1e+00  1e-15  9e-03\n",
        " 3: -1.3809e+02 -1.3850e+02  4e-01  2e-15  8e-16\n",
        " 4: -1.3812e+02 -1.3821e+02  9e-02  2e-15  7e-16\n",
        " 5: -1.3814e+02 -1.3816e+02  2e-02  2e-15  7e-16\n",
        " 6: -1.3815e+02 -1.3815e+02  4e-03  2e-15  8e-16\n",
        " 7: -1.3815e+02 -1.3815e+02  9e-04  3e-15  8e-16"
       ]
      },
      {
       "output_type": "stream",
       "stream": "stdout",
       "text": [
        "\n",
        " 8: -1.3815e+02 -1.3815e+02  2e-04  3e-15  8e-16\n",
        " 9: -1.3815e+02 -1.3815e+02  9e-05  3e-15  7e-16\n",
        "Optimal solution found.\n",
        "220 support vectors out of 288 points\n",
        "cutting plane objective: 138.147586, primal objective 138.157377\n",
        "iteration 415\n",
        "OneSlackSSVM(C=0.1, break_on_bad=False, cache_tol=auto,\n",
        "       check_constraints=False, inactive_threshold=1e-05,\n",
        "       inactive_window=50, inference_cache=0, logger=None, max_iter=10000,\n",
        "       model=MultiLabelModel(n_states: 2, inference_method: ad3), n_jobs=1,\n",
        "       positive_constraint=None, show_loss_every=0, switch_to=None,\n",
        "       tol=1e-05, verbose=3)\n",
        "New violation: 0.961255 difference to last: 0.000076"
       ]
      },
      {
       "output_type": "stream",
       "stream": "stdout",
       "text": [
        "\n",
        "     pcost       dcost       gap    pres   dres"
       ]
      },
      {
       "output_type": "stream",
       "stream": "stdout",
       "text": [
        "\n",
        " 0: -1.3769e+02 -2.8361e+02  1e+02  5e-17  1e+00\n",
        " 1: -1.3781e+02 -1.4420e+02  6e+00  1e-15  5e-02\n",
        " 2: -1.3798e+02 -1.3937e+02  1e+00  1e-15  9e-03\n",
        " 3: -1.3809e+02 -1.3851e+02  4e-01  2e-15  8e-16\n",
        " 4: -1.3812e+02 -1.3822e+02  9e-02  1e-15  7e-16\n",
        " 5: -1.3814e+02 -1.3816e+02  2e-02  2e-15  8e-16\n",
        " 6: -1.3815e+02 -1.3815e+02  4e-03  2e-15  7e-16\n",
        " 7: -1.3815e+02 -1.3815e+02  9e-04  3e-15  7e-16"
       ]
      },
      {
       "output_type": "stream",
       "stream": "stdout",
       "text": [
        "\n",
        " 8: -1.3815e+02 -1.3815e+02  2e-04  2e-15  7e-16\n",
        " 9: -1.3815e+02 -1.3815e+02  9e-05  3e-15  8e-16\n",
        "Optimal solution found.\n",
        "222 support vectors out of 289 points\n",
        "cutting plane objective: 138.147589, primal objective 138.156874\n",
        "iteration 416\n",
        "OneSlackSSVM(C=0.1, break_on_bad=False, cache_tol=auto,\n",
        "       check_constraints=False, inactive_threshold=1e-05,\n",
        "       inactive_window=50, inference_cache=0, logger=None, max_iter=10000,\n",
        "       model=MultiLabelModel(n_states: 2, inference_method: ad3), n_jobs=1,\n",
        "       positive_constraint=None, show_loss_every=0, switch_to=None,\n",
        "       tol=1e-05, verbose=3)\n",
        "New violation: 0.961256 difference to last: 0.000073"
       ]
      },
      {
       "output_type": "stream",
       "stream": "stdout",
       "text": [
        "\n",
        "     pcost       dcost       gap    pres   dres"
       ]
      },
      {
       "output_type": "stream",
       "stream": "stdout",
       "text": [
        "\n",
        " 0: -1.3769e+02 -2.8334e+02  1e+02  2e-16  1e+00\n",
        " 1: -1.3781e+02 -1.4418e+02  6e+00  1e-15  5e-02\n",
        " 2: -1.3798e+02 -1.3938e+02  1e+00  1e-15  9e-03\n",
        " 3: -1.3809e+02 -1.3851e+02  4e-01  2e-15  8e-16\n",
        " 4: -1.3812e+02 -1.3822e+02  9e-02  1e-15  8e-16\n",
        " 5: -1.3814e+02 -1.3816e+02  2e-02  2e-15  7e-16\n",
        " 6: -1.3815e+02 -1.3815e+02  4e-03  2e-15  8e-16\n",
        " 7: -1.3815e+02 -1.3815e+02  9e-04  3e-15  6e-16"
       ]
      },
      {
       "output_type": "stream",
       "stream": "stdout",
       "text": [
        "\n",
        " 8: -1.3815e+02 -1.3815e+02  2e-04  2e-15  8e-16\n",
        " 9: -1.3815e+02 -1.3815e+02  9e-05  2e-15  7e-16\n",
        "Optimal solution found.\n",
        "222 support vectors out of 290 points\n",
        "cutting plane objective: 138.147593, primal objective 138.156497\n",
        "iteration 417\n",
        "OneSlackSSVM(C=0.1, break_on_bad=False, cache_tol=auto,\n",
        "       check_constraints=False, inactive_threshold=1e-05,\n",
        "       inactive_window=50, inference_cache=0, logger=None, max_iter=10000,\n",
        "       model=MultiLabelModel(n_states: 2, inference_method: ad3), n_jobs=1,\n",
        "       positive_constraint=None, show_loss_every=0, switch_to=None,\n",
        "       tol=1e-05, verbose=3)\n",
        "New violation: 0.961250 difference to last: 0.000069"
       ]
      },
      {
       "output_type": "stream",
       "stream": "stdout",
       "text": [
        "\n",
        "     pcost       dcost       gap    pres   dres"
       ]
      },
      {
       "output_type": "stream",
       "stream": "stdout",
       "text": [
        "\n",
        " 0: -1.3769e+02 -2.8342e+02  1e+02  2e-16  1e+00\n",
        " 1: -1.3781e+02 -1.4422e+02  6e+00  1e-15  5e-02\n",
        " 2: -1.3798e+02 -1.3939e+02  1e+00  1e-15  9e-03\n",
        " 3: -1.3809e+02 -1.3852e+02  4e-01  2e-15  9e-16\n",
        " 4: -1.3812e+02 -1.3822e+02  1e-01  2e-15  8e-16\n",
        " 5: -1.3814e+02 -1.3816e+02  2e-02  2e-15  8e-16\n",
        " 6: -1.3815e+02 -1.3815e+02  4e-03  2e-15  8e-16\n",
        " 7: -1.3815e+02 -1.3815e+02  9e-04  3e-15  8e-16"
       ]
      },
      {
       "output_type": "stream",
       "stream": "stdout",
       "text": [
        "\n",
        " 8: -1.3815e+02 -1.3815e+02  2e-04  2e-15  8e-16\n",
        " 9: -1.3815e+02 -1.3815e+02  8e-05  2e-15  8e-16\n",
        "Optimal solution found.\n",
        "223 support vectors out of 291 points\n",
        "cutting plane objective: 138.147598, primal objective 138.156002\n",
        "iteration 418\n",
        "OneSlackSSVM(C=0.1, break_on_bad=False, cache_tol=auto,\n",
        "       check_constraints=False, inactive_threshold=1e-05,\n",
        "       inactive_window=50, inference_cache=0, logger=None, max_iter=10000,\n",
        "       model=MultiLabelModel(n_states: 2, inference_method: ad3), n_jobs=1,\n",
        "       positive_constraint=None, show_loss_every=0, switch_to=None,\n",
        "       tol=1e-05, verbose=3)\n",
        "New violation: 0.961251 difference to last: 0.000071"
       ]
      },
      {
       "output_type": "stream",
       "stream": "stdout",
       "text": [
        "\n",
        "     pcost       dcost       gap    pres   dres"
       ]
      },
      {
       "output_type": "stream",
       "stream": "stdout",
       "text": [
        "\n",
        " 0: -1.3769e+02 -2.8351e+02  1e+02  1e-15  1e+00\n",
        " 1: -1.3781e+02 -1.4422e+02  6e+00  1e-15  5e-02\n",
        " 2: -1.3798e+02 -1.3939e+02  1e+00  1e-15  9e-03\n",
        " 3: -1.3809e+02 -1.3852e+02  4e-01  2e-15  9e-16\n",
        " 4: -1.3812e+02 -1.3822e+02  1e-01  2e-15  8e-16\n",
        " 5: -1.3814e+02 -1.3816e+02  2e-02  2e-15  7e-16\n",
        " 6: -1.3815e+02 -1.3815e+02  4e-03  2e-15  7e-16\n",
        " 7: -1.3815e+02 -1.3815e+02  9e-04  3e-15  8e-16"
       ]
      },
      {
       "output_type": "stream",
       "stream": "stdout",
       "text": [
        "\n",
        " 8: -1.3815e+02 -1.3815e+02  2e-04  2e-15  8e-16\n",
        " 9: -1.3815e+02 -1.3815e+02  8e-05  2e-15  7e-16\n",
        "Optimal solution found.\n",
        "224 support vectors out of 292 points\n",
        "cutting plane objective: 138.147602, primal objective 138.156232\n",
        "iteration 419\n",
        "OneSlackSSVM(C=0.1, break_on_bad=False, cache_tol=auto,\n",
        "       check_constraints=False, inactive_threshold=1e-05,\n",
        "       inactive_window=50, inference_cache=0, logger=None, max_iter=10000,\n",
        "       model=MultiLabelModel(n_states: 2, inference_method: ad3), n_jobs=1,\n",
        "       positive_constraint=None, show_loss_every=0, switch_to=None,\n",
        "       tol=1e-05, verbose=3)\n",
        "New violation: 0.961249 difference to last: 0.000071"
       ]
      },
      {
       "output_type": "stream",
       "stream": "stdout",
       "text": [
        "\n",
        "     pcost       dcost       gap    pres   dres"
       ]
      },
      {
       "output_type": "stream",
       "stream": "stdout",
       "text": [
        "\n",
        " 0: -1.3768e+02 -2.8341e+02  1e+02  4e-16  1e+00\n",
        " 1: -1.3781e+02 -1.4426e+02  6e+00  1e-15  5e-02\n",
        " 2: -1.3798e+02 -1.3940e+02  1e+00  1e-15  9e-03\n",
        " 3: -1.3809e+02 -1.3852e+02  4e-01  2e-15  9e-16\n",
        " 4: -1.3812e+02 -1.3822e+02  1e-01  2e-15  8e-16\n",
        " 5: -1.3814e+02 -1.3816e+02  2e-02  2e-15  8e-16\n",
        " 6: -1.3815e+02 -1.3815e+02  4e-03  2e-15  7e-16\n",
        " 7: -1.3815e+02 -1.3815e+02  9e-04  2e-15  8e-16"
       ]
      },
      {
       "output_type": "stream",
       "stream": "stdout",
       "text": [
        "\n",
        " 8: -1.3815e+02 -1.3815e+02  2e-04  2e-15  8e-16\n",
        " 9: -1.3815e+02 -1.3815e+02  8e-05  2e-15  7e-16\n",
        "Optimal solution found.\n",
        "224 support vectors out of 293 points\n",
        "cutting plane objective: 138.147607, primal objective 138.156223\n",
        "iteration 420\n",
        "OneSlackSSVM(C=0.1, break_on_bad=False, cache_tol=auto,\n",
        "       check_constraints=False, inactive_threshold=1e-05,\n",
        "       inactive_window=50, inference_cache=0, logger=None, max_iter=10000,\n",
        "       model=MultiLabelModel(n_states: 2, inference_method: ad3), n_jobs=1,\n",
        "       positive_constraint=None, show_loss_every=0, switch_to=None,\n",
        "       tol=1e-05, verbose=3)\n",
        "New violation: 0.961249 difference to last: 0.000064"
       ]
      },
      {
       "output_type": "stream",
       "stream": "stdout",
       "text": [
        "\n",
        "     pcost       dcost       gap    pres   dres"
       ]
      },
      {
       "output_type": "stream",
       "stream": "stdout",
       "text": [
        "\n",
        " 0: -1.3768e+02 -2.8304e+02  1e+02  5e-16  1e+00\n",
        " 1: -1.3781e+02 -1.4425e+02  6e+00  1e-15  5e-02\n",
        " 2: -1.3798e+02 -1.3941e+02  1e+00  1e-15  9e-03\n",
        " 3: -1.3809e+02 -1.3853e+02  4e-01  2e-15  8e-16\n",
        " 4: -1.3812e+02 -1.3822e+02  1e-01  2e-15  8e-16\n",
        " 5: -1.3814e+02 -1.3816e+02  2e-02  2e-15  8e-16\n",
        " 6: -1.3815e+02 -1.3815e+02  4e-03  2e-15  8e-16\n",
        " 7: -1.3815e+02 -1.3815e+02  9e-04  3e-15  8e-16"
       ]
      },
      {
       "output_type": "stream",
       "stream": "stdout",
       "text": [
        "\n",
        " 8: -1.3815e+02 -1.3815e+02  2e-04  2e-15  8e-16\n",
        " 9: -1.3815e+02 -1.3815e+02  7e-05  2e-15  7e-16\n",
        "Optimal solution found.\n",
        "224 support vectors out of 294 points\n",
        "cutting plane objective: 138.147612, primal objective 138.155485\n",
        "iteration 421\n",
        "OneSlackSSVM(C=0.1, break_on_bad=False, cache_tol=auto,\n",
        "       check_constraints=False, inactive_threshold=1e-05,\n",
        "       inactive_window=50, inference_cache=0, logger=None, max_iter=10000,\n",
        "       model=MultiLabelModel(n_states: 2, inference_method: ad3), n_jobs=1,\n",
        "       positive_constraint=None, show_loss_every=0, switch_to=None,\n",
        "       tol=1e-05, verbose=3)\n",
        "New violation: 0.961244 difference to last: 0.000063"
       ]
      },
      {
       "output_type": "stream",
       "stream": "stdout",
       "text": [
        "\n",
        "     pcost       dcost       gap    pres   dres"
       ]
      },
      {
       "output_type": "stream",
       "stream": "stdout",
       "text": [
        "\n",
        " 0: -1.3768e+02 -2.8289e+02  1e+02  3e-16  1e+00\n",
        " 1: -1.3781e+02 -1.4418e+02  6e+00  1e-15  5e-02\n",
        " 2: -1.3798e+02 -1.3940e+02  1e+00  1e-15  9e-03\n",
        " 3: -1.3809e+02 -1.3853e+02  4e-01  2e-15  8e-16\n",
        " 4: -1.3812e+02 -1.3822e+02  1e-01  2e-15  8e-16\n",
        " 5: -1.3814e+02 -1.3816e+02  2e-02  2e-15  8e-16\n",
        " 6: -1.3815e+02 -1.3815e+02  4e-03  2e-15  8e-16"
       ]
      },
      {
       "output_type": "stream",
       "stream": "stdout",
       "text": [
        "\n",
        " 7: -1.3815e+02 -1.3815e+02  9e-04  3e-15  8e-16\n",
        " 8: -1.3815e+02 -1.3815e+02  2e-04  2e-15  8e-16\n",
        " 9: -1.3815e+02 -1.3815e+02  7e-05  2e-15  7e-16\n",
        "Optimal solution found.\n",
        "225 support vectors out of 295 points\n",
        "cutting plane objective: 138.147614, primal objective 138.155255\n",
        "iteration 422\n",
        "OneSlackSSVM(C=0.1, break_on_bad=False, cache_tol=auto,\n",
        "       check_constraints=False, inactive_threshold=1e-05,\n",
        "       inactive_window=50, inference_cache=0, logger=None, max_iter=10000,\n",
        "       model=MultiLabelModel(n_states: 2, inference_method: ad3), n_jobs=1,\n",
        "       positive_constraint=None, show_loss_every=0, switch_to=None,\n",
        "       tol=1e-05, verbose=3)\n",
        "New violation: 0.961237 difference to last: 0.000062"
       ]
      },
      {
       "output_type": "stream",
       "stream": "stdout",
       "text": [
        "\n",
        "     pcost       dcost       gap    pres   dres"
       ]
      },
      {
       "output_type": "stream",
       "stream": "stdout",
       "text": [
        "\n",
        " 0: -1.3769e+02 -2.8265e+02  1e+02  9e-16  1e+00\n",
        " 1: -1.3781e+02 -1.4421e+02  6e+00  1e-15  5e-02\n",
        " 2: -1.3798e+02 -1.3940e+02  1e+00  1e-15  9e-03\n",
        " 3: -1.3809e+02 -1.3855e+02  5e-01  1e-15  9e-16\n",
        " 4: -1.3812e+02 -1.3823e+02  1e-01  2e-15  8e-16\n",
        " 5: -1.3814e+02 -1.3816e+02  2e-02  2e-15  8e-16\n",
        " 6: -1.3815e+02 -1.3815e+02  4e-03  2e-15  8e-16"
       ]
      },
      {
       "output_type": "stream",
       "stream": "stdout",
       "text": [
        "\n",
        " 7: -1.3815e+02 -1.3815e+02  9e-04  2e-15  7e-16\n",
        " 8: -1.3815e+02 -1.3815e+02  2e-04  2e-15  8e-16\n",
        " 9: -1.3815e+02 -1.3815e+02  7e-05  2e-15  7e-16\n",
        "Optimal solution found.\n",
        "225 support vectors out of 296 points\n",
        "cutting plane objective: 138.147617, primal objective 138.155158\n",
        "iteration 423\n",
        "OneSlackSSVM(C=0.1, break_on_bad=False, cache_tol=auto,\n",
        "       check_constraints=False, inactive_threshold=1e-05,\n",
        "       inactive_window=50, inference_cache=0, logger=None, max_iter=10000,\n",
        "       model=MultiLabelModel(n_states: 2, inference_method: ad3), n_jobs=1,\n",
        "       positive_constraint=None, show_loss_every=0, switch_to=None,\n",
        "       tol=1e-05, verbose=3)\n",
        "New violation: 0.961217 difference to last: 0.000045"
       ]
      },
      {
       "output_type": "stream",
       "stream": "stdout",
       "text": [
        "\n",
        "     pcost       dcost       gap    pres   dres"
       ]
      },
      {
       "output_type": "stream",
       "stream": "stdout",
       "text": [
        "\n",
        " 0: -1.3769e+02 -2.8254e+02  1e+02  4e-16  1e+00\n",
        " 1: -1.3781e+02 -1.4413e+02  6e+00  1e-15  5e-02\n",
        " 2: -1.3798e+02 -1.3942e+02  1e+00  1e-15  9e-03\n",
        " 3: -1.3809e+02 -1.3854e+02  4e-01  2e-15  9e-16\n",
        " 4: -1.3812e+02 -1.3823e+02  1e-01  2e-15  8e-16\n",
        " 5: -1.3814e+02 -1.3816e+02  2e-02  2e-15  8e-16\n",
        " 6: -1.3815e+02 -1.3815e+02  4e-03  2e-15  8e-16"
       ]
      },
      {
       "output_type": "stream",
       "stream": "stdout",
       "text": [
        "\n",
        " 7: -1.3815e+02 -1.3815e+02  9e-04  3e-15  8e-16\n",
        " 8: -1.3815e+02 -1.3815e+02  2e-04  2e-15  8e-16\n",
        " 9: -1.3815e+02 -1.3815e+02  7e-05  2e-15  7e-16\n",
        "Optimal solution found.\n",
        "225 support vectors out of 297 points\n",
        "cutting plane objective: 138.147619, primal objective 138.153083\n",
        "iteration 424\n",
        "OneSlackSSVM(C=0.1, break_on_bad=False, cache_tol=auto,\n",
        "       check_constraints=False, inactive_threshold=1e-05,\n",
        "       inactive_window=50, inference_cache=0, logger=None, max_iter=10000,\n",
        "       model=MultiLabelModel(n_states: 2, inference_method: ad3), n_jobs=1,\n",
        "       positive_constraint=None, show_loss_every=0, switch_to=None,\n",
        "       tol=1e-05, verbose=3)\n",
        "New violation: 0.961227 difference to last: 0.000055"
       ]
      },
      {
       "output_type": "stream",
       "stream": "stdout",
       "text": [
        "\n",
        "     pcost       dcost       gap    pres   dres"
       ]
      },
      {
       "output_type": "stream",
       "stream": "stdout",
       "text": [
        "\n",
        " 0: -1.3769e+02 -2.8221e+02  1e+02  6e-16  1e+00\n",
        " 1: -1.3781e+02 -1.4408e+02  6e+00  1e-15  5e-02\n",
        " 2: -1.3798e+02 -1.3940e+02  1e+00  1e-15  9e-03\n",
        " 3: -1.3809e+02 -1.3853e+02  4e-01  1e-15  8e-16\n",
        " 4: -1.3812e+02 -1.3823e+02  1e-01  2e-15  8e-16\n",
        " 5: -1.3814e+02 -1.3816e+02  2e-02  2e-15  8e-16\n",
        " 6: -1.3815e+02 -1.3815e+02  4e-03  2e-15  8e-16"
       ]
      },
      {
       "output_type": "stream",
       "stream": "stdout",
       "text": [
        "\n",
        " 7: -1.3815e+02 -1.3815e+02  8e-04  2e-15  7e-16\n",
        " 8: -1.3815e+02 -1.3815e+02  2e-04  2e-15  7e-16\n",
        " 9: -1.3815e+02 -1.3815e+02  7e-05  2e-15  7e-16\n",
        "Optimal solution found.\n",
        "228 support vectors out of 298 points\n",
        "cutting plane objective: 138.147620, primal objective 138.154284\n",
        "iteration 425\n",
        "OneSlackSSVM(C=0.1, break_on_bad=False, cache_tol=auto,\n",
        "       check_constraints=False, inactive_threshold=1e-05,\n",
        "       inactive_window=50, inference_cache=0, logger=None, max_iter=10000,\n",
        "       model=MultiLabelModel(n_states: 2, inference_method: ad3), n_jobs=1,\n",
        "       positive_constraint=None, show_loss_every=0, switch_to=None,\n",
        "       tol=1e-05, verbose=3)\n",
        "New violation: 0.961242 difference to last: 0.000062"
       ]
      },
      {
       "output_type": "stream",
       "stream": "stdout",
       "text": [
        "\n",
        "     pcost       dcost       gap    pres   dres"
       ]
      },
      {
       "output_type": "stream",
       "stream": "stdout",
       "text": [
        "\n",
        " 0: -1.3770e+02 -2.8197e+02  1e+02  1e-15  1e+00\n",
        " 1: -1.3781e+02 -1.4409e+02  6e+00  1e-15  5e-02\n",
        " 2: -1.3798e+02 -1.3941e+02  1e+00  1e-15  9e-03\n",
        " 3: -1.3809e+02 -1.3853e+02  4e-01  1e-15  9e-16\n",
        " 4: -1.3812e+02 -1.3822e+02  1e-01  1e-15  7e-16\n",
        " 5: -1.3814e+02 -1.3816e+02  2e-02  2e-15  8e-16\n",
        " 6: -1.3815e+02 -1.3815e+02  4e-03  2e-15  8e-16"
       ]
      },
      {
       "output_type": "stream",
       "stream": "stdout",
       "text": [
        "\n",
        " 7: -1.3815e+02 -1.3815e+02  8e-04  2e-15  8e-16\n",
        " 8: -1.3815e+02 -1.3815e+02  2e-04  2e-15  8e-16\n",
        " 9: -1.3815e+02 -1.3815e+02  7e-05  2e-15  7e-16\n",
        "Optimal solution found.\n",
        "226 support vectors out of 299 points\n",
        "cutting plane objective: 138.147622, primal objective 138.155138\n",
        "iteration 426\n",
        "OneSlackSSVM(C=0.1, break_on_bad=False, cache_tol=auto,\n",
        "       check_constraints=False, inactive_threshold=1e-05,\n",
        "       inactive_window=50, inference_cache=0, logger=None, max_iter=10000,\n",
        "       model=MultiLabelModel(n_states: 2, inference_method: ad3), n_jobs=1,\n",
        "       positive_constraint=None, show_loss_every=0, switch_to=None,\n",
        "       tol=1e-05, verbose=3)\n",
        "New violation: 0.961239 difference to last: 0.000059"
       ]
      },
      {
       "output_type": "stream",
       "stream": "stdout",
       "text": [
        "\n",
        "     pcost       dcost       gap    pres   dres"
       ]
      },
      {
       "output_type": "stream",
       "stream": "stdout",
       "text": [
        "\n",
        " 0: -1.3770e+02 -2.8200e+02  1e+02  5e-16  1e+00\n",
        " 1: -1.3782e+02 -1.4406e+02  6e+00  1e-15  5e-02\n",
        " 2: -1.3798e+02 -1.3940e+02  1e+00  1e-15  9e-03\n",
        " 3: -1.3809e+02 -1.3853e+02  4e-01  2e-15  8e-16"
       ]
      },
      {
       "output_type": "stream",
       "stream": "stdout",
       "text": [
        "\n",
        " 4: -1.3812e+02 -1.3823e+02  1e-01  2e-15  9e-16\n",
        " 5: -1.3814e+02 -1.3816e+02  2e-02  2e-15  8e-16\n",
        " 6: -1.3815e+02 -1.3815e+02  4e-03  2e-15  8e-16"
       ]
      },
      {
       "output_type": "stream",
       "stream": "stdout",
       "text": [
        "\n",
        " 7: -1.3815e+02 -1.3815e+02  9e-04  3e-15  8e-16\n",
        " 8: -1.3815e+02 -1.3815e+02  2e-04  2e-15  8e-16\n",
        " 9: -1.3815e+02 -1.3815e+02  7e-05  3e-15  7e-16\n",
        "Optimal solution found.\n",
        "227 support vectors out of 300 points"
       ]
      },
      {
       "output_type": "stream",
       "stream": "stdout",
       "text": [
        "\n",
        "cutting plane objective: 138.147624, primal objective 138.154805\n",
        "iteration 427\n",
        "OneSlackSSVM(C=0.1, break_on_bad=False, cache_tol=auto,\n",
        "       check_constraints=False, inactive_threshold=1e-05,\n",
        "       inactive_window=50, inference_cache=0, logger=None, max_iter=10000,\n",
        "       model=MultiLabelModel(n_states: 2, inference_method: ad3), n_jobs=1,\n",
        "       positive_constraint=None, show_loss_every=0, switch_to=None,\n",
        "       tol=1e-05, verbose=3)\n",
        "New violation: 0.961237 difference to last: 0.000064"
       ]
      },
      {
       "output_type": "stream",
       "stream": "stdout",
       "text": [
        "\n",
        "     pcost       dcost       gap    pres   dres"
       ]
      },
      {
       "output_type": "stream",
       "stream": "stdout",
       "text": [
        "\n",
        " 0: -1.3770e+02 -2.8182e+02  1e+02  6e-16  1e+00\n",
        " 1: -1.3782e+02 -1.4408e+02  6e+00  1e-15  5e-02\n",
        " 2: -1.3798e+02 -1.3941e+02  1e+00  1e-15  9e-03\n",
        " 3: -1.3809e+02 -1.3854e+02  5e-01  2e-15  9e-16\n",
        " 4: -1.3812e+02 -1.3823e+02  1e-01  2e-15  8e-16\n",
        " 5: -1.3814e+02 -1.3816e+02  2e-02  2e-15  8e-16\n",
        " 6: -1.3815e+02 -1.3815e+02  4e-03  2e-15  8e-16"
       ]
      },
      {
       "output_type": "stream",
       "stream": "stdout",
       "text": [
        "\n",
        " 7: -1.3815e+02 -1.3815e+02  9e-04  3e-15  7e-16\n",
        " 8: -1.3815e+02 -1.3815e+02  2e-04  3e-15  8e-16\n",
        " 9: -1.3815e+02 -1.3815e+02  8e-05  2e-15  8e-16\n",
        "Optimal solution found.\n",
        "232 support vectors out of 301 points\n",
        "cutting plane objective: 138.147619, primal objective 138.155420\n",
        "iteration 428\n",
        "OneSlackSSVM(C=0.1, break_on_bad=False, cache_tol=auto,\n",
        "       check_constraints=False, inactive_threshold=1e-05,\n",
        "       inactive_window=50, inference_cache=0, logger=None, max_iter=10000,\n",
        "       model=MultiLabelModel(n_states: 2, inference_method: ad3), n_jobs=1,\n",
        "       positive_constraint=None, show_loss_every=0, switch_to=None,\n",
        "       tol=1e-05, verbose=3)\n",
        "New violation: 0.961241 difference to last: 0.000061"
       ]
      },
      {
       "output_type": "stream",
       "stream": "stdout",
       "text": [
        "\n",
        "     pcost       dcost       gap    pres   dres"
       ]
      },
      {
       "output_type": "stream",
       "stream": "stdout",
       "text": [
        "\n",
        " 0: -1.3770e+02 -2.8166e+02  1e+02  4e-16  1e+00\n",
        " 1: -1.3782e+02 -1.4402e+02  6e+00  1e-15  5e-02\n",
        " 2: -1.3798e+02 -1.3940e+02  1e+00  1e-15  9e-03\n",
        " 3: -1.3809e+02 -1.3853e+02  4e-01  2e-15  8e-16\n",
        " 4: -1.3812e+02 -1.3823e+02  1e-01  2e-15  8e-16\n",
        " 5: -1.3814e+02 -1.3816e+02  2e-02  2e-15  8e-16"
       ]
      },
      {
       "output_type": "stream",
       "stream": "stdout",
       "text": [
        "\n",
        " 6: -1.3815e+02 -1.3815e+02  4e-03  2e-15  8e-16\n",
        " 7: -1.3815e+02 -1.3815e+02  1e-03  2e-15  8e-16\n",
        " 8: -1.3815e+02 -1.3815e+02  3e-04  2e-15  8e-16\n",
        " 9: -1.3815e+02 -1.3815e+02  9e-05  2e-15  7e-16\n",
        "Optimal solution found.\n",
        "234 support vectors out of 302 points"
       ]
      },
      {
       "output_type": "stream",
       "stream": "stdout",
       "text": [
        "\n",
        "cutting plane objective: 138.147619, primal objective 138.155083\n",
        "iteration 429\n",
        "OneSlackSSVM(C=0.1, break_on_bad=False, cache_tol=auto,\n",
        "       check_constraints=False, inactive_threshold=1e-05,\n",
        "       inactive_window=50, inference_cache=0, logger=None, max_iter=10000,\n",
        "       model=MultiLabelModel(n_states: 2, inference_method: ad3), n_jobs=1,\n",
        "       positive_constraint=None, show_loss_every=0, switch_to=None,\n",
        "       tol=1e-05, verbose=3)\n",
        "New violation: 0.961237 difference to last: 0.000061"
       ]
      },
      {
       "output_type": "stream",
       "stream": "stdout",
       "text": [
        "\n",
        "     pcost       dcost       gap    pres   dres"
       ]
      },
      {
       "output_type": "stream",
       "stream": "stdout",
       "text": [
        "\n",
        " 0: -1.3771e+02 -2.8108e+02  1e+02  4e-16  1e+00\n",
        " 1: -1.3782e+02 -1.4388e+02  6e+00  1e-15  5e-02\n",
        " 2: -1.3798e+02 -1.3940e+02  1e+00  1e-15  9e-03\n",
        " 3: -1.3809e+02 -1.3852e+02  4e-01  2e-15  8e-16\n",
        " 4: -1.3812e+02 -1.3822e+02  1e-01  1e-15  8e-16\n",
        " 5: -1.3814e+02 -1.3816e+02  2e-02  2e-15  8e-16\n",
        " 6: -1.3815e+02 -1.3815e+02  4e-03  2e-15  8e-16"
       ]
      },
      {
       "output_type": "stream",
       "stream": "stdout",
       "text": [
        "\n",
        " 7: -1.3815e+02 -1.3815e+02  9e-04  2e-15  7e-16\n",
        " 8: -1.3815e+02 -1.3815e+02  2e-04  3e-15  8e-16\n",
        " 9: -1.3815e+02 -1.3815e+02  8e-05  2e-15  8e-16\n",
        "Optimal solution found.\n",
        "234 support vectors out of 303 points\n",
        "cutting plane objective: 138.147622, primal objective 138.155065"
       ]
      },
      {
       "output_type": "stream",
       "stream": "stdout",
       "text": [
        "\n",
        "iteration 430\n",
        "OneSlackSSVM(C=0.1, break_on_bad=False, cache_tol=auto,\n",
        "       check_constraints=False, inactive_threshold=1e-05,\n",
        "       inactive_window=50, inference_cache=0, logger=None, max_iter=10000,\n",
        "       model=MultiLabelModel(n_states: 2, inference_method: ad3), n_jobs=1,\n",
        "       positive_constraint=None, show_loss_every=0, switch_to=None,\n",
        "       tol=1e-05, verbose=3)\n",
        "New violation: 0.961238 difference to last: 0.000066"
       ]
      },
      {
       "output_type": "stream",
       "stream": "stdout",
       "text": [
        "\n",
        "     pcost       dcost       gap    pres   dres"
       ]
      },
      {
       "output_type": "stream",
       "stream": "stdout",
       "text": [
        "\n",
        " 0: -1.3771e+02 -2.8080e+02  1e+02  7e-16  1e+00\n",
        " 1: -1.3782e+02 -1.4388e+02  6e+00  1e-15  5e-02\n",
        " 2: -1.3798e+02 -1.3940e+02  1e+00  1e-15  9e-03\n",
        " 3: -1.3809e+02 -1.3852e+02  4e-01  2e-15  9e-16\n",
        " 4: -1.3812e+02 -1.3822e+02  1e-01  2e-15  8e-16\n",
        " 5: -1.3814e+02 -1.3816e+02  2e-02  2e-15  8e-16\n",
        " 6: -1.3815e+02 -1.3815e+02  4e-03  2e-15  8e-16"
       ]
      },
      {
       "output_type": "stream",
       "stream": "stdout",
       "text": [
        "\n",
        " 7: -1.3815e+02 -1.3815e+02  9e-04  2e-15  8e-16\n",
        " 8: -1.3815e+02 -1.3815e+02  2e-04  2e-15  8e-16\n",
        " 9: -1.3815e+02 -1.3815e+02  9e-05  3e-15  7e-16\n",
        "Optimal solution found.\n",
        "237 support vectors out of 304 points\n",
        "cutting plane objective: 138.147622, primal objective 138.155632\n",
        "iteration 431\n",
        "OneSlackSSVM(C=0.1, break_on_bad=False, cache_tol=auto,\n",
        "       check_constraints=False, inactive_threshold=1e-05,\n",
        "       inactive_window=50, inference_cache=0, logger=None, max_iter=10000,\n",
        "       model=MultiLabelModel(n_states: 2, inference_method: ad3), n_jobs=1,\n",
        "       positive_constraint=None, show_loss_every=0, switch_to=None,\n",
        "       tol=1e-05, verbose=3)\n",
        "New violation: 0.961236 difference to last: 0.000064"
       ]
      },
      {
       "output_type": "stream",
       "stream": "stdout",
       "text": [
        "\n",
        "     pcost       dcost       gap    pres   dres"
       ]
      },
      {
       "output_type": "stream",
       "stream": "stdout",
       "text": [
        "\n",
        " 0: -1.3771e+02 -2.8038e+02  1e+02  5e-16  1e+00\n",
        " 1: -1.3782e+02 -1.4384e+02  6e+00  1e-15  5e-02\n",
        " 2: -1.3798e+02 -1.3942e+02  1e+00  1e-15  9e-03\n",
        " 3: -1.3809e+02 -1.3852e+02  4e-01  2e-15  8e-16"
       ]
      },
      {
       "output_type": "stream",
       "stream": "stdout",
       "text": [
        "\n",
        " 4: -1.3812e+02 -1.3823e+02  1e-01  2e-15  8e-16\n",
        " 5: -1.3814e+02 -1.3816e+02  2e-02  2e-15  8e-16\n",
        " 6: -1.3815e+02 -1.3815e+02  4e-03  2e-15  8e-16\n",
        " 7: -1.3815e+02 -1.3815e+02  9e-04  2e-15  8e-16\n",
        " 8: -1.3815e+02 -1.3815e+02  2e-04  3e-15  8e-16"
       ]
      },
      {
       "output_type": "stream",
       "stream": "stdout",
       "text": [
        "\n",
        " 9: -1.3815e+02 -1.3815e+02  8e-05  2e-15  7e-16\n",
        "Optimal solution found.\n",
        "236 support vectors out of 305 points\n",
        "cutting plane objective: 138.147627, primal objective 138.155507\n",
        "iteration 432\n",
        "OneSlackSSVM(C=0.1, break_on_bad=False, cache_tol=auto,\n",
        "       check_constraints=False, inactive_threshold=1e-05,\n",
        "       inactive_window=50, inference_cache=0, logger=None, max_iter=10000,\n",
        "       model=MultiLabelModel(n_states: 2, inference_method: ad3), n_jobs=1,\n",
        "       positive_constraint=None, show_loss_every=0, switch_to=None,\n",
        "       tol=1e-05, verbose=3)\n",
        "New violation: 0.961229 difference to last: 0.000064"
       ]
      },
      {
       "output_type": "stream",
       "stream": "stdout",
       "text": [
        "\n",
        "     pcost       dcost       gap    pres   dres"
       ]
      },
      {
       "output_type": "stream",
       "stream": "stdout",
       "text": [
        "\n",
        " 0: -1.3772e+02 -2.8027e+02  1e+02  8e-16  1e+00\n",
        " 1: -1.3782e+02 -1.4388e+02  6e+00  1e-15  5e-02\n",
        " 2: -1.3798e+02 -1.3943e+02  1e+00  1e-15  9e-03\n",
        " 3: -1.3809e+02 -1.3853e+02  4e-01  2e-15  9e-16\n",
        " 4: -1.3812e+02 -1.3823e+02  1e-01  2e-15  7e-16\n",
        " 5: -1.3814e+02 -1.3816e+02  2e-02  2e-15  8e-16\n",
        " 6: -1.3815e+02 -1.3815e+02  4e-03  2e-15  8e-16"
       ]
      },
      {
       "output_type": "stream",
       "stream": "stdout",
       "text": [
        "\n",
        " 7: -1.3815e+02 -1.3815e+02  9e-04  3e-15  9e-16\n",
        " 8: -1.3815e+02 -1.3815e+02  2e-04  2e-15  8e-16\n",
        " 9: -1.3815e+02 -1.3815e+02  7e-05  2e-15  7e-16\n",
        "Optimal solution found.\n",
        "235 support vectors out of 306 points\n",
        "cutting plane objective: 138.147631, primal objective 138.155454\n",
        "iteration 433\n",
        "OneSlackSSVM(C=0.1, break_on_bad=False, cache_tol=auto,\n",
        "       check_constraints=False, inactive_threshold=1e-05,\n",
        "       inactive_window=50, inference_cache=0, logger=None, max_iter=10000,\n",
        "       model=MultiLabelModel(n_states: 2, inference_method: ad3), n_jobs=1,\n",
        "       positive_constraint=None, show_loss_every=0, switch_to=None,\n",
        "       tol=1e-05, verbose=3)\n",
        "New violation: 0.961223 difference to last: 0.000059"
       ]
      },
      {
       "output_type": "stream",
       "stream": "stdout",
       "text": [
        "\n",
        "     pcost       dcost       gap    pres   dres"
       ]
      },
      {
       "output_type": "stream",
       "stream": "stdout",
       "text": [
        "\n",
        " 0: -1.3772e+02 -2.8030e+02  1e+02  2e-16  1e+00\n",
        " 1: -1.3782e+02 -1.4387e+02  6e+00  1e-15  5e-02\n",
        " 2: -1.3798e+02 -1.3941e+02  1e+00  1e-15  9e-03\n",
        " 3: -1.3809e+02 -1.3853e+02  4e-01  2e-15  9e-16\n",
        " 4: -1.3812e+02 -1.3823e+02  1e-01  2e-15  8e-16\n",
        " 5: -1.3814e+02 -1.3816e+02  2e-02  2e-15  8e-16\n",
        " 6: -1.3815e+02 -1.3815e+02  4e-03  2e-15  8e-16"
       ]
      },
      {
       "output_type": "stream",
       "stream": "stdout",
       "text": [
        "\n",
        " 7: -1.3815e+02 -1.3815e+02  9e-04  2e-15  8e-16\n",
        " 8: -1.3815e+02 -1.3815e+02  2e-04  2e-15  8e-16\n",
        " 9: -1.3815e+02 -1.3815e+02  8e-05  2e-15  7e-16\n",
        "Optimal solution found.\n",
        "238 support vectors out of 307 points\n",
        "cutting plane objective: 138.147631, primal objective 138.154898\n",
        "iteration 434\n",
        "OneSlackSSVM(C=0.1, break_on_bad=False, cache_tol=auto,\n",
        "       check_constraints=False, inactive_threshold=1e-05,\n",
        "       inactive_window=50, inference_cache=0, logger=None, max_iter=10000,\n",
        "       model=MultiLabelModel(n_states: 2, inference_method: ad3), n_jobs=1,\n",
        "       positive_constraint=None, show_loss_every=0, switch_to=None,\n",
        "       tol=1e-05, verbose=3)\n",
        "New violation: 0.961222 difference to last: 0.000060"
       ]
      },
      {
       "output_type": "stream",
       "stream": "stdout",
       "text": [
        "\n",
        "     pcost       dcost       gap    pres   dres"
       ]
      },
      {
       "output_type": "stream",
       "stream": "stdout",
       "text": [
        "\n",
        " 0: -1.3772e+02 -2.8011e+02  1e+02  8e-16  1e+00\n",
        " 1: -1.3783e+02 -1.4384e+02  6e+00  1e-15  5e-02\n",
        " 2: -1.3798e+02 -1.3941e+02  1e+00  1e-15  9e-03\n",
        " 3: -1.3809e+02 -1.3853e+02  4e-01  1e-15  8e-16\n",
        " 4: -1.3812e+02 -1.3823e+02  1e-01  2e-15  8e-16\n",
        " 5: -1.3814e+02 -1.3816e+02  2e-02  2e-15  9e-16\n",
        " 6: -1.3815e+02 -1.3815e+02  4e-03  2e-15  9e-16"
       ]
      },
      {
       "output_type": "stream",
       "stream": "stdout",
       "text": [
        "\n",
        " 7: -1.3815e+02 -1.3815e+02  9e-04  2e-15  8e-16\n",
        " 8: -1.3815e+02 -1.3815e+02  2e-04  2e-15  7e-16\n",
        " 9: -1.3815e+02 -1.3815e+02  8e-05  2e-15  7e-16\n",
        "Optimal solution found.\n",
        "239 support vectors out of 308 points\n",
        "cutting plane objective: 138.147631, primal objective 138.155017\n",
        "iteration 435\n",
        "OneSlackSSVM(C=0.1, break_on_bad=False, cache_tol=auto,\n",
        "       check_constraints=False, inactive_threshold=1e-05,\n",
        "       inactive_window=50, inference_cache=0, logger=None, max_iter=10000,\n",
        "       model=MultiLabelModel(n_states: 2, inference_method: ad3), n_jobs=1,\n",
        "       positive_constraint=None, show_loss_every=0, switch_to=None,\n",
        "       tol=1e-05, verbose=3)\n",
        "New violation: 0.961228 difference to last: 0.000062"
       ]
      },
      {
       "output_type": "stream",
       "stream": "stdout",
       "text": [
        "\n",
        "     pcost       dcost       gap    pres   dres"
       ]
      },
      {
       "output_type": "stream",
       "stream": "stdout",
       "text": [
        "\n",
        " 0: -1.3772e+02 -2.7968e+02  1e+02  3e-16  1e+00\n",
        " 1: -1.3783e+02 -1.4377e+02  6e+00  1e-15  5e-02\n",
        " 2: -1.3798e+02 -1.3939e+02  1e+00  1e-15  9e-03\n",
        " 3: -1.3809e+02 -1.3853e+02  4e-01  1e-15  9e-16\n",
        " 4: -1.3812e+02 -1.3823e+02  1e-01  2e-15  8e-16\n",
        " 5: -1.3814e+02 -1.3816e+02  2e-02  2e-15  8e-16\n",
        " 6: -1.3815e+02 -1.3815e+02  4e-03  2e-15  7e-16"
       ]
      },
      {
       "output_type": "stream",
       "stream": "stdout",
       "text": [
        "\n",
        " 7: -1.3815e+02 -1.3815e+02  9e-04  2e-15  8e-16\n",
        " 8: -1.3815e+02 -1.3815e+02  2e-04  2e-15  7e-16\n",
        " 9: -1.3815e+02 -1.3815e+02  7e-05  2e-15  7e-16\n",
        "Optimal solution found.\n",
        "239 support vectors out of 309 points\n",
        "cutting plane objective: 138.147637, primal objective 138.155252\n",
        "iteration 436\n",
        "OneSlackSSVM(C=0.1, break_on_bad=False, cache_tol=auto,\n",
        "       check_constraints=False, inactive_threshold=1e-05,\n",
        "       inactive_window=50, inference_cache=0, logger=None, max_iter=10000,\n",
        "       model=MultiLabelModel(n_states: 2, inference_method: ad3), n_jobs=1,\n",
        "       positive_constraint=None, show_loss_every=0, switch_to=None,\n",
        "       tol=1e-05, verbose=3)\n",
        "New violation: 0.961230 difference to last: 0.000064"
       ]
      },
      {
       "output_type": "stream",
       "stream": "stdout",
       "text": [
        "\n",
        "     pcost       dcost       gap    pres   dres"
       ]
      },
      {
       "output_type": "stream",
       "stream": "stdout",
       "text": [
        "\n",
        " 0: -1.3772e+02 -2.7992e+02  1e+02  5e-16  1e+00\n",
        " 1: -1.3783e+02 -1.4381e+02  6e+00  1e-15  5e-02\n",
        " 2: -1.3798e+02 -1.3940e+02  1e+00  1e-15  9e-03\n",
        " 3: -1.3809e+02 -1.3854e+02  4e-01  1e-15  8e-16\n",
        " 4: -1.3812e+02 -1.3823e+02  1e-01  2e-15  8e-16\n",
        " 5: -1.3814e+02 -1.3816e+02  2e-02  2e-15  8e-16\n",
        " 6: -1.3815e+02 -1.3815e+02  4e-03  2e-15  8e-16"
       ]
      },
      {
       "output_type": "stream",
       "stream": "stdout",
       "text": [
        "\n",
        " 7: -1.3815e+02 -1.3815e+02  9e-04  2e-15  8e-16\n",
        " 8: -1.3815e+02 -1.3815e+02  2e-04  3e-15  8e-16\n",
        " 9: -1.3815e+02 -1.3815e+02  7e-05  2e-15  7e-16\n",
        "Optimal solution found.\n",
        "238 support vectors out of 310 points\n",
        "cutting plane objective: 138.147641, primal objective 138.155475\n",
        "iteration 437\n",
        "OneSlackSSVM(C=0.1, break_on_bad=False, cache_tol=auto,\n",
        "       check_constraints=False, inactive_threshold=1e-05,\n",
        "       inactive_window=50, inference_cache=0, logger=None, max_iter=10000,\n",
        "       model=MultiLabelModel(n_states: 2, inference_method: ad3), n_jobs=1,\n",
        "       positive_constraint=None, show_loss_every=0, switch_to=None,\n",
        "       tol=1e-05, verbose=3)\n",
        "New violation: 0.961225 difference to last: 0.000060"
       ]
      },
      {
       "output_type": "stream",
       "stream": "stdout",
       "text": [
        "\n",
        "     pcost       dcost       gap    pres   dres"
       ]
      },
      {
       "output_type": "stream",
       "stream": "stdout",
       "text": [
        "\n",
        " 0: -1.3772e+02 -2.7992e+02  1e+02  8e-16  1e+00\n",
        " 1: -1.3783e+02 -1.4382e+02  6e+00  1e-15  5e-02\n",
        " 2: -1.3798e+02 -1.3939e+02  1e+00  1e-15  9e-03\n",
        " 3: -1.3809e+02 -1.3854e+02  4e-01  1e-15  9e-16\n",
        " 4: -1.3812e+02 -1.3823e+02  1e-01  2e-15  8e-16\n",
        " 5: -1.3814e+02 -1.3816e+02  2e-02  2e-15  8e-16"
       ]
      },
      {
       "output_type": "stream",
       "stream": "stdout",
       "text": [
        "\n",
        " 6: -1.3815e+02 -1.3815e+02  4e-03  2e-15  8e-16\n",
        " 7: -1.3815e+02 -1.3815e+02  8e-04  2e-15  8e-16\n",
        " 8: -1.3815e+02 -1.3815e+02  2e-04  3e-15  7e-16\n",
        " 9: -1.3815e+02 -1.3815e+02  7e-05  2e-15  8e-16\n",
        "Optimal solution found.\n",
        "238 support vectors out of 311 points\n",
        "cutting plane objective: 138.147643, primal objective 138.154926"
       ]
      },
      {
       "output_type": "stream",
       "stream": "stdout",
       "text": [
        "\n",
        "iteration 438\n",
        "OneSlackSSVM(C=0.1, break_on_bad=False, cache_tol=auto,\n",
        "       check_constraints=False, inactive_threshold=1e-05,\n",
        "       inactive_window=50, inference_cache=0, logger=None, max_iter=10000,\n",
        "       model=MultiLabelModel(n_states: 2, inference_method: ad3), n_jobs=1,\n",
        "       positive_constraint=None, show_loss_every=0, switch_to=None,\n",
        "       tol=1e-05, verbose=3)\n",
        "New violation: 0.961228 difference to last: 0.000060"
       ]
      },
      {
       "output_type": "stream",
       "stream": "stdout",
       "text": [
        "\n",
        "     pcost       dcost       gap    pres   dres"
       ]
      },
      {
       "output_type": "stream",
       "stream": "stdout",
       "text": [
        "\n",
        " 0: -1.3772e+02 -2.7993e+02  1e+02  6e-17  1e+00\n",
        " 1: -1.3783e+02 -1.4375e+02  6e+00  1e-15  5e-02\n",
        " 2: -1.3799e+02 -1.3935e+02  1e+00  1e-15  9e-03\n",
        " 3: -1.3809e+02 -1.3856e+02  5e-01  2e-15  9e-16\n",
        " 4: -1.3812e+02 -1.3823e+02  1e-01  2e-15  8e-16\n",
        " 5: -1.3814e+02 -1.3816e+02  2e-02  3e-15  9e-16\n",
        " 6: -1.3815e+02 -1.3815e+02  4e-03  2e-15  8e-16"
       ]
      },
      {
       "output_type": "stream",
       "stream": "stdout",
       "text": [
        "\n",
        " 7: -1.3815e+02 -1.3815e+02  8e-04  3e-15  8e-16\n",
        " 8: -1.3815e+02 -1.3815e+02  2e-04  2e-15  8e-16\n",
        " 9: -1.3815e+02 -1.3815e+02  7e-05  2e-15  7e-16\n",
        "Optimal solution found.\n",
        "244 support vectors out of 312 points\n",
        "cutting plane objective: 138.147641, primal objective 138.154992\n",
        "iteration 439\n",
        "OneSlackSSVM(C=0.1, break_on_bad=False, cache_tol=auto,\n",
        "       check_constraints=False, inactive_threshold=1e-05,\n",
        "       inactive_window=50, inference_cache=0, logger=None, max_iter=10000,\n",
        "       model=MultiLabelModel(n_states: 2, inference_method: ad3), n_jobs=1,\n",
        "       positive_constraint=None, show_loss_every=0, switch_to=None,\n",
        "       tol=1e-05, verbose=3)\n",
        "New violation: 0.961223 difference to last: 0.000058"
       ]
      },
      {
       "output_type": "stream",
       "stream": "stdout",
       "text": [
        "\n",
        "     pcost       dcost       gap    pres   dres"
       ]
      },
      {
       "output_type": "stream",
       "stream": "stdout",
       "text": [
        "\n",
        " 0: -1.3773e+02 -2.8009e+02  1e+02  4e-16  1e+00\n",
        " 1: -1.3783e+02 -1.4370e+02  6e+00  1e-15  5e-02\n",
        " 2: -1.3799e+02 -1.3932e+02  1e+00  1e-15  9e-03\n",
        " 3: -1.3809e+02 -1.3855e+02  5e-01  1e-15  8e-16\n",
        " 4: -1.3812e+02 -1.3823e+02  1e-01  2e-15  7e-16\n",
        " 5: -1.3814e+02 -1.3816e+02  2e-02  2e-15  8e-16\n",
        " 6: -1.3815e+02 -1.3815e+02  4e-03  2e-15  8e-16"
       ]
      },
      {
       "output_type": "stream",
       "stream": "stdout",
       "text": [
        "\n",
        " 7: -1.3815e+02 -1.3815e+02  8e-04  3e-15  8e-16\n",
        " 8: -1.3815e+02 -1.3815e+02  2e-04  2e-15  8e-16\n",
        " 9: -1.3815e+02 -1.3815e+02  8e-05  2e-15  7e-16\n",
        "Optimal solution found.\n",
        "245 support vectors out of 313 points\n",
        "cutting plane objective: 138.147641, primal objective 138.154708\n",
        "iteration 440\n",
        "OneSlackSSVM(C=0.1, break_on_bad=False, cache_tol=auto,\n",
        "       check_constraints=False, inactive_threshold=1e-05,\n",
        "       inactive_window=50, inference_cache=0, logger=None, max_iter=10000,\n",
        "       model=MultiLabelModel(n_states: 2, inference_method: ad3), n_jobs=1,\n",
        "       positive_constraint=None, show_loss_every=0, switch_to=None,\n",
        "       tol=1e-05, verbose=3)\n",
        "New violation: 0.961222 difference to last: 0.000056"
       ]
      },
      {
       "output_type": "stream",
       "stream": "stdout",
       "text": [
        "\n",
        "     pcost       dcost       gap    pres   dres"
       ]
      },
      {
       "output_type": "stream",
       "stream": "stdout",
       "text": [
        "\n",
        " 0: -1.3772e+02 -2.8039e+02  1e+02  3e-16  1e+00\n",
        " 1: -1.3783e+02 -1.4373e+02  6e+00  1e-15  5e-02\n",
        " 2: -1.3799e+02 -1.3932e+02  1e+00  1e-15  9e-03\n",
        " 3: -1.3809e+02 -1.3856e+02  5e-01  1e-15  9e-16\n",
        " 4: -1.3812e+02 -1.3823e+02  1e-01  2e-15  8e-16\n",
        " 5: -1.3814e+02 -1.3816e+02  2e-02  2e-15  9e-16\n",
        " 6: -1.3815e+02 -1.3815e+02  4e-03  2e-15  8e-16"
       ]
      },
      {
       "output_type": "stream",
       "stream": "stdout",
       "text": [
        "\n",
        " 7: -1.3815e+02 -1.3815e+02  8e-04  3e-15  8e-16\n",
        " 8: -1.3815e+02 -1.3815e+02  2e-04  3e-15  9e-16\n",
        " 9: -1.3815e+02 -1.3815e+02  8e-05  3e-15  7e-16\n",
        "Optimal solution found.\n",
        "246 support vectors out of 314 points\n",
        "cutting plane objective: 138.147642, primal objective 138.154508\n",
        "iteration 441\n",
        "OneSlackSSVM(C=0.1, break_on_bad=False, cache_tol=auto,\n",
        "       check_constraints=False, inactive_threshold=1e-05,\n",
        "       inactive_window=50, inference_cache=0, logger=None, max_iter=10000,\n",
        "       model=MultiLabelModel(n_states: 2, inference_method: ad3), n_jobs=1,\n",
        "       positive_constraint=None, show_loss_every=0, switch_to=None,\n",
        "       tol=1e-05, verbose=3)\n",
        "New violation: 0.961221 difference to last: 0.000055"
       ]
      },
      {
       "output_type": "stream",
       "stream": "stdout",
       "text": [
        "\n",
        "     pcost       dcost       gap    pres   dres"
       ]
      },
      {
       "output_type": "stream",
       "stream": "stdout",
       "text": [
        "\n",
        " 0: -1.3772e+02 -2.8002e+02  1e+02  2e-15  1e+00\n",
        " 1: -1.3783e+02 -1.4377e+02  6e+00  2e-15  5e-02\n",
        " 2: -1.3799e+02 -1.3933e+02  1e+00  1e-15  9e-03\n",
        " 3: -1.3809e+02 -1.3856e+02  5e-01  2e-15  8e-16\n",
        " 4: -1.3812e+02 -1.3823e+02  1e-01  2e-15  8e-16\n",
        " 5: -1.3814e+02 -1.3816e+02  2e-02  2e-15  8e-16\n",
        " 6: -1.3815e+02 -1.3815e+02  4e-03  2e-15  9e-16"
       ]
      },
      {
       "output_type": "stream",
       "stream": "stdout",
       "text": [
        "\n",
        " 7: -1.3815e+02 -1.3815e+02  8e-04  2e-15  8e-16\n",
        " 8: -1.3815e+02 -1.3815e+02  2e-04  3e-15  9e-16\n",
        " 9: -1.3815e+02 -1.3815e+02  8e-05  2e-15  7e-16\n",
        "Optimal solution found.\n",
        "246 support vectors out of 315 points\n",
        "cutting plane objective: 138.147643, primal objective 138.154370\n",
        "iteration 442\n",
        "OneSlackSSVM(C=0.1, break_on_bad=False, cache_tol=auto,\n",
        "       check_constraints=False, inactive_threshold=1e-05,\n",
        "       inactive_window=50, inference_cache=0, logger=None, max_iter=10000,\n",
        "       model=MultiLabelModel(n_states: 2, inference_method: ad3), n_jobs=1,\n",
        "       positive_constraint=None, show_loss_every=0, switch_to=None,\n",
        "       tol=1e-05, verbose=3)\n",
        "New violation: 0.961222 difference to last: 0.000060"
       ]
      },
      {
       "output_type": "stream",
       "stream": "stdout",
       "text": [
        "\n",
        "     pcost       dcost       gap    pres   dres"
       ]
      },
      {
       "output_type": "stream",
       "stream": "stdout",
       "text": [
        "\n",
        " 0: -1.3772e+02 -2.8034e+02  1e+02  1e-16  1e+00\n",
        " 1: -1.3783e+02 -1.4382e+02  6e+00  1e-15  5e-02\n",
        " 2: -1.3799e+02 -1.3936e+02  1e+00  1e-15  9e-03\n",
        " 3: -1.3809e+02 -1.3854e+02  4e-01  2e-15  8e-16\n",
        " 4: -1.3812e+02 -1.3823e+02  1e-01  1e-15  8e-16\n",
        " 5: -1.3814e+02 -1.3816e+02  2e-02  2e-15  8e-16\n",
        " 6: -1.3815e+02 -1.3815e+02  4e-03  2e-15  9e-16"
       ]
      },
      {
       "output_type": "stream",
       "stream": "stdout",
       "text": [
        "\n",
        " 7: -1.3815e+02 -1.3815e+02  8e-04  2e-15  8e-16\n",
        " 8: -1.3815e+02 -1.3815e+02  2e-04  2e-15  8e-16\n",
        " 9: -1.3815e+02 -1.3815e+02  8e-05  3e-15  7e-16\n",
        "Optimal solution found.\n",
        "248 support vectors out of 316 points\n",
        "cutting plane objective: 138.147644, primal objective 138.154928\n",
        "iteration 443\n",
        "OneSlackSSVM(C=0.1, break_on_bad=False, cache_tol=auto,\n",
        "       check_constraints=False, inactive_threshold=1e-05,\n",
        "       inactive_window=50, inference_cache=0, logger=None, max_iter=10000,\n",
        "       model=MultiLabelModel(n_states: 2, inference_method: ad3), n_jobs=1,\n",
        "       positive_constraint=None, show_loss_every=0, switch_to=None,\n",
        "       tol=1e-05, verbose=3)\n",
        "New violation: 0.961219 difference to last: 0.000058"
       ]
      },
      {
       "output_type": "stream",
       "stream": "stdout",
       "text": [
        "\n",
        "     pcost       dcost       gap    pres   dres"
       ]
      },
      {
       "output_type": "stream",
       "stream": "stdout",
       "text": [
        "\n",
        " 0: -1.3772e+02 -2.7936e+02  1e+02  2e-16  1e+00\n",
        " 1: -1.3783e+02 -1.4406e+02  6e+00  1e-15  5e-02\n",
        " 2: -1.3798e+02 -1.3952e+02  2e+00  1e-15  1e-02\n",
        " 3: -1.3809e+02 -1.3847e+02  4e-01  2e-15  1e-04\n",
        " 4: -1.3813e+02 -1.3821e+02  9e-02  2e-15  8e-16\n",
        " 5: -1.3814e+02 -1.3816e+02  2e-02  2e-15  8e-16"
       ]
      },
      {
       "output_type": "stream",
       "stream": "stdout",
       "text": [
        "\n",
        " 6: -1.3815e+02 -1.3815e+02  4e-03  2e-15  9e-16\n",
        " 7: -1.3815e+02 -1.3815e+02  7e-04  2e-15  9e-16\n",
        " 8: -1.3815e+02 -1.3815e+02  2e-04  2e-15  9e-16\n",
        " 9: -1.3815e+02 -1.3815e+02  8e-05  2e-15  7e-16\n",
        "Optimal solution found.\n",
        "248 support vectors out of 315 points"
       ]
      },
      {
       "output_type": "stream",
       "stream": "stdout",
       "text": [
        "\n",
        "cutting plane objective: 138.147645, primal objective 138.154705\n",
        "iteration 444\n",
        "OneSlackSSVM(C=0.1, break_on_bad=False, cache_tol=auto,\n",
        "       check_constraints=False, inactive_threshold=1e-05,\n",
        "       inactive_window=50, inference_cache=0, logger=None, max_iter=10000,\n",
        "       model=MultiLabelModel(n_states: 2, inference_method: ad3), n_jobs=1,\n",
        "       positive_constraint=None, show_loss_every=0, switch_to=None,\n",
        "       tol=1e-05, verbose=3)\n",
        "New violation: 0.961220 difference to last: 0.000054"
       ]
      },
      {
       "output_type": "stream",
       "stream": "stdout",
       "text": [
        "\n",
        "     pcost       dcost       gap    pres   dres"
       ]
      },
      {
       "output_type": "stream",
       "stream": "stdout",
       "text": [
        "\n",
        " 0: -1.3772e+02 -2.7940e+02  1e+02  4e-16  1e+00\n",
        " 1: -1.3783e+02 -1.4407e+02  6e+00  1e-15  5e-02\n",
        " 2: -1.3798e+02 -1.3953e+02  2e+00  1e-15  1e-02\n",
        " 3: -1.3809e+02 -1.3847e+02  4e-01  2e-15  4e-05\n",
        " 4: -1.3813e+02 -1.3822e+02  9e-02  2e-15  9e-16\n",
        " 5: -1.3814e+02 -1.3816e+02  2e-02  2e-15  7e-16\n",
        " 6: -1.3815e+02 -1.3815e+02  4e-03  3e-15  8e-16"
       ]
      },
      {
       "output_type": "stream",
       "stream": "stdout",
       "text": [
        "\n",
        " 7: -1.3815e+02 -1.3815e+02  7e-04  2e-15  8e-16\n",
        " 8: -1.3815e+02 -1.3815e+02  2e-04  3e-15  8e-16\n",
        " 9: -1.3815e+02 -1.3815e+02  8e-05  2e-15  8e-16\n",
        "Optimal solution found.\n",
        "249 support vectors out of 316 points\n",
        "cutting plane objective: 138.147645, primal objective 138.154226\n",
        "iteration 445\n",
        "OneSlackSSVM(C=0.1, break_on_bad=False, cache_tol=auto,\n",
        "       check_constraints=False, inactive_threshold=1e-05,\n",
        "       inactive_window=50, inference_cache=0, logger=None, max_iter=10000,\n",
        "       model=MultiLabelModel(n_states: 2, inference_method: ad3), n_jobs=1,\n",
        "       positive_constraint=None, show_loss_every=0, switch_to=None,\n",
        "       tol=1e-05, verbose=3)\n",
        "New violation: 0.961224 difference to last: 0.000057"
       ]
      },
      {
       "output_type": "stream",
       "stream": "stdout",
       "text": [
        "\n",
        "     pcost       dcost       gap    pres   dres"
       ]
      },
      {
       "output_type": "stream",
       "stream": "stdout",
       "text": [
        "\n",
        " 0: -1.3772e+02 -2.7936e+02  1e+02  3e-16  1e+00\n",
        " 1: -1.3783e+02 -1.4404e+02  6e+00  1e-15  5e-02\n",
        " 2: -1.3798e+02 -1.3952e+02  2e+00  1e-15  1e-02\n",
        " 3: -1.3809e+02 -1.3847e+02  4e-01  2e-15  6e-06\n",
        " 4: -1.3813e+02 -1.3822e+02  9e-02  2e-15  9e-16\n",
        " 5: -1.3814e+02 -1.3816e+02  2e-02  2e-15  8e-16"
       ]
      },
      {
       "output_type": "stream",
       "stream": "stdout",
       "text": [
        "\n",
        " 6: -1.3815e+02 -1.3815e+02  3e-03  2e-15  8e-16\n",
        " 7: -1.3815e+02 -1.3815e+02  7e-04  2e-15  8e-16\n",
        " 8: -1.3815e+02 -1.3815e+02  2e-04  3e-15  9e-16\n",
        " 9: -1.3815e+02 -1.3815e+02  8e-05  3e-15  7e-16\n",
        "Optimal solution found.\n",
        "250 support vectors out of 317 points"
       ]
      },
      {
       "output_type": "stream",
       "stream": "stdout",
       "text": [
        "\n",
        "cutting plane objective: 138.147646, primal objective 138.154615\n",
        "iteration 446\n",
        "OneSlackSSVM(C=0.1, break_on_bad=False, cache_tol=auto,\n",
        "       check_constraints=False, inactive_threshold=1e-05,\n",
        "       inactive_window=50, inference_cache=0, logger=None, max_iter=10000,\n",
        "       model=MultiLabelModel(n_states: 2, inference_method: ad3), n_jobs=1,\n",
        "       positive_constraint=None, show_loss_every=0, switch_to=None,\n",
        "       tol=1e-05, verbose=3)\n",
        "New violation: 0.961218 difference to last: 0.000055"
       ]
      },
      {
       "output_type": "stream",
       "stream": "stdout",
       "text": [
        "\n",
        "     pcost       dcost       gap    pres   dres"
       ]
      },
      {
       "output_type": "stream",
       "stream": "stdout",
       "text": [
        "\n",
        " 0: -1.3773e+02 -2.7952e+02  1e+02  4e-16  1e+00\n",
        " 1: -1.3783e+02 -1.4406e+02  6e+00  1e-15  5e-02\n",
        " 2: -1.3799e+02 -1.3953e+02  2e+00  1e-15  1e-02\n",
        " 3: -1.3809e+02 -1.3847e+02  4e-01  2e-15  8e-16\n",
        " 4: -1.3813e+02 -1.3821e+02  9e-02  2e-15  8e-16\n",
        " 5: -1.3814e+02 -1.3816e+02  2e-02  2e-15  8e-16\n",
        " 6: -1.3815e+02 -1.3815e+02  4e-03  2e-15  8e-16"
       ]
      },
      {
       "output_type": "stream",
       "stream": "stdout",
       "text": [
        "\n",
        " 7: -1.3815e+02 -1.3815e+02  7e-04  3e-15  8e-16\n",
        " 8: -1.3815e+02 -1.3815e+02  2e-04  2e-15  8e-16\n",
        " 9: -1.3815e+02 -1.3815e+02  9e-05  2e-15  8e-16\n",
        "Optimal solution found.\n",
        "252 support vectors out of 318 points\n",
        "cutting plane objective: 138.147646, primal objective 138.154345"
       ]
      },
      {
       "output_type": "stream",
       "stream": "stdout",
       "text": [
        "\n",
        "iteration 447\n",
        "OneSlackSSVM(C=0.1, break_on_bad=False, cache_tol=auto,\n",
        "       check_constraints=False, inactive_threshold=1e-05,\n",
        "       inactive_window=50, inference_cache=0, logger=None, max_iter=10000,\n",
        "       model=MultiLabelModel(n_states: 2, inference_method: ad3), n_jobs=1,\n",
        "       positive_constraint=None, show_loss_every=0, switch_to=None,\n",
        "       tol=1e-05, verbose=3)\n",
        "New violation: 0.961219 difference to last: 0.000057"
       ]
      },
      {
       "output_type": "stream",
       "stream": "stdout",
       "text": [
        "\n",
        "     pcost       dcost       gap    pres   dres"
       ]
      },
      {
       "output_type": "stream",
       "stream": "stdout",
       "text": [
        "\n",
        " 0: -1.3773e+02 -2.7917e+02  1e+02  5e-16  1e+00\n",
        " 1: -1.3783e+02 -1.4407e+02  6e+00  1e-15  5e-02\n",
        " 2: -1.3799e+02 -1.3953e+02  2e+00  1e-15  1e-02\n",
        " 3: -1.3809e+02 -1.3847e+02  4e-01  2e-15  8e-16\n",
        " 4: -1.3813e+02 -1.3821e+02  8e-02  2e-15  9e-16\n",
        " 5: -1.3814e+02 -1.3816e+02  2e-02  2e-15  8e-16"
       ]
      },
      {
       "output_type": "stream",
       "stream": "stdout",
       "text": [
        "\n",
        " 6: -1.3815e+02 -1.3815e+02  4e-03  2e-15  8e-16\n",
        " 7: -1.3815e+02 -1.3815e+02  8e-04  2e-15  8e-16\n",
        " 8: -1.3815e+02 -1.3815e+02  2e-04  2e-15  8e-16\n",
        " 9: -1.3815e+02 -1.3815e+02  9e-05  3e-15  7e-16\n",
        "Optimal solution found.\n",
        "253 support vectors out of 319 points"
       ]
      },
      {
       "output_type": "stream",
       "stream": "stdout",
       "text": [
        "\n",
        "cutting plane objective: 138.147645, primal objective 138.154572\n",
        "iteration 448\n",
        "OneSlackSSVM(C=0.1, break_on_bad=False, cache_tol=auto,\n",
        "       check_constraints=False, inactive_threshold=1e-05,\n",
        "       inactive_window=50, inference_cache=0, logger=None, max_iter=10000,\n",
        "       model=MultiLabelModel(n_states: 2, inference_method: ad3), n_jobs=1,\n",
        "       positive_constraint=None, show_loss_every=0, switch_to=None,\n",
        "       tol=1e-05, verbose=3)\n",
        "New violation: 0.961219 difference to last: 0.000055"
       ]
      },
      {
       "output_type": "stream",
       "stream": "stdout",
       "text": [
        "\n",
        "     pcost       dcost       gap    pres   dres"
       ]
      },
      {
       "output_type": "stream",
       "stream": "stdout",
       "text": [
        "\n",
        " 0: -1.3773e+02 -2.7927e+02  1e+02  5e-16  1e+00\n",
        " 1: -1.3783e+02 -1.4415e+02  6e+00  1e-15  5e-02\n",
        " 2: -1.3798e+02 -1.3956e+02  2e+00  1e-15  1e-02\n",
        " 3: -1.3809e+02 -1.3848e+02  4e-01  1e-15  1e-04\n",
        " 4: -1.3813e+02 -1.3822e+02  9e-02  2e-15  9e-07\n",
        " 5: -1.3814e+02 -1.3816e+02  2e-02  2e-15  1e-07"
       ]
      },
      {
       "output_type": "stream",
       "stream": "stdout",
       "text": [
        "\n",
        " 6: -1.3815e+02 -1.3815e+02  4e-03  2e-15  1e-08\n",
        " 7: -1.3815e+02 -1.3815e+02  8e-04  3e-15  2e-09\n",
        " 8: -1.3815e+02 -1.3815e+02  2e-04  2e-15  3e-10\n",
        " 9: -1.3815e+02 -1.3815e+02  9e-05  2e-15  2e-10"
       ]
      },
      {
       "output_type": "stream",
       "stream": "stdout",
       "text": [
        "\n",
        "Optimal solution found.\n",
        "254 support vectors out of 320 points\n",
        "cutting plane objective: 138.147646, primal objective 138.154431\n",
        "iteration 449\n",
        "OneSlackSSVM(C=0.1, break_on_bad=False, cache_tol=auto,\n",
        "       check_constraints=False, inactive_threshold=1e-05,\n",
        "       inactive_window=50, inference_cache=0, logger=None, max_iter=10000,\n",
        "       model=MultiLabelModel(n_states: 2, inference_method: ad3), n_jobs=1,\n",
        "       positive_constraint=None, show_loss_every=0, switch_to=None,\n",
        "       tol=1e-05, verbose=3)\n",
        "New violation: 0.961209 difference to last: 0.000050"
       ]
      },
      {
       "output_type": "stream",
       "stream": "stdout",
       "text": [
        "\n",
        "     pcost       dcost       gap    pres   dres"
       ]
      },
      {
       "output_type": "stream",
       "stream": "stdout",
       "text": [
        "\n",
        " 0: -1.3773e+02 -2.7924e+02  1e+02  4e-16  1e+00\n",
        " 1: -1.3783e+02 -1.4408e+02  6e+00  1e-15  5e-02\n",
        " 2: -1.3799e+02 -1.3954e+02  2e+00  1e-15  1e-02\n",
        " 3: -1.3809e+02 -1.3847e+02  4e-01  1e-15  3e-05\n",
        " 4: -1.3813e+02 -1.3821e+02  8e-02  2e-15  9e-16\n",
        " 5: -1.3814e+02 -1.3816e+02  2e-02  2e-15  8e-16"
       ]
      },
      {
       "output_type": "stream",
       "stream": "stdout",
       "text": [
        "\n",
        " 6: -1.3815e+02 -1.3815e+02  4e-03  2e-15  7e-16\n",
        " 7: -1.3815e+02 -1.3815e+02  8e-04  2e-15  8e-16\n",
        " 8: -1.3815e+02 -1.3815e+02  2e-04  2e-15  8e-16\n",
        " 9: -1.3815e+02 -1.3815e+02  9e-05  3e-15  7e-16\n",
        "Optimal solution found.\n",
        "255 support vectors out of 321 points"
       ]
      },
      {
       "output_type": "stream",
       "stream": "stdout",
       "text": [
        "\n",
        "cutting plane objective: 138.147648, primal objective 138.153746\n",
        "iteration 450\n",
        "OneSlackSSVM(C=0.1, break_on_bad=False, cache_tol=auto,\n",
        "       check_constraints=False, inactive_threshold=1e-05,\n",
        "       inactive_window=50, inference_cache=0, logger=None, max_iter=10000,\n",
        "       model=MultiLabelModel(n_states: 2, inference_method: ad3), n_jobs=1,\n",
        "       positive_constraint=None, show_loss_every=0, switch_to=None,\n",
        "       tol=1e-05, verbose=3)\n",
        "New violation: 0.961209 difference to last: 0.000050"
       ]
      },
      {
       "output_type": "stream",
       "stream": "stdout",
       "text": [
        "\n",
        "     pcost       dcost       gap    pres   dres"
       ]
      },
      {
       "output_type": "stream",
       "stream": "stdout",
       "text": [
        "\n",
        " 0: -1.3773e+02 -2.7900e+02  1e+02  2e-16  1e+00\n",
        " 1: -1.3784e+02 -1.4400e+02  6e+00  1e-15  5e-02\n",
        " 2: -1.3799e+02 -1.3951e+02  2e+00  1e-15  9e-03\n",
        " 3: -1.3809e+02 -1.3847e+02  4e-01  2e-15  8e-16\n",
        " 4: -1.3813e+02 -1.3821e+02  8e-02  2e-15  9e-16\n",
        " 5: -1.3814e+02 -1.3816e+02  2e-02  2e-15  7e-16"
       ]
      },
      {
       "output_type": "stream",
       "stream": "stdout",
       "text": [
        "\n",
        " 6: -1.3815e+02 -1.3815e+02  4e-03  2e-15  8e-16\n",
        " 7: -1.3815e+02 -1.3815e+02  8e-04  2e-15  8e-16\n",
        " 8: -1.3815e+02 -1.3815e+02  2e-04  3e-15  8e-16\n",
        " 9: -1.3815e+02 -1.3815e+02  9e-05  3e-15  7e-16"
       ]
      },
      {
       "output_type": "stream",
       "stream": "stdout",
       "text": [
        "\n",
        "Optimal solution found.\n",
        "256 support vectors out of 322 points\n",
        "cutting plane objective: 138.147649, primal objective 138.153806\n",
        "iteration 451\n",
        "OneSlackSSVM(C=0.1, break_on_bad=False, cache_tol=auto,\n",
        "       check_constraints=False, inactive_threshold=1e-05,\n",
        "       inactive_window=50, inference_cache=0, logger=None, max_iter=10000,\n",
        "       model=MultiLabelModel(n_states: 2, inference_method: ad3), n_jobs=1,\n",
        "       positive_constraint=None, show_loss_every=0, switch_to=None,\n",
        "       tol=1e-05, verbose=3)\n",
        "New violation: 0.961211 difference to last: 0.000050"
       ]
      },
      {
       "output_type": "stream",
       "stream": "stdout",
       "text": [
        "\n",
        "     pcost       dcost       gap    pres   dres"
       ]
      },
      {
       "output_type": "stream",
       "stream": "stdout",
       "text": [
        "\n",
        " 0: -1.3773e+02 -2.7905e+02  1e+02  9e-16  1e+00\n",
        " 1: -1.3783e+02 -1.4400e+02  6e+00  1e-15  5e-02\n",
        " 2: -1.3799e+02 -1.3951e+02  2e+00  1e-15  9e-03\n",
        " 3: -1.3809e+02 -1.3848e+02  4e-01  2e-15  8e-16\n",
        " 4: -1.3813e+02 -1.3822e+02  9e-02  2e-15  9e-16\n",
        " 5: -1.3814e+02 -1.3816e+02  2e-02  2e-15  9e-16"
       ]
      },
      {
       "output_type": "stream",
       "stream": "stdout",
       "text": [
        "\n",
        " 6: -1.3815e+02 -1.3815e+02  4e-03  2e-15  8e-16\n",
        " 7: -1.3815e+02 -1.3815e+02  7e-04  3e-15  9e-16\n",
        " 8: -1.3815e+02 -1.3815e+02  2e-04  2e-15  8e-16\n",
        " 9: -1.3815e+02 -1.3815e+02  9e-05  3e-15  8e-16"
       ]
      },
      {
       "output_type": "stream",
       "stream": "stdout",
       "text": [
        "\n",
        "Optimal solution found.\n",
        "257 support vectors out of 323 points\n",
        "cutting plane objective: 138.147649, primal objective 138.153736\n",
        "iteration 452\n",
        "OneSlackSSVM(C=0.1, break_on_bad=False, cache_tol=auto,\n",
        "       check_constraints=False, inactive_threshold=1e-05,\n",
        "       inactive_window=50, inference_cache=0, logger=None, max_iter=10000,\n",
        "       model=MultiLabelModel(n_states: 2, inference_method: ad3), n_jobs=1,\n",
        "       positive_constraint=None, show_loss_every=0, switch_to=None,\n",
        "       tol=1e-05, verbose=3)\n",
        "New violation: 0.961207 difference to last: 0.000045"
       ]
      },
      {
       "output_type": "stream",
       "stream": "stdout",
       "text": [
        "\n",
        "     pcost       dcost       gap    pres   dres"
       ]
      },
      {
       "output_type": "stream",
       "stream": "stdout",
       "text": [
        "\n",
        " 0: -1.3773e+02 -2.7922e+02  1e+02  8e-17  1e+00\n",
        " 1: -1.3784e+02 -1.4405e+02  6e+00  1e-15  5e-02\n",
        " 2: -1.3799e+02 -1.3953e+02  2e+00  1e-15  1e-02\n",
        " 3: -1.3809e+02 -1.3849e+02  4e-01  2e-15  9e-16\n",
        " 4: -1.3813e+02 -1.3822e+02  9e-02  2e-15  8e-16\n",
        " 5: -1.3814e+02 -1.3816e+02  2e-02  2e-15  8e-16"
       ]
      },
      {
       "output_type": "stream",
       "stream": "stdout",
       "text": [
        "\n",
        " 6: -1.3815e+02 -1.3815e+02  4e-03  2e-15  8e-16\n",
        " 7: -1.3815e+02 -1.3815e+02  8e-04  2e-15  9e-16\n",
        " 8: -1.3815e+02 -1.3815e+02  2e-04  2e-15  8e-16\n",
        " 9: -1.3815e+02 -1.3815e+02  1e-04  3e-15  7e-16\n",
        "Optimal solution found.\n",
        "258 support vectors out of 324 points"
       ]
      },
      {
       "output_type": "stream",
       "stream": "stdout",
       "text": [
        "\n",
        "cutting plane objective: 138.147648, primal objective 138.153210\n",
        "iteration 453\n",
        "OneSlackSSVM(C=0.1, break_on_bad=False, cache_tol=auto,\n",
        "       check_constraints=False, inactive_threshold=1e-05,\n",
        "       inactive_window=50, inference_cache=0, logger=None, max_iter=10000,\n",
        "       model=MultiLabelModel(n_states: 2, inference_method: ad3), n_jobs=1,\n",
        "       positive_constraint=None, show_loss_every=0, switch_to=None,\n",
        "       tol=1e-05, verbose=3)\n",
        "New violation: 0.961209 difference to last: 0.000046"
       ]
      },
      {
       "output_type": "stream",
       "stream": "stdout",
       "text": [
        "\n",
        "     pcost       dcost       gap    pres   dres"
       ]
      },
      {
       "output_type": "stream",
       "stream": "stdout",
       "text": [
        "\n",
        " 0: -1.3773e+02 -2.7930e+02  1e+02  9e-16  1e+00\n",
        " 1: -1.3784e+02 -1.4415e+02  6e+00  1e-15  5e-02\n",
        " 2: -1.3799e+02 -1.3956e+02  2e+00  1e-15  1e-02\n",
        " 3: -1.3809e+02 -1.3848e+02  4e-01  2e-15  1e-04\n",
        " 4: -1.3813e+02 -1.3822e+02  9e-02  2e-15  4e-06\n",
        " 5: -1.3814e+02 -1.3816e+02  2e-02  2e-15  4e-07"
       ]
      },
      {
       "output_type": "stream",
       "stream": "stdout",
       "text": [
        "\n",
        " 6: -1.3815e+02 -1.3815e+02  4e-03  2e-15  5e-08\n",
        " 7: -1.3815e+02 -1.3815e+02  7e-04  3e-15  6e-09\n",
        " 8: -1.3815e+02 -1.3815e+02  2e-04  3e-15  1e-09\n",
        " 9: -1.3815e+02 -1.3815e+02  1e-04  2e-15  5e-10\n",
        "Optimal solution found.\n",
        "259 support vectors out of 325 points"
       ]
      },
      {
       "output_type": "stream",
       "stream": "stdout",
       "text": [
        "\n",
        "cutting plane objective: 138.147648, primal objective 138.153330\n",
        "iteration 454\n",
        "OneSlackSSVM(C=0.1, break_on_bad=False, cache_tol=auto,\n",
        "       check_constraints=False, inactive_threshold=1e-05,\n",
        "       inactive_window=50, inference_cache=0, logger=None, max_iter=10000,\n",
        "       model=MultiLabelModel(n_states: 2, inference_method: ad3), n_jobs=1,\n",
        "       positive_constraint=None, show_loss_every=0, switch_to=None,\n",
        "       tol=1e-05, verbose=3)\n",
        "New violation: 0.961210 difference to last: 0.000048"
       ]
      },
      {
       "output_type": "stream",
       "stream": "stdout",
       "text": [
        "\n",
        "     pcost       dcost       gap    pres   dres"
       ]
      },
      {
       "output_type": "stream",
       "stream": "stdout",
       "text": [
        "\n",
        " 0: -1.3773e+02 -2.7920e+02  1e+02  1e-16  1e+00\n",
        " 1: -1.3784e+02 -1.4412e+02  6e+00  1e-15  5e-02\n",
        " 2: -1.3799e+02 -1.3954e+02  2e+00  1e-15  1e-02\n",
        " 3: -1.3809e+02 -1.3848e+02  4e-01  2e-15  1e-04\n",
        " 4: -1.3813e+02 -1.3821e+02  9e-02  2e-15  1e-06\n",
        " 5: -1.3814e+02 -1.3816e+02  2e-02  2e-15  9e-08"
       ]
      },
      {
       "output_type": "stream",
       "stream": "stdout",
       "text": [
        "\n",
        " 6: -1.3815e+02 -1.3815e+02  4e-03  2e-15  1e-08\n",
        " 7: -1.3815e+02 -1.3815e+02  7e-04  2e-15  1e-09\n",
        " 8: -1.3815e+02 -1.3815e+02  2e-04  3e-15  3e-10\n",
        " 9: -1.3815e+02 -1.3815e+02  1e-04  2e-15  1e-10\n",
        "Optimal solution found.\n",
        "260 support vectors out of 326 points"
       ]
      },
      {
       "output_type": "stream",
       "stream": "stdout",
       "text": [
        "\n",
        "cutting plane objective: 138.147648, primal objective 138.153499\n",
        "iteration 455\n",
        "OneSlackSSVM(C=0.1, break_on_bad=False, cache_tol=auto,\n",
        "       check_constraints=False, inactive_threshold=1e-05,\n",
        "       inactive_window=50, inference_cache=0, logger=None, max_iter=10000,\n",
        "       model=MultiLabelModel(n_states: 2, inference_method: ad3), n_jobs=1,\n",
        "       positive_constraint=None, show_loss_every=0, switch_to=None,\n",
        "       tol=1e-05, verbose=3)\n",
        "New violation: 0.961209 difference to last: 0.000048"
       ]
      },
      {
       "output_type": "stream",
       "stream": "stdout",
       "text": [
        "\n",
        "     pcost       dcost       gap    pres   dres"
       ]
      },
      {
       "output_type": "stream",
       "stream": "stdout",
       "text": [
        "\n",
        " 0: -1.3774e+02 -2.7855e+02  1e+02  8e-16  1e+00\n",
        " 1: -1.3784e+02 -1.4383e+02  6e+00  1e-15  5e-02\n",
        " 2: -1.3799e+02 -1.3944e+02  1e+00  1e-15  9e-03\n",
        " 3: -1.3809e+02 -1.3852e+02  4e-01  1e-15  9e-16\n",
        " 4: -1.3813e+02 -1.3823e+02  1e-01  1e-15  8e-16\n",
        " 5: -1.3814e+02 -1.3816e+02  2e-02  2e-15  9e-16"
       ]
      },
      {
       "output_type": "stream",
       "stream": "stdout",
       "text": [
        "\n",
        " 6: -1.3815e+02 -1.3815e+02  5e-03  2e-15  8e-16\n",
        " 7: -1.3815e+02 -1.3815e+02  9e-04  2e-15  9e-16\n",
        " 8: -1.3815e+02 -1.3815e+02  2e-04  2e-15  8e-16\n",
        " 9: -1.3815e+02 -1.3815e+02  1e-04  2e-15  8e-16\n",
        "Optimal solution found.\n",
        "261 support vectors out of 326 points"
       ]
      },
      {
       "output_type": "stream",
       "stream": "stdout",
       "text": [
        "\n",
        "cutting plane objective: 138.147651, primal objective 138.153521\n",
        "iteration 456\n",
        "OneSlackSSVM(C=0.1, break_on_bad=False, cache_tol=auto,\n",
        "       check_constraints=False, inactive_threshold=1e-05,\n",
        "       inactive_window=50, inference_cache=0, logger=None, max_iter=10000,\n",
        "       model=MultiLabelModel(n_states: 2, inference_method: ad3), n_jobs=1,\n",
        "       positive_constraint=None, show_loss_every=0, switch_to=None,\n",
        "       tol=1e-05, verbose=3)\n",
        "New violation: 0.961207 difference to last: 0.000049"
       ]
      },
      {
       "output_type": "stream",
       "stream": "stdout",
       "text": [
        "\n",
        "     pcost       dcost       gap    pres   dres"
       ]
      },
      {
       "output_type": "stream",
       "stream": "stdout",
       "text": [
        "\n",
        " 0: -1.3774e+02 -2.7946e+02  1e+02  5e-16  1e+00\n",
        " 1: -1.3785e+02 -1.4421e+02  6e+00  1e-15  5e-02\n",
        " 2: -1.3799e+02 -1.3952e+02  2e+00  1e-15  9e-03\n",
        " 3: -1.3809e+02 -1.3850e+02  4e-01  1e-15  8e-16\n",
        " 4: -1.3813e+02 -1.3823e+02  1e-01  2e-15  9e-16\n",
        " 5: -1.3814e+02 -1.3816e+02  2e-02  2e-15  8e-16"
       ]
      },
      {
       "output_type": "stream",
       "stream": "stdout",
       "text": [
        "\n",
        " 6: -1.3815e+02 -1.3815e+02  4e-03  2e-15  8e-16\n",
        " 7: -1.3815e+02 -1.3815e+02  7e-04  2e-15  8e-16\n",
        " 8: -1.3815e+02 -1.3815e+02  2e-04  2e-15  8e-16\n",
        " 9: -1.3815e+02 -1.3815e+02  9e-05  3e-15  7e-16\n",
        "Optimal solution found.\n",
        "261 support vectors out of 326 points"
       ]
      },
      {
       "output_type": "stream",
       "stream": "stdout",
       "text": [
        "\n",
        "cutting plane objective: 138.147655, primal objective 138.153623\n",
        "iteration 457\n",
        "OneSlackSSVM(C=0.1, break_on_bad=False, cache_tol=auto,\n",
        "       check_constraints=False, inactive_threshold=1e-05,\n",
        "       inactive_window=50, inference_cache=0, logger=None, max_iter=10000,\n",
        "       model=MultiLabelModel(n_states: 2, inference_method: ad3), n_jobs=1,\n",
        "       positive_constraint=None, show_loss_every=0, switch_to=None,\n",
        "       tol=1e-05, verbose=3)\n",
        "New violation: 0.961204 difference to last: 0.000049"
       ]
      },
      {
       "output_type": "stream",
       "stream": "stdout",
       "text": [
        "\n",
        "     pcost       dcost       gap    pres   dres"
       ]
      },
      {
       "output_type": "stream",
       "stream": "stdout",
       "text": [
        "\n",
        " 0: -1.3774e+02 -2.7945e+02  1e+02  5e-16  1e+00\n",
        " 1: -1.3785e+02 -1.4425e+02  6e+00  1e-15  5e-02\n",
        " 2: -1.3799e+02 -1.3951e+02  2e+00  1e-15  9e-03\n",
        " 3: -1.3809e+02 -1.3850e+02  4e-01  1e-15  9e-16\n",
        " 4: -1.3813e+02 -1.3823e+02  1e-01  2e-15  8e-16\n",
        " 5: -1.3814e+02 -1.3816e+02  2e-02  2e-15  8e-16"
       ]
      },
      {
       "output_type": "stream",
       "stream": "stdout",
       "text": [
        "\n",
        " 6: -1.3815e+02 -1.3815e+02  4e-03  2e-15  8e-16\n",
        " 7: -1.3815e+02 -1.3815e+02  7e-04  4e-15  8e-16\n",
        " 8: -1.3815e+02 -1.3815e+02  2e-04  3e-15  8e-16\n",
        " 9: -1.3815e+02 -1.3815e+02  8e-05  3e-15  8e-16\n",
        "Optimal solution found.\n",
        "262 support vectors out of 327 points"
       ]
      },
      {
       "output_type": "stream",
       "stream": "stdout",
       "text": [
        "\n",
        "cutting plane objective: 138.147659, primal objective 138.153678\n",
        "iteration 458\n",
        "OneSlackSSVM(C=0.1, break_on_bad=False, cache_tol=auto,\n",
        "       check_constraints=False, inactive_threshold=1e-05,\n",
        "       inactive_window=50, inference_cache=0, logger=None, max_iter=10000,\n",
        "       model=MultiLabelModel(n_states: 2, inference_method: ad3), n_jobs=1,\n",
        "       positive_constraint=None, show_loss_every=0, switch_to=None,\n",
        "       tol=1e-05, verbose=3)\n",
        "New violation: 0.961205 difference to last: 0.000048"
       ]
      },
      {
       "output_type": "stream",
       "stream": "stdout",
       "text": [
        "\n",
        "     pcost       dcost       gap    pres   dres"
       ]
      },
      {
       "output_type": "stream",
       "stream": "stdout",
       "text": [
        "\n",
        " 0: -1.3774e+02 -2.7957e+02  1e+02  5e-16  1e+00\n",
        " 1: -1.3785e+02 -1.4433e+02  6e+00  1e-15  5e-02\n",
        " 2: -1.3799e+02 -1.3955e+02  2e+00  1e-15  9e-03\n",
        " 3: -1.3809e+02 -1.3848e+02  4e-01  2e-15  9e-16\n",
        " 4: -1.3813e+02 -1.3822e+02  9e-02  1e-15  9e-16"
       ]
      },
      {
       "output_type": "stream",
       "stream": "stdout",
       "text": [
        "\n",
        " 5: -1.3814e+02 -1.3816e+02  2e-02  2e-15  9e-16\n",
        " 6: -1.3815e+02 -1.3815e+02  4e-03  2e-15  9e-16\n",
        " 7: -1.3815e+02 -1.3815e+02  7e-04  2e-15  9e-16\n",
        " 8: -1.3815e+02 -1.3815e+02  2e-04  2e-15  8e-16"
       ]
      },
      {
       "output_type": "stream",
       "stream": "stdout",
       "text": [
        "\n",
        " 9: -1.3815e+02 -1.3815e+02  8e-05  2e-15  7e-16\n",
        "Optimal solution found.\n",
        "261 support vectors out of 328 points\n",
        "cutting plane objective: 138.147663, primal objective 138.153592\n",
        "iteration 459\n",
        "OneSlackSSVM(C=0.1, break_on_bad=False, cache_tol=auto,\n",
        "       check_constraints=False, inactive_threshold=1e-05,\n",
        "       inactive_window=50, inference_cache=0, logger=None, max_iter=10000,\n",
        "       model=MultiLabelModel(n_states: 2, inference_method: ad3), n_jobs=1,\n",
        "       positive_constraint=None, show_loss_every=0, switch_to=None,\n",
        "       tol=1e-05, verbose=3)\n",
        "New violation: 0.961205 difference to last: 0.000047"
       ]
      },
      {
       "output_type": "stream",
       "stream": "stdout",
       "text": [
        "\n",
        "     pcost       dcost       gap    pres   dres"
       ]
      },
      {
       "output_type": "stream",
       "stream": "stdout",
       "text": [
        "\n",
        " 0: -1.3774e+02 -2.7958e+02  1e+02  5e-17  1e+00\n",
        " 1: -1.3785e+02 -1.4439e+02  7e+00  1e-15  5e-02\n",
        " 2: -1.3799e+02 -1.3957e+02  2e+00  1e-15  1e-02\n",
        " 3: -1.3809e+02 -1.3847e+02  4e-01  2e-15  9e-16\n",
        " 4: -1.3813e+02 -1.3821e+02  8e-02  2e-15  9e-16\n",
        " 5: -1.3814e+02 -1.3816e+02  2e-02  2e-15  9e-16"
       ]
      },
      {
       "output_type": "stream",
       "stream": "stdout",
       "text": [
        "\n",
        " 6: -1.3815e+02 -1.3815e+02  4e-03  2e-15  8e-16\n",
        " 7: -1.3815e+02 -1.3815e+02  6e-04  2e-15  9e-16\n",
        " 8: -1.3815e+02 -1.3815e+02  2e-04  3e-15  8e-16\n",
        " 9: -1.3815e+02 -1.3815e+02  7e-05  2e-15  7e-16\n",
        "Optimal solution found.\n",
        "261 support vectors out of 329 points"
       ]
      },
      {
       "output_type": "stream",
       "stream": "stdout",
       "text": [
        "\n",
        "cutting plane objective: 138.147667, primal objective 138.153406\n",
        "iteration 460\n",
        "OneSlackSSVM(C=0.1, break_on_bad=False, cache_tol=auto,\n",
        "       check_constraints=False, inactive_threshold=1e-05,\n",
        "       inactive_window=50, inference_cache=0, logger=None, max_iter=10000,\n",
        "       model=MultiLabelModel(n_states: 2, inference_method: ad3), n_jobs=1,\n",
        "       positive_constraint=None, show_loss_every=0, switch_to=None,\n",
        "       tol=1e-05, verbose=3)\n",
        "New violation: 0.961206 difference to last: 0.000047"
       ]
      },
      {
       "output_type": "stream",
       "stream": "stdout",
       "text": [
        "\n",
        "     pcost       dcost       gap    pres   dres"
       ]
      },
      {
       "output_type": "stream",
       "stream": "stdout",
       "text": [
        "\n",
        " 0: -1.3774e+02 -2.7928e+02  1e+02  3e-16  1e+00\n",
        " 1: -1.3785e+02 -1.4426e+02  6e+00  1e-15  5e-02\n",
        " 2: -1.3799e+02 -1.3950e+02  2e+00  1e-15  9e-03\n",
        " 3: -1.3809e+02 -1.3849e+02  4e-01  1e-15  8e-16\n",
        " 4: -1.3813e+02 -1.3823e+02  1e-01  2e-15  9e-16\n",
        " 5: -1.3814e+02 -1.3816e+02  2e-02  2e-15  9e-16"
       ]
      },
      {
       "output_type": "stream",
       "stream": "stdout",
       "text": [
        "\n",
        " 6: -1.3815e+02 -1.3815e+02  4e-03  2e-15  8e-16\n",
        " 7: -1.3815e+02 -1.3815e+02  7e-04  3e-15  8e-16\n",
        " 8: -1.3815e+02 -1.3815e+02  2e-04  2e-15  8e-16\n",
        " 9: -1.3815e+02 -1.3815e+02  7e-05  2e-15  8e-16\n",
        "Optimal solution found.\n",
        "262 support vectors out of 330 points"
       ]
      },
      {
       "output_type": "stream",
       "stream": "stdout",
       "text": [
        "\n",
        "cutting plane objective: 138.147668, primal objective 138.153405\n",
        "iteration 461\n",
        "OneSlackSSVM(C=0.1, break_on_bad=False, cache_tol=auto,\n",
        "       check_constraints=False, inactive_threshold=1e-05,\n",
        "       inactive_window=50, inference_cache=0, logger=None, max_iter=10000,\n",
        "       model=MultiLabelModel(n_states: 2, inference_method: ad3), n_jobs=1,\n",
        "       positive_constraint=None, show_loss_every=0, switch_to=None,\n",
        "       tol=1e-05, verbose=3)\n",
        "New violation: 0.961200 difference to last: 0.000042"
       ]
      },
      {
       "output_type": "stream",
       "stream": "stdout",
       "text": [
        "\n",
        "     pcost       dcost       gap    pres   dres"
       ]
      },
      {
       "output_type": "stream",
       "stream": "stdout",
       "text": [
        "\n",
        " 0: -1.3774e+02 -2.7939e+02  1e+02  5e-16  1e+00\n",
        " 1: -1.3785e+02 -1.4424e+02  6e+00  1e-15  5e-02\n",
        " 2: -1.3799e+02 -1.3948e+02  1e+00  1e-15  9e-03\n",
        " 3: -1.3809e+02 -1.3851e+02  4e-01  2e-15  9e-16\n",
        " 4: -1.3813e+02 -1.3823e+02  1e-01  1e-15  8e-16\n",
        " 5: -1.3814e+02 -1.3816e+02  2e-02  2e-15  8e-16"
       ]
      },
      {
       "output_type": "stream",
       "stream": "stdout",
       "text": [
        "\n",
        " 6: -1.3815e+02 -1.3815e+02  4e-03  2e-15  8e-16\n",
        " 7: -1.3815e+02 -1.3815e+02  8e-04  4e-15  9e-16\n",
        " 8: -1.3815e+02 -1.3815e+02  2e-04  3e-15  8e-16\n",
        " 9: -1.3815e+02 -1.3815e+02  7e-05  3e-15  8e-16\n",
        "Optimal solution found.\n",
        "261 support vectors out of 331 points"
       ]
      },
      {
       "output_type": "stream",
       "stream": "stdout",
       "text": [
        "\n",
        "cutting plane objective: 138.147670, primal objective 138.152769\n",
        "iteration 462\n",
        "OneSlackSSVM(C=0.1, break_on_bad=False, cache_tol=auto,\n",
        "       check_constraints=False, inactive_threshold=1e-05,\n",
        "       inactive_window=50, inference_cache=0, logger=None, max_iter=10000,\n",
        "       model=MultiLabelModel(n_states: 2, inference_method: ad3), n_jobs=1,\n",
        "       positive_constraint=None, show_loss_every=0, switch_to=None,\n",
        "       tol=1e-05, verbose=3)\n",
        "New violation: 0.961200 difference to last: 0.000039"
       ]
      },
      {
       "output_type": "stream",
       "stream": "stdout",
       "text": [
        "\n",
        "     pcost       dcost       gap    pres   dres"
       ]
      },
      {
       "output_type": "stream",
       "stream": "stdout",
       "text": [
        "\n",
        " 0: -1.3774e+02 -2.7933e+02  1e+02  3e-17  1e+00\n",
        " 1: -1.3785e+02 -1.4437e+02  7e+00  1e-15  5e-02\n",
        " 2: -1.3799e+02 -1.3954e+02  2e+00  1e-15  9e-03\n",
        " 3: -1.3809e+02 -1.3848e+02  4e-01  2e-15  9e-16\n",
        " 4: -1.3813e+02 -1.3822e+02  9e-02  2e-15  9e-16\n",
        " 5: -1.3814e+02 -1.3816e+02  2e-02  2e-15  8e-16"
       ]
      },
      {
       "output_type": "stream",
       "stream": "stdout",
       "text": [
        "\n",
        " 6: -1.3815e+02 -1.3815e+02  4e-03  2e-15  8e-16\n",
        " 7: -1.3815e+02 -1.3815e+02  7e-04  2e-15  8e-16\n",
        " 8: -1.3815e+02 -1.3815e+02  2e-04  2e-15  8e-16\n",
        " 9: -1.3815e+02 -1.3815e+02  7e-05  3e-15  8e-16\n",
        "Optimal solution found.\n",
        "263 support vectors out of 332 points"
       ]
      },
      {
       "output_type": "stream",
       "stream": "stdout",
       "text": [
        "\n",
        "cutting plane objective: 138.147672, primal objective 138.152488\n",
        "iteration 463\n",
        "OneSlackSSVM(C=0.1, break_on_bad=False, cache_tol=auto,\n",
        "       check_constraints=False, inactive_threshold=1e-05,\n",
        "       inactive_window=50, inference_cache=0, logger=None, max_iter=10000,\n",
        "       model=MultiLabelModel(n_states: 2, inference_method: ad3), n_jobs=1,\n",
        "       positive_constraint=None, show_loss_every=0, switch_to=None,\n",
        "       tol=1e-05, verbose=3)\n",
        "New violation: 0.961202 difference to last: 0.000039"
       ]
      },
      {
       "output_type": "stream",
       "stream": "stdout",
       "text": [
        "\n",
        "     pcost       dcost       gap    pres   dres"
       ]
      },
      {
       "output_type": "stream",
       "stream": "stdout",
       "text": [
        "\n",
        " 0: -1.3774e+02 -2.7943e+02  1e+02  4e-17  1e+00\n",
        " 1: -1.3785e+02 -1.4440e+02  7e+00  1e-15  5e-02\n",
        " 2: -1.3799e+02 -1.3955e+02  2e+00  1e-15  9e-03\n",
        " 3: -1.3809e+02 -1.3848e+02  4e-01  2e-15  9e-16\n",
        " 4: -1.3813e+02 -1.3822e+02  9e-02  2e-15  8e-16"
       ]
      },
      {
       "output_type": "stream",
       "stream": "stdout",
       "text": [
        "\n",
        " 5: -1.3814e+02 -1.3816e+02  2e-02  2e-15  8e-16\n",
        " 6: -1.3815e+02 -1.3815e+02  4e-03  2e-15  8e-16\n",
        " 7: -1.3815e+02 -1.3815e+02  7e-04  3e-15  8e-16\n",
        " 8: -1.3815e+02 -1.3815e+02  2e-04  3e-15  8e-16\n",
        " 9: -1.3815e+02 -1.3815e+02  7e-05  2e-15  8e-16"
       ]
      },
      {
       "output_type": "stream",
       "stream": "stdout",
       "text": [
        "\n",
        "Optimal solution found.\n",
        "264 support vectors out of 333 points\n",
        "cutting plane objective: 138.147672, primal objective 138.152482\n",
        "iteration 464\n",
        "OneSlackSSVM(C=0.1, break_on_bad=False, cache_tol=auto,\n",
        "       check_constraints=False, inactive_threshold=1e-05,\n",
        "       inactive_window=50, inference_cache=0, logger=None, max_iter=10000,\n",
        "       model=MultiLabelModel(n_states: 2, inference_method: ad3), n_jobs=1,\n",
        "       positive_constraint=None, show_loss_every=0, switch_to=None,\n",
        "       tol=1e-05, verbose=3)\n",
        "New violation: 0.961200 difference to last: 0.000037"
       ]
      },
      {
       "output_type": "stream",
       "stream": "stdout",
       "text": [
        "\n",
        "     pcost       dcost       gap    pres   dres"
       ]
      },
      {
       "output_type": "stream",
       "stream": "stdout",
       "text": [
        "\n",
        " 0: -1.3774e+02 -2.7896e+02  1e+02  2e-16  1e+00\n",
        " 1: -1.3785e+02 -1.4426e+02  6e+00  1e-15  5e-02\n",
        " 2: -1.3800e+02 -1.3944e+02  1e+00  1e-15  8e-03\n",
        " 3: -1.3809e+02 -1.3852e+02  4e-01  2e-15  9e-16\n",
        " 4: -1.3813e+02 -1.3823e+02  1e-01  2e-15  8e-16\n",
        " 5: -1.3814e+02 -1.3816e+02  2e-02  2e-15  9e-16"
       ]
      },
      {
       "output_type": "stream",
       "stream": "stdout",
       "text": [
        "\n",
        " 6: -1.3815e+02 -1.3815e+02  4e-03  2e-15  8e-16\n",
        " 7: -1.3815e+02 -1.3815e+02  8e-04  2e-15  9e-16\n",
        " 8: -1.3815e+02 -1.3815e+02  2e-04  2e-15  8e-16\n",
        " 9: -1.3815e+02 -1.3815e+02  7e-05  3e-15  7e-16\n",
        "Optimal solution found.\n",
        "264 support vectors out of 334 points"
       ]
      },
      {
       "output_type": "stream",
       "stream": "stdout",
       "text": [
        "\n",
        "cutting plane objective: 138.147674, primal objective 138.152190\n",
        "iteration 465\n",
        "OneSlackSSVM(C=0.1, break_on_bad=False, cache_tol=auto,\n",
        "       check_constraints=False, inactive_threshold=1e-05,\n",
        "       inactive_window=50, inference_cache=0, logger=None, max_iter=10000,\n",
        "       model=MultiLabelModel(n_states: 2, inference_method: ad3), n_jobs=1,\n",
        "       positive_constraint=None, show_loss_every=0, switch_to=None,\n",
        "       tol=1e-05, verbose=3)\n",
        "New violation: 0.961196 difference to last: 0.000035"
       ]
      },
      {
       "output_type": "stream",
       "stream": "stdout",
       "text": [
        "\n",
        "     pcost       dcost       gap    pres   dres"
       ]
      },
      {
       "output_type": "stream",
       "stream": "stdout",
       "text": [
        "\n",
        " 0: -1.3775e+02 -2.7882e+02  1e+02  2e-17  1e+00\n",
        " 1: -1.3786e+02 -1.4431e+02  6e+00  1e-15  5e-02\n",
        " 2: -1.3799e+02 -1.3948e+02  1e+00  1e-15  8e-03\n",
        " 3: -1.3809e+02 -1.3849e+02  4e-01  2e-15  9e-16\n",
        " 4: -1.3813e+02 -1.3822e+02  9e-02  2e-15  9e-16"
       ]
      },
      {
       "output_type": "stream",
       "stream": "stdout",
       "text": [
        "\n",
        " 5: -1.3814e+02 -1.3816e+02  2e-02  2e-15  9e-16\n",
        " 6: -1.3815e+02 -1.3815e+02  4e-03  2e-15  8e-16\n",
        " 7: -1.3815e+02 -1.3815e+02  8e-04  3e-15  8e-16\n",
        " 8: -1.3815e+02 -1.3815e+02  2e-04  2e-15  8e-16\n",
        " 9: -1.3815e+02 -1.3815e+02  7e-05  2e-15  8e-16"
       ]
      },
      {
       "output_type": "stream",
       "stream": "stdout",
       "text": [
        "\n",
        "Optimal solution found.\n",
        "267 support vectors out of 335 points\n",
        "cutting plane objective: 138.147673, primal objective 138.152001\n",
        "iteration 466\n",
        "OneSlackSSVM(C=0.1, break_on_bad=False, cache_tol=auto,\n",
        "       check_constraints=False, inactive_threshold=1e-05,\n",
        "       inactive_window=50, inference_cache=0, logger=None, max_iter=10000,\n",
        "       model=MultiLabelModel(n_states: 2, inference_method: ad3), n_jobs=1,\n",
        "       positive_constraint=None, show_loss_every=0, switch_to=None,\n",
        "       tol=1e-05, verbose=3)\n",
        "New violation: 0.961193 difference to last: 0.000035"
       ]
      },
      {
       "output_type": "stream",
       "stream": "stdout",
       "text": [
        "\n",
        "     pcost       dcost       gap    pres   dres"
       ]
      },
      {
       "output_type": "stream",
       "stream": "stdout",
       "text": [
        "\n",
        " 0: -1.3775e+02 -2.7906e+02  1e+02  3e-16  1e+00\n",
        " 1: -1.3786e+02 -1.4440e+02  7e+00  1e-15  5e-02\n",
        " 2: -1.3799e+02 -1.3953e+02  2e+00  1e-15  9e-03\n",
        " 3: -1.3809e+02 -1.3846e+02  4e-01  1e-15  9e-16\n",
        " 4: -1.3813e+02 -1.3821e+02  8e-02  1e-15  8e-16\n",
        " 5: -1.3814e+02 -1.3816e+02  2e-02  2e-15  8e-16"
       ]
      },
      {
       "output_type": "stream",
       "stream": "stdout",
       "text": [
        "\n",
        " 6: -1.3815e+02 -1.3815e+02  4e-03  2e-15  9e-16\n",
        " 7: -1.3815e+02 -1.3815e+02  7e-04  2e-15  9e-16\n",
        " 8: -1.3815e+02 -1.3815e+02  2e-04  2e-15  9e-16\n",
        " 9: -1.3815e+02 -1.3815e+02  7e-05  2e-15  8e-16"
       ]
      },
      {
       "output_type": "stream",
       "stream": "stdout",
       "text": [
        "\n",
        "Optimal solution found.\n",
        "268 support vectors out of 336 points\n",
        "cutting plane objective: 138.147673, primal objective 138.152014\n",
        "iteration 467\n",
        "OneSlackSSVM(C=0.1, break_on_bad=False, cache_tol=auto,\n",
        "       check_constraints=False, inactive_threshold=1e-05,\n",
        "       inactive_window=50, inference_cache=0, logger=None, max_iter=10000,\n",
        "       model=MultiLabelModel(n_states: 2, inference_method: ad3), n_jobs=1,\n",
        "       positive_constraint=None, show_loss_every=0, switch_to=None,\n",
        "       tol=1e-05, verbose=3)\n",
        "New violation: 0.961193 difference to last: 0.000036"
       ]
      },
      {
       "output_type": "stream",
       "stream": "stdout",
       "text": [
        "\n",
        "     pcost       dcost       gap    pres   dres"
       ]
      },
      {
       "output_type": "stream",
       "stream": "stdout",
       "text": [
        "\n",
        " 0: -1.3775e+02 -2.7898e+02  1e+02  8e-16  1e+00\n",
        " 1: -1.3786e+02 -1.4445e+02  7e+00  1e-15  5e-02\n",
        " 2: -1.3799e+02 -1.3955e+02  2e+00  1e-15  9e-03\n",
        " 3: -1.3809e+02 -1.3846e+02  4e-01  1e-15  9e-16\n",
        " 4: -1.3813e+02 -1.3822e+02  9e-02  2e-15  1e-15\n",
        " 5: -1.3814e+02 -1.3816e+02  2e-02  2e-15  1e-15"
       ]
      },
      {
       "output_type": "stream",
       "stream": "stdout",
       "text": [
        "\n",
        " 6: -1.3815e+02 -1.3815e+02  4e-03  2e-15  8e-16\n",
        " 7: -1.3815e+02 -1.3815e+02  7e-04  2e-15  8e-16\n",
        " 8: -1.3815e+02 -1.3815e+02  2e-04  3e-15  8e-16\n",
        " 9: -1.3815e+02 -1.3815e+02  8e-05  2e-15  9e-16\n",
        "Optimal solution found.\n",
        "269 support vectors out of 337 points"
       ]
      },
      {
       "output_type": "stream",
       "stream": "stdout",
       "text": [
        "\n",
        "cutting plane objective: 138.147672, primal objective 138.152149\n",
        "iteration 468\n",
        "OneSlackSSVM(C=0.1, break_on_bad=False, cache_tol=auto,\n",
        "       check_constraints=False, inactive_threshold=1e-05,\n",
        "       inactive_window=50, inference_cache=0, logger=None, max_iter=10000,\n",
        "       model=MultiLabelModel(n_states: 2, inference_method: ad3), n_jobs=1,\n",
        "       positive_constraint=None, show_loss_every=0, switch_to=None,\n",
        "       tol=1e-05, verbose=3)\n",
        "New violation: 0.961196 difference to last: 0.000038"
       ]
      },
      {
       "output_type": "stream",
       "stream": "stdout",
       "text": [
        "\n",
        "     pcost       dcost       gap    pres   dres"
       ]
      },
      {
       "output_type": "stream",
       "stream": "stdout",
       "text": [
        "\n",
        " 0: -1.3775e+02 -2.7876e+02  1e+02  3e-16  1e+00\n",
        " 1: -1.3786e+02 -1.4442e+02  7e+00  1e-15  5e-02\n",
        " 2: -1.3799e+02 -1.3952e+02  2e+00  1e-15  9e-03\n",
        " 3: -1.3809e+02 -1.3847e+02  4e-01  1e-15  1e-15\n",
        " 4: -1.3813e+02 -1.3821e+02  8e-02  2e-15  9e-16\n",
        " 5: -1.3814e+02 -1.3816e+02  2e-02  2e-15  9e-16"
       ]
      },
      {
       "output_type": "stream",
       "stream": "stdout",
       "text": [
        "\n",
        " 6: -1.3815e+02 -1.3815e+02  4e-03  2e-15  8e-16\n",
        " 7: -1.3815e+02 -1.3815e+02  7e-04  2e-15  9e-16\n",
        " 8: -1.3815e+02 -1.3815e+02  2e-04  2e-15  8e-16\n",
        " 9: -1.3815e+02 -1.3815e+02  8e-05  2e-15  8e-16\n",
        "Optimal solution found.\n",
        "271 support vectors out of 338 points"
       ]
      },
      {
       "output_type": "stream",
       "stream": "stdout",
       "text": [
        "\n",
        "cutting plane objective: 138.147672, primal objective 138.152373\n",
        "iteration 469\n",
        "OneSlackSSVM(C=0.1, break_on_bad=False, cache_tol=auto,\n",
        "       check_constraints=False, inactive_threshold=1e-05,\n",
        "       inactive_window=50, inference_cache=0, logger=None, max_iter=10000,\n",
        "       model=MultiLabelModel(n_states: 2, inference_method: ad3), n_jobs=1,\n",
        "       positive_constraint=None, show_loss_every=0, switch_to=None,\n",
        "       tol=1e-05, verbose=3)\n",
        "New violation: 0.961198 difference to last: 0.000038"
       ]
      },
      {
       "output_type": "stream",
       "stream": "stdout",
       "text": [
        "\n",
        "     pcost       dcost       gap    pres   dres"
       ]
      },
      {
       "output_type": "stream",
       "stream": "stdout",
       "text": [
        "\n",
        " 0: -1.3775e+02 -2.7871e+02  1e+02  8e-16  1e+00\n",
        " 1: -1.3786e+02 -1.4443e+02  7e+00  1e-15  5e-02\n",
        " 2: -1.3799e+02 -1.3953e+02  2e+00  1e-15  9e-03\n",
        " 3: -1.3809e+02 -1.3846e+02  4e-01  1e-15  9e-16"
       ]
      },
      {
       "output_type": "stream",
       "stream": "stdout",
       "text": [
        "\n",
        " 4: -1.3813e+02 -1.3822e+02  9e-02  1e-15  9e-16\n",
        " 5: -1.3814e+02 -1.3816e+02  2e-02  2e-15  8e-16\n",
        " 6: -1.3815e+02 -1.3815e+02  4e-03  2e-15  8e-16\n",
        " 7: -1.3815e+02 -1.3815e+02  7e-04  2e-15  8e-16"
       ]
      },
      {
       "output_type": "stream",
       "stream": "stdout",
       "text": [
        "\n",
        " 8: -1.3815e+02 -1.3815e+02  2e-04  3e-15  8e-16\n",
        " 9: -1.3815e+02 -1.3815e+02  8e-05  2e-15  7e-16\n",
        "Optimal solution found.\n",
        "272 support vectors out of 339 points\n",
        "cutting plane objective: 138.147672, primal objective 138.152304\n",
        "iteration 470\n",
        "OneSlackSSVM(C=0.1, break_on_bad=False, cache_tol=auto,\n",
        "       check_constraints=False, inactive_threshold=1e-05,\n",
        "       inactive_window=50, inference_cache=0, logger=None, max_iter=10000,\n",
        "       model=MultiLabelModel(n_states: 2, inference_method: ad3), n_jobs=1,\n",
        "       positive_constraint=None, show_loss_every=0, switch_to=None,\n",
        "       tol=1e-05, verbose=3)\n",
        "New violation: 0.961196 difference to last: 0.000038"
       ]
      },
      {
       "output_type": "stream",
       "stream": "stdout",
       "text": [
        "\n",
        "     pcost       dcost       gap    pres   dres"
       ]
      },
      {
       "output_type": "stream",
       "stream": "stdout",
       "text": [
        "\n",
        " 0: -1.3775e+02 -2.7888e+02  1e+02  6e-16  1e+00\n",
        " 1: -1.3786e+02 -1.4449e+02  7e+00  1e-15  5e-02\n",
        " 2: -1.3799e+02 -1.3956e+02  2e+00  1e-15  9e-03\n",
        " 3: -1.3809e+02 -1.3845e+02  4e-01  2e-15  4e-05\n",
        " 4: -1.3813e+02 -1.3822e+02  9e-02  2e-15  8e-16\n",
        " 5: -1.3814e+02 -1.3816e+02  2e-02  2e-15  8e-16"
       ]
      },
      {
       "output_type": "stream",
       "stream": "stdout",
       "text": [
        "\n",
        " 6: -1.3815e+02 -1.3815e+02  4e-03  2e-15  9e-16\n",
        " 7: -1.3815e+02 -1.3815e+02  8e-04  2e-15  8e-16\n",
        " 8: -1.3815e+02 -1.3815e+02  2e-04  3e-15  7e-16\n",
        " 9: -1.3815e+02 -1.3815e+02  8e-05  2e-15  8e-16\n",
        "Optimal solution found.\n",
        "274 support vectors out of 340 points"
       ]
      },
      {
       "output_type": "stream",
       "stream": "stdout",
       "text": [
        "\n",
        "cutting plane objective: 138.147673, primal objective 138.152392\n",
        "iteration 471\n",
        "OneSlackSSVM(C=0.1, break_on_bad=False, cache_tol=auto,\n",
        "       check_constraints=False, inactive_threshold=1e-05,\n",
        "       inactive_window=50, inference_cache=0, logger=None, max_iter=10000,\n",
        "       model=MultiLabelModel(n_states: 2, inference_method: ad3), n_jobs=1,\n",
        "       positive_constraint=None, show_loss_every=0, switch_to=None,\n",
        "       tol=1e-05, verbose=3)\n",
        "New violation: 0.961195 difference to last: 0.000038"
       ]
      },
      {
       "output_type": "stream",
       "stream": "stdout",
       "text": [
        "\n",
        "     pcost       dcost       gap    pres   dres"
       ]
      },
      {
       "output_type": "stream",
       "stream": "stdout",
       "text": [
        "\n",
        " 0: -1.3775e+02 -2.7886e+02  1e+02  6e-16  1e+00\n",
        " 1: -1.3786e+02 -1.4446e+02  7e+00  1e-15  5e-02\n",
        " 2: -1.3799e+02 -1.3951e+02  2e+00  1e-15  9e-03\n",
        " 3: -1.3809e+02 -1.3846e+02  4e-01  1e-15  9e-16"
       ]
      },
      {
       "output_type": "stream",
       "stream": "stdout",
       "text": [
        "\n",
        " 4: -1.3813e+02 -1.3822e+02  9e-02  1e-15  8e-16\n",
        " 5: -1.3814e+02 -1.3816e+02  2e-02  2e-15  9e-16\n",
        " 6: -1.3815e+02 -1.3815e+02  4e-03  2e-15  8e-16\n",
        " 7: -1.3815e+02 -1.3815e+02  8e-04  2e-15  9e-16"
       ]
      },
      {
       "output_type": "stream",
       "stream": "stdout",
       "text": [
        "\n",
        " 8: -1.3815e+02 -1.3815e+02  2e-04  2e-15  8e-16\n",
        " 9: -1.3815e+02 -1.3815e+02  8e-05  2e-15  8e-16\n",
        "Optimal solution found.\n",
        "273 support vectors out of 341 points"
       ]
      },
      {
       "output_type": "stream",
       "stream": "stdout",
       "text": [
        "\n",
        "cutting plane objective: 138.147674, primal objective 138.152407\n",
        "iteration 472\n",
        "OneSlackSSVM(C=0.1, break_on_bad=False, cache_tol=auto,\n",
        "       check_constraints=False, inactive_threshold=1e-05,\n",
        "       inactive_window=50, inference_cache=0, logger=None, max_iter=10000,\n",
        "       model=MultiLabelModel(n_states: 2, inference_method: ad3), n_jobs=1,\n",
        "       positive_constraint=None, show_loss_every=0, switch_to=None,\n",
        "       tol=1e-05, verbose=3)\n",
        "New violation: 0.961195 difference to last: 0.000036"
       ]
      },
      {
       "output_type": "stream",
       "stream": "stdout",
       "text": [
        "\n",
        "     pcost       dcost       gap    pres   dres"
       ]
      },
      {
       "output_type": "stream",
       "stream": "stdout",
       "text": [
        "\n",
        " 0: -1.3775e+02 -2.7836e+02  1e+02  4e-16  1e+00\n",
        " 1: -1.3786e+02 -1.4436e+02  6e+00  1e-15  5e-02\n",
        " 2: -1.3800e+02 -1.3942e+02  1e+00  1e-15  8e-03\n",
        " 3: -1.3810e+02 -1.3849e+02  4e-01  2e-15  9e-16\n",
        " 4: -1.3813e+02 -1.3822e+02  9e-02  1e-15  9e-16\n",
        " 5: -1.3814e+02 -1.3816e+02  2e-02  2e-15  8e-16"
       ]
      },
      {
       "output_type": "stream",
       "stream": "stdout",
       "text": [
        "\n",
        " 6: -1.3815e+02 -1.3815e+02  4e-03  2e-15  8e-16\n",
        " 7: -1.3815e+02 -1.3815e+02  8e-04  2e-15  9e-16\n",
        " 8: -1.3815e+02 -1.3815e+02  2e-04  2e-15  8e-16\n",
        " 9: -1.3815e+02 -1.3815e+02  8e-05  2e-15  8e-16"
       ]
      },
      {
       "output_type": "stream",
       "stream": "stdout",
       "text": [
        "\n",
        "Optimal solution found.\n",
        "274 support vectors out of 342 points\n",
        "cutting plane objective: 138.147676, primal objective 138.152046\n",
        "iteration 473\n",
        "OneSlackSSVM(C=0.1, break_on_bad=False, cache_tol=auto,\n",
        "       check_constraints=False, inactive_threshold=1e-05,\n",
        "       inactive_window=50, inference_cache=0, logger=None, max_iter=10000,\n",
        "       model=MultiLabelModel(n_states: 2, inference_method: ad3), n_jobs=1,\n",
        "       positive_constraint=None, show_loss_every=0, switch_to=None,\n",
        "       tol=1e-05, verbose=3)\n",
        "New violation: 0.961197 difference to last: 0.000038"
       ]
      },
      {
       "output_type": "stream",
       "stream": "stdout",
       "text": [
        "\n",
        "     pcost       dcost       gap    pres   dres"
       ]
      },
      {
       "output_type": "stream",
       "stream": "stdout",
       "text": [
        "\n",
        " 0: -1.3775e+02 -2.7860e+02  1e+02  5e-16  1e+00\n",
        " 1: -1.3786e+02 -1.4440e+02  7e+00  1e-15  5e-02\n",
        " 2: -1.3800e+02 -1.3946e+02  1e+00  1e-15  8e-03\n",
        " 3: -1.3810e+02 -1.3848e+02  4e-01  1e-15  9e-16\n",
        " 4: -1.3813e+02 -1.3822e+02  9e-02  2e-15  9e-16"
       ]
      },
      {
       "output_type": "stream",
       "stream": "stdout",
       "text": [
        "\n",
        " 5: -1.3814e+02 -1.3816e+02  2e-02  1e-15  9e-16\n",
        " 6: -1.3815e+02 -1.3815e+02  4e-03  2e-15  9e-16\n",
        " 7: -1.3815e+02 -1.3815e+02  8e-04  2e-15  8e-16\n",
        " 8: -1.3815e+02 -1.3815e+02  2e-04  2e-15  8e-16"
       ]
      },
      {
       "output_type": "stream",
       "stream": "stdout",
       "text": [
        "\n",
        " 9: -1.3815e+02 -1.3815e+02  8e-05  3e-15  8e-16\n",
        "Optimal solution found.\n",
        "275 support vectors out of 343 points\n",
        "cutting plane objective: 138.147677, primal objective 138.152382\n",
        "iteration 474\n",
        "OneSlackSSVM(C=0.1, break_on_bad=False, cache_tol=auto,\n",
        "       check_constraints=False, inactive_threshold=1e-05,\n",
        "       inactive_window=50, inference_cache=0, logger=None, max_iter=10000,\n",
        "       model=MultiLabelModel(n_states: 2, inference_method: ad3), n_jobs=1,\n",
        "       positive_constraint=None, show_loss_every=0, switch_to=None,\n",
        "       tol=1e-05, verbose=3)\n",
        "New violation: 0.961191 difference to last: 0.000036"
       ]
      },
      {
       "output_type": "stream",
       "stream": "stdout",
       "text": [
        "\n",
        "     pcost       dcost       gap    pres   dres"
       ]
      },
      {
       "output_type": "stream",
       "stream": "stdout",
       "text": [
        "\n",
        " 0: -1.3776e+02 -2.7845e+02  1e+02  2e-16  1e+00\n",
        " 1: -1.3786e+02 -1.4434e+02  6e+00  1e-15  5e-02\n",
        " 2: -1.3800e+02 -1.3942e+02  1e+00  1e-15  8e-03\n",
        " 3: -1.3810e+02 -1.3848e+02  4e-01  1e-15  9e-16\n",
        " 4: -1.3813e+02 -1.3822e+02  9e-02  1e-15  9e-16\n",
        " 5: -1.3814e+02 -1.3816e+02  2e-02  2e-15  9e-16"
       ]
      },
      {
       "output_type": "stream",
       "stream": "stdout",
       "text": [
        "\n",
        " 6: -1.3815e+02 -1.3815e+02  4e-03  2e-15  9e-16\n",
        " 7: -1.3815e+02 -1.3815e+02  8e-04  3e-15  9e-16\n",
        " 8: -1.3815e+02 -1.3815e+02  2e-04  2e-15  8e-16\n",
        " 9: -1.3815e+02 -1.3815e+02  8e-05  2e-15  8e-16\n",
        "Optimal solution found.\n",
        "277 support vectors out of 344 points"
       ]
      },
      {
       "output_type": "stream",
       "stream": "stdout",
       "text": [
        "\n",
        "cutting plane objective: 138.147677, primal objective 138.152142\n",
        "iteration 475\n",
        "OneSlackSSVM(C=0.1, break_on_bad=False, cache_tol=auto,\n",
        "       check_constraints=False, inactive_threshold=1e-05,\n",
        "       inactive_window=50, inference_cache=0, logger=None, max_iter=10000,\n",
        "       model=MultiLabelModel(n_states: 2, inference_method: ad3), n_jobs=1,\n",
        "       positive_constraint=None, show_loss_every=0, switch_to=None,\n",
        "       tol=1e-05, verbose=3)\n",
        "New violation: 0.961196 difference to last: 0.000037"
       ]
      },
      {
       "output_type": "stream",
       "stream": "stdout",
       "text": [
        "\n",
        "     pcost       dcost       gap    pres   dres"
       ]
      },
      {
       "output_type": "stream",
       "stream": "stdout",
       "text": [
        "\n",
        " 0: -1.3776e+02 -2.7836e+02  1e+02  2e-16  1e+00\n",
        " 1: -1.3786e+02 -1.4429e+02  6e+00  1e-15  5e-02\n",
        " 2: -1.3800e+02 -1.3939e+02  1e+00  1e-15  7e-03\n",
        " 3: -1.3810e+02 -1.3849e+02  4e-01  1e-15  9e-16\n",
        " 4: -1.3813e+02 -1.3822e+02  9e-02  2e-15  9e-16"
       ]
      },
      {
       "output_type": "stream",
       "stream": "stdout",
       "text": [
        "\n",
        " 5: -1.3814e+02 -1.3816e+02  2e-02  2e-15  9e-16\n",
        " 6: -1.3815e+02 -1.3815e+02  4e-03  2e-15  9e-16\n",
        " 7: -1.3815e+02 -1.3815e+02  8e-04  3e-15  9e-16\n",
        " 8: -1.3815e+02 -1.3815e+02  2e-04  3e-15  8e-16\n",
        " 9: -1.3815e+02 -1.3815e+02  8e-05  2e-15  8e-16"
       ]
      },
      {
       "output_type": "stream",
       "stream": "stdout",
       "text": [
        "\n",
        "Optimal solution found.\n",
        "276 support vectors out of 345 points\n",
        "cutting plane objective: 138.147678, primal objective 138.152271\n",
        "iteration 476\n",
        "OneSlackSSVM(C=0.1, break_on_bad=False, cache_tol=auto,\n",
        "       check_constraints=False, inactive_threshold=1e-05,\n",
        "       inactive_window=50, inference_cache=0, logger=None, max_iter=10000,\n",
        "       model=MultiLabelModel(n_states: 2, inference_method: ad3), n_jobs=1,\n",
        "       positive_constraint=None, show_loss_every=0, switch_to=None,\n",
        "       tol=1e-05, verbose=3)\n",
        "New violation: 0.961193 difference to last: 0.000034"
       ]
      },
      {
       "output_type": "stream",
       "stream": "stdout",
       "text": [
        "\n",
        "     pcost       dcost       gap    pres   dres"
       ]
      },
      {
       "output_type": "stream",
       "stream": "stdout",
       "text": [
        "\n",
        " 0: -1.3776e+02 -2.7819e+02  1e+02  4e-16  1e+00\n",
        " 1: -1.3786e+02 -1.4426e+02  6e+00  1e-15  5e-02\n",
        " 2: -1.3800e+02 -1.3937e+02  1e+00  1e-15  7e-03\n",
        " 3: -1.3810e+02 -1.3849e+02  4e-01  1e-15  9e-16\n",
        " 4: -1.3813e+02 -1.3822e+02  9e-02  2e-15  8e-16"
       ]
      },
      {
       "output_type": "stream",
       "stream": "stdout",
       "text": [
        "\n",
        " 5: -1.3814e+02 -1.3816e+02  2e-02  2e-15  8e-16\n",
        " 6: -1.3815e+02 -1.3815e+02  5e-03  3e-15  8e-16\n",
        " 7: -1.3815e+02 -1.3815e+02  8e-04  2e-15  9e-16\n",
        " 8: -1.3815e+02 -1.3815e+02  2e-04  2e-15  8e-16"
       ]
      },
      {
       "output_type": "stream",
       "stream": "stdout",
       "text": [
        "\n",
        " 9: -1.3815e+02 -1.3815e+02  7e-05  2e-15  9e-16\n",
        "Optimal solution found.\n",
        "276 support vectors out of 346 points\n",
        "cutting plane objective: 138.147680, primal objective 138.151891\n",
        "iteration 477\n",
        "OneSlackSSVM(C=0.1, break_on_bad=False, cache_tol=auto,\n",
        "       check_constraints=False, inactive_threshold=1e-05,\n",
        "       inactive_window=50, inference_cache=0, logger=None, max_iter=10000,\n",
        "       model=MultiLabelModel(n_states: 2, inference_method: ad3), n_jobs=1,\n",
        "       positive_constraint=None, show_loss_every=0, switch_to=None,\n",
        "       tol=1e-05, verbose=3)\n",
        "New violation: 0.961196 difference to last: 0.000035"
       ]
      },
      {
       "output_type": "stream",
       "stream": "stdout",
       "text": [
        "\n",
        "     pcost       dcost       gap    pres   dres"
       ]
      },
      {
       "output_type": "stream",
       "stream": "stdout",
       "text": [
        "\n",
        " 0: -1.3776e+02 -2.7848e+02  1e+02  7e-16  1e+00\n",
        " 1: -1.3787e+02 -1.4427e+02  6e+00  1e-15  5e-02\n",
        " 2: -1.3800e+02 -1.3941e+02  1e+00  1e-15  7e-03\n",
        " 3: -1.3810e+02 -1.3847e+02  4e-01  2e-15  9e-16"
       ]
      },
      {
       "output_type": "stream",
       "stream": "stdout",
       "text": [
        "\n",
        " 4: -1.3813e+02 -1.3821e+02  8e-02  1e-15  9e-16\n",
        " 5: -1.3814e+02 -1.3816e+02  2e-02  2e-15  8e-16\n",
        " 6: -1.3815e+02 -1.3815e+02  4e-03  2e-15  8e-16"
       ]
      },
      {
       "output_type": "stream",
       "stream": "stdout",
       "text": [
        "\n",
        " 7: -1.3815e+02 -1.3815e+02  7e-04  3e-15  9e-16\n",
        " 8: -1.3815e+02 -1.3815e+02  2e-04  3e-15  8e-16\n",
        " 9: -1.3815e+02 -1.3815e+02  7e-05  3e-15  8e-16\n",
        "Optimal solution found.\n",
        "277 support vectors out of 347 points"
       ]
      },
      {
       "output_type": "stream",
       "stream": "stdout",
       "text": [
        "\n",
        "cutting plane objective: 138.147680, primal objective 138.151990\n",
        "iteration 478\n",
        "OneSlackSSVM(C=0.1, break_on_bad=False, cache_tol=auto,\n",
        "       check_constraints=False, inactive_threshold=1e-05,\n",
        "       inactive_window=50, inference_cache=0, logger=None, max_iter=10000,\n",
        "       model=MultiLabelModel(n_states: 2, inference_method: ad3), n_jobs=1,\n",
        "       positive_constraint=None, show_loss_every=0, switch_to=None,\n",
        "       tol=1e-05, verbose=3)\n",
        "New violation: 0.961191 difference to last: 0.000035"
       ]
      },
      {
       "output_type": "stream",
       "stream": "stdout",
       "text": [
        "\n",
        "     pcost       dcost       gap    pres   dres"
       ]
      },
      {
       "output_type": "stream",
       "stream": "stdout",
       "text": [
        "\n",
        " 0: -1.3776e+02 -2.7864e+02  1e+02  2e-16  1e+00\n",
        " 1: -1.3787e+02 -1.4429e+02  6e+00  1e-15  5e-02\n",
        " 2: -1.3800e+02 -1.3943e+02  1e+00  1e-15  8e-03\n",
        " 3: -1.3810e+02 -1.3847e+02  4e-01  1e-15  9e-16\n",
        " 4: -1.3813e+02 -1.3821e+02  8e-02  2e-15  9e-16"
       ]
      },
      {
       "output_type": "stream",
       "stream": "stdout",
       "text": [
        "\n",
        " 5: -1.3814e+02 -1.3816e+02  2e-02  1e-15  8e-16\n",
        " 6: -1.3815e+02 -1.3815e+02  4e-03  2e-15  9e-16\n",
        " 7: -1.3815e+02 -1.3815e+02  7e-04  2e-15  8e-16\n",
        " 8: -1.3815e+02 -1.3815e+02  2e-04  2e-15  8e-16"
       ]
      },
      {
       "output_type": "stream",
       "stream": "stdout",
       "text": [
        "\n",
        " 9: -1.3815e+02 -1.3815e+02  8e-05  3e-15  8e-16\n",
        "Optimal solution found.\n",
        "279 support vectors out of 348 points\n",
        "cutting plane objective: 138.147680, primal objective 138.152044\n",
        "iteration 479\n",
        "OneSlackSSVM(C=0.1, break_on_bad=False, cache_tol=auto,\n",
        "       check_constraints=False, inactive_threshold=1e-05,\n",
        "       inactive_window=50, inference_cache=0, logger=None, max_iter=10000,\n",
        "       model=MultiLabelModel(n_states: 2, inference_method: ad3), n_jobs=1,\n",
        "       positive_constraint=None, show_loss_every=0, switch_to=None,\n",
        "       tol=1e-05, verbose=3)\n",
        "New violation: 0.961191 difference to last: 0.000035"
       ]
      },
      {
       "output_type": "stream",
       "stream": "stdout",
       "text": [
        "\n",
        "     pcost       dcost       gap    pres   dres"
       ]
      },
      {
       "output_type": "stream",
       "stream": "stdout",
       "text": [
        "\n",
        " 0: -1.3776e+02 -2.7833e+02  1e+02  6e-16  1e+00\n",
        " 1: -1.3787e+02 -1.4425e+02  6e+00  1e-15  5e-02\n",
        " 2: -1.3800e+02 -1.3938e+02  1e+00  1e-15  7e-03"
       ]
      },
      {
       "output_type": "stream",
       "stream": "stdout",
       "text": [
        "\n",
        " 3: -1.3810e+02 -1.3849e+02  4e-01  1e-15  9e-16\n",
        " 4: -1.3813e+02 -1.3822e+02  9e-02  2e-15  9e-16\n",
        " 5: -1.3814e+02 -1.3816e+02  2e-02  2e-15  8e-16"
       ]
      },
      {
       "output_type": "stream",
       "stream": "stdout",
       "text": [
        "\n",
        " 6: -1.3815e+02 -1.3815e+02  4e-03  2e-15  9e-16\n",
        " 7: -1.3815e+02 -1.3815e+02  7e-04  2e-15  8e-16\n",
        " 8: -1.3815e+02 -1.3815e+02  2e-04  2e-15  8e-16"
       ]
      },
      {
       "output_type": "stream",
       "stream": "stdout",
       "text": [
        "\n",
        " 9: -1.3815e+02 -1.3815e+02  7e-05  2e-15  8e-16\n",
        "Optimal solution found.\n",
        "279 support vectors out of 349 points\n",
        "cutting plane objective: 138.147681, primal objective 138.152023\n",
        "iteration 480\n",
        "OneSlackSSVM(C=0.1, break_on_bad=False, cache_tol=auto,\n",
        "       check_constraints=False, inactive_threshold=1e-05,\n",
        "       inactive_window=50, inference_cache=0, logger=None, max_iter=10000,\n",
        "       model=MultiLabelModel(n_states: 2, inference_method: ad3), n_jobs=1,\n",
        "       positive_constraint=None, show_loss_every=0, switch_to=None,\n",
        "       tol=1e-05, verbose=3)\n",
        "New violation: 0.961169 difference to last: 0.000014"
       ]
      },
      {
       "output_type": "stream",
       "stream": "stdout",
       "text": [
        "\n",
        "     pcost       dcost       gap    pres   dres"
       ]
      },
      {
       "output_type": "stream",
       "stream": "stdout",
       "text": [
        "\n",
        " 0: -1.3776e+02 -2.7805e+02  1e+02  3e-17  1e+00\n",
        " 1: -1.3787e+02 -1.4426e+02  6e+00  1e-15  5e-02\n",
        " 2: -1.3800e+02 -1.3933e+02  1e+00  1e-15  7e-03\n",
        " 3: -1.3810e+02 -1.3853e+02  4e-01  2e-15  9e-16\n",
        " 4: -1.3813e+02 -1.3824e+02  1e-01  2e-15  9e-16"
       ]
      },
      {
       "output_type": "stream",
       "stream": "stdout",
       "text": [
        "\n",
        " 5: -1.3814e+02 -1.3816e+02  2e-02  2e-15  9e-16\n",
        " 6: -1.3815e+02 -1.3815e+02  5e-03  2e-15  9e-16\n",
        " 7: -1.3815e+02 -1.3815e+02  9e-04  3e-15  9e-16\n",
        " 8: -1.3815e+02 -1.3815e+02  2e-04  3e-15  8e-16"
       ]
      },
      {
       "output_type": "stream",
       "stream": "stdout",
       "text": [
        "\n",
        " 9: -1.3815e+02 -1.3815e+02  8e-05  2e-15  8e-16\n",
        "Optimal solution found.\n",
        "281 support vectors out of 350 points\n",
        "cutting plane objective: 138.147680, primal objective 138.149402\n",
        "iteration 481\n",
        "OneSlackSSVM(C=0.1, break_on_bad=False, cache_tol=auto,\n",
        "       check_constraints=False, inactive_threshold=1e-05,\n",
        "       inactive_window=50, inference_cache=0, logger=None, max_iter=10000,\n",
        "       model=MultiLabelModel(n_states: 2, inference_method: ad3), n_jobs=1,\n",
        "       positive_constraint=None, show_loss_every=0, switch_to=None,\n",
        "       tol=1e-05, verbose=3)\n",
        "New violation: 0.961182 difference to last: 0.000027"
       ]
      },
      {
       "output_type": "stream",
       "stream": "stdout",
       "text": [
        "\n",
        "     pcost       dcost       gap    pres   dres"
       ]
      },
      {
       "output_type": "stream",
       "stream": "stdout",
       "text": [
        "\n",
        " 0: -1.3776e+02 -2.7807e+02  1e+02  3e-17  1e+00\n",
        " 1: -1.3787e+02 -1.4428e+02  6e+00  1e-15  5e-02\n",
        " 2: -1.3800e+02 -1.3934e+02  1e+00  1e-15  7e-03\n",
        " 3: -1.3810e+02 -1.3851e+02  4e-01  2e-15  9e-16\n",
        " 4: -1.3813e+02 -1.3823e+02  1e-01  2e-15  8e-16"
       ]
      },
      {
       "output_type": "stream",
       "stream": "stdout",
       "text": [
        "\n",
        " 5: -1.3814e+02 -1.3816e+02  2e-02  2e-15  8e-16\n",
        " 6: -1.3815e+02 -1.3815e+02  5e-03  2e-15  8e-16\n",
        " 7: -1.3815e+02 -1.3815e+02  9e-04  2e-15  9e-16\n",
        " 8: -1.3815e+02 -1.3815e+02  2e-04  2e-15  8e-16"
       ]
      },
      {
       "output_type": "stream",
       "stream": "stdout",
       "text": [
        "\n",
        " 9: -1.3815e+02 -1.3815e+02  8e-05  2e-15  8e-16\n",
        "Optimal solution found.\n",
        "282 support vectors out of 351 points\n",
        "cutting plane objective: 138.147679, primal objective 138.151013"
       ]
      },
      {
       "output_type": "stream",
       "stream": "stdout",
       "text": [
        "\n",
        "iteration 482\n",
        "OneSlackSSVM(C=0.1, break_on_bad=False, cache_tol=auto,\n",
        "       check_constraints=False, inactive_threshold=1e-05,\n",
        "       inactive_window=50, inference_cache=0, logger=None, max_iter=10000,\n",
        "       model=MultiLabelModel(n_states: 2, inference_method: ad3), n_jobs=1,\n",
        "       positive_constraint=None, show_loss_every=0, switch_to=None,\n",
        "       tol=1e-05, verbose=3)\n",
        "New violation: 0.961190 difference to last: 0.000034"
       ]
      },
      {
       "output_type": "stream",
       "stream": "stdout",
       "text": [
        "\n",
        "     pcost       dcost       gap    pres   dres"
       ]
      },
      {
       "output_type": "stream",
       "stream": "stdout",
       "text": [
        "\n",
        " 0: -1.3777e+02 -2.7777e+02  1e+02  3e-16  1e+00\n",
        " 1: -1.3787e+02 -1.4423e+02  6e+00  1e-15  5e-02\n",
        " 2: -1.3801e+02 -1.3929e+02  1e+00  1e-15  6e-03\n",
        " 3: -1.3810e+02 -1.3853e+02  4e-01  1e-15  9e-16\n",
        " 4: -1.3813e+02 -1.3823e+02  1e-01  1e-15  8e-16"
       ]
      },
      {
       "output_type": "stream",
       "stream": "stdout",
       "text": [
        "\n",
        " 5: -1.3814e+02 -1.3816e+02  2e-02  2e-15  9e-16\n",
        " 6: -1.3815e+02 -1.3815e+02  5e-03  2e-15  8e-16\n",
        " 7: -1.3815e+02 -1.3815e+02  9e-04  2e-15  9e-16\n",
        " 8: -1.3815e+02 -1.3815e+02  2e-04  2e-15  8e-16"
       ]
      },
      {
       "output_type": "stream",
       "stream": "stdout",
       "text": [
        "\n",
        " 9: -1.3815e+02 -1.3815e+02  8e-05  2e-15  9e-16\n",
        "Optimal solution found.\n",
        "283 support vectors out of 352 points\n",
        "cutting plane objective: 138.147679, primal objective 138.151873\n",
        "iteration 483\n",
        "OneSlackSSVM(C=0.1, break_on_bad=False, cache_tol=auto,\n",
        "       check_constraints=False, inactive_threshold=1e-05,\n",
        "       inactive_window=50, inference_cache=0, logger=None, max_iter=10000,\n",
        "       model=MultiLabelModel(n_states: 2, inference_method: ad3), n_jobs=1,\n",
        "       positive_constraint=None, show_loss_every=0, switch_to=None,\n",
        "       tol=1e-05, verbose=3)\n",
        "New violation: 0.961198 difference to last: 0.000041"
       ]
      },
      {
       "output_type": "stream",
       "stream": "stdout",
       "text": [
        "\n",
        "     pcost       dcost       gap    pres   dres"
       ]
      },
      {
       "output_type": "stream",
       "stream": "stdout",
       "text": [
        "\n",
        " 0: -1.3777e+02 -2.7761e+02  1e+02  3e-16  1e+00\n",
        " 1: -1.3787e+02 -1.4422e+02  6e+00  1e-15  5e-02\n",
        " 2: -1.3800e+02 -1.3932e+02  1e+00  1e-15  7e-03\n",
        " 3: -1.3810e+02 -1.3850e+02  4e-01  1e-15  9e-16\n",
        " 4: -1.3813e+02 -1.3823e+02  1e-01  2e-15  9e-16"
       ]
      },
      {
       "output_type": "stream",
       "stream": "stdout",
       "text": [
        "\n",
        " 5: -1.3814e+02 -1.3816e+02  2e-02  2e-15  8e-16\n",
        " 6: -1.3815e+02 -1.3815e+02  5e-03  1e-15  8e-16\n",
        " 7: -1.3815e+02 -1.3815e+02  9e-04  2e-15  9e-16\n",
        " 8: -1.3815e+02 -1.3815e+02  2e-04  2e-15  8e-16"
       ]
      },
      {
       "output_type": "stream",
       "stream": "stdout",
       "text": [
        "\n",
        " 9: -1.3815e+02 -1.3815e+02  8e-05  2e-15  8e-16\n",
        "Optimal solution found.\n",
        "285 support vectors out of 353 points\n",
        "cutting plane objective: 138.147679, primal objective 138.152767\n",
        "iteration 484\n",
        "OneSlackSSVM(C=0.1, break_on_bad=False, cache_tol=auto,\n",
        "       check_constraints=False, inactive_threshold=1e-05,\n",
        "       inactive_window=50, inference_cache=0, logger=None, max_iter=10000,\n",
        "       model=MultiLabelModel(n_states: 2, inference_method: ad3), n_jobs=1,\n",
        "       positive_constraint=None, show_loss_every=0, switch_to=None,\n",
        "       tol=1e-05, verbose=3)\n",
        "New violation: 0.961196 difference to last: 0.000037"
       ]
      },
      {
       "output_type": "stream",
       "stream": "stdout",
       "text": [
        "\n",
        "     pcost       dcost       gap    pres   dres"
       ]
      },
      {
       "output_type": "stream",
       "stream": "stdout",
       "text": [
        "\n",
        " 0: -1.3777e+02 -2.7748e+02  1e+02  1e-16  1e+00\n",
        " 1: -1.3787e+02 -1.4419e+02  6e+00  1e-15  5e-02\n",
        " 2: -1.3801e+02 -1.3929e+02  1e+00  1e-15  6e-03\n",
        " 3: -1.3810e+02 -1.3853e+02  4e-01  1e-15  9e-16\n",
        " 4: -1.3813e+02 -1.3824e+02  1e-01  1e-15  8e-16"
       ]
      },
      {
       "output_type": "stream",
       "stream": "stdout",
       "text": [
        "\n",
        " 5: -1.3814e+02 -1.3816e+02  2e-02  2e-15  9e-16\n",
        " 6: -1.3815e+02 -1.3815e+02  5e-03  3e-15  8e-16\n",
        " 7: -1.3815e+02 -1.3815e+02  9e-04  2e-15  9e-16\n",
        " 8: -1.3815e+02 -1.3815e+02  2e-04  2e-15  8e-16"
       ]
      },
      {
       "output_type": "stream",
       "stream": "stdout",
       "text": [
        "\n",
        " 9: -1.3815e+02 -1.3815e+02  8e-05  2e-15  9e-16\n",
        "Optimal solution found.\n",
        "286 support vectors out of 354 points\n",
        "cutting plane objective: 138.147679, primal objective 138.152290\n",
        "iteration 485\n",
        "OneSlackSSVM(C=0.1, break_on_bad=False, cache_tol=auto,\n",
        "       check_constraints=False, inactive_threshold=1e-05,\n",
        "       inactive_window=50, inference_cache=0, logger=None, max_iter=10000,\n",
        "       model=MultiLabelModel(n_states: 2, inference_method: ad3), n_jobs=1,\n",
        "       positive_constraint=None, show_loss_every=0, switch_to=None,\n",
        "       tol=1e-05, verbose=3)\n",
        "New violation: 0.961191 difference to last: 0.000036"
       ]
      },
      {
       "output_type": "stream",
       "stream": "stdout",
       "text": [
        "\n",
        "     pcost       dcost       gap    pres   dres"
       ]
      },
      {
       "output_type": "stream",
       "stream": "stdout",
       "text": [
        "\n",
        " 0: -1.3777e+02 -2.7746e+02  1e+02  3e-16  1e+00\n",
        " 1: -1.3787e+02 -1.4421e+02  6e+00  1e-15  5e-02\n",
        " 2: -1.3801e+02 -1.3926e+02  1e+00  1e-15  6e-03\n",
        " 3: -1.3810e+02 -1.3855e+02  5e-01  1e-15  9e-16\n",
        " 4: -1.3813e+02 -1.3824e+02  1e-01  2e-15  9e-16"
       ]
      },
      {
       "output_type": "stream",
       "stream": "stdout",
       "text": [
        "\n",
        " 5: -1.3814e+02 -1.3817e+02  2e-02  2e-15  9e-16\n",
        " 6: -1.3815e+02 -1.3815e+02  5e-03  2e-15  9e-16\n",
        " 7: -1.3815e+02 -1.3815e+02  1e-03  2e-15  9e-16"
       ]
      },
      {
       "output_type": "stream",
       "stream": "stdout",
       "text": [
        "\n",
        " 8: -1.3815e+02 -1.3815e+02  2e-04  2e-15  8e-16\n",
        " 9: -1.3815e+02 -1.3815e+02  8e-05  2e-15  8e-16\n",
        "Optimal solution found.\n",
        "290 support vectors out of 355 points\n",
        "cutting plane objective: 138.147678, primal objective 138.152117"
       ]
      },
      {
       "output_type": "stream",
       "stream": "stdout",
       "text": [
        "\n",
        "iteration 486\n",
        "OneSlackSSVM(C=0.1, break_on_bad=False, cache_tol=auto,\n",
        "       check_constraints=False, inactive_threshold=1e-05,\n",
        "       inactive_window=50, inference_cache=0, logger=None, max_iter=10000,\n",
        "       model=MultiLabelModel(n_states: 2, inference_method: ad3), n_jobs=1,\n",
        "       positive_constraint=None, show_loss_every=0, switch_to=None,\n",
        "       tol=1e-05, verbose=3)\n",
        "New violation: 0.961193 difference to last: 0.000035"
       ]
      },
      {
       "output_type": "stream",
       "stream": "stdout",
       "text": [
        "\n",
        "     pcost       dcost       gap    pres   dres"
       ]
      },
      {
       "output_type": "stream",
       "stream": "stdout",
       "text": [
        "\n",
        " 0: -1.3777e+02 -2.7741e+02  1e+02  3e-16  1e+00\n",
        " 1: -1.3787e+02 -1.4424e+02  6e+00  1e-15  5e-02\n",
        " 2: -1.3801e+02 -1.3923e+02  1e+00  1e-15  5e-03\n",
        " 3: -1.3810e+02 -1.3857e+02  5e-01  1e-15  9e-16\n",
        " 4: -1.3813e+02 -1.3824e+02  1e-01  2e-15  9e-16"
       ]
      },
      {
       "output_type": "stream",
       "stream": "stdout",
       "text": [
        "\n",
        " 5: -1.3814e+02 -1.3817e+02  2e-02  2e-15  9e-16\n",
        " 6: -1.3815e+02 -1.3815e+02  5e-03  2e-15  9e-16\n",
        " 7: -1.3815e+02 -1.3815e+02  1e-03  3e-15  9e-16\n",
        " 8: -1.3815e+02 -1.3815e+02  3e-04  2e-15  8e-16"
       ]
      },
      {
       "output_type": "stream",
       "stream": "stdout",
       "text": [
        "\n",
        " 9: -1.3815e+02 -1.3815e+02  9e-05  2e-15  8e-16\n",
        "Optimal solution found.\n",
        "292 support vectors out of 356 points\n",
        "cutting plane objective: 138.147677, primal objective 138.151977\n",
        "iteration 487\n",
        "OneSlackSSVM(C=0.1, break_on_bad=False, cache_tol=auto,\n",
        "       check_constraints=False, inactive_threshold=1e-05,\n",
        "       inactive_window=50, inference_cache=0, logger=None, max_iter=10000,\n",
        "       model=MultiLabelModel(n_states: 2, inference_method: ad3), n_jobs=1,\n",
        "       positive_constraint=None, show_loss_every=0, switch_to=None,\n",
        "       tol=1e-05, verbose=3)\n",
        "New violation: 0.961190 difference to last: 0.000036"
       ]
      },
      {
       "output_type": "stream",
       "stream": "stdout",
       "text": [
        "\n",
        "     pcost       dcost       gap    pres   dres"
       ]
      },
      {
       "output_type": "stream",
       "stream": "stdout",
       "text": [
        "\n",
        " 0: -1.3777e+02 -2.7755e+02  1e+02  2e-16  1e+00\n",
        " 1: -1.3787e+02 -1.4427e+02  6e+00  1e-15  5e-02\n",
        " 2: -1.3801e+02 -1.3931e+02  1e+00  1e-15  6e-03\n",
        " 3: -1.3810e+02 -1.3852e+02  4e-01  2e-15  1e-15\n",
        " 4: -1.3813e+02 -1.3823e+02  1e-01  2e-15  9e-16"
       ]
      },
      {
       "output_type": "stream",
       "stream": "stdout",
       "text": [
        "\n",
        " 5: -1.3814e+02 -1.3816e+02  2e-02  2e-15  9e-16\n",
        " 6: -1.3815e+02 -1.3815e+02  5e-03  2e-15  9e-16\n",
        " 7: -1.3815e+02 -1.3815e+02  1e-03  3e-15  9e-16"
       ]
      },
      {
       "output_type": "stream",
       "stream": "stdout",
       "text": [
        "\n",
        " 8: -1.3815e+02 -1.3815e+02  3e-04  2e-15  9e-16\n",
        " 9: -1.3815e+02 -1.3815e+02  9e-05  2e-15  8e-16\n",
        "Optimal solution found.\n",
        "293 support vectors out of 357 points\n",
        "cutting plane objective: 138.147678, primal objective 138.152069"
       ]
      },
      {
       "output_type": "stream",
       "stream": "stdout",
       "text": [
        "\n",
        "iteration 488\n",
        "OneSlackSSVM(C=0.1, break_on_bad=False, cache_tol=auto,\n",
        "       check_constraints=False, inactive_threshold=1e-05,\n",
        "       inactive_window=50, inference_cache=0, logger=None, max_iter=10000,\n",
        "       model=MultiLabelModel(n_states: 2, inference_method: ad3), n_jobs=1,\n",
        "       positive_constraint=None, show_loss_every=0, switch_to=None,\n",
        "       tol=1e-05, verbose=3)\n",
        "New violation: 0.961190 difference to last: 0.000035"
       ]
      },
      {
       "output_type": "stream",
       "stream": "stdout",
       "text": [
        "\n",
        "     pcost       dcost       gap    pres   dres"
       ]
      },
      {
       "output_type": "stream",
       "stream": "stdout",
       "text": [
        "\n",
        " 0: -1.3777e+02 -2.7743e+02  1e+02  4e-16  1e+00\n",
        " 1: -1.3787e+02 -1.4425e+02  6e+00  1e-15  5e-02\n",
        " 2: -1.3801e+02 -1.3927e+02  1e+00  1e-15  6e-03\n",
        " 3: -1.3810e+02 -1.3853e+02  4e-01  2e-15  9e-16\n",
        " 4: -1.3813e+02 -1.3824e+02  1e-01  2e-15  8e-16"
       ]
      },
      {
       "output_type": "stream",
       "stream": "stdout",
       "text": [
        "\n",
        " 5: -1.3814e+02 -1.3816e+02  2e-02  2e-15  8e-16\n",
        " 6: -1.3815e+02 -1.3815e+02  5e-03  2e-15  9e-16\n",
        " 7: -1.3815e+02 -1.3815e+02  1e-03  2e-15  8e-16\n",
        " 8: -1.3815e+02 -1.3815e+02  3e-04  2e-15  9e-16"
       ]
      },
      {
       "output_type": "stream",
       "stream": "stdout",
       "text": [
        "\n",
        " 9: -1.3815e+02 -1.3815e+02  9e-05  2e-15  8e-16\n",
        "Optimal solution found.\n",
        "294 support vectors out of 358 points\n",
        "cutting plane objective: 138.147678, primal objective 138.151988\n",
        "iteration 489\n",
        "OneSlackSSVM(C=0.1, break_on_bad=False, cache_tol=auto,\n",
        "       check_constraints=False, inactive_threshold=1e-05,\n",
        "       inactive_window=50, inference_cache=0, logger=None, max_iter=10000,\n",
        "       model=MultiLabelModel(n_states: 2, inference_method: ad3), n_jobs=1,\n",
        "       positive_constraint=None, show_loss_every=0, switch_to=None,\n",
        "       tol=1e-05, verbose=3)\n",
        "New violation: 0.961191 difference to last: 0.000037"
       ]
      },
      {
       "output_type": "stream",
       "stream": "stdout",
       "text": [
        "\n",
        "     pcost       dcost       gap    pres   dres"
       ]
      },
      {
       "output_type": "stream",
       "stream": "stdout",
       "text": [
        "\n",
        " 0: -1.3778e+02 -2.7753e+02  1e+02  1e-16  1e+00\n",
        " 1: -1.3787e+02 -1.4421e+02  6e+00  1e-15  5e-02\n",
        " 2: -1.3801e+02 -1.3931e+02  1e+00  1e-15  6e-03\n",
        " 3: -1.3810e+02 -1.3851e+02  4e-01  1e-15  1e-15\n",
        " 4: -1.3813e+02 -1.3823e+02  1e-01  2e-15  8e-16"
       ]
      },
      {
       "output_type": "stream",
       "stream": "stdout",
       "text": [
        "\n",
        " 5: -1.3814e+02 -1.3816e+02  2e-02  2e-15  9e-16\n",
        " 6: -1.3815e+02 -1.3815e+02  5e-03  2e-15  9e-16\n",
        " 7: -1.3815e+02 -1.3815e+02  1e-03  2e-15  8e-16\n",
        " 8: -1.3815e+02 -1.3815e+02  2e-04  2e-15  8e-16"
       ]
      },
      {
       "output_type": "stream",
       "stream": "stdout",
       "text": [
        "\n",
        " 9: -1.3815e+02 -1.3815e+02  9e-05  3e-15  8e-16\n",
        "Optimal solution found.\n",
        "295 support vectors out of 359 points\n",
        "cutting plane objective: 138.147678, primal objective 138.152196\n",
        "iteration 490\n",
        "OneSlackSSVM(C=0.1, break_on_bad=False, cache_tol=auto,\n",
        "       check_constraints=False, inactive_threshold=1e-05,\n",
        "       inactive_window=50, inference_cache=0, logger=None, max_iter=10000,\n",
        "       model=MultiLabelModel(n_states: 2, inference_method: ad3), n_jobs=1,\n",
        "       positive_constraint=None, show_loss_every=0, switch_to=None,\n",
        "       tol=1e-05, verbose=3)\n",
        "New violation: 0.961192 difference to last: 0.000037"
       ]
      },
      {
       "output_type": "stream",
       "stream": "stdout",
       "text": [
        "\n",
        "     pcost       dcost       gap    pres   dres"
       ]
      },
      {
       "output_type": "stream",
       "stream": "stdout",
       "text": [
        "\n",
        " 0: -1.3777e+02 -2.7776e+02  1e+02  5e-16  1e+00\n",
        " 1: -1.3787e+02 -1.4429e+02  6e+00  1e-15  5e-02\n",
        " 2: -1.3800e+02 -1.3936e+02  1e+00  1e-15  7e-03"
       ]
      },
      {
       "output_type": "stream",
       "stream": "stdout",
       "text": [
        "\n",
        " 3: -1.3810e+02 -1.3848e+02  4e-01  1e-15  1e-15\n",
        " 4: -1.3813e+02 -1.3822e+02  9e-02  1e-15  8e-16\n",
        " 5: -1.3814e+02 -1.3816e+02  2e-02  2e-15  9e-16"
       ]
      },
      {
       "output_type": "stream",
       "stream": "stdout",
       "text": [
        "\n",
        " 6: -1.3815e+02 -1.3815e+02  4e-03  2e-15  8e-16\n",
        " 7: -1.3815e+02 -1.3815e+02  1e-03  2e-15  8e-16\n",
        " 8: -1.3815e+02 -1.3815e+02  2e-04  3e-15  8e-16\n",
        " 9: -1.3815e+02 -1.3815e+02  9e-05  2e-15  8e-16"
       ]
      },
      {
       "output_type": "stream",
       "stream": "stdout",
       "text": [
        "\n",
        "Optimal solution found.\n",
        "296 support vectors out of 360 points\n",
        "cutting plane objective: 138.147677, primal objective 138.152279\n",
        "iteration 491\n",
        "OneSlackSSVM(C=0.1, break_on_bad=False, cache_tol=auto,\n",
        "       check_constraints=False, inactive_threshold=1e-05,\n",
        "       inactive_window=50, inference_cache=0, logger=None, max_iter=10000,\n",
        "       model=MultiLabelModel(n_states: 2, inference_method: ad3), n_jobs=1,\n",
        "       positive_constraint=None, show_loss_every=0, switch_to=None,\n",
        "       tol=1e-05, verbose=3)\n",
        "New violation: 0.961190 difference to last: 0.000032"
       ]
      },
      {
       "output_type": "stream",
       "stream": "stdout",
       "text": [
        "\n",
        "     pcost       dcost       gap    pres   dres"
       ]
      },
      {
       "output_type": "stream",
       "stream": "stdout",
       "text": [
        "\n",
        " 0: -1.3778e+02 -2.7770e+02  1e+02  3e-16  1e+00\n",
        " 1: -1.3788e+02 -1.4431e+02  6e+00  1e-15  5e-02\n",
        " 2: -1.3800e+02 -1.3935e+02  1e+00  1e-15  7e-03\n",
        " 3: -1.3810e+02 -1.3849e+02  4e-01  1e-15  9e-16"
       ]
      },
      {
       "output_type": "stream",
       "stream": "stdout",
       "text": [
        "\n",
        " 4: -1.3813e+02 -1.3822e+02  9e-02  2e-15  8e-16\n",
        " 5: -1.3814e+02 -1.3816e+02  2e-02  2e-15  8e-16\n",
        " 6: -1.3815e+02 -1.3815e+02  4e-03  2e-15  8e-16\n",
        " 7: -1.3815e+02 -1.3815e+02  1e-03  2e-15  9e-16"
       ]
      },
      {
       "output_type": "stream",
       "stream": "stdout",
       "text": [
        "\n",
        " 8: -1.3815e+02 -1.3815e+02  2e-04  3e-15  9e-16\n",
        " 9: -1.3815e+02 -1.3815e+02  1e-04  2e-15  8e-16\n",
        "Optimal solution found.\n",
        "297 support vectors out of 361 points\n",
        "cutting plane objective: 138.147677, primal objective 138.151615"
       ]
      },
      {
       "output_type": "stream",
       "stream": "stdout",
       "text": [
        "\n",
        "iteration 492\n",
        "OneSlackSSVM(C=0.1, break_on_bad=False, cache_tol=auto,\n",
        "       check_constraints=False, inactive_threshold=1e-05,\n",
        "       inactive_window=50, inference_cache=0, logger=None, max_iter=10000,\n",
        "       model=MultiLabelModel(n_states: 2, inference_method: ad3), n_jobs=1,\n",
        "       positive_constraint=None, show_loss_every=0, switch_to=None,\n",
        "       tol=1e-05, verbose=3)\n",
        "New violation: 0.961197 difference to last: 0.000034"
       ]
      },
      {
       "output_type": "stream",
       "stream": "stdout",
       "text": [
        "\n",
        "     pcost       dcost       gap    pres   dres"
       ]
      },
      {
       "output_type": "stream",
       "stream": "stdout",
       "text": [
        "\n",
        " 0: -1.3778e+02 -2.7760e+02  1e+02  3e-16  1e+00\n",
        " 1: -1.3788e+02 -1.4432e+02  6e+00  1e-15  5e-02\n",
        " 2: -1.3800e+02 -1.3934e+02  1e+00  1e-15  7e-03\n",
        " 3: -1.3810e+02 -1.3849e+02  4e-01  1e-15  9e-16"
       ]
      },
      {
       "output_type": "stream",
       "stream": "stdout",
       "text": [
        "\n",
        " 4: -1.3813e+02 -1.3822e+02  9e-02  2e-15  1e-15\n",
        " 5: -1.3814e+02 -1.3816e+02  2e-02  2e-15  9e-16\n",
        " 6: -1.3815e+02 -1.3815e+02  4e-03  2e-15  9e-16"
       ]
      },
      {
       "output_type": "stream",
       "stream": "stdout",
       "text": [
        "\n",
        " 7: -1.3815e+02 -1.3815e+02  1e-03  3e-15  8e-16\n",
        " 8: -1.3815e+02 -1.3815e+02  2e-04  3e-15  9e-16\n",
        " 9: -1.3815e+02 -1.3815e+02  1e-04  2e-15  8e-16\n",
        "Optimal solution found.\n",
        "299 support vectors out of 362 points"
       ]
      },
      {
       "output_type": "stream",
       "stream": "stdout",
       "text": [
        "\n",
        "cutting plane objective: 138.147676, primal objective 138.151919\n",
        "iteration 493\n",
        "OneSlackSSVM(C=0.1, break_on_bad=False, cache_tol=auto,\n",
        "       check_constraints=False, inactive_threshold=1e-05,\n",
        "       inactive_window=50, inference_cache=0, logger=None, max_iter=10000,\n",
        "       model=MultiLabelModel(n_states: 2, inference_method: ad3), n_jobs=1,\n",
        "       positive_constraint=None, show_loss_every=0, switch_to=None,\n",
        "       tol=1e-05, verbose=3)\n",
        "New violation: 0.961197 difference to last: 0.000037"
       ]
      },
      {
       "output_type": "stream",
       "stream": "stdout",
       "text": [
        "\n",
        "     pcost       dcost       gap    pres   dres"
       ]
      },
      {
       "output_type": "stream",
       "stream": "stdout",
       "text": [
        "\n",
        " 0: -1.3778e+02 -2.7750e+02  1e+02  9e-16  1e+00\n",
        " 1: -1.3788e+02 -1.4432e+02  6e+00  1e-15  5e-02\n",
        " 2: -1.3800e+02 -1.3933e+02  1e+00  1e-15  6e-03\n",
        " 3: -1.3810e+02 -1.3850e+02  4e-01  2e-15  9e-16\n",
        " 4: -1.3813e+02 -1.3823e+02  1e-01  2e-15  9e-16"
       ]
      },
      {
       "output_type": "stream",
       "stream": "stdout",
       "text": [
        "\n",
        " 5: -1.3814e+02 -1.3816e+02  2e-02  2e-15  9e-16\n",
        " 6: -1.3815e+02 -1.3815e+02  4e-03  2e-15  9e-16\n",
        " 7: -1.3815e+02 -1.3815e+02  1e-03  2e-15  8e-16\n",
        " 8: -1.3815e+02 -1.3815e+02  2e-04  2e-15  9e-16"
       ]
      },
      {
       "output_type": "stream",
       "stream": "stdout",
       "text": [
        "\n",
        " 9: -1.3815e+02 -1.3815e+02  1e-04  3e-15  7e-16\n",
        "Optimal solution found.\n",
        "300 support vectors out of 363 points\n",
        "cutting plane objective: 138.147676, primal objective 138.152265\n",
        "iteration 494\n",
        "OneSlackSSVM(C=0.1, break_on_bad=False, cache_tol=auto,\n",
        "       check_constraints=False, inactive_threshold=1e-05,\n",
        "       inactive_window=50, inference_cache=0, logger=None, max_iter=10000,\n",
        "       model=MultiLabelModel(n_states: 2, inference_method: ad3), n_jobs=1,\n",
        "       positive_constraint=None, show_loss_every=0, switch_to=None,\n",
        "       tol=1e-05, verbose=3)\n",
        "New violation: 0.961195 difference to last: 0.000037"
       ]
      },
      {
       "output_type": "stream",
       "stream": "stdout",
       "text": [
        "\n",
        "     pcost       dcost       gap    pres   dres"
       ]
      },
      {
       "output_type": "stream",
       "stream": "stdout",
       "text": [
        "\n",
        " 0: -1.3778e+02 -2.7746e+02  1e+02  3e-16  1e+00\n",
        " 1: -1.3788e+02 -1.4432e+02  6e+00  1e-15  5e-02\n",
        " 2: -1.3801e+02 -1.3932e+02  1e+00  1e-15  6e-03\n",
        " 3: -1.3810e+02 -1.3851e+02  4e-01  2e-15  9e-16\n",
        " 4: -1.3813e+02 -1.3823e+02  1e-01  2e-15  8e-16"
       ]
      },
      {
       "output_type": "stream",
       "stream": "stdout",
       "text": [
        "\n",
        " 5: -1.3814e+02 -1.3816e+02  2e-02  2e-15  9e-16\n",
        " 6: -1.3815e+02 -1.3815e+02  4e-03  3e-15  9e-16\n",
        " 7: -1.3815e+02 -1.3815e+02  1e-03  2e-15  9e-16"
       ]
      },
      {
       "output_type": "stream",
       "stream": "stdout",
       "text": [
        "\n",
        " 8: -1.3815e+02 -1.3815e+02  2e-04  3e-15  9e-16\n",
        " 9: -1.3815e+02 -1.3815e+02  1e-04  2e-15  8e-16\n",
        "Optimal solution found.\n",
        "300 support vectors out of 364 points"
       ]
      },
      {
       "output_type": "stream",
       "stream": "stdout",
       "text": [
        "\n",
        "cutting plane objective: 138.147676, primal objective 138.152300\n",
        "iteration 495\n",
        "OneSlackSSVM(C=0.1, break_on_bad=False, cache_tol=auto,\n",
        "       check_constraints=False, inactive_threshold=1e-05,\n",
        "       inactive_window=50, inference_cache=0, logger=None, max_iter=10000,\n",
        "       model=MultiLabelModel(n_states: 2, inference_method: ad3), n_jobs=1,\n",
        "       positive_constraint=None, show_loss_every=0, switch_to=None,\n",
        "       tol=1e-05, verbose=3)\n",
        "New violation: 0.961197 difference to last: 0.000040"
       ]
      },
      {
       "output_type": "stream",
       "stream": "stdout",
       "text": [
        "\n",
        "     pcost       dcost       gap    pres   dres"
       ]
      },
      {
       "output_type": "stream",
       "stream": "stdout",
       "text": [
        "\n",
        " 0: -1.3778e+02 -2.7761e+02  1e+02  4e-16  1e+00\n",
        " 1: -1.3788e+02 -1.4434e+02  6e+00  1e-15  5e-02\n",
        " 2: -1.3801e+02 -1.3936e+02  1e+00  1e-15  7e-03\n",
        " 3: -1.3810e+02 -1.3848e+02  4e-01  1e-15  9e-16\n",
        " 4: -1.3813e+02 -1.3822e+02  9e-02  1e-15  9e-16"
       ]
      },
      {
       "output_type": "stream",
       "stream": "stdout",
       "text": [
        "\n",
        " 5: -1.3814e+02 -1.3816e+02  2e-02  2e-15  9e-16\n",
        " 6: -1.3815e+02 -1.3815e+02  4e-03  2e-15  9e-16\n",
        " 7: -1.3815e+02 -1.3815e+02  9e-04  2e-15  8e-16\n",
        " 8: -1.3815e+02 -1.3815e+02  2e-04  2e-15  8e-16"
       ]
      },
      {
       "output_type": "stream",
       "stream": "stdout",
       "text": [
        "\n",
        " 9: -1.3815e+02 -1.3815e+02  1e-04  3e-15  8e-16\n",
        "Optimal solution found.\n",
        "301 support vectors out of 365 points\n",
        "cutting plane objective: 138.147678, primal objective 138.152633\n",
        "iteration 496\n",
        "OneSlackSSVM(C=0.1, break_on_bad=False, cache_tol=auto,\n",
        "       check_constraints=False, inactive_threshold=1e-05,\n",
        "       inactive_window=50, inference_cache=0, logger=None, max_iter=10000,\n",
        "       model=MultiLabelModel(n_states: 2, inference_method: ad3), n_jobs=1,\n",
        "       positive_constraint=None, show_loss_every=0, switch_to=None,\n",
        "       tol=1e-05, verbose=3)\n",
        "New violation: 0.961204 difference to last: 0.000041"
       ]
      },
      {
       "output_type": "stream",
       "stream": "stdout",
       "text": [
        "\n",
        "     pcost       dcost       gap    pres   dres"
       ]
      },
      {
       "output_type": "stream",
       "stream": "stdout",
       "text": [
        "\n",
        " 0: -1.3778e+02 -2.7748e+02  1e+02  2e-16  1e+00\n",
        " 1: -1.3788e+02 -1.4431e+02  6e+00  1e-15  5e-02\n",
        " 2: -1.3801e+02 -1.3937e+02  1e+00  1e-15  7e-03\n",
        " 3: -1.3810e+02 -1.3846e+02  4e-01  1e-15  9e-16\n",
        " 4: -1.3813e+02 -1.3821e+02  8e-02  2e-15  9e-16"
       ]
      },
      {
       "output_type": "stream",
       "stream": "stdout",
       "text": [
        "\n",
        " 5: -1.3814e+02 -1.3816e+02  2e-02  2e-15  9e-16\n",
        " 6: -1.3815e+02 -1.3815e+02  4e-03  2e-15  9e-16\n",
        " 7: -1.3815e+02 -1.3815e+02  8e-04  2e-15  9e-16\n",
        " 8: -1.3815e+02 -1.3815e+02  2e-04  2e-15  8e-16"
       ]
      },
      {
       "output_type": "stream",
       "stream": "stdout",
       "text": [
        "\n",
        " 9: -1.3815e+02 -1.3815e+02  9e-05  2e-15  7e-16\n",
        "Optimal solution found.\n",
        "302 support vectors out of 366 points\n",
        "cutting plane objective: 138.147680, primal objective 138.152678\n",
        "iteration 497\n",
        "OneSlackSSVM(C=0.1, break_on_bad=False, cache_tol=auto,\n",
        "       check_constraints=False, inactive_threshold=1e-05,\n",
        "       inactive_window=50, inference_cache=0, logger=None, max_iter=10000,\n",
        "       model=MultiLabelModel(n_states: 2, inference_method: ad3), n_jobs=1,\n",
        "       positive_constraint=None, show_loss_every=0, switch_to=None,\n",
        "       tol=1e-05, verbose=3)\n",
        "New violation: 0.961196 difference to last: 0.000037"
       ]
      },
      {
       "output_type": "stream",
       "stream": "stdout",
       "text": [
        "\n",
        "     pcost       dcost       gap    pres   dres"
       ]
      },
      {
       "output_type": "stream",
       "stream": "stdout",
       "text": [
        "\n",
        " 0: -1.3778e+02 -2.7766e+02  1e+02  8e-16  1e+00\n",
        " 1: -1.3788e+02 -1.4437e+02  6e+00  1e-15  5e-02\n",
        " 2: -1.3800e+02 -1.3939e+02  1e+00  1e-15  7e-03\n",
        " 3: -1.3810e+02 -1.3846e+02  4e-01  1e-15  9e-16\n",
        " 4: -1.3813e+02 -1.3821e+02  8e-02  2e-15  1e-15"
       ]
      },
      {
       "output_type": "stream",
       "stream": "stdout",
       "text": [
        "\n",
        " 5: -1.3814e+02 -1.3816e+02  2e-02  2e-15  9e-16\n",
        " 6: -1.3815e+02 -1.3815e+02  4e-03  3e-15  9e-16\n",
        " 7: -1.3815e+02 -1.3815e+02  8e-04  2e-15  1e-15\n",
        " 8: -1.3815e+02 -1.3815e+02  2e-04  2e-15  9e-16"
       ]
      },
      {
       "output_type": "stream",
       "stream": "stdout",
       "text": [
        "\n",
        " 9: -1.3815e+02 -1.3815e+02  9e-05  2e-15  8e-16\n",
        "Optimal solution found.\n",
        "303 support vectors out of 367 points\n",
        "cutting plane objective: 138.147682, primal objective 138.152289\n",
        "iteration 498\n",
        "OneSlackSSVM(C=0.1, break_on_bad=False, cache_tol=auto,\n",
        "       check_constraints=False, inactive_threshold=1e-05,\n",
        "       inactive_window=50, inference_cache=0, logger=None, max_iter=10000,\n",
        "       model=MultiLabelModel(n_states: 2, inference_method: ad3), n_jobs=1,\n",
        "       positive_constraint=None, show_loss_every=0, switch_to=None,\n",
        "       tol=1e-05, verbose=3)\n",
        "New violation: 0.961195 difference to last: 0.000039"
       ]
      },
      {
       "output_type": "stream",
       "stream": "stdout",
       "text": [
        "\n",
        "     pcost       dcost       gap    pres   dres"
       ]
      },
      {
       "output_type": "stream",
       "stream": "stdout",
       "text": [
        "\n",
        " 0: -1.3778e+02 -2.7769e+02  1e+02  1e-15  1e+00\n",
        " 1: -1.3788e+02 -1.4434e+02  6e+00  1e-15  5e-02\n",
        " 2: -1.3800e+02 -1.3943e+02  1e+00  1e-15  8e-03\n",
        " 3: -1.3810e+02 -1.3845e+02  4e-01  2e-15  9e-16"
       ]
      },
      {
       "output_type": "stream",
       "stream": "stdout",
       "text": [
        "\n",
        " 4: -1.3813e+02 -1.3821e+02  8e-02  2e-15  1e-15\n",
        " 5: -1.3814e+02 -1.3816e+02  2e-02  2e-15  1e-15\n",
        " 6: -1.3815e+02 -1.3815e+02  4e-03  2e-15  9e-16"
       ]
      },
      {
       "output_type": "stream",
       "stream": "stdout",
       "text": [
        "\n",
        " 7: -1.3815e+02 -1.3815e+02  7e-04  2e-15  1e-15\n",
        " 8: -1.3815e+02 -1.3815e+02  2e-04  2e-15  8e-16"
       ]
      },
      {
       "output_type": "stream",
       "stream": "stdout",
       "text": [
        "\n",
        " 9: -1.3815e+02 -1.3815e+02  8e-05  2e-15  8e-16\n",
        "Optimal solution found.\n",
        "300 support vectors out of 368 points\n",
        "cutting plane objective: 138.147685, primal objective 138.152478\n",
        "iteration 499\n",
        "OneSlackSSVM(C=0.1, break_on_bad=False, cache_tol=auto,\n",
        "       check_constraints=False, inactive_threshold=1e-05,\n",
        "       inactive_window=50, inference_cache=0, logger=None, max_iter=10000,\n",
        "       model=MultiLabelModel(n_states: 2, inference_method: ad3), n_jobs=1,\n",
        "       positive_constraint=None, show_loss_every=0, switch_to=None,\n",
        "       tol=1e-05, verbose=3)\n",
        "New violation: 0.961192 difference to last: 0.000036"
       ]
      },
      {
       "output_type": "stream",
       "stream": "stdout",
       "text": [
        "\n",
        "     pcost       dcost       gap    pres   dres"
       ]
      },
      {
       "output_type": "stream",
       "stream": "stdout",
       "text": [
        "\n",
        " 0: -1.3778e+02 -2.7774e+02  1e+02  3e-16  1e+00\n",
        " 1: -1.3788e+02 -1.4435e+02  6e+00  1e-15  5e-02\n",
        " 2: -1.3800e+02 -1.3945e+02  1e+00  1e-15  8e-03\n",
        " 3: -1.3810e+02 -1.3843e+02  3e-01  1e-15  9e-16\n",
        " 4: -1.3813e+02 -1.3822e+02  8e-02  1e-15  1e-15"
       ]
      },
      {
       "output_type": "stream",
       "stream": "stdout",
       "text": [
        "\n",
        " 5: -1.3814e+02 -1.3816e+02  2e-02  2e-15  8e-16\n",
        " 6: -1.3815e+02 -1.3815e+02  4e-03  2e-15  8e-16\n",
        " 7: -1.3815e+02 -1.3815e+02  7e-04  2e-15  9e-16\n",
        " 8: -1.3815e+02 -1.3815e+02  2e-04  3e-15  8e-16"
       ]
      },
      {
       "output_type": "stream",
       "stream": "stdout",
       "text": [
        "\n",
        " 9: -1.3815e+02 -1.3815e+02  8e-05  2e-15  8e-16\n",
        "Optimal solution found.\n",
        "300 support vectors out of 369 points\n",
        "cutting plane objective: 138.147687, primal objective 138.152092\n",
        "iteration 500\n",
        "OneSlackSSVM(C=0.1, break_on_bad=False, cache_tol=auto,\n",
        "       check_constraints=False, inactive_threshold=1e-05,\n",
        "       inactive_window=50, inference_cache=0, logger=None, max_iter=10000,\n",
        "       model=MultiLabelModel(n_states: 2, inference_method: ad3), n_jobs=1,\n",
        "       positive_constraint=None, show_loss_every=0, switch_to=None,\n",
        "       tol=1e-05, verbose=3)\n",
        "New violation: 0.961192 difference to last: 0.000036"
       ]
      },
      {
       "output_type": "stream",
       "stream": "stdout",
       "text": [
        "\n",
        "     pcost       dcost       gap    pres   dres"
       ]
      },
      {
       "output_type": "stream",
       "stream": "stdout",
       "text": [
        "\n",
        " 0: -1.3778e+02 -2.7770e+02  1e+02  1e-15  1e+00\n",
        " 1: -1.3788e+02 -1.4435e+02  6e+00  2e-15  5e-02\n",
        " 2: -1.3800e+02 -1.3941e+02  1e+00  1e-15  7e-03\n",
        " 3: -1.3810e+02 -1.3845e+02  4e-01  1e-15  9e-16\n",
        " 4: -1.3813e+02 -1.3821e+02  8e-02  1e-15  9e-16"
       ]
      },
      {
       "output_type": "stream",
       "stream": "stdout",
       "text": [
        "\n",
        " 5: -1.3814e+02 -1.3816e+02  2e-02  2e-15  9e-16\n",
        " 6: -1.3815e+02 -1.3815e+02  4e-03  2e-15  8e-16\n",
        " 7: -1.3815e+02 -1.3815e+02  7e-04  2e-15  9e-16\n",
        " 8: -1.3815e+02 -1.3815e+02  2e-04  2e-15  9e-16"
       ]
      },
      {
       "output_type": "stream",
       "stream": "stdout",
       "text": [
        "\n",
        " 9: -1.3815e+02 -1.3815e+02  7e-05  2e-15  8e-16\n",
        "Optimal solution found.\n",
        "300 support vectors out of 370 points\n",
        "cutting plane objective: 138.147690, primal objective 138.152064\n",
        "iteration 501\n",
        "OneSlackSSVM(C=0.1, break_on_bad=False, cache_tol=auto,\n",
        "       check_constraints=False, inactive_threshold=1e-05,\n",
        "       inactive_window=50, inference_cache=0, logger=None, max_iter=10000,\n",
        "       model=MultiLabelModel(n_states: 2, inference_method: ad3), n_jobs=1,\n",
        "       positive_constraint=None, show_loss_every=0, switch_to=None,\n",
        "       tol=1e-05, verbose=3)\n",
        "New violation: 0.961189 difference to last: 0.000035"
       ]
      },
      {
       "output_type": "stream",
       "stream": "stdout",
       "text": [
        "\n",
        "     pcost       dcost       gap    pres   dres"
       ]
      },
      {
       "output_type": "stream",
       "stream": "stdout",
       "text": [
        "\n",
        " 0: -1.3778e+02 -2.7788e+02  1e+02  4e-16  1e+00\n",
        " 1: -1.3788e+02 -1.4441e+02  7e+00  1e-15  5e-02\n",
        " 2: -1.3800e+02 -1.3944e+02  1e+00  1e-15  7e-03\n",
        " 3: -1.3810e+02 -1.3844e+02  3e-01  2e-15  9e-16\n",
        " 4: -1.3813e+02 -1.3821e+02  8e-02  2e-15  1e-15"
       ]
      },
      {
       "output_type": "stream",
       "stream": "stdout",
       "text": [
        "\n",
        " 5: -1.3814e+02 -1.3816e+02  2e-02  2e-15  9e-16\n",
        " 6: -1.3815e+02 -1.3815e+02  4e-03  2e-15  9e-16\n",
        " 7: -1.3815e+02 -1.3815e+02  7e-04  2e-15  9e-16\n",
        " 8: -1.3815e+02 -1.3815e+02  2e-04  2e-15  8e-16"
       ]
      },
      {
       "output_type": "stream",
       "stream": "stdout",
       "text": [
        "\n",
        " 9: -1.3815e+02 -1.3815e+02  7e-05  2e-15  8e-16\n",
        "Optimal solution found.\n",
        "299 support vectors out of 371 points\n",
        "cutting plane objective: 138.147693, primal objective 138.151943\n",
        "iteration 502\n",
        "OneSlackSSVM(C=0.1, break_on_bad=False, cache_tol=auto,\n",
        "       check_constraints=False, inactive_threshold=1e-05,\n",
        "       inactive_window=50, inference_cache=0, logger=None, max_iter=10000,\n",
        "       model=MultiLabelModel(n_states: 2, inference_method: ad3), n_jobs=1,\n",
        "       positive_constraint=None, show_loss_every=0, switch_to=None,\n",
        "       tol=1e-05, verbose=3)\n",
        "New violation: 0.961184 difference to last: 0.000030"
       ]
      },
      {
       "output_type": "stream",
       "stream": "stdout",
       "text": [
        "\n",
        "     pcost       dcost       gap    pres   dres"
       ]
      },
      {
       "output_type": "stream",
       "stream": "stdout",
       "text": [
        "\n",
        " 0: -1.3778e+02 -2.7777e+02  1e+02  1e-15  1e+00\n",
        " 1: -1.3788e+02 -1.4443e+02  7e+00  1e-15  5e-02\n",
        " 2: -1.3800e+02 -1.3945e+02  1e+00  1e-15  8e-03\n",
        " 3: -1.3810e+02 -1.3844e+02  3e-01  1e-15  1e-06\n",
        " 4: -1.3813e+02 -1.3821e+02  8e-02  1e-15  9e-16"
       ]
      },
      {
       "output_type": "stream",
       "stream": "stdout",
       "text": [
        "\n",
        " 5: -1.3814e+02 -1.3816e+02  2e-02  2e-15  9e-16\n",
        " 6: -1.3815e+02 -1.3815e+02  4e-03  2e-15  9e-16\n",
        " 7: -1.3815e+02 -1.3815e+02  7e-04  2e-15  9e-16\n",
        " 8: -1.3815e+02 -1.3815e+02  2e-04  2e-15  9e-16"
       ]
      },
      {
       "output_type": "stream",
       "stream": "stdout",
       "text": [
        "\n",
        " 9: -1.3815e+02 -1.3815e+02  7e-05  2e-15  8e-16\n",
        "Optimal solution found.\n",
        "297 support vectors out of 372 points\n",
        "cutting plane objective: 138.147696, primal objective 138.151432\n",
        "iteration 503\n",
        "OneSlackSSVM(C=0.1, break_on_bad=False, cache_tol=auto,\n",
        "       check_constraints=False, inactive_threshold=1e-05,\n",
        "       inactive_window=50, inference_cache=0, logger=None, max_iter=10000,\n",
        "       model=MultiLabelModel(n_states: 2, inference_method: ad3), n_jobs=1,\n",
        "       positive_constraint=None, show_loss_every=0, switch_to=None,\n",
        "       tol=1e-05, verbose=3)\n",
        "New violation: 0.961181 difference to last: 0.000029"
       ]
      },
      {
       "output_type": "stream",
       "stream": "stdout",
       "text": [
        "\n",
        "     pcost       dcost       gap    pres   dres"
       ]
      },
      {
       "output_type": "stream",
       "stream": "stdout",
       "text": [
        "\n",
        " 0: -1.3778e+02 -2.7769e+02  1e+02  3e-16  1e+00\n",
        " 1: -1.3788e+02 -1.4436e+02  6e+00  1e-15  5e-02\n",
        " 2: -1.3800e+02 -1.3946e+02  1e+00  1e-15  8e-03\n",
        " 3: -1.3810e+02 -1.3844e+02  3e-01  1e-15  8e-05\n",
        " 4: -1.3813e+02 -1.3821e+02  8e-02  2e-15  9e-16"
       ]
      },
      {
       "output_type": "stream",
       "stream": "stdout",
       "text": [
        "\n",
        " 5: -1.3814e+02 -1.3816e+02  2e-02  2e-15  9e-16\n",
        " 6: -1.3815e+02 -1.3815e+02  4e-03  2e-15  9e-16\n",
        " 7: -1.3815e+02 -1.3815e+02  7e-04  2e-15  9e-16\n",
        " 8: -1.3815e+02 -1.3815e+02  2e-04  2e-15  8e-16"
       ]
      },
      {
       "output_type": "stream",
       "stream": "stdout",
       "text": [
        "\n",
        " 9: -1.3815e+02 -1.3815e+02  6e-05  2e-15  8e-16\n",
        "Optimal solution found.\n",
        "298 support vectors out of 373 points\n",
        "cutting plane objective: 138.147698, primal objective 138.151286"
       ]
      },
      {
       "output_type": "stream",
       "stream": "stdout",
       "text": [
        "\n",
        "iteration 504\n",
        "OneSlackSSVM(C=0.1, break_on_bad=False, cache_tol=auto,\n",
        "       check_constraints=False, inactive_threshold=1e-05,\n",
        "       inactive_window=50, inference_cache=0, logger=None, max_iter=10000,\n",
        "       model=MultiLabelModel(n_states: 2, inference_method: ad3), n_jobs=1,\n",
        "       positive_constraint=None, show_loss_every=0, switch_to=None,\n",
        "       tol=1e-05, verbose=3)\n",
        "New violation: 0.961178 difference to last: 0.000029"
       ]
      },
      {
       "output_type": "stream",
       "stream": "stdout",
       "text": [
        "\n",
        "     pcost       dcost       gap    pres   dres"
       ]
      },
      {
       "output_type": "stream",
       "stream": "stdout",
       "text": [
        "\n",
        " 0: -1.3778e+02 -2.7765e+02  1e+02  3e-16  1e+00\n",
        " 1: -1.3788e+02 -1.4440e+02  7e+00  1e-15  5e-02\n",
        " 2: -1.3800e+02 -1.3948e+02  1e+00  1e-15  8e-03\n",
        " 3: -1.3810e+02 -1.3844e+02  3e-01  1e-15  8e-05"
       ]
      },
      {
       "output_type": "stream",
       "stream": "stdout",
       "text": [
        "\n",
        " 4: -1.3813e+02 -1.3821e+02  8e-02  1e-15  9e-16\n",
        " 5: -1.3814e+02 -1.3816e+02  2e-02  2e-15  9e-16\n",
        " 6: -1.3815e+02 -1.3815e+02  4e-03  2e-15  9e-16"
       ]
      },
      {
       "output_type": "stream",
       "stream": "stdout",
       "text": [
        "\n",
        " 7: -1.3815e+02 -1.3815e+02  8e-04  3e-15  8e-16\n",
        " 8: -1.3815e+02 -1.3815e+02  2e-04  3e-15  9e-16\n",
        " 9: -1.3815e+02 -1.3815e+02  6e-05  2e-15  8e-16"
       ]
      },
      {
       "output_type": "stream",
       "stream": "stdout",
       "text": [
        "\n",
        "Optimal solution found.\n",
        "298 support vectors out of 374 points\n",
        "cutting plane objective: 138.147698, primal objective 138.151227\n",
        "iteration 505\n",
        "OneSlackSSVM(C=0.1, break_on_bad=False, cache_tol=auto,\n",
        "       check_constraints=False, inactive_threshold=1e-05,\n",
        "       inactive_window=50, inference_cache=0, logger=None, max_iter=10000,\n",
        "       model=MultiLabelModel(n_states: 2, inference_method: ad3), n_jobs=1,\n",
        "       positive_constraint=None, show_loss_every=0, switch_to=None,\n",
        "       tol=1e-05, verbose=3)\n",
        "New violation: 0.961180 difference to last: 0.000030"
       ]
      },
      {
       "output_type": "stream",
       "stream": "stdout",
       "text": [
        "\n",
        "     pcost       dcost       gap    pres   dres"
       ]
      },
      {
       "output_type": "stream",
       "stream": "stdout",
       "text": [
        "\n",
        " 0: -1.3778e+02 -2.7765e+02  1e+02  9e-16  1e+00\n",
        " 1: -1.3788e+02 -1.4440e+02  7e+00  1e-15  5e-02\n",
        " 2: -1.3800e+02 -1.3947e+02  1e+00  1e-15  8e-03\n",
        " 3: -1.3810e+02 -1.3844e+02  3e-01  1e-15  1e-05\n",
        " 4: -1.3813e+02 -1.3821e+02  8e-02  2e-15  1e-15"
       ]
      },
      {
       "output_type": "stream",
       "stream": "stdout",
       "text": [
        "\n",
        " 5: -1.3814e+02 -1.3816e+02  2e-02  1e-15  9e-16\n",
        " 6: -1.3815e+02 -1.3815e+02  4e-03  2e-15  9e-16\n",
        " 7: -1.3815e+02 -1.3815e+02  7e-04  2e-15  9e-16\n",
        " 8: -1.3815e+02 -1.3815e+02  2e-04  3e-15  9e-16"
       ]
      },
      {
       "output_type": "stream",
       "stream": "stdout",
       "text": [
        "\n",
        " 9: -1.3815e+02 -1.3815e+02  7e-05  2e-15  8e-16\n",
        "Optimal solution found.\n",
        "300 support vectors out of 375 points\n",
        "cutting plane objective: 138.147696, primal objective 138.151381\n",
        "iteration 506\n",
        "OneSlackSSVM(C=0.1, break_on_bad=False, cache_tol=auto,\n",
        "       check_constraints=False, inactive_threshold=1e-05,\n",
        "       inactive_window=50, inference_cache=0, logger=None, max_iter=10000,\n",
        "       model=MultiLabelModel(n_states: 2, inference_method: ad3), n_jobs=1,\n",
        "       positive_constraint=None, show_loss_every=0, switch_to=None,\n",
        "       tol=1e-05, verbose=3)\n",
        "New violation: 0.961177 difference to last: 0.000028"
       ]
      },
      {
       "output_type": "stream",
       "stream": "stdout",
       "text": [
        "\n",
        "     pcost       dcost       gap    pres   dres"
       ]
      },
      {
       "output_type": "stream",
       "stream": "stdout",
       "text": [
        "\n",
        " 0: -1.3778e+02 -2.7759e+02  1e+02  8e-16  1e+00\n",
        " 1: -1.3788e+02 -1.4441e+02  7e+00  1e-15  5e-02\n",
        " 2: -1.3800e+02 -1.3946e+02  1e+00  1e-15  8e-03\n",
        " 3: -1.3810e+02 -1.3845e+02  4e-01  1e-15  1e-15"
       ]
      },
      {
       "output_type": "stream",
       "stream": "stdout",
       "text": [
        "\n",
        " 4: -1.3813e+02 -1.3821e+02  8e-02  2e-15  9e-16\n",
        " 5: -1.3814e+02 -1.3816e+02  2e-02  2e-15  9e-16\n",
        " 6: -1.3815e+02 -1.3815e+02  4e-03  2e-15  9e-16\n",
        " 7: -1.3815e+02 -1.3815e+02  7e-04  2e-15  9e-16"
       ]
      },
      {
       "output_type": "stream",
       "stream": "stdout",
       "text": [
        "\n",
        " 8: -1.3815e+02 -1.3815e+02  2e-04  2e-15  9e-16\n",
        " 9: -1.3815e+02 -1.3815e+02  7e-05  2e-15  9e-16\n",
        "Optimal solution found.\n",
        "302 support vectors out of 376 points\n",
        "cutting plane objective: 138.147696, primal objective 138.151192\n",
        "iteration 507\n",
        "OneSlackSSVM(C=0.1, break_on_bad=False, cache_tol=auto,\n",
        "       check_constraints=False, inactive_threshold=1e-05,\n",
        "       inactive_window=50, inference_cache=0, logger=None, max_iter=10000,\n",
        "       model=MultiLabelModel(n_states: 2, inference_method: ad3), n_jobs=1,\n",
        "       positive_constraint=None, show_loss_every=0, switch_to=None,\n",
        "       tol=1e-05, verbose=3)\n",
        "New violation: 0.961178 difference to last: 0.000027"
       ]
      },
      {
       "output_type": "stream",
       "stream": "stdout",
       "text": [
        "\n",
        "     pcost       dcost       gap    pres   dres"
       ]
      },
      {
       "output_type": "stream",
       "stream": "stdout",
       "text": [
        "\n",
        " 0: -1.3779e+02 -2.7752e+02  1e+02  5e-16  1e+00\n",
        " 1: -1.3788e+02 -1.4440e+02  7e+00  1e-15  5e-02\n",
        " 2: -1.3800e+02 -1.3948e+02  1e+00  1e-15  8e-03\n",
        " 3: -1.3810e+02 -1.3844e+02  3e-01  2e-15  3e-06\n",
        " 4: -1.3813e+02 -1.3821e+02  8e-02  2e-15  9e-16"
       ]
      },
      {
       "output_type": "stream",
       "stream": "stdout",
       "text": [
        "\n",
        " 5: -1.3814e+02 -1.3816e+02  2e-02  2e-15  9e-16\n",
        " 6: -1.3815e+02 -1.3815e+02  4e-03  2e-15  9e-16\n",
        " 7: -1.3815e+02 -1.3815e+02  7e-04  2e-15  9e-16\n",
        " 8: -1.3815e+02 -1.3815e+02  2e-04  2e-15  8e-16"
       ]
      },
      {
       "output_type": "stream",
       "stream": "stdout",
       "text": [
        "\n",
        " 9: -1.3815e+02 -1.3815e+02  7e-05  2e-15  8e-16\n",
        "Optimal solution found.\n",
        "305 support vectors out of 377 points\n",
        "cutting plane objective: 138.147695, primal objective 138.151080\n",
        "iteration 508\n",
        "OneSlackSSVM(C=0.1, break_on_bad=False, cache_tol=auto,\n",
        "       check_constraints=False, inactive_threshold=1e-05,\n",
        "       inactive_window=50, inference_cache=0, logger=None, max_iter=10000,\n",
        "       model=MultiLabelModel(n_states: 2, inference_method: ad3), n_jobs=1,\n",
        "       positive_constraint=None, show_loss_every=0, switch_to=None,\n",
        "       tol=1e-05, verbose=3)\n",
        "New violation: 0.961180 difference to last: 0.000029"
       ]
      },
      {
       "output_type": "stream",
       "stream": "stdout",
       "text": [
        "\n",
        "     pcost       dcost       gap    pres   dres"
       ]
      },
      {
       "output_type": "stream",
       "stream": "stdout",
       "text": [
        "\n",
        " 0: -1.3779e+02 -2.7758e+02  1e+02  7e-17  1e+00\n",
        " 1: -1.3788e+02 -1.4440e+02  7e+00  1e-15  5e-02\n",
        " 2: -1.3800e+02 -1.3949e+02  1e+00  1e-15  8e-03\n",
        " 3: -1.3810e+02 -1.3844e+02  3e-01  1e-15  8e-05\n",
        " 4: -1.3813e+02 -1.3822e+02  8e-02  2e-15  9e-16"
       ]
      },
      {
       "output_type": "stream",
       "stream": "stdout",
       "text": [
        "\n",
        " 5: -1.3814e+02 -1.3816e+02  2e-02  2e-15  9e-16\n",
        " 6: -1.3815e+02 -1.3815e+02  4e-03  2e-15  9e-16\n",
        " 7: -1.3815e+02 -1.3815e+02  7e-04  2e-15  9e-16\n",
        " 8: -1.3815e+02 -1.3815e+02  2e-04  3e-15  9e-16"
       ]
      },
      {
       "output_type": "stream",
       "stream": "stdout",
       "text": [
        "\n",
        " 9: -1.3815e+02 -1.3815e+02  7e-05  2e-15  8e-16\n",
        "Optimal solution found.\n",
        "306 support vectors out of 378 points\n",
        "cutting plane objective: 138.147694, primal objective 138.151303\n",
        "iteration 509\n",
        "OneSlackSSVM(C=0.1, break_on_bad=False, cache_tol=auto,\n",
        "       check_constraints=False, inactive_threshold=1e-05,\n",
        "       inactive_window=50, inference_cache=0, logger=None, max_iter=10000,\n",
        "       model=MultiLabelModel(n_states: 2, inference_method: ad3), n_jobs=1,\n",
        "       positive_constraint=None, show_loss_every=0, switch_to=None,\n",
        "       tol=1e-05, verbose=3)\n",
        "New violation: 0.961179 difference to last: 0.000028"
       ]
      },
      {
       "output_type": "stream",
       "stream": "stdout",
       "text": [
        "\n",
        "     pcost       dcost       gap    pres   dres"
       ]
      },
      {
       "output_type": "stream",
       "stream": "stdout",
       "text": [
        "\n",
        " 0: -1.3779e+02 -2.7772e+02  1e+02  1e-15  1e+00\n",
        " 1: -1.3788e+02 -1.4445e+02  7e+00  1e-15  5e-02\n",
        " 2: -1.3800e+02 -1.3950e+02  1e+00  1e-15  8e-03\n",
        " 3: -1.3810e+02 -1.3844e+02  3e-01  1e-15  1e-04"
       ]
      },
      {
       "output_type": "stream",
       "stream": "stdout",
       "text": [
        "\n",
        " 4: -1.3813e+02 -1.3822e+02  8e-02  1e-15  9e-16\n",
        " 5: -1.3814e+02 -1.3816e+02  2e-02  2e-15  9e-16\n",
        " 6: -1.3815e+02 -1.3815e+02  4e-03  2e-15  9e-16\n",
        " 7: -1.3815e+02 -1.3815e+02  7e-04  2e-15  9e-16"
       ]
      },
      {
       "output_type": "stream",
       "stream": "stdout",
       "text": [
        "\n",
        " 8: -1.3815e+02 -1.3815e+02  2e-04  2e-15  8e-16\n",
        " 9: -1.3815e+02 -1.3815e+02  8e-05  2e-15  8e-16\n",
        "Optimal solution found.\n",
        "310 support vectors out of 379 points\n",
        "cutting plane objective: 138.147693, primal objective 138.151151"
       ]
      },
      {
       "output_type": "stream",
       "stream": "stdout",
       "text": [
        "\n",
        "iteration 510\n",
        "OneSlackSSVM(C=0.1, break_on_bad=False, cache_tol=auto,\n",
        "       check_constraints=False, inactive_threshold=1e-05,\n",
        "       inactive_window=50, inference_cache=0, logger=None, max_iter=10000,\n",
        "       model=MultiLabelModel(n_states: 2, inference_method: ad3), n_jobs=1,\n",
        "       positive_constraint=None, show_loss_every=0, switch_to=None,\n",
        "       tol=1e-05, verbose=3)\n",
        "New violation: 0.961178 difference to last: 0.000028"
       ]
      },
      {
       "output_type": "stream",
       "stream": "stdout",
       "text": [
        "\n",
        "     pcost       dcost       gap    pres   dres"
       ]
      },
      {
       "output_type": "stream",
       "stream": "stdout",
       "text": [
        "\n",
        " 0: -1.3779e+02 -2.7758e+02  1e+02  1e-15  1e+00\n",
        " 1: -1.3788e+02 -1.4438e+02  6e+00  1e-15  5e-02\n",
        " 2: -1.3800e+02 -1.3949e+02  1e+00  1e-15  8e-03\n",
        " 3: -1.3810e+02 -1.3844e+02  3e-01  1e-15  2e-04"
       ]
      },
      {
       "output_type": "stream",
       "stream": "stdout",
       "text": [
        "\n",
        " 4: -1.3813e+02 -1.3821e+02  8e-02  1e-15  9e-16\n",
        " 5: -1.3814e+02 -1.3816e+02  2e-02  2e-15  9e-16\n",
        " 6: -1.3815e+02 -1.3815e+02  4e-03  2e-15  1e-15\n",
        " 7: -1.3815e+02 -1.3815e+02  7e-04  2e-15  9e-16"
       ]
      },
      {
       "output_type": "stream",
       "stream": "stdout",
       "text": [
        "\n",
        " 8: -1.3815e+02 -1.3815e+02  2e-04  2e-15  8e-16\n",
        " 9: -1.3815e+02 -1.3815e+02  8e-05  2e-15  8e-16\n",
        "Optimal solution found.\n",
        "311 support vectors out of 380 points\n",
        "cutting plane objective: 138.147692, primal objective 138.151158\n",
        "iteration 511\n",
        "OneSlackSSVM(C=0.1, break_on_bad=False, cache_tol=auto,\n",
        "       check_constraints=False, inactive_threshold=1e-05,\n",
        "       inactive_window=50, inference_cache=0, logger=None, max_iter=10000,\n",
        "       model=MultiLabelModel(n_states: 2, inference_method: ad3), n_jobs=1,\n",
        "       positive_constraint=None, show_loss_every=0, switch_to=None,\n",
        "       tol=1e-05, verbose=3)\n",
        "New violation: 0.961177 difference to last: 0.000027"
       ]
      },
      {
       "output_type": "stream",
       "stream": "stdout",
       "text": [
        "\n",
        "     pcost       dcost       gap    pres   dres"
       ]
      },
      {
       "output_type": "stream",
       "stream": "stdout",
       "text": [
        "\n",
        " 0: -1.3779e+02 -2.7752e+02  1e+02  4e-17  1e+00\n",
        " 1: -1.3788e+02 -1.4438e+02  6e+00  1e-15  5e-02\n",
        " 2: -1.3800e+02 -1.3948e+02  1e+00  1e-15  8e-03\n",
        " 3: -1.3810e+02 -1.3844e+02  3e-01  2e-15  2e-04\n",
        " 4: -1.3813e+02 -1.3821e+02  8e-02  1e-15  9e-16"
       ]
      },
      {
       "output_type": "stream",
       "stream": "stdout",
       "text": [
        "\n",
        " 5: -1.3814e+02 -1.3816e+02  2e-02  2e-15  9e-16\n",
        " 6: -1.3815e+02 -1.3815e+02  4e-03  2e-15  9e-16\n",
        " 7: -1.3815e+02 -1.3815e+02  7e-04  2e-15  9e-16\n",
        " 8: -1.3815e+02 -1.3815e+02  2e-04  3e-15  8e-16"
       ]
      },
      {
       "output_type": "stream",
       "stream": "stdout",
       "text": [
        "\n",
        " 9: -1.3815e+02 -1.3815e+02  8e-05  3e-15  8e-16\n",
        "Optimal solution found.\n",
        "312 support vectors out of 381 points\n",
        "cutting plane objective: 138.147692, primal objective 138.150994\n",
        "iteration 512\n",
        "OneSlackSSVM(C=0.1, break_on_bad=False, cache_tol=auto,\n",
        "       check_constraints=False, inactive_threshold=1e-05,\n",
        "       inactive_window=50, inference_cache=0, logger=None, max_iter=10000,\n",
        "       model=MultiLabelModel(n_states: 2, inference_method: ad3), n_jobs=1,\n",
        "       positive_constraint=None, show_loss_every=0, switch_to=None,\n",
        "       tol=1e-05, verbose=3)\n",
        "New violation: 0.961178 difference to last: 0.000028"
       ]
      },
      {
       "output_type": "stream",
       "stream": "stdout",
       "text": [
        "\n",
        "     pcost       dcost       gap    pres   dres"
       ]
      },
      {
       "output_type": "stream",
       "stream": "stdout",
       "text": [
        "\n",
        " 0: -1.3779e+02 -2.7738e+02  1e+02  4e-16  1e+00\n",
        " 1: -1.3789e+02 -1.4435e+02  6e+00  1e-15  5e-02\n",
        " 2: -1.3800e+02 -1.3946e+02  1e+00  1e-15  8e-03\n",
        " 3: -1.3810e+02 -1.3843e+02  3e-01  1e-15  2e-04\n",
        " 4: -1.3813e+02 -1.3821e+02  8e-02  2e-15  1e-15"
       ]
      },
      {
       "output_type": "stream",
       "stream": "stdout",
       "text": [
        "\n",
        " 5: -1.3814e+02 -1.3816e+02  2e-02  2e-15  9e-16\n",
        " 6: -1.3815e+02 -1.3815e+02  3e-03  2e-15  9e-16\n",
        " 7: -1.3815e+02 -1.3815e+02  7e-04  2e-15  9e-16\n",
        " 8: -1.3815e+02 -1.3815e+02  2e-04  2e-15  9e-16"
       ]
      },
      {
       "output_type": "stream",
       "stream": "stdout",
       "text": [
        "\n",
        " 9: -1.3815e+02 -1.3815e+02  8e-05  2e-15  8e-16\n",
        "Optimal solution found.\n",
        "313 support vectors out of 382 points\n",
        "cutting plane objective: 138.147692, primal objective 138.151187\n",
        "iteration 513\n",
        "OneSlackSSVM(C=0.1, break_on_bad=False, cache_tol=auto,\n",
        "       check_constraints=False, inactive_threshold=1e-05,\n",
        "       inactive_window=50, inference_cache=0, logger=None, max_iter=10000,\n",
        "       model=MultiLabelModel(n_states: 2, inference_method: ad3), n_jobs=1,\n",
        "       positive_constraint=None, show_loss_every=0, switch_to=None,\n",
        "       tol=1e-05, verbose=3)\n",
        "New violation: 0.961178 difference to last: 0.000029"
       ]
      },
      {
       "output_type": "stream",
       "stream": "stdout",
       "text": [
        "\n",
        "     pcost       dcost       gap    pres   dres"
       ]
      },
      {
       "output_type": "stream",
       "stream": "stdout",
       "text": [
        "\n",
        " 0: -1.3779e+02 -2.7747e+02  1e+02  7e-16  1e+00\n",
        " 1: -1.3789e+02 -1.4438e+02  6e+00  1e-15  5e-02\n",
        " 2: -1.3800e+02 -1.3947e+02  1e+00  1e-15  8e-03\n",
        " 3: -1.3810e+02 -1.3842e+02  3e-01  1e-15  2e-04"
       ]
      },
      {
       "output_type": "stream",
       "stream": "stdout",
       "text": [
        "\n",
        " 4: -1.3813e+02 -1.3821e+02  8e-02  1e-15  9e-16\n",
        " 5: -1.3814e+02 -1.3816e+02  2e-02  1e-15  9e-16\n",
        " 6: -1.3815e+02 -1.3815e+02  3e-03  2e-15  9e-16\n",
        " 7: -1.3815e+02 -1.3815e+02  7e-04  2e-15  9e-16"
       ]
      },
      {
       "output_type": "stream",
       "stream": "stdout",
       "text": [
        "\n",
        " 8: -1.3815e+02 -1.3815e+02  2e-04  2e-15  8e-16\n",
        " 9: -1.3815e+02 -1.3815e+02  8e-05  2e-15  9e-16\n",
        "Optimal solution found.\n",
        "314 support vectors out of 383 points\n",
        "cutting plane objective: 138.147691, primal objective 138.151243"
       ]
      },
      {
       "output_type": "stream",
       "stream": "stdout",
       "text": [
        "\n",
        "iteration 514\n",
        "OneSlackSSVM(C=0.1, break_on_bad=False, cache_tol=auto,\n",
        "       check_constraints=False, inactive_threshold=1e-05,\n",
        "       inactive_window=50, inference_cache=0, logger=None, max_iter=10000,\n",
        "       model=MultiLabelModel(n_states: 2, inference_method: ad3), n_jobs=1,\n",
        "       positive_constraint=None, show_loss_every=0, switch_to=None,\n",
        "       tol=1e-05, verbose=3)\n",
        "New violation: 0.961181 difference to last: 0.000030"
       ]
      },
      {
       "output_type": "stream",
       "stream": "stdout",
       "text": [
        "\n",
        "     pcost       dcost       gap    pres   dres"
       ]
      },
      {
       "output_type": "stream",
       "stream": "stdout",
       "text": [
        "\n",
        " 0: -1.3779e+02 -2.7748e+02  1e+02  3e-16  1e+00\n",
        " 1: -1.3789e+02 -1.4438e+02  6e+00  1e-15  5e-02\n",
        " 2: -1.3800e+02 -1.3948e+02  1e+00  1e-15  8e-03\n",
        " 3: -1.3810e+02 -1.3843e+02  3e-01  1e-15  2e-04"
       ]
      },
      {
       "output_type": "stream",
       "stream": "stdout",
       "text": [
        "\n",
        " 4: -1.3813e+02 -1.3821e+02  8e-02  2e-15  9e-16\n",
        " 5: -1.3814e+02 -1.3816e+02  2e-02  2e-15  9e-16\n",
        " 6: -1.3815e+02 -1.3815e+02  3e-03  2e-15  9e-16\n",
        " 7: -1.3815e+02 -1.3815e+02  7e-04  2e-15  9e-16"
       ]
      },
      {
       "output_type": "stream",
       "stream": "stdout",
       "text": [
        "\n",
        " 8: -1.3815e+02 -1.3815e+02  2e-04  2e-15  9e-16\n",
        " 9: -1.3815e+02 -1.3815e+02  9e-05  2e-15  8e-16\n",
        "Optimal solution found.\n",
        "315 support vectors out of 384 points\n",
        "cutting plane objective: 138.147691, primal objective 138.151370"
       ]
      },
      {
       "output_type": "stream",
       "stream": "stdout",
       "text": [
        "\n",
        "iteration 515\n",
        "OneSlackSSVM(C=0.1, break_on_bad=False, cache_tol=auto,\n",
        "       check_constraints=False, inactive_threshold=1e-05,\n",
        "       inactive_window=50, inference_cache=0, logger=None, max_iter=10000,\n",
        "       model=MultiLabelModel(n_states: 2, inference_method: ad3), n_jobs=1,\n",
        "       positive_constraint=None, show_loss_every=0, switch_to=None,\n",
        "       tol=1e-05, verbose=3)\n",
        "New violation: 0.961177 difference to last: 0.000028"
       ]
      },
      {
       "output_type": "stream",
       "stream": "stdout",
       "text": [
        "\n",
        "     pcost       dcost       gap    pres   dres"
       ]
      },
      {
       "output_type": "stream",
       "stream": "stdout",
       "text": [
        "\n",
        " 0: -1.3779e+02 -2.7757e+02  1e+02  6e-16  1e+00\n",
        " 1: -1.3789e+02 -1.4437e+02  6e+00  1e-15  5e-02\n",
        " 2: -1.3800e+02 -1.3948e+02  1e+00  1e-15  8e-03\n",
        " 3: -1.3810e+02 -1.3843e+02  3e-01  1e-15  2e-04"
       ]
      },
      {
       "output_type": "stream",
       "stream": "stdout",
       "text": [
        "\n",
        " 4: -1.3813e+02 -1.3821e+02  8e-02  1e-15  1e-15\n",
        " 5: -1.3814e+02 -1.3816e+02  2e-02  2e-15  9e-16\n",
        " 6: -1.3815e+02 -1.3815e+02  3e-03  2e-15  9e-16"
       ]
      },
      {
       "output_type": "stream",
       "stream": "stdout",
       "text": [
        "\n",
        " 7: -1.3815e+02 -1.3815e+02  7e-04  2e-15  9e-16\n",
        " 8: -1.3815e+02 -1.3815e+02  2e-04  3e-15  9e-16\n",
        " 9: -1.3815e+02 -1.3815e+02  9e-05  2e-15  8e-16"
       ]
      },
      {
       "output_type": "stream",
       "stream": "stdout",
       "text": [
        "\n",
        "Optimal solution found.\n",
        "316 support vectors out of 385 points\n",
        "cutting plane objective: 138.147691, primal objective 138.151104\n",
        "iteration 516\n",
        "OneSlackSSVM(C=0.1, break_on_bad=False, cache_tol=auto,\n",
        "       check_constraints=False, inactive_threshold=1e-05,\n",
        "       inactive_window=50, inference_cache=0, logger=None, max_iter=10000,\n",
        "       model=MultiLabelModel(n_states: 2, inference_method: ad3), n_jobs=1,\n",
        "       positive_constraint=None, show_loss_every=0, switch_to=None,\n",
        "       tol=1e-05, verbose=3)\n",
        "New violation: 0.961178 difference to last: 0.000029"
       ]
      },
      {
       "output_type": "stream",
       "stream": "stdout",
       "text": [
        "\n",
        "     pcost       dcost       gap    pres   dres"
       ]
      },
      {
       "output_type": "stream",
       "stream": "stdout",
       "text": [
        "\n",
        " 0: -1.3780e+02 -2.7757e+02  1e+02  2e-16  1e+00\n",
        " 1: -1.3789e+02 -1.4435e+02  6e+00  1e-15  5e-02\n",
        " 2: -1.3800e+02 -1.3950e+02  1e+00  1e-15  9e-03\n",
        " 3: -1.3809e+02 -1.3845e+02  4e-01  1e-15  4e-04"
       ]
      },
      {
       "output_type": "stream",
       "stream": "stdout",
       "text": [
        "\n",
        " 4: -1.3813e+02 -1.3821e+02  8e-02  1e-15  6e-06\n",
        " 5: -1.3814e+02 -1.3816e+02  2e-02  2e-15  5e-07\n",
        " 6: -1.3815e+02 -1.3815e+02  3e-03  2e-15  6e-08"
       ]
      },
      {
       "output_type": "stream",
       "stream": "stdout",
       "text": [
        "\n",
        " 7: -1.3815e+02 -1.3815e+02  7e-04  2e-15  6e-09\n",
        " 8: -1.3815e+02 -1.3815e+02  2e-04  2e-15  1e-09\n",
        " 9: -1.3815e+02 -1.3815e+02  8e-05  2e-15  6e-10\n",
        "Optimal solution found.\n",
        "317 support vectors out of 386 points"
       ]
      },
      {
       "output_type": "stream",
       "stream": "stdout",
       "text": [
        "\n",
        "cutting plane objective: 138.147691, primal objective 138.151289\n",
        "iteration 517\n",
        "OneSlackSSVM(C=0.1, break_on_bad=False, cache_tol=auto,\n",
        "       check_constraints=False, inactive_threshold=1e-05,\n",
        "       inactive_window=50, inference_cache=0, logger=None, max_iter=10000,\n",
        "       model=MultiLabelModel(n_states: 2, inference_method: ad3), n_jobs=1,\n",
        "       positive_constraint=None, show_loss_every=0, switch_to=None,\n",
        "       tol=1e-05, verbose=3)\n",
        "New violation: 0.961179 difference to last: 0.000028"
       ]
      },
      {
       "output_type": "stream",
       "stream": "stdout",
       "text": [
        "\n",
        "     pcost       dcost       gap    pres   dres"
       ]
      },
      {
       "output_type": "stream",
       "stream": "stdout",
       "text": [
        "\n",
        " 0: -1.3779e+02 -2.7780e+02  1e+02  1e-16  1e+00\n",
        " 1: -1.3789e+02 -1.4441e+02  7e+00  1e-15  5e-02\n",
        " 2: -1.3800e+02 -1.3952e+02  2e+00  1e-15  9e-03\n",
        " 3: -1.3809e+02 -1.3848e+02  4e-01  1e-15  6e-04"
       ]
      },
      {
       "output_type": "stream",
       "stream": "stdout",
       "text": [
        "\n",
        " 4: -1.3813e+02 -1.3822e+02  9e-02  1e-15  4e-05\n",
        " 5: -1.3814e+02 -1.3816e+02  2e-02  2e-15  4e-06\n",
        " 6: -1.3815e+02 -1.3815e+02  4e-03  2e-15  5e-07\n",
        " 7: -1.3815e+02 -1.3815e+02  7e-04  2e-15  4e-08"
       ]
      },
      {
       "output_type": "stream",
       "stream": "stdout",
       "text": [
        "\n",
        " 8: -1.3815e+02 -1.3815e+02  2e-04  2e-15  9e-09\n",
        " 9: -1.3815e+02 -1.3815e+02  9e-05  2e-15  4e-09\n",
        "Optimal solution found.\n",
        "321 support vectors out of 387 points\n",
        "cutting plane objective: 138.147688, primal objective 138.151165"
       ]
      },
      {
       "output_type": "stream",
       "stream": "stdout",
       "text": [
        "\n",
        "iteration 518\n",
        "OneSlackSSVM(C=0.1, break_on_bad=False, cache_tol=auto,\n",
        "       check_constraints=False, inactive_threshold=1e-05,\n",
        "       inactive_window=50, inference_cache=0, logger=None, max_iter=10000,\n",
        "       model=MultiLabelModel(n_states: 2, inference_method: ad3), n_jobs=1,\n",
        "       positive_constraint=None, show_loss_every=0, switch_to=None,\n",
        "       tol=1e-05, verbose=3)\n",
        "New violation: 0.961179 difference to last: 0.000028"
       ]
      },
      {
       "output_type": "stream",
       "stream": "stdout",
       "text": [
        "\n",
        "     pcost       dcost       gap    pres   dres"
       ]
      },
      {
       "output_type": "stream",
       "stream": "stdout",
       "text": [
        "\n",
        " 0: -1.3779e+02 -2.7780e+02  1e+02  6e-16  1e+00\n",
        " 1: -1.3789e+02 -1.4441e+02  7e+00  1e-15  5e-02\n",
        " 2: -1.3800e+02 -1.3951e+02  2e+00  1e-15  9e-03\n",
        " 3: -1.3809e+02 -1.3847e+02  4e-01  1e-15  6e-04"
       ]
      },
      {
       "output_type": "stream",
       "stream": "stdout",
       "text": [
        "\n",
        " 4: -1.3813e+02 -1.3822e+02  8e-02  2e-15  3e-05\n",
        " 5: -1.3814e+02 -1.3816e+02  2e-02  1e-15  3e-06\n",
        " 6: -1.3815e+02 -1.3815e+02  4e-03  2e-15  4e-07"
       ]
      },
      {
       "output_type": "stream",
       "stream": "stdout",
       "text": [
        "\n",
        " 7: -1.3815e+02 -1.3815e+02  7e-04  2e-15  4e-08\n",
        " 8: -1.3815e+02 -1.3815e+02  2e-04  2e-15  9e-09\n",
        " 9: -1.3815e+02 -1.3815e+02  9e-05  3e-15  4e-09"
       ]
      },
      {
       "output_type": "stream",
       "stream": "stdout",
       "text": [
        "\n",
        "Optimal solution found.\n",
        "322 support vectors out of 388 points\n",
        "cutting plane objective: 138.147687, primal objective 138.151189\n",
        "iteration 519\n",
        "OneSlackSSVM(C=0.1, break_on_bad=False, cache_tol=auto,\n",
        "       check_constraints=False, inactive_threshold=1e-05,\n",
        "       inactive_window=50, inference_cache=0, logger=None, max_iter=10000,\n",
        "       model=MultiLabelModel(n_states: 2, inference_method: ad3), n_jobs=1,\n",
        "       positive_constraint=None, show_loss_every=0, switch_to=None,\n",
        "       tol=1e-05, verbose=3)\n",
        "New violation: 0.961181 difference to last: 0.000030"
       ]
      },
      {
       "output_type": "stream",
       "stream": "stdout",
       "text": [
        "\n",
        "     pcost       dcost       gap    pres   dres"
       ]
      },
      {
       "output_type": "stream",
       "stream": "stdout",
       "text": [
        "\n",
        " 0: -1.3780e+02 -2.7754e+02  1e+02  7e-16  1e+00\n",
        " 1: -1.3789e+02 -1.4437e+02  6e+00  1e-15  5e-02\n",
        " 2: -1.3800e+02 -1.3950e+02  1e+00  1e-15  9e-03\n",
        " 3: -1.3809e+02 -1.3846e+02  4e-01  2e-15  5e-04\n",
        " 4: -1.3813e+02 -1.3821e+02  8e-02  1e-15  2e-05"
       ]
      },
      {
       "output_type": "stream",
       "stream": "stdout",
       "text": [
        "\n",
        " 5: -1.3814e+02 -1.3816e+02  2e-02  2e-15  2e-06\n",
        " 6: -1.3815e+02 -1.3815e+02  4e-03  2e-15  2e-07\n",
        " 7: -1.3815e+02 -1.3815e+02  7e-04  2e-15  2e-08\n",
        " 8: -1.3815e+02 -1.3815e+02  2e-04  2e-15  6e-09"
       ]
      },
      {
       "output_type": "stream",
       "stream": "stdout",
       "text": [
        "\n",
        " 9: -1.3815e+02 -1.3815e+02  9e-05  2e-15  3e-09\n",
        "Optimal solution found.\n",
        "323 support vectors out of 389 points\n",
        "cutting plane objective: 138.147689, primal objective 138.151373\n",
        "iteration 520\n",
        "OneSlackSSVM(C=0.1, break_on_bad=False, cache_tol=auto,\n",
        "       check_constraints=False, inactive_threshold=1e-05,\n",
        "       inactive_window=50, inference_cache=0, logger=None, max_iter=10000,\n",
        "       model=MultiLabelModel(n_states: 2, inference_method: ad3), n_jobs=1,\n",
        "       positive_constraint=None, show_loss_every=0, switch_to=None,\n",
        "       tol=1e-05, verbose=3)\n",
        "New violation: 0.961182 difference to last: 0.000029"
       ]
      },
      {
       "output_type": "stream",
       "stream": "stdout",
       "text": [
        "\n",
        "     pcost       dcost       gap    pres   dres"
       ]
      },
      {
       "output_type": "stream",
       "stream": "stdout",
       "text": [
        "\n",
        " 0: -1.3780e+02 -2.7750e+02  1e+02  3e-16  1e+00\n",
        " 1: -1.3789e+02 -1.4430e+02  6e+00  1e-15  5e-02\n",
        " 2: -1.3800e+02 -1.3951e+02  2e+00  2e-15  9e-03\n",
        " 3: -1.3809e+02 -1.3847e+02  4e-01  1e-15  5e-04\n",
        " 4: -1.3813e+02 -1.3822e+02  8e-02  2e-15  2e-05"
       ]
      },
      {
       "output_type": "stream",
       "stream": "stdout",
       "text": [
        "\n",
        " 5: -1.3814e+02 -1.3816e+02  2e-02  2e-15  3e-06\n",
        " 6: -1.3815e+02 -1.3815e+02  4e-03  1e-15  3e-07\n",
        " 7: -1.3815e+02 -1.3815e+02  7e-04  2e-15  3e-08"
       ]
      },
      {
       "output_type": "stream",
       "stream": "stdout",
       "text": [
        "\n",
        " 8: -1.3815e+02 -1.3815e+02  2e-04  3e-15  7e-09\n",
        " 9: -1.3815e+02 -1.3815e+02  9e-05  2e-15  3e-09\n",
        "Optimal solution found.\n",
        "324 support vectors out of 390 points"
       ]
      },
      {
       "output_type": "stream",
       "stream": "stdout",
       "text": [
        "\n",
        "cutting plane objective: 138.147689, primal objective 138.151280\n",
        "iteration 521\n",
        "OneSlackSSVM(C=0.1, break_on_bad=False, cache_tol=auto,\n",
        "       check_constraints=False, inactive_threshold=1e-05,\n",
        "       inactive_window=50, inference_cache=0, logger=None, max_iter=10000,\n",
        "       model=MultiLabelModel(n_states: 2, inference_method: ad3), n_jobs=1,\n",
        "       positive_constraint=None, show_loss_every=0, switch_to=None,\n",
        "       tol=1e-05, verbose=3)\n",
        "New violation: 0.961182 difference to last: 0.000029"
       ]
      },
      {
       "output_type": "stream",
       "stream": "stdout",
       "text": [
        "\n",
        "     pcost       dcost       gap    pres   dres"
       ]
      },
      {
       "output_type": "stream",
       "stream": "stdout",
       "text": [
        "\n",
        " 0: -1.3780e+02 -2.7752e+02  1e+02  8e-16  1e+00\n",
        " 1: -1.3789e+02 -1.4428e+02  6e+00  1e-15  5e-02\n",
        " 2: -1.3800e+02 -1.3952e+02  2e+00  1e-15  9e-03\n",
        " 3: -1.3809e+02 -1.3849e+02  4e-01  1e-15  7e-04"
       ]
      },
      {
       "output_type": "stream",
       "stream": "stdout",
       "text": [
        "\n",
        " 4: -1.3813e+02 -1.3822e+02  9e-02  1e-15  5e-05\n",
        " 5: -1.3814e+02 -1.3816e+02  2e-02  2e-15  6e-06\n",
        " 6: -1.3815e+02 -1.3815e+02  4e-03  2e-15  6e-07\n",
        " 7: -1.3815e+02 -1.3815e+02  8e-04  2e-15  7e-08"
       ]
      },
      {
       "output_type": "stream",
       "stream": "stdout",
       "text": [
        "\n",
        " 8: -1.3815e+02 -1.3815e+02  2e-04  2e-15  2e-08\n",
        " 9: -1.3815e+02 -1.3815e+02  1e-04  2e-15  7e-09\n",
        "Optimal solution found.\n",
        "327 support vectors out of 391 points"
       ]
      },
      {
       "output_type": "stream",
       "stream": "stdout",
       "text": [
        "\n",
        "cutting plane objective: 138.147687, primal objective 138.151332\n",
        "iteration 522\n",
        "OneSlackSSVM(C=0.1, break_on_bad=False, cache_tol=auto,\n",
        "       check_constraints=False, inactive_threshold=1e-05,\n",
        "       inactive_window=50, inference_cache=0, logger=None, max_iter=10000,\n",
        "       model=MultiLabelModel(n_states: 2, inference_method: ad3), n_jobs=1,\n",
        "       positive_constraint=None, show_loss_every=0, switch_to=None,\n",
        "       tol=1e-05, verbose=3)\n",
        "New violation: 0.961180 difference to last: 0.000027"
       ]
      },
      {
       "output_type": "stream",
       "stream": "stdout",
       "text": [
        "\n",
        "     pcost       dcost       gap    pres   dres"
       ]
      },
      {
       "output_type": "stream",
       "stream": "stdout",
       "text": [
        "\n",
        " 0: -1.3780e+02 -2.7739e+02  1e+02  4e-16  1e+00\n",
        " 1: -1.3789e+02 -1.4429e+02  6e+00  1e-15  5e-02\n",
        " 2: -1.3800e+02 -1.3951e+02  2e+00  1e-15  9e-03\n",
        " 3: -1.3809e+02 -1.3851e+02  4e-01  1e-15  9e-04"
       ]
      },
      {
       "output_type": "stream",
       "stream": "stdout",
       "text": [
        "\n",
        " 4: -1.3813e+02 -1.3823e+02  1e-01  2e-15  8e-05\n",
        " 5: -1.3814e+02 -1.3817e+02  2e-02  2e-15  1e-05\n",
        " 6: -1.3815e+02 -1.3815e+02  5e-03  2e-15  1e-06"
       ]
      },
      {
       "output_type": "stream",
       "stream": "stdout",
       "text": [
        "\n",
        " 7: -1.3815e+02 -1.3815e+02  8e-04  2e-15  1e-07\n",
        " 8: -1.3815e+02 -1.3815e+02  2e-04  2e-15  2e-08\n",
        " 9: -1.3815e+02 -1.3815e+02  1e-04  2e-15  1e-08\n",
        "Optimal solution found.\n",
        "328 support vectors out of 392 points"
       ]
      },
      {
       "output_type": "stream",
       "stream": "stdout",
       "text": [
        "\n",
        "cutting plane objective: 138.147686, primal objective 138.151073\n",
        "iteration 523\n",
        "OneSlackSSVM(C=0.1, break_on_bad=False, cache_tol=auto,\n",
        "       check_constraints=False, inactive_threshold=1e-05,\n",
        "       inactive_window=50, inference_cache=0, logger=None, max_iter=10000,\n",
        "       model=MultiLabelModel(n_states: 2, inference_method: ad3), n_jobs=1,\n",
        "       positive_constraint=None, show_loss_every=0, switch_to=None,\n",
        "       tol=1e-05, verbose=3)\n",
        "New violation: 0.961182 difference to last: 0.000028"
       ]
      },
      {
       "output_type": "stream",
       "stream": "stdout",
       "text": [
        "\n",
        "     pcost       dcost       gap    pres   dres"
       ]
      },
      {
       "output_type": "stream",
       "stream": "stdout",
       "text": [
        "\n",
        " 0: -1.3780e+02 -2.7730e+02  1e+02  6e-16  1e+00\n",
        " 1: -1.3789e+02 -1.4427e+02  6e+00  1e-15  5e-02\n",
        " 2: -1.3800e+02 -1.3951e+02  2e+00  1e-15  9e-03\n",
        " 3: -1.3809e+02 -1.3850e+02  4e-01  1e-15  9e-04"
       ]
      },
      {
       "output_type": "stream",
       "stream": "stdout",
       "text": [
        "\n",
        " 4: -1.3813e+02 -1.3822e+02  9e-02  2e-15  7e-05\n",
        " 5: -1.3814e+02 -1.3817e+02  2e-02  2e-15  9e-06\n",
        " 6: -1.3815e+02 -1.3815e+02  5e-03  2e-15  9e-07\n",
        " 7: -1.3815e+02 -1.3815e+02  8e-04  2e-15  9e-08"
       ]
      },
      {
       "output_type": "stream",
       "stream": "stdout",
       "text": [
        "\n",
        " 8: -1.3815e+02 -1.3815e+02  2e-04  2e-15  2e-08\n",
        " 9: -1.3815e+02 -1.3815e+02  1e-04  2e-15  9e-09\n",
        "Optimal solution found.\n",
        "329 support vectors out of 393 points"
       ]
      },
      {
       "output_type": "stream",
       "stream": "stdout",
       "text": [
        "\n",
        "cutting plane objective: 138.147687, primal objective 138.151184\n",
        "iteration 524\n",
        "OneSlackSSVM(C=0.1, break_on_bad=False, cache_tol=auto,\n",
        "       check_constraints=False, inactive_threshold=1e-05,\n",
        "       inactive_window=50, inference_cache=0, logger=None, max_iter=10000,\n",
        "       model=MultiLabelModel(n_states: 2, inference_method: ad3), n_jobs=1,\n",
        "       positive_constraint=None, show_loss_every=0, switch_to=None,\n",
        "       tol=1e-05, verbose=3)\n",
        "New violation: 0.961182 difference to last: 0.000029"
       ]
      },
      {
       "output_type": "stream",
       "stream": "stdout",
       "text": [
        "\n",
        "     pcost       dcost       gap    pres   dres"
       ]
      },
      {
       "output_type": "stream",
       "stream": "stdout",
       "text": [
        "\n",
        " 0: -1.3780e+02 -2.7741e+02  1e+02  5e-16  1e+00\n",
        " 1: -1.3789e+02 -1.4429e+02  6e+00  1e-15  5e-02\n",
        " 2: -1.3800e+02 -1.3952e+02  2e+00  1e-15  9e-03\n",
        " 3: -1.3809e+02 -1.3851e+02  4e-01  1e-15  9e-04"
       ]
      },
      {
       "output_type": "stream",
       "stream": "stdout",
       "text": [
        "\n",
        " 4: -1.3813e+02 -1.3823e+02  1e-01  1e-15  8e-05\n",
        " 5: -1.3814e+02 -1.3817e+02  2e-02  2e-15  1e-05"
       ]
      },
      {
       "output_type": "stream",
       "stream": "stdout",
       "text": [
        "\n",
        " 6: -1.3815e+02 -1.3815e+02  5e-03  2e-15  9e-07\n",
        " 7: -1.3815e+02 -1.3815e+02  8e-04  2e-15  1e-07\n",
        " 8: -1.3815e+02 -1.3815e+02  2e-04  3e-15  2e-08"
       ]
      },
      {
       "output_type": "stream",
       "stream": "stdout",
       "text": [
        "\n",
        " 9: -1.3815e+02 -1.3815e+02  1e-04  2e-15  1e-08\n",
        "Optimal solution found.\n",
        "330 support vectors out of 394 points\n",
        "cutting plane objective: 138.147686, primal objective 138.151334"
       ]
      },
      {
       "output_type": "stream",
       "stream": "stdout",
       "text": [
        "\n",
        "iteration 525\n",
        "OneSlackSSVM(C=0.1, break_on_bad=False, cache_tol=auto,\n",
        "       check_constraints=False, inactive_threshold=1e-05,\n",
        "       inactive_window=50, inference_cache=0, logger=None, max_iter=10000,\n",
        "       model=MultiLabelModel(n_states: 2, inference_method: ad3), n_jobs=1,\n",
        "       positive_constraint=None, show_loss_every=0, switch_to=None,\n",
        "       tol=1e-05, verbose=3)\n",
        "New violation: 0.961169 difference to last: 0.000017"
       ]
      },
      {
       "output_type": "stream",
       "stream": "stdout",
       "text": [
        "\n",
        "     pcost       dcost       gap    pres   dres"
       ]
      },
      {
       "output_type": "stream",
       "stream": "stdout",
       "text": [
        "\n",
        " 0: -1.3780e+02 -2.7721e+02  1e+02  3e-17  1e+00\n",
        " 1: -1.3789e+02 -1.4431e+02  6e+00  1e-15  5e-02\n",
        " 2: -1.3800e+02 -1.3953e+02  2e+00  1e-15  9e-03\n",
        " 3: -1.3809e+02 -1.3852e+02  4e-01  1e-15  1e-03"
       ]
      },
      {
       "output_type": "stream",
       "stream": "stdout",
       "text": [
        "\n",
        " 4: -1.3813e+02 -1.3823e+02  1e-01  2e-15  8e-05\n",
        " 5: -1.3814e+02 -1.3817e+02  2e-02  2e-15  1e-05\n",
        " 6: -1.3815e+02 -1.3815e+02  5e-03  2e-15  1e-06"
       ]
      },
      {
       "output_type": "stream",
       "stream": "stdout",
       "text": [
        "\n",
        " 7: -1.3815e+02 -1.3815e+02  9e-04  2e-15  1e-07\n",
        " 8: -1.3815e+02 -1.3815e+02  2e-04  2e-15  3e-08\n",
        " 9: -1.3815e+02 -1.3815e+02  1e-04  2e-15  1e-08"
       ]
      },
      {
       "output_type": "stream",
       "stream": "stdout",
       "text": [
        "\n",
        "Optimal solution found.\n",
        "331 support vectors out of 395 points\n",
        "cutting plane objective: 138.147686, primal objective 138.149884\n",
        "iteration 526\n",
        "OneSlackSSVM(C=0.1, break_on_bad=False, cache_tol=auto,\n",
        "       check_constraints=False, inactive_threshold=1e-05,\n",
        "       inactive_window=50, inference_cache=0, logger=None, max_iter=10000,\n",
        "       model=MultiLabelModel(n_states: 2, inference_method: ad3), n_jobs=1,\n",
        "       positive_constraint=None, show_loss_every=0, switch_to=None,\n",
        "       tol=1e-05, verbose=3)\n",
        "New violation: 0.961173 difference to last: 0.000023"
       ]
      },
      {
       "output_type": "stream",
       "stream": "stdout",
       "text": [
        "\n",
        "     pcost       dcost       gap    pres   dres"
       ]
      },
      {
       "output_type": "stream",
       "stream": "stdout",
       "text": [
        "\n",
        " 0: -1.3781e+02 -2.7697e+02  1e+02  1e-15  1e+00\n",
        " 1: -1.3789e+02 -1.4420e+02  6e+00  1e-15  5e-02\n",
        " 2: -1.3800e+02 -1.3950e+02  2e+00  1e-15  9e-03"
       ]
      },
      {
       "output_type": "stream",
       "stream": "stdout",
       "text": [
        "\n",
        " 3: -1.3809e+02 -1.3849e+02  4e-01  1e-15  8e-04\n",
        " 4: -1.3813e+02 -1.3822e+02  9e-02  2e-15  4e-05\n",
        " 5: -1.3814e+02 -1.3816e+02  2e-02  2e-15  5e-06"
       ]
      },
      {
       "output_type": "stream",
       "stream": "stdout",
       "text": [
        "\n",
        " 6: -1.3815e+02 -1.3815e+02  4e-03  1e-15  5e-07\n",
        " 7: -1.3815e+02 -1.3815e+02  8e-04  2e-15  6e-08\n",
        " 8: -1.3815e+02 -1.3815e+02  2e-04  2e-15  1e-08\n",
        " 9: -1.3815e+02 -1.3815e+02  1e-04  2e-15  6e-09"
       ]
      },
      {
       "output_type": "stream",
       "stream": "stdout",
       "text": [
        "\n",
        "Optimal solution found.\n",
        "332 support vectors out of 396 points\n",
        "cutting plane objective: 138.147688, primal objective 138.150559\n",
        "iteration 527\n",
        "OneSlackSSVM(C=0.1, break_on_bad=False, cache_tol=auto,\n",
        "       check_constraints=False, inactive_threshold=1e-05,\n",
        "       inactive_window=50, inference_cache=0, logger=None, max_iter=10000,\n",
        "       model=MultiLabelModel(n_states: 2, inference_method: ad3), n_jobs=1,\n",
        "       positive_constraint=None, show_loss_every=0, switch_to=None,\n",
        "       tol=1e-05, verbose=3)\n",
        "New violation: 0.961178 difference to last: 0.000026"
       ]
      },
      {
       "output_type": "stream",
       "stream": "stdout",
       "text": [
        "\n",
        "     pcost       dcost       gap    pres   dres"
       ]
      },
      {
       "output_type": "stream",
       "stream": "stdout",
       "text": [
        "\n",
        " 0: -1.3781e+02 -2.7711e+02  1e+02  1e-16  1e+00\n",
        " 1: -1.3789e+02 -1.4424e+02  6e+00  1e-15  5e-02\n",
        " 2: -1.3800e+02 -1.3953e+02  2e+00  1e-15  9e-03\n",
        " 3: -1.3809e+02 -1.3852e+02  4e-01  1e-15  1e-03"
       ]
      },
      {
       "output_type": "stream",
       "stream": "stdout",
       "text": [
        "\n",
        " 4: -1.3813e+02 -1.3823e+02  1e-01  2e-15  8e-05\n",
        " 5: -1.3814e+02 -1.3817e+02  2e-02  2e-15  1e-05\n",
        " 6: -1.3815e+02 -1.3815e+02  5e-03  2e-15  1e-06"
       ]
      },
      {
       "output_type": "stream",
       "stream": "stdout",
       "text": [
        "\n",
        " 7: -1.3815e+02 -1.3815e+02  9e-04  2e-15  1e-07\n",
        " 8: -1.3815e+02 -1.3815e+02  2e-04  2e-15  3e-08"
       ]
      },
      {
       "output_type": "stream",
       "stream": "stdout",
       "text": [
        "\n",
        " 9: -1.3815e+02 -1.3815e+02  1e-04  2e-15  1e-08\n",
        "Optimal solution found.\n",
        "333 support vectors out of 397 points"
       ]
      },
      {
       "output_type": "stream",
       "stream": "stdout",
       "text": [
        "\n",
        "cutting plane objective: 138.147686, primal objective 138.150973\n",
        "iteration 528\n",
        "OneSlackSSVM(C=0.1, break_on_bad=False, cache_tol=auto,\n",
        "       check_constraints=False, inactive_threshold=1e-05,\n",
        "       inactive_window=50, inference_cache=0, logger=None, max_iter=10000,\n",
        "       model=MultiLabelModel(n_states: 2, inference_method: ad3), n_jobs=1,\n",
        "       positive_constraint=None, show_loss_every=0, switch_to=None,\n",
        "       tol=1e-05, verbose=3)\n",
        "New violation: 0.961170 difference to last: 0.000020"
       ]
      },
      {
       "output_type": "stream",
       "stream": "stdout",
       "text": [
        "\n",
        "     pcost       dcost       gap    pres   dres"
       ]
      },
      {
       "output_type": "stream",
       "stream": "stdout",
       "text": [
        "\n",
        " 0: -1.3781e+02 -2.7700e+02  1e+02  4e-16  1e+00\n",
        " 1: -1.3789e+02 -1.4424e+02  6e+00  1e-15  5e-02\n",
        " 2: -1.3800e+02 -1.3953e+02  2e+00  1e-15  9e-03\n",
        " 3: -1.3809e+02 -1.3851e+02  4e-01  1e-15  1e-03"
       ]
      },
      {
       "output_type": "stream",
       "stream": "stdout",
       "text": [
        "\n",
        " 4: -1.3813e+02 -1.3823e+02  1e-01  2e-15  6e-05\n",
        " 5: -1.3814e+02 -1.3817e+02  2e-02  2e-15  8e-06\n",
        " 6: -1.3815e+02 -1.3815e+02  4e-03  2e-15  6e-07"
       ]
      },
      {
       "output_type": "stream",
       "stream": "stdout",
       "text": [
        "\n",
        " 7: -1.3815e+02 -1.3815e+02  8e-04  2e-15  8e-08\n",
        " 8: -1.3815e+02 -1.3815e+02  2e-04  3e-15  2e-08\n",
        " 9: -1.3815e+02 -1.3815e+02  1e-04  3e-15  7e-09"
       ]
      },
      {
       "output_type": "stream",
       "stream": "stdout",
       "text": [
        "\n",
        "Optimal solution found.\n",
        "334 support vectors out of 398 points\n",
        "cutting plane objective: 138.147687, primal objective 138.150160\n",
        "iteration 529\n",
        "OneSlackSSVM(C=0.1, break_on_bad=False, cache_tol=auto,\n",
        "       check_constraints=False, inactive_threshold=1e-05,\n",
        "       inactive_window=50, inference_cache=0, logger=None, max_iter=10000,\n",
        "       model=MultiLabelModel(n_states: 2, inference_method: ad3), n_jobs=1,\n",
        "       positive_constraint=None, show_loss_every=0, switch_to=None,\n",
        "       tol=1e-05, verbose=3)\n",
        "New violation: 0.961173 difference to last: 0.000023"
       ]
      },
      {
       "output_type": "stream",
       "stream": "stdout",
       "text": [
        "\n",
        "     pcost       dcost       gap    pres   dres"
       ]
      },
      {
       "output_type": "stream",
       "stream": "stdout",
       "text": [
        "\n",
        " 0: -1.3781e+02 -2.7704e+02  1e+02  4e-16  1e+00\n",
        " 1: -1.3789e+02 -1.4423e+02  6e+00  1e-15  5e-02\n",
        " 2: -1.3800e+02 -1.3952e+02  2e+00  1e-15  9e-03"
       ]
      },
      {
       "output_type": "stream",
       "stream": "stdout",
       "text": [
        "\n",
        " 3: -1.3809e+02 -1.3851e+02  4e-01  1e-15  1e-03\n",
        " 4: -1.3813e+02 -1.3823e+02  1e-01  2e-15  5e-05\n",
        " 5: -1.3814e+02 -1.3817e+02  2e-02  2e-15  8e-06"
       ]
      },
      {
       "output_type": "stream",
       "stream": "stdout",
       "text": [
        "\n",
        " 6: -1.3815e+02 -1.3815e+02  5e-03  2e-15  7e-07\n",
        " 7: -1.3815e+02 -1.3815e+02  9e-04  2e-15  9e-08"
       ]
      },
      {
       "output_type": "stream",
       "stream": "stdout",
       "text": [
        "\n",
        " 8: -1.3815e+02 -1.3815e+02  2e-04  2e-15  2e-08\n",
        " 9: -1.3815e+02 -1.3815e+02  1e-04  2e-15  7e-09"
       ]
      },
      {
       "output_type": "stream",
       "stream": "stdout",
       "text": [
        "\n",
        "Optimal solution found.\n",
        "335 support vectors out of 399 points\n",
        "cutting plane objective: 138.147687, primal objective 138.150532\n",
        "iteration 530\n",
        "OneSlackSSVM(C=0.1, break_on_bad=False, cache_tol=auto,\n",
        "       check_constraints=False, inactive_threshold=1e-05,\n",
        "       inactive_window=50, inference_cache=0, logger=None, max_iter=10000,\n",
        "       model=MultiLabelModel(n_states: 2, inference_method: ad3), n_jobs=1,\n",
        "       positive_constraint=None, show_loss_every=0, switch_to=None,\n",
        "       tol=1e-05, verbose=3)\n",
        "New violation: 0.961176 difference to last: 0.000024"
       ]
      },
      {
       "output_type": "stream",
       "stream": "stdout",
       "text": [
        "\n",
        "     pcost       dcost       gap    pres   dres"
       ]
      },
      {
       "output_type": "stream",
       "stream": "stdout",
       "text": [
        "\n",
        " 0: -1.3781e+02 -2.7711e+02  1e+02  2e-15  1e+00\n",
        " 1: -1.3789e+02 -1.4425e+02  6e+00  1e-15  5e-02\n",
        " 2: -1.3800e+02 -1.3952e+02  2e+00  1e-15  9e-03\n",
        " 3: -1.3809e+02 -1.3852e+02  4e-01  1e-15  1e-03"
       ]
      },
      {
       "output_type": "stream",
       "stream": "stdout",
       "text": [
        "\n",
        " 4: -1.3813e+02 -1.3823e+02  1e-01  1e-15  6e-05\n",
        " 5: -1.3814e+02 -1.3817e+02  2e-02  2e-15  9e-06\n",
        " 6: -1.3815e+02 -1.3815e+02  5e-03  2e-15  9e-07\n",
        " 7: -1.3815e+02 -1.3815e+02  9e-04  2e-15  1e-07"
       ]
      },
      {
       "output_type": "stream",
       "stream": "stdout",
       "text": [
        "\n",
        " 8: -1.3815e+02 -1.3815e+02  2e-04  2e-15  2e-08\n",
        " 9: -1.3815e+02 -1.3815e+02  1e-04  2e-15  9e-09\n",
        "Optimal solution found.\n",
        "336 support vectors out of 400 points"
       ]
      },
      {
       "output_type": "stream",
       "stream": "stdout",
       "text": [
        "\n",
        "cutting plane objective: 138.147687, primal objective 138.150701\n",
        "iteration 531\n",
        "OneSlackSSVM(C=0.1, break_on_bad=False, cache_tol=auto,\n",
        "       check_constraints=False, inactive_threshold=1e-05,\n",
        "       inactive_window=50, inference_cache=0, logger=None, max_iter=10000,\n",
        "       model=MultiLabelModel(n_states: 2, inference_method: ad3), n_jobs=1,\n",
        "       positive_constraint=None, show_loss_every=0, switch_to=None,\n",
        "       tol=1e-05, verbose=3)\n",
        "New violation: 0.961178 difference to last: 0.000025"
       ]
      },
      {
       "output_type": "stream",
       "stream": "stdout",
       "text": [
        "\n",
        "     pcost       dcost       gap    pres   dres"
       ]
      },
      {
       "output_type": "stream",
       "stream": "stdout",
       "text": [
        "\n",
        " 0: -1.3781e+02 -2.7698e+02  1e+02  7e-16  1e+00\n",
        " 1: -1.3789e+02 -1.4422e+02  6e+00  1e-15  5e-02\n",
        " 2: -1.3800e+02 -1.3951e+02  2e+00  1e-15  9e-03"
       ]
      },
      {
       "output_type": "stream",
       "stream": "stdout",
       "text": [
        "\n",
        " 3: -1.3809e+02 -1.3850e+02  4e-01  2e-15  8e-04\n",
        " 4: -1.3813e+02 -1.3822e+02  9e-02  2e-15  7e-06\n",
        " 5: -1.3814e+02 -1.3816e+02  2e-02  2e-15  8e-07"
       ]
      },
      {
       "output_type": "stream",
       "stream": "stdout",
       "text": [
        "\n",
        " 6: -1.3815e+02 -1.3815e+02  4e-03  2e-15  7e-08\n",
        " 7: -1.3815e+02 -1.3815e+02  7e-04  2e-15  9e-09"
       ]
      },
      {
       "output_type": "stream",
       "stream": "stdout",
       "text": [
        "\n",
        " 8: -1.3815e+02 -1.3815e+02  2e-04  3e-15  2e-09\n",
        " 9: -1.3815e+02 -1.3815e+02  9e-05  2e-15  9e-10"
       ]
      },
      {
       "output_type": "stream",
       "stream": "stdout",
       "text": [
        "\n",
        "Optimal solution found.\n",
        "334 support vectors out of 401 points\n",
        "cutting plane objective: 138.147690, primal objective 138.150780\n",
        "iteration 532\n",
        "OneSlackSSVM(C=0.1, break_on_bad=False, cache_tol=auto,\n",
        "       check_constraints=False, inactive_threshold=1e-05,\n",
        "       inactive_window=50, inference_cache=0, logger=None, max_iter=10000,\n",
        "       model=MultiLabelModel(n_states: 2, inference_method: ad3), n_jobs=1,\n",
        "       positive_constraint=None, show_loss_every=0, switch_to=None,\n",
        "       tol=1e-05, verbose=3)\n",
        "New violation: 0.961179 difference to last: 0.000026"
       ]
      },
      {
       "output_type": "stream",
       "stream": "stdout",
       "text": [
        "\n",
        "     pcost       dcost       gap    pres   dres"
       ]
      },
      {
       "output_type": "stream",
       "stream": "stdout",
       "text": [
        "\n",
        " 0: -1.3781e+02 -2.7708e+02  1e+02  4e-16  1e+00\n",
        " 1: -1.3789e+02 -1.4432e+02  6e+00  1e-15  5e-02\n",
        " 2: -1.3800e+02 -1.3954e+02  2e+00  1e-15  9e-03\n",
        " 3: -1.3809e+02 -1.3853e+02  4e-01  1e-15  1e-03"
       ]
      },
      {
       "output_type": "stream",
       "stream": "stdout",
       "text": [
        "\n",
        " 4: -1.3813e+02 -1.3823e+02  1e-01  2e-15  7e-05\n",
        " 5: -1.3814e+02 -1.3817e+02  3e-02  2e-15  1e-05\n",
        " 6: -1.3815e+02 -1.3815e+02  6e-03  2e-15  1e-06"
       ]
      },
      {
       "output_type": "stream",
       "stream": "stdout",
       "text": [
        "\n",
        " 7: -1.3815e+02 -1.3815e+02  1e-03  2e-15  1e-07\n",
        " 8: -1.3815e+02 -1.3815e+02  3e-04  2e-15  3e-08\n",
        " 9: -1.3815e+02 -1.3815e+02  1e-04  2e-15  1e-08"
       ]
      },
      {
       "output_type": "stream",
       "stream": "stdout",
       "text": [
        "\n",
        "Optimal solution found.\n",
        "338 support vectors out of 402 points\n",
        "cutting plane objective: 138.147688, primal objective 138.150974\n",
        "iteration 533\n",
        "OneSlackSSVM(C=0.1, break_on_bad=False, cache_tol=auto,\n",
        "       check_constraints=False, inactive_threshold=1e-05,\n",
        "       inactive_window=50, inference_cache=0, logger=None, max_iter=10000,\n",
        "       model=MultiLabelModel(n_states: 2, inference_method: ad3), n_jobs=1,\n",
        "       positive_constraint=None, show_loss_every=0, switch_to=None,\n",
        "       tol=1e-05, verbose=3)\n",
        "New violation: 0.961181 difference to last: 0.000026"
       ]
      },
      {
       "output_type": "stream",
       "stream": "stdout",
       "text": [
        "\n",
        "     pcost       dcost       gap    pres   dres"
       ]
      },
      {
       "output_type": "stream",
       "stream": "stdout",
       "text": [
        "\n",
        " 0: -1.3781e+02 -2.7689e+02  1e+02  3e-17  1e+00\n",
        " 1: -1.3789e+02 -1.4424e+02  6e+00  1e-15  5e-02\n",
        " 2: -1.3800e+02 -1.3953e+02  2e+00  1e-15  9e-03\n",
        " 3: -1.3809e+02 -1.3852e+02  4e-01  1e-15  1e-03"
       ]
      },
      {
       "output_type": "stream",
       "stream": "stdout",
       "text": [
        "\n",
        " 4: -1.3813e+02 -1.3823e+02  1e-01  1e-15  6e-05\n",
        " 5: -1.3814e+02 -1.3817e+02  3e-02  2e-15  9e-06\n",
        " 6: -1.3815e+02 -1.3815e+02  5e-03  2e-15  9e-07"
       ]
      },
      {
       "output_type": "stream",
       "stream": "stdout",
       "text": [
        "\n",
        " 7: -1.3815e+02 -1.3815e+02  9e-04  2e-15  1e-07\n",
        " 8: -1.3815e+02 -1.3815e+02  2e-04  2e-15  2e-08\n",
        " 9: -1.3815e+02 -1.3815e+02  1e-04  2e-15  8e-09"
       ]
      },
      {
       "output_type": "stream",
       "stream": "stdout",
       "text": [
        "\n",
        "Optimal solution found.\n",
        "338 support vectors out of 403 points\n",
        "cutting plane objective: 138.147689, primal objective 138.150899\n",
        "iteration 534\n",
        "OneSlackSSVM(C=0.1, break_on_bad=False, cache_tol=auto,\n",
        "       check_constraints=False, inactive_threshold=1e-05,\n",
        "       inactive_window=50, inference_cache=0, logger=None, max_iter=10000,\n",
        "       model=MultiLabelModel(n_states: 2, inference_method: ad3), n_jobs=1,\n",
        "       positive_constraint=None, show_loss_every=0, switch_to=None,\n",
        "       tol=1e-05, verbose=3)\n",
        "New violation: 0.961179 difference to last: 0.000026"
       ]
      },
      {
       "output_type": "stream",
       "stream": "stdout",
       "text": [
        "\n",
        "     pcost       dcost       gap    pres   dres"
       ]
      },
      {
       "output_type": "stream",
       "stream": "stdout",
       "text": [
        "\n",
        " 0: -1.3781e+02 -2.7669e+02  1e+02  2e-16  1e+00\n",
        " 1: -1.3789e+02 -1.4420e+02  6e+00  1e-15  5e-02\n",
        " 2: -1.3800e+02 -1.3950e+02  1e+00  1e-15  9e-03\n",
        " 3: -1.3809e+02 -1.3850e+02  4e-01  1e-15  8e-04"
       ]
      },
      {
       "output_type": "stream",
       "stream": "stdout",
       "text": [
        "\n",
        " 4: -1.3813e+02 -1.3822e+02  9e-02  2e-15  9e-06\n",
        " 5: -1.3814e+02 -1.3816e+02  2e-02  2e-15  1e-06\n",
        " 6: -1.3815e+02 -1.3815e+02  4e-03  2e-15  9e-08"
       ]
      },
      {
       "output_type": "stream",
       "stream": "stdout",
       "text": [
        "\n",
        " 7: -1.3815e+02 -1.3815e+02  8e-04  2e-15  1e-08\n",
        " 8: -1.3815e+02 -1.3815e+02  2e-04  3e-15  3e-09\n",
        " 9: -1.3815e+02 -1.3815e+02  9e-05  3e-15  1e-09"
       ]
      },
      {
       "output_type": "stream",
       "stream": "stdout",
       "text": [
        "\n",
        "Optimal solution found.\n",
        "337 support vectors out of 404 points\n",
        "cutting plane objective: 138.147692, primal objective 138.150908\n",
        "iteration 535\n",
        "OneSlackSSVM(C=0.1, break_on_bad=False, cache_tol=auto,\n",
        "       check_constraints=False, inactive_threshold=1e-05,\n",
        "       inactive_window=50, inference_cache=0, logger=None, max_iter=10000,\n",
        "       model=MultiLabelModel(n_states: 2, inference_method: ad3), n_jobs=1,\n",
        "       positive_constraint=None, show_loss_every=0, switch_to=None,\n",
        "       tol=1e-05, verbose=3)\n",
        "New violation: 0.961180 difference to last: 0.000026"
       ]
      },
      {
       "output_type": "stream",
       "stream": "stdout",
       "text": [
        "\n",
        "     pcost       dcost       gap    pres   dres"
       ]
      },
      {
       "output_type": "stream",
       "stream": "stdout",
       "text": [
        "\n",
        " 0: -1.3781e+02 -2.7685e+02  1e+02  3e-16  1e+00\n",
        " 1: -1.3789e+02 -1.4422e+02  6e+00  1e-15  5e-02\n",
        " 2: -1.3800e+02 -1.3952e+02  2e+00  1e-15  9e-03\n",
        " 3: -1.3809e+02 -1.3851e+02  4e-01  1e-15  8e-04"
       ]
      },
      {
       "output_type": "stream",
       "stream": "stdout",
       "text": [
        "\n",
        " 4: -1.3813e+02 -1.3822e+02  9e-02  2e-15  2e-05\n",
        " 5: -1.3814e+02 -1.3817e+02  2e-02  2e-15  2e-06\n",
        " 6: -1.3815e+02 -1.3815e+02  4e-03  2e-15  2e-07"
       ]
      },
      {
       "output_type": "stream",
       "stream": "stdout",
       "text": [
        "\n",
        " 7: -1.3815e+02 -1.3815e+02  8e-04  2e-15  3e-08\n",
        " 8: -1.3815e+02 -1.3815e+02  2e-04  2e-15  5e-09\n",
        " 9: -1.3815e+02 -1.3815e+02  9e-05  2e-15  2e-09"
       ]
      },
      {
       "output_type": "stream",
       "stream": "stdout",
       "text": [
        "\n",
        "Optimal solution found.\n",
        "337 support vectors out of 405 points\n",
        "cutting plane objective: 138.147692, primal objective 138.150977\n",
        "iteration 536\n",
        "OneSlackSSVM(C=0.1, break_on_bad=False, cache_tol=auto,\n",
        "       check_constraints=False, inactive_threshold=1e-05,\n",
        "       inactive_window=50, inference_cache=0, logger=None, max_iter=10000,\n",
        "       model=MultiLabelModel(n_states: 2, inference_method: ad3), n_jobs=1,\n",
        "       positive_constraint=None, show_loss_every=0, switch_to=None,\n",
        "       tol=1e-05, verbose=3)\n",
        "New violation: 0.961177 difference to last: 0.000024"
       ]
      },
      {
       "output_type": "stream",
       "stream": "stdout",
       "text": [
        "\n",
        "     pcost       dcost       gap    pres   dres"
       ]
      },
      {
       "output_type": "stream",
       "stream": "stdout",
       "text": [
        "\n",
        " 0: -1.3782e+02 -2.7677e+02  1e+02  2e-16  1e+00\n",
        " 1: -1.3789e+02 -1.4415e+02  6e+00  1e-15  5e-02\n",
        " 2: -1.3800e+02 -1.3950e+02  2e+00  1e-15  9e-03\n",
        " 3: -1.3809e+02 -1.3848e+02  4e-01  1e-15  4e-04"
       ]
      },
      {
       "output_type": "stream",
       "stream": "stdout",
       "text": [
        "\n",
        " 4: -1.3813e+02 -1.3823e+02  9e-02  2e-15  9e-16\n",
        " 5: -1.3814e+02 -1.3816e+02  2e-02  2e-15  9e-16\n",
        " 6: -1.3815e+02 -1.3815e+02  4e-03  2e-15  9e-16"
       ]
      },
      {
       "output_type": "stream",
       "stream": "stdout",
       "text": [
        "\n",
        " 7: -1.3815e+02 -1.3815e+02  7e-04  2e-15  8e-16\n",
        " 8: -1.3815e+02 -1.3815e+02  2e-04  2e-15  9e-16\n",
        " 9: -1.3815e+02 -1.3815e+02  9e-05  2e-15  8e-16"
       ]
      },
      {
       "output_type": "stream",
       "stream": "stdout",
       "text": [
        "\n",
        "Optimal solution found.\n",
        "338 support vectors out of 406 points\n",
        "cutting plane objective: 138.147694, primal objective 138.150690\n",
        "iteration 537\n",
        "OneSlackSSVM(C=0.1, break_on_bad=False, cache_tol=auto,\n",
        "       check_constraints=False, inactive_threshold=1e-05,\n",
        "       inactive_window=50, inference_cache=0, logger=None, max_iter=10000,\n",
        "       model=MultiLabelModel(n_states: 2, inference_method: ad3), n_jobs=1,\n",
        "       positive_constraint=None, show_loss_every=0, switch_to=None,\n",
        "       tol=1e-05, verbose=3)\n",
        "New violation: 0.961177 difference to last: 0.000025"
       ]
      },
      {
       "output_type": "stream",
       "stream": "stdout",
       "text": [
        "\n",
        "     pcost       dcost       gap    pres   dres"
       ]
      },
      {
       "output_type": "stream",
       "stream": "stdout",
       "text": [
        "\n",
        " 0: -1.3781e+02 -2.7681e+02  1e+02  7e-16  1e+00\n",
        " 1: -1.3789e+02 -1.4417e+02  6e+00  1e-15  5e-02\n",
        " 2: -1.3800e+02 -1.3951e+02  2e+00  1e-15  9e-03\n",
        " 3: -1.3809e+02 -1.3849e+02  4e-01  1e-15  6e-04"
       ]
      },
      {
       "output_type": "stream",
       "stream": "stdout",
       "text": [
        "\n",
        " 4: -1.3813e+02 -1.3823e+02  1e-01  2e-15  9e-16\n",
        " 5: -1.3814e+02 -1.3816e+02  2e-02  2e-15  8e-16\n",
        " 6: -1.3815e+02 -1.3815e+02  4e-03  2e-15  9e-16"
       ]
      },
      {
       "output_type": "stream",
       "stream": "stdout",
       "text": [
        "\n",
        " 7: -1.3815e+02 -1.3815e+02  7e-04  2e-15  9e-16\n",
        " 8: -1.3815e+02 -1.3815e+02  2e-04  3e-15  9e-16\n",
        " 9: -1.3815e+02 -1.3815e+02  8e-05  2e-15  8e-16"
       ]
      },
      {
       "output_type": "stream",
       "stream": "stdout",
       "text": [
        "\n",
        "Optimal solution found.\n",
        "338 support vectors out of 407 points\n",
        "cutting plane objective: 138.147695, primal objective 138.150824\n",
        "iteration 538\n",
        "OneSlackSSVM(C=0.1, break_on_bad=False, cache_tol=auto,\n",
        "       check_constraints=False, inactive_threshold=1e-05,\n",
        "       inactive_window=50, inference_cache=0, logger=None, max_iter=10000,\n",
        "       model=MultiLabelModel(n_states: 2, inference_method: ad3), n_jobs=1,\n",
        "       positive_constraint=None, show_loss_every=0, switch_to=None,\n",
        "       tol=1e-05, verbose=3)\n",
        "New violation: 0.961175 difference to last: 0.000023"
       ]
      },
      {
       "output_type": "stream",
       "stream": "stdout",
       "text": [
        "\n",
        "     pcost       dcost       gap    pres   dres"
       ]
      },
      {
       "output_type": "stream",
       "stream": "stdout",
       "text": [
        "\n",
        " 0: -1.3782e+02 -2.7658e+02  1e+02  5e-16  1e+00\n",
        " 1: -1.3789e+02 -1.4413e+02  6e+00  1e-15  5e-02\n",
        " 2: -1.3800e+02 -1.3949e+02  1e+00  1e-15  9e-03\n",
        " 3: -1.3810e+02 -1.3845e+02  4e-01  1e-15  9e-05"
       ]
      },
      {
       "output_type": "stream",
       "stream": "stdout",
       "text": [
        "\n",
        " 4: -1.3813e+02 -1.3823e+02  1e-01  2e-15  9e-16\n",
        " 5: -1.3814e+02 -1.3816e+02  2e-02  2e-15  8e-16\n",
        " 6: -1.3815e+02 -1.3815e+02  4e-03  3e-15  9e-16"
       ]
      },
      {
       "output_type": "stream",
       "stream": "stdout",
       "text": [
        "\n",
        " 7: -1.3815e+02 -1.3815e+02  8e-04  2e-15  9e-16\n",
        " 8: -1.3815e+02 -1.3815e+02  2e-04  2e-15  8e-16\n",
        " 9: -1.3815e+02 -1.3815e+02  8e-05  2e-15  8e-16"
       ]
      },
      {
       "output_type": "stream",
       "stream": "stdout",
       "text": [
        "\n",
        "Optimal solution found.\n",
        "339 support vectors out of 408 points\n",
        "cutting plane objective: 138.147696, primal objective 138.150564\n",
        "iteration 539\n",
        "OneSlackSSVM(C=0.1, break_on_bad=False, cache_tol=auto,\n",
        "       check_constraints=False, inactive_threshold=1e-05,\n",
        "       inactive_window=50, inference_cache=0, logger=None, max_iter=10000,\n",
        "       model=MultiLabelModel(n_states: 2, inference_method: ad3), n_jobs=1,\n",
        "       positive_constraint=None, show_loss_every=0, switch_to=None,\n",
        "       tol=1e-05, verbose=3)\n",
        "New violation: 0.961174 difference to last: 0.000024"
       ]
      },
      {
       "output_type": "stream",
       "stream": "stdout",
       "text": [
        "\n",
        "     pcost       dcost       gap    pres   dres"
       ]
      },
      {
       "output_type": "stream",
       "stream": "stdout",
       "text": [
        "\n",
        " 0: -1.3782e+02 -2.7660e+02  1e+02  3e-16  1e+00\n",
        " 1: -1.3789e+02 -1.4415e+02  6e+00  1e-15  5e-02\n",
        " 2: -1.3800e+02 -1.3950e+02  1e+00  1e-15  9e-03"
       ]
      },
      {
       "output_type": "stream",
       "stream": "stdout",
       "text": [
        "\n",
        " 3: -1.3810e+02 -1.3847e+02  4e-01  1e-15  2e-04\n",
        " 4: -1.3813e+02 -1.3823e+02  1e-01  2e-15  9e-16"
       ]
      },
      {
       "output_type": "stream",
       "stream": "stdout",
       "text": [
        "\n",
        " 5: -1.3814e+02 -1.3817e+02  2e-02  2e-15  9e-16\n",
        " 6: -1.3815e+02 -1.3815e+02  5e-03  2e-15  8e-16"
       ]
      },
      {
       "output_type": "stream",
       "stream": "stdout",
       "text": [
        "\n",
        " 7: -1.3815e+02 -1.3815e+02  8e-04  2e-15  9e-16\n",
        " 8: -1.3815e+02 -1.3815e+02  2e-04  2e-15  8e-16"
       ]
      },
      {
       "output_type": "stream",
       "stream": "stdout",
       "text": [
        "\n",
        " 9: -1.3815e+02 -1.3815e+02  8e-05  2e-15  8e-16\n",
        "Optimal solution found.\n",
        "340 support vectors out of 409 points"
       ]
      },
      {
       "output_type": "stream",
       "stream": "stdout",
       "text": [
        "\n",
        "cutting plane objective: 138.147696, primal objective 138.150690\n",
        "iteration 540\n",
        "OneSlackSSVM(C=0.1, break_on_bad=False, cache_tol=auto,\n",
        "       check_constraints=False, inactive_threshold=1e-05,\n",
        "       inactive_window=50, inference_cache=0, logger=None, max_iter=10000,\n",
        "       model=MultiLabelModel(n_states: 2, inference_method: ad3), n_jobs=1,\n",
        "       positive_constraint=None, show_loss_every=0, switch_to=None,\n",
        "       tol=1e-05, verbose=3)\n",
        "New violation: 0.961173 difference to last: 0.000023"
       ]
      },
      {
       "output_type": "stream",
       "stream": "stdout",
       "text": [
        "\n",
        "     pcost       dcost       gap    pres   dres"
       ]
      },
      {
       "output_type": "stream",
       "stream": "stdout",
       "text": [
        "\n",
        " 0: -1.3782e+02 -2.7647e+02  1e+02  2e-16  1e+00\n",
        " 1: -1.3790e+02 -1.4413e+02  6e+00  1e-15  5e-02\n",
        " 2: -1.3800e+02 -1.3948e+02  1e+00  1e-15  9e-03\n",
        " 3: -1.3810e+02 -1.3845e+02  4e-01  1e-15  4e-05"
       ]
      },
      {
       "output_type": "stream",
       "stream": "stdout",
       "text": [
        "\n",
        " 4: -1.3813e+02 -1.3823e+02  1e-01  1e-15  9e-16\n",
        " 5: -1.3814e+02 -1.3816e+02  2e-02  2e-15  9e-16\n",
        " 6: -1.3815e+02 -1.3815e+02  5e-03  2e-15  9e-16"
       ]
      },
      {
       "output_type": "stream",
       "stream": "stdout",
       "text": [
        "\n",
        " 7: -1.3815e+02 -1.3815e+02  8e-04  2e-15  9e-16\n",
        " 8: -1.3815e+02 -1.3815e+02  2e-04  2e-15  8e-16\n",
        " 9: -1.3815e+02 -1.3815e+02  8e-05  2e-15  8e-16"
       ]
      },
      {
       "output_type": "stream",
       "stream": "stdout",
       "text": [
        "\n",
        "Optimal solution found.\n",
        "338 support vectors out of 410 points\n",
        "cutting plane objective: 138.147698, primal objective 138.150521\n",
        "iteration 541\n",
        "OneSlackSSVM(C=0.1, break_on_bad=False, cache_tol=auto,\n",
        "       check_constraints=False, inactive_threshold=1e-05,\n",
        "       inactive_window=50, inference_cache=0, logger=None, max_iter=10000,\n",
        "       model=MultiLabelModel(n_states: 2, inference_method: ad3), n_jobs=1,\n",
        "       positive_constraint=None, show_loss_every=0, switch_to=None,\n",
        "       tol=1e-05, verbose=3)\n",
        "New violation: 0.961175 difference to last: 0.000023"
       ]
      },
      {
       "output_type": "stream",
       "stream": "stdout",
       "text": [
        "\n",
        "     pcost       dcost       gap    pres   dres"
       ]
      },
      {
       "output_type": "stream",
       "stream": "stdout",
       "text": [
        "\n",
        " 0: -1.3782e+02 -2.7678e+02  1e+02  8e-16  1e+00\n",
        " 1: -1.3790e+02 -1.4415e+02  6e+00  1e-15  5e-02\n",
        " 2: -1.3800e+02 -1.3950e+02  2e+00  1e-15  9e-03\n",
        " 3: -1.3809e+02 -1.3848e+02  4e-01  1e-15  4e-04"
       ]
      },
      {
       "output_type": "stream",
       "stream": "stdout",
       "text": [
        "\n",
        " 4: -1.3813e+02 -1.3823e+02  1e-01  1e-15  1e-15\n",
        " 5: -1.3814e+02 -1.3817e+02  2e-02  1e-15  9e-16\n",
        " 6: -1.3815e+02 -1.3815e+02  5e-03  2e-15  8e-16"
       ]
      },
      {
       "output_type": "stream",
       "stream": "stdout",
       "text": [
        "\n",
        " 7: -1.3815e+02 -1.3815e+02  8e-04  2e-15  9e-16\n",
        " 8: -1.3815e+02 -1.3815e+02  2e-04  2e-15  9e-16\n",
        " 9: -1.3815e+02 -1.3815e+02  8e-05  2e-15  8e-16"
       ]
      },
      {
       "output_type": "stream",
       "stream": "stdout",
       "text": [
        "\n",
        "Optimal solution found.\n",
        "340 support vectors out of 411 points\n",
        "cutting plane objective: 138.147697, primal objective 138.150536\n",
        "iteration 542\n",
        "OneSlackSSVM(C=0.1, break_on_bad=False, cache_tol=auto,\n",
        "       check_constraints=False, inactive_threshold=1e-05,\n",
        "       inactive_window=50, inference_cache=0, logger=None, max_iter=10000,\n",
        "       model=MultiLabelModel(n_states: 2, inference_method: ad3), n_jobs=1,\n",
        "       positive_constraint=None, show_loss_every=0, switch_to=None,\n",
        "       tol=1e-05, verbose=3)\n",
        "New violation: 0.961173 difference to last: 0.000021"
       ]
      },
      {
       "output_type": "stream",
       "stream": "stdout",
       "text": [
        "\n",
        "     pcost       dcost       gap    pres   dres"
       ]
      },
      {
       "output_type": "stream",
       "stream": "stdout",
       "text": [
        "\n",
        " 0: -1.3782e+02 -2.7677e+02  1e+02  8e-16  1e+00\n",
        " 1: -1.3790e+02 -1.4413e+02  6e+00  1e-15  5e-02\n",
        " 2: -1.3800e+02 -1.3951e+02  2e+00  1e-15  9e-03\n",
        " 3: -1.3809e+02 -1.3849e+02  4e-01  1e-15  4e-04"
       ]
      },
      {
       "output_type": "stream",
       "stream": "stdout",
       "text": [
        "\n",
        " 4: -1.3813e+02 -1.3824e+02  1e-01  1e-15  1e-15\n",
        " 5: -1.3814e+02 -1.3817e+02  2e-02  2e-15  9e-16\n",
        " 6: -1.3815e+02 -1.3815e+02  5e-03  2e-15  9e-16"
       ]
      },
      {
       "output_type": "stream",
       "stream": "stdout",
       "text": [
        "\n",
        " 7: -1.3815e+02 -1.3815e+02  9e-04  2e-15  9e-16\n",
        " 8: -1.3815e+02 -1.3815e+02  2e-04  3e-15  9e-16\n",
        " 9: -1.3815e+02 -1.3815e+02  8e-05  2e-15  8e-16"
       ]
      },
      {
       "output_type": "stream",
       "stream": "stdout",
       "text": [
        "\n",
        "Optimal solution found.\n",
        "340 support vectors out of 412 points\n",
        "cutting plane objective: 138.147698, primal objective 138.150373\n",
        "iteration 543\n",
        "OneSlackSSVM(C=0.1, break_on_bad=False, cache_tol=auto,\n",
        "       check_constraints=False, inactive_threshold=1e-05,\n",
        "       inactive_window=50, inference_cache=0, logger=None, max_iter=10000,\n",
        "       model=MultiLabelModel(n_states: 2, inference_method: ad3), n_jobs=1,\n",
        "       positive_constraint=None, show_loss_every=0, switch_to=None,\n",
        "       tol=1e-05, verbose=3)\n",
        "New violation: 0.961172 difference to last: 0.000022"
       ]
      },
      {
       "output_type": "stream",
       "stream": "stdout",
       "text": [
        "\n",
        "     pcost       dcost       gap    pres   dres"
       ]
      },
      {
       "output_type": "stream",
       "stream": "stdout",
       "text": [
        "\n",
        " 0: -1.3782e+02 -2.7666e+02  1e+02  6e-16  1e+00\n",
        " 1: -1.3790e+02 -1.4409e+02  6e+00  1e-15  5e-02\n",
        " 2: -1.3800e+02 -1.3949e+02  1e+00  1e-15  9e-03\n",
        " 3: -1.3810e+02 -1.3846e+02  4e-01  1e-15  7e-05"
       ]
      },
      {
       "output_type": "stream",
       "stream": "stdout",
       "text": [
        "\n",
        " 4: -1.3813e+02 -1.3824e+02  1e-01  2e-15  9e-16\n",
        " 5: -1.3814e+02 -1.3817e+02  2e-02  2e-15  9e-16\n",
        " 6: -1.3815e+02 -1.3815e+02  5e-03  2e-15  9e-16"
       ]
      },
      {
       "output_type": "stream",
       "stream": "stdout",
       "text": [
        "\n",
        " 7: -1.3815e+02 -1.3815e+02  9e-04  2e-15  9e-16\n",
        " 8: -1.3815e+02 -1.3815e+02  2e-04  2e-15  9e-16\n",
        " 9: -1.3815e+02 -1.3815e+02  8e-05  2e-15  8e-16"
       ]
      },
      {
       "output_type": "stream",
       "stream": "stdout",
       "text": [
        "\n",
        "Optimal solution found.\n",
        "341 support vectors out of 413 points\n",
        "cutting plane objective: 138.147700, primal objective 138.150473\n",
        "iteration 544\n",
        "OneSlackSSVM(C=0.1, break_on_bad=False, cache_tol=auto,\n",
        "       check_constraints=False, inactive_threshold=1e-05,\n",
        "       inactive_window=50, inference_cache=0, logger=None, max_iter=10000,\n",
        "       model=MultiLabelModel(n_states: 2, inference_method: ad3), n_jobs=1,\n",
        "       positive_constraint=None, show_loss_every=0, switch_to=None,\n",
        "       tol=1e-05, verbose=3)\n",
        "New violation: 0.961172 difference to last: 0.000022"
       ]
      },
      {
       "output_type": "stream",
       "stream": "stdout",
       "text": [
        "\n",
        "     pcost       dcost       gap    pres   dres"
       ]
      },
      {
       "output_type": "stream",
       "stream": "stdout",
       "text": [
        "\n",
        " 0: -1.3782e+02 -2.7690e+02  1e+02  3e-17  1e+00\n",
        " 1: -1.3790e+02 -1.4413e+02  6e+00  1e-15  5e-02\n",
        " 2: -1.3800e+02 -1.3951e+02  2e+00  1e-15  9e-03\n",
        " 3: -1.3809e+02 -1.3847e+02  4e-01  1e-15  3e-04"
       ]
      },
      {
       "output_type": "stream",
       "stream": "stdout",
       "text": [
        "\n",
        " 4: -1.3813e+02 -1.3824e+02  1e-01  1e-15  9e-16\n",
        " 5: -1.3814e+02 -1.3817e+02  2e-02  2e-15  8e-16"
       ]
      },
      {
       "output_type": "stream",
       "stream": "stdout",
       "text": [
        "\n",
        " 6: -1.3815e+02 -1.3815e+02  6e-03  2e-15  9e-16\n",
        " 7: -1.3815e+02 -1.3815e+02  1e-03  2e-15  9e-16\n",
        " 8: -1.3815e+02 -1.3815e+02  3e-04  2e-15  9e-16"
       ]
      },
      {
       "output_type": "stream",
       "stream": "stdout",
       "text": [
        "\n",
        " 9: -1.3815e+02 -1.3815e+02  7e-05  2e-15  9e-16\n",
        "Optimal solution found.\n",
        "340 support vectors out of 414 points\n",
        "cutting plane objective: 138.147700, primal objective 138.150393\n",
        "iteration 545\n",
        "OneSlackSSVM(C=0.1, break_on_bad=False, cache_tol=auto,\n",
        "       check_constraints=False, inactive_threshold=1e-05,\n",
        "       inactive_window=50, inference_cache=0, logger=None, max_iter=10000,\n",
        "       model=MultiLabelModel(n_states: 2, inference_method: ad3), n_jobs=1,\n",
        "       positive_constraint=None, show_loss_every=0, switch_to=None,\n",
        "       tol=1e-05, verbose=3)\n",
        "New violation: 0.961170 difference to last: 0.000021"
       ]
      },
      {
       "output_type": "stream",
       "stream": "stdout",
       "text": [
        "\n",
        "     pcost       dcost       gap    pres   dres"
       ]
      },
      {
       "output_type": "stream",
       "stream": "stdout",
       "text": [
        "\n",
        " 0: -1.3782e+02 -2.7717e+02  1e+02  1e-15  1e+00\n",
        " 1: -1.3790e+02 -1.4416e+02  6e+00  1e-15  5e-02\n",
        " 2: -1.3800e+02 -1.3953e+02  2e+00  2e-15  9e-03\n",
        " 3: -1.3809e+02 -1.3849e+02  4e-01  2e-15  5e-04"
       ]
      },
      {
       "output_type": "stream",
       "stream": "stdout",
       "text": [
        "\n",
        " 4: -1.3813e+02 -1.3824e+02  1e-01  1e-15  9e-16\n",
        " 5: -1.3814e+02 -1.3817e+02  3e-02  2e-15  8e-16\n",
        " 6: -1.3815e+02 -1.3815e+02  6e-03  2e-15  9e-16"
       ]
      },
      {
       "output_type": "stream",
       "stream": "stdout",
       "text": [
        "\n",
        " 7: -1.3815e+02 -1.3815e+02  1e-03  2e-15  9e-16\n",
        " 8: -1.3815e+02 -1.3815e+02  3e-04  2e-15  9e-16\n",
        " 9: -1.3815e+02 -1.3815e+02  7e-05  2e-15  9e-16"
       ]
      },
      {
       "output_type": "stream",
       "stream": "stdout",
       "text": [
        "\n",
        "Optimal solution found.\n",
        "341 support vectors out of 415 points\n",
        "cutting plane objective: 138.147700, primal objective 138.150354\n",
        "iteration 546\n",
        "OneSlackSSVM(C=0.1, break_on_bad=False, cache_tol=auto,\n",
        "       check_constraints=False, inactive_threshold=1e-05,\n",
        "       inactive_window=50, inference_cache=0, logger=None, max_iter=10000,\n",
        "       model=MultiLabelModel(n_states: 2, inference_method: ad3), n_jobs=1,\n",
        "       positive_constraint=None, show_loss_every=0, switch_to=None,\n",
        "       tol=1e-05, verbose=3)\n",
        "New violation: 0.961169 difference to last: 0.000021"
       ]
      },
      {
       "output_type": "stream",
       "stream": "stdout",
       "text": [
        "\n",
        "     pcost       dcost       gap    pres   dres"
       ]
      },
      {
       "output_type": "stream",
       "stream": "stdout",
       "text": [
        "\n",
        " 0: -1.3782e+02 -2.7729e+02  1e+02  7e-16  1e+00\n",
        " 1: -1.3790e+02 -1.4417e+02  6e+00  1e-15  5e-02\n",
        " 2: -1.3800e+02 -1.3954e+02  2e+00  1e-15  1e-02\n",
        " 3: -1.3809e+02 -1.3852e+02  4e-01  1e-15  8e-04"
       ]
      },
      {
       "output_type": "stream",
       "stream": "stdout",
       "text": [
        "\n",
        " 4: -1.3813e+02 -1.3824e+02  1e-01  2e-15  9e-16\n",
        " 5: -1.3814e+02 -1.3817e+02  3e-02  2e-15  9e-16\n",
        " 6: -1.3815e+02 -1.3815e+02  6e-03  2e-15  9e-16"
       ]
      },
      {
       "output_type": "stream",
       "stream": "stdout",
       "text": [
        "\n",
        " 7: -1.3815e+02 -1.3815e+02  1e-03  2e-15  9e-16\n",
        " 8: -1.3815e+02 -1.3815e+02  3e-04  2e-15  9e-16\n",
        " 9: -1.3815e+02 -1.3815e+02  7e-05  3e-15  8e-16"
       ]
      },
      {
       "output_type": "stream",
       "stream": "stdout",
       "text": [
        "\n",
        "Optimal solution found.\n",
        "342 support vectors out of 416 points\n",
        "cutting plane objective: 138.147700, primal objective 138.150272\n",
        "iteration 547\n",
        "OneSlackSSVM(C=0.1, break_on_bad=False, cache_tol=auto,\n",
        "       check_constraints=False, inactive_threshold=1e-05,\n",
        "       inactive_window=50, inference_cache=0, logger=None, max_iter=10000,\n",
        "       model=MultiLabelModel(n_states: 2, inference_method: ad3), n_jobs=1,\n",
        "       positive_constraint=None, show_loss_every=0, switch_to=None,\n",
        "       tol=1e-05, verbose=3)\n",
        "New violation: 0.961169 difference to last: 0.000020"
       ]
      },
      {
       "output_type": "stream",
       "stream": "stdout",
       "text": [
        "\n",
        "     pcost       dcost       gap    pres   dres"
       ]
      },
      {
       "output_type": "stream",
       "stream": "stdout",
       "text": [
        "\n",
        " 0: -1.3782e+02 -2.7724e+02  1e+02  5e-16  1e+00\n",
        " 1: -1.3790e+02 -1.4415e+02  6e+00  1e-15  5e-02\n",
        " 2: -1.3800e+02 -1.3953e+02  2e+00  9e-16  1e-02\n",
        " 3: -1.3809e+02 -1.3850e+02  4e-01  1e-15  6e-04"
       ]
      },
      {
       "output_type": "stream",
       "stream": "stdout",
       "text": [
        "\n",
        " 4: -1.3813e+02 -1.3824e+02  1e-01  1e-15  1e-15\n",
        " 5: -1.3814e+02 -1.3817e+02  3e-02  2e-15  8e-16"
       ]
      },
      {
       "output_type": "stream",
       "stream": "stdout",
       "text": [
        "\n",
        " 6: -1.3815e+02 -1.3815e+02  6e-03  2e-15  8e-16\n",
        " 7: -1.3815e+02 -1.3815e+02  1e-03  2e-15  9e-16"
       ]
      },
      {
       "output_type": "stream",
       "stream": "stdout",
       "text": [
        "\n",
        " 8: -1.3815e+02 -1.3815e+02  3e-04  2e-15  9e-16\n",
        " 9: -1.3815e+02 -1.3815e+02  7e-05  2e-15  9e-16"
       ]
      },
      {
       "output_type": "stream",
       "stream": "stdout",
       "text": [
        "\n",
        "Optimal solution found.\n",
        "343 support vectors out of 417 points\n",
        "cutting plane objective: 138.147700, primal objective 138.150232\n",
        "iteration 548\n",
        "OneSlackSSVM(C=0.1, break_on_bad=False, cache_tol=auto,\n",
        "       check_constraints=False, inactive_threshold=1e-05,\n",
        "       inactive_window=50, inference_cache=0, logger=None, max_iter=10000,\n",
        "       model=MultiLabelModel(n_states: 2, inference_method: ad3), n_jobs=1,\n",
        "       positive_constraint=None, show_loss_every=0, switch_to=None,\n",
        "       tol=1e-05, verbose=3)\n",
        "New violation: 0.961170 difference to last: 0.000021"
       ]
      },
      {
       "output_type": "stream",
       "stream": "stdout",
       "text": [
        "\n",
        "     pcost       dcost       gap    pres   dres"
       ]
      },
      {
       "output_type": "stream",
       "stream": "stdout",
       "text": [
        "\n",
        " 0: -1.3782e+02 -2.7719e+02  1e+02  7e-16  1e+00\n",
        " 1: -1.3790e+02 -1.4413e+02  6e+00  1e-15  5e-02\n",
        " 2: -1.3800e+02 -1.3952e+02  2e+00  1e-15  1e-02\n",
        " 3: -1.3809e+02 -1.3849e+02  4e-01  1e-15  4e-04"
       ]
      },
      {
       "output_type": "stream",
       "stream": "stdout",
       "text": [
        "\n",
        " 4: -1.3813e+02 -1.3824e+02  1e-01  2e-15  9e-16\n",
        " 5: -1.3814e+02 -1.3817e+02  3e-02  2e-15  9e-16\n",
        " 6: -1.3815e+02 -1.3815e+02  6e-03  2e-15  9e-16"
       ]
      },
      {
       "output_type": "stream",
       "stream": "stdout",
       "text": [
        "\n",
        " 7: -1.3815e+02 -1.3815e+02  1e-03  2e-15  9e-16\n",
        " 8: -1.3815e+02 -1.3815e+02  3e-04  2e-15  9e-16\n",
        " 9: -1.3815e+02 -1.3815e+02  7e-05  2e-15  9e-16"
       ]
      },
      {
       "output_type": "stream",
       "stream": "stdout",
       "text": [
        "\n",
        "Optimal solution found.\n",
        "344 support vectors out of 418 points\n",
        "cutting plane objective: 138.147701, primal objective 138.150369\n",
        "iteration 549\n",
        "OneSlackSSVM(C=0.1, break_on_bad=False, cache_tol=auto,\n",
        "       check_constraints=False, inactive_threshold=1e-05,\n",
        "       inactive_window=50, inference_cache=0, logger=None, max_iter=10000,\n",
        "       model=MultiLabelModel(n_states: 2, inference_method: ad3), n_jobs=1,\n",
        "       positive_constraint=None, show_loss_every=0, switch_to=None,\n",
        "       tol=1e-05, verbose=3)\n",
        "New violation: 0.961169 difference to last: 0.000019"
       ]
      },
      {
       "output_type": "stream",
       "stream": "stdout",
       "text": [
        "\n",
        "     pcost       dcost       gap    pres   dres"
       ]
      },
      {
       "output_type": "stream",
       "stream": "stdout",
       "text": [
        "\n",
        " 0: -1.3782e+02 -2.7713e+02  1e+02  3e-17  1e+00\n",
        " 1: -1.3790e+02 -1.4413e+02  6e+00  1e-15  5e-02\n",
        " 2: -1.3800e+02 -1.3952e+02  2e+00  1e-15  9e-03\n",
        " 3: -1.3809e+02 -1.3848e+02  4e-01  2e-15  5e-04"
       ]
      },
      {
       "output_type": "stream",
       "stream": "stdout",
       "text": [
        "\n",
        " 4: -1.3813e+02 -1.3825e+02  1e-01  2e-15  1e-15\n",
        " 5: -1.3814e+02 -1.3817e+02  3e-02  2e-15  9e-16\n",
        " 6: -1.3815e+02 -1.3815e+02  7e-03  2e-15  9e-16"
       ]
      },
      {
       "output_type": "stream",
       "stream": "stdout",
       "text": [
        "\n",
        " 7: -1.3815e+02 -1.3815e+02  1e-03  2e-15  8e-16\n",
        " 8: -1.3815e+02 -1.3815e+02  3e-04  2e-15  9e-16\n",
        " 9: -1.3815e+02 -1.3815e+02  7e-05  2e-15  8e-16"
       ]
      },
      {
       "output_type": "stream",
       "stream": "stdout",
       "text": [
        "\n",
        "Optimal solution found.\n",
        "344 support vectors out of 419 points\n",
        "cutting plane objective: 138.147702, primal objective 138.150121\n",
        "iteration 550\n",
        "OneSlackSSVM(C=0.1, break_on_bad=False, cache_tol=auto,\n",
        "       check_constraints=False, inactive_threshold=1e-05,\n",
        "       inactive_window=50, inference_cache=0, logger=None, max_iter=10000,\n",
        "       model=MultiLabelModel(n_states: 2, inference_method: ad3), n_jobs=1,\n",
        "       positive_constraint=None, show_loss_every=0, switch_to=None,\n",
        "       tol=1e-05, verbose=3)\n",
        "New violation: 0.961170 difference to last: 0.000019"
       ]
      },
      {
       "output_type": "stream",
       "stream": "stdout",
       "text": [
        "\n",
        "     pcost       dcost       gap    pres   dres"
       ]
      },
      {
       "output_type": "stream",
       "stream": "stdout",
       "text": [
        "\n",
        " 0: -1.3782e+02 -2.7700e+02  1e+02  8e-16  1e+00\n",
        " 1: -1.3790e+02 -1.4412e+02  6e+00  1e-15  5e-02\n",
        " 2: -1.3800e+02 -1.3951e+02  2e+00  1e-15  9e-03\n",
        " 3: -1.3809e+02 -1.3848e+02  4e-01  1e-15  5e-04"
       ]
      },
      {
       "output_type": "stream",
       "stream": "stdout",
       "text": [
        "\n",
        " 4: -1.3813e+02 -1.3825e+02  1e-01  2e-15  1e-15\n",
        " 5: -1.3814e+02 -1.3817e+02  3e-02  2e-15  9e-16\n",
        " 6: -1.3815e+02 -1.3815e+02  6e-03  2e-15  8e-16"
       ]
      },
      {
       "output_type": "stream",
       "stream": "stdout",
       "text": [
        "\n",
        " 7: -1.3815e+02 -1.3815e+02  1e-03  2e-15  8e-16\n",
        " 8: -1.3815e+02 -1.3815e+02  3e-04  2e-15  8e-16\n",
        " 9: -1.3815e+02 -1.3815e+02  7e-05  2e-15  8e-16"
       ]
      },
      {
       "output_type": "stream",
       "stream": "stdout",
       "text": [
        "\n",
        "Optimal solution found.\n",
        "345 support vectors out of 420 points\n",
        "cutting plane objective: 138.147702, primal objective 138.150118\n",
        "iteration 551\n",
        "OneSlackSSVM(C=0.1, break_on_bad=False, cache_tol=auto,\n",
        "       check_constraints=False, inactive_threshold=1e-05,\n",
        "       inactive_window=50, inference_cache=0, logger=None, max_iter=10000,\n",
        "       model=MultiLabelModel(n_states: 2, inference_method: ad3), n_jobs=1,\n",
        "       positive_constraint=None, show_loss_every=0, switch_to=None,\n",
        "       tol=1e-05, verbose=3)\n",
        "New violation: 0.961169 difference to last: 0.000020"
       ]
      },
      {
       "output_type": "stream",
       "stream": "stdout",
       "text": [
        "\n",
        "     pcost       dcost       gap    pres   dres"
       ]
      },
      {
       "output_type": "stream",
       "stream": "stdout",
       "text": [
        "\n",
        " 0: -1.3782e+02 -2.7681e+02  1e+02  7e-16  1e+00\n",
        " 1: -1.3790e+02 -1.4408e+02  6e+00  1e-15  5e-02\n",
        " 2: -1.3800e+02 -1.3949e+02  1e+00  1e-15  9e-03\n",
        " 3: -1.3809e+02 -1.3848e+02  4e-01  1e-15  4e-04"
       ]
      },
      {
       "output_type": "stream",
       "stream": "stdout",
       "text": [
        "\n",
        " 4: -1.3813e+02 -1.3825e+02  1e-01  2e-15  1e-15\n",
        " 5: -1.3814e+02 -1.3817e+02  3e-02  2e-15  9e-16\n",
        " 6: -1.3815e+02 -1.3815e+02  6e-03  2e-15  9e-16"
       ]
      },
      {
       "output_type": "stream",
       "stream": "stdout",
       "text": [
        "\n",
        " 7: -1.3815e+02 -1.3815e+02  1e-03  2e-15  9e-16\n",
        " 8: -1.3815e+02 -1.3815e+02  2e-04  2e-15  9e-16\n",
        " 9: -1.3815e+02 -1.3815e+02  7e-05  2e-15  9e-16"
       ]
      },
      {
       "output_type": "stream",
       "stream": "stdout",
       "text": [
        "\n",
        "Optimal solution found.\n",
        "347 support vectors out of 421 points\n",
        "cutting plane objective: 138.147701, primal objective 138.150209\n",
        "iteration 552\n",
        "OneSlackSSVM(C=0.1, break_on_bad=False, cache_tol=auto,\n",
        "       check_constraints=False, inactive_threshold=1e-05,\n",
        "       inactive_window=50, inference_cache=0, logger=None, max_iter=10000,\n",
        "       model=MultiLabelModel(n_states: 2, inference_method: ad3), n_jobs=1,\n",
        "       positive_constraint=None, show_loss_every=0, switch_to=None,\n",
        "       tol=1e-05, verbose=3)\n",
        "New violation: 0.961168 difference to last: 0.000020"
       ]
      },
      {
       "output_type": "stream",
       "stream": "stdout",
       "text": [
        "\n",
        "     pcost       dcost       gap    pres   dres"
       ]
      },
      {
       "output_type": "stream",
       "stream": "stdout",
       "text": [
        "\n",
        " 0: -1.3783e+02 -2.7673e+02  1e+02  2e-16  1e+00\n",
        " 1: -1.3790e+02 -1.4406e+02  6e+00  1e-15  5e-02\n",
        " 2: -1.3800e+02 -1.3950e+02  1e+00  1e-15  9e-03\n",
        " 3: -1.3809e+02 -1.3848e+02  4e-01  1e-15  5e-04"
       ]
      },
      {
       "output_type": "stream",
       "stream": "stdout",
       "text": [
        "\n",
        " 4: -1.3813e+02 -1.3825e+02  1e-01  2e-15  9e-16\n",
        " 5: -1.3814e+02 -1.3817e+02  3e-02  2e-15  8e-16\n",
        " 6: -1.3815e+02 -1.3815e+02  6e-03  2e-15  9e-16"
       ]
      },
      {
       "output_type": "stream",
       "stream": "stdout",
       "text": [
        "\n",
        " 7: -1.3815e+02 -1.3815e+02  1e-03  2e-15  8e-16\n",
        " 8: -1.3815e+02 -1.3815e+02  3e-04  2e-15  9e-16\n",
        " 9: -1.3815e+02 -1.3815e+02  7e-05  2e-15  9e-16"
       ]
      },
      {
       "output_type": "stream",
       "stream": "stdout",
       "text": [
        "\n",
        "Optimal solution found.\n",
        "348 support vectors out of 422 points\n",
        "cutting plane objective: 138.147701, primal objective 138.150189\n",
        "iteration 553\n",
        "OneSlackSSVM(C=0.1, break_on_bad=False, cache_tol=auto,\n",
        "       check_constraints=False, inactive_threshold=1e-05,\n",
        "       inactive_window=50, inference_cache=0, logger=None, max_iter=10000,\n",
        "       model=MultiLabelModel(n_states: 2, inference_method: ad3), n_jobs=1,\n",
        "       positive_constraint=None, show_loss_every=0, switch_to=None,\n",
        "       tol=1e-05, verbose=3)\n",
        "New violation: 0.961166 difference to last: 0.000020"
       ]
      },
      {
       "output_type": "stream",
       "stream": "stdout",
       "text": [
        "\n",
        "     pcost       dcost       gap    pres   dres"
       ]
      },
      {
       "output_type": "stream",
       "stream": "stdout",
       "text": [
        "\n",
        " 0: -1.3782e+02 -2.7687e+02  1e+02  5e-16  1e+00\n",
        " 1: -1.3790e+02 -1.4411e+02  6e+00  1e-15  5e-02\n",
        " 2: -1.3800e+02 -1.3951e+02  2e+00  1e-15  9e-03\n",
        " 3: -1.3809e+02 -1.3850e+02  4e-01  1e-15  7e-04"
       ]
      },
      {
       "output_type": "stream",
       "stream": "stdout",
       "text": [
        "\n",
        " 4: -1.3813e+02 -1.3825e+02  1e-01  2e-15  9e-16\n",
        " 5: -1.3814e+02 -1.3817e+02  3e-02  2e-15  8e-16\n",
        " 6: -1.3815e+02 -1.3815e+02  7e-03  2e-15  9e-16"
       ]
      },
      {
       "output_type": "stream",
       "stream": "stdout",
       "text": [
        "\n",
        " 7: -1.3815e+02 -1.3815e+02  1e-03  2e-15  9e-16\n",
        " 8: -1.3815e+02 -1.3815e+02  3e-04  2e-15  8e-16\n",
        " 9: -1.3815e+02 -1.3815e+02  7e-05  2e-15  8e-16"
       ]
      },
      {
       "output_type": "stream",
       "stream": "stdout",
       "text": [
        "\n",
        "Optimal solution found.\n",
        "349 support vectors out of 423 points\n",
        "cutting plane objective: 138.147701, primal objective 138.150178\n",
        "iteration 554\n",
        "OneSlackSSVM(C=0.1, break_on_bad=False, cache_tol=auto,\n",
        "       check_constraints=False, inactive_threshold=1e-05,\n",
        "       inactive_window=50, inference_cache=0, logger=None, max_iter=10000,\n",
        "       model=MultiLabelModel(n_states: 2, inference_method: ad3), n_jobs=1,\n",
        "       positive_constraint=None, show_loss_every=0, switch_to=None,\n",
        "       tol=1e-05, verbose=3)\n",
        "New violation: 0.961165 difference to last: 0.000019"
       ]
      },
      {
       "output_type": "stream",
       "stream": "stdout",
       "text": [
        "\n",
        "     pcost       dcost       gap    pres   dres"
       ]
      },
      {
       "output_type": "stream",
       "stream": "stdout",
       "text": [
        "\n",
        " 0: -1.3782e+02 -2.7702e+02  1e+02  3e-16  1e+00\n",
        " 1: -1.3790e+02 -1.4416e+02  6e+00  1e-15  5e-02\n",
        " 2: -1.3800e+02 -1.3952e+02  2e+00  1e-15  1e-02\n",
        " 3: -1.3809e+02 -1.3851e+02  4e-01  1e-15  8e-04"
       ]
      },
      {
       "output_type": "stream",
       "stream": "stdout",
       "text": [
        "\n",
        " 4: -1.3813e+02 -1.3825e+02  1e-01  1e-15  9e-16\n",
        " 5: -1.3814e+02 -1.3817e+02  3e-02  2e-15  9e-16\n",
        " 6: -1.3815e+02 -1.3815e+02  7e-03  2e-15  9e-16"
       ]
      },
      {
       "output_type": "stream",
       "stream": "stdout",
       "text": [
        "\n",
        " 7: -1.3815e+02 -1.3815e+02  1e-03  2e-15  9e-16\n",
        " 8: -1.3815e+02 -1.3815e+02  3e-04  2e-15  9e-16\n",
        " 9: -1.3815e+02 -1.3815e+02  8e-05  2e-15  8e-16"
       ]
      },
      {
       "output_type": "stream",
       "stream": "stdout",
       "text": [
        "\n",
        "Optimal solution found.\n",
        "350 support vectors out of 424 points\n",
        "cutting plane objective: 138.147700, primal objective 138.150087\n",
        "iteration 555\n",
        "OneSlackSSVM(C=0.1, break_on_bad=False, cache_tol=auto,\n",
        "       check_constraints=False, inactive_threshold=1e-05,\n",
        "       inactive_window=50, inference_cache=0, logger=None, max_iter=10000,\n",
        "       model=MultiLabelModel(n_states: 2, inference_method: ad3), n_jobs=1,\n",
        "       positive_constraint=None, show_loss_every=0, switch_to=None,\n",
        "       tol=1e-05, verbose=3)\n",
        "New violation: 0.961144 difference to last: -0.000001"
       ]
      },
      {
       "output_type": "stream",
       "stream": "stdout",
       "text": [
        "\n",
        "new constraint too weak.\n",
        "no additional constraints\n",
        "calls to inference: 673316\n",
        "final primal objective: 138.147601 gap: -0.000100"
       ]
      },
      {
       "output_type": "stream",
       "stream": "stdout",
       "text": [
        "\n"
       ]
      },
      {
       "output_type": "pyout",
       "prompt_number": 73,
       "text": [
        "OneSlackSSVM(C=0.1, break_on_bad=False, cache_tol='auto',\n",
        "       check_constraints=False, inactive_threshold=1e-05,\n",
        "       inactive_window=50, inference_cache=0, logger=None, max_iter=10000,\n",
        "       model=MultiLabelModel(n_states: 2, inference_method: ad3), n_jobs=1,\n",
        "       positive_constraint=None, show_loss_every=0, switch_to=None,\n",
        "       tol=1e-05, verbose=3)"
       ]
      }
     ],
     "prompt_number": 73
    },
    {
     "cell_type": "code",
     "collapsed": false,
     "input": [
      "hamming_loss(y_test, clf.predict(X_test))"
     ],
     "language": "python",
     "metadata": {},
     "outputs": [
      {
       "output_type": "pyout",
       "prompt_number": 74,
       "text": [
        "0.11231884057971014"
       ]
      }
     ],
     "prompt_number": 74
    },
    {
     "cell_type": "code",
     "collapsed": false,
     "input": [
      "ssvm.predict(X_test)"
     ],
     "language": "python",
     "metadata": {},
     "outputs": [
      {
       "ename": "ValueError",
       "evalue": "Expected pairwise_params either to be of shape n_states x n_states or n_edges x n_states x n_states, but got shape (0, 2, 2)",
       "output_type": "pyerr",
       "traceback": [
        "\u001b[1;31m---------------------------------------------------------------------------\u001b[0m\n\u001b[1;31mValueError\u001b[0m                                Traceback (most recent call last)",
        "\u001b[1;32m<ipython-input-76-349924249963>\u001b[0m in \u001b[0;36m<module>\u001b[1;34m()\u001b[0m\n\u001b[1;32m----> 1\u001b[1;33m \u001b[0mssvm\u001b[0m\u001b[1;33m.\u001b[0m\u001b[0mpredict\u001b[0m\u001b[1;33m(\u001b[0m\u001b[0mX_test\u001b[0m\u001b[1;33m)\u001b[0m\u001b[1;33m\u001b[0m\u001b[0m\n\u001b[0m",
        "\u001b[1;32m/home/local/lamueller/checkout/pystruct/pystruct/learners/ssvm.pyc\u001b[0m in \u001b[0;36mpredict\u001b[1;34m(self, X)\u001b[0m\n\u001b[0;32m     38\u001b[0m         \u001b[1;32melse\u001b[0m\u001b[1;33m:\u001b[0m\u001b[1;33m\u001b[0m\u001b[0m\n\u001b[0;32m     39\u001b[0m             \u001b[1;32mif\u001b[0m \u001b[0mhasattr\u001b[0m\u001b[1;33m(\u001b[0m\u001b[0mself\u001b[0m\u001b[1;33m.\u001b[0m\u001b[0mmodel\u001b[0m\u001b[1;33m,\u001b[0m \u001b[1;34m'batch_inference'\u001b[0m\u001b[1;33m)\u001b[0m\u001b[1;33m:\u001b[0m\u001b[1;33m\u001b[0m\u001b[0m\n\u001b[1;32m---> 40\u001b[1;33m                 \u001b[1;32mreturn\u001b[0m \u001b[0mself\u001b[0m\u001b[1;33m.\u001b[0m\u001b[0mmodel\u001b[0m\u001b[1;33m.\u001b[0m\u001b[0mbatch_inference\u001b[0m\u001b[1;33m(\u001b[0m\u001b[0mX\u001b[0m\u001b[1;33m,\u001b[0m \u001b[0mself\u001b[0m\u001b[1;33m.\u001b[0m\u001b[0mw\u001b[0m\u001b[1;33m)\u001b[0m\u001b[1;33m\u001b[0m\u001b[0m\n\u001b[0m\u001b[0;32m     41\u001b[0m             \u001b[1;32mreturn\u001b[0m \u001b[1;33m[\u001b[0m\u001b[0mself\u001b[0m\u001b[1;33m.\u001b[0m\u001b[0mmodel\u001b[0m\u001b[1;33m.\u001b[0m\u001b[0minference\u001b[0m\u001b[1;33m(\u001b[0m\u001b[0mx\u001b[0m\u001b[1;33m,\u001b[0m \u001b[0mself\u001b[0m\u001b[1;33m.\u001b[0m\u001b[0mw\u001b[0m\u001b[1;33m)\u001b[0m \u001b[1;32mfor\u001b[0m \u001b[0mx\u001b[0m \u001b[1;32min\u001b[0m \u001b[0mX\u001b[0m\u001b[1;33m]\u001b[0m\u001b[1;33m\u001b[0m\u001b[0m\n\u001b[0;32m     42\u001b[0m \u001b[1;33m\u001b[0m\u001b[0m\n",
        "\u001b[1;32m/home/local/lamueller/checkout/pystruct/pystruct/models/base.pyc\u001b[0m in \u001b[0;36mbatch_inference\u001b[1;34m(self, X, w, relaxed)\u001b[0m\n\u001b[0;32m     53\u001b[0m         \u001b[1;31m# default implementation of batch inference\u001b[0m\u001b[1;33m\u001b[0m\u001b[1;33m\u001b[0m\u001b[0m\n\u001b[0;32m     54\u001b[0m         return [self.inference(x, w, relaxed=relaxed)\n\u001b[1;32m---> 55\u001b[1;33m                 for x in X]\n\u001b[0m\u001b[0;32m     56\u001b[0m \u001b[1;33m\u001b[0m\u001b[0m\n\u001b[0;32m     57\u001b[0m     \u001b[1;32mdef\u001b[0m \u001b[0mloss\u001b[0m\u001b[1;33m(\u001b[0m\u001b[0mself\u001b[0m\u001b[1;33m,\u001b[0m \u001b[0my\u001b[0m\u001b[1;33m,\u001b[0m \u001b[0my_hat\u001b[0m\u001b[1;33m)\u001b[0m\u001b[1;33m:\u001b[0m\u001b[1;33m\u001b[0m\u001b[0m\n",
        "\u001b[1;32m/home/local/lamueller/checkout/pystruct/pystruct/models/crf.pyc\u001b[0m in \u001b[0;36minference\u001b[1;34m(self, x, w, relaxed, return_energy)\u001b[0m\n\u001b[0;32m    161\u001b[0m         return inference_dispatch(unary_potentials, pairwise_potentials, edges,\n\u001b[0;32m    162\u001b[0m                                   \u001b[0mself\u001b[0m\u001b[1;33m.\u001b[0m\u001b[0minference_method\u001b[0m\u001b[1;33m,\u001b[0m \u001b[0mrelaxed\u001b[0m\u001b[1;33m=\u001b[0m\u001b[0mrelaxed\u001b[0m\u001b[1;33m,\u001b[0m\u001b[1;33m\u001b[0m\u001b[0m\n\u001b[1;32m--> 163\u001b[1;33m                                   return_energy=return_energy)\n\u001b[0m",
        "\u001b[1;32m/home/local/lamueller/checkout/pystruct/pystruct/inference/inference_methods.pyc\u001b[0m in \u001b[0;36minference_dispatch\u001b[1;34m(unary_potentials, pairwise_potentials, edges, inference_method, return_energy, **kwargs)\u001b[0m\n\u001b[0;32m    115\u001b[0m     \u001b[1;32melif\u001b[0m \u001b[0minference_method\u001b[0m \u001b[1;33m==\u001b[0m \u001b[1;34m\"ad3\"\u001b[0m\u001b[1;33m:\u001b[0m\u001b[1;33m\u001b[0m\u001b[0m\n\u001b[0;32m    116\u001b[0m         return inference_ad3(unary_potentials, pairwise_potentials, edges,\n\u001b[1;32m--> 117\u001b[1;33m                              return_energy=return_energy, **kwargs)\n\u001b[0m\u001b[0;32m    118\u001b[0m     \u001b[1;32melif\u001b[0m \u001b[0minference_method\u001b[0m \u001b[1;33m==\u001b[0m \u001b[1;34m\"ogm\"\u001b[0m\u001b[1;33m:\u001b[0m\u001b[1;33m\u001b[0m\u001b[0m\n\u001b[0;32m    119\u001b[0m         return inference_ogm(unary_potentials, pairwise_potentials, edges,\n",
        "\u001b[1;32m/home/local/lamueller/checkout/pystruct/pystruct/inference/inference_methods.pyc\u001b[0m in \u001b[0;36minference_ad3\u001b[1;34m(unary_potentials, pairwise_potentials, edges, relaxed, verbose, return_energy, branch_and_bound)\u001b[0m\n\u001b[0;32m    396\u001b[0m     \u001b[1;32mimport\u001b[0m \u001b[0mad3\u001b[0m\u001b[1;33m\u001b[0m\u001b[0m\n\u001b[0;32m    397\u001b[0m     \u001b[0mn_states\u001b[0m\u001b[1;33m,\u001b[0m \u001b[0mpairwise_potentials\u001b[0m \u001b[1;33m=\u001b[0m\u001b[0;31m \u001b[0m\u001b[0;31m\\\u001b[0m\u001b[1;33m\u001b[0m\u001b[0m\n\u001b[1;32m--> 398\u001b[1;33m         \u001b[0m_validate_params\u001b[0m\u001b[1;33m(\u001b[0m\u001b[0munary_potentials\u001b[0m\u001b[1;33m,\u001b[0m \u001b[0mpairwise_potentials\u001b[0m\u001b[1;33m,\u001b[0m \u001b[0medges\u001b[0m\u001b[1;33m)\u001b[0m\u001b[1;33m\u001b[0m\u001b[0m\n\u001b[0m\u001b[0;32m    399\u001b[0m \u001b[1;33m\u001b[0m\u001b[0m\n\u001b[0;32m    400\u001b[0m     \u001b[0munaries\u001b[0m \u001b[1;33m=\u001b[0m \u001b[0munary_potentials\u001b[0m\u001b[1;33m.\u001b[0m\u001b[0mreshape\u001b[0m\u001b[1;33m(\u001b[0m\u001b[1;33m-\u001b[0m\u001b[1;36m1\u001b[0m\u001b[1;33m,\u001b[0m \u001b[0mn_states\u001b[0m\u001b[1;33m)\u001b[0m\u001b[1;33m\u001b[0m\u001b[0m\n",
        "\u001b[1;32m/home/local/lamueller/checkout/pystruct/pystruct/inference/inference_methods.pyc\u001b[0m in \u001b[0;36m_validate_params\u001b[1;34m(unary_potentials, pairwise_params, edges)\u001b[0m\n\u001b[0;32m    138\u001b[0m                              \u001b[1;34m\"be of shape n_states x n_states \"\u001b[0m\u001b[1;33m\u001b[0m\u001b[0m\n\u001b[0;32m    139\u001b[0m                              \u001b[1;34m\"or n_edges x n_states x n_states, but\"\u001b[0m\u001b[1;33m\u001b[0m\u001b[0m\n\u001b[1;32m--> 140\u001b[1;33m                              \" got shape %s\" % repr(pairwise_params.shape))\n\u001b[0m\u001b[0;32m    141\u001b[0m         \u001b[0mpairwise_potentials\u001b[0m \u001b[1;33m=\u001b[0m \u001b[0mpairwise_params\u001b[0m\u001b[1;33m\u001b[0m\u001b[0m\n\u001b[0;32m    142\u001b[0m     \u001b[1;32mreturn\u001b[0m \u001b[0mn_states\u001b[0m\u001b[1;33m,\u001b[0m \u001b[0mpairwise_potentials\u001b[0m\u001b[1;33m\u001b[0m\u001b[0m\n",
        "\u001b[1;31mValueError\u001b[0m: Expected pairwise_params either to be of shape n_states x n_states or n_edges x n_states x n_states, but got shape (0, 2, 2)"
       ]
      }
     ],
     "prompt_number": 76
    },
    {
     "cell_type": "code",
     "collapsed": false,
     "input": [],
     "language": "python",
     "metadata": {},
     "outputs": []
    }
   ],
   "metadata": {}
  }
 ]
}