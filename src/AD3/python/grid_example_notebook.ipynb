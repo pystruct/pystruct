{
 "metadata": {
  "name": "testing ad3 cython bindings"
 },
 "nbformat": 3,
 "nbformat_minor": 0,
 "worksheets": [
  {
   "cells": [
    {
     "cell_type": "heading",
     "level": 2,
     "metadata": {},
     "source": [
      "A simple grid MRF with Potts potentials in AD3"
     ]
    },
    {
     "cell_type": "code",
     "collapsed": false,
     "input": [
      "import itertools\n",
      "import ad3"
     ],
     "language": "python",
     "metadata": {},
     "outputs": [],
     "prompt_number": 1
    },
    {
     "cell_type": "raw",
     "metadata": {},
     "source": [
      "Set parameters of the model"
     ]
    },
    {
     "cell_type": "code",
     "collapsed": false,
     "input": [
      "grid_size = 20\n",
      "num_states = 5"
     ],
     "language": "python",
     "metadata": {},
     "outputs": []
    },
    {
     "cell_type": "raw",
     "metadata": {},
     "source": [
      "Create a factor graph"
     ]
    },
    {
     "cell_type": "code",
     "collapsed": false,
     "input": [
      "factor_graph = ad3.PFactorGraph()"
     ],
     "language": "python",
     "metadata": {},
     "outputs": [],
     "prompt_number": 3
    },
    {
     "cell_type": "raw",
     "metadata": {},
     "source": [
      "Create variables lying on a grid with random potentials."
     ]
    },
    {
     "cell_type": "code",
     "collapsed": false,
     "input": [
      "multi_variables = []\n",
      "random_grid = np.random.uniform(size=(grid_size, grid_size, num_states))\n",
      "for i in xrange(grid_size):\n",
      "    multi_variables.append([])\n",
      "    for j in xrange(grid_size):\n",
      "        new_variable = factor_graph.create_multi_variable(num_states)\n",
      "        for state in xrange(num_states):\n",
      "            new_variable.set_log_potential(state, random_grid[i, j, state])\n",
      "        multi_variables[i].append(new_variable)\n",
      "        "
     ],
     "language": "python",
     "metadata": {},
     "outputs": [],
     "prompt_number": 4
    },
    {
     "cell_type": "raw",
     "metadata": {},
     "source": [
      "Create potts potentials for edges."
     ]
    },
    {
     "cell_type": "code",
     "collapsed": false,
     "input": [
      "alpha = .5\n",
      "potts_matrix = alpha * np.eye(num_states)\n",
      "potts_potentials = potts_matrix.ravel().tolist()"
     ],
     "language": "python",
     "metadata": {},
     "outputs": [],
     "prompt_number": 5
    },
    {
     "cell_type": "raw",
     "metadata": {},
     "source": [
      "Create factors for edges from potts potentials"
     ]
    },
    {
     "cell_type": "code",
     "collapsed": false,
     "input": [
      "for i, j in itertools.product(xrange(grid_size), repeat=2):\n",
      "    if (j > 0):\n",
      "        #horizontal edge\n",
      "        edge_variables = [multi_variables[i][j - 1], multi_variables[i][j]]\n",
      "        factor_graph.create_factor_dense(edge_variables, potts_potentials)\n",
      "    \n",
      "    if (i > 0):\n",
      "        #horizontal edge\n",
      "        edge_variables = [multi_variables[i - 1][j], multi_variables[i][j]]\n",
      "        factor_graph.create_factor_dense(edge_variables, potts_potentials)\n",
      "    "
     ],
     "language": "python",
     "metadata": {},
     "outputs": [],
     "prompt_number": 6
    },
    {
     "cell_type": "raw",
     "metadata": {},
     "source": [
      "Set model parameters and compute the map using AD3"
     ]
    },
    {
     "cell_type": "code",
     "collapsed": false,
     "input": [
      "factor_graph.set_eta_ad3(.1)\n",
      "factor_graph.adapt_eta_ad3(True)\n",
      "factor_graph.set_max_iterations_ad3(1000)\n",
      "value, marginals, edge_marginals = factor_graph.solve_lp_map_ad3()"
     ],
     "language": "python",
     "metadata": {},
     "outputs": [],
     "prompt_number": 7
    },
    {
     "cell_type": "raw",
     "metadata": {},
     "source": [
      "Visualize resulting MAP"
     ]
    },
    {
     "cell_type": "code",
     "collapsed": false,
     "input": [
      "res = np.array(marginals).reshape(20, 20, 5)\n",
      "plt.matshow(np.argmax(random_grid, axis=-1), vmin=0, vmax=4)\n",
      "plt.matshow(np.argmax(res, axis=-1), vmin=0, vmax=4)"
     ],
     "language": "python",
     "metadata": {},
     "outputs": [
      {
       "output_type": "pyout",
       "prompt_number": 13,
       "text": [
        "<matplotlib.image.AxesImage at 0xb159d2c>"
       ]
      },
      {
       "output_type": "display_data",
       "png": "[encoded data removed]"
      },
      {
       "output_type": "display_data",
       "png": "[encoded data removed]"
      }
     ],
     "prompt_number": 13
    },
    {
     "cell_type": "code",
     "collapsed": false,
     "input": [],
     "language": "python",
     "metadata": {},
     "outputs": [],
     "prompt_number": 8
    },
    {
     "cell_type": "code",
     "collapsed": false,
     "input": [],
     "language": "python",
     "metadata": {},
     "outputs": [],
     "prompt_number": 8
    },
    {
     "cell_type": "code",
     "collapsed": false,
     "input": [],
     "language": "python",
     "metadata": {},
     "outputs": [],
     "prompt_number": 8
    }
   ],
   "metadata": {}
  }
 ]
}